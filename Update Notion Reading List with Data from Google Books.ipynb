{
 "cells": [
  {
   "cell_type": "markdown",
   "id": "46a7ab35",
   "metadata": {},
   "source": [
    "Created Date : December 2021 <br>\n",
    "Written By : [Deepa Goyal](https://www.linkedin.com/in/deepag/)"
   ]
  },
  {
   "cell_type": "markdown",
   "id": "cb15aeb9",
   "metadata": {},
   "source": [
    "# Updating Books Info on Notion using Google Books API\n",
    "\n",
    "https://developers.notion.com/\n",
    "\n",
    "https://towardsdatascience.com/productivity-tracking-with-the-notion-api-and-python-f5f866fe11d8"
   ]
  },
  {
   "cell_type": "markdown",
   "id": "f7323d20",
   "metadata": {},
   "source": [
    "Notion provides a very thorough [reading list template](https://www.notion.so/templates/notion-reading-list) that once i started using, I go hooked to. I have been reviewing my reading list. As the list of my finished books grew, I kept adding more to my list. I also enjoy using this template to take notes from the books that I’m reading. Having it all in one place has allowed me to revisit them more often than I used to.\n",
    "\n",
    "<img src=\"https://i.ibb.co/F3PFTdw/Brand-building-blog-images.png\" alt=\"Brand-building-blog-images\" border=\"0\">\n",
    "\n",
    "The view on Notion’s template gallery looks neat with images and titles. It has the classic iTunes library look that I find just perfect.\n",
    "\n",
    "<img src=\"https://i.ibb.co/1vdbbJP/screencapture-notion-so-Reading-List-14918425560f4ec5b303314a29eb53e1-2021-12-30-11-51-48.png\" alt=\"screencapture-notion-so-Reading-List-14918425560f4ec5b303314a29eb53e1-2021-12-30-11-51-48\" border=\"0\">\n",
    "\n",
    "But then I looked at my Reading List, I didn’t have any images unless I was manually uploading them. Ugh!\n",
    "\n",
    "<a href=\"https://ibb.co/KmfHTnW\"><img src=\"https://i.ibb.co/qxcwT6p/Screen-Shot-2021-12-30-at-12-01-16-PM.png\" alt=\"Screen-Shot-2021-12-30-at-12-01-16-PM\" border=\"0\"></a>\n",
    "\n",
    "To get to the aesthetically pleasing view I would have to do much more **data entry work** which isn’t something I’m excited about. So I decided to write a python script to do it for me.\n",
    "\n",
    "As I started looking into it, I found out that [Goodreads API](https://www.goodreads.com/api) has been deprecated as of December 2020, which is a shame because I have seen a few good projects people have done using those. The only other free books API I could find was Google books API."
   ]
  },
  {
   "cell_type": "markdown",
   "id": "51ec8c3b",
   "metadata": {},
   "source": [
    "Here in project you would see the code that ultimately made my Reading list look like a Book shelf.\n",
    "\n",
    "<img src=\"https://i.ibb.co/dkqj9Nk/Screen-Shot-2021-12-30-at-12-18-25-PM.png\" alt=\"Screen-Shot-2021-12-30-at-12-18-25-PM\" border=\"0\">\n",
    "\n",
    "Google’s API was fairly straight forward to use. But I was quite surprised that of all the data it provides, it doesn’t have a link to the google books page for the given book."
   ]
  },
  {
   "cell_type": "markdown",
   "id": "d53c2ab9",
   "metadata": {},
   "source": [
    "## Getting started with the Notion API\n",
    "\n",
    "1. Finding the Database ID and Page ID - This is pretty deep in the page, but very important to get started. The database ID is 32 character alphanumeric part of your URL to the database.\n",
    "\n",
    "<img src=\"https://i.ibb.co/3zjKJ3Z/Screen-Shot-2021-12-30-at-12-30-09-PM.png\" alt=\"Screen-Shot-2021-12-30-at-12-30-09-PM\" border=\"0\">\n",
    "\n",
    "1. Sharing the page you want your App to access with the App - Notion API’s get started page has a good guide with gifs showing how to create an App, share your page with the app to get started. I somehow missed this page at first and found some posts on stack overflow where other people had too. So don’t forget to share your page with the app.\n",
    "2. Query database vs Retrive database - I struggled with Retrieve database endpoint trying to parse the data but it was not complete and parsing it was too many steps. Query database endpoint was much more useful for and intuitive.\n",
    "3. Dealing with datatypes of the properties - The data is nested too deep and to update it, you have to build the vocabulary for it."
   ]
  },
  {
   "cell_type": "markdown",
   "id": "f3bb2160",
   "metadata": {},
   "source": [
    "I had tremendous fun doing this project. The only thing I wish for was if Notion provided a way to import this Jupyter notebook into a notion page so that I could do all my work here and publish it as a blog using notion. When i tried to import this page as HTML, i had to do a lot of manual edits in notion, when i imported it as markdown, code wasn't imported or formatted properly."
   ]
  },
  {
   "cell_type": "code",
   "execution_count": 1,
   "id": "b28b963c",
   "metadata": {},
   "outputs": [],
   "source": [
    "import pandas as pd\n",
    "import requests\n",
    "import json\n",
    "import math"
   ]
  },
  {
   "cell_type": "markdown",
   "id": "11db8f6f",
   "metadata": {},
   "source": [
    "### Google Books Api search based on search term"
   ]
  },
  {
   "cell_type": "code",
   "execution_count": 2,
   "id": "fe2c3db3",
   "metadata": {},
   "outputs": [],
   "source": [
    "# google search for the book using google books API\n",
    "def google_book_search(search_terms):\n",
    "    url = 'https://www.googleapis.com/books/v1/volumes?q='\n",
    "    response = requests.get(url+search_terms, verify=False)\n",
    "    # load data using Python JSON module\n",
    "    r = response.content\n",
    "    data = json.loads(r)\n",
    "    # Normalizing data\n",
    "    df = pd.json_normalize(data, record_path=['items'])\n",
    "    first_row = df.iloc[0]\n",
    "    first_row_df = df.iloc[:1]\n",
    "    first_row_df['search_term'] = search_terms\n",
    "    return first_row_df"
   ]
  },
  {
   "cell_type": "markdown",
   "id": "86d5a655",
   "metadata": {},
   "source": [
    "### Parameters"
   ]
  },
  {
   "cell_type": "code",
   "execution_count": 10,
   "id": "741f5e15",
   "metadata": {},
   "outputs": [],
   "source": [
    "secret_key = 'secret_9fpBgL5ksvA2BaSAHEiW6GFgF2nDCTBlVw2C1n5mHlU'\n",
    "database_id = '1b71653e363148e0b2ba399638473ced'"
   ]
  },
  {
   "cell_type": "markdown",
   "id": "36fbd950",
   "metadata": {},
   "source": [
    "### Query database"
   ]
  },
  {
   "cell_type": "code",
   "execution_count": 11,
   "id": "5383ff7b",
   "metadata": {},
   "outputs": [],
   "source": [
    "def query_databases(secret_key, database_id):\n",
    "    url = \"https://api.notion.com/v1/databases/\"+database_id+'/query'\n",
    "    # print(url)\n",
    "\n",
    "    payload = {'id': database_id}\n",
    "    headers = {\n",
    "        'Notion-Version': '2021-05-13',\n",
    "        # \"Content-Type\": \"application/json\",\n",
    "        'Authorization': 'Bearer '+secret_key\n",
    "    }\n",
    "\n",
    "    response = requests.request(\n",
    "        \"POST\", url, headers=headers, data=payload, verify=False)\n",
    "    print(f\"The response code is {response.status_code}\")\n",
    "    if response.status_code != 200:\n",
    "        raise Exception(response.status_code, response.text)\n",
    "    else:\n",
    "        return response.json()"
   ]
  },
  {
   "cell_type": "markdown",
   "id": "5efadf33",
   "metadata": {},
   "source": [
    "### Get data from Reading List"
   ]
  },
  {
   "cell_type": "code",
   "execution_count": 12,
   "id": "bf1b166f",
   "metadata": {},
   "outputs": [
    {
     "name": "stderr",
     "output_type": "stream",
     "text": [
      "/Users/christian/Projects/Notion-Bookshelf/.venv/lib/python3.10/site-packages/urllib3/connectionpool.py:1099: InsecureRequestWarning: Unverified HTTPS request is being made to host 'api.notion.com'. Adding certificate verification is strongly advised. See: https://urllib3.readthedocs.io/en/latest/advanced-usage.html#tls-warnings\n",
      "  warnings.warn(\n"
     ]
    },
    {
     "name": "stdout",
     "output_type": "stream",
     "text": [
      "The response code is 200\n"
     ]
    },
    {
     "data": {
      "text/plain": [
       "{'object': 'list',\n",
       " 'results': [{'object': 'page',\n",
       "   'id': '8ae970fc-c503-4b6c-a551-eee7e434b2b4',\n",
       "   'created_time': '2024-08-12T17:00:00.000Z',\n",
       "   'last_edited_time': '2024-08-12T17:00:00.000Z',\n",
       "   'created_by': {'object': 'user',\n",
       "    'id': '074559e7-8c13-4b7a-899e-4012f06d6320'},\n",
       "   'last_edited_by': {'object': 'user',\n",
       "    'id': '074559e7-8c13-4b7a-899e-4012f06d6320'},\n",
       "   'cover': None,\n",
       "   'icon': {'type': 'external',\n",
       "    'external': {'url': 'https://www.notion.so/icons/book-closed_gray.svg'}},\n",
       "   'parent': {'type': 'database_id',\n",
       "    'database_id': '1b71653e-3631-48e0-b2ba-399638473ced'},\n",
       "   'archived': False,\n",
       "   'in_trash': False,\n",
       "   'properties': {'Category': {'id': '/7eo',\n",
       "     'type': 'select',\n",
       "     'select': {'id': 'r\\\\pO', 'name': 'Fiction', 'color': 'default'}},\n",
       "    'Summary': {'id': '?\\\\25', 'type': 'rich_text', 'rich_text': []},\n",
       "    'Current page': {'id': 'QK`M', 'type': 'number', 'number': 20},\n",
       "    'Total pages': {'id': '\\\\?}w', 'type': 'number', 'number': 920},\n",
       "    'Date started': {'id': 'evL[',\n",
       "     'type': 'date',\n",
       "     'date': {'start': '2024-08-11', 'end': None, 'time_zone': None}},\n",
       "    'Progress': {'id': 'nviz',\n",
       "     'type': 'formula',\n",
       "     'formula': {'type': 'number', 'number': 0.02}},\n",
       "    'Author': {'id': 'qNw_',\n",
       "     'type': 'rich_text',\n",
       "     'rich_text': [{'type': 'text',\n",
       "       'text': {'content': 'Herman Melville', 'link': None},\n",
       "       'annotations': {'bold': False,\n",
       "        'italic': False,\n",
       "        'strikethrough': False,\n",
       "        'underline': False,\n",
       "        'code': False,\n",
       "        'color': 'default'},\n",
       "       'plain_text': 'Herman Melville',\n",
       "       'href': None}]},\n",
       "    'Status': {'id': 'qRc\\\\',\n",
       "     'type': 'status',\n",
       "     'status': {'id': 'e550e71c-9f29-4310-ade5-42e81eea7e59',\n",
       "      'name': 'in progress',\n",
       "      'color': 'blue'}},\n",
       "    'Title': {'id': 'title',\n",
       "     'type': 'title',\n",
       "     'title': [{'type': 'text',\n",
       "       'text': {'content': 'Moby Dick', 'link': None},\n",
       "       'annotations': {'bold': False,\n",
       "        'italic': False,\n",
       "        'strikethrough': False,\n",
       "        'underline': False,\n",
       "        'code': False,\n",
       "        'color': 'default'},\n",
       "       'plain_text': 'Moby Dick',\n",
       "       'href': None}]}},\n",
       "   'url': 'https://www.notion.so/Moby-Dick-8ae970fcc5034b6ca551eee7e434b2b4',\n",
       "   'public_url': None},\n",
       "  {'object': 'page',\n",
       "   'id': '36a8bcd3-66d6-4786-b768-eb2509ff3e6f',\n",
       "   'created_time': '2024-08-12T16:58:00.000Z',\n",
       "   'last_edited_time': '2024-08-12T16:59:00.000Z',\n",
       "   'created_by': {'object': 'user',\n",
       "    'id': '074559e7-8c13-4b7a-899e-4012f06d6320'},\n",
       "   'last_edited_by': {'object': 'user',\n",
       "    'id': '074559e7-8c13-4b7a-899e-4012f06d6320'},\n",
       "   'cover': None,\n",
       "   'icon': None,\n",
       "   'parent': {'type': 'database_id',\n",
       "    'database_id': '1b71653e-3631-48e0-b2ba-399638473ced'},\n",
       "   'archived': False,\n",
       "   'in_trash': False,\n",
       "   'properties': {'Category': {'id': '/7eo',\n",
       "     'type': 'select',\n",
       "     'select': {'id': 'r\\\\pO', 'name': 'Fiction', 'color': 'default'}},\n",
       "    'Summary': {'id': '?\\\\25', 'type': 'rich_text', 'rich_text': []},\n",
       "    'cover': {'id': 'Urz>',\n",
       "     'type': 'url',\n",
       "     'url': 'http://books.google.com/books/content?id=uiiVDwAAQBAJ&printsec=frontcover&img=1&zoom=1&edge=curl&source=gbs_api'},\n",
       "    'Total pages': {'id': '\\\\?}w', 'type': 'number', 'number': 250},\n",
       "    'Date started': {'id': 'evL[',\n",
       "     'type': 'date',\n",
       "     'date': {'start': '2021-02-28', 'end': None, 'time_zone': None}},\n",
       "    'Date finished': {'id': 'flfJ',\n",
       "     'type': 'date',\n",
       "     'date': {'start': '2021-03-20', 'end': None, 'time_zone': None}},\n",
       "    'Progress': {'id': 'nviz',\n",
       "     'type': 'formula',\n",
       "     'formula': {'type': 'number', 'number': 0}},\n",
       "    'Author': {'id': 'qNw_',\n",
       "     'type': 'rich_text',\n",
       "     'rich_text': [{'type': 'text',\n",
       "       'text': {'content': 'Norbert Scheuer', 'link': None},\n",
       "       'annotations': {'bold': False,\n",
       "        'italic': False,\n",
       "        'strikethrough': False,\n",
       "        'underline': False,\n",
       "        'code': False,\n",
       "        'color': 'default'},\n",
       "       'plain_text': 'Norbert Scheuer',\n",
       "       'href': None}]},\n",
       "    'Status': {'id': 'qRc\\\\',\n",
       "     'type': 'status',\n",
       "     'status': {'id': '50d821ad-f638-4b79-970f-11b2ae9f8c78',\n",
       "      'name': 'done',\n",
       "      'color': 'green'}},\n",
       "    'Title': {'id': 'title',\n",
       "     'type': 'title',\n",
       "     'title': [{'type': 'text',\n",
       "       'text': {'content': 'Winterbienen', 'link': None},\n",
       "       'annotations': {'bold': False,\n",
       "        'italic': False,\n",
       "        'strikethrough': False,\n",
       "        'underline': False,\n",
       "        'code': False,\n",
       "        'color': 'default'},\n",
       "       'plain_text': 'Winterbienen',\n",
       "       'href': None}]}},\n",
       "   'url': 'https://www.notion.so/Winterbienen-36a8bcd366d64786b768eb2509ff3e6f',\n",
       "   'public_url': None},\n",
       "  {'object': 'page',\n",
       "   'id': 'eb60075d-9db7-4e36-ba53-0479bb452c36',\n",
       "   'created_time': '2024-08-12T16:58:00.000Z',\n",
       "   'last_edited_time': '2024-08-12T16:59:00.000Z',\n",
       "   'created_by': {'object': 'user',\n",
       "    'id': '074559e7-8c13-4b7a-899e-4012f06d6320'},\n",
       "   'last_edited_by': {'object': 'user',\n",
       "    'id': '074559e7-8c13-4b7a-899e-4012f06d6320'},\n",
       "   'cover': None,\n",
       "   'icon': None,\n",
       "   'parent': {'type': 'database_id',\n",
       "    'database_id': '1b71653e-3631-48e0-b2ba-399638473ced'},\n",
       "   'archived': False,\n",
       "   'in_trash': False,\n",
       "   'properties': {'Summary': {'id': '?\\\\25',\n",
       "     'type': 'rich_text',\n",
       "     'rich_text': []},\n",
       "    'cover': {'id': 'Urz>',\n",
       "     'type': 'url',\n",
       "     'url': 'http://books.google.com/books/content?id=UiU2vgEACAAJ&printsec=frontcover&img=1&zoom=1&source=gbs_api'},\n",
       "    'Total pages': {'id': '\\\\?}w', 'type': 'number', 'number': 468},\n",
       "    'Date started': {'id': 'evL[',\n",
       "     'type': 'date',\n",
       "     'date': {'start': '2023-11-14', 'end': None, 'time_zone': None}},\n",
       "    'Date finished': {'id': 'flfJ',\n",
       "     'type': 'date',\n",
       "     'date': {'start': '2023-12-22', 'end': None, 'time_zone': None}},\n",
       "    'Progress': {'id': 'nviz',\n",
       "     'type': 'formula',\n",
       "     'formula': {'type': 'number', 'number': 0}},\n",
       "    'Author': {'id': 'qNw_',\n",
       "     'type': 'rich_text',\n",
       "     'rich_text': [{'type': 'text',\n",
       "       'text': {'content': 'Stephen Fry', 'link': None},\n",
       "       'annotations': {'bold': False,\n",
       "        'italic': False,\n",
       "        'strikethrough': False,\n",
       "        'underline': False,\n",
       "        'code': False,\n",
       "        'color': 'default'},\n",
       "       'plain_text': 'Stephen Fry',\n",
       "       'href': None}]},\n",
       "    'Status': {'id': 'qRc\\\\',\n",
       "     'type': 'status',\n",
       "     'status': {'id': '50d821ad-f638-4b79-970f-11b2ae9f8c78',\n",
       "      'name': 'done',\n",
       "      'color': 'green'}},\n",
       "    'Title': {'id': 'title',\n",
       "     'type': 'title',\n",
       "     'title': [{'type': 'text',\n",
       "       'text': {'content': 'Mythos', 'link': None},\n",
       "       'annotations': {'bold': False,\n",
       "        'italic': False,\n",
       "        'strikethrough': False,\n",
       "        'underline': False,\n",
       "        'code': False,\n",
       "        'color': 'default'},\n",
       "       'plain_text': 'Mythos',\n",
       "       'href': None}]}},\n",
       "   'url': 'https://www.notion.so/Mythos-eb60075d9db74e36ba530479bb452c36',\n",
       "   'public_url': None},\n",
       "  {'object': 'page',\n",
       "   'id': 'a044186a-8601-4c3b-89fb-198155814ada',\n",
       "   'created_time': '2024-08-12T16:58:00.000Z',\n",
       "   'last_edited_time': '2024-08-12T16:59:00.000Z',\n",
       "   'created_by': {'object': 'user',\n",
       "    'id': '074559e7-8c13-4b7a-899e-4012f06d6320'},\n",
       "   'last_edited_by': {'object': 'user',\n",
       "    'id': '074559e7-8c13-4b7a-899e-4012f06d6320'},\n",
       "   'cover': None,\n",
       "   'icon': None,\n",
       "   'parent': {'type': 'database_id',\n",
       "    'database_id': '1b71653e-3631-48e0-b2ba-399638473ced'},\n",
       "   'archived': False,\n",
       "   'in_trash': False,\n",
       "   'properties': {'Summary': {'id': '?\\\\25',\n",
       "     'type': 'rich_text',\n",
       "     'rich_text': []},\n",
       "    'Total pages': {'id': '\\\\?}w', 'type': 'number', 'number': 320},\n",
       "    'Date started': {'id': 'evL[',\n",
       "     'type': 'date',\n",
       "     'date': {'start': '2021-04-01', 'end': None, 'time_zone': None}},\n",
       "    'Date finished': {'id': 'flfJ',\n",
       "     'type': 'date',\n",
       "     'date': {'start': '2021-05-06', 'end': None, 'time_zone': None}},\n",
       "    'Progress': {'id': 'nviz',\n",
       "     'type': 'formula',\n",
       "     'formula': {'type': 'number', 'number': 0}},\n",
       "    'Author': {'id': 'qNw_',\n",
       "     'type': 'rich_text',\n",
       "     'rich_text': [{'type': 'text',\n",
       "       'text': {'content': 'Juli Zeh', 'link': None},\n",
       "       'annotations': {'bold': False,\n",
       "        'italic': False,\n",
       "        'strikethrough': False,\n",
       "        'underline': False,\n",
       "        'code': False,\n",
       "        'color': 'default'},\n",
       "       'plain_text': 'Juli Zeh',\n",
       "       'href': None}]},\n",
       "    'Status': {'id': 'qRc\\\\',\n",
       "     'type': 'status',\n",
       "     'status': {'id': '50d821ad-f638-4b79-970f-11b2ae9f8c78',\n",
       "      'name': 'done',\n",
       "      'color': 'green'}},\n",
       "    'Title': {'id': 'title',\n",
       "     'type': 'title',\n",
       "     'title': [{'type': 'text',\n",
       "       'text': {'content': 'Über Menschen', 'link': None},\n",
       "       'annotations': {'bold': False,\n",
       "        'italic': False,\n",
       "        'strikethrough': False,\n",
       "        'underline': False,\n",
       "        'code': False,\n",
       "        'color': 'default'},\n",
       "       'plain_text': 'Über Menschen',\n",
       "       'href': None}]}},\n",
       "   'url': 'https://www.notion.so/ber-Menschen-a044186a86014c3b89fb198155814ada',\n",
       "   'public_url': None},\n",
       "  {'object': 'page',\n",
       "   'id': 'b30e1dd1-d3c6-4ce4-8d76-8bde69d3c2a8',\n",
       "   'created_time': '2024-08-12T16:58:00.000Z',\n",
       "   'last_edited_time': '2024-08-12T16:59:00.000Z',\n",
       "   'created_by': {'object': 'user',\n",
       "    'id': '074559e7-8c13-4b7a-899e-4012f06d6320'},\n",
       "   'last_edited_by': {'object': 'user',\n",
       "    'id': '074559e7-8c13-4b7a-899e-4012f06d6320'},\n",
       "   'cover': None,\n",
       "   'icon': None,\n",
       "   'parent': {'type': 'database_id',\n",
       "    'database_id': '1b71653e-3631-48e0-b2ba-399638473ced'},\n",
       "   'archived': False,\n",
       "   'in_trash': False,\n",
       "   'properties': {'Summary': {'id': '?\\\\25',\n",
       "     'type': 'rich_text',\n",
       "     'rich_text': []},\n",
       "    'Total pages': {'id': '\\\\?}w', 'type': 'number', 'number': 208},\n",
       "    'Date started': {'id': 'evL[',\n",
       "     'type': 'date',\n",
       "     'date': {'start': '2022-12-10', 'end': None, 'time_zone': None}},\n",
       "    'Date finished': {'id': 'flfJ',\n",
       "     'type': 'date',\n",
       "     'date': {'start': '2023-01-15', 'end': None, 'time_zone': None}},\n",
       "    'Progress': {'id': 'nviz',\n",
       "     'type': 'formula',\n",
       "     'formula': {'type': 'number', 'number': 0}},\n",
       "    'Author': {'id': 'qNw_',\n",
       "     'type': 'rich_text',\n",
       "     'rich_text': [{'type': 'text',\n",
       "       'text': {'content': 'Dörte Hansen', 'link': None},\n",
       "       'annotations': {'bold': False,\n",
       "        'italic': False,\n",
       "        'strikethrough': False,\n",
       "        'underline': False,\n",
       "        'code': False,\n",
       "        'color': 'default'},\n",
       "       'plain_text': 'Dörte Hansen',\n",
       "       'href': None}]},\n",
       "    'Status': {'id': 'qRc\\\\',\n",
       "     'type': 'status',\n",
       "     'status': {'id': '50d821ad-f638-4b79-970f-11b2ae9f8c78',\n",
       "      'name': 'done',\n",
       "      'color': 'green'}},\n",
       "    'Title': {'id': 'title',\n",
       "     'type': 'title',\n",
       "     'title': [{'type': 'text',\n",
       "       'text': {'content': 'Zur See', 'link': None},\n",
       "       'annotations': {'bold': False,\n",
       "        'italic': False,\n",
       "        'strikethrough': False,\n",
       "        'underline': False,\n",
       "        'code': False,\n",
       "        'color': 'default'},\n",
       "       'plain_text': 'Zur See',\n",
       "       'href': None}]}},\n",
       "   'url': 'https://www.notion.so/Zur-See-b30e1dd1d3c64ce48d768bde69d3c2a8',\n",
       "   'public_url': None},\n",
       "  {'object': 'page',\n",
       "   'id': '0338b582-09b4-469e-bf8f-4c8832597783',\n",
       "   'created_time': '2024-08-12T16:58:00.000Z',\n",
       "   'last_edited_time': '2024-08-12T16:59:00.000Z',\n",
       "   'created_by': {'object': 'user',\n",
       "    'id': '074559e7-8c13-4b7a-899e-4012f06d6320'},\n",
       "   'last_edited_by': {'object': 'user',\n",
       "    'id': '074559e7-8c13-4b7a-899e-4012f06d6320'},\n",
       "   'cover': None,\n",
       "   'icon': None,\n",
       "   'parent': {'type': 'database_id',\n",
       "    'database_id': '1b71653e-3631-48e0-b2ba-399638473ced'},\n",
       "   'archived': False,\n",
       "   'in_trash': False,\n",
       "   'properties': {'Summary': {'id': '?\\\\25',\n",
       "     'type': 'rich_text',\n",
       "     'rich_text': []},\n",
       "    'cover': {'id': 'Urz>',\n",
       "     'type': 'url',\n",
       "     'url': 'http://books.google.com/books/content?id=3OTPMeElnW0C&printsec=frontcover&img=1&zoom=1&source=gbs_api'},\n",
       "    'Total pages': {'id': '\\\\?}w', 'type': 'number', 'number': 259},\n",
       "    'Date started': {'id': 'evL[',\n",
       "     'type': 'date',\n",
       "     'date': {'start': '2023-10-21', 'end': None, 'time_zone': None}},\n",
       "    'Date finished': {'id': 'flfJ',\n",
       "     'type': 'date',\n",
       "     'date': {'start': '2024-01-16', 'end': None, 'time_zone': None}},\n",
       "    'Progress': {'id': 'nviz',\n",
       "     'type': 'formula',\n",
       "     'formula': {'type': 'number', 'number': 0}},\n",
       "    'Author': {'id': 'qNw_',\n",
       "     'type': 'rich_text',\n",
       "     'rich_text': [{'type': 'text',\n",
       "       'text': {'content': 'Stephen Hawking', 'link': None},\n",
       "       'annotations': {'bold': False,\n",
       "        'italic': False,\n",
       "        'strikethrough': False,\n",
       "        'underline': False,\n",
       "        'code': False,\n",
       "        'color': 'default'},\n",
       "       'plain_text': 'Stephen Hawking',\n",
       "       'href': None}]},\n",
       "    'Status': {'id': 'qRc\\\\',\n",
       "     'type': 'status',\n",
       "     'status': {'id': '50d821ad-f638-4b79-970f-11b2ae9f8c78',\n",
       "      'name': 'done',\n",
       "      'color': 'green'}},\n",
       "    'Title': {'id': 'title',\n",
       "     'type': 'title',\n",
       "     'title': [{'type': 'text',\n",
       "       'text': {'content': 'The Illustrated A Brief History of Time',\n",
       "        'link': None},\n",
       "       'annotations': {'bold': False,\n",
       "        'italic': False,\n",
       "        'strikethrough': False,\n",
       "        'underline': False,\n",
       "        'code': False,\n",
       "        'color': 'default'},\n",
       "       'plain_text': 'The Illustrated A Brief History of Time',\n",
       "       'href': None}]}},\n",
       "   'url': 'https://www.notion.so/The-Illustrated-A-Brief-History-of-Time-0338b58209b4469ebf8f4c8832597783',\n",
       "   'public_url': None},\n",
       "  {'object': 'page',\n",
       "   'id': '06950549-0a67-42d6-84d6-8f8d781723bb',\n",
       "   'created_time': '2024-08-12T16:58:00.000Z',\n",
       "   'last_edited_time': '2024-08-12T16:59:00.000Z',\n",
       "   'created_by': {'object': 'user',\n",
       "    'id': '074559e7-8c13-4b7a-899e-4012f06d6320'},\n",
       "   'last_edited_by': {'object': 'user',\n",
       "    'id': '074559e7-8c13-4b7a-899e-4012f06d6320'},\n",
       "   'cover': None,\n",
       "   'icon': None,\n",
       "   'parent': {'type': 'database_id',\n",
       "    'database_id': '1b71653e-3631-48e0-b2ba-399638473ced'},\n",
       "   'archived': False,\n",
       "   'in_trash': False,\n",
       "   'properties': {'Category': {'id': '/7eo',\n",
       "     'type': 'select',\n",
       "     'select': {'id': 'r\\\\pO', 'name': 'Fiction', 'color': 'default'}},\n",
       "    'Summary': {'id': '?\\\\25', 'type': 'rich_text', 'rich_text': []},\n",
       "    'cover': {'id': 'Urz>',\n",
       "     'type': 'url',\n",
       "     'url': 'http://books.google.com/books/content?id=JQGv8eqVMrMC&printsec=frontcover&img=1&zoom=1&source=gbs_api'},\n",
       "    'Total pages': {'id': '\\\\?}w', 'type': 'number', 'number': 323},\n",
       "    'Date started': {'id': 'evL[',\n",
       "     'type': 'date',\n",
       "     'date': {'start': '2023-02-24', 'end': None, 'time_zone': None}},\n",
       "    'Date finished': {'id': 'flfJ',\n",
       "     'type': 'date',\n",
       "     'date': {'start': '2023-03-24', 'end': None, 'time_zone': None}},\n",
       "    'Progress': {'id': 'nviz',\n",
       "     'type': 'formula',\n",
       "     'formula': {'type': 'number', 'number': 0}},\n",
       "    'Author': {'id': 'qNw_',\n",
       "     'type': 'rich_text',\n",
       "     'rich_text': [{'type': 'text',\n",
       "       'text': {'content': 'Harper Lee', 'link': None},\n",
       "       'annotations': {'bold': False,\n",
       "        'italic': False,\n",
       "        'strikethrough': False,\n",
       "        'underline': False,\n",
       "        'code': False,\n",
       "        'color': 'default'},\n",
       "       'plain_text': 'Harper Lee',\n",
       "       'href': None}]},\n",
       "    'Status': {'id': 'qRc\\\\',\n",
       "     'type': 'status',\n",
       "     'status': {'id': '50d821ad-f638-4b79-970f-11b2ae9f8c78',\n",
       "      'name': 'done',\n",
       "      'color': 'green'}},\n",
       "    'Title': {'id': 'title',\n",
       "     'type': 'title',\n",
       "     'title': [{'type': 'text',\n",
       "       'text': {'content': 'To Kill a Mockingbird', 'link': None},\n",
       "       'annotations': {'bold': False,\n",
       "        'italic': False,\n",
       "        'strikethrough': False,\n",
       "        'underline': False,\n",
       "        'code': False,\n",
       "        'color': 'default'},\n",
       "       'plain_text': 'To Kill a Mockingbird',\n",
       "       'href': None}]}},\n",
       "   'url': 'https://www.notion.so/To-Kill-a-Mockingbird-069505490a6742d684d68f8d781723bb',\n",
       "   'public_url': None},\n",
       "  {'object': 'page',\n",
       "   'id': '1210a5c7-fd5a-4d63-8ddb-f75c0a7569b4',\n",
       "   'created_time': '2024-08-12T16:58:00.000Z',\n",
       "   'last_edited_time': '2024-08-12T16:59:00.000Z',\n",
       "   'created_by': {'object': 'user',\n",
       "    'id': '074559e7-8c13-4b7a-899e-4012f06d6320'},\n",
       "   'last_edited_by': {'object': 'user',\n",
       "    'id': '074559e7-8c13-4b7a-899e-4012f06d6320'},\n",
       "   'cover': None,\n",
       "   'icon': None,\n",
       "   'parent': {'type': 'database_id',\n",
       "    'database_id': '1b71653e-3631-48e0-b2ba-399638473ced'},\n",
       "   'archived': False,\n",
       "   'in_trash': False,\n",
       "   'properties': {'Summary': {'id': '?\\\\25',\n",
       "     'type': 'rich_text',\n",
       "     'rich_text': []},\n",
       "    'cover': {'id': 'Urz>',\n",
       "     'type': 'url',\n",
       "     'url': 'http://books.google.com/books/content?id=aFapBAAAQBAJ&printsec=frontcover&img=1&zoom=1&edge=curl&source=gbs_api'},\n",
       "    'Total pages': {'id': '\\\\?}w', 'type': 'number', 'number': 560},\n",
       "    'Date started': {'id': 'evL[',\n",
       "     'type': 'date',\n",
       "     'date': {'start': '2021-11-01', 'end': None, 'time_zone': None}},\n",
       "    'Date finished': {'id': 'flfJ',\n",
       "     'type': 'date',\n",
       "     'date': {'start': '2021-02-15', 'end': None, 'time_zone': None}},\n",
       "    'Progress': {'id': 'nviz',\n",
       "     'type': 'formula',\n",
       "     'formula': {'type': 'number', 'number': 0}},\n",
       "    'Author': {'id': 'qNw_',\n",
       "     'type': 'rich_text',\n",
       "     'rich_text': [{'type': 'text',\n",
       "       'text': {'content': 'Walter Isaacson', 'link': None},\n",
       "       'annotations': {'bold': False,\n",
       "        'italic': False,\n",
       "        'strikethrough': False,\n",
       "        'underline': False,\n",
       "        'code': False,\n",
       "        'color': 'default'},\n",
       "       'plain_text': 'Walter Isaacson',\n",
       "       'href': None}]},\n",
       "    'Status': {'id': 'qRc\\\\',\n",
       "     'type': 'status',\n",
       "     'status': {'id': '50d821ad-f638-4b79-970f-11b2ae9f8c78',\n",
       "      'name': 'done',\n",
       "      'color': 'green'}},\n",
       "    'Title': {'id': 'title',\n",
       "     'type': 'title',\n",
       "     'title': [{'type': 'text',\n",
       "       'text': {'content': 'The Innovators', 'link': None},\n",
       "       'annotations': {'bold': False,\n",
       "        'italic': False,\n",
       "        'strikethrough': False,\n",
       "        'underline': False,\n",
       "        'code': False,\n",
       "        'color': 'default'},\n",
       "       'plain_text': 'The Innovators',\n",
       "       'href': None}]}},\n",
       "   'url': 'https://www.notion.so/The-Innovators-1210a5c7fd5a4d638ddbf75c0a7569b4',\n",
       "   'public_url': None},\n",
       "  {'object': 'page',\n",
       "   'id': 'd4c4cd8e-6a3c-4626-9c31-394fe63d31bf',\n",
       "   'created_time': '2024-08-12T16:58:00.000Z',\n",
       "   'last_edited_time': '2024-08-12T16:59:00.000Z',\n",
       "   'created_by': {'object': 'user',\n",
       "    'id': '074559e7-8c13-4b7a-899e-4012f06d6320'},\n",
       "   'last_edited_by': {'object': 'user',\n",
       "    'id': '074559e7-8c13-4b7a-899e-4012f06d6320'},\n",
       "   'cover': None,\n",
       "   'icon': None,\n",
       "   'parent': {'type': 'database_id',\n",
       "    'database_id': '1b71653e-3631-48e0-b2ba-399638473ced'},\n",
       "   'archived': False,\n",
       "   'in_trash': False,\n",
       "   'properties': {'Summary': {'id': '?\\\\25',\n",
       "     'type': 'rich_text',\n",
       "     'rich_text': []},\n",
       "    'cover': {'id': 'Urz>',\n",
       "     'type': 'url',\n",
       "     'url': 'http://books.google.com/books/content?id=f_D3DwAAQBAJ&printsec=frontcover&img=1&zoom=1&edge=curl&source=gbs_api'},\n",
       "    'Total pages': {'id': '\\\\?}w', 'type': 'number', 'number': 560},\n",
       "    'Date started': {'id': 'evL[',\n",
       "     'type': 'date',\n",
       "     'date': {'start': '2023-03-01', 'end': None, 'time_zone': None}},\n",
       "    'Date finished': {'id': 'flfJ',\n",
       "     'type': 'date',\n",
       "     'date': {'start': '2023-04-22', 'end': None, 'time_zone': None}},\n",
       "    'Progress': {'id': 'nviz',\n",
       "     'type': 'formula',\n",
       "     'formula': {'type': 'number', 'number': 0}},\n",
       "    'Author': {'id': 'qNw_',\n",
       "     'type': 'rich_text',\n",
       "     'rich_text': [{'type': 'text',\n",
       "       'text': {'content': 'Walter Isaacson', 'link': None},\n",
       "       'annotations': {'bold': False,\n",
       "        'italic': False,\n",
       "        'strikethrough': False,\n",
       "        'underline': False,\n",
       "        'code': False,\n",
       "        'color': 'default'},\n",
       "       'plain_text': 'Walter Isaacson',\n",
       "       'href': None}]},\n",
       "    'Status': {'id': 'qRc\\\\',\n",
       "     'type': 'status',\n",
       "     'status': {'id': '50d821ad-f638-4b79-970f-11b2ae9f8c78',\n",
       "      'name': 'done',\n",
       "      'color': 'green'}},\n",
       "    'Title': {'id': 'title',\n",
       "     'type': 'title',\n",
       "     'title': [{'type': 'text',\n",
       "       'text': {'content': 'The Code Breaker', 'link': None},\n",
       "       'annotations': {'bold': False,\n",
       "        'italic': False,\n",
       "        'strikethrough': False,\n",
       "        'underline': False,\n",
       "        'code': False,\n",
       "        'color': 'default'},\n",
       "       'plain_text': 'The Code Breaker',\n",
       "       'href': None}]}},\n",
       "   'url': 'https://www.notion.so/The-Code-Breaker-d4c4cd8e6a3c46269c31394fe63d31bf',\n",
       "   'public_url': None},\n",
       "  {'object': 'page',\n",
       "   'id': 'c65971da-60ed-4700-bd86-94983c6c0d35',\n",
       "   'created_time': '2024-08-12T16:58:00.000Z',\n",
       "   'last_edited_time': '2024-08-12T17:00:00.000Z',\n",
       "   'created_by': {'object': 'user',\n",
       "    'id': '074559e7-8c13-4b7a-899e-4012f06d6320'},\n",
       "   'last_edited_by': {'object': 'user',\n",
       "    'id': '074559e7-8c13-4b7a-899e-4012f06d6320'},\n",
       "   'cover': None,\n",
       "   'icon': None,\n",
       "   'parent': {'type': 'database_id',\n",
       "    'database_id': '1b71653e-3631-48e0-b2ba-399638473ced'},\n",
       "   'archived': False,\n",
       "   'in_trash': False,\n",
       "   'properties': {'Summary': {'id': '?\\\\25',\n",
       "     'type': 'rich_text',\n",
       "     'rich_text': []},\n",
       "    'cover': {'id': 'Urz>',\n",
       "     'type': 'url',\n",
       "     'url': 'http://books.google.com/books/content?id=q2iYjgEACAAJ&printsec=frontcover&img=1&zoom=1&source=gbs_api'},\n",
       "    'Total pages': {'id': '\\\\?}w', 'type': 'number', 'number': 197},\n",
       "    'Date started': {'id': 'evL[',\n",
       "     'type': 'date',\n",
       "     'date': {'start': '2024-06-07', 'end': None, 'time_zone': None}},\n",
       "    'Progress': {'id': 'nviz',\n",
       "     'type': 'formula',\n",
       "     'formula': {'type': 'number', 'number': 0}},\n",
       "    'Author': {'id': 'qNw_',\n",
       "     'type': 'rich_text',\n",
       "     'rich_text': [{'type': 'text',\n",
       "       'text': {'content': 'Heinz Overschmidt, Ramon Gliewe', 'link': None},\n",
       "       'annotations': {'bold': False,\n",
       "        'italic': False,\n",
       "        'strikethrough': False,\n",
       "        'underline': False,\n",
       "        'code': False,\n",
       "        'color': 'default'},\n",
       "       'plain_text': 'Heinz Overschmidt, Ramon Gliewe',\n",
       "       'href': None}]},\n",
       "    'Status': {'id': 'qRc\\\\',\n",
       "     'type': 'status',\n",
       "     'status': {'id': 'e550e71c-9f29-4310-ade5-42e81eea7e59',\n",
       "      'name': 'in progress',\n",
       "      'color': 'blue'}},\n",
       "    'Title': {'id': 'title',\n",
       "     'type': 'title',\n",
       "     'title': [{'type': 'text',\n",
       "       'text': {'content': 'Sportbootführerschein Binnen Segel/Motor',\n",
       "        'link': None},\n",
       "       'annotations': {'bold': False,\n",
       "        'italic': False,\n",
       "        'strikethrough': False,\n",
       "        'underline': False,\n",
       "        'code': False,\n",
       "        'color': 'default'},\n",
       "       'plain_text': 'Sportbootführerschein Binnen Segel/Motor',\n",
       "       'href': None}]}},\n",
       "   'url': 'https://www.notion.so/Sportbootf-hrerschein-Binnen-Segel-Motor-c65971da60ed4700bd8694983c6c0d35',\n",
       "   'public_url': None},\n",
       "  {'object': 'page',\n",
       "   'id': 'bd22c5a3-29a3-458a-98f6-f44abb4bd557',\n",
       "   'created_time': '2024-08-12T16:58:00.000Z',\n",
       "   'last_edited_time': '2024-08-12T16:59:00.000Z',\n",
       "   'created_by': {'object': 'user',\n",
       "    'id': '074559e7-8c13-4b7a-899e-4012f06d6320'},\n",
       "   'last_edited_by': {'object': 'user',\n",
       "    'id': '074559e7-8c13-4b7a-899e-4012f06d6320'},\n",
       "   'cover': None,\n",
       "   'icon': None,\n",
       "   'parent': {'type': 'database_id',\n",
       "    'database_id': '1b71653e-3631-48e0-b2ba-399638473ced'},\n",
       "   'archived': False,\n",
       "   'in_trash': False,\n",
       "   'properties': {'Category': {'id': '/7eo',\n",
       "     'type': 'select',\n",
       "     'select': {'id': 'r\\\\pO', 'name': 'Fiction', 'color': 'default'}},\n",
       "    'Summary': {'id': '?\\\\25', 'type': 'rich_text', 'rich_text': []},\n",
       "    'cover': {'id': 'Urz>',\n",
       "     'type': 'url',\n",
       "     'url': 'http://books.google.com/books/content?id=eldcPgAACAAJ&printsec=frontcover&img=1&zoom=1&source=gbs_api'},\n",
       "    'Total pages': {'id': '\\\\?}w', 'type': 'number', 'number': 313},\n",
       "    'Date started': {'id': 'evL[',\n",
       "     'type': 'date',\n",
       "     'date': {'start': '2023-01-06', 'end': None, 'time_zone': None}},\n",
       "    'Date finished': {'id': 'flfJ',\n",
       "     'type': 'date',\n",
       "     'date': {'start': '2023-02-27', 'end': None, 'time_zone': None}},\n",
       "    'Progress': {'id': 'nviz',\n",
       "     'type': 'formula',\n",
       "     'formula': {'type': 'number', 'number': 0}},\n",
       "    'Author': {'id': 'qNw_',\n",
       "     'type': 'rich_text',\n",
       "     'rich_text': [{'type': 'text',\n",
       "       'text': {'content': 'J. R. R. Tolkien', 'link': None},\n",
       "       'annotations': {'bold': False,\n",
       "        'italic': False,\n",
       "        'strikethrough': False,\n",
       "        'underline': False,\n",
       "        'code': False,\n",
       "        'color': 'default'},\n",
       "       'plain_text': 'J. R. R. Tolkien',\n",
       "       'href': None}]},\n",
       "    'Status': {'id': 'qRc\\\\',\n",
       "     'type': 'status',\n",
       "     'status': {'id': '50d821ad-f638-4b79-970f-11b2ae9f8c78',\n",
       "      'name': 'done',\n",
       "      'color': 'green'}},\n",
       "    'Title': {'id': 'title',\n",
       "     'type': 'title',\n",
       "     'title': [{'type': 'text',\n",
       "       'text': {'content': 'The Children of Hurin', 'link': None},\n",
       "       'annotations': {'bold': False,\n",
       "        'italic': False,\n",
       "        'strikethrough': False,\n",
       "        'underline': False,\n",
       "        'code': False,\n",
       "        'color': 'default'},\n",
       "       'plain_text': 'The Children of Hurin',\n",
       "       'href': None}]}},\n",
       "   'url': 'https://www.notion.so/The-Children-of-Hurin-bd22c5a329a3458a98f6f44abb4bd557',\n",
       "   'public_url': None},\n",
       "  {'object': 'page',\n",
       "   'id': '691f6648-bf0b-4abf-a632-c331cdade5c7',\n",
       "   'created_time': '2024-08-12T16:58:00.000Z',\n",
       "   'last_edited_time': '2024-08-12T17:00:00.000Z',\n",
       "   'created_by': {'object': 'user',\n",
       "    'id': '074559e7-8c13-4b7a-899e-4012f06d6320'},\n",
       "   'last_edited_by': {'object': 'user',\n",
       "    'id': '074559e7-8c13-4b7a-899e-4012f06d6320'},\n",
       "   'cover': None,\n",
       "   'icon': None,\n",
       "   'parent': {'type': 'database_id',\n",
       "    'database_id': '1b71653e-3631-48e0-b2ba-399638473ced'},\n",
       "   'archived': False,\n",
       "   'in_trash': False,\n",
       "   'properties': {'Summary': {'id': '?\\\\25',\n",
       "     'type': 'rich_text',\n",
       "     'rich_text': []},\n",
       "    'cover': {'id': 'Urz>',\n",
       "     'type': 'url',\n",
       "     'url': 'http://books.google.com/books/content?id=gWaiCQAAQBAJ&printsec=frontcover&img=1&zoom=1&edge=curl&source=gbs_api'},\n",
       "    'Total pages': {'id': '\\\\?}w', 'type': 'number', 'number': 503},\n",
       "    'Date started': {'id': 'evL[',\n",
       "     'type': 'date',\n",
       "     'date': {'start': '2024-05-07', 'end': None, 'time_zone': None}},\n",
       "    'Progress': {'id': 'nviz',\n",
       "     'type': 'formula',\n",
       "     'formula': {'type': 'number', 'number': 0}},\n",
       "    'Author': {'id': 'qNw_',\n",
       "     'type': 'rich_text',\n",
       "     'rich_text': [{'type': 'text',\n",
       "       'text': {'content': 'Richard David Precht', 'link': None},\n",
       "       'annotations': {'bold': False,\n",
       "        'italic': False,\n",
       "        'strikethrough': False,\n",
       "        'underline': False,\n",
       "        'code': False,\n",
       "        'color': 'default'},\n",
       "       'plain_text': 'Richard David Precht',\n",
       "       'href': None}]},\n",
       "    'Status': {'id': 'qRc\\\\',\n",
       "     'type': 'status',\n",
       "     'status': {'id': 'e550e71c-9f29-4310-ade5-42e81eea7e59',\n",
       "      'name': 'in progress',\n",
       "      'color': 'blue'}},\n",
       "    'Title': {'id': 'title',\n",
       "     'type': 'title',\n",
       "     'title': [{'type': 'text',\n",
       "       'text': {'content': 'Sei du selbst', 'link': None},\n",
       "       'annotations': {'bold': False,\n",
       "        'italic': False,\n",
       "        'strikethrough': False,\n",
       "        'underline': False,\n",
       "        'code': False,\n",
       "        'color': 'default'},\n",
       "       'plain_text': 'Sei du selbst',\n",
       "       'href': None}]}},\n",
       "   'url': 'https://www.notion.so/Sei-du-selbst-691f6648bf0b4abfa632c331cdade5c7',\n",
       "   'public_url': None},\n",
       "  {'object': 'page',\n",
       "   'id': '6862ff14-5d35-4d36-9e7f-a126cc67ac50',\n",
       "   'created_time': '2024-08-12T16:58:00.000Z',\n",
       "   'last_edited_time': '2024-08-12T16:59:00.000Z',\n",
       "   'created_by': {'object': 'user',\n",
       "    'id': '074559e7-8c13-4b7a-899e-4012f06d6320'},\n",
       "   'last_edited_by': {'object': 'user',\n",
       "    'id': '074559e7-8c13-4b7a-899e-4012f06d6320'},\n",
       "   'cover': None,\n",
       "   'icon': None,\n",
       "   'parent': {'type': 'database_id',\n",
       "    'database_id': '1b71653e-3631-48e0-b2ba-399638473ced'},\n",
       "   'archived': False,\n",
       "   'in_trash': False,\n",
       "   'properties': {'Category': {'id': '/7eo',\n",
       "     'type': 'select',\n",
       "     'select': {'id': 'r\\\\pO', 'name': 'Fiction', 'color': 'default'}},\n",
       "    'Summary': {'id': '?\\\\25', 'type': 'rich_text', 'rich_text': []},\n",
       "    'cover': {'id': 'Urz>',\n",
       "     'type': 'url',\n",
       "     'url': 'http://books.google.com/books/content?id=a_LnEAAAQBAJ&printsec=frontcover&img=1&zoom=1&edge=curl&source=gbs_api'},\n",
       "    'Total pages': {'id': '\\\\?}w', 'type': 'number', 'number': 320},\n",
       "    'Progress': {'id': 'nviz',\n",
       "     'type': 'formula',\n",
       "     'formula': {'type': 'number', 'number': 0}},\n",
       "    'Author': {'id': 'qNw_',\n",
       "     'type': 'rich_text',\n",
       "     'rich_text': [{'type': 'text',\n",
       "       'text': {'content': 'Suzie Miller', 'link': None},\n",
       "       'annotations': {'bold': False,\n",
       "        'italic': False,\n",
       "        'strikethrough': False,\n",
       "        'underline': False,\n",
       "        'code': False,\n",
       "        'color': 'default'},\n",
       "       'plain_text': 'Suzie Miller',\n",
       "       'href': None}]},\n",
       "    'Status': {'id': 'qRc\\\\',\n",
       "     'type': 'status',\n",
       "     'status': {'id': '50d821ad-f638-4b79-970f-11b2ae9f8c78',\n",
       "      'name': 'done',\n",
       "      'color': 'green'}},\n",
       "    'Title': {'id': 'title',\n",
       "     'type': 'title',\n",
       "     'title': [{'type': 'text',\n",
       "       'text': {'content': 'Prima facie', 'link': None},\n",
       "       'annotations': {'bold': False,\n",
       "        'italic': False,\n",
       "        'strikethrough': False,\n",
       "        'underline': False,\n",
       "        'code': False,\n",
       "        'color': 'default'},\n",
       "       'plain_text': 'Prima facie',\n",
       "       'href': None}]}},\n",
       "   'url': 'https://www.notion.so/Prima-facie-6862ff145d354d369e7fa126cc67ac50',\n",
       "   'public_url': None},\n",
       "  {'object': 'page',\n",
       "   'id': '200b9f38-a60e-43e6-b500-702ff6671405',\n",
       "   'created_time': '2024-08-12T16:58:00.000Z',\n",
       "   'last_edited_time': '2024-08-12T16:59:00.000Z',\n",
       "   'created_by': {'object': 'user',\n",
       "    'id': '074559e7-8c13-4b7a-899e-4012f06d6320'},\n",
       "   'last_edited_by': {'object': 'user',\n",
       "    'id': '074559e7-8c13-4b7a-899e-4012f06d6320'},\n",
       "   'cover': None,\n",
       "   'icon': None,\n",
       "   'parent': {'type': 'database_id',\n",
       "    'database_id': '1b71653e-3631-48e0-b2ba-399638473ced'},\n",
       "   'archived': False,\n",
       "   'in_trash': False,\n",
       "   'properties': {'Summary': {'id': '?\\\\25',\n",
       "     'type': 'rich_text',\n",
       "     'rich_text': []},\n",
       "    'cover': {'id': 'Urz>',\n",
       "     'type': 'url',\n",
       "     'url': 'http://books.google.com/books/content?id=g9ARDAAAQBAJ&printsec=frontcover&img=1&zoom=1&edge=curl&source=gbs_api'},\n",
       "    'Total pages': {'id': '\\\\?}w', 'type': 'number', 'number': 772},\n",
       "    'Date started': {'id': 'evL[',\n",
       "     'type': 'date',\n",
       "     'date': {'start': '2023-01-11', 'end': None, 'time_zone': None}},\n",
       "    'Date finished': {'id': 'flfJ',\n",
       "     'type': 'date',\n",
       "     'date': {'start': '2022-07-22', 'end': None, 'time_zone': None}},\n",
       "    'Progress': {'id': 'nviz',\n",
       "     'type': 'formula',\n",
       "     'formula': {'type': 'number', 'number': 0}},\n",
       "    'Author': {'id': 'qNw_',\n",
       "     'type': 'rich_text',\n",
       "     'rich_text': [{'type': 'text',\n",
       "       'text': {'content': 'Mary Beard', 'link': None},\n",
       "       'annotations': {'bold': False,\n",
       "        'italic': False,\n",
       "        'strikethrough': False,\n",
       "        'underline': False,\n",
       "        'code': False,\n",
       "        'color': 'default'},\n",
       "       'plain_text': 'Mary Beard',\n",
       "       'href': None}]},\n",
       "    'Status': {'id': 'qRc\\\\',\n",
       "     'type': 'status',\n",
       "     'status': {'id': '50d821ad-f638-4b79-970f-11b2ae9f8c78',\n",
       "      'name': 'done',\n",
       "      'color': 'green'}},\n",
       "    'Title': {'id': 'title',\n",
       "     'type': 'title',\n",
       "     'title': [{'type': 'text',\n",
       "       'text': {'content': 'SPQR', 'link': None},\n",
       "       'annotations': {'bold': False,\n",
       "        'italic': False,\n",
       "        'strikethrough': False,\n",
       "        'underline': False,\n",
       "        'code': False,\n",
       "        'color': 'default'},\n",
       "       'plain_text': 'SPQR',\n",
       "       'href': None}]}},\n",
       "   'url': 'https://www.notion.so/SPQR-200b9f38a60e43e6b500702ff6671405',\n",
       "   'public_url': None},\n",
       "  {'object': 'page',\n",
       "   'id': 'fb2333a6-3cd6-4437-aa5a-41a08ea648d2',\n",
       "   'created_time': '2024-08-12T16:58:00.000Z',\n",
       "   'last_edited_time': '2024-08-12T16:59:00.000Z',\n",
       "   'created_by': {'object': 'user',\n",
       "    'id': '074559e7-8c13-4b7a-899e-4012f06d6320'},\n",
       "   'last_edited_by': {'object': 'user',\n",
       "    'id': '074559e7-8c13-4b7a-899e-4012f06d6320'},\n",
       "   'cover': None,\n",
       "   'icon': None,\n",
       "   'parent': {'type': 'database_id',\n",
       "    'database_id': '1b71653e-3631-48e0-b2ba-399638473ced'},\n",
       "   'archived': False,\n",
       "   'in_trash': False,\n",
       "   'properties': {'Summary': {'id': '?\\\\25',\n",
       "     'type': 'rich_text',\n",
       "     'rich_text': []},\n",
       "    'Total pages': {'id': '\\\\?}w', 'type': 'number', 'number': 550},\n",
       "    'Date started': {'id': 'evL[',\n",
       "     'type': 'date',\n",
       "     'date': {'start': '2021-09-04', 'end': None, 'time_zone': None}},\n",
       "    'Date finished': {'id': 'flfJ',\n",
       "     'type': 'date',\n",
       "     'date': {'start': '2022-02-11', 'end': None, 'time_zone': None}},\n",
       "    'Progress': {'id': 'nviz',\n",
       "     'type': 'formula',\n",
       "     'formula': {'type': 'number', 'number': 0}},\n",
       "    'Author': {'id': 'qNw_',\n",
       "     'type': 'rich_text',\n",
       "     'rich_text': [{'type': 'text',\n",
       "       'text': {'content': 'Jens Jacobsen, Lorena Meyer', 'link': None},\n",
       "       'annotations': {'bold': False,\n",
       "        'italic': False,\n",
       "        'strikethrough': False,\n",
       "        'underline': False,\n",
       "        'code': False,\n",
       "        'color': 'default'},\n",
       "       'plain_text': 'Jens Jacobsen, Lorena Meyer',\n",
       "       'href': None}]},\n",
       "    'Status': {'id': 'qRc\\\\',\n",
       "     'type': 'status',\n",
       "     'status': {'id': '50d821ad-f638-4b79-970f-11b2ae9f8c78',\n",
       "      'name': 'done',\n",
       "      'color': 'green'}},\n",
       "    'Title': {'id': 'title',\n",
       "     'type': 'title',\n",
       "     'title': [{'type': 'text',\n",
       "       'text': {'content': 'Praxisbuch Usability & UX', 'link': None},\n",
       "       'annotations': {'bold': False,\n",
       "        'italic': False,\n",
       "        'strikethrough': False,\n",
       "        'underline': False,\n",
       "        'code': False,\n",
       "        'color': 'default'},\n",
       "       'plain_text': 'Praxisbuch Usability & UX',\n",
       "       'href': None}]}},\n",
       "   'url': 'https://www.notion.so/Praxisbuch-Usability-UX-fb2333a63cd64437aa5a41a08ea648d2',\n",
       "   'public_url': None},\n",
       "  {'object': 'page',\n",
       "   'id': 'b527c2a5-9823-4532-a1f8-b0b9dff6e0b8',\n",
       "   'created_time': '2024-08-12T16:58:00.000Z',\n",
       "   'last_edited_time': '2024-08-12T16:59:00.000Z',\n",
       "   'created_by': {'object': 'user',\n",
       "    'id': '074559e7-8c13-4b7a-899e-4012f06d6320'},\n",
       "   'last_edited_by': {'object': 'user',\n",
       "    'id': '074559e7-8c13-4b7a-899e-4012f06d6320'},\n",
       "   'cover': None,\n",
       "   'icon': None,\n",
       "   'parent': {'type': 'database_id',\n",
       "    'database_id': '1b71653e-3631-48e0-b2ba-399638473ced'},\n",
       "   'archived': False,\n",
       "   'in_trash': False,\n",
       "   'properties': {'Category': {'id': '/7eo',\n",
       "     'type': 'select',\n",
       "     'select': {'id': 'r\\\\pO', 'name': 'Fiction', 'color': 'default'}},\n",
       "    'Summary': {'id': '?\\\\25', 'type': 'rich_text', 'rich_text': []},\n",
       "    'cover': {'id': 'Urz>',\n",
       "     'type': 'url',\n",
       "     'url': 'http://books.google.com/books/content?id=p3nADwAAQBAJ&printsec=frontcover&img=1&zoom=1&edge=curl&source=gbs_api'},\n",
       "    'Total pages': {'id': '\\\\?}w', 'type': 'number', 'number': 231},\n",
       "    'Date started': {'id': 'evL[',\n",
       "     'type': 'date',\n",
       "     'date': {'start': '2023-04-09', 'end': None, 'time_zone': None}},\n",
       "    'Date finished': {'id': 'flfJ',\n",
       "     'type': 'date',\n",
       "     'date': {'start': '2023-04-18', 'end': None, 'time_zone': None}},\n",
       "    'Progress': {'id': 'nviz',\n",
       "     'type': 'formula',\n",
       "     'formula': {'type': 'number', 'number': 0}},\n",
       "    'Author': {'id': 'qNw_',\n",
       "     'type': 'rich_text',\n",
       "     'rich_text': [{'type': 'text',\n",
       "       'text': {'content': 'Benjamin Myers', 'link': None},\n",
       "       'annotations': {'bold': False,\n",
       "        'italic': False,\n",
       "        'strikethrough': False,\n",
       "        'underline': False,\n",
       "        'code': False,\n",
       "        'color': 'default'},\n",
       "       'plain_text': 'Benjamin Myers',\n",
       "       'href': None}]},\n",
       "    'Status': {'id': 'qRc\\\\',\n",
       "     'type': 'status',\n",
       "     'status': {'id': '50d821ad-f638-4b79-970f-11b2ae9f8c78',\n",
       "      'name': 'done',\n",
       "      'color': 'green'}},\n",
       "    'Title': {'id': 'title',\n",
       "     'type': 'title',\n",
       "     'title': [{'type': 'text',\n",
       "       'text': {'content': 'Offene See', 'link': None},\n",
       "       'annotations': {'bold': False,\n",
       "        'italic': False,\n",
       "        'strikethrough': False,\n",
       "        'underline': False,\n",
       "        'code': False,\n",
       "        'color': 'default'},\n",
       "       'plain_text': 'Offene See',\n",
       "       'href': None}]}},\n",
       "   'url': 'https://www.notion.so/Offene-See-b527c2a598234532a1f8b0b9dff6e0b8',\n",
       "   'public_url': None},\n",
       "  {'object': 'page',\n",
       "   'id': '1384c532-6233-465d-b5da-7858d9bfd934',\n",
       "   'created_time': '2024-08-12T16:58:00.000Z',\n",
       "   'last_edited_time': '2024-08-12T16:59:00.000Z',\n",
       "   'created_by': {'object': 'user',\n",
       "    'id': '074559e7-8c13-4b7a-899e-4012f06d6320'},\n",
       "   'last_edited_by': {'object': 'user',\n",
       "    'id': '074559e7-8c13-4b7a-899e-4012f06d6320'},\n",
       "   'cover': None,\n",
       "   'icon': None,\n",
       "   'parent': {'type': 'database_id',\n",
       "    'database_id': '1b71653e-3631-48e0-b2ba-399638473ced'},\n",
       "   'archived': False,\n",
       "   'in_trash': False,\n",
       "   'properties': {'Category': {'id': '/7eo',\n",
       "     'type': 'select',\n",
       "     'select': {'id': 'r\\\\pO', 'name': 'Fiction', 'color': 'default'}},\n",
       "    'Summary': {'id': '?\\\\25', 'type': 'rich_text', 'rich_text': []},\n",
       "    'cover': {'id': 'Urz>',\n",
       "     'type': 'url',\n",
       "     'url': 'http://books.google.com/books/content?id=T7y6EAAAQBAJ&printsec=frontcover&img=1&zoom=1&edge=curl&source=gbs_api'},\n",
       "    'Total pages': {'id': '\\\\?}w', 'type': 'number', 'number': 349},\n",
       "    'Progress': {'id': 'nviz',\n",
       "     'type': 'formula',\n",
       "     'formula': {'type': 'number', 'number': 0}},\n",
       "    'Author': {'id': 'qNw_',\n",
       "     'type': 'rich_text',\n",
       "     'rich_text': [{'type': 'text',\n",
       "       'text': {'content': 'Benjamin von Stuckrad-Barre', 'link': None},\n",
       "       'annotations': {'bold': False,\n",
       "        'italic': False,\n",
       "        'strikethrough': False,\n",
       "        'underline': False,\n",
       "        'code': False,\n",
       "        'color': 'default'},\n",
       "       'plain_text': 'Benjamin von Stuckrad-Barre',\n",
       "       'href': None}]},\n",
       "    'Status': {'id': 'qRc\\\\',\n",
       "     'type': 'status',\n",
       "     'status': {'id': '50d821ad-f638-4b79-970f-11b2ae9f8c78',\n",
       "      'name': 'done',\n",
       "      'color': 'green'}},\n",
       "    'Title': {'id': 'title',\n",
       "     'type': 'title',\n",
       "     'title': [{'type': 'text',\n",
       "       'text': {'content': 'Noch wach?', 'link': None},\n",
       "       'annotations': {'bold': False,\n",
       "        'italic': False,\n",
       "        'strikethrough': False,\n",
       "        'underline': False,\n",
       "        'code': False,\n",
       "        'color': 'default'},\n",
       "       'plain_text': 'Noch wach?',\n",
       "       'href': None}]}},\n",
       "   'url': 'https://www.notion.so/Noch-wach-1384c5326233465db5da7858d9bfd934',\n",
       "   'public_url': None},\n",
       "  {'object': 'page',\n",
       "   'id': '434ce5a8-cda5-4a7a-a022-467683ea765a',\n",
       "   'created_time': '2024-08-12T16:58:00.000Z',\n",
       "   'last_edited_time': '2024-08-12T16:59:00.000Z',\n",
       "   'created_by': {'object': 'user',\n",
       "    'id': '074559e7-8c13-4b7a-899e-4012f06d6320'},\n",
       "   'last_edited_by': {'object': 'user',\n",
       "    'id': '074559e7-8c13-4b7a-899e-4012f06d6320'},\n",
       "   'cover': None,\n",
       "   'icon': None,\n",
       "   'parent': {'type': 'database_id',\n",
       "    'database_id': '1b71653e-3631-48e0-b2ba-399638473ced'},\n",
       "   'archived': False,\n",
       "   'in_trash': False,\n",
       "   'properties': {'Summary': {'id': '?\\\\25',\n",
       "     'type': 'rich_text',\n",
       "     'rich_text': []},\n",
       "    'cover': {'id': 'Urz>',\n",
       "     'type': 'url',\n",
       "     'url': 'http://books.google.com/books/content?id=8wuvDwAAQBAJ&printsec=frontcover&img=1&zoom=1&edge=curl&source=gbs_api'},\n",
       "    'Total pages': {'id': '\\\\?}w', 'type': 'number', 'number': 1466},\n",
       "    'Progress': {'id': 'nviz',\n",
       "     'type': 'formula',\n",
       "     'formula': {'type': 'number', 'number': 0}},\n",
       "    'Author': {'id': 'qNw_',\n",
       "     'type': 'rich_text',\n",
       "     'rich_text': [{'type': 'text',\n",
       "       'text': {'content': 'Paul A. Tipler, Gene Mosca', 'link': None},\n",
       "       'annotations': {'bold': False,\n",
       "        'italic': False,\n",
       "        'strikethrough': False,\n",
       "        'underline': False,\n",
       "        'code': False,\n",
       "        'color': 'default'},\n",
       "       'plain_text': 'Paul A. Tipler, Gene Mosca',\n",
       "       'href': None}]},\n",
       "    'Status': {'id': 'qRc\\\\',\n",
       "     'type': 'status',\n",
       "     'status': {'id': '50d821ad-f638-4b79-970f-11b2ae9f8c78',\n",
       "      'name': 'done',\n",
       "      'color': 'green'}},\n",
       "    'Title': {'id': 'title',\n",
       "     'type': 'title',\n",
       "     'title': [{'type': 'text',\n",
       "       'text': {'content': 'Physik', 'link': None},\n",
       "       'annotations': {'bold': False,\n",
       "        'italic': False,\n",
       "        'strikethrough': False,\n",
       "        'underline': False,\n",
       "        'code': False,\n",
       "        'color': 'default'},\n",
       "       'plain_text': 'Physik',\n",
       "       'href': None}]}},\n",
       "   'url': 'https://www.notion.so/Physik-434ce5a8cda54a7aa022467683ea765a',\n",
       "   'public_url': None},\n",
       "  {'object': 'page',\n",
       "   'id': '076afd98-9d85-454e-9a03-573c73020a35',\n",
       "   'created_time': '2024-08-12T16:58:00.000Z',\n",
       "   'last_edited_time': '2024-08-12T16:59:00.000Z',\n",
       "   'created_by': {'object': 'user',\n",
       "    'id': '074559e7-8c13-4b7a-899e-4012f06d6320'},\n",
       "   'last_edited_by': {'object': 'user',\n",
       "    'id': '074559e7-8c13-4b7a-899e-4012f06d6320'},\n",
       "   'cover': None,\n",
       "   'icon': None,\n",
       "   'parent': {'type': 'database_id',\n",
       "    'database_id': '1b71653e-3631-48e0-b2ba-399638473ced'},\n",
       "   'archived': False,\n",
       "   'in_trash': False,\n",
       "   'properties': {'Category': {'id': '/7eo',\n",
       "     'type': 'select',\n",
       "     'select': {'id': 'r\\\\pO', 'name': 'Fiction', 'color': 'default'}},\n",
       "    'Summary': {'id': '?\\\\25', 'type': 'rich_text', 'rich_text': []},\n",
       "    'cover': {'id': 'Urz>',\n",
       "     'type': 'url',\n",
       "     'url': 'http://books.google.com/books/content?id=U7W5wauRc_MC&printsec=frontcover&img=1&zoom=1&edge=curl&source=gbs_api'},\n",
       "    'Total pages': {'id': '\\\\?}w', 'type': 'number', 'number': 630},\n",
       "    'Date started': {'id': 'evL[',\n",
       "     'type': 'date',\n",
       "     'date': {'start': '2022-08-18', 'end': None, 'time_zone': None}},\n",
       "    'Date finished': {'id': 'flfJ',\n",
       "     'type': 'date',\n",
       "     'date': {'start': '2022-10-24', 'end': None, 'time_zone': None}},\n",
       "    'Progress': {'id': 'nviz',\n",
       "     'type': 'formula',\n",
       "     'formula': {'type': 'number', 'number': 0}},\n",
       "    'Author': {'id': 'qNw_',\n",
       "     'type': 'rich_text',\n",
       "     'rich_text': [{'type': 'text',\n",
       "       'text': {'content': 'J.R.R. Tolkien', 'link': None},\n",
       "       'annotations': {'bold': False,\n",
       "        'italic': False,\n",
       "        'strikethrough': False,\n",
       "        'underline': False,\n",
       "        'code': False,\n",
       "        'color': 'default'},\n",
       "       'plain_text': 'J.R.R. Tolkien',\n",
       "       'href': None}]},\n",
       "    'Status': {'id': 'qRc\\\\',\n",
       "     'type': 'status',\n",
       "     'status': {'id': '50d821ad-f638-4b79-970f-11b2ae9f8c78',\n",
       "      'name': 'done',\n",
       "      'color': 'green'}},\n",
       "    'Title': {'id': 'title',\n",
       "     'type': 'title',\n",
       "     'title': [{'type': 'text',\n",
       "       'text': {'content': 'Nachrichten aus Mittelerde', 'link': None},\n",
       "       'annotations': {'bold': False,\n",
       "        'italic': False,\n",
       "        'strikethrough': False,\n",
       "        'underline': False,\n",
       "        'code': False,\n",
       "        'color': 'default'},\n",
       "       'plain_text': 'Nachrichten aus Mittelerde',\n",
       "       'href': None}]}},\n",
       "   'url': 'https://www.notion.so/Nachrichten-aus-Mittelerde-076afd989d85454e9a03573c73020a35',\n",
       "   'public_url': None},\n",
       "  {'object': 'page',\n",
       "   'id': '4a63fb96-b9aa-4aba-a50d-b8773715be4b',\n",
       "   'created_time': '2024-08-12T16:58:00.000Z',\n",
       "   'last_edited_time': '2024-08-12T16:59:00.000Z',\n",
       "   'created_by': {'object': 'user',\n",
       "    'id': '074559e7-8c13-4b7a-899e-4012f06d6320'},\n",
       "   'last_edited_by': {'object': 'user',\n",
       "    'id': '074559e7-8c13-4b7a-899e-4012f06d6320'},\n",
       "   'cover': None,\n",
       "   'icon': None,\n",
       "   'parent': {'type': 'database_id',\n",
       "    'database_id': '1b71653e-3631-48e0-b2ba-399638473ced'},\n",
       "   'archived': False,\n",
       "   'in_trash': False,\n",
       "   'properties': {'Summary': {'id': '?\\\\25',\n",
       "     'type': 'rich_text',\n",
       "     'rich_text': []},\n",
       "    'Total pages': {'id': '\\\\?}w', 'type': 'number', 'number': 170},\n",
       "    'Date started': {'id': 'evL[',\n",
       "     'type': 'date',\n",
       "     'date': {'start': '2023-10-21', 'end': None, 'time_zone': None}},\n",
       "    'Date finished': {'id': 'flfJ',\n",
       "     'type': 'date',\n",
       "     'date': {'start': '2024-03-10', 'end': None, 'time_zone': None}},\n",
       "    'Progress': {'id': 'nviz',\n",
       "     'type': 'formula',\n",
       "     'formula': {'type': 'number', 'number': 0}},\n",
       "    'Author': {'id': 'qNw_', 'type': 'rich_text', 'rich_text': []},\n",
       "    'Status': {'id': 'qRc\\\\',\n",
       "     'type': 'status',\n",
       "     'status': {'id': '50d821ad-f638-4b79-970f-11b2ae9f8c78',\n",
       "      'name': 'done',\n",
       "      'color': 'green'}},\n",
       "    'Title': {'id': 'title',\n",
       "     'type': 'title',\n",
       "     'title': [{'type': 'text',\n",
       "       'text': {'content': 'Napoleon und seine Zeit', 'link': None},\n",
       "       'annotations': {'bold': False,\n",
       "        'italic': False,\n",
       "        'strikethrough': False,\n",
       "        'underline': False,\n",
       "        'code': False,\n",
       "        'color': 'default'},\n",
       "       'plain_text': 'Napoleon und seine Zeit',\n",
       "       'href': None}]}},\n",
       "   'url': 'https://www.notion.so/Napoleon-und-seine-Zeit-4a63fb96b9aa4abaa50db8773715be4b',\n",
       "   'public_url': None},\n",
       "  {'object': 'page',\n",
       "   'id': '430401c0-9128-4b2e-a7e2-3ddb9c8fd232',\n",
       "   'created_time': '2024-08-12T16:58:00.000Z',\n",
       "   'last_edited_time': '2024-08-12T16:59:00.000Z',\n",
       "   'created_by': {'object': 'user',\n",
       "    'id': '074559e7-8c13-4b7a-899e-4012f06d6320'},\n",
       "   'last_edited_by': {'object': 'user',\n",
       "    'id': '074559e7-8c13-4b7a-899e-4012f06d6320'},\n",
       "   'cover': None,\n",
       "   'icon': None,\n",
       "   'parent': {'type': 'database_id',\n",
       "    'database_id': '1b71653e-3631-48e0-b2ba-399638473ced'},\n",
       "   'archived': False,\n",
       "   'in_trash': False,\n",
       "   'properties': {'Summary': {'id': '?\\\\25',\n",
       "     'type': 'rich_text',\n",
       "     'rich_text': []},\n",
       "    'cover': {'id': 'Urz>',\n",
       "     'type': 'url',\n",
       "     'url': 'http://books.google.com/books/content?id=0E8NogEACAAJ&printsec=frontcover&img=1&zoom=1&source=gbs_api'},\n",
       "    'Total pages': {'id': '\\\\?}w', 'type': 'number', 'number': 308},\n",
       "    'Date started': {'id': 'evL[',\n",
       "     'type': 'date',\n",
       "     'date': {'start': '2023-09-19', 'end': None, 'time_zone': None}},\n",
       "    'Date finished': {'id': 'flfJ',\n",
       "     'type': 'date',\n",
       "     'date': {'start': '2023-10-05', 'end': None, 'time_zone': None}},\n",
       "    'Progress': {'id': 'nviz',\n",
       "     'type': 'formula',\n",
       "     'formula': {'type': 'number', 'number': 0}},\n",
       "    'Author': {'id': 'qNw_',\n",
       "     'type': 'rich_text',\n",
       "     'rich_text': [{'type': 'text',\n",
       "       'text': {'content': 'Martin Suter', 'link': None},\n",
       "       'annotations': {'bold': False,\n",
       "        'italic': False,\n",
       "        'strikethrough': False,\n",
       "        'underline': False,\n",
       "        'code': False,\n",
       "        'color': 'default'},\n",
       "       'plain_text': 'Martin Suter',\n",
       "       'href': None}]},\n",
       "    'Status': {'id': 'qRc\\\\',\n",
       "     'type': 'status',\n",
       "     'status': {'id': '50d821ad-f638-4b79-970f-11b2ae9f8c78',\n",
       "      'name': 'done',\n",
       "      'color': 'green'}},\n",
       "    'Title': {'id': 'title',\n",
       "     'type': 'title',\n",
       "     'title': [{'type': 'text',\n",
       "       'text': {'content': 'Montecristo', 'link': None},\n",
       "       'annotations': {'bold': False,\n",
       "        'italic': False,\n",
       "        'strikethrough': False,\n",
       "        'underline': False,\n",
       "        'code': False,\n",
       "        'color': 'default'},\n",
       "       'plain_text': 'Montecristo',\n",
       "       'href': None}]}},\n",
       "   'url': 'https://www.notion.so/Montecristo-430401c091284b2ea7e23ddb9c8fd232',\n",
       "   'public_url': None},\n",
       "  {'object': 'page',\n",
       "   'id': '8c851019-e931-4e8d-a2ea-a36394020818',\n",
       "   'created_time': '2024-08-12T16:58:00.000Z',\n",
       "   'last_edited_time': '2024-08-12T16:59:00.000Z',\n",
       "   'created_by': {'object': 'user',\n",
       "    'id': '074559e7-8c13-4b7a-899e-4012f06d6320'},\n",
       "   'last_edited_by': {'object': 'user',\n",
       "    'id': '074559e7-8c13-4b7a-899e-4012f06d6320'},\n",
       "   'cover': None,\n",
       "   'icon': None,\n",
       "   'parent': {'type': 'database_id',\n",
       "    'database_id': '1b71653e-3631-48e0-b2ba-399638473ced'},\n",
       "   'archived': False,\n",
       "   'in_trash': False,\n",
       "   'properties': {'Summary': {'id': '?\\\\25',\n",
       "     'type': 'rich_text',\n",
       "     'rich_text': []},\n",
       "    'cover': {'id': 'Urz>',\n",
       "     'type': 'url',\n",
       "     'url': 'http://books.google.com/books/content?id=nXsmDQAAQBAJ&printsec=frontcover&img=1&zoom=1&edge=curl&source=gbs_api'},\n",
       "    'Total pages': {'id': '\\\\?}w', 'type': 'number', 'number': 400},\n",
       "    'Date started': {'id': 'evL[',\n",
       "     'type': 'date',\n",
       "     'date': {'start': '2023-02-10', 'end': None, 'time_zone': None}},\n",
       "    'Date finished': {'id': 'flfJ',\n",
       "     'type': 'date',\n",
       "     'date': {'start': '2023-03-01', 'end': None, 'time_zone': None}},\n",
       "    'Progress': {'id': 'nviz',\n",
       "     'type': 'formula',\n",
       "     'formula': {'type': 'number', 'number': 0}},\n",
       "    'Author': {'id': 'qNw_',\n",
       "     'type': 'rich_text',\n",
       "     'rich_text': [{'type': 'text',\n",
       "       'text': {'content': 'Ruth Bader Ginsburg, Mary Hartnett, Wendy W. Williams, Wendy Williams (Writer on law)',\n",
       "        'link': None},\n",
       "       'annotations': {'bold': False,\n",
       "        'italic': False,\n",
       "        'strikethrough': False,\n",
       "        'underline': False,\n",
       "        'code': False,\n",
       "        'color': 'default'},\n",
       "       'plain_text': 'Ruth Bader Ginsburg, Mary Hartnett, Wendy W. Williams, Wendy Williams (Writer on law)',\n",
       "       'href': None}]},\n",
       "    'Status': {'id': 'qRc\\\\',\n",
       "     'type': 'status',\n",
       "     'status': {'id': '50d821ad-f638-4b79-970f-11b2ae9f8c78',\n",
       "      'name': 'done',\n",
       "      'color': 'green'}},\n",
       "    'Title': {'id': 'title',\n",
       "     'type': 'title',\n",
       "     'title': [{'type': 'text',\n",
       "       'text': {'content': 'My Own Words', 'link': None},\n",
       "       'annotations': {'bold': False,\n",
       "        'italic': False,\n",
       "        'strikethrough': False,\n",
       "        'underline': False,\n",
       "        'code': False,\n",
       "        'color': 'default'},\n",
       "       'plain_text': 'My Own Words',\n",
       "       'href': None}]}},\n",
       "   'url': 'https://www.notion.so/My-Own-Words-8c851019e9314e8da2eaa36394020818',\n",
       "   'public_url': None},\n",
       "  {'object': 'page',\n",
       "   'id': '41cbd229-7637-42d2-a5f6-22ed9114fceb',\n",
       "   'created_time': '2024-08-12T16:58:00.000Z',\n",
       "   'last_edited_time': '2024-08-12T16:59:00.000Z',\n",
       "   'created_by': {'object': 'user',\n",
       "    'id': '074559e7-8c13-4b7a-899e-4012f06d6320'},\n",
       "   'last_edited_by': {'object': 'user',\n",
       "    'id': '074559e7-8c13-4b7a-899e-4012f06d6320'},\n",
       "   'cover': None,\n",
       "   'icon': None,\n",
       "   'parent': {'type': 'database_id',\n",
       "    'database_id': '1b71653e-3631-48e0-b2ba-399638473ced'},\n",
       "   'archived': False,\n",
       "   'in_trash': False,\n",
       "   'properties': {'Category': {'id': '/7eo',\n",
       "     'type': 'select',\n",
       "     'select': {'id': 'r\\\\pO', 'name': 'Fiction', 'color': 'default'}},\n",
       "    'Summary': {'id': '?\\\\25', 'type': 'rich_text', 'rich_text': []},\n",
       "    'cover': {'id': 'Urz>',\n",
       "     'type': 'url',\n",
       "     'url': 'http://books.google.com/books/content?id=KDd0EAAAQBAJ&printsec=frontcover&img=1&zoom=1&edge=curl&source=gbs_api'},\n",
       "    'Total pages': {'id': '\\\\?}w', 'type': 'number', 'number': 198},\n",
       "    'Date started': {'id': 'evL[',\n",
       "     'type': 'date',\n",
       "     'date': {'start': '2023-04-18', 'end': None, 'time_zone': None}},\n",
       "    'Date finished': {'id': 'flfJ',\n",
       "     'type': 'date',\n",
       "     'date': {'start': '2023-05-02', 'end': None, 'time_zone': None}},\n",
       "    'Progress': {'id': 'nviz',\n",
       "     'type': 'formula',\n",
       "     'formula': {'type': 'number', 'number': 0}},\n",
       "    'Author': {'id': 'qNw_',\n",
       "     'type': 'rich_text',\n",
       "     'rich_text': [{'type': 'text',\n",
       "       'text': {'content': 'Norbert Scheuer', 'link': None},\n",
       "       'annotations': {'bold': False,\n",
       "        'italic': False,\n",
       "        'strikethrough': False,\n",
       "        'underline': False,\n",
       "        'code': False,\n",
       "        'color': 'default'},\n",
       "       'plain_text': 'Norbert Scheuer',\n",
       "       'href': None}]},\n",
       "    'Status': {'id': 'qRc\\\\',\n",
       "     'type': 'status',\n",
       "     'status': {'id': '50d821ad-f638-4b79-970f-11b2ae9f8c78',\n",
       "      'name': 'done',\n",
       "      'color': 'green'}},\n",
       "    'Title': {'id': 'title',\n",
       "     'type': 'title',\n",
       "     'title': [{'type': 'text',\n",
       "       'text': {'content': 'Mutabor', 'link': None},\n",
       "       'annotations': {'bold': False,\n",
       "        'italic': False,\n",
       "        'strikethrough': False,\n",
       "        'underline': False,\n",
       "        'code': False,\n",
       "        'color': 'default'},\n",
       "       'plain_text': 'Mutabor',\n",
       "       'href': None}]}},\n",
       "   'url': 'https://www.notion.so/Mutabor-41cbd229763742d2a5f622ed9114fceb',\n",
       "   'public_url': None},\n",
       "  {'object': 'page',\n",
       "   'id': 'efa4fe26-c9de-4f97-8e24-7d0299eb0b7c',\n",
       "   'created_time': '2024-08-12T16:58:00.000Z',\n",
       "   'last_edited_time': '2024-08-12T16:59:00.000Z',\n",
       "   'created_by': {'object': 'user',\n",
       "    'id': '074559e7-8c13-4b7a-899e-4012f06d6320'},\n",
       "   'last_edited_by': {'object': 'user',\n",
       "    'id': '074559e7-8c13-4b7a-899e-4012f06d6320'},\n",
       "   'cover': None,\n",
       "   'icon': None,\n",
       "   'parent': {'type': 'database_id',\n",
       "    'database_id': '1b71653e-3631-48e0-b2ba-399638473ced'},\n",
       "   'archived': False,\n",
       "   'in_trash': False,\n",
       "   'properties': {'Category': {'id': '/7eo',\n",
       "     'type': 'select',\n",
       "     'select': {'id': 'r\\\\pO', 'name': 'Fiction', 'color': 'default'}},\n",
       "    'Summary': {'id': '?\\\\25', 'type': 'rich_text', 'rich_text': []},\n",
       "    'cover': {'id': 'Urz>',\n",
       "     'type': 'url',\n",
       "     'url': 'http://books.google.com/books/content?id=IPQIEAAAQBAJ&printsec=frontcover&img=1&zoom=1&edge=curl&source=gbs_api'},\n",
       "    'Total pages': {'id': '\\\\?}w', 'type': 'number', 'number': 230},\n",
       "    'Date started': {'id': 'evL[',\n",
       "     'type': 'date',\n",
       "     'date': {'start': '2021-06-27', 'end': None, 'time_zone': None}},\n",
       "    'Date finished': {'id': 'flfJ',\n",
       "     'type': 'date',\n",
       "     'date': {'start': '2021-08-25', 'end': None, 'time_zone': None}},\n",
       "    'Progress': {'id': 'nviz',\n",
       "     'type': 'formula',\n",
       "     'formula': {'type': 'number', 'number': 0}},\n",
       "    'Author': {'id': 'qNw_',\n",
       "     'type': 'rich_text',\n",
       "     'rich_text': [{'type': 'text',\n",
       "       'text': {'content': 'Steffen Kopetzky', 'link': None},\n",
       "       'annotations': {'bold': False,\n",
       "        'italic': False,\n",
       "        'strikethrough': False,\n",
       "        'underline': False,\n",
       "        'code': False,\n",
       "        'color': 'default'},\n",
       "       'plain_text': 'Steffen Kopetzky',\n",
       "       'href': None}]},\n",
       "    'Status': {'id': 'qRc\\\\',\n",
       "     'type': 'status',\n",
       "     'status': {'id': '50d821ad-f638-4b79-970f-11b2ae9f8c78',\n",
       "      'name': 'done',\n",
       "      'color': 'green'}},\n",
       "    'Title': {'id': 'title',\n",
       "     'type': 'title',\n",
       "     'title': [{'type': 'text',\n",
       "       'text': {'content': 'Monschau', 'link': None},\n",
       "       'annotations': {'bold': False,\n",
       "        'italic': False,\n",
       "        'strikethrough': False,\n",
       "        'underline': False,\n",
       "        'code': False,\n",
       "        'color': 'default'},\n",
       "       'plain_text': 'Monschau',\n",
       "       'href': None}]}},\n",
       "   'url': 'https://www.notion.so/Monschau-efa4fe26c9de4f978e247d0299eb0b7c',\n",
       "   'public_url': None},\n",
       "  {'object': 'page',\n",
       "   'id': '40eed8eb-c27f-4fbf-bf33-ded59574bfd0',\n",
       "   'created_time': '2024-08-12T16:58:00.000Z',\n",
       "   'last_edited_time': '2024-08-12T16:59:00.000Z',\n",
       "   'created_by': {'object': 'user',\n",
       "    'id': '074559e7-8c13-4b7a-899e-4012f06d6320'},\n",
       "   'last_edited_by': {'object': 'user',\n",
       "    'id': '074559e7-8c13-4b7a-899e-4012f06d6320'},\n",
       "   'cover': None,\n",
       "   'icon': None,\n",
       "   'parent': {'type': 'database_id',\n",
       "    'database_id': '1b71653e-3631-48e0-b2ba-399638473ced'},\n",
       "   'archived': False,\n",
       "   'in_trash': False,\n",
       "   'properties': {'Summary': {'id': '?\\\\25',\n",
       "     'type': 'rich_text',\n",
       "     'rich_text': []},\n",
       "    'cover': {'id': 'Urz>',\n",
       "     'type': 'url',\n",
       "     'url': 'http://books.google.com/books/content?id=cijcDwAAQBAJ&printsec=frontcover&img=1&zoom=1&edge=curl&source=gbs_api'},\n",
       "    'Total pages': {'id': '\\\\?}w', 'type': 'number', 'number': 240},\n",
       "    'Date started': {'id': 'evL[',\n",
       "     'type': 'date',\n",
       "     'date': {'start': '2021-10-04', 'end': None, 'time_zone': None}},\n",
       "    'Date finished': {'id': 'flfJ',\n",
       "     'type': 'date',\n",
       "     'date': {'start': '2021-10-07', 'end': None, 'time_zone': None}},\n",
       "    'Progress': {'id': 'nviz',\n",
       "     'type': 'formula',\n",
       "     'formula': {'type': 'number', 'number': 0}},\n",
       "    'Author': {'id': 'qNw_',\n",
       "     'type': 'rich_text',\n",
       "     'rich_text': [{'type': 'text',\n",
       "       'text': {'content': 'Aya Jaff', 'link': None},\n",
       "       'annotations': {'bold': False,\n",
       "        'italic': False,\n",
       "        'strikethrough': False,\n",
       "        'underline': False,\n",
       "        'code': False,\n",
       "        'color': 'default'},\n",
       "       'plain_text': 'Aya Jaff',\n",
       "       'href': None}]},\n",
       "    'Status': {'id': 'qRc\\\\',\n",
       "     'type': 'status',\n",
       "     'status': {'id': '50d821ad-f638-4b79-970f-11b2ae9f8c78',\n",
       "      'name': 'done',\n",
       "      'color': 'green'}},\n",
       "    'Title': {'id': 'title',\n",
       "     'type': 'title',\n",
       "     'title': [{'type': 'text',\n",
       "       'text': {'content': 'MONEYMAKERS', 'link': None},\n",
       "       'annotations': {'bold': False,\n",
       "        'italic': False,\n",
       "        'strikethrough': False,\n",
       "        'underline': False,\n",
       "        'code': False,\n",
       "        'color': 'default'},\n",
       "       'plain_text': 'MONEYMAKERS',\n",
       "       'href': None}]}},\n",
       "   'url': 'https://www.notion.so/MONEYMAKERS-40eed8ebc27f4fbfbf33ded59574bfd0',\n",
       "   'public_url': None},\n",
       "  {'object': 'page',\n",
       "   'id': '8418a414-7e26-430b-ae64-b94816298b45',\n",
       "   'created_time': '2024-08-12T16:58:00.000Z',\n",
       "   'last_edited_time': '2024-08-12T16:59:00.000Z',\n",
       "   'created_by': {'object': 'user',\n",
       "    'id': '074559e7-8c13-4b7a-899e-4012f06d6320'},\n",
       "   'last_edited_by': {'object': 'user',\n",
       "    'id': '074559e7-8c13-4b7a-899e-4012f06d6320'},\n",
       "   'cover': None,\n",
       "   'icon': None,\n",
       "   'parent': {'type': 'database_id',\n",
       "    'database_id': '1b71653e-3631-48e0-b2ba-399638473ced'},\n",
       "   'archived': False,\n",
       "   'in_trash': False,\n",
       "   'properties': {'Category': {'id': '/7eo',\n",
       "     'type': 'select',\n",
       "     'select': {'id': 'r\\\\pO', 'name': 'Fiction', 'color': 'default'}},\n",
       "    'Summary': {'id': '?\\\\25', 'type': 'rich_text', 'rich_text': []},\n",
       "    'cover': {'id': 'Urz>',\n",
       "     'type': 'url',\n",
       "     'url': 'http://books.google.com/books/content?id=riFQAgAAQBAJ&printsec=frontcover&img=1&zoom=1&edge=curl&source=gbs_api'},\n",
       "    'Total pages': {'id': '\\\\?}w', 'type': 'number', 'number': 752},\n",
       "    'Date started': {'id': 'evL[',\n",
       "     'type': 'date',\n",
       "     'date': {'start': '2023-06-25', 'end': None, 'time_zone': None}},\n",
       "    'Date finished': {'id': 'flfJ',\n",
       "     'type': 'date',\n",
       "     'date': {'start': '2023-09-18', 'end': None, 'time_zone': None}},\n",
       "    'Progress': {'id': 'nviz',\n",
       "     'type': 'formula',\n",
       "     'formula': {'type': 'number', 'number': 0}},\n",
       "    'Author': {'id': 'qNw_',\n",
       "     'type': 'rich_text',\n",
       "     'rich_text': [{'type': 'text',\n",
       "       'text': {'content': 'Gustave Flaubert', 'link': None},\n",
       "       'annotations': {'bold': False,\n",
       "        'italic': False,\n",
       "        'strikethrough': False,\n",
       "        'underline': False,\n",
       "        'code': False,\n",
       "        'color': 'default'},\n",
       "       'plain_text': 'Gustave Flaubert',\n",
       "       'href': None}]},\n",
       "    'Status': {'id': 'qRc\\\\',\n",
       "     'type': 'status',\n",
       "     'status': {'id': '50d821ad-f638-4b79-970f-11b2ae9f8c78',\n",
       "      'name': 'done',\n",
       "      'color': 'green'}},\n",
       "    'Title': {'id': 'title',\n",
       "     'type': 'title',\n",
       "     'title': [{'type': 'text',\n",
       "       'text': {'content': 'Madame Bovary', 'link': None},\n",
       "       'annotations': {'bold': False,\n",
       "        'italic': False,\n",
       "        'strikethrough': False,\n",
       "        'underline': False,\n",
       "        'code': False,\n",
       "        'color': 'default'},\n",
       "       'plain_text': 'Madame Bovary',\n",
       "       'href': None}]}},\n",
       "   'url': 'https://www.notion.so/Madame-Bovary-8418a4147e26430bae64b94816298b45',\n",
       "   'public_url': None},\n",
       "  {'object': 'page',\n",
       "   'id': '4f00a231-1e65-48f9-a7c2-a70f5ab8e134',\n",
       "   'created_time': '2024-08-12T16:58:00.000Z',\n",
       "   'last_edited_time': '2024-08-12T16:59:00.000Z',\n",
       "   'created_by': {'object': 'user',\n",
       "    'id': '074559e7-8c13-4b7a-899e-4012f06d6320'},\n",
       "   'last_edited_by': {'object': 'user',\n",
       "    'id': '074559e7-8c13-4b7a-899e-4012f06d6320'},\n",
       "   'cover': None,\n",
       "   'icon': None,\n",
       "   'parent': {'type': 'database_id',\n",
       "    'database_id': '1b71653e-3631-48e0-b2ba-399638473ced'},\n",
       "   'archived': False,\n",
       "   'in_trash': False,\n",
       "   'properties': {'Summary': {'id': '?\\\\25',\n",
       "     'type': 'rich_text',\n",
       "     'rich_text': []},\n",
       "    'cover': {'id': 'Urz>',\n",
       "     'type': 'url',\n",
       "     'url': 'http://books.google.com/books/content?id=tIm2EAAAQBAJ&printsec=frontcover&img=1&zoom=1&edge=curl&source=gbs_api'},\n",
       "    'Total pages': {'id': '\\\\?}w', 'type': 'number', 'number': 440},\n",
       "    'Date started': {'id': 'evL[',\n",
       "     'type': 'date',\n",
       "     'date': {'start': '2024-03-27', 'end': None, 'time_zone': None}},\n",
       "    'Date finished': {'id': 'flfJ',\n",
       "     'type': 'date',\n",
       "     'date': {'start': '2024-04-25', 'end': None, 'time_zone': None}},\n",
       "    'Progress': {'id': 'nviz',\n",
       "     'type': 'formula',\n",
       "     'formula': {'type': 'number', 'number': 0}},\n",
       "    'Author': {'id': 'qNw_',\n",
       "     'type': 'rich_text',\n",
       "     'rich_text': [{'type': 'text',\n",
       "       'text': {'content': 'Daniel Kehlmann', 'link': None},\n",
       "       'annotations': {'bold': False,\n",
       "        'italic': False,\n",
       "        'strikethrough': False,\n",
       "        'underline': False,\n",
       "        'code': False,\n",
       "        'color': 'default'},\n",
       "       'plain_text': 'Daniel Kehlmann',\n",
       "       'href': None}]},\n",
       "    'Status': {'id': 'qRc\\\\',\n",
       "     'type': 'status',\n",
       "     'status': {'id': '50d821ad-f638-4b79-970f-11b2ae9f8c78',\n",
       "      'name': 'done',\n",
       "      'color': 'green'}},\n",
       "    'Title': {'id': 'title',\n",
       "     'type': 'title',\n",
       "     'title': [{'type': 'text',\n",
       "       'text': {'content': 'Lichtspiel', 'link': None},\n",
       "       'annotations': {'bold': False,\n",
       "        'italic': False,\n",
       "        'strikethrough': False,\n",
       "        'underline': False,\n",
       "        'code': False,\n",
       "        'color': 'default'},\n",
       "       'plain_text': 'Lichtspiel',\n",
       "       'href': None}]}},\n",
       "   'url': 'https://www.notion.so/Lichtspiel-4f00a2311e6548f9a7c2a70f5ab8e134',\n",
       "   'public_url': None},\n",
       "  {'object': 'page',\n",
       "   'id': '5a078d0b-2a99-4d3e-bd41-a71b6e82ee7b',\n",
       "   'created_time': '2024-08-12T16:58:00.000Z',\n",
       "   'last_edited_time': '2024-08-12T16:59:00.000Z',\n",
       "   'created_by': {'object': 'user',\n",
       "    'id': '074559e7-8c13-4b7a-899e-4012f06d6320'},\n",
       "   'last_edited_by': {'object': 'user',\n",
       "    'id': '074559e7-8c13-4b7a-899e-4012f06d6320'},\n",
       "   'cover': None,\n",
       "   'icon': None,\n",
       "   'parent': {'type': 'database_id',\n",
       "    'database_id': '1b71653e-3631-48e0-b2ba-399638473ced'},\n",
       "   'archived': False,\n",
       "   'in_trash': False,\n",
       "   'properties': {'Summary': {'id': '?\\\\25',\n",
       "     'type': 'rich_text',\n",
       "     'rich_text': []},\n",
       "    'cover': {'id': 'Urz>',\n",
       "     'type': 'url',\n",
       "     'url': 'http://books.google.com/books/content?id=X8y2EAAAQBAJ&printsec=frontcover&img=1&zoom=1&edge=curl&source=gbs_api'},\n",
       "    'Total pages': {'id': '\\\\?}w', 'type': 'number', 'number': 308},\n",
       "    'Date started': {'id': 'evL[',\n",
       "     'type': 'date',\n",
       "     'date': {'start': '2024-01-03', 'end': None, 'time_zone': None}},\n",
       "    'Date finished': {'id': 'flfJ',\n",
       "     'type': 'date',\n",
       "     'date': {'start': '2024-03-04', 'end': None, 'time_zone': None}},\n",
       "    'Progress': {'id': 'nviz',\n",
       "     'type': 'formula',\n",
       "     'formula': {'type': 'number', 'number': 0}},\n",
       "    'Author': {'id': 'qNw_',\n",
       "     'type': 'rich_text',\n",
       "     'rich_text': [{'type': 'text',\n",
       "       'text': {'content': 'Benjamín Labatut', 'link': None},\n",
       "       'annotations': {'bold': False,\n",
       "        'italic': False,\n",
       "        'strikethrough': False,\n",
       "        'underline': False,\n",
       "        'code': False,\n",
       "        'color': 'default'},\n",
       "       'plain_text': 'Benjamín Labatut',\n",
       "       'href': None}]},\n",
       "    'Status': {'id': 'qRc\\\\',\n",
       "     'type': 'status',\n",
       "     'status': {'id': '50d821ad-f638-4b79-970f-11b2ae9f8c78',\n",
       "      'name': 'done',\n",
       "      'color': 'green'}},\n",
       "    'Title': {'id': 'title',\n",
       "     'type': 'title',\n",
       "     'title': [{'type': 'text',\n",
       "       'text': {'content': 'MANIAC', 'link': None},\n",
       "       'annotations': {'bold': False,\n",
       "        'italic': False,\n",
       "        'strikethrough': False,\n",
       "        'underline': False,\n",
       "        'code': False,\n",
       "        'color': 'default'},\n",
       "       'plain_text': 'MANIAC',\n",
       "       'href': None}]}},\n",
       "   'url': 'https://www.notion.so/MANIAC-5a078d0b2a994d3ebd41a71b6e82ee7b',\n",
       "   'public_url': None},\n",
       "  {'object': 'page',\n",
       "   'id': 'cd8b9912-5657-4ce0-8c72-0344096fb2d2',\n",
       "   'created_time': '2024-08-12T16:58:00.000Z',\n",
       "   'last_edited_time': '2024-08-12T16:59:00.000Z',\n",
       "   'created_by': {'object': 'user',\n",
       "    'id': '074559e7-8c13-4b7a-899e-4012f06d6320'},\n",
       "   'last_edited_by': {'object': 'user',\n",
       "    'id': '074559e7-8c13-4b7a-899e-4012f06d6320'},\n",
       "   'cover': None,\n",
       "   'icon': None,\n",
       "   'parent': {'type': 'database_id',\n",
       "    'database_id': '1b71653e-3631-48e0-b2ba-399638473ced'},\n",
       "   'archived': False,\n",
       "   'in_trash': False,\n",
       "   'properties': {'Summary': {'id': '?\\\\25',\n",
       "     'type': 'rich_text',\n",
       "     'rich_text': []},\n",
       "    'cover': {'id': 'Urz>',\n",
       "     'type': 'url',\n",
       "     'url': 'http://books.google.com/books/content?id=ylFaDwAAQBAJ&printsec=frontcover&img=1&zoom=1&edge=curl&source=gbs_api'},\n",
       "    'Total pages': {'id': '\\\\?}w', 'type': 'number', 'number': 739},\n",
       "    'Date started': {'id': 'evL[',\n",
       "     'type': 'date',\n",
       "     'date': {'start': '2022-03-20', 'end': None, 'time_zone': None}},\n",
       "    'Date finished': {'id': 'flfJ',\n",
       "     'type': 'date',\n",
       "     'date': {'start': '2022-07-22', 'end': None, 'time_zone': None}},\n",
       "    'Progress': {'id': 'nviz',\n",
       "     'type': 'formula',\n",
       "     'formula': {'type': 'number', 'number': 0}},\n",
       "    'Author': {'id': 'qNw_',\n",
       "     'type': 'rich_text',\n",
       "     'rich_text': [{'type': 'text',\n",
       "       'text': {'content': 'Walter Isaacson', 'link': None},\n",
       "       'annotations': {'bold': False,\n",
       "        'italic': False,\n",
       "        'strikethrough': False,\n",
       "        'underline': False,\n",
       "        'code': False,\n",
       "        'color': 'default'},\n",
       "       'plain_text': 'Walter Isaacson',\n",
       "       'href': None}]},\n",
       "    'Status': {'id': 'qRc\\\\',\n",
       "     'type': 'status',\n",
       "     'status': {'id': '50d821ad-f638-4b79-970f-11b2ae9f8c78',\n",
       "      'name': 'done',\n",
       "      'color': 'green'}},\n",
       "    'Title': {'id': 'title',\n",
       "     'type': 'title',\n",
       "     'title': [{'type': 'text',\n",
       "       'text': {'content': 'Leonardo da Vinci', 'link': None},\n",
       "       'annotations': {'bold': False,\n",
       "        'italic': False,\n",
       "        'strikethrough': False,\n",
       "        'underline': False,\n",
       "        'code': False,\n",
       "        'color': 'default'},\n",
       "       'plain_text': 'Leonardo da Vinci',\n",
       "       'href': None}]}},\n",
       "   'url': 'https://www.notion.so/Leonardo-da-Vinci-cd8b991256574ce08c720344096fb2d2',\n",
       "   'public_url': None},\n",
       "  {'object': 'page',\n",
       "   'id': '39be01c7-b5a2-483e-9c2c-3500073275a1',\n",
       "   'created_time': '2024-08-12T16:58:00.000Z',\n",
       "   'last_edited_time': '2024-08-12T16:59:00.000Z',\n",
       "   'created_by': {'object': 'user',\n",
       "    'id': '074559e7-8c13-4b7a-899e-4012f06d6320'},\n",
       "   'last_edited_by': {'object': 'user',\n",
       "    'id': '074559e7-8c13-4b7a-899e-4012f06d6320'},\n",
       "   'cover': None,\n",
       "   'icon': None,\n",
       "   'parent': {'type': 'database_id',\n",
       "    'database_id': '1b71653e-3631-48e0-b2ba-399638473ced'},\n",
       "   'archived': False,\n",
       "   'in_trash': False,\n",
       "   'properties': {'Summary': {'id': '?\\\\25',\n",
       "     'type': 'rich_text',\n",
       "     'rich_text': []},\n",
       "    'cover': {'id': 'Urz>',\n",
       "     'type': 'url',\n",
       "     'url': 'http://books.google.com/books/content?id=gGBrEAAAQBAJ&printsec=frontcover&img=1&zoom=1&edge=curl&source=gbs_api'},\n",
       "    'Total pages': {'id': '\\\\?}w', 'type': 'number', 'number': 2016},\n",
       "    'Date started': {'id': 'evL[',\n",
       "     'type': 'date',\n",
       "     'date': {'start': '2023-10-21', 'end': None, 'time_zone': None}},\n",
       "    'Date finished': {'id': 'flfJ',\n",
       "     'type': 'date',\n",
       "     'date': {'start': '2024-01-02', 'end': None, 'time_zone': None}},\n",
       "    'Progress': {'id': 'nviz',\n",
       "     'type': 'formula',\n",
       "     'formula': {'type': 'number', 'number': 0}},\n",
       "    'Author': {'id': 'qNw_',\n",
       "     'type': 'rich_text',\n",
       "     'rich_text': [{'type': 'text',\n",
       "       'text': {'content': 'Leo Tolstoi', 'link': None},\n",
       "       'annotations': {'bold': False,\n",
       "        'italic': False,\n",
       "        'strikethrough': False,\n",
       "        'underline': False,\n",
       "        'code': False,\n",
       "        'color': 'default'},\n",
       "       'plain_text': 'Leo Tolstoi',\n",
       "       'href': None}]},\n",
       "    'Status': {'id': 'qRc\\\\',\n",
       "     'type': 'status',\n",
       "     'status': {'id': '50d821ad-f638-4b79-970f-11b2ae9f8c78',\n",
       "      'name': 'done',\n",
       "      'color': 'green'}},\n",
       "    'Title': {'id': 'title',\n",
       "     'type': 'title',\n",
       "     'title': [{'type': 'text',\n",
       "       'text': {'content': 'Krieg und Frieden', 'link': None},\n",
       "       'annotations': {'bold': False,\n",
       "        'italic': False,\n",
       "        'strikethrough': False,\n",
       "        'underline': False,\n",
       "        'code': False,\n",
       "        'color': 'default'},\n",
       "       'plain_text': 'Krieg und Frieden',\n",
       "       'href': None}]}},\n",
       "   'url': 'https://www.notion.so/Krieg-und-Frieden-39be01c7b5a2483e9c2c3500073275a1',\n",
       "   'public_url': None},\n",
       "  {'object': 'page',\n",
       "   'id': 'c5791b1d-7f90-4e18-a2f9-cf6014245926',\n",
       "   'created_time': '2024-08-12T16:58:00.000Z',\n",
       "   'last_edited_time': '2024-08-12T16:59:00.000Z',\n",
       "   'created_by': {'object': 'user',\n",
       "    'id': '074559e7-8c13-4b7a-899e-4012f06d6320'},\n",
       "   'last_edited_by': {'object': 'user',\n",
       "    'id': '074559e7-8c13-4b7a-899e-4012f06d6320'},\n",
       "   'cover': None,\n",
       "   'icon': None,\n",
       "   'parent': {'type': 'database_id',\n",
       "    'database_id': '1b71653e-3631-48e0-b2ba-399638473ced'},\n",
       "   'archived': False,\n",
       "   'in_trash': False,\n",
       "   'properties': {'Category': {'id': '/7eo',\n",
       "     'type': 'select',\n",
       "     'select': {'id': 'r\\\\pO', 'name': 'Fiction', 'color': 'default'}},\n",
       "    'Summary': {'id': '?\\\\25', 'type': 'rich_text', 'rich_text': []},\n",
       "    'cover': {'id': 'Urz>',\n",
       "     'type': 'url',\n",
       "     'url': 'http://books.google.com/books/content?id=VZTwDwAAQBAJ&printsec=frontcover&img=1&zoom=1&edge=curl&source=gbs_api'},\n",
       "    'Total pages': {'id': '\\\\?}w', 'type': 'number', 'number': 265},\n",
       "    'Date started': {'id': 'evL[',\n",
       "     'type': 'date',\n",
       "     'date': {'start': '2021-04-28', 'end': None, 'time_zone': None}},\n",
       "    'Date finished': {'id': 'flfJ',\n",
       "     'type': 'date',\n",
       "     'date': {'start': '2021-06-26', 'end': None, 'time_zone': None}},\n",
       "    'Progress': {'id': 'nviz',\n",
       "     'type': 'formula',\n",
       "     'formula': {'type': 'number', 'number': 0}},\n",
       "    'Author': {'id': 'qNw_',\n",
       "     'type': 'rich_text',\n",
       "     'rich_text': [{'type': 'text',\n",
       "       'text': {'content': 'Kazuo Ishiguro', 'link': None},\n",
       "       'annotations': {'bold': False,\n",
       "        'italic': False,\n",
       "        'strikethrough': False,\n",
       "        'underline': False,\n",
       "        'code': False,\n",
       "        'color': 'default'},\n",
       "       'plain_text': 'Kazuo Ishiguro',\n",
       "       'href': None}]},\n",
       "    'Status': {'id': 'qRc\\\\',\n",
       "     'type': 'status',\n",
       "     'status': {'id': '50d821ad-f638-4b79-970f-11b2ae9f8c78',\n",
       "      'name': 'done',\n",
       "      'color': 'green'}},\n",
       "    'Title': {'id': 'title',\n",
       "     'type': 'title',\n",
       "     'title': [{'type': 'text',\n",
       "       'text': {'content': 'Klara und die Sonne', 'link': None},\n",
       "       'annotations': {'bold': False,\n",
       "        'italic': False,\n",
       "        'strikethrough': False,\n",
       "        'underline': False,\n",
       "        'code': False,\n",
       "        'color': 'default'},\n",
       "       'plain_text': 'Klara und die Sonne',\n",
       "       'href': None}]}},\n",
       "   'url': 'https://www.notion.so/Klara-und-die-Sonne-c5791b1d7f904e18a2f9cf6014245926',\n",
       "   'public_url': None},\n",
       "  {'object': 'page',\n",
       "   'id': '55070a2f-9600-476c-a1ec-573438d524ed',\n",
       "   'created_time': '2024-08-12T16:58:00.000Z',\n",
       "   'last_edited_time': '2024-08-12T16:59:00.000Z',\n",
       "   'created_by': {'object': 'user',\n",
       "    'id': '074559e7-8c13-4b7a-899e-4012f06d6320'},\n",
       "   'last_edited_by': {'object': 'user',\n",
       "    'id': '074559e7-8c13-4b7a-899e-4012f06d6320'},\n",
       "   'cover': None,\n",
       "   'icon': None,\n",
       "   'parent': {'type': 'database_id',\n",
       "    'database_id': '1b71653e-3631-48e0-b2ba-399638473ced'},\n",
       "   'archived': False,\n",
       "   'in_trash': False,\n",
       "   'properties': {'Summary': {'id': '?\\\\25',\n",
       "     'type': 'rich_text',\n",
       "     'rich_text': []},\n",
       "    'cover': {'id': 'Urz>',\n",
       "     'type': 'url',\n",
       "     'url': 'http://books.google.com/books/content?id=3ZyDEAAAQBAJ&printsec=frontcover&img=1&zoom=1&edge=curl&source=gbs_api'},\n",
       "    'Total pages': {'id': '\\\\?}w', 'type': 'number', 'number': 453},\n",
       "    'Progress': {'id': 'nviz',\n",
       "     'type': 'formula',\n",
       "     'formula': {'type': 'number', 'number': 0}},\n",
       "    'Author': {'id': 'qNw_',\n",
       "     'type': 'rich_text',\n",
       "     'rich_text': [{'type': 'text',\n",
       "       'text': {'content': 'Jonathan Eig', 'link': None},\n",
       "       'annotations': {'bold': False,\n",
       "        'italic': False,\n",
       "        'strikethrough': False,\n",
       "        'underline': False,\n",
       "        'code': False,\n",
       "        'color': 'default'},\n",
       "       'plain_text': 'Jonathan Eig',\n",
       "       'href': None}]},\n",
       "    'Status': {'id': 'qRc\\\\',\n",
       "     'type': 'status',\n",
       "     'status': {'id': '50d821ad-f638-4b79-970f-11b2ae9f8c78',\n",
       "      'name': 'done',\n",
       "      'color': 'green'}},\n",
       "    'Title': {'id': 'title',\n",
       "     'type': 'title',\n",
       "     'title': [{'type': 'text',\n",
       "       'text': {'content': 'King: A Life', 'link': None},\n",
       "       'annotations': {'bold': False,\n",
       "        'italic': False,\n",
       "        'strikethrough': False,\n",
       "        'underline': False,\n",
       "        'code': False,\n",
       "        'color': 'default'},\n",
       "       'plain_text': 'King: A Life',\n",
       "       'href': None}]}},\n",
       "   'url': 'https://www.notion.so/King-A-Life-55070a2f9600476ca1ec573438d524ed',\n",
       "   'public_url': None},\n",
       "  {'object': 'page',\n",
       "   'id': '3afc439c-5c1c-42c6-820d-bbe1e3165921',\n",
       "   'created_time': '2024-08-12T16:58:00.000Z',\n",
       "   'last_edited_time': '2024-08-12T16:59:00.000Z',\n",
       "   'created_by': {'object': 'user',\n",
       "    'id': '074559e7-8c13-4b7a-899e-4012f06d6320'},\n",
       "   'last_edited_by': {'object': 'user',\n",
       "    'id': '074559e7-8c13-4b7a-899e-4012f06d6320'},\n",
       "   'cover': None,\n",
       "   'icon': None,\n",
       "   'parent': {'type': 'database_id',\n",
       "    'database_id': '1b71653e-3631-48e0-b2ba-399638473ced'},\n",
       "   'archived': False,\n",
       "   'in_trash': False,\n",
       "   'properties': {'Category': {'id': '/7eo',\n",
       "     'type': 'select',\n",
       "     'select': {'id': 'r\\\\pO', 'name': 'Fiction', 'color': 'default'}},\n",
       "    'Summary': {'id': '?\\\\25', 'type': 'rich_text', 'rich_text': []},\n",
       "    'cover': {'id': 'Urz>',\n",
       "     'type': 'url',\n",
       "     'url': 'http://books.google.com/books/content?id=pxKTDwAAQBAJ&printsec=frontcover&img=1&zoom=1&edge=curl&source=gbs_api'},\n",
       "    'Total pages': {'id': '\\\\?}w', 'type': 'number', 'number': 493},\n",
       "    'Date started': {'id': 'evL[',\n",
       "     'type': 'date',\n",
       "     'date': {'start': '2022-10-24', 'end': None, 'time_zone': None}},\n",
       "    'Date finished': {'id': 'flfJ',\n",
       "     'type': 'date',\n",
       "     'date': {'start': '2023-12-10', 'end': None, 'time_zone': None}},\n",
       "    'Progress': {'id': 'nviz',\n",
       "     'type': 'formula',\n",
       "     'formula': {'type': 'number', 'number': 0}},\n",
       "    'Author': {'id': 'qNw_',\n",
       "     'type': 'rich_text',\n",
       "     'rich_text': [{'type': 'text',\n",
       "       'text': {'content': 'Madeline Miller', 'link': None},\n",
       "       'annotations': {'bold': False,\n",
       "        'italic': False,\n",
       "        'strikethrough': False,\n",
       "        'underline': False,\n",
       "        'code': False,\n",
       "        'color': 'default'},\n",
       "       'plain_text': 'Madeline Miller',\n",
       "       'href': None}]},\n",
       "    'Status': {'id': 'qRc\\\\',\n",
       "     'type': 'status',\n",
       "     'status': {'id': '50d821ad-f638-4b79-970f-11b2ae9f8c78',\n",
       "      'name': 'done',\n",
       "      'color': 'green'}},\n",
       "    'Title': {'id': 'title',\n",
       "     'type': 'title',\n",
       "     'title': [{'type': 'text',\n",
       "       'text': {'content': 'Ich bin Circe', 'link': None},\n",
       "       'annotations': {'bold': False,\n",
       "        'italic': False,\n",
       "        'strikethrough': False,\n",
       "        'underline': False,\n",
       "        'code': False,\n",
       "        'color': 'default'},\n",
       "       'plain_text': 'Ich bin Circe',\n",
       "       'href': None}]}},\n",
       "   'url': 'https://www.notion.so/Ich-bin-Circe-3afc439c5c1c42c6820dbbe1e3165921',\n",
       "   'public_url': None},\n",
       "  {'object': 'page',\n",
       "   'id': 'fb6d0d08-9b88-4c70-b1d7-677f72f4e527',\n",
       "   'created_time': '2024-08-12T16:58:00.000Z',\n",
       "   'last_edited_time': '2024-08-12T16:59:00.000Z',\n",
       "   'created_by': {'object': 'user',\n",
       "    'id': '074559e7-8c13-4b7a-899e-4012f06d6320'},\n",
       "   'last_edited_by': {'object': 'user',\n",
       "    'id': '074559e7-8c13-4b7a-899e-4012f06d6320'},\n",
       "   'cover': None,\n",
       "   'icon': None,\n",
       "   'parent': {'type': 'database_id',\n",
       "    'database_id': '1b71653e-3631-48e0-b2ba-399638473ced'},\n",
       "   'archived': False,\n",
       "   'in_trash': False,\n",
       "   'properties': {'Summary': {'id': '?\\\\25',\n",
       "     'type': 'rich_text',\n",
       "     'rich_text': []},\n",
       "    'cover': {'id': 'Urz>',\n",
       "     'type': 'url',\n",
       "     'url': 'http://books.google.com/books/content?id=R7rEDwAAQBAJ&printsec=frontcover&img=1&zoom=1&edge=curl&source=gbs_api'},\n",
       "    'Total pages': {'id': '\\\\?}w', 'type': 'number', 'number': 496},\n",
       "    'Date started': {'id': 'evL[',\n",
       "     'type': 'date',\n",
       "     'date': {'start': '2020-08-01', 'end': None, 'time_zone': None}},\n",
       "    'Date finished': {'id': 'flfJ',\n",
       "     'type': 'date',\n",
       "     'date': {'start': '2020-09-01', 'end': None, 'time_zone': None}},\n",
       "    'Progress': {'id': 'nviz',\n",
       "     'type': 'formula',\n",
       "     'formula': {'type': 'number', 'number': 0}},\n",
       "    'Author': {'id': 'qNw_',\n",
       "     'type': 'rich_text',\n",
       "     'rich_text': [{'type': 'text',\n",
       "       'text': {'content': 'Rutger Bregman', 'link': None},\n",
       "       'annotations': {'bold': False,\n",
       "        'italic': False,\n",
       "        'strikethrough': False,\n",
       "        'underline': False,\n",
       "        'code': False,\n",
       "        'color': 'default'},\n",
       "       'plain_text': 'Rutger Bregman',\n",
       "       'href': None}]},\n",
       "    'Status': {'id': 'qRc\\\\',\n",
       "     'type': 'status',\n",
       "     'status': {'id': '50d821ad-f638-4b79-970f-11b2ae9f8c78',\n",
       "      'name': 'done',\n",
       "      'color': 'green'}},\n",
       "    'Title': {'id': 'title',\n",
       "     'type': 'title',\n",
       "     'title': [{'type': 'text',\n",
       "       'text': {'content': 'Humankind', 'link': None},\n",
       "       'annotations': {'bold': False,\n",
       "        'italic': False,\n",
       "        'strikethrough': False,\n",
       "        'underline': False,\n",
       "        'code': False,\n",
       "        'color': 'default'},\n",
       "       'plain_text': 'Humankind',\n",
       "       'href': None}]}},\n",
       "   'url': 'https://www.notion.so/Humankind-fb6d0d089b884c70b1d7677f72f4e527',\n",
       "   'public_url': None},\n",
       "  {'object': 'page',\n",
       "   'id': '7c105582-e6ae-43dd-ae3b-842c2599461c',\n",
       "   'created_time': '2024-08-12T16:58:00.000Z',\n",
       "   'last_edited_time': '2024-08-12T16:59:00.000Z',\n",
       "   'created_by': {'object': 'user',\n",
       "    'id': '074559e7-8c13-4b7a-899e-4012f06d6320'},\n",
       "   'last_edited_by': {'object': 'user',\n",
       "    'id': '074559e7-8c13-4b7a-899e-4012f06d6320'},\n",
       "   'cover': None,\n",
       "   'icon': None,\n",
       "   'parent': {'type': 'database_id',\n",
       "    'database_id': '1b71653e-3631-48e0-b2ba-399638473ced'},\n",
       "   'archived': False,\n",
       "   'in_trash': False,\n",
       "   'properties': {'Summary': {'id': '?\\\\25',\n",
       "     'type': 'rich_text',\n",
       "     'rich_text': []},\n",
       "    'cover': {'id': 'Urz>',\n",
       "     'type': 'url',\n",
       "     'url': 'http://books.google.com/books/content?id=B6MfSQAACAAJ&printsec=frontcover&img=1&zoom=1&source=gbs_api'},\n",
       "    'Total pages': {'id': '\\\\?}w', 'type': 'number', 'number': 672},\n",
       "    'Date started': {'id': 'evL[',\n",
       "     'type': 'date',\n",
       "     'date': {'start': '2023-12-18', 'end': None, 'time_zone': None}},\n",
       "    'Date finished': {'id': 'flfJ',\n",
       "     'type': 'date',\n",
       "     'date': {'start': '2024-03-10', 'end': None, 'time_zone': None}},\n",
       "    'Progress': {'id': 'nviz',\n",
       "     'type': 'formula',\n",
       "     'formula': {'type': 'number', 'number': 0}},\n",
       "    'Author': {'id': 'qNw_',\n",
       "     'type': 'rich_text',\n",
       "     'rich_text': [{'type': 'text',\n",
       "       'text': {'content': 'Kai Bird, Martin J. Sherwin', 'link': None},\n",
       "       'annotations': {'bold': False,\n",
       "        'italic': False,\n",
       "        'strikethrough': False,\n",
       "        'underline': False,\n",
       "        'code': False,\n",
       "        'color': 'default'},\n",
       "       'plain_text': 'Kai Bird, Martin J. Sherwin',\n",
       "       'href': None}]},\n",
       "    'Status': {'id': 'qRc\\\\',\n",
       "     'type': 'status',\n",
       "     'status': {'id': '50d821ad-f638-4b79-970f-11b2ae9f8c78',\n",
       "      'name': 'done',\n",
       "      'color': 'green'}},\n",
       "    'Title': {'id': 'title',\n",
       "     'type': 'title',\n",
       "     'title': [{'type': 'text',\n",
       "       'text': {'content': 'J. Robert Oppenheimer', 'link': None},\n",
       "       'annotations': {'bold': False,\n",
       "        'italic': False,\n",
       "        'strikethrough': False,\n",
       "        'underline': False,\n",
       "        'code': False,\n",
       "        'color': 'default'},\n",
       "       'plain_text': 'J. Robert Oppenheimer',\n",
       "       'href': None}]}},\n",
       "   'url': 'https://www.notion.so/J-Robert-Oppenheimer-7c105582e6ae43ddae3b842c2599461c',\n",
       "   'public_url': None},\n",
       "  {'object': 'page',\n",
       "   'id': 'f623a0ee-01a7-40df-b87f-c8dc57c311e9',\n",
       "   'created_time': '2024-08-12T16:58:00.000Z',\n",
       "   'last_edited_time': '2024-08-12T16:59:00.000Z',\n",
       "   'created_by': {'object': 'user',\n",
       "    'id': '074559e7-8c13-4b7a-899e-4012f06d6320'},\n",
       "   'last_edited_by': {'object': 'user',\n",
       "    'id': '074559e7-8c13-4b7a-899e-4012f06d6320'},\n",
       "   'cover': None,\n",
       "   'icon': None,\n",
       "   'parent': {'type': 'database_id',\n",
       "    'database_id': '1b71653e-3631-48e0-b2ba-399638473ced'},\n",
       "   'archived': False,\n",
       "   'in_trash': False,\n",
       "   'properties': {'Summary': {'id': '?\\\\25',\n",
       "     'type': 'rich_text',\n",
       "     'rich_text': []},\n",
       "    'cover': {'id': 'Urz>',\n",
       "     'type': 'url',\n",
       "     'url': 'http://books.google.com/books/content?id=pHK0DwAAQBAJ&printsec=frontcover&img=1&zoom=1&edge=curl&source=gbs_api'},\n",
       "    'Total pages': {'id': '\\\\?}w', 'type': 'number', 'number': 201},\n",
       "    'Date started': {'id': 'evL[',\n",
       "     'type': 'date',\n",
       "     'date': {'start': '2021-10-01', 'end': None, 'time_zone': None}},\n",
       "    'Date finished': {'id': 'flfJ',\n",
       "     'type': 'date',\n",
       "     'date': {'start': '2021-10-03', 'end': None, 'time_zone': None}},\n",
       "    'Progress': {'id': 'nviz',\n",
       "     'type': 'formula',\n",
       "     'formula': {'type': 'number', 'number': 0}},\n",
       "    'Author': {'id': 'qNw_',\n",
       "     'type': 'rich_text',\n",
       "     'rich_text': [{'type': 'text',\n",
       "       'text': {'content': 'Bill Gates', 'link': None},\n",
       "       'annotations': {'bold': False,\n",
       "        'italic': False,\n",
       "        'strikethrough': False,\n",
       "        'underline': False,\n",
       "        'code': False,\n",
       "        'color': 'default'},\n",
       "       'plain_text': 'Bill Gates',\n",
       "       'href': None}]},\n",
       "    'Status': {'id': 'qRc\\\\',\n",
       "     'type': 'status',\n",
       "     'status': {'id': '50d821ad-f638-4b79-970f-11b2ae9f8c78',\n",
       "      'name': 'done',\n",
       "      'color': 'green'}},\n",
       "    'Title': {'id': 'title',\n",
       "     'type': 'title',\n",
       "     'title': [{'type': 'text',\n",
       "       'text': {'content': 'How to Avoid a Climate Disaster', 'link': None},\n",
       "       'annotations': {'bold': False,\n",
       "        'italic': False,\n",
       "        'strikethrough': False,\n",
       "        'underline': False,\n",
       "        'code': False,\n",
       "        'color': 'default'},\n",
       "       'plain_text': 'How to Avoid a Climate Disaster',\n",
       "       'href': None}]}},\n",
       "   'url': 'https://www.notion.so/How-to-Avoid-a-Climate-Disaster-f623a0ee01a740dfb87fc8dc57c311e9',\n",
       "   'public_url': None},\n",
       "  {'object': 'page',\n",
       "   'id': '2ef6239d-364c-4e58-bdd9-d898412a8303',\n",
       "   'created_time': '2024-08-12T16:58:00.000Z',\n",
       "   'last_edited_time': '2024-08-12T16:59:00.000Z',\n",
       "   'created_by': {'object': 'user',\n",
       "    'id': '074559e7-8c13-4b7a-899e-4012f06d6320'},\n",
       "   'last_edited_by': {'object': 'user',\n",
       "    'id': '074559e7-8c13-4b7a-899e-4012f06d6320'},\n",
       "   'cover': None,\n",
       "   'icon': None,\n",
       "   'parent': {'type': 'database_id',\n",
       "    'database_id': '1b71653e-3631-48e0-b2ba-399638473ced'},\n",
       "   'archived': False,\n",
       "   'in_trash': False,\n",
       "   'properties': {'Summary': {'id': '?\\\\25',\n",
       "     'type': 'rich_text',\n",
       "     'rich_text': []},\n",
       "    'cover': {'id': 'Urz>',\n",
       "     'type': 'url',\n",
       "     'url': 'http://books.google.com/books/content?id=iF3ODgAAQBAJ&printsec=frontcover&img=1&zoom=1&edge=curl&source=gbs_api'},\n",
       "    'Total pages': {'id': '\\\\?}w', 'type': 'number', 'number': 322},\n",
       "    'Date started': {'id': 'evL[',\n",
       "     'type': 'date',\n",
       "     'date': {'start': '2020-12-25', 'end': None, 'time_zone': None}},\n",
       "    'Date finished': {'id': 'flfJ',\n",
       "     'type': 'date',\n",
       "     'date': {'start': '2021-02-27', 'end': None, 'time_zone': None}},\n",
       "    'Progress': {'id': 'nviz',\n",
       "     'type': 'formula',\n",
       "     'formula': {'type': 'number', 'number': 0}},\n",
       "    'Author': {'id': 'qNw_',\n",
       "     'type': 'rich_text',\n",
       "     'rich_text': [{'type': 'text',\n",
       "       'text': {'content': 'Steven Levitsky, Daniel Ziblatt', 'link': None},\n",
       "       'annotations': {'bold': False,\n",
       "        'italic': False,\n",
       "        'strikethrough': False,\n",
       "        'underline': False,\n",
       "        'code': False,\n",
       "        'color': 'default'},\n",
       "       'plain_text': 'Steven Levitsky, Daniel Ziblatt',\n",
       "       'href': None}]},\n",
       "    'Status': {'id': 'qRc\\\\',\n",
       "     'type': 'status',\n",
       "     'status': {'id': '50d821ad-f638-4b79-970f-11b2ae9f8c78',\n",
       "      'name': 'done',\n",
       "      'color': 'green'}},\n",
       "    'Title': {'id': 'title',\n",
       "     'type': 'title',\n",
       "     'title': [{'type': 'text',\n",
       "       'text': {'content': 'How Democracies Die', 'link': None},\n",
       "       'annotations': {'bold': False,\n",
       "        'italic': False,\n",
       "        'strikethrough': False,\n",
       "        'underline': False,\n",
       "        'code': False,\n",
       "        'color': 'default'},\n",
       "       'plain_text': 'How Democracies Die',\n",
       "       'href': None}]}},\n",
       "   'url': 'https://www.notion.so/How-Democracies-Die-2ef6239d364c4e58bdd9d898412a8303',\n",
       "   'public_url': None},\n",
       "  {'object': 'page',\n",
       "   'id': '4d59b334-7a59-4d6b-807e-bd65bad128b3',\n",
       "   'created_time': '2024-08-12T16:58:00.000Z',\n",
       "   'last_edited_time': '2024-08-12T16:59:00.000Z',\n",
       "   'created_by': {'object': 'user',\n",
       "    'id': '074559e7-8c13-4b7a-899e-4012f06d6320'},\n",
       "   'last_edited_by': {'object': 'user',\n",
       "    'id': '074559e7-8c13-4b7a-899e-4012f06d6320'},\n",
       "   'cover': None,\n",
       "   'icon': None,\n",
       "   'parent': {'type': 'database_id',\n",
       "    'database_id': '1b71653e-3631-48e0-b2ba-399638473ced'},\n",
       "   'archived': False,\n",
       "   'in_trash': False,\n",
       "   'properties': {'Summary': {'id': '?\\\\25',\n",
       "     'type': 'rich_text',\n",
       "     'rich_text': []},\n",
       "    'cover': {'id': 'Urz>',\n",
       "     'type': 'url',\n",
       "     'url': 'http://books.google.com/books/content?id=sFpiAAAAMAAJ&printsec=frontcover&img=1&zoom=1&source=gbs_api'},\n",
       "    'Total pages': {'id': '\\\\?}w', 'type': 'number', 'number': 300},\n",
       "    'Date started': {'id': 'evL[',\n",
       "     'type': 'date',\n",
       "     'date': {'start': '2024-04-13', 'end': None, 'time_zone': None}},\n",
       "    'Progress': {'id': 'nviz',\n",
       "     'type': 'formula',\n",
       "     'formula': {'type': 'number', 'number': 0}},\n",
       "    'Author': {'id': 'qNw_',\n",
       "     'type': 'rich_text',\n",
       "     'rich_text': [{'type': 'text',\n",
       "       'text': {'content': 'Gustav Adolf Seeck', 'link': None},\n",
       "       'annotations': {'bold': False,\n",
       "        'italic': False,\n",
       "        'strikethrough': False,\n",
       "        'underline': False,\n",
       "        'code': False,\n",
       "        'color': 'default'},\n",
       "       'plain_text': 'Gustav Adolf Seeck',\n",
       "       'href': None}]},\n",
       "    'Status': {'id': 'qRc\\\\',\n",
       "     'type': 'status',\n",
       "     'status': {'id': '50d821ad-f638-4b79-970f-11b2ae9f8c78',\n",
       "      'name': 'done',\n",
       "      'color': 'green'}},\n",
       "    'Title': {'id': 'title',\n",
       "     'type': 'title',\n",
       "     'title': [{'type': 'text',\n",
       "       'text': {'content': 'Homer', 'link': None},\n",
       "       'annotations': {'bold': False,\n",
       "        'italic': False,\n",
       "        'strikethrough': False,\n",
       "        'underline': False,\n",
       "        'code': False,\n",
       "        'color': 'default'},\n",
       "       'plain_text': 'Homer',\n",
       "       'href': None}]}},\n",
       "   'url': 'https://www.notion.so/Homer-4d59b3347a594d6b807ebd65bad128b3',\n",
       "   'public_url': None},\n",
       "  {'object': 'page',\n",
       "   'id': '007833c6-26d1-4e05-abc5-2673b4055e15',\n",
       "   'created_time': '2024-08-12T16:58:00.000Z',\n",
       "   'last_edited_time': '2024-08-12T16:59:00.000Z',\n",
       "   'created_by': {'object': 'user',\n",
       "    'id': '074559e7-8c13-4b7a-899e-4012f06d6320'},\n",
       "   'last_edited_by': {'object': 'user',\n",
       "    'id': '074559e7-8c13-4b7a-899e-4012f06d6320'},\n",
       "   'cover': None,\n",
       "   'icon': None,\n",
       "   'parent': {'type': 'database_id',\n",
       "    'database_id': '1b71653e-3631-48e0-b2ba-399638473ced'},\n",
       "   'archived': False,\n",
       "   'in_trash': False,\n",
       "   'properties': {'Category': {'id': '/7eo',\n",
       "     'type': 'select',\n",
       "     'select': {'id': 'r\\\\pO', 'name': 'Fiction', 'color': 'default'}},\n",
       "    'Summary': {'id': '?\\\\25', 'type': 'rich_text', 'rich_text': []},\n",
       "    'cover': {'id': 'Urz>',\n",
       "     'type': 'url',\n",
       "     'url': 'http://books.google.com/books/content?id=cB_iDwAAQBAJ&printsec=frontcover&img=1&zoom=1&edge=curl&source=gbs_api'},\n",
       "    'Total pages': {'id': '\\\\?}w', 'type': 'number', 'number': 295},\n",
       "    'Date started': {'id': 'evL[',\n",
       "     'type': 'date',\n",
       "     'date': {'start': '2021-09-04', 'end': None, 'time_zone': None}},\n",
       "    'Date finished': {'id': 'flfJ',\n",
       "     'type': 'date',\n",
       "     'date': {'start': '2021-11-01', 'end': None, 'time_zone': None}},\n",
       "    'Progress': {'id': 'nviz',\n",
       "     'type': 'formula',\n",
       "     'formula': {'type': 'number', 'number': 0}},\n",
       "    'Author': {'id': 'qNw_',\n",
       "     'type': 'rich_text',\n",
       "     'rich_text': [{'type': 'text',\n",
       "       'text': {'content': 'Joachim Meyerhoff', 'link': None},\n",
       "       'annotations': {'bold': False,\n",
       "        'italic': False,\n",
       "        'strikethrough': False,\n",
       "        'underline': False,\n",
       "        'code': False,\n",
       "        'color': 'default'},\n",
       "       'plain_text': 'Joachim Meyerhoff',\n",
       "       'href': None}]},\n",
       "    'Status': {'id': 'qRc\\\\',\n",
       "     'type': 'status',\n",
       "     'status': {'id': '50d821ad-f638-4b79-970f-11b2ae9f8c78',\n",
       "      'name': 'done',\n",
       "      'color': 'green'}},\n",
       "    'Title': {'id': 'title',\n",
       "     'type': 'title',\n",
       "     'title': [{'type': 'text',\n",
       "       'text': {'content': 'Hamster im hinteren Stromgebiet', 'link': None},\n",
       "       'annotations': {'bold': False,\n",
       "        'italic': False,\n",
       "        'strikethrough': False,\n",
       "        'underline': False,\n",
       "        'code': False,\n",
       "        'color': 'default'},\n",
       "       'plain_text': 'Hamster im hinteren Stromgebiet',\n",
       "       'href': None}]}},\n",
       "   'url': 'https://www.notion.so/Hamster-im-hinteren-Stromgebiet-007833c626d14e05abc52673b4055e15',\n",
       "   'public_url': None},\n",
       "  {'object': 'page',\n",
       "   'id': '31d196a9-ae75-45c1-a28a-78a8100c5990',\n",
       "   'created_time': '2024-08-12T16:58:00.000Z',\n",
       "   'last_edited_time': '2024-08-12T16:59:00.000Z',\n",
       "   'created_by': {'object': 'user',\n",
       "    'id': '074559e7-8c13-4b7a-899e-4012f06d6320'},\n",
       "   'last_edited_by': {'object': 'user',\n",
       "    'id': '074559e7-8c13-4b7a-899e-4012f06d6320'},\n",
       "   'cover': None,\n",
       "   'icon': None,\n",
       "   'parent': {'type': 'database_id',\n",
       "    'database_id': '1b71653e-3631-48e0-b2ba-399638473ced'},\n",
       "   'archived': False,\n",
       "   'in_trash': False,\n",
       "   'properties': {'Summary': {'id': '?\\\\25',\n",
       "     'type': 'rich_text',\n",
       "     'rich_text': []},\n",
       "    'cover': {'id': 'Urz>',\n",
       "     'type': 'url',\n",
       "     'url': 'http://books.google.com/books/content?id=RsDcDwAAQBAJ&printsec=frontcover&img=1&zoom=1&edge=curl&source=gbs_api'},\n",
       "    'Total pages': {'id': '\\\\?}w', 'type': 'number', 'number': 449},\n",
       "    'Date started': {'id': 'evL[',\n",
       "     'type': 'date',\n",
       "     'date': {'start': '2024-04-07', 'end': None, 'time_zone': None}},\n",
       "    'Date finished': {'id': 'flfJ',\n",
       "     'type': 'date',\n",
       "     'date': {'start': '2024-05-07', 'end': None, 'time_zone': None}},\n",
       "    'Progress': {'id': 'nviz',\n",
       "     'type': 'formula',\n",
       "     'formula': {'type': 'number', 'number': 0}},\n",
       "    'Author': {'id': 'qNw_',\n",
       "     'type': 'rich_text',\n",
       "     'rich_text': [{'type': 'text',\n",
       "       'text': {'content': 'Stephen Fry', 'link': None},\n",
       "       'annotations': {'bold': False,\n",
       "        'italic': False,\n",
       "        'strikethrough': False,\n",
       "        'underline': False,\n",
       "        'code': False,\n",
       "        'color': 'default'},\n",
       "       'plain_text': 'Stephen Fry',\n",
       "       'href': None}]},\n",
       "    'Status': {'id': 'qRc\\\\',\n",
       "     'type': 'status',\n",
       "     'status': {'id': '50d821ad-f638-4b79-970f-11b2ae9f8c78',\n",
       "      'name': 'done',\n",
       "      'color': 'green'}},\n",
       "    'Title': {'id': 'title',\n",
       "     'type': 'title',\n",
       "     'title': [{'type': 'text',\n",
       "       'text': {'content': 'Helden', 'link': None},\n",
       "       'annotations': {'bold': False,\n",
       "        'italic': False,\n",
       "        'strikethrough': False,\n",
       "        'underline': False,\n",
       "        'code': False,\n",
       "        'color': 'default'},\n",
       "       'plain_text': 'Helden',\n",
       "       'href': None}]}},\n",
       "   'url': 'https://www.notion.so/Helden-31d196a9ae7545c1a28a78a8100c5990',\n",
       "   'public_url': None},\n",
       "  {'object': 'page',\n",
       "   'id': '9362e2db-5eda-46dd-b255-ec3608ac8494',\n",
       "   'created_time': '2024-08-12T16:58:00.000Z',\n",
       "   'last_edited_time': '2024-08-12T16:59:00.000Z',\n",
       "   'created_by': {'object': 'user',\n",
       "    'id': '074559e7-8c13-4b7a-899e-4012f06d6320'},\n",
       "   'last_edited_by': {'object': 'user',\n",
       "    'id': '074559e7-8c13-4b7a-899e-4012f06d6320'},\n",
       "   'cover': None,\n",
       "   'icon': None,\n",
       "   'parent': {'type': 'database_id',\n",
       "    'database_id': '1b71653e-3631-48e0-b2ba-399638473ced'},\n",
       "   'archived': False,\n",
       "   'in_trash': False,\n",
       "   'properties': {'Category': {'id': '/7eo',\n",
       "     'type': 'select',\n",
       "     'select': {'id': 'r\\\\pO', 'name': 'Fiction', 'color': 'default'}},\n",
       "    'Summary': {'id': '?\\\\25', 'type': 'rich_text', 'rich_text': []},\n",
       "    'cover': {'id': 'Urz>',\n",
       "     'type': 'url',\n",
       "     'url': 'http://books.google.com/books/content?id=-5grEAAAQBAJ&printsec=frontcover&img=1&zoom=1&edge=curl&source=gbs_api'},\n",
       "    'Total pages': {'id': '\\\\?}w', 'type': 'number', 'number': 329},\n",
       "    'Date started': {'id': 'evL[',\n",
       "     'type': 'date',\n",
       "     'date': {'start': '2023-01-16', 'end': None, 'time_zone': None}},\n",
       "    'Date finished': {'id': 'flfJ',\n",
       "     'type': 'date',\n",
       "     'date': {'start': '2023-02-23', 'end': None, 'time_zone': None}},\n",
       "    'Progress': {'id': 'nviz',\n",
       "     'type': 'formula',\n",
       "     'formula': {'type': 'number', 'number': 0}},\n",
       "    'Author': {'id': 'qNw_',\n",
       "     'type': 'rich_text',\n",
       "     'rich_text': [{'type': 'text',\n",
       "       'text': {'content': 'Edgar Selge', 'link': None},\n",
       "       'annotations': {'bold': False,\n",
       "        'italic': False,\n",
       "        'strikethrough': False,\n",
       "        'underline': False,\n",
       "        'code': False,\n",
       "        'color': 'default'},\n",
       "       'plain_text': 'Edgar Selge',\n",
       "       'href': None}]},\n",
       "    'Status': {'id': 'qRc\\\\',\n",
       "     'type': 'status',\n",
       "     'status': {'id': '50d821ad-f638-4b79-970f-11b2ae9f8c78',\n",
       "      'name': 'done',\n",
       "      'color': 'green'}},\n",
       "    'Title': {'id': 'title',\n",
       "     'type': 'title',\n",
       "     'title': [{'type': 'text',\n",
       "       'text': {'content': 'Hast du uns endlich gefunden', 'link': None},\n",
       "       'annotations': {'bold': False,\n",
       "        'italic': False,\n",
       "        'strikethrough': False,\n",
       "        'underline': False,\n",
       "        'code': False,\n",
       "        'color': 'default'},\n",
       "       'plain_text': 'Hast du uns endlich gefunden',\n",
       "       'href': None}]}},\n",
       "   'url': 'https://www.notion.so/Hast-du-uns-endlich-gefunden-9362e2db5eda46ddb255ec3608ac8494',\n",
       "   'public_url': None},\n",
       "  {'object': 'page',\n",
       "   'id': 'c6160371-995d-4988-9f7c-54bb73d90030',\n",
       "   'created_time': '2024-08-12T16:58:00.000Z',\n",
       "   'last_edited_time': '2024-08-12T16:59:00.000Z',\n",
       "   'created_by': {'object': 'user',\n",
       "    'id': '074559e7-8c13-4b7a-899e-4012f06d6320'},\n",
       "   'last_edited_by': {'object': 'user',\n",
       "    'id': '074559e7-8c13-4b7a-899e-4012f06d6320'},\n",
       "   'cover': None,\n",
       "   'icon': None,\n",
       "   'parent': {'type': 'database_id',\n",
       "    'database_id': '1b71653e-3631-48e0-b2ba-399638473ced'},\n",
       "   'archived': False,\n",
       "   'in_trash': False,\n",
       "   'properties': {'Summary': {'id': '?\\\\25',\n",
       "     'type': 'rich_text',\n",
       "     'rich_text': []},\n",
       "    'cover': {'id': 'Urz>',\n",
       "     'type': 'url',\n",
       "     'url': 'http://books.google.com/books/content?id=HLB3DwAAQBAJ&printsec=frontcover&img=1&zoom=1&edge=curl&source=gbs_api'},\n",
       "    'Total pages': {'id': '\\\\?}w', 'type': 'number', 'number': 181},\n",
       "    'Date started': {'id': 'evL[',\n",
       "     'type': 'date',\n",
       "     'date': {'start': '2022-07-16', 'end': None, 'time_zone': None}},\n",
       "    'Date finished': {'id': 'flfJ',\n",
       "     'type': 'date',\n",
       "     'date': {'start': '2022-08-18', 'end': None, 'time_zone': None}},\n",
       "    'Progress': {'id': 'nviz',\n",
       "     'type': 'formula',\n",
       "     'formula': {'type': 'number', 'number': 0}},\n",
       "    'Author': {'id': 'qNw_',\n",
       "     'type': 'rich_text',\n",
       "     'rich_text': [{'type': 'text',\n",
       "       'text': {'content': 'William Shakespeare', 'link': None},\n",
       "       'annotations': {'bold': False,\n",
       "        'italic': False,\n",
       "        'strikethrough': False,\n",
       "        'underline': False,\n",
       "        'code': False,\n",
       "        'color': 'default'},\n",
       "       'plain_text': 'William Shakespeare',\n",
       "       'href': None}]},\n",
       "    'Status': {'id': 'qRc\\\\',\n",
       "     'type': 'status',\n",
       "     'status': {'id': '50d821ad-f638-4b79-970f-11b2ae9f8c78',\n",
       "      'name': 'done',\n",
       "      'color': 'green'}},\n",
       "    'Title': {'id': 'title',\n",
       "     'type': 'title',\n",
       "     'title': [{'type': 'text',\n",
       "       'text': {'content': 'Hamlet', 'link': None},\n",
       "       'annotations': {'bold': False,\n",
       "        'italic': False,\n",
       "        'strikethrough': False,\n",
       "        'underline': False,\n",
       "        'code': False,\n",
       "        'color': 'default'},\n",
       "       'plain_text': 'Hamlet',\n",
       "       'href': None}]}},\n",
       "   'url': 'https://www.notion.so/Hamlet-c6160371995d49889f7c54bb73d90030',\n",
       "   'public_url': None},\n",
       "  {'object': 'page',\n",
       "   'id': 'dbd9dce1-5ec2-4d21-bf62-a8ea5584e96b',\n",
       "   'created_time': '2024-08-12T16:58:00.000Z',\n",
       "   'last_edited_time': '2024-08-12T16:59:00.000Z',\n",
       "   'created_by': {'object': 'user',\n",
       "    'id': '074559e7-8c13-4b7a-899e-4012f06d6320'},\n",
       "   'last_edited_by': {'object': 'user',\n",
       "    'id': '074559e7-8c13-4b7a-899e-4012f06d6320'},\n",
       "   'cover': None,\n",
       "   'icon': None,\n",
       "   'parent': {'type': 'database_id',\n",
       "    'database_id': '1b71653e-3631-48e0-b2ba-399638473ced'},\n",
       "   'archived': False,\n",
       "   'in_trash': False,\n",
       "   'properties': {'Summary': {'id': '?\\\\25',\n",
       "     'type': 'rich_text',\n",
       "     'rich_text': []},\n",
       "    'cover': {'id': 'Urz>',\n",
       "     'type': 'url',\n",
       "     'url': 'http://books.google.com/books/content?id=mzcqEAAAQBAJ&printsec=frontcover&img=1&zoom=1&edge=curl&source=gbs_api'},\n",
       "    'Total pages': {'id': '\\\\?}w', 'type': 'number', 'number': 371},\n",
       "    'Date started': {'id': 'evL[',\n",
       "     'type': 'date',\n",
       "     'date': {'start': '2022-10-24', 'end': None, 'time_zone': None}},\n",
       "    'Date finished': {'id': 'flfJ',\n",
       "     'type': 'date',\n",
       "     'date': {'start': '2022-12-07', 'end': None, 'time_zone': None}},\n",
       "    'Progress': {'id': 'nviz',\n",
       "     'type': 'formula',\n",
       "     'formula': {'type': 'number', 'number': 0}},\n",
       "    'Author': {'id': 'qNw_',\n",
       "     'type': 'rich_text',\n",
       "     'rich_text': [{'type': 'text',\n",
       "       'text': {'content': 'Pia Lamberty, Katharina Nocun', 'link': None},\n",
       "       'annotations': {'bold': False,\n",
       "        'italic': False,\n",
       "        'strikethrough': False,\n",
       "        'underline': False,\n",
       "        'code': False,\n",
       "        'color': 'default'},\n",
       "       'plain_text': 'Pia Lamberty, Katharina Nocun',\n",
       "       'href': None}]},\n",
       "    'Status': {'id': 'qRc\\\\',\n",
       "     'type': 'status',\n",
       "     'status': {'id': '50d821ad-f638-4b79-970f-11b2ae9f8c78',\n",
       "      'name': 'done',\n",
       "      'color': 'green'}},\n",
       "    'Title': {'id': 'title',\n",
       "     'type': 'title',\n",
       "     'title': [{'type': 'text',\n",
       "       'text': {'content': 'Gefährlicher Glaube', 'link': None},\n",
       "       'annotations': {'bold': False,\n",
       "        'italic': False,\n",
       "        'strikethrough': False,\n",
       "        'underline': False,\n",
       "        'code': False,\n",
       "        'color': 'default'},\n",
       "       'plain_text': 'Gefährlicher Glaube',\n",
       "       'href': None}]}},\n",
       "   'url': 'https://www.notion.so/Gef-hrlicher-Glaube-dbd9dce15ec24d21bf62a8ea5584e96b',\n",
       "   'public_url': None},\n",
       "  {'object': 'page',\n",
       "   'id': 'a25fe9db-818c-42f0-8032-0445a04eb1c0',\n",
       "   'created_time': '2024-08-12T16:58:00.000Z',\n",
       "   'last_edited_time': '2024-08-12T16:59:00.000Z',\n",
       "   'created_by': {'object': 'user',\n",
       "    'id': '074559e7-8c13-4b7a-899e-4012f06d6320'},\n",
       "   'last_edited_by': {'object': 'user',\n",
       "    'id': '074559e7-8c13-4b7a-899e-4012f06d6320'},\n",
       "   'cover': None,\n",
       "   'icon': None,\n",
       "   'parent': {'type': 'database_id',\n",
       "    'database_id': '1b71653e-3631-48e0-b2ba-399638473ced'},\n",
       "   'archived': False,\n",
       "   'in_trash': False,\n",
       "   'properties': {'Category': {'id': '/7eo',\n",
       "     'type': 'select',\n",
       "     'select': {'id': 'r\\\\pO', 'name': 'Fiction', 'color': 'default'}},\n",
       "    'Summary': {'id': '?\\\\25', 'type': 'rich_text', 'rich_text': []},\n",
       "    'cover': {'id': 'Urz>',\n",
       "     'type': 'url',\n",
       "     'url': 'http://books.google.com/books/content?id=1FoqDwAAQBAJ&printsec=frontcover&img=1&zoom=1&edge=curl&source=gbs_api'},\n",
       "    'Total pages': {'id': '\\\\?}w', 'type': 'number', 'number': 235},\n",
       "    'Date started': {'id': 'evL[',\n",
       "     'type': 'date',\n",
       "     'date': {'start': '2022-03-20', 'end': None, 'time_zone': None}},\n",
       "    'Date finished': {'id': 'flfJ',\n",
       "     'type': 'date',\n",
       "     'date': {'start': '2022-07-15', 'end': None, 'time_zone': None}},\n",
       "    'Progress': {'id': 'nviz',\n",
       "     'type': 'formula',\n",
       "     'formula': {'type': 'number', 'number': 0}},\n",
       "    'Author': {'id': 'qNw_',\n",
       "     'type': 'rich_text',\n",
       "     'rich_text': [{'type': 'text',\n",
       "       'text': {'content': 'Walter Moers', 'link': None},\n",
       "       'annotations': {'bold': False,\n",
       "        'italic': False,\n",
       "        'strikethrough': False,\n",
       "        'underline': False,\n",
       "        'code': False,\n",
       "        'color': 'default'},\n",
       "       'plain_text': 'Walter Moers',\n",
       "       'href': None}]},\n",
       "    'Status': {'id': 'qRc\\\\',\n",
       "     'type': 'status',\n",
       "     'status': {'id': '50d821ad-f638-4b79-970f-11b2ae9f8c78',\n",
       "      'name': 'done',\n",
       "      'color': 'green'}},\n",
       "    'Title': {'id': 'title',\n",
       "     'type': 'title',\n",
       "     'title': [{'type': 'text',\n",
       "       'text': {'content': 'Ensel und Krete', 'link': None},\n",
       "       'annotations': {'bold': False,\n",
       "        'italic': False,\n",
       "        'strikethrough': False,\n",
       "        'underline': False,\n",
       "        'code': False,\n",
       "        'color': 'default'},\n",
       "       'plain_text': 'Ensel und Krete',\n",
       "       'href': None}]}},\n",
       "   'url': 'https://www.notion.so/Ensel-und-Krete-a25fe9db818c42f080320445a04eb1c0',\n",
       "   'public_url': None},\n",
       "  {'object': 'page',\n",
       "   'id': '01fcdd6f-0dc3-4a2e-8e9a-d64a0afbe64a',\n",
       "   'created_time': '2024-08-12T16:58:00.000Z',\n",
       "   'last_edited_time': '2024-08-12T16:59:00.000Z',\n",
       "   'created_by': {'object': 'user',\n",
       "    'id': '074559e7-8c13-4b7a-899e-4012f06d6320'},\n",
       "   'last_edited_by': {'object': 'user',\n",
       "    'id': '074559e7-8c13-4b7a-899e-4012f06d6320'},\n",
       "   'cover': None,\n",
       "   'icon': None,\n",
       "   'parent': {'type': 'database_id',\n",
       "    'database_id': '1b71653e-3631-48e0-b2ba-399638473ced'},\n",
       "   'archived': False,\n",
       "   'in_trash': False,\n",
       "   'properties': {'Summary': {'id': '?\\\\25',\n",
       "     'type': 'rich_text',\n",
       "     'rich_text': []},\n",
       "    'cover': {'id': 'Urz>',\n",
       "     'type': 'url',\n",
       "     'url': 'http://books.google.com/books/content?id=DtD9DwAAQBAJ&printsec=frontcover&img=1&zoom=1&edge=curl&source=gbs_api'},\n",
       "    'Total pages': {'id': '\\\\?}w', 'type': 'number', 'number': 681},\n",
       "    'Date started': {'id': 'evL[',\n",
       "     'type': 'date',\n",
       "     'date': {'start': '2021-08-28', 'end': None, 'time_zone': None}},\n",
       "    'Date finished': {'id': 'flfJ',\n",
       "     'type': 'date',\n",
       "     'date': {'start': '2021-09-30', 'end': None, 'time_zone': None}},\n",
       "    'Progress': {'id': 'nviz',\n",
       "     'type': 'formula',\n",
       "     'formula': {'type': 'number', 'number': 0}},\n",
       "    'Author': {'id': 'qNw_',\n",
       "     'type': 'rich_text',\n",
       "     'rich_text': [{'type': 'text',\n",
       "       'text': {'content': 'Barack Obama', 'link': None},\n",
       "       'annotations': {'bold': False,\n",
       "        'italic': False,\n",
       "        'strikethrough': False,\n",
       "        'underline': False,\n",
       "        'code': False,\n",
       "        'color': 'default'},\n",
       "       'plain_text': 'Barack Obama',\n",
       "       'href': None}]},\n",
       "    'Status': {'id': 'qRc\\\\',\n",
       "     'type': 'status',\n",
       "     'status': {'id': '50d821ad-f638-4b79-970f-11b2ae9f8c78',\n",
       "      'name': 'done',\n",
       "      'color': 'green'}},\n",
       "    'Title': {'id': 'title',\n",
       "     'type': 'title',\n",
       "     'title': [{'type': 'text',\n",
       "       'text': {'content': 'Ein verheißenes Land', 'link': None},\n",
       "       'annotations': {'bold': False,\n",
       "        'italic': False,\n",
       "        'strikethrough': False,\n",
       "        'underline': False,\n",
       "        'code': False,\n",
       "        'color': 'default'},\n",
       "       'plain_text': 'Ein verheißenes Land',\n",
       "       'href': None}]}},\n",
       "   'url': 'https://www.notion.so/Ein-verhei-enes-Land-01fcdd6f0dc34a2e8e9ad64a0afbe64a',\n",
       "   'public_url': None},\n",
       "  {'object': 'page',\n",
       "   'id': 'd6679367-f13a-4ace-9b5f-057ca11a7365',\n",
       "   'created_time': '2024-08-12T16:58:00.000Z',\n",
       "   'last_edited_time': '2024-08-12T16:59:00.000Z',\n",
       "   'created_by': {'object': 'user',\n",
       "    'id': '074559e7-8c13-4b7a-899e-4012f06d6320'},\n",
       "   'last_edited_by': {'object': 'user',\n",
       "    'id': '074559e7-8c13-4b7a-899e-4012f06d6320'},\n",
       "   'cover': None,\n",
       "   'icon': None,\n",
       "   'parent': {'type': 'database_id',\n",
       "    'database_id': '1b71653e-3631-48e0-b2ba-399638473ced'},\n",
       "   'archived': False,\n",
       "   'in_trash': False,\n",
       "   'properties': {'Summary': {'id': '?\\\\25',\n",
       "     'type': 'rich_text',\n",
       "     'rich_text': []},\n",
       "    'cover': {'id': 'Urz>',\n",
       "     'type': 'url',\n",
       "     'url': 'http://books.google.com/books/content?id=uT_AEAAAQBAJ&printsec=frontcover&img=1&zoom=1&edge=curl&source=gbs_api'},\n",
       "    'Total pages': {'id': '\\\\?}w', 'type': 'number', 'number': 641},\n",
       "    'Date started': {'id': 'evL[',\n",
       "     'type': 'date',\n",
       "     'date': {'start': '2024-03-10', 'end': None, 'time_zone': None}},\n",
       "    'Date finished': {'id': 'flfJ',\n",
       "     'type': 'date',\n",
       "     'date': {'start': '2024-03-27', 'end': None, 'time_zone': None}},\n",
       "    'Progress': {'id': 'nviz',\n",
       "     'type': 'formula',\n",
       "     'formula': {'type': 'number', 'number': 0}},\n",
       "    'Author': {'id': 'qNw_',\n",
       "     'type': 'rich_text',\n",
       "     'rich_text': [{'type': 'text',\n",
       "       'text': {'content': 'Walter Isaacson', 'link': None},\n",
       "       'annotations': {'bold': False,\n",
       "        'italic': False,\n",
       "        'strikethrough': False,\n",
       "        'underline': False,\n",
       "        'code': False,\n",
       "        'color': 'default'},\n",
       "       'plain_text': 'Walter Isaacson',\n",
       "       'href': None}]},\n",
       "    'Status': {'id': 'qRc\\\\',\n",
       "     'type': 'status',\n",
       "     'status': {'id': '50d821ad-f638-4b79-970f-11b2ae9f8c78',\n",
       "      'name': 'done',\n",
       "      'color': 'green'}},\n",
       "    'Title': {'id': 'title',\n",
       "     'type': 'title',\n",
       "     'title': [{'type': 'text',\n",
       "       'text': {'content': 'Elon Musk', 'link': None},\n",
       "       'annotations': {'bold': False,\n",
       "        'italic': False,\n",
       "        'strikethrough': False,\n",
       "        'underline': False,\n",
       "        'code': False,\n",
       "        'color': 'default'},\n",
       "       'plain_text': 'Elon Musk',\n",
       "       'href': None}]}},\n",
       "   'url': 'https://www.notion.so/Elon-Musk-d6679367f13a4ace9b5f057ca11a7365',\n",
       "   'public_url': None},\n",
       "  {'object': 'page',\n",
       "   'id': 'db984ad6-39ae-4817-b7bd-3561f35f8a48',\n",
       "   'created_time': '2024-08-12T16:58:00.000Z',\n",
       "   'last_edited_time': '2024-08-12T16:59:00.000Z',\n",
       "   'created_by': {'object': 'user',\n",
       "    'id': '074559e7-8c13-4b7a-899e-4012f06d6320'},\n",
       "   'last_edited_by': {'object': 'user',\n",
       "    'id': '074559e7-8c13-4b7a-899e-4012f06d6320'},\n",
       "   'cover': None,\n",
       "   'icon': None,\n",
       "   'parent': {'type': 'database_id',\n",
       "    'database_id': '1b71653e-3631-48e0-b2ba-399638473ced'},\n",
       "   'archived': False,\n",
       "   'in_trash': False,\n",
       "   'properties': {'Summary': {'id': '?\\\\25',\n",
       "     'type': 'rich_text',\n",
       "     'rich_text': []},\n",
       "    'cover': {'id': 'Urz>',\n",
       "     'type': 'url',\n",
       "     'url': 'http://books.google.com/books/content?id=d2WZDgAAQBAJ&printsec=frontcover&img=1&zoom=1&edge=curl&source=gbs_api'},\n",
       "    'Total pages': {'id': '\\\\?}w', 'type': 'number', 'number': 704},\n",
       "    'Date started': {'id': 'evL[',\n",
       "     'type': 'date',\n",
       "     'date': {'start': '2023-04-22', 'end': None, 'time_zone': None}},\n",
       "    'Date finished': {'id': 'flfJ',\n",
       "     'type': 'date',\n",
       "     'date': {'start': '2023-10-14', 'end': None, 'time_zone': None}},\n",
       "    'Progress': {'id': 'nviz',\n",
       "     'type': 'formula',\n",
       "     'formula': {'type': 'number', 'number': 0}},\n",
       "    'Author': {'id': 'qNw_',\n",
       "     'type': 'rich_text',\n",
       "     'rich_text': [{'type': 'text',\n",
       "       'text': {'content': 'Walter Isaacson', 'link': None},\n",
       "       'annotations': {'bold': False,\n",
       "        'italic': False,\n",
       "        'strikethrough': False,\n",
       "        'underline': False,\n",
       "        'code': False,\n",
       "        'color': 'default'},\n",
       "       'plain_text': 'Walter Isaacson',\n",
       "       'href': None}]},\n",
       "    'Status': {'id': 'qRc\\\\',\n",
       "     'type': 'status',\n",
       "     'status': {'id': '50d821ad-f638-4b79-970f-11b2ae9f8c78',\n",
       "      'name': 'done',\n",
       "      'color': 'green'}},\n",
       "    'Title': {'id': 'title',\n",
       "     'type': 'title',\n",
       "     'title': [{'type': 'text',\n",
       "       'text': {'content': 'Einstein', 'link': None},\n",
       "       'annotations': {'bold': False,\n",
       "        'italic': False,\n",
       "        'strikethrough': False,\n",
       "        'underline': False,\n",
       "        'code': False,\n",
       "        'color': 'default'},\n",
       "       'plain_text': 'Einstein',\n",
       "       'href': None}]}},\n",
       "   'url': 'https://www.notion.so/Einstein-db984ad639ae4817b7bd3561f35f8a48',\n",
       "   'public_url': None},\n",
       "  {'object': 'page',\n",
       "   'id': 'e7a9fa52-e4f1-4ec6-a1c7-eab3b77d0957',\n",
       "   'created_time': '2024-08-12T16:58:00.000Z',\n",
       "   'last_edited_time': '2024-08-12T16:59:00.000Z',\n",
       "   'created_by': {'object': 'user',\n",
       "    'id': '074559e7-8c13-4b7a-899e-4012f06d6320'},\n",
       "   'last_edited_by': {'object': 'user',\n",
       "    'id': '074559e7-8c13-4b7a-899e-4012f06d6320'},\n",
       "   'cover': None,\n",
       "   'icon': None,\n",
       "   'parent': {'type': 'database_id',\n",
       "    'database_id': '1b71653e-3631-48e0-b2ba-399638473ced'},\n",
       "   'archived': False,\n",
       "   'in_trash': False,\n",
       "   'properties': {'Summary': {'id': '?\\\\25',\n",
       "     'type': 'rich_text',\n",
       "     'rich_text': []},\n",
       "    'cover': {'id': 'Urz>',\n",
       "     'type': 'url',\n",
       "     'url': 'http://books.google.com/books/content?id=e_9MDwAAQBAJ&printsec=frontcover&img=1&zoom=1&source=gbs_api'},\n",
       "    'Total pages': {'id': '\\\\?}w', 'type': 'number', 'number': 706},\n",
       "    'Date started': {'id': 'evL[',\n",
       "     'type': 'date',\n",
       "     'date': {'start': '2024-04-27', 'end': None, 'time_zone': None}},\n",
       "    'Progress': {'id': 'nviz',\n",
       "     'type': 'formula',\n",
       "     'formula': {'type': 'number', 'number': 0}},\n",
       "    'Author': {'id': 'qNw_',\n",
       "     'type': 'rich_text',\n",
       "     'rich_text': [{'type': 'text',\n",
       "       'text': {'content': 'Frank Herbert', 'link': None},\n",
       "       'annotations': {'bold': False,\n",
       "        'italic': False,\n",
       "        'strikethrough': False,\n",
       "        'underline': False,\n",
       "        'code': False,\n",
       "        'color': 'default'},\n",
       "       'plain_text': 'Frank Herbert',\n",
       "       'href': None}]},\n",
       "    'Status': {'id': 'qRc\\\\',\n",
       "     'type': 'status',\n",
       "     'status': {'id': '50d821ad-f638-4b79-970f-11b2ae9f8c78',\n",
       "      'name': 'done',\n",
       "      'color': 'green'}},\n",
       "    'Title': {'id': 'title',\n",
       "     'type': 'title',\n",
       "     'title': [{'type': 'text',\n",
       "       'text': {'content': 'Dune', 'link': None},\n",
       "       'annotations': {'bold': False,\n",
       "        'italic': False,\n",
       "        'strikethrough': False,\n",
       "        'underline': False,\n",
       "        'code': False,\n",
       "        'color': 'default'},\n",
       "       'plain_text': 'Dune',\n",
       "       'href': None}]}},\n",
       "   'url': 'https://www.notion.so/Dune-e7a9fa52e4f14ec6a1c7eab3b77d0957',\n",
       "   'public_url': None},\n",
       "  {'object': 'page',\n",
       "   'id': '1ef79a14-2129-44ac-9db1-dc396af674a2',\n",
       "   'created_time': '2024-08-12T16:58:00.000Z',\n",
       "   'last_edited_time': '2024-08-12T16:59:00.000Z',\n",
       "   'created_by': {'object': 'user',\n",
       "    'id': '074559e7-8c13-4b7a-899e-4012f06d6320'},\n",
       "   'last_edited_by': {'object': 'user',\n",
       "    'id': '074559e7-8c13-4b7a-899e-4012f06d6320'},\n",
       "   'cover': None,\n",
       "   'icon': None,\n",
       "   'parent': {'type': 'database_id',\n",
       "    'database_id': '1b71653e-3631-48e0-b2ba-399638473ced'},\n",
       "   'archived': False,\n",
       "   'in_trash': False,\n",
       "   'properties': {'Summary': {'id': '?\\\\25',\n",
       "     'type': 'rich_text',\n",
       "     'rich_text': []},\n",
       "    'cover': {'id': 'Urz>',\n",
       "     'type': 'url',\n",
       "     'url': 'http://books.google.com/books/content?id=GFqvDwAAQBAJ&printsec=frontcover&img=1&zoom=1&edge=curl&source=gbs_api'},\n",
       "    'Total pages': {'id': '\\\\?}w', 'type': 'number', 'number': 1363},\n",
       "    'Date started': {'id': 'evL[',\n",
       "     'type': 'date',\n",
       "     'date': {'start': '2020-12-01', 'end': None, 'time_zone': None}},\n",
       "    'Date finished': {'id': 'flfJ',\n",
       "     'type': 'date',\n",
       "     'date': {'start': '2021-08-19', 'end': None, 'time_zone': None}},\n",
       "    'Progress': {'id': 'nviz',\n",
       "     'type': 'formula',\n",
       "     'formula': {'type': 'number', 'number': 0}},\n",
       "    'Author': {'id': 'qNw_',\n",
       "     'type': 'rich_text',\n",
       "     'rich_text': [{'type': 'text',\n",
       "       'text': {'content': 'Jill Lepore', 'link': None},\n",
       "       'annotations': {'bold': False,\n",
       "        'italic': False,\n",
       "        'strikethrough': False,\n",
       "        'underline': False,\n",
       "        'code': False,\n",
       "        'color': 'default'},\n",
       "       'plain_text': 'Jill Lepore',\n",
       "       'href': None}]},\n",
       "    'Status': {'id': 'qRc\\\\',\n",
       "     'type': 'status',\n",
       "     'status': {'id': '50d821ad-f638-4b79-970f-11b2ae9f8c78',\n",
       "      'name': 'done',\n",
       "      'color': 'green'}},\n",
       "    'Title': {'id': 'title',\n",
       "     'type': 'title',\n",
       "     'title': [{'type': 'text',\n",
       "       'text': {'content': 'Diese Wahrheiten', 'link': None},\n",
       "       'annotations': {'bold': False,\n",
       "        'italic': False,\n",
       "        'strikethrough': False,\n",
       "        'underline': False,\n",
       "        'code': False,\n",
       "        'color': 'default'},\n",
       "       'plain_text': 'Diese Wahrheiten',\n",
       "       'href': None}]}},\n",
       "   'url': 'https://www.notion.so/Diese-Wahrheiten-1ef79a14212944ac9db1dc396af674a2',\n",
       "   'public_url': None},\n",
       "  {'object': 'page',\n",
       "   'id': '1b293c9b-4dca-48bb-bc54-6f676649455a',\n",
       "   'created_time': '2024-08-12T16:58:00.000Z',\n",
       "   'last_edited_time': '2024-08-12T16:59:00.000Z',\n",
       "   'created_by': {'object': 'user',\n",
       "    'id': '074559e7-8c13-4b7a-899e-4012f06d6320'},\n",
       "   'last_edited_by': {'object': 'user',\n",
       "    'id': '074559e7-8c13-4b7a-899e-4012f06d6320'},\n",
       "   'cover': None,\n",
       "   'icon': None,\n",
       "   'parent': {'type': 'database_id',\n",
       "    'database_id': '1b71653e-3631-48e0-b2ba-399638473ced'},\n",
       "   'archived': False,\n",
       "   'in_trash': False,\n",
       "   'properties': {'Category': {'id': '/7eo',\n",
       "     'type': 'select',\n",
       "     'select': {'id': 'r\\\\pO', 'name': 'Fiction', 'color': 'default'}},\n",
       "    'Summary': {'id': '?\\\\25', 'type': 'rich_text', 'rich_text': []},\n",
       "    'cover': {'id': 'Urz>',\n",
       "     'type': 'url',\n",
       "     'url': 'http://books.google.com/books/content?id=C7W3EAAAQBAJ&printsec=frontcover&img=1&zoom=1&edge=curl&source=gbs_api'},\n",
       "    'Total pages': {'id': '\\\\?}w', 'type': 'number', 'number': 260},\n",
       "    'Progress': {'id': 'nviz',\n",
       "     'type': 'formula',\n",
       "     'formula': {'type': 'number', 'number': 0}},\n",
       "    'Author': {'id': 'qNw_',\n",
       "     'type': 'rich_text',\n",
       "     'rich_text': [{'type': 'text',\n",
       "       'text': {'content': 'Lauren Groff', 'link': None},\n",
       "       'annotations': {'bold': False,\n",
       "        'italic': False,\n",
       "        'strikethrough': False,\n",
       "        'underline': False,\n",
       "        'code': False,\n",
       "        'color': 'default'},\n",
       "       'plain_text': 'Lauren Groff',\n",
       "       'href': None}]},\n",
       "    'Status': {'id': 'qRc\\\\',\n",
       "     'type': 'status',\n",
       "     'status': {'id': '50d821ad-f638-4b79-970f-11b2ae9f8c78',\n",
       "      'name': 'done',\n",
       "      'color': 'green'}},\n",
       "    'Title': {'id': 'title',\n",
       "     'type': 'title',\n",
       "     'title': [{'type': 'text',\n",
       "       'text': {'content': 'Die weite Wildnis', 'link': None},\n",
       "       'annotations': {'bold': False,\n",
       "        'italic': False,\n",
       "        'strikethrough': False,\n",
       "        'underline': False,\n",
       "        'code': False,\n",
       "        'color': 'default'},\n",
       "       'plain_text': 'Die weite Wildnis',\n",
       "       'href': None}]}},\n",
       "   'url': 'https://www.notion.so/Die-weite-Wildnis-1b293c9b4dca48bbbc546f676649455a',\n",
       "   'public_url': None},\n",
       "  {'object': 'page',\n",
       "   'id': '8068445c-f33c-48ed-83d3-0b662bbdcc53',\n",
       "   'created_time': '2024-08-12T16:58:00.000Z',\n",
       "   'last_edited_time': '2024-08-12T16:59:00.000Z',\n",
       "   'created_by': {'object': 'user',\n",
       "    'id': '074559e7-8c13-4b7a-899e-4012f06d6320'},\n",
       "   'last_edited_by': {'object': 'user',\n",
       "    'id': '074559e7-8c13-4b7a-899e-4012f06d6320'},\n",
       "   'cover': None,\n",
       "   'icon': None,\n",
       "   'parent': {'type': 'database_id',\n",
       "    'database_id': '1b71653e-3631-48e0-b2ba-399638473ced'},\n",
       "   'archived': False,\n",
       "   'in_trash': False,\n",
       "   'properties': {'Summary': {'id': '?\\\\25',\n",
       "     'type': 'rich_text',\n",
       "     'rich_text': []},\n",
       "    'Total pages': {'id': '\\\\?}w', 'type': 'number', 'number': 708},\n",
       "    'Date started': {'id': 'evL[',\n",
       "     'type': 'date',\n",
       "     'date': {'start': '2022-03-20', 'end': None, 'time_zone': None}},\n",
       "    'Date finished': {'id': 'flfJ',\n",
       "     'type': 'date',\n",
       "     'date': {'start': '2022-07-17', 'end': None, 'time_zone': None}},\n",
       "    'Progress': {'id': 'nviz',\n",
       "     'type': 'formula',\n",
       "     'formula': {'type': 'number', 'number': 0}},\n",
       "    'Author': {'id': 'qNw_',\n",
       "     'type': 'rich_text',\n",
       "     'rich_text': [{'type': 'text',\n",
       "       'text': {'content': 'Christian Westphalen', 'link': None},\n",
       "       'annotations': {'bold': False,\n",
       "        'italic': False,\n",
       "        'strikethrough': False,\n",
       "        'underline': False,\n",
       "        'code': False,\n",
       "        'color': 'default'},\n",
       "       'plain_text': 'Christian Westphalen',\n",
       "       'href': None}]},\n",
       "    'Status': {'id': 'qRc\\\\',\n",
       "     'type': 'status',\n",
       "     'status': {'id': '50d821ad-f638-4b79-970f-11b2ae9f8c78',\n",
       "      'name': 'done',\n",
       "      'color': 'green'}},\n",
       "    'Title': {'id': 'title',\n",
       "     'type': 'title',\n",
       "     'title': [{'type': 'text',\n",
       "       'text': {'content': 'Die große Fotoschule', 'link': None},\n",
       "       'annotations': {'bold': False,\n",
       "        'italic': False,\n",
       "        'strikethrough': False,\n",
       "        'underline': False,\n",
       "        'code': False,\n",
       "        'color': 'default'},\n",
       "       'plain_text': 'Die große Fotoschule',\n",
       "       'href': None}]}},\n",
       "   'url': 'https://www.notion.so/Die-gro-e-Fotoschule-8068445cf33c48ed83d30b662bbdcc53',\n",
       "   'public_url': None},\n",
       "  {'object': 'page',\n",
       "   'id': 'bbe5713b-240c-4b73-bd80-f5bd514738f0',\n",
       "   'created_time': '2024-08-12T16:58:00.000Z',\n",
       "   'last_edited_time': '2024-08-12T16:59:00.000Z',\n",
       "   'created_by': {'object': 'user',\n",
       "    'id': '074559e7-8c13-4b7a-899e-4012f06d6320'},\n",
       "   'last_edited_by': {'object': 'user',\n",
       "    'id': '074559e7-8c13-4b7a-899e-4012f06d6320'},\n",
       "   'cover': None,\n",
       "   'icon': None,\n",
       "   'parent': {'type': 'database_id',\n",
       "    'database_id': '1b71653e-3631-48e0-b2ba-399638473ced'},\n",
       "   'archived': False,\n",
       "   'in_trash': False,\n",
       "   'properties': {'Category': {'id': '/7eo',\n",
       "     'type': 'select',\n",
       "     'select': {'id': 'r\\\\pO', 'name': 'Fiction', 'color': 'default'}},\n",
       "    'Summary': {'id': '?\\\\25', 'type': 'rich_text', 'rich_text': []},\n",
       "    'cover': {'id': 'Urz>',\n",
       "     'type': 'url',\n",
       "     'url': 'http://books.google.com/books/content?id=REgpEAAAQBAJ&printsec=frontcover&img=1&zoom=1&edge=curl&source=gbs_api'},\n",
       "    'Total pages': {'id': '\\\\?}w', 'type': 'number', 'number': 244},\n",
       "    'Date started': {'id': 'evL[',\n",
       "     'type': 'date',\n",
       "     'date': {'start': '2021-12-24', 'end': None, 'time_zone': None}},\n",
       "    'Date finished': {'id': 'flfJ',\n",
       "     'type': 'date',\n",
       "     'date': {'start': '2022-02-17', 'end': None, 'time_zone': None}},\n",
       "    'Progress': {'id': 'nviz',\n",
       "     'type': 'formula',\n",
       "     'formula': {'type': 'number', 'number': 0}},\n",
       "    'Author': {'id': 'qNw_',\n",
       "     'type': 'rich_text',\n",
       "     'rich_text': [{'type': 'text',\n",
       "       'text': {'content': 'Fridolin Schley', 'link': None},\n",
       "       'annotations': {'bold': False,\n",
       "        'italic': False,\n",
       "        'strikethrough': False,\n",
       "        'underline': False,\n",
       "        'code': False,\n",
       "        'color': 'default'},\n",
       "       'plain_text': 'Fridolin Schley',\n",
       "       'href': None}]},\n",
       "    'Status': {'id': 'qRc\\\\',\n",
       "     'type': 'status',\n",
       "     'status': {'id': '50d821ad-f638-4b79-970f-11b2ae9f8c78',\n",
       "      'name': 'done',\n",
       "      'color': 'green'}},\n",
       "    'Title': {'id': 'title',\n",
       "     'type': 'title',\n",
       "     'title': [{'type': 'text',\n",
       "       'text': {'content': 'Die Verteidigung', 'link': None},\n",
       "       'annotations': {'bold': False,\n",
       "        'italic': False,\n",
       "        'strikethrough': False,\n",
       "        'underline': False,\n",
       "        'code': False,\n",
       "        'color': 'default'},\n",
       "       'plain_text': 'Die Verteidigung',\n",
       "       'href': None}]}},\n",
       "   'url': 'https://www.notion.so/Die-Verteidigung-bbe5713b240c4b73bd80f5bd514738f0',\n",
       "   'public_url': None},\n",
       "  {'object': 'page',\n",
       "   'id': 'f9286a9a-5f99-4e34-bf7e-3bdad00c63be',\n",
       "   'created_time': '2024-08-12T16:58:00.000Z',\n",
       "   'last_edited_time': '2024-08-12T16:59:00.000Z',\n",
       "   'created_by': {'object': 'user',\n",
       "    'id': '074559e7-8c13-4b7a-899e-4012f06d6320'},\n",
       "   'last_edited_by': {'object': 'user',\n",
       "    'id': '074559e7-8c13-4b7a-899e-4012f06d6320'},\n",
       "   'cover': None,\n",
       "   'icon': None,\n",
       "   'parent': {'type': 'database_id',\n",
       "    'database_id': '1b71653e-3631-48e0-b2ba-399638473ced'},\n",
       "   'archived': False,\n",
       "   'in_trash': False,\n",
       "   'properties': {'Category': {'id': '/7eo',\n",
       "     'type': 'select',\n",
       "     'select': {'id': 'r\\\\pO', 'name': 'Fiction', 'color': 'default'}},\n",
       "    'Summary': {'id': '?\\\\25', 'type': 'rich_text', 'rich_text': []},\n",
       "    'cover': {'id': 'Urz>',\n",
       "     'type': 'url',\n",
       "     'url': 'http://books.google.com/books/content?id=32luDwAAQBAJ&printsec=frontcover&img=1&zoom=1&edge=curl&source=gbs_api'},\n",
       "    'Total pages': {'id': '\\\\?}w', 'type': 'number', 'number': 336},\n",
       "    'Progress': {'id': 'nviz',\n",
       "     'type': 'formula',\n",
       "     'formula': {'type': 'number', 'number': 0}},\n",
       "    'Author': {'id': 'qNw_',\n",
       "     'type': 'rich_text',\n",
       "     'rich_text': [{'type': 'text',\n",
       "       'text': {'content': 'James McBride', 'link': None},\n",
       "       'annotations': {'bold': False,\n",
       "        'italic': False,\n",
       "        'strikethrough': False,\n",
       "        'underline': False,\n",
       "        'code': False,\n",
       "        'color': 'default'},\n",
       "       'plain_text': 'James McBride',\n",
       "       'href': None}]},\n",
       "    'Status': {'id': 'qRc\\\\',\n",
       "     'type': 'status',\n",
       "     'status': {'id': '50d821ad-f638-4b79-970f-11b2ae9f8c78',\n",
       "      'name': 'done',\n",
       "      'color': 'green'}},\n",
       "    'Title': {'id': 'title',\n",
       "     'type': 'title',\n",
       "     'title': [{'type': 'text',\n",
       "       'text': {'content': 'Die Farbe von Wasser', 'link': None},\n",
       "       'annotations': {'bold': False,\n",
       "        'italic': False,\n",
       "        'strikethrough': False,\n",
       "        'underline': False,\n",
       "        'code': False,\n",
       "        'color': 'default'},\n",
       "       'plain_text': 'Die Farbe von Wasser',\n",
       "       'href': None}]}},\n",
       "   'url': 'https://www.notion.so/Die-Farbe-von-Wasser-f9286a9a5f994e34bf7e3bdad00c63be',\n",
       "   'public_url': None},\n",
       "  {'object': 'page',\n",
       "   'id': '4870bb41-e58a-49b9-bac7-a4cff23c106c',\n",
       "   'created_time': '2024-08-12T16:58:00.000Z',\n",
       "   'last_edited_time': '2024-08-12T16:59:00.000Z',\n",
       "   'created_by': {'object': 'user',\n",
       "    'id': '074559e7-8c13-4b7a-899e-4012f06d6320'},\n",
       "   'last_edited_by': {'object': 'user',\n",
       "    'id': '074559e7-8c13-4b7a-899e-4012f06d6320'},\n",
       "   'cover': None,\n",
       "   'icon': None,\n",
       "   'parent': {'type': 'database_id',\n",
       "    'database_id': '1b71653e-3631-48e0-b2ba-399638473ced'},\n",
       "   'archived': False,\n",
       "   'in_trash': False,\n",
       "   'properties': {'Summary': {'id': '?\\\\25',\n",
       "     'type': 'rich_text',\n",
       "     'rich_text': []},\n",
       "    'cover': {'id': 'Urz>',\n",
       "     'type': 'url',\n",
       "     'url': 'http://books.google.com/books/content?id=nHPZBQAAQBAJ&printsec=frontcover&img=1&zoom=1&edge=curl&source=gbs_api'},\n",
       "    'Total pages': {'id': '\\\\?}w', 'type': 'number', 'number': 1400},\n",
       "    'Date started': {'id': 'evL[',\n",
       "     'type': 'date',\n",
       "     'date': {'start': '2024-06-20', 'end': None, 'time_zone': None}},\n",
       "    'Progress': {'id': 'nviz',\n",
       "     'type': 'formula',\n",
       "     'formula': {'type': 'number', 'number': 0}},\n",
       "    'Author': {'id': 'qNw_',\n",
       "     'type': 'rich_text',\n",
       "     'rich_text': [{'type': 'text',\n",
       "       'text': {'content': 'Gernot Marx, Elke Muhl, Kai Zacharowski, Stefan Zeuzem',\n",
       "        'link': None},\n",
       "       'annotations': {'bold': False,\n",
       "        'italic': False,\n",
       "        'strikethrough': False,\n",
       "        'underline': False,\n",
       "        'code': False,\n",
       "        'color': 'default'},\n",
       "       'plain_text': 'Gernot Marx, Elke Muhl, Kai Zacharowski, Stefan Zeuzem',\n",
       "       'href': None}]},\n",
       "    'Status': {'id': 'qRc\\\\',\n",
       "     'type': 'status',\n",
       "     'status': {'id': '50d821ad-f638-4b79-970f-11b2ae9f8c78',\n",
       "      'name': 'done',\n",
       "      'color': 'green'}},\n",
       "    'Title': {'id': 'title',\n",
       "     'type': 'title',\n",
       "     'title': [{'type': 'text',\n",
       "       'text': {'content': 'Die Intensivmedizin', 'link': None},\n",
       "       'annotations': {'bold': False,\n",
       "        'italic': False,\n",
       "        'strikethrough': False,\n",
       "        'underline': False,\n",
       "        'code': False,\n",
       "        'color': 'default'},\n",
       "       'plain_text': 'Die Intensivmedizin',\n",
       "       'href': None}]}},\n",
       "   'url': 'https://www.notion.so/Die-Intensivmedizin-4870bb41e58a49b9bac7a4cff23c106c',\n",
       "   'public_url': None},\n",
       "  {'object': 'page',\n",
       "   'id': '8a8f393d-cdc8-4de9-978e-ffdad01b143f',\n",
       "   'created_time': '2024-08-12T16:58:00.000Z',\n",
       "   'last_edited_time': '2024-08-12T16:59:00.000Z',\n",
       "   'created_by': {'object': 'user',\n",
       "    'id': '074559e7-8c13-4b7a-899e-4012f06d6320'},\n",
       "   'last_edited_by': {'object': 'user',\n",
       "    'id': '074559e7-8c13-4b7a-899e-4012f06d6320'},\n",
       "   'cover': None,\n",
       "   'icon': None,\n",
       "   'parent': {'type': 'database_id',\n",
       "    'database_id': '1b71653e-3631-48e0-b2ba-399638473ced'},\n",
       "   'archived': False,\n",
       "   'in_trash': False,\n",
       "   'properties': {'Category': {'id': '/7eo',\n",
       "     'type': 'select',\n",
       "     'select': {'id': 'r\\\\pO', 'name': 'Fiction', 'color': 'default'}},\n",
       "    'Summary': {'id': '?\\\\25', 'type': 'rich_text', 'rich_text': []},\n",
       "    'cover': {'id': 'Urz>',\n",
       "     'type': 'url',\n",
       "     'url': 'http://books.google.com/books/content?id=1GAGEAAAQBAJ&printsec=frontcover&img=1&zoom=1&edge=curl&source=gbs_api'},\n",
       "    'Total pages': {'id': '\\\\?}w', 'type': 'number', 'number': 448},\n",
       "    'Progress': {'id': 'nviz',\n",
       "     'type': 'formula',\n",
       "     'formula': {'type': 'number', 'number': 0}},\n",
       "    'Author': {'id': 'qNw_',\n",
       "     'type': 'rich_text',\n",
       "     'rich_text': [{'type': 'text',\n",
       "       'text': {'content': 'James McBride', 'link': None},\n",
       "       'annotations': {'bold': False,\n",
       "        'italic': False,\n",
       "        'strikethrough': False,\n",
       "        'underline': False,\n",
       "        'code': False,\n",
       "        'color': 'default'},\n",
       "       'plain_text': 'James McBride',\n",
       "       'href': None}]},\n",
       "    'Status': {'id': 'qRc\\\\',\n",
       "     'type': 'status',\n",
       "     'status': {'id': '50d821ad-f638-4b79-970f-11b2ae9f8c78',\n",
       "      'name': 'done',\n",
       "      'color': 'green'}},\n",
       "    'Title': {'id': 'title',\n",
       "     'type': 'title',\n",
       "     'title': [{'type': 'text',\n",
       "       'text': {'content': 'Der heilige King Kong', 'link': None},\n",
       "       'annotations': {'bold': False,\n",
       "        'italic': False,\n",
       "        'strikethrough': False,\n",
       "        'underline': False,\n",
       "        'code': False,\n",
       "        'color': 'default'},\n",
       "       'plain_text': 'Der heilige King Kong',\n",
       "       'href': None}]}},\n",
       "   'url': 'https://www.notion.so/Der-heilige-King-Kong-8a8f393dcdc84de9978effdad01b143f',\n",
       "   'public_url': None},\n",
       "  {'object': 'page',\n",
       "   'id': '7311a8f0-8e74-46ce-a373-d540f8177edf',\n",
       "   'created_time': '2024-08-12T16:58:00.000Z',\n",
       "   'last_edited_time': '2024-08-12T16:59:00.000Z',\n",
       "   'created_by': {'object': 'user',\n",
       "    'id': '074559e7-8c13-4b7a-899e-4012f06d6320'},\n",
       "   'last_edited_by': {'object': 'user',\n",
       "    'id': '074559e7-8c13-4b7a-899e-4012f06d6320'},\n",
       "   'cover': None,\n",
       "   'icon': None,\n",
       "   'parent': {'type': 'database_id',\n",
       "    'database_id': '1b71653e-3631-48e0-b2ba-399638473ced'},\n",
       "   'archived': False,\n",
       "   'in_trash': False,\n",
       "   'properties': {'Category': {'id': '/7eo',\n",
       "     'type': 'select',\n",
       "     'select': {'id': 'r\\\\pO', 'name': 'Fiction', 'color': 'default'}},\n",
       "    'Summary': {'id': '?\\\\25', 'type': 'rich_text', 'rich_text': []},\n",
       "    'cover': {'id': 'Urz>',\n",
       "     'type': 'url',\n",
       "     'url': 'http://books.google.com/books/content?id=CQGSDwAAQBAJ&printsec=frontcover&img=1&zoom=1&edge=curl&source=gbs_api'},\n",
       "    'Total pages': {'id': '\\\\?}w', 'type': 'number', 'number': 636},\n",
       "    'Date started': {'id': 'evL[',\n",
       "     'type': 'date',\n",
       "     'date': {'start': '2021-12-24', 'end': None, 'time_zone': None}},\n",
       "    'Date finished': {'id': 'flfJ',\n",
       "     'type': 'date',\n",
       "     'date': {'start': '2022-03-20', 'end': None, 'time_zone': None}},\n",
       "    'Progress': {'id': 'nviz',\n",
       "     'type': 'formula',\n",
       "     'formula': {'type': 'number', 'number': 0}},\n",
       "    'Author': {'id': 'qNw_',\n",
       "     'type': 'rich_text',\n",
       "     'rich_text': [{'type': 'text',\n",
       "       'text': {'content': 'Walter Moers', 'link': None},\n",
       "       'annotations': {'bold': False,\n",
       "        'italic': False,\n",
       "        'strikethrough': False,\n",
       "        'underline': False,\n",
       "        'code': False,\n",
       "        'color': 'default'},\n",
       "       'plain_text': 'Walter Moers',\n",
       "       'href': None}]},\n",
       "    'Status': {'id': 'qRc\\\\',\n",
       "     'type': 'status',\n",
       "     'status': {'id': '50d821ad-f638-4b79-970f-11b2ae9f8c78',\n",
       "      'name': 'done',\n",
       "      'color': 'green'}},\n",
       "    'Title': {'id': 'title',\n",
       "     'type': 'title',\n",
       "     'title': [{'type': 'text',\n",
       "       'text': {'content': \"Die 13 1/2 Leben des Käpt'n Blaubär\",\n",
       "        'link': None},\n",
       "       'annotations': {'bold': False,\n",
       "        'italic': False,\n",
       "        'strikethrough': False,\n",
       "        'underline': False,\n",
       "        'code': False,\n",
       "        'color': 'default'},\n",
       "       'plain_text': \"Die 13 1/2 Leben des Käpt'n Blaubär\",\n",
       "       'href': None}]}},\n",
       "   'url': 'https://www.notion.so/Die-13-1-2-Leben-des-K-pt-n-Blaub-r-7311a8f08e7446cea373d540f8177edf',\n",
       "   'public_url': None},\n",
       "  {'object': 'page',\n",
       "   'id': 'db078682-5f75-4dd7-a49a-a3e908a68bbf',\n",
       "   'created_time': '2024-08-12T16:58:00.000Z',\n",
       "   'last_edited_time': '2024-08-12T16:59:00.000Z',\n",
       "   'created_by': {'object': 'user',\n",
       "    'id': '074559e7-8c13-4b7a-899e-4012f06d6320'},\n",
       "   'last_edited_by': {'object': 'user',\n",
       "    'id': '074559e7-8c13-4b7a-899e-4012f06d6320'},\n",
       "   'cover': None,\n",
       "   'icon': None,\n",
       "   'parent': {'type': 'database_id',\n",
       "    'database_id': '1b71653e-3631-48e0-b2ba-399638473ced'},\n",
       "   'archived': False,\n",
       "   'in_trash': False,\n",
       "   'properties': {'Category': {'id': '/7eo',\n",
       "     'type': 'select',\n",
       "     'select': {'id': 'r\\\\pO', 'name': 'Fiction', 'color': 'default'}},\n",
       "    'Summary': {'id': '?\\\\25', 'type': 'rich_text', 'rich_text': []},\n",
       "    'cover': {'id': 'Urz>',\n",
       "     'type': 'url',\n",
       "     'url': 'http://books.google.com/books/content?id=37N-DwAAQBAJ&printsec=frontcover&img=1&zoom=1&edge=curl&source=gbs_api'},\n",
       "    'Total pages': {'id': '\\\\?}w', 'type': 'number', 'number': 473},\n",
       "    'Date started': {'id': 'evL[',\n",
       "     'type': 'date',\n",
       "     'date': {'start': '2022-03-20', 'end': None, 'time_zone': None}},\n",
       "    'Date finished': {'id': 'flfJ',\n",
       "     'type': 'date',\n",
       "     'date': {'start': '2022-07-12', 'end': None, 'time_zone': None}},\n",
       "    'Progress': {'id': 'nviz',\n",
       "     'type': 'formula',\n",
       "     'formula': {'type': 'number', 'number': 0}},\n",
       "    'Author': {'id': 'qNw_',\n",
       "     'type': 'rich_text',\n",
       "     'rich_text': [{'type': 'text',\n",
       "       'text': {'content': 'Philippe Lançon', 'link': None},\n",
       "       'annotations': {'bold': False,\n",
       "        'italic': False,\n",
       "        'strikethrough': False,\n",
       "        'underline': False,\n",
       "        'code': False,\n",
       "        'color': 'default'},\n",
       "       'plain_text': 'Philippe Lançon',\n",
       "       'href': None}]},\n",
       "    'Status': {'id': 'qRc\\\\',\n",
       "     'type': 'status',\n",
       "     'status': {'id': '50d821ad-f638-4b79-970f-11b2ae9f8c78',\n",
       "      'name': 'done',\n",
       "      'color': 'green'}},\n",
       "    'Title': {'id': 'title',\n",
       "     'type': 'title',\n",
       "     'title': [{'type': 'text',\n",
       "       'text': {'content': 'Der Fetzen', 'link': None},\n",
       "       'annotations': {'bold': False,\n",
       "        'italic': False,\n",
       "        'strikethrough': False,\n",
       "        'underline': False,\n",
       "        'code': False,\n",
       "        'color': 'default'},\n",
       "       'plain_text': 'Der Fetzen',\n",
       "       'href': None}]}},\n",
       "   'url': 'https://www.notion.so/Der-Fetzen-db0786825f754dd7a49aa3e908a68bbf',\n",
       "   'public_url': None},\n",
       "  {'object': 'page',\n",
       "   'id': '63a9c352-68c1-4283-9725-486094ebc0d9',\n",
       "   'created_time': '2024-08-12T16:58:00.000Z',\n",
       "   'last_edited_time': '2024-08-12T16:59:00.000Z',\n",
       "   'created_by': {'object': 'user',\n",
       "    'id': '074559e7-8c13-4b7a-899e-4012f06d6320'},\n",
       "   'last_edited_by': {'object': 'user',\n",
       "    'id': '074559e7-8c13-4b7a-899e-4012f06d6320'},\n",
       "   'cover': None,\n",
       "   'icon': None,\n",
       "   'parent': {'type': 'database_id',\n",
       "    'database_id': '1b71653e-3631-48e0-b2ba-399638473ced'},\n",
       "   'archived': False,\n",
       "   'in_trash': False,\n",
       "   'properties': {'Summary': {'id': '?\\\\25',\n",
       "     'type': 'rich_text',\n",
       "     'rich_text': []},\n",
       "    'Total pages': {'id': '\\\\?}w', 'type': 'number', 'number': 352},\n",
       "    'Date started': {'id': 'evL[',\n",
       "     'type': 'date',\n",
       "     'date': {'start': '2021-09-04', 'end': None, 'time_zone': None}},\n",
       "    'Date finished': {'id': 'flfJ',\n",
       "     'type': 'date',\n",
       "     'date': {'start': '2021-12-22', 'end': None, 'time_zone': None}},\n",
       "    'Progress': {'id': 'nviz',\n",
       "     'type': 'formula',\n",
       "     'formula': {'type': 'number', 'number': 0}},\n",
       "    'Author': {'id': 'qNw_',\n",
       "     'type': 'rich_text',\n",
       "     'rich_text': [{'type': 'text',\n",
       "       'text': {'content': 'J. R. R. Tolkien', 'link': None},\n",
       "       'annotations': {'bold': False,\n",
       "        'italic': False,\n",
       "        'strikethrough': False,\n",
       "        'underline': False,\n",
       "        'code': False,\n",
       "        'color': 'default'},\n",
       "       'plain_text': 'J. R. R. Tolkien',\n",
       "       'href': None}]},\n",
       "    'Status': {'id': 'qRc\\\\',\n",
       "     'type': 'status',\n",
       "     'status': {'id': '50d821ad-f638-4b79-970f-11b2ae9f8c78',\n",
       "      'name': 'done',\n",
       "      'color': 'green'}},\n",
       "    'Title': {'id': 'title',\n",
       "     'type': 'title',\n",
       "     'title': [{'type': 'text',\n",
       "       'text': {'content': 'Der Fall von Gondolin', 'link': None},\n",
       "       'annotations': {'bold': False,\n",
       "        'italic': False,\n",
       "        'strikethrough': False,\n",
       "        'underline': False,\n",
       "        'code': False,\n",
       "        'color': 'default'},\n",
       "       'plain_text': 'Der Fall von Gondolin',\n",
       "       'href': None}]}},\n",
       "   'url': 'https://www.notion.so/Der-Fall-von-Gondolin-63a9c35268c142839725486094ebc0d9',\n",
       "   'public_url': None},\n",
       "  {'object': 'page',\n",
       "   'id': 'b1b609b5-c3a1-4d99-97da-5c18a44b1062',\n",
       "   'created_time': '2024-08-12T16:58:00.000Z',\n",
       "   'last_edited_time': '2024-08-12T16:59:00.000Z',\n",
       "   'created_by': {'object': 'user',\n",
       "    'id': '074559e7-8c13-4b7a-899e-4012f06d6320'},\n",
       "   'last_edited_by': {'object': 'user',\n",
       "    'id': '074559e7-8c13-4b7a-899e-4012f06d6320'},\n",
       "   'cover': None,\n",
       "   'icon': None,\n",
       "   'parent': {'type': 'database_id',\n",
       "    'database_id': '1b71653e-3631-48e0-b2ba-399638473ced'},\n",
       "   'archived': False,\n",
       "   'in_trash': False,\n",
       "   'properties': {'Summary': {'id': '?\\\\25',\n",
       "     'type': 'rich_text',\n",
       "     'rich_text': []},\n",
       "    'cover': {'id': 'Urz>',\n",
       "     'type': 'url',\n",
       "     'url': 'http://books.google.com/books/content?id=mpW2DwAAQBAJ&printsec=frontcover&img=1&zoom=1&edge=curl&source=gbs_api'},\n",
       "    'Total pages': {'id': '\\\\?}w', 'type': 'number', 'number': 201},\n",
       "    'Date started': {'id': 'evL[',\n",
       "     'type': 'date',\n",
       "     'date': {'start': '2024-03-16', 'end': None, 'time_zone': None}},\n",
       "    'Date finished': {'id': 'flfJ',\n",
       "     'type': 'date',\n",
       "     'date': {'start': '2024-03-23', 'end': None, 'time_zone': None}},\n",
       "    'Progress': {'id': 'nviz',\n",
       "     'type': 'formula',\n",
       "     'formula': {'type': 'number', 'number': 0}},\n",
       "    'Author': {'id': 'qNw_',\n",
       "     'type': 'rich_text',\n",
       "     'rich_text': [{'type': 'text',\n",
       "       'text': {'content': 'Benjamín Labatut', 'link': None},\n",
       "       'annotations': {'bold': False,\n",
       "        'italic': False,\n",
       "        'strikethrough': False,\n",
       "        'underline': False,\n",
       "        'code': False,\n",
       "        'color': 'default'},\n",
       "       'plain_text': 'Benjamín Labatut',\n",
       "       'href': None}]},\n",
       "    'Status': {'id': 'qRc\\\\',\n",
       "     'type': 'status',\n",
       "     'status': {'id': '50d821ad-f638-4b79-970f-11b2ae9f8c78',\n",
       "      'name': 'done',\n",
       "      'color': 'green'}},\n",
       "    'Title': {'id': 'title',\n",
       "     'type': 'title',\n",
       "     'title': [{'type': 'text',\n",
       "       'text': {'content': 'Das blinde Licht', 'link': None},\n",
       "       'annotations': {'bold': False,\n",
       "        'italic': False,\n",
       "        'strikethrough': False,\n",
       "        'underline': False,\n",
       "        'code': False,\n",
       "        'color': 'default'},\n",
       "       'plain_text': 'Das blinde Licht',\n",
       "       'href': None}]}},\n",
       "   'url': 'https://www.notion.so/Das-blinde-Licht-b1b609b5c3a14d9997da5c18a44b1062',\n",
       "   'public_url': None},\n",
       "  {'object': 'page',\n",
       "   'id': 'be275d35-4b97-4808-b6bc-692026b0580f',\n",
       "   'created_time': '2024-08-12T16:58:00.000Z',\n",
       "   'last_edited_time': '2024-08-12T16:59:00.000Z',\n",
       "   'created_by': {'object': 'user',\n",
       "    'id': '074559e7-8c13-4b7a-899e-4012f06d6320'},\n",
       "   'last_edited_by': {'object': 'user',\n",
       "    'id': '074559e7-8c13-4b7a-899e-4012f06d6320'},\n",
       "   'cover': None,\n",
       "   'icon': None,\n",
       "   'parent': {'type': 'database_id',\n",
       "    'database_id': '1b71653e-3631-48e0-b2ba-399638473ced'},\n",
       "   'archived': False,\n",
       "   'in_trash': False,\n",
       "   'properties': {'Summary': {'id': '?\\\\25',\n",
       "     'type': 'rich_text',\n",
       "     'rich_text': []},\n",
       "    'cover': {'id': 'Urz>',\n",
       "     'type': 'url',\n",
       "     'url': 'http://books.google.com/books/content?id=JOIrEAAAQBAJ&printsec=frontcover&img=1&zoom=1&edge=curl&source=gbs_api'},\n",
       "    'Total pages': {'id': '\\\\?}w', 'type': 'number', 'number': 252},\n",
       "    'Date started': {'id': 'evL[',\n",
       "     'type': 'date',\n",
       "     'date': {'start': '2024-03-27', 'end': None, 'time_zone': None}},\n",
       "    'Date finished': {'id': 'flfJ',\n",
       "     'type': 'date',\n",
       "     'date': {'start': '2024-04-07', 'end': None, 'time_zone': None}},\n",
       "    'Progress': {'id': 'nviz',\n",
       "     'type': 'formula',\n",
       "     'formula': {'type': 'number', 'number': 0}},\n",
       "    'Author': {'id': 'qNw_',\n",
       "     'type': 'rich_text',\n",
       "     'rich_text': [{'type': 'text',\n",
       "       'text': {'content': 'Tobias Hürter', 'link': None},\n",
       "       'annotations': {'bold': False,\n",
       "        'italic': False,\n",
       "        'strikethrough': False,\n",
       "        'underline': False,\n",
       "        'code': False,\n",
       "        'color': 'default'},\n",
       "       'plain_text': 'Tobias Hürter',\n",
       "       'href': None}]},\n",
       "    'Status': {'id': 'qRc\\\\',\n",
       "     'type': 'status',\n",
       "     'status': {'id': '50d821ad-f638-4b79-970f-11b2ae9f8c78',\n",
       "      'name': 'done',\n",
       "      'color': 'green'}},\n",
       "    'Title': {'id': 'title',\n",
       "     'type': 'title',\n",
       "     'title': [{'type': 'text',\n",
       "       'text': {'content': 'Das Zeitalter der Unschärfe', 'link': None},\n",
       "       'annotations': {'bold': False,\n",
       "        'italic': False,\n",
       "        'strikethrough': False,\n",
       "        'underline': False,\n",
       "        'code': False,\n",
       "        'color': 'default'},\n",
       "       'plain_text': 'Das Zeitalter der Unschärfe',\n",
       "       'href': None}]}},\n",
       "   'url': 'https://www.notion.so/Das-Zeitalter-der-Unsch-rfe-be275d354b974808b6bc692026b0580f',\n",
       "   'public_url': None},\n",
       "  {'object': 'page',\n",
       "   'id': '51cc5bc0-c3e4-4c9b-91ba-dde5a917d4e6',\n",
       "   'created_time': '2024-08-12T16:58:00.000Z',\n",
       "   'last_edited_time': '2024-08-12T16:59:00.000Z',\n",
       "   'created_by': {'object': 'user',\n",
       "    'id': '074559e7-8c13-4b7a-899e-4012f06d6320'},\n",
       "   'last_edited_by': {'object': 'user',\n",
       "    'id': '074559e7-8c13-4b7a-899e-4012f06d6320'},\n",
       "   'cover': None,\n",
       "   'icon': None,\n",
       "   'parent': {'type': 'database_id',\n",
       "    'database_id': '1b71653e-3631-48e0-b2ba-399638473ced'},\n",
       "   'archived': False,\n",
       "   'in_trash': False,\n",
       "   'properties': {'Summary': {'id': '?\\\\25',\n",
       "     'type': 'rich_text',\n",
       "     'rich_text': []},\n",
       "    'cover': {'id': 'Urz>',\n",
       "     'type': 'url',\n",
       "     'url': 'http://books.google.com/books/content?id=OcvWPQAACAAJ&printsec=frontcover&img=1&zoom=1&source=gbs_api'},\n",
       "    'Total pages': {'id': '\\\\?}w', 'type': 'number', 'number': 262},\n",
       "    'Date started': {'id': 'evL[',\n",
       "     'type': 'date',\n",
       "     'date': {'start': '2024-01-18', 'end': None, 'time_zone': None}},\n",
       "    'Date finished': {'id': 'flfJ',\n",
       "     'type': 'date',\n",
       "     'date': {'start': '2024-03-15', 'end': None, 'time_zone': None}},\n",
       "    'Progress': {'id': 'nviz',\n",
       "     'type': 'formula',\n",
       "     'formula': {'type': 'number', 'number': 0}},\n",
       "    'Author': {'id': 'qNw_',\n",
       "     'type': 'rich_text',\n",
       "     'rich_text': [{'type': 'text',\n",
       "       'text': {'content': 'Stephen W. Hawking', 'link': None},\n",
       "       'annotations': {'bold': False,\n",
       "        'italic': False,\n",
       "        'strikethrough': False,\n",
       "        'underline': False,\n",
       "        'code': False,\n",
       "        'color': 'default'},\n",
       "       'plain_text': 'Stephen W. Hawking',\n",
       "       'href': None}]},\n",
       "    'Status': {'id': 'qRc\\\\',\n",
       "     'type': 'status',\n",
       "     'status': {'id': '50d821ad-f638-4b79-970f-11b2ae9f8c78',\n",
       "      'name': 'done',\n",
       "      'color': 'green'}},\n",
       "    'Title': {'id': 'title',\n",
       "     'type': 'title',\n",
       "     'title': [{'type': 'text',\n",
       "       'text': {'content': 'Das Universum in der Nussschale', 'link': None},\n",
       "       'annotations': {'bold': False,\n",
       "        'italic': False,\n",
       "        'strikethrough': False,\n",
       "        'underline': False,\n",
       "        'code': False,\n",
       "        'color': 'default'},\n",
       "       'plain_text': 'Das Universum in der Nussschale',\n",
       "       'href': None}]}},\n",
       "   'url': 'https://www.notion.so/Das-Universum-in-der-Nussschale-51cc5bc0c3e44c9b91badde5a917d4e6',\n",
       "   'public_url': None},\n",
       "  {'object': 'page',\n",
       "   'id': '2cbae51e-d985-4b0e-a7ce-cd732c5af652',\n",
       "   'created_time': '2024-08-12T16:58:00.000Z',\n",
       "   'last_edited_time': '2024-08-12T16:59:00.000Z',\n",
       "   'created_by': {'object': 'user',\n",
       "    'id': '074559e7-8c13-4b7a-899e-4012f06d6320'},\n",
       "   'last_edited_by': {'object': 'user',\n",
       "    'id': '074559e7-8c13-4b7a-899e-4012f06d6320'},\n",
       "   'cover': None,\n",
       "   'icon': None,\n",
       "   'parent': {'type': 'database_id',\n",
       "    'database_id': '1b71653e-3631-48e0-b2ba-399638473ced'},\n",
       "   'archived': False,\n",
       "   'in_trash': False,\n",
       "   'properties': {'Category': {'id': '/7eo',\n",
       "     'type': 'select',\n",
       "     'select': {'id': 'r\\\\pO', 'name': 'Fiction', 'color': 'default'}},\n",
       "    'Summary': {'id': '?\\\\25', 'type': 'rich_text', 'rich_text': []},\n",
       "    'cover': {'id': 'Urz>',\n",
       "     'type': 'url',\n",
       "     'url': 'http://books.google.com/books/content?id=KpLpyx_lFqkC&printsec=frontcover&img=1&zoom=1&edge=curl&source=gbs_api'},\n",
       "    'Total pages': {'id': '\\\\?}w', 'type': 'number', 'number': 566},\n",
       "    'Date started': {'id': 'evL[',\n",
       "     'type': 'date',\n",
       "     'date': {'start': '2020-08-01', 'end': None, 'time_zone': None}},\n",
       "    'Date finished': {'id': 'flfJ',\n",
       "     'type': 'date',\n",
       "     'date': {'start': '2020-12-25', 'end': None, 'time_zone': None}},\n",
       "    'Progress': {'id': 'nviz',\n",
       "     'type': 'formula',\n",
       "     'formula': {'type': 'number', 'number': 0}},\n",
       "    'Author': {'id': 'qNw_',\n",
       "     'type': 'rich_text',\n",
       "     'rich_text': [{'type': 'text',\n",
       "       'text': {'content': 'J.R.R. Tolkien', 'link': None},\n",
       "       'annotations': {'bold': False,\n",
       "        'italic': False,\n",
       "        'strikethrough': False,\n",
       "        'underline': False,\n",
       "        'code': False,\n",
       "        'color': 'default'},\n",
       "       'plain_text': 'J.R.R. Tolkien',\n",
       "       'href': None}]},\n",
       "    'Status': {'id': 'qRc\\\\',\n",
       "     'type': 'status',\n",
       "     'status': {'id': '50d821ad-f638-4b79-970f-11b2ae9f8c78',\n",
       "      'name': 'done',\n",
       "      'color': 'green'}},\n",
       "    'Title': {'id': 'title',\n",
       "     'type': 'title',\n",
       "     'title': [{'type': 'text',\n",
       "       'text': {'content': 'Das Silmarillion', 'link': None},\n",
       "       'annotations': {'bold': False,\n",
       "        'italic': False,\n",
       "        'strikethrough': False,\n",
       "        'underline': False,\n",
       "        'code': False,\n",
       "        'color': 'default'},\n",
       "       'plain_text': 'Das Silmarillion',\n",
       "       'href': None}]}},\n",
       "   'url': 'https://www.notion.so/Das-Silmarillion-2cbae51ed9854b0ea7cecd732c5af652',\n",
       "   'public_url': None},\n",
       "  {'object': 'page',\n",
       "   'id': 'c0477872-6e23-4eee-b244-482e5c326ae7',\n",
       "   'created_time': '2024-08-12T16:58:00.000Z',\n",
       "   'last_edited_time': '2024-08-12T16:59:00.000Z',\n",
       "   'created_by': {'object': 'user',\n",
       "    'id': '074559e7-8c13-4b7a-899e-4012f06d6320'},\n",
       "   'last_edited_by': {'object': 'user',\n",
       "    'id': '074559e7-8c13-4b7a-899e-4012f06d6320'},\n",
       "   'cover': None,\n",
       "   'icon': None,\n",
       "   'parent': {'type': 'database_id',\n",
       "    'database_id': '1b71653e-3631-48e0-b2ba-399638473ced'},\n",
       "   'archived': False,\n",
       "   'in_trash': False,\n",
       "   'properties': {'Category': {'id': '/7eo',\n",
       "     'type': 'select',\n",
       "     'select': {'id': 'r\\\\pO', 'name': 'Fiction', 'color': 'default'}},\n",
       "    'Summary': {'id': '?\\\\25', 'type': 'rich_text', 'rich_text': []},\n",
       "    'cover': {'id': 'Urz>',\n",
       "     'type': 'url',\n",
       "     'url': 'http://books.google.com/books/content?id=eBC7DwAAQBAJ&printsec=frontcover&img=1&zoom=1&edge=curl&source=gbs_api'},\n",
       "    'Total pages': {'id': '\\\\?}w', 'type': 'number', 'number': 393},\n",
       "    'Date started': {'id': 'evL[',\n",
       "     'type': 'date',\n",
       "     'date': {'start': '2022-08-18', 'end': None, 'time_zone': None}},\n",
       "    'Date finished': {'id': 'flfJ',\n",
       "     'type': 'date',\n",
       "     'date': {'start': '2022-09-09', 'end': None, 'time_zone': None}},\n",
       "    'Progress': {'id': 'nviz',\n",
       "     'type': 'formula',\n",
       "     'formula': {'type': 'number', 'number': 0}},\n",
       "    'Author': {'id': 'qNw_',\n",
       "     'type': 'rich_text',\n",
       "     'rich_text': [{'type': 'text',\n",
       "       'text': {'content': 'Madeline Miller', 'link': None},\n",
       "       'annotations': {'bold': False,\n",
       "        'italic': False,\n",
       "        'strikethrough': False,\n",
       "        'underline': False,\n",
       "        'code': False,\n",
       "        'color': 'default'},\n",
       "       'plain_text': 'Madeline Miller',\n",
       "       'href': None}]},\n",
       "    'Status': {'id': 'qRc\\\\',\n",
       "     'type': 'status',\n",
       "     'status': {'id': '50d821ad-f638-4b79-970f-11b2ae9f8c78',\n",
       "      'name': 'done',\n",
       "      'color': 'green'}},\n",
       "    'Title': {'id': 'title',\n",
       "     'type': 'title',\n",
       "     'title': [{'type': 'text',\n",
       "       'text': {'content': 'Das Lied des Achill', 'link': None},\n",
       "       'annotations': {'bold': False,\n",
       "        'italic': False,\n",
       "        'strikethrough': False,\n",
       "        'underline': False,\n",
       "        'code': False,\n",
       "        'color': 'default'},\n",
       "       'plain_text': 'Das Lied des Achill',\n",
       "       'href': None}]}},\n",
       "   'url': 'https://www.notion.so/Das-Lied-des-Achill-c04778726e234eeeb244482e5c326ae7',\n",
       "   'public_url': None},\n",
       "  {'object': 'page',\n",
       "   'id': '3fe28c43-58dc-4186-903a-f8feda334b4d',\n",
       "   'created_time': '2024-08-12T16:58:00.000Z',\n",
       "   'last_edited_time': '2024-08-12T16:59:00.000Z',\n",
       "   'created_by': {'object': 'user',\n",
       "    'id': '074559e7-8c13-4b7a-899e-4012f06d6320'},\n",
       "   'last_edited_by': {'object': 'user',\n",
       "    'id': '074559e7-8c13-4b7a-899e-4012f06d6320'},\n",
       "   'cover': None,\n",
       "   'icon': None,\n",
       "   'parent': {'type': 'database_id',\n",
       "    'database_id': '1b71653e-3631-48e0-b2ba-399638473ced'},\n",
       "   'archived': False,\n",
       "   'in_trash': False,\n",
       "   'properties': {'Summary': {'id': '?\\\\25',\n",
       "     'type': 'rich_text',\n",
       "     'rich_text': []},\n",
       "    'cover': {'id': 'Urz>',\n",
       "     'type': 'url',\n",
       "     'url': 'http://books.google.com/books/content?id=MMsfjgEACAAJ&printsec=frontcover&img=1&zoom=1&source=gbs_api'},\n",
       "    'Total pages': {'id': '\\\\?}w', 'type': 'number', 'number': 1856},\n",
       "    'Date started': {'id': 'evL[',\n",
       "     'type': 'date',\n",
       "     'date': {'start': '2021-04-01', 'end': None, 'time_zone': None}},\n",
       "    'Progress': {'id': 'nviz',\n",
       "     'type': 'formula',\n",
       "     'formula': {'type': 'number', 'number': 0}},\n",
       "    'Author': {'id': 'qNw_',\n",
       "     'type': 'rich_text',\n",
       "     'rich_text': [{'type': 'text',\n",
       "       'text': {'content': 'Neil A. Campbell, Jane B. Reece, Lisa A. Urry, Michael L. Cain, Steven A. Wasserman, Peter V. Minorsky, Robert B. Jackson',\n",
       "        'link': None},\n",
       "       'annotations': {'bold': False,\n",
       "        'italic': False,\n",
       "        'strikethrough': False,\n",
       "        'underline': False,\n",
       "        'code': False,\n",
       "        'color': 'default'},\n",
       "       'plain_text': 'Neil A. Campbell, Jane B. Reece, Lisa A. Urry, Michael L. Cain, Steven A. Wasserman, Peter V. Minorsky, Robert B. Jackson',\n",
       "       'href': None}]},\n",
       "    'Status': {'id': 'qRc\\\\',\n",
       "     'type': 'status',\n",
       "     'status': {'id': '50d821ad-f638-4b79-970f-11b2ae9f8c78',\n",
       "      'name': 'done',\n",
       "      'color': 'green'}},\n",
       "    'Title': {'id': 'title',\n",
       "     'type': 'title',\n",
       "     'title': [{'type': 'text',\n",
       "       'text': {'content': 'Campbell Biologie', 'link': None},\n",
       "       'annotations': {'bold': False,\n",
       "        'italic': False,\n",
       "        'strikethrough': False,\n",
       "        'underline': False,\n",
       "        'code': False,\n",
       "        'color': 'default'},\n",
       "       'plain_text': 'Campbell Biologie',\n",
       "       'href': None}]}},\n",
       "   'url': 'https://www.notion.so/Campbell-Biologie-3fe28c4358dc4186903af8feda334b4d',\n",
       "   'public_url': None},\n",
       "  {'object': 'page',\n",
       "   'id': '5914c658-97ec-4ea8-bdff-8168ff77c55f',\n",
       "   'created_time': '2024-08-12T16:58:00.000Z',\n",
       "   'last_edited_time': '2024-08-12T16:59:00.000Z',\n",
       "   'created_by': {'object': 'user',\n",
       "    'id': '074559e7-8c13-4b7a-899e-4012f06d6320'},\n",
       "   'last_edited_by': {'object': 'user',\n",
       "    'id': '074559e7-8c13-4b7a-899e-4012f06d6320'},\n",
       "   'cover': None,\n",
       "   'icon': None,\n",
       "   'parent': {'type': 'database_id',\n",
       "    'database_id': '1b71653e-3631-48e0-b2ba-399638473ced'},\n",
       "   'archived': False,\n",
       "   'in_trash': False,\n",
       "   'properties': {'Summary': {'id': '?\\\\25',\n",
       "     'type': 'rich_text',\n",
       "     'rich_text': []},\n",
       "    'cover': {'id': 'Urz>',\n",
       "     'type': 'url',\n",
       "     'url': 'http://books.google.com/books/content?id=B3VZDwAAQBAJ&printsec=frontcover&img=1&zoom=1&edge=curl&source=gbs_api'},\n",
       "    'Total pages': {'id': '\\\\?}w', 'type': 'number', 'number': 381},\n",
       "    'Date started': {'id': 'evL[',\n",
       "     'type': 'date',\n",
       "     'date': {'start': '2023-10-31', 'end': None, 'time_zone': None}},\n",
       "    'Date finished': {'id': 'flfJ',\n",
       "     'type': 'date',\n",
       "     'date': {'start': '2023-11-14', 'end': None, 'time_zone': None}},\n",
       "    'Progress': {'id': 'nviz',\n",
       "     'type': 'formula',\n",
       "     'formula': {'type': 'number', 'number': 0}},\n",
       "    'Author': {'id': 'qNw_',\n",
       "     'type': 'rich_text',\n",
       "     'rich_text': [{'type': 'text',\n",
       "       'text': {'content': 'David Graeber', 'link': None},\n",
       "       'annotations': {'bold': False,\n",
       "        'italic': False,\n",
       "        'strikethrough': False,\n",
       "        'underline': False,\n",
       "        'code': False,\n",
       "        'color': 'default'},\n",
       "       'plain_text': 'David Graeber',\n",
       "       'href': None}]},\n",
       "    'Status': {'id': 'qRc\\\\',\n",
       "     'type': 'status',\n",
       "     'status': {'id': '50d821ad-f638-4b79-970f-11b2ae9f8c78',\n",
       "      'name': 'done',\n",
       "      'color': 'green'}},\n",
       "    'Title': {'id': 'title',\n",
       "     'type': 'title',\n",
       "     'title': [{'type': 'text',\n",
       "       'text': {'content': 'Bullshit Jobs', 'link': None},\n",
       "       'annotations': {'bold': False,\n",
       "        'italic': False,\n",
       "        'strikethrough': False,\n",
       "        'underline': False,\n",
       "        'code': False,\n",
       "        'color': 'default'},\n",
       "       'plain_text': 'Bullshit Jobs',\n",
       "       'href': None}]}},\n",
       "   'url': 'https://www.notion.so/Bullshit-Jobs-5914c65897ec4ea8bdff8168ff77c55f',\n",
       "   'public_url': None},\n",
       "  {'object': 'page',\n",
       "   'id': 'cdd56001-9119-4659-8f5a-95b48140ba8c',\n",
       "   'created_time': '2024-08-12T16:58:00.000Z',\n",
       "   'last_edited_time': '2024-08-12T16:59:00.000Z',\n",
       "   'created_by': {'object': 'user',\n",
       "    'id': '074559e7-8c13-4b7a-899e-4012f06d6320'},\n",
       "   'last_edited_by': {'object': 'user',\n",
       "    'id': '074559e7-8c13-4b7a-899e-4012f06d6320'},\n",
       "   'cover': None,\n",
       "   'icon': None,\n",
       "   'parent': {'type': 'database_id',\n",
       "    'database_id': '1b71653e-3631-48e0-b2ba-399638473ced'},\n",
       "   'archived': False,\n",
       "   'in_trash': False,\n",
       "   'properties': {'Category': {'id': '/7eo',\n",
       "     'type': 'select',\n",
       "     'select': {'id': 'r\\\\pO', 'name': 'Fiction', 'color': 'default'}},\n",
       "    'Summary': {'id': '?\\\\25', 'type': 'rich_text', 'rich_text': []},\n",
       "    'cover': {'id': 'Urz>',\n",
       "     'type': 'url',\n",
       "     'url': 'http://books.google.com/books/content?id=1E-WEAAAQBAJ&printsec=frontcover&img=1&zoom=1&edge=curl&source=gbs_api'},\n",
       "    'Total pages': {'id': '\\\\?}w', 'type': 'number', 'number': 212},\n",
       "    'Date started': {'id': 'evL[',\n",
       "     'type': 'date',\n",
       "     'date': {'start': '2023-05-02', 'end': None, 'time_zone': None}},\n",
       "    'Date finished': {'id': 'flfJ',\n",
       "     'type': 'date',\n",
       "     'date': {'start': '2023-06-11', 'end': None, 'time_zone': None}},\n",
       "    'Progress': {'id': 'nviz',\n",
       "     'type': 'formula',\n",
       "     'formula': {'type': 'number', 'number': 0}},\n",
       "    'Author': {'id': 'qNw_',\n",
       "     'type': 'rich_text',\n",
       "     'rich_text': [{'type': 'text',\n",
       "       'text': {'content': 'Robert Seethaler', 'link': None},\n",
       "       'annotations': {'bold': False,\n",
       "        'italic': False,\n",
       "        'strikethrough': False,\n",
       "        'underline': False,\n",
       "        'code': False,\n",
       "        'color': 'default'},\n",
       "       'plain_text': 'Robert Seethaler',\n",
       "       'href': None}]},\n",
       "    'Status': {'id': 'qRc\\\\',\n",
       "     'type': 'status',\n",
       "     'status': {'id': '50d821ad-f638-4b79-970f-11b2ae9f8c78',\n",
       "      'name': 'done',\n",
       "      'color': 'green'}},\n",
       "    'Title': {'id': 'title',\n",
       "     'type': 'title',\n",
       "     'title': [{'type': 'text',\n",
       "       'text': {'content': 'Das Café ohne Namen', 'link': None},\n",
       "       'annotations': {'bold': False,\n",
       "        'italic': False,\n",
       "        'strikethrough': False,\n",
       "        'underline': False,\n",
       "        'code': False,\n",
       "        'color': 'default'},\n",
       "       'plain_text': 'Das Café ohne Namen',\n",
       "       'href': None}]}},\n",
       "   'url': 'https://www.notion.so/Das-Caf-ohne-Namen-cdd56001911946598f5a95b48140ba8c',\n",
       "   'public_url': None},\n",
       "  {'object': 'page',\n",
       "   'id': '509309c4-9918-42c6-9cb9-6a18650ec7f8',\n",
       "   'created_time': '2024-08-12T16:58:00.000Z',\n",
       "   'last_edited_time': '2024-08-12T16:59:00.000Z',\n",
       "   'created_by': {'object': 'user',\n",
       "    'id': '074559e7-8c13-4b7a-899e-4012f06d6320'},\n",
       "   'last_edited_by': {'object': 'user',\n",
       "    'id': '074559e7-8c13-4b7a-899e-4012f06d6320'},\n",
       "   'cover': None,\n",
       "   'icon': None,\n",
       "   'parent': {'type': 'database_id',\n",
       "    'database_id': '1b71653e-3631-48e0-b2ba-399638473ced'},\n",
       "   'archived': False,\n",
       "   'in_trash': False,\n",
       "   'properties': {'Category': {'id': '/7eo',\n",
       "     'type': 'select',\n",
       "     'select': {'id': 'r\\\\pO', 'name': 'Fiction', 'color': 'default'}},\n",
       "    'Summary': {'id': '?\\\\25', 'type': 'rich_text', 'rich_text': []},\n",
       "    'cover': {'id': 'Urz>',\n",
       "     'type': 'url',\n",
       "     'url': 'http://books.google.com/books/content?id=gmlIDQAAQBAJ&printsec=frontcover&img=1&zoom=1&edge=curl&source=gbs_api'},\n",
       "    'Total pages': {'id': '\\\\?}w', 'type': 'number', 'number': 242},\n",
       "    'Date started': {'id': 'evL[',\n",
       "     'type': 'date',\n",
       "     'date': {'start': '2021-03-13', 'end': None, 'time_zone': None}},\n",
       "    'Date finished': {'id': 'flfJ',\n",
       "     'type': 'date',\n",
       "     'date': {'start': '2021-08-25', 'end': None, 'time_zone': None}},\n",
       "    'Progress': {'id': 'nviz',\n",
       "     'type': 'formula',\n",
       "     'formula': {'type': 'number', 'number': 0}},\n",
       "    'Author': {'id': 'qNw_',\n",
       "     'type': 'rich_text',\n",
       "     'rich_text': [{'type': 'text',\n",
       "       'text': {'content': 'J. R. R. Tolkien', 'link': None},\n",
       "       'annotations': {'bold': False,\n",
       "        'italic': False,\n",
       "        'strikethrough': False,\n",
       "        'underline': False,\n",
       "        'code': False,\n",
       "        'color': 'default'},\n",
       "       'plain_text': 'J. R. R. Tolkien',\n",
       "       'href': None}]},\n",
       "    'Status': {'id': 'qRc\\\\',\n",
       "     'type': 'status',\n",
       "     'status': {'id': '50d821ad-f638-4b79-970f-11b2ae9f8c78',\n",
       "      'name': 'done',\n",
       "      'color': 'green'}},\n",
       "    'Title': {'id': 'title',\n",
       "     'type': 'title',\n",
       "     'title': [{'type': 'text',\n",
       "       'text': {'content': 'Beren and Lúthien', 'link': None},\n",
       "       'annotations': {'bold': False,\n",
       "        'italic': False,\n",
       "        'strikethrough': False,\n",
       "        'underline': False,\n",
       "        'code': False,\n",
       "        'color': 'default'},\n",
       "       'plain_text': 'Beren and Lúthien',\n",
       "       'href': None}]}},\n",
       "   'url': 'https://www.notion.so/Beren-and-L-thien-509309c4991842c69cb96a18650ec7f8',\n",
       "   'public_url': None},\n",
       "  {'object': 'page',\n",
       "   'id': '71133a10-3fb5-4a8d-8f51-684672d29495',\n",
       "   'created_time': '2024-08-12T16:58:00.000Z',\n",
       "   'last_edited_time': '2024-08-12T16:59:00.000Z',\n",
       "   'created_by': {'object': 'user',\n",
       "    'id': '074559e7-8c13-4b7a-899e-4012f06d6320'},\n",
       "   'last_edited_by': {'object': 'user',\n",
       "    'id': '074559e7-8c13-4b7a-899e-4012f06d6320'},\n",
       "   'cover': None,\n",
       "   'icon': None,\n",
       "   'parent': {'type': 'database_id',\n",
       "    'database_id': '1b71653e-3631-48e0-b2ba-399638473ced'},\n",
       "   'archived': False,\n",
       "   'in_trash': False,\n",
       "   'properties': {'Summary': {'id': '?\\\\25',\n",
       "     'type': 'rich_text',\n",
       "     'rich_text': []},\n",
       "    'cover': {'id': 'Urz>',\n",
       "     'type': 'url',\n",
       "     'url': 'http://books.google.com/books/content?id=bV9ODwAAQBAJ&printsec=frontcover&img=1&zoom=1&edge=curl&source=gbs_api'},\n",
       "    'Total pages': {'id': '\\\\?}w', 'type': 'number', 'number': 560},\n",
       "    'Date started': {'id': 'evL[',\n",
       "     'type': 'date',\n",
       "     'date': {'start': '2023-01-11', 'end': None, 'time_zone': None}},\n",
       "    'Date finished': {'id': 'flfJ',\n",
       "     'type': 'date',\n",
       "     'date': {'start': '2023-02-10', 'end': None, 'time_zone': None}},\n",
       "    'Progress': {'id': 'nviz',\n",
       "     'type': 'formula',\n",
       "     'formula': {'type': 'number', 'number': 0}},\n",
       "    'Author': {'id': 'qNw_',\n",
       "     'type': 'rich_text',\n",
       "     'rich_text': [{'type': 'text',\n",
       "       'text': {'content': 'Michelle Obama', 'link': None},\n",
       "       'annotations': {'bold': False,\n",
       "        'italic': False,\n",
       "        'strikethrough': False,\n",
       "        'underline': False,\n",
       "        'code': False,\n",
       "        'color': 'default'},\n",
       "       'plain_text': 'Michelle Obama',\n",
       "       'href': None}]},\n",
       "    'Status': {'id': 'qRc\\\\',\n",
       "     'type': 'status',\n",
       "     'status': {'id': '50d821ad-f638-4b79-970f-11b2ae9f8c78',\n",
       "      'name': 'done',\n",
       "      'color': 'green'}},\n",
       "    'Title': {'id': 'title',\n",
       "     'type': 'title',\n",
       "     'title': [{'type': 'text',\n",
       "       'text': {'content': 'BECOMING', 'link': None},\n",
       "       'annotations': {'bold': False,\n",
       "        'italic': False,\n",
       "        'strikethrough': False,\n",
       "        'underline': False,\n",
       "        'code': False,\n",
       "        'color': 'default'},\n",
       "       'plain_text': 'BECOMING',\n",
       "       'href': None}]}},\n",
       "   'url': 'https://www.notion.so/BECOMING-71133a103fb54a8d8f51684672d29495',\n",
       "   'public_url': None},\n",
       "  {'object': 'page',\n",
       "   'id': '3c31b37d-bcf3-4cd6-b42d-3c9405afd8fd',\n",
       "   'created_time': '2024-08-12T16:58:00.000Z',\n",
       "   'last_edited_time': '2024-08-12T16:59:00.000Z',\n",
       "   'created_by': {'object': 'user',\n",
       "    'id': '074559e7-8c13-4b7a-899e-4012f06d6320'},\n",
       "   'last_edited_by': {'object': 'user',\n",
       "    'id': '074559e7-8c13-4b7a-899e-4012f06d6320'},\n",
       "   'cover': None,\n",
       "   'icon': None,\n",
       "   'parent': {'type': 'database_id',\n",
       "    'database_id': '1b71653e-3631-48e0-b2ba-399638473ced'},\n",
       "   'archived': False,\n",
       "   'in_trash': False,\n",
       "   'properties': {'Category': {'id': '/7eo',\n",
       "     'type': 'select',\n",
       "     'select': {'id': 'kSWq', 'name': 'Self-help', 'color': 'default'}},\n",
       "    'Summary': {'id': '?\\\\25', 'type': 'rich_text', 'rich_text': []},\n",
       "    'cover': {'id': 'Urz>',\n",
       "     'type': 'url',\n",
       "     'url': 'http://books.google.com/books/content?id=fFCjDQAAQBAJ&printsec=frontcover&img=1&zoom=1&edge=curl&source=gbs_api'},\n",
       "    'Total pages': {'id': '\\\\?}w', 'type': 'number', 'number': 234},\n",
       "    'Date started': {'id': 'evL[',\n",
       "     'type': 'date',\n",
       "     'date': {'start': '2022-02-15', 'end': None, 'time_zone': None}},\n",
       "    'Date finished': {'id': 'flfJ',\n",
       "     'type': 'date',\n",
       "     'date': {'start': '2022-03-01', 'end': None, 'time_zone': None}},\n",
       "    'Progress': {'id': 'nviz',\n",
       "     'type': 'formula',\n",
       "     'formula': {'type': 'number', 'number': 0}},\n",
       "    'Author': {'id': 'qNw_',\n",
       "     'type': 'rich_text',\n",
       "     'rich_text': [{'type': 'text',\n",
       "       'text': {'content': 'James Clear', 'link': None},\n",
       "       'annotations': {'bold': False,\n",
       "        'italic': False,\n",
       "        'strikethrough': False,\n",
       "        'underline': False,\n",
       "        'code': False,\n",
       "        'color': 'default'},\n",
       "       'plain_text': 'James Clear',\n",
       "       'href': None}]},\n",
       "    'Status': {'id': 'qRc\\\\',\n",
       "     'type': 'status',\n",
       "     'status': {'id': '50d821ad-f638-4b79-970f-11b2ae9f8c78',\n",
       "      'name': 'done',\n",
       "      'color': 'green'}},\n",
       "    'Title': {'id': 'title',\n",
       "     'type': 'title',\n",
       "     'title': [{'type': 'text',\n",
       "       'text': {'content': 'Atomic Habits', 'link': None},\n",
       "       'annotations': {'bold': False,\n",
       "        'italic': False,\n",
       "        'strikethrough': False,\n",
       "        'underline': False,\n",
       "        'code': False,\n",
       "        'color': 'default'},\n",
       "       'plain_text': 'Atomic Habits',\n",
       "       'href': None}]}},\n",
       "   'url': 'https://www.notion.so/Atomic-Habits-3c31b37dbcf34cd6b42d3c9405afd8fd',\n",
       "   'public_url': None},\n",
       "  {'object': 'page',\n",
       "   'id': '8a838eaa-595d-45d8-bb18-99b2246324c6',\n",
       "   'created_time': '2024-08-12T16:58:00.000Z',\n",
       "   'last_edited_time': '2024-08-12T16:59:00.000Z',\n",
       "   'created_by': {'object': 'user',\n",
       "    'id': '074559e7-8c13-4b7a-899e-4012f06d6320'},\n",
       "   'last_edited_by': {'object': 'user',\n",
       "    'id': '074559e7-8c13-4b7a-899e-4012f06d6320'},\n",
       "   'cover': None,\n",
       "   'icon': None,\n",
       "   'parent': {'type': 'database_id',\n",
       "    'database_id': '1b71653e-3631-48e0-b2ba-399638473ced'},\n",
       "   'archived': False,\n",
       "   'in_trash': False,\n",
       "   'properties': {'Summary': {'id': '?\\\\25',\n",
       "     'type': 'rich_text',\n",
       "     'rich_text': []},\n",
       "    'cover': {'id': 'Urz>',\n",
       "     'type': 'url',\n",
       "     'url': 'http://books.google.com/books/content?id=im_SYWy5pjMC&printsec=frontcover&img=1&zoom=1&edge=curl&source=gbs_api'},\n",
       "    'Total pages': {'id': '\\\\?}w', 'type': 'number', 'number': 1228},\n",
       "    'Date started': {'id': 'evL[',\n",
       "     'type': 'date',\n",
       "     'date': {'start': '2024-03-22', 'end': None, 'time_zone': None}},\n",
       "    'Progress': {'id': 'nviz',\n",
       "     'type': 'formula',\n",
       "     'formula': {'type': 'number', 'number': 0}},\n",
       "    'Author': {'id': 'qNw_',\n",
       "     'type': 'rich_text',\n",
       "     'rich_text': [{'type': 'text',\n",
       "       'text': {'content': 'Jeffrey O. Bennett', 'link': None},\n",
       "       'annotations': {'bold': False,\n",
       "        'italic': False,\n",
       "        'strikethrough': False,\n",
       "        'underline': False,\n",
       "        'code': False,\n",
       "        'color': 'default'},\n",
       "       'plain_text': 'Jeffrey O. Bennett',\n",
       "       'href': None}]},\n",
       "    'Status': {'id': 'qRc\\\\',\n",
       "     'type': 'status',\n",
       "     'status': {'id': '50d821ad-f638-4b79-970f-11b2ae9f8c78',\n",
       "      'name': 'done',\n",
       "      'color': 'green'}},\n",
       "    'Title': {'id': 'title',\n",
       "     'type': 'title',\n",
       "     'title': [{'type': 'text',\n",
       "       'text': {'content': 'Astronomie', 'link': None},\n",
       "       'annotations': {'bold': False,\n",
       "        'italic': False,\n",
       "        'strikethrough': False,\n",
       "        'underline': False,\n",
       "        'code': False,\n",
       "        'color': 'default'},\n",
       "       'plain_text': 'Astronomie',\n",
       "       'href': None}]}},\n",
       "   'url': 'https://www.notion.so/Astronomie-8a838eaa595d45d8bb1899b2246324c6',\n",
       "   'public_url': None},\n",
       "  {'object': 'page',\n",
       "   'id': 'f9338061-df79-4fd3-b908-6bad63615b78',\n",
       "   'created_time': '2024-08-12T16:58:00.000Z',\n",
       "   'last_edited_time': '2024-08-12T16:59:00.000Z',\n",
       "   'created_by': {'object': 'user',\n",
       "    'id': '074559e7-8c13-4b7a-899e-4012f06d6320'},\n",
       "   'last_edited_by': {'object': 'user',\n",
       "    'id': '074559e7-8c13-4b7a-899e-4012f06d6320'},\n",
       "   'cover': None,\n",
       "   'icon': None,\n",
       "   'parent': {'type': 'database_id',\n",
       "    'database_id': '1b71653e-3631-48e0-b2ba-399638473ced'},\n",
       "   'archived': False,\n",
       "   'in_trash': False,\n",
       "   'properties': {'Summary': {'id': '?\\\\25',\n",
       "     'type': 'rich_text',\n",
       "     'rich_text': []},\n",
       "    'cover': {'id': 'Urz>',\n",
       "     'type': 'url',\n",
       "     'url': 'http://books.google.com/books/content?id=MgNLDwAAQBAJ&printsec=frontcover&img=1&zoom=1&edge=curl&source=gbs_api'},\n",
       "    'Total pages': {'id': '\\\\?}w', 'type': 'number', 'number': 661},\n",
       "    'Progress': {'id': 'nviz',\n",
       "     'type': 'formula',\n",
       "     'formula': {'type': 'number', 'number': 0}},\n",
       "    'Author': {'id': 'qNw_',\n",
       "     'type': 'rich_text',\n",
       "     'rich_text': [{'type': 'text',\n",
       "       'text': {'content': 'Jonathan Eig', 'link': None},\n",
       "       'annotations': {'bold': False,\n",
       "        'italic': False,\n",
       "        'strikethrough': False,\n",
       "        'underline': False,\n",
       "        'code': False,\n",
       "        'color': 'default'},\n",
       "       'plain_text': 'Jonathan Eig',\n",
       "       'href': None}]},\n",
       "    'Status': {'id': 'qRc\\\\',\n",
       "     'type': 'status',\n",
       "     'status': {'id': '50d821ad-f638-4b79-970f-11b2ae9f8c78',\n",
       "      'name': 'done',\n",
       "      'color': 'green'}},\n",
       "    'Title': {'id': 'title',\n",
       "     'type': 'title',\n",
       "     'title': [{'type': 'text',\n",
       "       'text': {'content': 'Ali', 'link': None},\n",
       "       'annotations': {'bold': False,\n",
       "        'italic': False,\n",
       "        'strikethrough': False,\n",
       "        'underline': False,\n",
       "        'code': False,\n",
       "        'color': 'default'},\n",
       "       'plain_text': 'Ali',\n",
       "       'href': None}]}},\n",
       "   'url': 'https://www.notion.so/Ali-f9338061df794fd3b9086bad63615b78',\n",
       "   'public_url': None},\n",
       "  {'object': 'page',\n",
       "   'id': '3f8a812a-9b9a-40af-ac54-d856189e7d7c',\n",
       "   'created_time': '2024-08-12T16:58:00.000Z',\n",
       "   'last_edited_time': '2024-08-12T16:59:00.000Z',\n",
       "   'created_by': {'object': 'user',\n",
       "    'id': '074559e7-8c13-4b7a-899e-4012f06d6320'},\n",
       "   'last_edited_by': {'object': 'user',\n",
       "    'id': '074559e7-8c13-4b7a-899e-4012f06d6320'},\n",
       "   'cover': None,\n",
       "   'icon': None,\n",
       "   'parent': {'type': 'database_id',\n",
       "    'database_id': '1b71653e-3631-48e0-b2ba-399638473ced'},\n",
       "   'archived': False,\n",
       "   'in_trash': False,\n",
       "   'properties': {'Summary': {'id': '?\\\\25',\n",
       "     'type': 'rich_text',\n",
       "     'rich_text': []},\n",
       "    'cover': {'id': 'Urz>',\n",
       "     'type': 'url',\n",
       "     'url': 'http://books.google.com/books/content?id=kTpwEAAAQBAJ&printsec=frontcover&img=1&zoom=1&edge=curl&source=gbs_api'},\n",
       "    'Total pages': {'id': '\\\\?}w', 'type': 'number', 'number': 195},\n",
       "    'Date started': {'id': 'evL[',\n",
       "     'type': 'date',\n",
       "     'date': {'start': '2023-02-24', 'end': None, 'time_zone': None}},\n",
       "    'Date finished': {'id': 'flfJ',\n",
       "     'type': 'date',\n",
       "     'date': {'start': '2023-04-09', 'end': None, 'time_zone': None}},\n",
       "    'Progress': {'id': 'nviz',\n",
       "     'type': 'formula',\n",
       "     'formula': {'type': 'number', 'number': 0}},\n",
       "    'Author': {'id': 'qNw_',\n",
       "     'type': 'rich_text',\n",
       "     'rich_text': [{'type': 'text',\n",
       "       'text': {'content': 'Carlo Rovelli', 'link': None},\n",
       "       'annotations': {'bold': False,\n",
       "        'italic': False,\n",
       "        'strikethrough': False,\n",
       "        'underline': False,\n",
       "        'code': False,\n",
       "        'color': 'default'},\n",
       "       'plain_text': 'Carlo Rovelli',\n",
       "       'href': None}]},\n",
       "    'Status': {'id': 'qRc\\\\',\n",
       "     'type': 'status',\n",
       "     'status': {'id': '50d821ad-f638-4b79-970f-11b2ae9f8c78',\n",
       "      'name': 'done',\n",
       "      'color': 'green'}},\n",
       "    'Title': {'id': 'title',\n",
       "     'type': 'title',\n",
       "     'title': [{'type': 'text',\n",
       "       'text': {'content': 'Anaximander', 'link': None},\n",
       "       'annotations': {'bold': False,\n",
       "        'italic': False,\n",
       "        'strikethrough': False,\n",
       "        'underline': False,\n",
       "        'code': False,\n",
       "        'color': 'default'},\n",
       "       'plain_text': 'Anaximander',\n",
       "       'href': None}]}},\n",
       "   'url': 'https://www.notion.so/Anaximander-3f8a812a9b9a40afac54d856189e7d7c',\n",
       "   'public_url': None},\n",
       "  {'object': 'page',\n",
       "   'id': 'fcfb16d9-e44e-4876-8fc0-4d1f995ffd3a',\n",
       "   'created_time': '2024-08-12T16:58:00.000Z',\n",
       "   'last_edited_time': '2024-08-12T16:59:00.000Z',\n",
       "   'created_by': {'object': 'user',\n",
       "    'id': '074559e7-8c13-4b7a-899e-4012f06d6320'},\n",
       "   'last_edited_by': {'object': 'user',\n",
       "    'id': '074559e7-8c13-4b7a-899e-4012f06d6320'},\n",
       "   'cover': None,\n",
       "   'icon': None,\n",
       "   'parent': {'type': 'database_id',\n",
       "    'database_id': '1b71653e-3631-48e0-b2ba-399638473ced'},\n",
       "   'archived': False,\n",
       "   'in_trash': False,\n",
       "   'properties': {'Category': {'id': '/7eo',\n",
       "     'type': 'select',\n",
       "     'select': {'id': 'r\\\\pO', 'name': 'Fiction', 'color': 'default'}},\n",
       "    'Summary': {'id': '?\\\\25', 'type': 'rich_text', 'rich_text': []},\n",
       "    'Total pages': {'id': '\\\\?}w', 'type': 'number', 'number': 201},\n",
       "    'Date started': {'id': 'evL[',\n",
       "     'type': 'date',\n",
       "     'date': {'start': '2023-06-11', 'end': None, 'time_zone': None}},\n",
       "    'Date finished': {'id': 'flfJ',\n",
       "     'type': 'date',\n",
       "     'date': {'start': '2023-06-16', 'end': None, 'time_zone': None}},\n",
       "    'Progress': {'id': 'nviz',\n",
       "     'type': 'formula',\n",
       "     'formula': {'type': 'number', 'number': 0}},\n",
       "    'Author': {'id': 'qNw_',\n",
       "     'type': 'rich_text',\n",
       "     'rich_text': [{'type': 'text',\n",
       "       'text': {'content': 'Annette Weber', 'link': None},\n",
       "       'annotations': {'bold': False,\n",
       "        'italic': False,\n",
       "        'strikethrough': False,\n",
       "        'underline': False,\n",
       "        'code': False,\n",
       "        'color': 'default'},\n",
       "       'plain_text': 'Annette Weber',\n",
       "       'href': None}]},\n",
       "    'Status': {'id': 'qRc\\\\',\n",
       "     'type': 'status',\n",
       "     'status': {'id': '50d821ad-f638-4b79-970f-11b2ae9f8c78',\n",
       "      'name': 'done',\n",
       "      'color': 'green'}},\n",
       "    'Title': {'id': 'title',\n",
       "     'type': 'title',\n",
       "     'title': [{'type': 'text',\n",
       "       'text': {'content': 'Annette, ein Heldinnenepos', 'link': None},\n",
       "       'annotations': {'bold': False,\n",
       "        'italic': False,\n",
       "        'strikethrough': False,\n",
       "        'underline': False,\n",
       "        'code': False,\n",
       "        'color': 'default'},\n",
       "       'plain_text': 'Annette, ein Heldinnenepos',\n",
       "       'href': None}]}},\n",
       "   'url': 'https://www.notion.so/Annette-ein-Heldinnenepos-fcfb16d9e44e48768fc04d1f995ffd3a',\n",
       "   'public_url': None},\n",
       "  {'object': 'page',\n",
       "   'id': '7a403c57-5b4c-4191-b47d-775e554c489e',\n",
       "   'created_time': '2024-08-12T16:58:00.000Z',\n",
       "   'last_edited_time': '2024-08-12T16:59:00.000Z',\n",
       "   'created_by': {'object': 'user',\n",
       "    'id': '074559e7-8c13-4b7a-899e-4012f06d6320'},\n",
       "   'last_edited_by': {'object': 'user',\n",
       "    'id': '074559e7-8c13-4b7a-899e-4012f06d6320'},\n",
       "   'cover': None,\n",
       "   'icon': None,\n",
       "   'parent': {'type': 'database_id',\n",
       "    'database_id': '1b71653e-3631-48e0-b2ba-399638473ced'},\n",
       "   'archived': False,\n",
       "   'in_trash': False,\n",
       "   'properties': {'Summary': {'id': '?\\\\25',\n",
       "     'type': 'rich_text',\n",
       "     'rich_text': []},\n",
       "    'Total pages': {'id': '\\\\?}w', 'type': 'number', 'number': 0},\n",
       "    'Progress': {'id': 'nviz',\n",
       "     'type': 'formula',\n",
       "     'formula': {'type': 'string', 'string': 'Invalid Total Pages'}},\n",
       "    'Author': {'id': 'qNw_', 'type': 'rich_text', 'rich_text': []},\n",
       "    'Status': {'id': 'qRc\\\\',\n",
       "     'type': 'status',\n",
       "     'status': {'id': '50d821ad-f638-4b79-970f-11b2ae9f8c78',\n",
       "      'name': 'done',\n",
       "      'color': 'green'}},\n",
       "    'Title': {'id': 'title', 'type': 'title', 'title': []}},\n",
       "   'url': 'https://www.notion.so/7a403c575b4c4191b47d775e554c489e',\n",
       "   'public_url': None},\n",
       "  {'object': 'page',\n",
       "   'id': '7cf9cf20-2260-4b6a-96e4-294a83faf7d7',\n",
       "   'created_time': '2024-08-12T16:58:00.000Z',\n",
       "   'last_edited_time': '2024-08-12T16:59:00.000Z',\n",
       "   'created_by': {'object': 'user',\n",
       "    'id': '074559e7-8c13-4b7a-899e-4012f06d6320'},\n",
       "   'last_edited_by': {'object': 'user',\n",
       "    'id': '074559e7-8c13-4b7a-899e-4012f06d6320'},\n",
       "   'cover': None,\n",
       "   'icon': None,\n",
       "   'parent': {'type': 'database_id',\n",
       "    'database_id': '1b71653e-3631-48e0-b2ba-399638473ced'},\n",
       "   'archived': False,\n",
       "   'in_trash': False,\n",
       "   'properties': {'Summary': {'id': '?\\\\25',\n",
       "     'type': 'rich_text',\n",
       "     'rich_text': []},\n",
       "    'cover': {'id': 'Urz>',\n",
       "     'type': 'url',\n",
       "     'url': 'http://books.google.com/books/content?id=dN2aEAAAQBAJ&printsec=frontcover&img=1&zoom=1&edge=curl&source=gbs_api'},\n",
       "    'Total pages': {'id': '\\\\?}w', 'type': 'number', 'number': 203},\n",
       "    'Date started': {'id': 'evL[',\n",
       "     'type': 'date',\n",
       "     'date': {'start': '2024-03-23', 'end': None, 'time_zone': None}},\n",
       "    'Date finished': {'id': 'flfJ',\n",
       "     'type': 'date',\n",
       "     'date': {'start': '2024-04-02', 'end': None, 'time_zone': None}},\n",
       "    'Progress': {'id': 'nviz',\n",
       "     'type': 'formula',\n",
       "     'formula': {'type': 'number', 'number': 0}},\n",
       "    'Author': {'id': 'qNw_',\n",
       "     'type': 'rich_text',\n",
       "     'rich_text': [{'type': 'text',\n",
       "       'text': {'content': 'Caroline Wahl', 'link': None},\n",
       "       'annotations': {'bold': False,\n",
       "        'italic': False,\n",
       "        'strikethrough': False,\n",
       "        'underline': False,\n",
       "        'code': False,\n",
       "        'color': 'default'},\n",
       "       'plain_text': 'Caroline Wahl',\n",
       "       'href': None}]},\n",
       "    'Status': {'id': 'qRc\\\\',\n",
       "     'type': 'status',\n",
       "     'status': {'id': '50d821ad-f638-4b79-970f-11b2ae9f8c78',\n",
       "      'name': 'done',\n",
       "      'color': 'green'}},\n",
       "    'Title': {'id': 'title',\n",
       "     'type': 'title',\n",
       "     'title': [{'type': 'text',\n",
       "       'text': {'content': '22 Bahnen', 'link': None},\n",
       "       'annotations': {'bold': False,\n",
       "        'italic': False,\n",
       "        'strikethrough': False,\n",
       "        'underline': False,\n",
       "        'code': False,\n",
       "        'color': 'default'},\n",
       "       'plain_text': '22 Bahnen',\n",
       "       'href': None}]}},\n",
       "   'url': 'https://www.notion.so/22-Bahnen-7cf9cf2022604b6a96e4294a83faf7d7',\n",
       "   'public_url': None}],\n",
       " 'next_cursor': None,\n",
       " 'has_more': False,\n",
       " 'type': 'page_or_database',\n",
       " 'page_or_database': {},\n",
       " 'request_id': 'dd57815e-192c-45d6-aa87-0f1da7c50d56'}"
      ]
     },
     "execution_count": 12,
     "metadata": {},
     "output_type": "execute_result"
    }
   ],
   "source": [
    "res = query_databases(secret_key, database_id)\n",
    "res"
   ]
  },
  {
   "cell_type": "markdown",
   "id": "0279082b",
   "metadata": {},
   "source": [
    "### Results has the data we need"
   ]
  },
  {
   "cell_type": "code",
   "execution_count": 13,
   "id": "0fba1b15",
   "metadata": {},
   "outputs": [
    {
     "data": {
      "text/plain": [
       "[{'object': 'page',\n",
       "  'id': '8ae970fc-c503-4b6c-a551-eee7e434b2b4',\n",
       "  'created_time': '2024-08-12T17:00:00.000Z',\n",
       "  'last_edited_time': '2024-08-12T17:00:00.000Z',\n",
       "  'created_by': {'object': 'user',\n",
       "   'id': '074559e7-8c13-4b7a-899e-4012f06d6320'},\n",
       "  'last_edited_by': {'object': 'user',\n",
       "   'id': '074559e7-8c13-4b7a-899e-4012f06d6320'},\n",
       "  'cover': None,\n",
       "  'icon': {'type': 'external',\n",
       "   'external': {'url': 'https://www.notion.so/icons/book-closed_gray.svg'}},\n",
       "  'parent': {'type': 'database_id',\n",
       "   'database_id': '1b71653e-3631-48e0-b2ba-399638473ced'},\n",
       "  'archived': False,\n",
       "  'in_trash': False,\n",
       "  'properties': {'Category': {'id': '/7eo',\n",
       "    'type': 'select',\n",
       "    'select': {'id': 'r\\\\pO', 'name': 'Fiction', 'color': 'default'}},\n",
       "   'Summary': {'id': '?\\\\25', 'type': 'rich_text', 'rich_text': []},\n",
       "   'Current page': {'id': 'QK`M', 'type': 'number', 'number': 20},\n",
       "   'Total pages': {'id': '\\\\?}w', 'type': 'number', 'number': 920},\n",
       "   'Date started': {'id': 'evL[',\n",
       "    'type': 'date',\n",
       "    'date': {'start': '2024-08-11', 'end': None, 'time_zone': None}},\n",
       "   'Progress': {'id': 'nviz',\n",
       "    'type': 'formula',\n",
       "    'formula': {'type': 'number', 'number': 0.02}},\n",
       "   'Author': {'id': 'qNw_',\n",
       "    'type': 'rich_text',\n",
       "    'rich_text': [{'type': 'text',\n",
       "      'text': {'content': 'Herman Melville', 'link': None},\n",
       "      'annotations': {'bold': False,\n",
       "       'italic': False,\n",
       "       'strikethrough': False,\n",
       "       'underline': False,\n",
       "       'code': False,\n",
       "       'color': 'default'},\n",
       "      'plain_text': 'Herman Melville',\n",
       "      'href': None}]},\n",
       "   'Status': {'id': 'qRc\\\\',\n",
       "    'type': 'status',\n",
       "    'status': {'id': 'e550e71c-9f29-4310-ade5-42e81eea7e59',\n",
       "     'name': 'in progress',\n",
       "     'color': 'blue'}},\n",
       "   'Title': {'id': 'title',\n",
       "    'type': 'title',\n",
       "    'title': [{'type': 'text',\n",
       "      'text': {'content': 'Moby Dick', 'link': None},\n",
       "      'annotations': {'bold': False,\n",
       "       'italic': False,\n",
       "       'strikethrough': False,\n",
       "       'underline': False,\n",
       "       'code': False,\n",
       "       'color': 'default'},\n",
       "      'plain_text': 'Moby Dick',\n",
       "      'href': None}]}},\n",
       "  'url': 'https://www.notion.so/Moby-Dick-8ae970fcc5034b6ca551eee7e434b2b4',\n",
       "  'public_url': None},\n",
       " {'object': 'page',\n",
       "  'id': '36a8bcd3-66d6-4786-b768-eb2509ff3e6f',\n",
       "  'created_time': '2024-08-12T16:58:00.000Z',\n",
       "  'last_edited_time': '2024-08-12T16:59:00.000Z',\n",
       "  'created_by': {'object': 'user',\n",
       "   'id': '074559e7-8c13-4b7a-899e-4012f06d6320'},\n",
       "  'last_edited_by': {'object': 'user',\n",
       "   'id': '074559e7-8c13-4b7a-899e-4012f06d6320'},\n",
       "  'cover': None,\n",
       "  'icon': None,\n",
       "  'parent': {'type': 'database_id',\n",
       "   'database_id': '1b71653e-3631-48e0-b2ba-399638473ced'},\n",
       "  'archived': False,\n",
       "  'in_trash': False,\n",
       "  'properties': {'Category': {'id': '/7eo',\n",
       "    'type': 'select',\n",
       "    'select': {'id': 'r\\\\pO', 'name': 'Fiction', 'color': 'default'}},\n",
       "   'Summary': {'id': '?\\\\25', 'type': 'rich_text', 'rich_text': []},\n",
       "   'cover': {'id': 'Urz>',\n",
       "    'type': 'url',\n",
       "    'url': 'http://books.google.com/books/content?id=uiiVDwAAQBAJ&printsec=frontcover&img=1&zoom=1&edge=curl&source=gbs_api'},\n",
       "   'Total pages': {'id': '\\\\?}w', 'type': 'number', 'number': 250},\n",
       "   'Date started': {'id': 'evL[',\n",
       "    'type': 'date',\n",
       "    'date': {'start': '2021-02-28', 'end': None, 'time_zone': None}},\n",
       "   'Date finished': {'id': 'flfJ',\n",
       "    'type': 'date',\n",
       "    'date': {'start': '2021-03-20', 'end': None, 'time_zone': None}},\n",
       "   'Progress': {'id': 'nviz',\n",
       "    'type': 'formula',\n",
       "    'formula': {'type': 'number', 'number': 0}},\n",
       "   'Author': {'id': 'qNw_',\n",
       "    'type': 'rich_text',\n",
       "    'rich_text': [{'type': 'text',\n",
       "      'text': {'content': 'Norbert Scheuer', 'link': None},\n",
       "      'annotations': {'bold': False,\n",
       "       'italic': False,\n",
       "       'strikethrough': False,\n",
       "       'underline': False,\n",
       "       'code': False,\n",
       "       'color': 'default'},\n",
       "      'plain_text': 'Norbert Scheuer',\n",
       "      'href': None}]},\n",
       "   'Status': {'id': 'qRc\\\\',\n",
       "    'type': 'status',\n",
       "    'status': {'id': '50d821ad-f638-4b79-970f-11b2ae9f8c78',\n",
       "     'name': 'done',\n",
       "     'color': 'green'}},\n",
       "   'Title': {'id': 'title',\n",
       "    'type': 'title',\n",
       "    'title': [{'type': 'text',\n",
       "      'text': {'content': 'Winterbienen', 'link': None},\n",
       "      'annotations': {'bold': False,\n",
       "       'italic': False,\n",
       "       'strikethrough': False,\n",
       "       'underline': False,\n",
       "       'code': False,\n",
       "       'color': 'default'},\n",
       "      'plain_text': 'Winterbienen',\n",
       "      'href': None}]}},\n",
       "  'url': 'https://www.notion.so/Winterbienen-36a8bcd366d64786b768eb2509ff3e6f',\n",
       "  'public_url': None},\n",
       " {'object': 'page',\n",
       "  'id': 'eb60075d-9db7-4e36-ba53-0479bb452c36',\n",
       "  'created_time': '2024-08-12T16:58:00.000Z',\n",
       "  'last_edited_time': '2024-08-12T16:59:00.000Z',\n",
       "  'created_by': {'object': 'user',\n",
       "   'id': '074559e7-8c13-4b7a-899e-4012f06d6320'},\n",
       "  'last_edited_by': {'object': 'user',\n",
       "   'id': '074559e7-8c13-4b7a-899e-4012f06d6320'},\n",
       "  'cover': None,\n",
       "  'icon': None,\n",
       "  'parent': {'type': 'database_id',\n",
       "   'database_id': '1b71653e-3631-48e0-b2ba-399638473ced'},\n",
       "  'archived': False,\n",
       "  'in_trash': False,\n",
       "  'properties': {'Summary': {'id': '?\\\\25',\n",
       "    'type': 'rich_text',\n",
       "    'rich_text': []},\n",
       "   'cover': {'id': 'Urz>',\n",
       "    'type': 'url',\n",
       "    'url': 'http://books.google.com/books/content?id=UiU2vgEACAAJ&printsec=frontcover&img=1&zoom=1&source=gbs_api'},\n",
       "   'Total pages': {'id': '\\\\?}w', 'type': 'number', 'number': 468},\n",
       "   'Date started': {'id': 'evL[',\n",
       "    'type': 'date',\n",
       "    'date': {'start': '2023-11-14', 'end': None, 'time_zone': None}},\n",
       "   'Date finished': {'id': 'flfJ',\n",
       "    'type': 'date',\n",
       "    'date': {'start': '2023-12-22', 'end': None, 'time_zone': None}},\n",
       "   'Progress': {'id': 'nviz',\n",
       "    'type': 'formula',\n",
       "    'formula': {'type': 'number', 'number': 0}},\n",
       "   'Author': {'id': 'qNw_',\n",
       "    'type': 'rich_text',\n",
       "    'rich_text': [{'type': 'text',\n",
       "      'text': {'content': 'Stephen Fry', 'link': None},\n",
       "      'annotations': {'bold': False,\n",
       "       'italic': False,\n",
       "       'strikethrough': False,\n",
       "       'underline': False,\n",
       "       'code': False,\n",
       "       'color': 'default'},\n",
       "      'plain_text': 'Stephen Fry',\n",
       "      'href': None}]},\n",
       "   'Status': {'id': 'qRc\\\\',\n",
       "    'type': 'status',\n",
       "    'status': {'id': '50d821ad-f638-4b79-970f-11b2ae9f8c78',\n",
       "     'name': 'done',\n",
       "     'color': 'green'}},\n",
       "   'Title': {'id': 'title',\n",
       "    'type': 'title',\n",
       "    'title': [{'type': 'text',\n",
       "      'text': {'content': 'Mythos', 'link': None},\n",
       "      'annotations': {'bold': False,\n",
       "       'italic': False,\n",
       "       'strikethrough': False,\n",
       "       'underline': False,\n",
       "       'code': False,\n",
       "       'color': 'default'},\n",
       "      'plain_text': 'Mythos',\n",
       "      'href': None}]}},\n",
       "  'url': 'https://www.notion.so/Mythos-eb60075d9db74e36ba530479bb452c36',\n",
       "  'public_url': None},\n",
       " {'object': 'page',\n",
       "  'id': 'a044186a-8601-4c3b-89fb-198155814ada',\n",
       "  'created_time': '2024-08-12T16:58:00.000Z',\n",
       "  'last_edited_time': '2024-08-12T16:59:00.000Z',\n",
       "  'created_by': {'object': 'user',\n",
       "   'id': '074559e7-8c13-4b7a-899e-4012f06d6320'},\n",
       "  'last_edited_by': {'object': 'user',\n",
       "   'id': '074559e7-8c13-4b7a-899e-4012f06d6320'},\n",
       "  'cover': None,\n",
       "  'icon': None,\n",
       "  'parent': {'type': 'database_id',\n",
       "   'database_id': '1b71653e-3631-48e0-b2ba-399638473ced'},\n",
       "  'archived': False,\n",
       "  'in_trash': False,\n",
       "  'properties': {'Summary': {'id': '?\\\\25',\n",
       "    'type': 'rich_text',\n",
       "    'rich_text': []},\n",
       "   'Total pages': {'id': '\\\\?}w', 'type': 'number', 'number': 320},\n",
       "   'Date started': {'id': 'evL[',\n",
       "    'type': 'date',\n",
       "    'date': {'start': '2021-04-01', 'end': None, 'time_zone': None}},\n",
       "   'Date finished': {'id': 'flfJ',\n",
       "    'type': 'date',\n",
       "    'date': {'start': '2021-05-06', 'end': None, 'time_zone': None}},\n",
       "   'Progress': {'id': 'nviz',\n",
       "    'type': 'formula',\n",
       "    'formula': {'type': 'number', 'number': 0}},\n",
       "   'Author': {'id': 'qNw_',\n",
       "    'type': 'rich_text',\n",
       "    'rich_text': [{'type': 'text',\n",
       "      'text': {'content': 'Juli Zeh', 'link': None},\n",
       "      'annotations': {'bold': False,\n",
       "       'italic': False,\n",
       "       'strikethrough': False,\n",
       "       'underline': False,\n",
       "       'code': False,\n",
       "       'color': 'default'},\n",
       "      'plain_text': 'Juli Zeh',\n",
       "      'href': None}]},\n",
       "   'Status': {'id': 'qRc\\\\',\n",
       "    'type': 'status',\n",
       "    'status': {'id': '50d821ad-f638-4b79-970f-11b2ae9f8c78',\n",
       "     'name': 'done',\n",
       "     'color': 'green'}},\n",
       "   'Title': {'id': 'title',\n",
       "    'type': 'title',\n",
       "    'title': [{'type': 'text',\n",
       "      'text': {'content': 'Über Menschen', 'link': None},\n",
       "      'annotations': {'bold': False,\n",
       "       'italic': False,\n",
       "       'strikethrough': False,\n",
       "       'underline': False,\n",
       "       'code': False,\n",
       "       'color': 'default'},\n",
       "      'plain_text': 'Über Menschen',\n",
       "      'href': None}]}},\n",
       "  'url': 'https://www.notion.so/ber-Menschen-a044186a86014c3b89fb198155814ada',\n",
       "  'public_url': None},\n",
       " {'object': 'page',\n",
       "  'id': 'b30e1dd1-d3c6-4ce4-8d76-8bde69d3c2a8',\n",
       "  'created_time': '2024-08-12T16:58:00.000Z',\n",
       "  'last_edited_time': '2024-08-12T16:59:00.000Z',\n",
       "  'created_by': {'object': 'user',\n",
       "   'id': '074559e7-8c13-4b7a-899e-4012f06d6320'},\n",
       "  'last_edited_by': {'object': 'user',\n",
       "   'id': '074559e7-8c13-4b7a-899e-4012f06d6320'},\n",
       "  'cover': None,\n",
       "  'icon': None,\n",
       "  'parent': {'type': 'database_id',\n",
       "   'database_id': '1b71653e-3631-48e0-b2ba-399638473ced'},\n",
       "  'archived': False,\n",
       "  'in_trash': False,\n",
       "  'properties': {'Summary': {'id': '?\\\\25',\n",
       "    'type': 'rich_text',\n",
       "    'rich_text': []},\n",
       "   'Total pages': {'id': '\\\\?}w', 'type': 'number', 'number': 208},\n",
       "   'Date started': {'id': 'evL[',\n",
       "    'type': 'date',\n",
       "    'date': {'start': '2022-12-10', 'end': None, 'time_zone': None}},\n",
       "   'Date finished': {'id': 'flfJ',\n",
       "    'type': 'date',\n",
       "    'date': {'start': '2023-01-15', 'end': None, 'time_zone': None}},\n",
       "   'Progress': {'id': 'nviz',\n",
       "    'type': 'formula',\n",
       "    'formula': {'type': 'number', 'number': 0}},\n",
       "   'Author': {'id': 'qNw_',\n",
       "    'type': 'rich_text',\n",
       "    'rich_text': [{'type': 'text',\n",
       "      'text': {'content': 'Dörte Hansen', 'link': None},\n",
       "      'annotations': {'bold': False,\n",
       "       'italic': False,\n",
       "       'strikethrough': False,\n",
       "       'underline': False,\n",
       "       'code': False,\n",
       "       'color': 'default'},\n",
       "      'plain_text': 'Dörte Hansen',\n",
       "      'href': None}]},\n",
       "   'Status': {'id': 'qRc\\\\',\n",
       "    'type': 'status',\n",
       "    'status': {'id': '50d821ad-f638-4b79-970f-11b2ae9f8c78',\n",
       "     'name': 'done',\n",
       "     'color': 'green'}},\n",
       "   'Title': {'id': 'title',\n",
       "    'type': 'title',\n",
       "    'title': [{'type': 'text',\n",
       "      'text': {'content': 'Zur See', 'link': None},\n",
       "      'annotations': {'bold': False,\n",
       "       'italic': False,\n",
       "       'strikethrough': False,\n",
       "       'underline': False,\n",
       "       'code': False,\n",
       "       'color': 'default'},\n",
       "      'plain_text': 'Zur See',\n",
       "      'href': None}]}},\n",
       "  'url': 'https://www.notion.so/Zur-See-b30e1dd1d3c64ce48d768bde69d3c2a8',\n",
       "  'public_url': None},\n",
       " {'object': 'page',\n",
       "  'id': '0338b582-09b4-469e-bf8f-4c8832597783',\n",
       "  'created_time': '2024-08-12T16:58:00.000Z',\n",
       "  'last_edited_time': '2024-08-12T16:59:00.000Z',\n",
       "  'created_by': {'object': 'user',\n",
       "   'id': '074559e7-8c13-4b7a-899e-4012f06d6320'},\n",
       "  'last_edited_by': {'object': 'user',\n",
       "   'id': '074559e7-8c13-4b7a-899e-4012f06d6320'},\n",
       "  'cover': None,\n",
       "  'icon': None,\n",
       "  'parent': {'type': 'database_id',\n",
       "   'database_id': '1b71653e-3631-48e0-b2ba-399638473ced'},\n",
       "  'archived': False,\n",
       "  'in_trash': False,\n",
       "  'properties': {'Summary': {'id': '?\\\\25',\n",
       "    'type': 'rich_text',\n",
       "    'rich_text': []},\n",
       "   'cover': {'id': 'Urz>',\n",
       "    'type': 'url',\n",
       "    'url': 'http://books.google.com/books/content?id=3OTPMeElnW0C&printsec=frontcover&img=1&zoom=1&source=gbs_api'},\n",
       "   'Total pages': {'id': '\\\\?}w', 'type': 'number', 'number': 259},\n",
       "   'Date started': {'id': 'evL[',\n",
       "    'type': 'date',\n",
       "    'date': {'start': '2023-10-21', 'end': None, 'time_zone': None}},\n",
       "   'Date finished': {'id': 'flfJ',\n",
       "    'type': 'date',\n",
       "    'date': {'start': '2024-01-16', 'end': None, 'time_zone': None}},\n",
       "   'Progress': {'id': 'nviz',\n",
       "    'type': 'formula',\n",
       "    'formula': {'type': 'number', 'number': 0}},\n",
       "   'Author': {'id': 'qNw_',\n",
       "    'type': 'rich_text',\n",
       "    'rich_text': [{'type': 'text',\n",
       "      'text': {'content': 'Stephen Hawking', 'link': None},\n",
       "      'annotations': {'bold': False,\n",
       "       'italic': False,\n",
       "       'strikethrough': False,\n",
       "       'underline': False,\n",
       "       'code': False,\n",
       "       'color': 'default'},\n",
       "      'plain_text': 'Stephen Hawking',\n",
       "      'href': None}]},\n",
       "   'Status': {'id': 'qRc\\\\',\n",
       "    'type': 'status',\n",
       "    'status': {'id': '50d821ad-f638-4b79-970f-11b2ae9f8c78',\n",
       "     'name': 'done',\n",
       "     'color': 'green'}},\n",
       "   'Title': {'id': 'title',\n",
       "    'type': 'title',\n",
       "    'title': [{'type': 'text',\n",
       "      'text': {'content': 'The Illustrated A Brief History of Time',\n",
       "       'link': None},\n",
       "      'annotations': {'bold': False,\n",
       "       'italic': False,\n",
       "       'strikethrough': False,\n",
       "       'underline': False,\n",
       "       'code': False,\n",
       "       'color': 'default'},\n",
       "      'plain_text': 'The Illustrated A Brief History of Time',\n",
       "      'href': None}]}},\n",
       "  'url': 'https://www.notion.so/The-Illustrated-A-Brief-History-of-Time-0338b58209b4469ebf8f4c8832597783',\n",
       "  'public_url': None},\n",
       " {'object': 'page',\n",
       "  'id': '06950549-0a67-42d6-84d6-8f8d781723bb',\n",
       "  'created_time': '2024-08-12T16:58:00.000Z',\n",
       "  'last_edited_time': '2024-08-12T16:59:00.000Z',\n",
       "  'created_by': {'object': 'user',\n",
       "   'id': '074559e7-8c13-4b7a-899e-4012f06d6320'},\n",
       "  'last_edited_by': {'object': 'user',\n",
       "   'id': '074559e7-8c13-4b7a-899e-4012f06d6320'},\n",
       "  'cover': None,\n",
       "  'icon': None,\n",
       "  'parent': {'type': 'database_id',\n",
       "   'database_id': '1b71653e-3631-48e0-b2ba-399638473ced'},\n",
       "  'archived': False,\n",
       "  'in_trash': False,\n",
       "  'properties': {'Category': {'id': '/7eo',\n",
       "    'type': 'select',\n",
       "    'select': {'id': 'r\\\\pO', 'name': 'Fiction', 'color': 'default'}},\n",
       "   'Summary': {'id': '?\\\\25', 'type': 'rich_text', 'rich_text': []},\n",
       "   'cover': {'id': 'Urz>',\n",
       "    'type': 'url',\n",
       "    'url': 'http://books.google.com/books/content?id=JQGv8eqVMrMC&printsec=frontcover&img=1&zoom=1&source=gbs_api'},\n",
       "   'Total pages': {'id': '\\\\?}w', 'type': 'number', 'number': 323},\n",
       "   'Date started': {'id': 'evL[',\n",
       "    'type': 'date',\n",
       "    'date': {'start': '2023-02-24', 'end': None, 'time_zone': None}},\n",
       "   'Date finished': {'id': 'flfJ',\n",
       "    'type': 'date',\n",
       "    'date': {'start': '2023-03-24', 'end': None, 'time_zone': None}},\n",
       "   'Progress': {'id': 'nviz',\n",
       "    'type': 'formula',\n",
       "    'formula': {'type': 'number', 'number': 0}},\n",
       "   'Author': {'id': 'qNw_',\n",
       "    'type': 'rich_text',\n",
       "    'rich_text': [{'type': 'text',\n",
       "      'text': {'content': 'Harper Lee', 'link': None},\n",
       "      'annotations': {'bold': False,\n",
       "       'italic': False,\n",
       "       'strikethrough': False,\n",
       "       'underline': False,\n",
       "       'code': False,\n",
       "       'color': 'default'},\n",
       "      'plain_text': 'Harper Lee',\n",
       "      'href': None}]},\n",
       "   'Status': {'id': 'qRc\\\\',\n",
       "    'type': 'status',\n",
       "    'status': {'id': '50d821ad-f638-4b79-970f-11b2ae9f8c78',\n",
       "     'name': 'done',\n",
       "     'color': 'green'}},\n",
       "   'Title': {'id': 'title',\n",
       "    'type': 'title',\n",
       "    'title': [{'type': 'text',\n",
       "      'text': {'content': 'To Kill a Mockingbird', 'link': None},\n",
       "      'annotations': {'bold': False,\n",
       "       'italic': False,\n",
       "       'strikethrough': False,\n",
       "       'underline': False,\n",
       "       'code': False,\n",
       "       'color': 'default'},\n",
       "      'plain_text': 'To Kill a Mockingbird',\n",
       "      'href': None}]}},\n",
       "  'url': 'https://www.notion.so/To-Kill-a-Mockingbird-069505490a6742d684d68f8d781723bb',\n",
       "  'public_url': None},\n",
       " {'object': 'page',\n",
       "  'id': '1210a5c7-fd5a-4d63-8ddb-f75c0a7569b4',\n",
       "  'created_time': '2024-08-12T16:58:00.000Z',\n",
       "  'last_edited_time': '2024-08-12T16:59:00.000Z',\n",
       "  'created_by': {'object': 'user',\n",
       "   'id': '074559e7-8c13-4b7a-899e-4012f06d6320'},\n",
       "  'last_edited_by': {'object': 'user',\n",
       "   'id': '074559e7-8c13-4b7a-899e-4012f06d6320'},\n",
       "  'cover': None,\n",
       "  'icon': None,\n",
       "  'parent': {'type': 'database_id',\n",
       "   'database_id': '1b71653e-3631-48e0-b2ba-399638473ced'},\n",
       "  'archived': False,\n",
       "  'in_trash': False,\n",
       "  'properties': {'Summary': {'id': '?\\\\25',\n",
       "    'type': 'rich_text',\n",
       "    'rich_text': []},\n",
       "   'cover': {'id': 'Urz>',\n",
       "    'type': 'url',\n",
       "    'url': 'http://books.google.com/books/content?id=aFapBAAAQBAJ&printsec=frontcover&img=1&zoom=1&edge=curl&source=gbs_api'},\n",
       "   'Total pages': {'id': '\\\\?}w', 'type': 'number', 'number': 560},\n",
       "   'Date started': {'id': 'evL[',\n",
       "    'type': 'date',\n",
       "    'date': {'start': '2021-11-01', 'end': None, 'time_zone': None}},\n",
       "   'Date finished': {'id': 'flfJ',\n",
       "    'type': 'date',\n",
       "    'date': {'start': '2021-02-15', 'end': None, 'time_zone': None}},\n",
       "   'Progress': {'id': 'nviz',\n",
       "    'type': 'formula',\n",
       "    'formula': {'type': 'number', 'number': 0}},\n",
       "   'Author': {'id': 'qNw_',\n",
       "    'type': 'rich_text',\n",
       "    'rich_text': [{'type': 'text',\n",
       "      'text': {'content': 'Walter Isaacson', 'link': None},\n",
       "      'annotations': {'bold': False,\n",
       "       'italic': False,\n",
       "       'strikethrough': False,\n",
       "       'underline': False,\n",
       "       'code': False,\n",
       "       'color': 'default'},\n",
       "      'plain_text': 'Walter Isaacson',\n",
       "      'href': None}]},\n",
       "   'Status': {'id': 'qRc\\\\',\n",
       "    'type': 'status',\n",
       "    'status': {'id': '50d821ad-f638-4b79-970f-11b2ae9f8c78',\n",
       "     'name': 'done',\n",
       "     'color': 'green'}},\n",
       "   'Title': {'id': 'title',\n",
       "    'type': 'title',\n",
       "    'title': [{'type': 'text',\n",
       "      'text': {'content': 'The Innovators', 'link': None},\n",
       "      'annotations': {'bold': False,\n",
       "       'italic': False,\n",
       "       'strikethrough': False,\n",
       "       'underline': False,\n",
       "       'code': False,\n",
       "       'color': 'default'},\n",
       "      'plain_text': 'The Innovators',\n",
       "      'href': None}]}},\n",
       "  'url': 'https://www.notion.so/The-Innovators-1210a5c7fd5a4d638ddbf75c0a7569b4',\n",
       "  'public_url': None},\n",
       " {'object': 'page',\n",
       "  'id': 'd4c4cd8e-6a3c-4626-9c31-394fe63d31bf',\n",
       "  'created_time': '2024-08-12T16:58:00.000Z',\n",
       "  'last_edited_time': '2024-08-12T16:59:00.000Z',\n",
       "  'created_by': {'object': 'user',\n",
       "   'id': '074559e7-8c13-4b7a-899e-4012f06d6320'},\n",
       "  'last_edited_by': {'object': 'user',\n",
       "   'id': '074559e7-8c13-4b7a-899e-4012f06d6320'},\n",
       "  'cover': None,\n",
       "  'icon': None,\n",
       "  'parent': {'type': 'database_id',\n",
       "   'database_id': '1b71653e-3631-48e0-b2ba-399638473ced'},\n",
       "  'archived': False,\n",
       "  'in_trash': False,\n",
       "  'properties': {'Summary': {'id': '?\\\\25',\n",
       "    'type': 'rich_text',\n",
       "    'rich_text': []},\n",
       "   'cover': {'id': 'Urz>',\n",
       "    'type': 'url',\n",
       "    'url': 'http://books.google.com/books/content?id=f_D3DwAAQBAJ&printsec=frontcover&img=1&zoom=1&edge=curl&source=gbs_api'},\n",
       "   'Total pages': {'id': '\\\\?}w', 'type': 'number', 'number': 560},\n",
       "   'Date started': {'id': 'evL[',\n",
       "    'type': 'date',\n",
       "    'date': {'start': '2023-03-01', 'end': None, 'time_zone': None}},\n",
       "   'Date finished': {'id': 'flfJ',\n",
       "    'type': 'date',\n",
       "    'date': {'start': '2023-04-22', 'end': None, 'time_zone': None}},\n",
       "   'Progress': {'id': 'nviz',\n",
       "    'type': 'formula',\n",
       "    'formula': {'type': 'number', 'number': 0}},\n",
       "   'Author': {'id': 'qNw_',\n",
       "    'type': 'rich_text',\n",
       "    'rich_text': [{'type': 'text',\n",
       "      'text': {'content': 'Walter Isaacson', 'link': None},\n",
       "      'annotations': {'bold': False,\n",
       "       'italic': False,\n",
       "       'strikethrough': False,\n",
       "       'underline': False,\n",
       "       'code': False,\n",
       "       'color': 'default'},\n",
       "      'plain_text': 'Walter Isaacson',\n",
       "      'href': None}]},\n",
       "   'Status': {'id': 'qRc\\\\',\n",
       "    'type': 'status',\n",
       "    'status': {'id': '50d821ad-f638-4b79-970f-11b2ae9f8c78',\n",
       "     'name': 'done',\n",
       "     'color': 'green'}},\n",
       "   'Title': {'id': 'title',\n",
       "    'type': 'title',\n",
       "    'title': [{'type': 'text',\n",
       "      'text': {'content': 'The Code Breaker', 'link': None},\n",
       "      'annotations': {'bold': False,\n",
       "       'italic': False,\n",
       "       'strikethrough': False,\n",
       "       'underline': False,\n",
       "       'code': False,\n",
       "       'color': 'default'},\n",
       "      'plain_text': 'The Code Breaker',\n",
       "      'href': None}]}},\n",
       "  'url': 'https://www.notion.so/The-Code-Breaker-d4c4cd8e6a3c46269c31394fe63d31bf',\n",
       "  'public_url': None},\n",
       " {'object': 'page',\n",
       "  'id': 'c65971da-60ed-4700-bd86-94983c6c0d35',\n",
       "  'created_time': '2024-08-12T16:58:00.000Z',\n",
       "  'last_edited_time': '2024-08-12T17:00:00.000Z',\n",
       "  'created_by': {'object': 'user',\n",
       "   'id': '074559e7-8c13-4b7a-899e-4012f06d6320'},\n",
       "  'last_edited_by': {'object': 'user',\n",
       "   'id': '074559e7-8c13-4b7a-899e-4012f06d6320'},\n",
       "  'cover': None,\n",
       "  'icon': None,\n",
       "  'parent': {'type': 'database_id',\n",
       "   'database_id': '1b71653e-3631-48e0-b2ba-399638473ced'},\n",
       "  'archived': False,\n",
       "  'in_trash': False,\n",
       "  'properties': {'Summary': {'id': '?\\\\25',\n",
       "    'type': 'rich_text',\n",
       "    'rich_text': []},\n",
       "   'cover': {'id': 'Urz>',\n",
       "    'type': 'url',\n",
       "    'url': 'http://books.google.com/books/content?id=q2iYjgEACAAJ&printsec=frontcover&img=1&zoom=1&source=gbs_api'},\n",
       "   'Total pages': {'id': '\\\\?}w', 'type': 'number', 'number': 197},\n",
       "   'Date started': {'id': 'evL[',\n",
       "    'type': 'date',\n",
       "    'date': {'start': '2024-06-07', 'end': None, 'time_zone': None}},\n",
       "   'Progress': {'id': 'nviz',\n",
       "    'type': 'formula',\n",
       "    'formula': {'type': 'number', 'number': 0}},\n",
       "   'Author': {'id': 'qNw_',\n",
       "    'type': 'rich_text',\n",
       "    'rich_text': [{'type': 'text',\n",
       "      'text': {'content': 'Heinz Overschmidt, Ramon Gliewe', 'link': None},\n",
       "      'annotations': {'bold': False,\n",
       "       'italic': False,\n",
       "       'strikethrough': False,\n",
       "       'underline': False,\n",
       "       'code': False,\n",
       "       'color': 'default'},\n",
       "      'plain_text': 'Heinz Overschmidt, Ramon Gliewe',\n",
       "      'href': None}]},\n",
       "   'Status': {'id': 'qRc\\\\',\n",
       "    'type': 'status',\n",
       "    'status': {'id': 'e550e71c-9f29-4310-ade5-42e81eea7e59',\n",
       "     'name': 'in progress',\n",
       "     'color': 'blue'}},\n",
       "   'Title': {'id': 'title',\n",
       "    'type': 'title',\n",
       "    'title': [{'type': 'text',\n",
       "      'text': {'content': 'Sportbootführerschein Binnen Segel/Motor',\n",
       "       'link': None},\n",
       "      'annotations': {'bold': False,\n",
       "       'italic': False,\n",
       "       'strikethrough': False,\n",
       "       'underline': False,\n",
       "       'code': False,\n",
       "       'color': 'default'},\n",
       "      'plain_text': 'Sportbootführerschein Binnen Segel/Motor',\n",
       "      'href': None}]}},\n",
       "  'url': 'https://www.notion.so/Sportbootf-hrerschein-Binnen-Segel-Motor-c65971da60ed4700bd8694983c6c0d35',\n",
       "  'public_url': None},\n",
       " {'object': 'page',\n",
       "  'id': 'bd22c5a3-29a3-458a-98f6-f44abb4bd557',\n",
       "  'created_time': '2024-08-12T16:58:00.000Z',\n",
       "  'last_edited_time': '2024-08-12T16:59:00.000Z',\n",
       "  'created_by': {'object': 'user',\n",
       "   'id': '074559e7-8c13-4b7a-899e-4012f06d6320'},\n",
       "  'last_edited_by': {'object': 'user',\n",
       "   'id': '074559e7-8c13-4b7a-899e-4012f06d6320'},\n",
       "  'cover': None,\n",
       "  'icon': None,\n",
       "  'parent': {'type': 'database_id',\n",
       "   'database_id': '1b71653e-3631-48e0-b2ba-399638473ced'},\n",
       "  'archived': False,\n",
       "  'in_trash': False,\n",
       "  'properties': {'Category': {'id': '/7eo',\n",
       "    'type': 'select',\n",
       "    'select': {'id': 'r\\\\pO', 'name': 'Fiction', 'color': 'default'}},\n",
       "   'Summary': {'id': '?\\\\25', 'type': 'rich_text', 'rich_text': []},\n",
       "   'cover': {'id': 'Urz>',\n",
       "    'type': 'url',\n",
       "    'url': 'http://books.google.com/books/content?id=eldcPgAACAAJ&printsec=frontcover&img=1&zoom=1&source=gbs_api'},\n",
       "   'Total pages': {'id': '\\\\?}w', 'type': 'number', 'number': 313},\n",
       "   'Date started': {'id': 'evL[',\n",
       "    'type': 'date',\n",
       "    'date': {'start': '2023-01-06', 'end': None, 'time_zone': None}},\n",
       "   'Date finished': {'id': 'flfJ',\n",
       "    'type': 'date',\n",
       "    'date': {'start': '2023-02-27', 'end': None, 'time_zone': None}},\n",
       "   'Progress': {'id': 'nviz',\n",
       "    'type': 'formula',\n",
       "    'formula': {'type': 'number', 'number': 0}},\n",
       "   'Author': {'id': 'qNw_',\n",
       "    'type': 'rich_text',\n",
       "    'rich_text': [{'type': 'text',\n",
       "      'text': {'content': 'J. R. R. Tolkien', 'link': None},\n",
       "      'annotations': {'bold': False,\n",
       "       'italic': False,\n",
       "       'strikethrough': False,\n",
       "       'underline': False,\n",
       "       'code': False,\n",
       "       'color': 'default'},\n",
       "      'plain_text': 'J. R. R. Tolkien',\n",
       "      'href': None}]},\n",
       "   'Status': {'id': 'qRc\\\\',\n",
       "    'type': 'status',\n",
       "    'status': {'id': '50d821ad-f638-4b79-970f-11b2ae9f8c78',\n",
       "     'name': 'done',\n",
       "     'color': 'green'}},\n",
       "   'Title': {'id': 'title',\n",
       "    'type': 'title',\n",
       "    'title': [{'type': 'text',\n",
       "      'text': {'content': 'The Children of Hurin', 'link': None},\n",
       "      'annotations': {'bold': False,\n",
       "       'italic': False,\n",
       "       'strikethrough': False,\n",
       "       'underline': False,\n",
       "       'code': False,\n",
       "       'color': 'default'},\n",
       "      'plain_text': 'The Children of Hurin',\n",
       "      'href': None}]}},\n",
       "  'url': 'https://www.notion.so/The-Children-of-Hurin-bd22c5a329a3458a98f6f44abb4bd557',\n",
       "  'public_url': None},\n",
       " {'object': 'page',\n",
       "  'id': '691f6648-bf0b-4abf-a632-c331cdade5c7',\n",
       "  'created_time': '2024-08-12T16:58:00.000Z',\n",
       "  'last_edited_time': '2024-08-12T17:00:00.000Z',\n",
       "  'created_by': {'object': 'user',\n",
       "   'id': '074559e7-8c13-4b7a-899e-4012f06d6320'},\n",
       "  'last_edited_by': {'object': 'user',\n",
       "   'id': '074559e7-8c13-4b7a-899e-4012f06d6320'},\n",
       "  'cover': None,\n",
       "  'icon': None,\n",
       "  'parent': {'type': 'database_id',\n",
       "   'database_id': '1b71653e-3631-48e0-b2ba-399638473ced'},\n",
       "  'archived': False,\n",
       "  'in_trash': False,\n",
       "  'properties': {'Summary': {'id': '?\\\\25',\n",
       "    'type': 'rich_text',\n",
       "    'rich_text': []},\n",
       "   'cover': {'id': 'Urz>',\n",
       "    'type': 'url',\n",
       "    'url': 'http://books.google.com/books/content?id=gWaiCQAAQBAJ&printsec=frontcover&img=1&zoom=1&edge=curl&source=gbs_api'},\n",
       "   'Total pages': {'id': '\\\\?}w', 'type': 'number', 'number': 503},\n",
       "   'Date started': {'id': 'evL[',\n",
       "    'type': 'date',\n",
       "    'date': {'start': '2024-05-07', 'end': None, 'time_zone': None}},\n",
       "   'Progress': {'id': 'nviz',\n",
       "    'type': 'formula',\n",
       "    'formula': {'type': 'number', 'number': 0}},\n",
       "   'Author': {'id': 'qNw_',\n",
       "    'type': 'rich_text',\n",
       "    'rich_text': [{'type': 'text',\n",
       "      'text': {'content': 'Richard David Precht', 'link': None},\n",
       "      'annotations': {'bold': False,\n",
       "       'italic': False,\n",
       "       'strikethrough': False,\n",
       "       'underline': False,\n",
       "       'code': False,\n",
       "       'color': 'default'},\n",
       "      'plain_text': 'Richard David Precht',\n",
       "      'href': None}]},\n",
       "   'Status': {'id': 'qRc\\\\',\n",
       "    'type': 'status',\n",
       "    'status': {'id': 'e550e71c-9f29-4310-ade5-42e81eea7e59',\n",
       "     'name': 'in progress',\n",
       "     'color': 'blue'}},\n",
       "   'Title': {'id': 'title',\n",
       "    'type': 'title',\n",
       "    'title': [{'type': 'text',\n",
       "      'text': {'content': 'Sei du selbst', 'link': None},\n",
       "      'annotations': {'bold': False,\n",
       "       'italic': False,\n",
       "       'strikethrough': False,\n",
       "       'underline': False,\n",
       "       'code': False,\n",
       "       'color': 'default'},\n",
       "      'plain_text': 'Sei du selbst',\n",
       "      'href': None}]}},\n",
       "  'url': 'https://www.notion.so/Sei-du-selbst-691f6648bf0b4abfa632c331cdade5c7',\n",
       "  'public_url': None},\n",
       " {'object': 'page',\n",
       "  'id': '6862ff14-5d35-4d36-9e7f-a126cc67ac50',\n",
       "  'created_time': '2024-08-12T16:58:00.000Z',\n",
       "  'last_edited_time': '2024-08-12T16:59:00.000Z',\n",
       "  'created_by': {'object': 'user',\n",
       "   'id': '074559e7-8c13-4b7a-899e-4012f06d6320'},\n",
       "  'last_edited_by': {'object': 'user',\n",
       "   'id': '074559e7-8c13-4b7a-899e-4012f06d6320'},\n",
       "  'cover': None,\n",
       "  'icon': None,\n",
       "  'parent': {'type': 'database_id',\n",
       "   'database_id': '1b71653e-3631-48e0-b2ba-399638473ced'},\n",
       "  'archived': False,\n",
       "  'in_trash': False,\n",
       "  'properties': {'Category': {'id': '/7eo',\n",
       "    'type': 'select',\n",
       "    'select': {'id': 'r\\\\pO', 'name': 'Fiction', 'color': 'default'}},\n",
       "   'Summary': {'id': '?\\\\25', 'type': 'rich_text', 'rich_text': []},\n",
       "   'cover': {'id': 'Urz>',\n",
       "    'type': 'url',\n",
       "    'url': 'http://books.google.com/books/content?id=a_LnEAAAQBAJ&printsec=frontcover&img=1&zoom=1&edge=curl&source=gbs_api'},\n",
       "   'Total pages': {'id': '\\\\?}w', 'type': 'number', 'number': 320},\n",
       "   'Progress': {'id': 'nviz',\n",
       "    'type': 'formula',\n",
       "    'formula': {'type': 'number', 'number': 0}},\n",
       "   'Author': {'id': 'qNw_',\n",
       "    'type': 'rich_text',\n",
       "    'rich_text': [{'type': 'text',\n",
       "      'text': {'content': 'Suzie Miller', 'link': None},\n",
       "      'annotations': {'bold': False,\n",
       "       'italic': False,\n",
       "       'strikethrough': False,\n",
       "       'underline': False,\n",
       "       'code': False,\n",
       "       'color': 'default'},\n",
       "      'plain_text': 'Suzie Miller',\n",
       "      'href': None}]},\n",
       "   'Status': {'id': 'qRc\\\\',\n",
       "    'type': 'status',\n",
       "    'status': {'id': '50d821ad-f638-4b79-970f-11b2ae9f8c78',\n",
       "     'name': 'done',\n",
       "     'color': 'green'}},\n",
       "   'Title': {'id': 'title',\n",
       "    'type': 'title',\n",
       "    'title': [{'type': 'text',\n",
       "      'text': {'content': 'Prima facie', 'link': None},\n",
       "      'annotations': {'bold': False,\n",
       "       'italic': False,\n",
       "       'strikethrough': False,\n",
       "       'underline': False,\n",
       "       'code': False,\n",
       "       'color': 'default'},\n",
       "      'plain_text': 'Prima facie',\n",
       "      'href': None}]}},\n",
       "  'url': 'https://www.notion.so/Prima-facie-6862ff145d354d369e7fa126cc67ac50',\n",
       "  'public_url': None},\n",
       " {'object': 'page',\n",
       "  'id': '200b9f38-a60e-43e6-b500-702ff6671405',\n",
       "  'created_time': '2024-08-12T16:58:00.000Z',\n",
       "  'last_edited_time': '2024-08-12T16:59:00.000Z',\n",
       "  'created_by': {'object': 'user',\n",
       "   'id': '074559e7-8c13-4b7a-899e-4012f06d6320'},\n",
       "  'last_edited_by': {'object': 'user',\n",
       "   'id': '074559e7-8c13-4b7a-899e-4012f06d6320'},\n",
       "  'cover': None,\n",
       "  'icon': None,\n",
       "  'parent': {'type': 'database_id',\n",
       "   'database_id': '1b71653e-3631-48e0-b2ba-399638473ced'},\n",
       "  'archived': False,\n",
       "  'in_trash': False,\n",
       "  'properties': {'Summary': {'id': '?\\\\25',\n",
       "    'type': 'rich_text',\n",
       "    'rich_text': []},\n",
       "   'cover': {'id': 'Urz>',\n",
       "    'type': 'url',\n",
       "    'url': 'http://books.google.com/books/content?id=g9ARDAAAQBAJ&printsec=frontcover&img=1&zoom=1&edge=curl&source=gbs_api'},\n",
       "   'Total pages': {'id': '\\\\?}w', 'type': 'number', 'number': 772},\n",
       "   'Date started': {'id': 'evL[',\n",
       "    'type': 'date',\n",
       "    'date': {'start': '2023-01-11', 'end': None, 'time_zone': None}},\n",
       "   'Date finished': {'id': 'flfJ',\n",
       "    'type': 'date',\n",
       "    'date': {'start': '2022-07-22', 'end': None, 'time_zone': None}},\n",
       "   'Progress': {'id': 'nviz',\n",
       "    'type': 'formula',\n",
       "    'formula': {'type': 'number', 'number': 0}},\n",
       "   'Author': {'id': 'qNw_',\n",
       "    'type': 'rich_text',\n",
       "    'rich_text': [{'type': 'text',\n",
       "      'text': {'content': 'Mary Beard', 'link': None},\n",
       "      'annotations': {'bold': False,\n",
       "       'italic': False,\n",
       "       'strikethrough': False,\n",
       "       'underline': False,\n",
       "       'code': False,\n",
       "       'color': 'default'},\n",
       "      'plain_text': 'Mary Beard',\n",
       "      'href': None}]},\n",
       "   'Status': {'id': 'qRc\\\\',\n",
       "    'type': 'status',\n",
       "    'status': {'id': '50d821ad-f638-4b79-970f-11b2ae9f8c78',\n",
       "     'name': 'done',\n",
       "     'color': 'green'}},\n",
       "   'Title': {'id': 'title',\n",
       "    'type': 'title',\n",
       "    'title': [{'type': 'text',\n",
       "      'text': {'content': 'SPQR', 'link': None},\n",
       "      'annotations': {'bold': False,\n",
       "       'italic': False,\n",
       "       'strikethrough': False,\n",
       "       'underline': False,\n",
       "       'code': False,\n",
       "       'color': 'default'},\n",
       "      'plain_text': 'SPQR',\n",
       "      'href': None}]}},\n",
       "  'url': 'https://www.notion.so/SPQR-200b9f38a60e43e6b500702ff6671405',\n",
       "  'public_url': None},\n",
       " {'object': 'page',\n",
       "  'id': 'fb2333a6-3cd6-4437-aa5a-41a08ea648d2',\n",
       "  'created_time': '2024-08-12T16:58:00.000Z',\n",
       "  'last_edited_time': '2024-08-12T16:59:00.000Z',\n",
       "  'created_by': {'object': 'user',\n",
       "   'id': '074559e7-8c13-4b7a-899e-4012f06d6320'},\n",
       "  'last_edited_by': {'object': 'user',\n",
       "   'id': '074559e7-8c13-4b7a-899e-4012f06d6320'},\n",
       "  'cover': None,\n",
       "  'icon': None,\n",
       "  'parent': {'type': 'database_id',\n",
       "   'database_id': '1b71653e-3631-48e0-b2ba-399638473ced'},\n",
       "  'archived': False,\n",
       "  'in_trash': False,\n",
       "  'properties': {'Summary': {'id': '?\\\\25',\n",
       "    'type': 'rich_text',\n",
       "    'rich_text': []},\n",
       "   'Total pages': {'id': '\\\\?}w', 'type': 'number', 'number': 550},\n",
       "   'Date started': {'id': 'evL[',\n",
       "    'type': 'date',\n",
       "    'date': {'start': '2021-09-04', 'end': None, 'time_zone': None}},\n",
       "   'Date finished': {'id': 'flfJ',\n",
       "    'type': 'date',\n",
       "    'date': {'start': '2022-02-11', 'end': None, 'time_zone': None}},\n",
       "   'Progress': {'id': 'nviz',\n",
       "    'type': 'formula',\n",
       "    'formula': {'type': 'number', 'number': 0}},\n",
       "   'Author': {'id': 'qNw_',\n",
       "    'type': 'rich_text',\n",
       "    'rich_text': [{'type': 'text',\n",
       "      'text': {'content': 'Jens Jacobsen, Lorena Meyer', 'link': None},\n",
       "      'annotations': {'bold': False,\n",
       "       'italic': False,\n",
       "       'strikethrough': False,\n",
       "       'underline': False,\n",
       "       'code': False,\n",
       "       'color': 'default'},\n",
       "      'plain_text': 'Jens Jacobsen, Lorena Meyer',\n",
       "      'href': None}]},\n",
       "   'Status': {'id': 'qRc\\\\',\n",
       "    'type': 'status',\n",
       "    'status': {'id': '50d821ad-f638-4b79-970f-11b2ae9f8c78',\n",
       "     'name': 'done',\n",
       "     'color': 'green'}},\n",
       "   'Title': {'id': 'title',\n",
       "    'type': 'title',\n",
       "    'title': [{'type': 'text',\n",
       "      'text': {'content': 'Praxisbuch Usability & UX', 'link': None},\n",
       "      'annotations': {'bold': False,\n",
       "       'italic': False,\n",
       "       'strikethrough': False,\n",
       "       'underline': False,\n",
       "       'code': False,\n",
       "       'color': 'default'},\n",
       "      'plain_text': 'Praxisbuch Usability & UX',\n",
       "      'href': None}]}},\n",
       "  'url': 'https://www.notion.so/Praxisbuch-Usability-UX-fb2333a63cd64437aa5a41a08ea648d2',\n",
       "  'public_url': None},\n",
       " {'object': 'page',\n",
       "  'id': 'b527c2a5-9823-4532-a1f8-b0b9dff6e0b8',\n",
       "  'created_time': '2024-08-12T16:58:00.000Z',\n",
       "  'last_edited_time': '2024-08-12T16:59:00.000Z',\n",
       "  'created_by': {'object': 'user',\n",
       "   'id': '074559e7-8c13-4b7a-899e-4012f06d6320'},\n",
       "  'last_edited_by': {'object': 'user',\n",
       "   'id': '074559e7-8c13-4b7a-899e-4012f06d6320'},\n",
       "  'cover': None,\n",
       "  'icon': None,\n",
       "  'parent': {'type': 'database_id',\n",
       "   'database_id': '1b71653e-3631-48e0-b2ba-399638473ced'},\n",
       "  'archived': False,\n",
       "  'in_trash': False,\n",
       "  'properties': {'Category': {'id': '/7eo',\n",
       "    'type': 'select',\n",
       "    'select': {'id': 'r\\\\pO', 'name': 'Fiction', 'color': 'default'}},\n",
       "   'Summary': {'id': '?\\\\25', 'type': 'rich_text', 'rich_text': []},\n",
       "   'cover': {'id': 'Urz>',\n",
       "    'type': 'url',\n",
       "    'url': 'http://books.google.com/books/content?id=p3nADwAAQBAJ&printsec=frontcover&img=1&zoom=1&edge=curl&source=gbs_api'},\n",
       "   'Total pages': {'id': '\\\\?}w', 'type': 'number', 'number': 231},\n",
       "   'Date started': {'id': 'evL[',\n",
       "    'type': 'date',\n",
       "    'date': {'start': '2023-04-09', 'end': None, 'time_zone': None}},\n",
       "   'Date finished': {'id': 'flfJ',\n",
       "    'type': 'date',\n",
       "    'date': {'start': '2023-04-18', 'end': None, 'time_zone': None}},\n",
       "   'Progress': {'id': 'nviz',\n",
       "    'type': 'formula',\n",
       "    'formula': {'type': 'number', 'number': 0}},\n",
       "   'Author': {'id': 'qNw_',\n",
       "    'type': 'rich_text',\n",
       "    'rich_text': [{'type': 'text',\n",
       "      'text': {'content': 'Benjamin Myers', 'link': None},\n",
       "      'annotations': {'bold': False,\n",
       "       'italic': False,\n",
       "       'strikethrough': False,\n",
       "       'underline': False,\n",
       "       'code': False,\n",
       "       'color': 'default'},\n",
       "      'plain_text': 'Benjamin Myers',\n",
       "      'href': None}]},\n",
       "   'Status': {'id': 'qRc\\\\',\n",
       "    'type': 'status',\n",
       "    'status': {'id': '50d821ad-f638-4b79-970f-11b2ae9f8c78',\n",
       "     'name': 'done',\n",
       "     'color': 'green'}},\n",
       "   'Title': {'id': 'title',\n",
       "    'type': 'title',\n",
       "    'title': [{'type': 'text',\n",
       "      'text': {'content': 'Offene See', 'link': None},\n",
       "      'annotations': {'bold': False,\n",
       "       'italic': False,\n",
       "       'strikethrough': False,\n",
       "       'underline': False,\n",
       "       'code': False,\n",
       "       'color': 'default'},\n",
       "      'plain_text': 'Offene See',\n",
       "      'href': None}]}},\n",
       "  'url': 'https://www.notion.so/Offene-See-b527c2a598234532a1f8b0b9dff6e0b8',\n",
       "  'public_url': None},\n",
       " {'object': 'page',\n",
       "  'id': '1384c532-6233-465d-b5da-7858d9bfd934',\n",
       "  'created_time': '2024-08-12T16:58:00.000Z',\n",
       "  'last_edited_time': '2024-08-12T16:59:00.000Z',\n",
       "  'created_by': {'object': 'user',\n",
       "   'id': '074559e7-8c13-4b7a-899e-4012f06d6320'},\n",
       "  'last_edited_by': {'object': 'user',\n",
       "   'id': '074559e7-8c13-4b7a-899e-4012f06d6320'},\n",
       "  'cover': None,\n",
       "  'icon': None,\n",
       "  'parent': {'type': 'database_id',\n",
       "   'database_id': '1b71653e-3631-48e0-b2ba-399638473ced'},\n",
       "  'archived': False,\n",
       "  'in_trash': False,\n",
       "  'properties': {'Category': {'id': '/7eo',\n",
       "    'type': 'select',\n",
       "    'select': {'id': 'r\\\\pO', 'name': 'Fiction', 'color': 'default'}},\n",
       "   'Summary': {'id': '?\\\\25', 'type': 'rich_text', 'rich_text': []},\n",
       "   'cover': {'id': 'Urz>',\n",
       "    'type': 'url',\n",
       "    'url': 'http://books.google.com/books/content?id=T7y6EAAAQBAJ&printsec=frontcover&img=1&zoom=1&edge=curl&source=gbs_api'},\n",
       "   'Total pages': {'id': '\\\\?}w', 'type': 'number', 'number': 349},\n",
       "   'Progress': {'id': 'nviz',\n",
       "    'type': 'formula',\n",
       "    'formula': {'type': 'number', 'number': 0}},\n",
       "   'Author': {'id': 'qNw_',\n",
       "    'type': 'rich_text',\n",
       "    'rich_text': [{'type': 'text',\n",
       "      'text': {'content': 'Benjamin von Stuckrad-Barre', 'link': None},\n",
       "      'annotations': {'bold': False,\n",
       "       'italic': False,\n",
       "       'strikethrough': False,\n",
       "       'underline': False,\n",
       "       'code': False,\n",
       "       'color': 'default'},\n",
       "      'plain_text': 'Benjamin von Stuckrad-Barre',\n",
       "      'href': None}]},\n",
       "   'Status': {'id': 'qRc\\\\',\n",
       "    'type': 'status',\n",
       "    'status': {'id': '50d821ad-f638-4b79-970f-11b2ae9f8c78',\n",
       "     'name': 'done',\n",
       "     'color': 'green'}},\n",
       "   'Title': {'id': 'title',\n",
       "    'type': 'title',\n",
       "    'title': [{'type': 'text',\n",
       "      'text': {'content': 'Noch wach?', 'link': None},\n",
       "      'annotations': {'bold': False,\n",
       "       'italic': False,\n",
       "       'strikethrough': False,\n",
       "       'underline': False,\n",
       "       'code': False,\n",
       "       'color': 'default'},\n",
       "      'plain_text': 'Noch wach?',\n",
       "      'href': None}]}},\n",
       "  'url': 'https://www.notion.so/Noch-wach-1384c5326233465db5da7858d9bfd934',\n",
       "  'public_url': None},\n",
       " {'object': 'page',\n",
       "  'id': '434ce5a8-cda5-4a7a-a022-467683ea765a',\n",
       "  'created_time': '2024-08-12T16:58:00.000Z',\n",
       "  'last_edited_time': '2024-08-12T16:59:00.000Z',\n",
       "  'created_by': {'object': 'user',\n",
       "   'id': '074559e7-8c13-4b7a-899e-4012f06d6320'},\n",
       "  'last_edited_by': {'object': 'user',\n",
       "   'id': '074559e7-8c13-4b7a-899e-4012f06d6320'},\n",
       "  'cover': None,\n",
       "  'icon': None,\n",
       "  'parent': {'type': 'database_id',\n",
       "   'database_id': '1b71653e-3631-48e0-b2ba-399638473ced'},\n",
       "  'archived': False,\n",
       "  'in_trash': False,\n",
       "  'properties': {'Summary': {'id': '?\\\\25',\n",
       "    'type': 'rich_text',\n",
       "    'rich_text': []},\n",
       "   'cover': {'id': 'Urz>',\n",
       "    'type': 'url',\n",
       "    'url': 'http://books.google.com/books/content?id=8wuvDwAAQBAJ&printsec=frontcover&img=1&zoom=1&edge=curl&source=gbs_api'},\n",
       "   'Total pages': {'id': '\\\\?}w', 'type': 'number', 'number': 1466},\n",
       "   'Progress': {'id': 'nviz',\n",
       "    'type': 'formula',\n",
       "    'formula': {'type': 'number', 'number': 0}},\n",
       "   'Author': {'id': 'qNw_',\n",
       "    'type': 'rich_text',\n",
       "    'rich_text': [{'type': 'text',\n",
       "      'text': {'content': 'Paul A. Tipler, Gene Mosca', 'link': None},\n",
       "      'annotations': {'bold': False,\n",
       "       'italic': False,\n",
       "       'strikethrough': False,\n",
       "       'underline': False,\n",
       "       'code': False,\n",
       "       'color': 'default'},\n",
       "      'plain_text': 'Paul A. Tipler, Gene Mosca',\n",
       "      'href': None}]},\n",
       "   'Status': {'id': 'qRc\\\\',\n",
       "    'type': 'status',\n",
       "    'status': {'id': '50d821ad-f638-4b79-970f-11b2ae9f8c78',\n",
       "     'name': 'done',\n",
       "     'color': 'green'}},\n",
       "   'Title': {'id': 'title',\n",
       "    'type': 'title',\n",
       "    'title': [{'type': 'text',\n",
       "      'text': {'content': 'Physik', 'link': None},\n",
       "      'annotations': {'bold': False,\n",
       "       'italic': False,\n",
       "       'strikethrough': False,\n",
       "       'underline': False,\n",
       "       'code': False,\n",
       "       'color': 'default'},\n",
       "      'plain_text': 'Physik',\n",
       "      'href': None}]}},\n",
       "  'url': 'https://www.notion.so/Physik-434ce5a8cda54a7aa022467683ea765a',\n",
       "  'public_url': None},\n",
       " {'object': 'page',\n",
       "  'id': '076afd98-9d85-454e-9a03-573c73020a35',\n",
       "  'created_time': '2024-08-12T16:58:00.000Z',\n",
       "  'last_edited_time': '2024-08-12T16:59:00.000Z',\n",
       "  'created_by': {'object': 'user',\n",
       "   'id': '074559e7-8c13-4b7a-899e-4012f06d6320'},\n",
       "  'last_edited_by': {'object': 'user',\n",
       "   'id': '074559e7-8c13-4b7a-899e-4012f06d6320'},\n",
       "  'cover': None,\n",
       "  'icon': None,\n",
       "  'parent': {'type': 'database_id',\n",
       "   'database_id': '1b71653e-3631-48e0-b2ba-399638473ced'},\n",
       "  'archived': False,\n",
       "  'in_trash': False,\n",
       "  'properties': {'Category': {'id': '/7eo',\n",
       "    'type': 'select',\n",
       "    'select': {'id': 'r\\\\pO', 'name': 'Fiction', 'color': 'default'}},\n",
       "   'Summary': {'id': '?\\\\25', 'type': 'rich_text', 'rich_text': []},\n",
       "   'cover': {'id': 'Urz>',\n",
       "    'type': 'url',\n",
       "    'url': 'http://books.google.com/books/content?id=U7W5wauRc_MC&printsec=frontcover&img=1&zoom=1&edge=curl&source=gbs_api'},\n",
       "   'Total pages': {'id': '\\\\?}w', 'type': 'number', 'number': 630},\n",
       "   'Date started': {'id': 'evL[',\n",
       "    'type': 'date',\n",
       "    'date': {'start': '2022-08-18', 'end': None, 'time_zone': None}},\n",
       "   'Date finished': {'id': 'flfJ',\n",
       "    'type': 'date',\n",
       "    'date': {'start': '2022-10-24', 'end': None, 'time_zone': None}},\n",
       "   'Progress': {'id': 'nviz',\n",
       "    'type': 'formula',\n",
       "    'formula': {'type': 'number', 'number': 0}},\n",
       "   'Author': {'id': 'qNw_',\n",
       "    'type': 'rich_text',\n",
       "    'rich_text': [{'type': 'text',\n",
       "      'text': {'content': 'J.R.R. Tolkien', 'link': None},\n",
       "      'annotations': {'bold': False,\n",
       "       'italic': False,\n",
       "       'strikethrough': False,\n",
       "       'underline': False,\n",
       "       'code': False,\n",
       "       'color': 'default'},\n",
       "      'plain_text': 'J.R.R. Tolkien',\n",
       "      'href': None}]},\n",
       "   'Status': {'id': 'qRc\\\\',\n",
       "    'type': 'status',\n",
       "    'status': {'id': '50d821ad-f638-4b79-970f-11b2ae9f8c78',\n",
       "     'name': 'done',\n",
       "     'color': 'green'}},\n",
       "   'Title': {'id': 'title',\n",
       "    'type': 'title',\n",
       "    'title': [{'type': 'text',\n",
       "      'text': {'content': 'Nachrichten aus Mittelerde', 'link': None},\n",
       "      'annotations': {'bold': False,\n",
       "       'italic': False,\n",
       "       'strikethrough': False,\n",
       "       'underline': False,\n",
       "       'code': False,\n",
       "       'color': 'default'},\n",
       "      'plain_text': 'Nachrichten aus Mittelerde',\n",
       "      'href': None}]}},\n",
       "  'url': 'https://www.notion.so/Nachrichten-aus-Mittelerde-076afd989d85454e9a03573c73020a35',\n",
       "  'public_url': None},\n",
       " {'object': 'page',\n",
       "  'id': '4a63fb96-b9aa-4aba-a50d-b8773715be4b',\n",
       "  'created_time': '2024-08-12T16:58:00.000Z',\n",
       "  'last_edited_time': '2024-08-12T16:59:00.000Z',\n",
       "  'created_by': {'object': 'user',\n",
       "   'id': '074559e7-8c13-4b7a-899e-4012f06d6320'},\n",
       "  'last_edited_by': {'object': 'user',\n",
       "   'id': '074559e7-8c13-4b7a-899e-4012f06d6320'},\n",
       "  'cover': None,\n",
       "  'icon': None,\n",
       "  'parent': {'type': 'database_id',\n",
       "   'database_id': '1b71653e-3631-48e0-b2ba-399638473ced'},\n",
       "  'archived': False,\n",
       "  'in_trash': False,\n",
       "  'properties': {'Summary': {'id': '?\\\\25',\n",
       "    'type': 'rich_text',\n",
       "    'rich_text': []},\n",
       "   'Total pages': {'id': '\\\\?}w', 'type': 'number', 'number': 170},\n",
       "   'Date started': {'id': 'evL[',\n",
       "    'type': 'date',\n",
       "    'date': {'start': '2023-10-21', 'end': None, 'time_zone': None}},\n",
       "   'Date finished': {'id': 'flfJ',\n",
       "    'type': 'date',\n",
       "    'date': {'start': '2024-03-10', 'end': None, 'time_zone': None}},\n",
       "   'Progress': {'id': 'nviz',\n",
       "    'type': 'formula',\n",
       "    'formula': {'type': 'number', 'number': 0}},\n",
       "   'Author': {'id': 'qNw_', 'type': 'rich_text', 'rich_text': []},\n",
       "   'Status': {'id': 'qRc\\\\',\n",
       "    'type': 'status',\n",
       "    'status': {'id': '50d821ad-f638-4b79-970f-11b2ae9f8c78',\n",
       "     'name': 'done',\n",
       "     'color': 'green'}},\n",
       "   'Title': {'id': 'title',\n",
       "    'type': 'title',\n",
       "    'title': [{'type': 'text',\n",
       "      'text': {'content': 'Napoleon und seine Zeit', 'link': None},\n",
       "      'annotations': {'bold': False,\n",
       "       'italic': False,\n",
       "       'strikethrough': False,\n",
       "       'underline': False,\n",
       "       'code': False,\n",
       "       'color': 'default'},\n",
       "      'plain_text': 'Napoleon und seine Zeit',\n",
       "      'href': None}]}},\n",
       "  'url': 'https://www.notion.so/Napoleon-und-seine-Zeit-4a63fb96b9aa4abaa50db8773715be4b',\n",
       "  'public_url': None},\n",
       " {'object': 'page',\n",
       "  'id': '430401c0-9128-4b2e-a7e2-3ddb9c8fd232',\n",
       "  'created_time': '2024-08-12T16:58:00.000Z',\n",
       "  'last_edited_time': '2024-08-12T16:59:00.000Z',\n",
       "  'created_by': {'object': 'user',\n",
       "   'id': '074559e7-8c13-4b7a-899e-4012f06d6320'},\n",
       "  'last_edited_by': {'object': 'user',\n",
       "   'id': '074559e7-8c13-4b7a-899e-4012f06d6320'},\n",
       "  'cover': None,\n",
       "  'icon': None,\n",
       "  'parent': {'type': 'database_id',\n",
       "   'database_id': '1b71653e-3631-48e0-b2ba-399638473ced'},\n",
       "  'archived': False,\n",
       "  'in_trash': False,\n",
       "  'properties': {'Summary': {'id': '?\\\\25',\n",
       "    'type': 'rich_text',\n",
       "    'rich_text': []},\n",
       "   'cover': {'id': 'Urz>',\n",
       "    'type': 'url',\n",
       "    'url': 'http://books.google.com/books/content?id=0E8NogEACAAJ&printsec=frontcover&img=1&zoom=1&source=gbs_api'},\n",
       "   'Total pages': {'id': '\\\\?}w', 'type': 'number', 'number': 308},\n",
       "   'Date started': {'id': 'evL[',\n",
       "    'type': 'date',\n",
       "    'date': {'start': '2023-09-19', 'end': None, 'time_zone': None}},\n",
       "   'Date finished': {'id': 'flfJ',\n",
       "    'type': 'date',\n",
       "    'date': {'start': '2023-10-05', 'end': None, 'time_zone': None}},\n",
       "   'Progress': {'id': 'nviz',\n",
       "    'type': 'formula',\n",
       "    'formula': {'type': 'number', 'number': 0}},\n",
       "   'Author': {'id': 'qNw_',\n",
       "    'type': 'rich_text',\n",
       "    'rich_text': [{'type': 'text',\n",
       "      'text': {'content': 'Martin Suter', 'link': None},\n",
       "      'annotations': {'bold': False,\n",
       "       'italic': False,\n",
       "       'strikethrough': False,\n",
       "       'underline': False,\n",
       "       'code': False,\n",
       "       'color': 'default'},\n",
       "      'plain_text': 'Martin Suter',\n",
       "      'href': None}]},\n",
       "   'Status': {'id': 'qRc\\\\',\n",
       "    'type': 'status',\n",
       "    'status': {'id': '50d821ad-f638-4b79-970f-11b2ae9f8c78',\n",
       "     'name': 'done',\n",
       "     'color': 'green'}},\n",
       "   'Title': {'id': 'title',\n",
       "    'type': 'title',\n",
       "    'title': [{'type': 'text',\n",
       "      'text': {'content': 'Montecristo', 'link': None},\n",
       "      'annotations': {'bold': False,\n",
       "       'italic': False,\n",
       "       'strikethrough': False,\n",
       "       'underline': False,\n",
       "       'code': False,\n",
       "       'color': 'default'},\n",
       "      'plain_text': 'Montecristo',\n",
       "      'href': None}]}},\n",
       "  'url': 'https://www.notion.so/Montecristo-430401c091284b2ea7e23ddb9c8fd232',\n",
       "  'public_url': None},\n",
       " {'object': 'page',\n",
       "  'id': '8c851019-e931-4e8d-a2ea-a36394020818',\n",
       "  'created_time': '2024-08-12T16:58:00.000Z',\n",
       "  'last_edited_time': '2024-08-12T16:59:00.000Z',\n",
       "  'created_by': {'object': 'user',\n",
       "   'id': '074559e7-8c13-4b7a-899e-4012f06d6320'},\n",
       "  'last_edited_by': {'object': 'user',\n",
       "   'id': '074559e7-8c13-4b7a-899e-4012f06d6320'},\n",
       "  'cover': None,\n",
       "  'icon': None,\n",
       "  'parent': {'type': 'database_id',\n",
       "   'database_id': '1b71653e-3631-48e0-b2ba-399638473ced'},\n",
       "  'archived': False,\n",
       "  'in_trash': False,\n",
       "  'properties': {'Summary': {'id': '?\\\\25',\n",
       "    'type': 'rich_text',\n",
       "    'rich_text': []},\n",
       "   'cover': {'id': 'Urz>',\n",
       "    'type': 'url',\n",
       "    'url': 'http://books.google.com/books/content?id=nXsmDQAAQBAJ&printsec=frontcover&img=1&zoom=1&edge=curl&source=gbs_api'},\n",
       "   'Total pages': {'id': '\\\\?}w', 'type': 'number', 'number': 400},\n",
       "   'Date started': {'id': 'evL[',\n",
       "    'type': 'date',\n",
       "    'date': {'start': '2023-02-10', 'end': None, 'time_zone': None}},\n",
       "   'Date finished': {'id': 'flfJ',\n",
       "    'type': 'date',\n",
       "    'date': {'start': '2023-03-01', 'end': None, 'time_zone': None}},\n",
       "   'Progress': {'id': 'nviz',\n",
       "    'type': 'formula',\n",
       "    'formula': {'type': 'number', 'number': 0}},\n",
       "   'Author': {'id': 'qNw_',\n",
       "    'type': 'rich_text',\n",
       "    'rich_text': [{'type': 'text',\n",
       "      'text': {'content': 'Ruth Bader Ginsburg, Mary Hartnett, Wendy W. Williams, Wendy Williams (Writer on law)',\n",
       "       'link': None},\n",
       "      'annotations': {'bold': False,\n",
       "       'italic': False,\n",
       "       'strikethrough': False,\n",
       "       'underline': False,\n",
       "       'code': False,\n",
       "       'color': 'default'},\n",
       "      'plain_text': 'Ruth Bader Ginsburg, Mary Hartnett, Wendy W. Williams, Wendy Williams (Writer on law)',\n",
       "      'href': None}]},\n",
       "   'Status': {'id': 'qRc\\\\',\n",
       "    'type': 'status',\n",
       "    'status': {'id': '50d821ad-f638-4b79-970f-11b2ae9f8c78',\n",
       "     'name': 'done',\n",
       "     'color': 'green'}},\n",
       "   'Title': {'id': 'title',\n",
       "    'type': 'title',\n",
       "    'title': [{'type': 'text',\n",
       "      'text': {'content': 'My Own Words', 'link': None},\n",
       "      'annotations': {'bold': False,\n",
       "       'italic': False,\n",
       "       'strikethrough': False,\n",
       "       'underline': False,\n",
       "       'code': False,\n",
       "       'color': 'default'},\n",
       "      'plain_text': 'My Own Words',\n",
       "      'href': None}]}},\n",
       "  'url': 'https://www.notion.so/My-Own-Words-8c851019e9314e8da2eaa36394020818',\n",
       "  'public_url': None},\n",
       " {'object': 'page',\n",
       "  'id': '41cbd229-7637-42d2-a5f6-22ed9114fceb',\n",
       "  'created_time': '2024-08-12T16:58:00.000Z',\n",
       "  'last_edited_time': '2024-08-12T16:59:00.000Z',\n",
       "  'created_by': {'object': 'user',\n",
       "   'id': '074559e7-8c13-4b7a-899e-4012f06d6320'},\n",
       "  'last_edited_by': {'object': 'user',\n",
       "   'id': '074559e7-8c13-4b7a-899e-4012f06d6320'},\n",
       "  'cover': None,\n",
       "  'icon': None,\n",
       "  'parent': {'type': 'database_id',\n",
       "   'database_id': '1b71653e-3631-48e0-b2ba-399638473ced'},\n",
       "  'archived': False,\n",
       "  'in_trash': False,\n",
       "  'properties': {'Category': {'id': '/7eo',\n",
       "    'type': 'select',\n",
       "    'select': {'id': 'r\\\\pO', 'name': 'Fiction', 'color': 'default'}},\n",
       "   'Summary': {'id': '?\\\\25', 'type': 'rich_text', 'rich_text': []},\n",
       "   'cover': {'id': 'Urz>',\n",
       "    'type': 'url',\n",
       "    'url': 'http://books.google.com/books/content?id=KDd0EAAAQBAJ&printsec=frontcover&img=1&zoom=1&edge=curl&source=gbs_api'},\n",
       "   'Total pages': {'id': '\\\\?}w', 'type': 'number', 'number': 198},\n",
       "   'Date started': {'id': 'evL[',\n",
       "    'type': 'date',\n",
       "    'date': {'start': '2023-04-18', 'end': None, 'time_zone': None}},\n",
       "   'Date finished': {'id': 'flfJ',\n",
       "    'type': 'date',\n",
       "    'date': {'start': '2023-05-02', 'end': None, 'time_zone': None}},\n",
       "   'Progress': {'id': 'nviz',\n",
       "    'type': 'formula',\n",
       "    'formula': {'type': 'number', 'number': 0}},\n",
       "   'Author': {'id': 'qNw_',\n",
       "    'type': 'rich_text',\n",
       "    'rich_text': [{'type': 'text',\n",
       "      'text': {'content': 'Norbert Scheuer', 'link': None},\n",
       "      'annotations': {'bold': False,\n",
       "       'italic': False,\n",
       "       'strikethrough': False,\n",
       "       'underline': False,\n",
       "       'code': False,\n",
       "       'color': 'default'},\n",
       "      'plain_text': 'Norbert Scheuer',\n",
       "      'href': None}]},\n",
       "   'Status': {'id': 'qRc\\\\',\n",
       "    'type': 'status',\n",
       "    'status': {'id': '50d821ad-f638-4b79-970f-11b2ae9f8c78',\n",
       "     'name': 'done',\n",
       "     'color': 'green'}},\n",
       "   'Title': {'id': 'title',\n",
       "    'type': 'title',\n",
       "    'title': [{'type': 'text',\n",
       "      'text': {'content': 'Mutabor', 'link': None},\n",
       "      'annotations': {'bold': False,\n",
       "       'italic': False,\n",
       "       'strikethrough': False,\n",
       "       'underline': False,\n",
       "       'code': False,\n",
       "       'color': 'default'},\n",
       "      'plain_text': 'Mutabor',\n",
       "      'href': None}]}},\n",
       "  'url': 'https://www.notion.so/Mutabor-41cbd229763742d2a5f622ed9114fceb',\n",
       "  'public_url': None},\n",
       " {'object': 'page',\n",
       "  'id': 'efa4fe26-c9de-4f97-8e24-7d0299eb0b7c',\n",
       "  'created_time': '2024-08-12T16:58:00.000Z',\n",
       "  'last_edited_time': '2024-08-12T16:59:00.000Z',\n",
       "  'created_by': {'object': 'user',\n",
       "   'id': '074559e7-8c13-4b7a-899e-4012f06d6320'},\n",
       "  'last_edited_by': {'object': 'user',\n",
       "   'id': '074559e7-8c13-4b7a-899e-4012f06d6320'},\n",
       "  'cover': None,\n",
       "  'icon': None,\n",
       "  'parent': {'type': 'database_id',\n",
       "   'database_id': '1b71653e-3631-48e0-b2ba-399638473ced'},\n",
       "  'archived': False,\n",
       "  'in_trash': False,\n",
       "  'properties': {'Category': {'id': '/7eo',\n",
       "    'type': 'select',\n",
       "    'select': {'id': 'r\\\\pO', 'name': 'Fiction', 'color': 'default'}},\n",
       "   'Summary': {'id': '?\\\\25', 'type': 'rich_text', 'rich_text': []},\n",
       "   'cover': {'id': 'Urz>',\n",
       "    'type': 'url',\n",
       "    'url': 'http://books.google.com/books/content?id=IPQIEAAAQBAJ&printsec=frontcover&img=1&zoom=1&edge=curl&source=gbs_api'},\n",
       "   'Total pages': {'id': '\\\\?}w', 'type': 'number', 'number': 230},\n",
       "   'Date started': {'id': 'evL[',\n",
       "    'type': 'date',\n",
       "    'date': {'start': '2021-06-27', 'end': None, 'time_zone': None}},\n",
       "   'Date finished': {'id': 'flfJ',\n",
       "    'type': 'date',\n",
       "    'date': {'start': '2021-08-25', 'end': None, 'time_zone': None}},\n",
       "   'Progress': {'id': 'nviz',\n",
       "    'type': 'formula',\n",
       "    'formula': {'type': 'number', 'number': 0}},\n",
       "   'Author': {'id': 'qNw_',\n",
       "    'type': 'rich_text',\n",
       "    'rich_text': [{'type': 'text',\n",
       "      'text': {'content': 'Steffen Kopetzky', 'link': None},\n",
       "      'annotations': {'bold': False,\n",
       "       'italic': False,\n",
       "       'strikethrough': False,\n",
       "       'underline': False,\n",
       "       'code': False,\n",
       "       'color': 'default'},\n",
       "      'plain_text': 'Steffen Kopetzky',\n",
       "      'href': None}]},\n",
       "   'Status': {'id': 'qRc\\\\',\n",
       "    'type': 'status',\n",
       "    'status': {'id': '50d821ad-f638-4b79-970f-11b2ae9f8c78',\n",
       "     'name': 'done',\n",
       "     'color': 'green'}},\n",
       "   'Title': {'id': 'title',\n",
       "    'type': 'title',\n",
       "    'title': [{'type': 'text',\n",
       "      'text': {'content': 'Monschau', 'link': None},\n",
       "      'annotations': {'bold': False,\n",
       "       'italic': False,\n",
       "       'strikethrough': False,\n",
       "       'underline': False,\n",
       "       'code': False,\n",
       "       'color': 'default'},\n",
       "      'plain_text': 'Monschau',\n",
       "      'href': None}]}},\n",
       "  'url': 'https://www.notion.so/Monschau-efa4fe26c9de4f978e247d0299eb0b7c',\n",
       "  'public_url': None},\n",
       " {'object': 'page',\n",
       "  'id': '40eed8eb-c27f-4fbf-bf33-ded59574bfd0',\n",
       "  'created_time': '2024-08-12T16:58:00.000Z',\n",
       "  'last_edited_time': '2024-08-12T16:59:00.000Z',\n",
       "  'created_by': {'object': 'user',\n",
       "   'id': '074559e7-8c13-4b7a-899e-4012f06d6320'},\n",
       "  'last_edited_by': {'object': 'user',\n",
       "   'id': '074559e7-8c13-4b7a-899e-4012f06d6320'},\n",
       "  'cover': None,\n",
       "  'icon': None,\n",
       "  'parent': {'type': 'database_id',\n",
       "   'database_id': '1b71653e-3631-48e0-b2ba-399638473ced'},\n",
       "  'archived': False,\n",
       "  'in_trash': False,\n",
       "  'properties': {'Summary': {'id': '?\\\\25',\n",
       "    'type': 'rich_text',\n",
       "    'rich_text': []},\n",
       "   'cover': {'id': 'Urz>',\n",
       "    'type': 'url',\n",
       "    'url': 'http://books.google.com/books/content?id=cijcDwAAQBAJ&printsec=frontcover&img=1&zoom=1&edge=curl&source=gbs_api'},\n",
       "   'Total pages': {'id': '\\\\?}w', 'type': 'number', 'number': 240},\n",
       "   'Date started': {'id': 'evL[',\n",
       "    'type': 'date',\n",
       "    'date': {'start': '2021-10-04', 'end': None, 'time_zone': None}},\n",
       "   'Date finished': {'id': 'flfJ',\n",
       "    'type': 'date',\n",
       "    'date': {'start': '2021-10-07', 'end': None, 'time_zone': None}},\n",
       "   'Progress': {'id': 'nviz',\n",
       "    'type': 'formula',\n",
       "    'formula': {'type': 'number', 'number': 0}},\n",
       "   'Author': {'id': 'qNw_',\n",
       "    'type': 'rich_text',\n",
       "    'rich_text': [{'type': 'text',\n",
       "      'text': {'content': 'Aya Jaff', 'link': None},\n",
       "      'annotations': {'bold': False,\n",
       "       'italic': False,\n",
       "       'strikethrough': False,\n",
       "       'underline': False,\n",
       "       'code': False,\n",
       "       'color': 'default'},\n",
       "      'plain_text': 'Aya Jaff',\n",
       "      'href': None}]},\n",
       "   'Status': {'id': 'qRc\\\\',\n",
       "    'type': 'status',\n",
       "    'status': {'id': '50d821ad-f638-4b79-970f-11b2ae9f8c78',\n",
       "     'name': 'done',\n",
       "     'color': 'green'}},\n",
       "   'Title': {'id': 'title',\n",
       "    'type': 'title',\n",
       "    'title': [{'type': 'text',\n",
       "      'text': {'content': 'MONEYMAKERS', 'link': None},\n",
       "      'annotations': {'bold': False,\n",
       "       'italic': False,\n",
       "       'strikethrough': False,\n",
       "       'underline': False,\n",
       "       'code': False,\n",
       "       'color': 'default'},\n",
       "      'plain_text': 'MONEYMAKERS',\n",
       "      'href': None}]}},\n",
       "  'url': 'https://www.notion.so/MONEYMAKERS-40eed8ebc27f4fbfbf33ded59574bfd0',\n",
       "  'public_url': None},\n",
       " {'object': 'page',\n",
       "  'id': '8418a414-7e26-430b-ae64-b94816298b45',\n",
       "  'created_time': '2024-08-12T16:58:00.000Z',\n",
       "  'last_edited_time': '2024-08-12T16:59:00.000Z',\n",
       "  'created_by': {'object': 'user',\n",
       "   'id': '074559e7-8c13-4b7a-899e-4012f06d6320'},\n",
       "  'last_edited_by': {'object': 'user',\n",
       "   'id': '074559e7-8c13-4b7a-899e-4012f06d6320'},\n",
       "  'cover': None,\n",
       "  'icon': None,\n",
       "  'parent': {'type': 'database_id',\n",
       "   'database_id': '1b71653e-3631-48e0-b2ba-399638473ced'},\n",
       "  'archived': False,\n",
       "  'in_trash': False,\n",
       "  'properties': {'Category': {'id': '/7eo',\n",
       "    'type': 'select',\n",
       "    'select': {'id': 'r\\\\pO', 'name': 'Fiction', 'color': 'default'}},\n",
       "   'Summary': {'id': '?\\\\25', 'type': 'rich_text', 'rich_text': []},\n",
       "   'cover': {'id': 'Urz>',\n",
       "    'type': 'url',\n",
       "    'url': 'http://books.google.com/books/content?id=riFQAgAAQBAJ&printsec=frontcover&img=1&zoom=1&edge=curl&source=gbs_api'},\n",
       "   'Total pages': {'id': '\\\\?}w', 'type': 'number', 'number': 752},\n",
       "   'Date started': {'id': 'evL[',\n",
       "    'type': 'date',\n",
       "    'date': {'start': '2023-06-25', 'end': None, 'time_zone': None}},\n",
       "   'Date finished': {'id': 'flfJ',\n",
       "    'type': 'date',\n",
       "    'date': {'start': '2023-09-18', 'end': None, 'time_zone': None}},\n",
       "   'Progress': {'id': 'nviz',\n",
       "    'type': 'formula',\n",
       "    'formula': {'type': 'number', 'number': 0}},\n",
       "   'Author': {'id': 'qNw_',\n",
       "    'type': 'rich_text',\n",
       "    'rich_text': [{'type': 'text',\n",
       "      'text': {'content': 'Gustave Flaubert', 'link': None},\n",
       "      'annotations': {'bold': False,\n",
       "       'italic': False,\n",
       "       'strikethrough': False,\n",
       "       'underline': False,\n",
       "       'code': False,\n",
       "       'color': 'default'},\n",
       "      'plain_text': 'Gustave Flaubert',\n",
       "      'href': None}]},\n",
       "   'Status': {'id': 'qRc\\\\',\n",
       "    'type': 'status',\n",
       "    'status': {'id': '50d821ad-f638-4b79-970f-11b2ae9f8c78',\n",
       "     'name': 'done',\n",
       "     'color': 'green'}},\n",
       "   'Title': {'id': 'title',\n",
       "    'type': 'title',\n",
       "    'title': [{'type': 'text',\n",
       "      'text': {'content': 'Madame Bovary', 'link': None},\n",
       "      'annotations': {'bold': False,\n",
       "       'italic': False,\n",
       "       'strikethrough': False,\n",
       "       'underline': False,\n",
       "       'code': False,\n",
       "       'color': 'default'},\n",
       "      'plain_text': 'Madame Bovary',\n",
       "      'href': None}]}},\n",
       "  'url': 'https://www.notion.so/Madame-Bovary-8418a4147e26430bae64b94816298b45',\n",
       "  'public_url': None},\n",
       " {'object': 'page',\n",
       "  'id': '4f00a231-1e65-48f9-a7c2-a70f5ab8e134',\n",
       "  'created_time': '2024-08-12T16:58:00.000Z',\n",
       "  'last_edited_time': '2024-08-12T16:59:00.000Z',\n",
       "  'created_by': {'object': 'user',\n",
       "   'id': '074559e7-8c13-4b7a-899e-4012f06d6320'},\n",
       "  'last_edited_by': {'object': 'user',\n",
       "   'id': '074559e7-8c13-4b7a-899e-4012f06d6320'},\n",
       "  'cover': None,\n",
       "  'icon': None,\n",
       "  'parent': {'type': 'database_id',\n",
       "   'database_id': '1b71653e-3631-48e0-b2ba-399638473ced'},\n",
       "  'archived': False,\n",
       "  'in_trash': False,\n",
       "  'properties': {'Summary': {'id': '?\\\\25',\n",
       "    'type': 'rich_text',\n",
       "    'rich_text': []},\n",
       "   'cover': {'id': 'Urz>',\n",
       "    'type': 'url',\n",
       "    'url': 'http://books.google.com/books/content?id=tIm2EAAAQBAJ&printsec=frontcover&img=1&zoom=1&edge=curl&source=gbs_api'},\n",
       "   'Total pages': {'id': '\\\\?}w', 'type': 'number', 'number': 440},\n",
       "   'Date started': {'id': 'evL[',\n",
       "    'type': 'date',\n",
       "    'date': {'start': '2024-03-27', 'end': None, 'time_zone': None}},\n",
       "   'Date finished': {'id': 'flfJ',\n",
       "    'type': 'date',\n",
       "    'date': {'start': '2024-04-25', 'end': None, 'time_zone': None}},\n",
       "   'Progress': {'id': 'nviz',\n",
       "    'type': 'formula',\n",
       "    'formula': {'type': 'number', 'number': 0}},\n",
       "   'Author': {'id': 'qNw_',\n",
       "    'type': 'rich_text',\n",
       "    'rich_text': [{'type': 'text',\n",
       "      'text': {'content': 'Daniel Kehlmann', 'link': None},\n",
       "      'annotations': {'bold': False,\n",
       "       'italic': False,\n",
       "       'strikethrough': False,\n",
       "       'underline': False,\n",
       "       'code': False,\n",
       "       'color': 'default'},\n",
       "      'plain_text': 'Daniel Kehlmann',\n",
       "      'href': None}]},\n",
       "   'Status': {'id': 'qRc\\\\',\n",
       "    'type': 'status',\n",
       "    'status': {'id': '50d821ad-f638-4b79-970f-11b2ae9f8c78',\n",
       "     'name': 'done',\n",
       "     'color': 'green'}},\n",
       "   'Title': {'id': 'title',\n",
       "    'type': 'title',\n",
       "    'title': [{'type': 'text',\n",
       "      'text': {'content': 'Lichtspiel', 'link': None},\n",
       "      'annotations': {'bold': False,\n",
       "       'italic': False,\n",
       "       'strikethrough': False,\n",
       "       'underline': False,\n",
       "       'code': False,\n",
       "       'color': 'default'},\n",
       "      'plain_text': 'Lichtspiel',\n",
       "      'href': None}]}},\n",
       "  'url': 'https://www.notion.so/Lichtspiel-4f00a2311e6548f9a7c2a70f5ab8e134',\n",
       "  'public_url': None},\n",
       " {'object': 'page',\n",
       "  'id': '5a078d0b-2a99-4d3e-bd41-a71b6e82ee7b',\n",
       "  'created_time': '2024-08-12T16:58:00.000Z',\n",
       "  'last_edited_time': '2024-08-12T16:59:00.000Z',\n",
       "  'created_by': {'object': 'user',\n",
       "   'id': '074559e7-8c13-4b7a-899e-4012f06d6320'},\n",
       "  'last_edited_by': {'object': 'user',\n",
       "   'id': '074559e7-8c13-4b7a-899e-4012f06d6320'},\n",
       "  'cover': None,\n",
       "  'icon': None,\n",
       "  'parent': {'type': 'database_id',\n",
       "   'database_id': '1b71653e-3631-48e0-b2ba-399638473ced'},\n",
       "  'archived': False,\n",
       "  'in_trash': False,\n",
       "  'properties': {'Summary': {'id': '?\\\\25',\n",
       "    'type': 'rich_text',\n",
       "    'rich_text': []},\n",
       "   'cover': {'id': 'Urz>',\n",
       "    'type': 'url',\n",
       "    'url': 'http://books.google.com/books/content?id=X8y2EAAAQBAJ&printsec=frontcover&img=1&zoom=1&edge=curl&source=gbs_api'},\n",
       "   'Total pages': {'id': '\\\\?}w', 'type': 'number', 'number': 308},\n",
       "   'Date started': {'id': 'evL[',\n",
       "    'type': 'date',\n",
       "    'date': {'start': '2024-01-03', 'end': None, 'time_zone': None}},\n",
       "   'Date finished': {'id': 'flfJ',\n",
       "    'type': 'date',\n",
       "    'date': {'start': '2024-03-04', 'end': None, 'time_zone': None}},\n",
       "   'Progress': {'id': 'nviz',\n",
       "    'type': 'formula',\n",
       "    'formula': {'type': 'number', 'number': 0}},\n",
       "   'Author': {'id': 'qNw_',\n",
       "    'type': 'rich_text',\n",
       "    'rich_text': [{'type': 'text',\n",
       "      'text': {'content': 'Benjamín Labatut', 'link': None},\n",
       "      'annotations': {'bold': False,\n",
       "       'italic': False,\n",
       "       'strikethrough': False,\n",
       "       'underline': False,\n",
       "       'code': False,\n",
       "       'color': 'default'},\n",
       "      'plain_text': 'Benjamín Labatut',\n",
       "      'href': None}]},\n",
       "   'Status': {'id': 'qRc\\\\',\n",
       "    'type': 'status',\n",
       "    'status': {'id': '50d821ad-f638-4b79-970f-11b2ae9f8c78',\n",
       "     'name': 'done',\n",
       "     'color': 'green'}},\n",
       "   'Title': {'id': 'title',\n",
       "    'type': 'title',\n",
       "    'title': [{'type': 'text',\n",
       "      'text': {'content': 'MANIAC', 'link': None},\n",
       "      'annotations': {'bold': False,\n",
       "       'italic': False,\n",
       "       'strikethrough': False,\n",
       "       'underline': False,\n",
       "       'code': False,\n",
       "       'color': 'default'},\n",
       "      'plain_text': 'MANIAC',\n",
       "      'href': None}]}},\n",
       "  'url': 'https://www.notion.so/MANIAC-5a078d0b2a994d3ebd41a71b6e82ee7b',\n",
       "  'public_url': None},\n",
       " {'object': 'page',\n",
       "  'id': 'cd8b9912-5657-4ce0-8c72-0344096fb2d2',\n",
       "  'created_time': '2024-08-12T16:58:00.000Z',\n",
       "  'last_edited_time': '2024-08-12T16:59:00.000Z',\n",
       "  'created_by': {'object': 'user',\n",
       "   'id': '074559e7-8c13-4b7a-899e-4012f06d6320'},\n",
       "  'last_edited_by': {'object': 'user',\n",
       "   'id': '074559e7-8c13-4b7a-899e-4012f06d6320'},\n",
       "  'cover': None,\n",
       "  'icon': None,\n",
       "  'parent': {'type': 'database_id',\n",
       "   'database_id': '1b71653e-3631-48e0-b2ba-399638473ced'},\n",
       "  'archived': False,\n",
       "  'in_trash': False,\n",
       "  'properties': {'Summary': {'id': '?\\\\25',\n",
       "    'type': 'rich_text',\n",
       "    'rich_text': []},\n",
       "   'cover': {'id': 'Urz>',\n",
       "    'type': 'url',\n",
       "    'url': 'http://books.google.com/books/content?id=ylFaDwAAQBAJ&printsec=frontcover&img=1&zoom=1&edge=curl&source=gbs_api'},\n",
       "   'Total pages': {'id': '\\\\?}w', 'type': 'number', 'number': 739},\n",
       "   'Date started': {'id': 'evL[',\n",
       "    'type': 'date',\n",
       "    'date': {'start': '2022-03-20', 'end': None, 'time_zone': None}},\n",
       "   'Date finished': {'id': 'flfJ',\n",
       "    'type': 'date',\n",
       "    'date': {'start': '2022-07-22', 'end': None, 'time_zone': None}},\n",
       "   'Progress': {'id': 'nviz',\n",
       "    'type': 'formula',\n",
       "    'formula': {'type': 'number', 'number': 0}},\n",
       "   'Author': {'id': 'qNw_',\n",
       "    'type': 'rich_text',\n",
       "    'rich_text': [{'type': 'text',\n",
       "      'text': {'content': 'Walter Isaacson', 'link': None},\n",
       "      'annotations': {'bold': False,\n",
       "       'italic': False,\n",
       "       'strikethrough': False,\n",
       "       'underline': False,\n",
       "       'code': False,\n",
       "       'color': 'default'},\n",
       "      'plain_text': 'Walter Isaacson',\n",
       "      'href': None}]},\n",
       "   'Status': {'id': 'qRc\\\\',\n",
       "    'type': 'status',\n",
       "    'status': {'id': '50d821ad-f638-4b79-970f-11b2ae9f8c78',\n",
       "     'name': 'done',\n",
       "     'color': 'green'}},\n",
       "   'Title': {'id': 'title',\n",
       "    'type': 'title',\n",
       "    'title': [{'type': 'text',\n",
       "      'text': {'content': 'Leonardo da Vinci', 'link': None},\n",
       "      'annotations': {'bold': False,\n",
       "       'italic': False,\n",
       "       'strikethrough': False,\n",
       "       'underline': False,\n",
       "       'code': False,\n",
       "       'color': 'default'},\n",
       "      'plain_text': 'Leonardo da Vinci',\n",
       "      'href': None}]}},\n",
       "  'url': 'https://www.notion.so/Leonardo-da-Vinci-cd8b991256574ce08c720344096fb2d2',\n",
       "  'public_url': None},\n",
       " {'object': 'page',\n",
       "  'id': '39be01c7-b5a2-483e-9c2c-3500073275a1',\n",
       "  'created_time': '2024-08-12T16:58:00.000Z',\n",
       "  'last_edited_time': '2024-08-12T16:59:00.000Z',\n",
       "  'created_by': {'object': 'user',\n",
       "   'id': '074559e7-8c13-4b7a-899e-4012f06d6320'},\n",
       "  'last_edited_by': {'object': 'user',\n",
       "   'id': '074559e7-8c13-4b7a-899e-4012f06d6320'},\n",
       "  'cover': None,\n",
       "  'icon': None,\n",
       "  'parent': {'type': 'database_id',\n",
       "   'database_id': '1b71653e-3631-48e0-b2ba-399638473ced'},\n",
       "  'archived': False,\n",
       "  'in_trash': False,\n",
       "  'properties': {'Summary': {'id': '?\\\\25',\n",
       "    'type': 'rich_text',\n",
       "    'rich_text': []},\n",
       "   'cover': {'id': 'Urz>',\n",
       "    'type': 'url',\n",
       "    'url': 'http://books.google.com/books/content?id=gGBrEAAAQBAJ&printsec=frontcover&img=1&zoom=1&edge=curl&source=gbs_api'},\n",
       "   'Total pages': {'id': '\\\\?}w', 'type': 'number', 'number': 2016},\n",
       "   'Date started': {'id': 'evL[',\n",
       "    'type': 'date',\n",
       "    'date': {'start': '2023-10-21', 'end': None, 'time_zone': None}},\n",
       "   'Date finished': {'id': 'flfJ',\n",
       "    'type': 'date',\n",
       "    'date': {'start': '2024-01-02', 'end': None, 'time_zone': None}},\n",
       "   'Progress': {'id': 'nviz',\n",
       "    'type': 'formula',\n",
       "    'formula': {'type': 'number', 'number': 0}},\n",
       "   'Author': {'id': 'qNw_',\n",
       "    'type': 'rich_text',\n",
       "    'rich_text': [{'type': 'text',\n",
       "      'text': {'content': 'Leo Tolstoi', 'link': None},\n",
       "      'annotations': {'bold': False,\n",
       "       'italic': False,\n",
       "       'strikethrough': False,\n",
       "       'underline': False,\n",
       "       'code': False,\n",
       "       'color': 'default'},\n",
       "      'plain_text': 'Leo Tolstoi',\n",
       "      'href': None}]},\n",
       "   'Status': {'id': 'qRc\\\\',\n",
       "    'type': 'status',\n",
       "    'status': {'id': '50d821ad-f638-4b79-970f-11b2ae9f8c78',\n",
       "     'name': 'done',\n",
       "     'color': 'green'}},\n",
       "   'Title': {'id': 'title',\n",
       "    'type': 'title',\n",
       "    'title': [{'type': 'text',\n",
       "      'text': {'content': 'Krieg und Frieden', 'link': None},\n",
       "      'annotations': {'bold': False,\n",
       "       'italic': False,\n",
       "       'strikethrough': False,\n",
       "       'underline': False,\n",
       "       'code': False,\n",
       "       'color': 'default'},\n",
       "      'plain_text': 'Krieg und Frieden',\n",
       "      'href': None}]}},\n",
       "  'url': 'https://www.notion.so/Krieg-und-Frieden-39be01c7b5a2483e9c2c3500073275a1',\n",
       "  'public_url': None},\n",
       " {'object': 'page',\n",
       "  'id': 'c5791b1d-7f90-4e18-a2f9-cf6014245926',\n",
       "  'created_time': '2024-08-12T16:58:00.000Z',\n",
       "  'last_edited_time': '2024-08-12T16:59:00.000Z',\n",
       "  'created_by': {'object': 'user',\n",
       "   'id': '074559e7-8c13-4b7a-899e-4012f06d6320'},\n",
       "  'last_edited_by': {'object': 'user',\n",
       "   'id': '074559e7-8c13-4b7a-899e-4012f06d6320'},\n",
       "  'cover': None,\n",
       "  'icon': None,\n",
       "  'parent': {'type': 'database_id',\n",
       "   'database_id': '1b71653e-3631-48e0-b2ba-399638473ced'},\n",
       "  'archived': False,\n",
       "  'in_trash': False,\n",
       "  'properties': {'Category': {'id': '/7eo',\n",
       "    'type': 'select',\n",
       "    'select': {'id': 'r\\\\pO', 'name': 'Fiction', 'color': 'default'}},\n",
       "   'Summary': {'id': '?\\\\25', 'type': 'rich_text', 'rich_text': []},\n",
       "   'cover': {'id': 'Urz>',\n",
       "    'type': 'url',\n",
       "    'url': 'http://books.google.com/books/content?id=VZTwDwAAQBAJ&printsec=frontcover&img=1&zoom=1&edge=curl&source=gbs_api'},\n",
       "   'Total pages': {'id': '\\\\?}w', 'type': 'number', 'number': 265},\n",
       "   'Date started': {'id': 'evL[',\n",
       "    'type': 'date',\n",
       "    'date': {'start': '2021-04-28', 'end': None, 'time_zone': None}},\n",
       "   'Date finished': {'id': 'flfJ',\n",
       "    'type': 'date',\n",
       "    'date': {'start': '2021-06-26', 'end': None, 'time_zone': None}},\n",
       "   'Progress': {'id': 'nviz',\n",
       "    'type': 'formula',\n",
       "    'formula': {'type': 'number', 'number': 0}},\n",
       "   'Author': {'id': 'qNw_',\n",
       "    'type': 'rich_text',\n",
       "    'rich_text': [{'type': 'text',\n",
       "      'text': {'content': 'Kazuo Ishiguro', 'link': None},\n",
       "      'annotations': {'bold': False,\n",
       "       'italic': False,\n",
       "       'strikethrough': False,\n",
       "       'underline': False,\n",
       "       'code': False,\n",
       "       'color': 'default'},\n",
       "      'plain_text': 'Kazuo Ishiguro',\n",
       "      'href': None}]},\n",
       "   'Status': {'id': 'qRc\\\\',\n",
       "    'type': 'status',\n",
       "    'status': {'id': '50d821ad-f638-4b79-970f-11b2ae9f8c78',\n",
       "     'name': 'done',\n",
       "     'color': 'green'}},\n",
       "   'Title': {'id': 'title',\n",
       "    'type': 'title',\n",
       "    'title': [{'type': 'text',\n",
       "      'text': {'content': 'Klara und die Sonne', 'link': None},\n",
       "      'annotations': {'bold': False,\n",
       "       'italic': False,\n",
       "       'strikethrough': False,\n",
       "       'underline': False,\n",
       "       'code': False,\n",
       "       'color': 'default'},\n",
       "      'plain_text': 'Klara und die Sonne',\n",
       "      'href': None}]}},\n",
       "  'url': 'https://www.notion.so/Klara-und-die-Sonne-c5791b1d7f904e18a2f9cf6014245926',\n",
       "  'public_url': None},\n",
       " {'object': 'page',\n",
       "  'id': '55070a2f-9600-476c-a1ec-573438d524ed',\n",
       "  'created_time': '2024-08-12T16:58:00.000Z',\n",
       "  'last_edited_time': '2024-08-12T16:59:00.000Z',\n",
       "  'created_by': {'object': 'user',\n",
       "   'id': '074559e7-8c13-4b7a-899e-4012f06d6320'},\n",
       "  'last_edited_by': {'object': 'user',\n",
       "   'id': '074559e7-8c13-4b7a-899e-4012f06d6320'},\n",
       "  'cover': None,\n",
       "  'icon': None,\n",
       "  'parent': {'type': 'database_id',\n",
       "   'database_id': '1b71653e-3631-48e0-b2ba-399638473ced'},\n",
       "  'archived': False,\n",
       "  'in_trash': False,\n",
       "  'properties': {'Summary': {'id': '?\\\\25',\n",
       "    'type': 'rich_text',\n",
       "    'rich_text': []},\n",
       "   'cover': {'id': 'Urz>',\n",
       "    'type': 'url',\n",
       "    'url': 'http://books.google.com/books/content?id=3ZyDEAAAQBAJ&printsec=frontcover&img=1&zoom=1&edge=curl&source=gbs_api'},\n",
       "   'Total pages': {'id': '\\\\?}w', 'type': 'number', 'number': 453},\n",
       "   'Progress': {'id': 'nviz',\n",
       "    'type': 'formula',\n",
       "    'formula': {'type': 'number', 'number': 0}},\n",
       "   'Author': {'id': 'qNw_',\n",
       "    'type': 'rich_text',\n",
       "    'rich_text': [{'type': 'text',\n",
       "      'text': {'content': 'Jonathan Eig', 'link': None},\n",
       "      'annotations': {'bold': False,\n",
       "       'italic': False,\n",
       "       'strikethrough': False,\n",
       "       'underline': False,\n",
       "       'code': False,\n",
       "       'color': 'default'},\n",
       "      'plain_text': 'Jonathan Eig',\n",
       "      'href': None}]},\n",
       "   'Status': {'id': 'qRc\\\\',\n",
       "    'type': 'status',\n",
       "    'status': {'id': '50d821ad-f638-4b79-970f-11b2ae9f8c78',\n",
       "     'name': 'done',\n",
       "     'color': 'green'}},\n",
       "   'Title': {'id': 'title',\n",
       "    'type': 'title',\n",
       "    'title': [{'type': 'text',\n",
       "      'text': {'content': 'King: A Life', 'link': None},\n",
       "      'annotations': {'bold': False,\n",
       "       'italic': False,\n",
       "       'strikethrough': False,\n",
       "       'underline': False,\n",
       "       'code': False,\n",
       "       'color': 'default'},\n",
       "      'plain_text': 'King: A Life',\n",
       "      'href': None}]}},\n",
       "  'url': 'https://www.notion.so/King-A-Life-55070a2f9600476ca1ec573438d524ed',\n",
       "  'public_url': None},\n",
       " {'object': 'page',\n",
       "  'id': '3afc439c-5c1c-42c6-820d-bbe1e3165921',\n",
       "  'created_time': '2024-08-12T16:58:00.000Z',\n",
       "  'last_edited_time': '2024-08-12T16:59:00.000Z',\n",
       "  'created_by': {'object': 'user',\n",
       "   'id': '074559e7-8c13-4b7a-899e-4012f06d6320'},\n",
       "  'last_edited_by': {'object': 'user',\n",
       "   'id': '074559e7-8c13-4b7a-899e-4012f06d6320'},\n",
       "  'cover': None,\n",
       "  'icon': None,\n",
       "  'parent': {'type': 'database_id',\n",
       "   'database_id': '1b71653e-3631-48e0-b2ba-399638473ced'},\n",
       "  'archived': False,\n",
       "  'in_trash': False,\n",
       "  'properties': {'Category': {'id': '/7eo',\n",
       "    'type': 'select',\n",
       "    'select': {'id': 'r\\\\pO', 'name': 'Fiction', 'color': 'default'}},\n",
       "   'Summary': {'id': '?\\\\25', 'type': 'rich_text', 'rich_text': []},\n",
       "   'cover': {'id': 'Urz>',\n",
       "    'type': 'url',\n",
       "    'url': 'http://books.google.com/books/content?id=pxKTDwAAQBAJ&printsec=frontcover&img=1&zoom=1&edge=curl&source=gbs_api'},\n",
       "   'Total pages': {'id': '\\\\?}w', 'type': 'number', 'number': 493},\n",
       "   'Date started': {'id': 'evL[',\n",
       "    'type': 'date',\n",
       "    'date': {'start': '2022-10-24', 'end': None, 'time_zone': None}},\n",
       "   'Date finished': {'id': 'flfJ',\n",
       "    'type': 'date',\n",
       "    'date': {'start': '2023-12-10', 'end': None, 'time_zone': None}},\n",
       "   'Progress': {'id': 'nviz',\n",
       "    'type': 'formula',\n",
       "    'formula': {'type': 'number', 'number': 0}},\n",
       "   'Author': {'id': 'qNw_',\n",
       "    'type': 'rich_text',\n",
       "    'rich_text': [{'type': 'text',\n",
       "      'text': {'content': 'Madeline Miller', 'link': None},\n",
       "      'annotations': {'bold': False,\n",
       "       'italic': False,\n",
       "       'strikethrough': False,\n",
       "       'underline': False,\n",
       "       'code': False,\n",
       "       'color': 'default'},\n",
       "      'plain_text': 'Madeline Miller',\n",
       "      'href': None}]},\n",
       "   'Status': {'id': 'qRc\\\\',\n",
       "    'type': 'status',\n",
       "    'status': {'id': '50d821ad-f638-4b79-970f-11b2ae9f8c78',\n",
       "     'name': 'done',\n",
       "     'color': 'green'}},\n",
       "   'Title': {'id': 'title',\n",
       "    'type': 'title',\n",
       "    'title': [{'type': 'text',\n",
       "      'text': {'content': 'Ich bin Circe', 'link': None},\n",
       "      'annotations': {'bold': False,\n",
       "       'italic': False,\n",
       "       'strikethrough': False,\n",
       "       'underline': False,\n",
       "       'code': False,\n",
       "       'color': 'default'},\n",
       "      'plain_text': 'Ich bin Circe',\n",
       "      'href': None}]}},\n",
       "  'url': 'https://www.notion.so/Ich-bin-Circe-3afc439c5c1c42c6820dbbe1e3165921',\n",
       "  'public_url': None},\n",
       " {'object': 'page',\n",
       "  'id': 'fb6d0d08-9b88-4c70-b1d7-677f72f4e527',\n",
       "  'created_time': '2024-08-12T16:58:00.000Z',\n",
       "  'last_edited_time': '2024-08-12T16:59:00.000Z',\n",
       "  'created_by': {'object': 'user',\n",
       "   'id': '074559e7-8c13-4b7a-899e-4012f06d6320'},\n",
       "  'last_edited_by': {'object': 'user',\n",
       "   'id': '074559e7-8c13-4b7a-899e-4012f06d6320'},\n",
       "  'cover': None,\n",
       "  'icon': None,\n",
       "  'parent': {'type': 'database_id',\n",
       "   'database_id': '1b71653e-3631-48e0-b2ba-399638473ced'},\n",
       "  'archived': False,\n",
       "  'in_trash': False,\n",
       "  'properties': {'Summary': {'id': '?\\\\25',\n",
       "    'type': 'rich_text',\n",
       "    'rich_text': []},\n",
       "   'cover': {'id': 'Urz>',\n",
       "    'type': 'url',\n",
       "    'url': 'http://books.google.com/books/content?id=R7rEDwAAQBAJ&printsec=frontcover&img=1&zoom=1&edge=curl&source=gbs_api'},\n",
       "   'Total pages': {'id': '\\\\?}w', 'type': 'number', 'number': 496},\n",
       "   'Date started': {'id': 'evL[',\n",
       "    'type': 'date',\n",
       "    'date': {'start': '2020-08-01', 'end': None, 'time_zone': None}},\n",
       "   'Date finished': {'id': 'flfJ',\n",
       "    'type': 'date',\n",
       "    'date': {'start': '2020-09-01', 'end': None, 'time_zone': None}},\n",
       "   'Progress': {'id': 'nviz',\n",
       "    'type': 'formula',\n",
       "    'formula': {'type': 'number', 'number': 0}},\n",
       "   'Author': {'id': 'qNw_',\n",
       "    'type': 'rich_text',\n",
       "    'rich_text': [{'type': 'text',\n",
       "      'text': {'content': 'Rutger Bregman', 'link': None},\n",
       "      'annotations': {'bold': False,\n",
       "       'italic': False,\n",
       "       'strikethrough': False,\n",
       "       'underline': False,\n",
       "       'code': False,\n",
       "       'color': 'default'},\n",
       "      'plain_text': 'Rutger Bregman',\n",
       "      'href': None}]},\n",
       "   'Status': {'id': 'qRc\\\\',\n",
       "    'type': 'status',\n",
       "    'status': {'id': '50d821ad-f638-4b79-970f-11b2ae9f8c78',\n",
       "     'name': 'done',\n",
       "     'color': 'green'}},\n",
       "   'Title': {'id': 'title',\n",
       "    'type': 'title',\n",
       "    'title': [{'type': 'text',\n",
       "      'text': {'content': 'Humankind', 'link': None},\n",
       "      'annotations': {'bold': False,\n",
       "       'italic': False,\n",
       "       'strikethrough': False,\n",
       "       'underline': False,\n",
       "       'code': False,\n",
       "       'color': 'default'},\n",
       "      'plain_text': 'Humankind',\n",
       "      'href': None}]}},\n",
       "  'url': 'https://www.notion.so/Humankind-fb6d0d089b884c70b1d7677f72f4e527',\n",
       "  'public_url': None},\n",
       " {'object': 'page',\n",
       "  'id': '7c105582-e6ae-43dd-ae3b-842c2599461c',\n",
       "  'created_time': '2024-08-12T16:58:00.000Z',\n",
       "  'last_edited_time': '2024-08-12T16:59:00.000Z',\n",
       "  'created_by': {'object': 'user',\n",
       "   'id': '074559e7-8c13-4b7a-899e-4012f06d6320'},\n",
       "  'last_edited_by': {'object': 'user',\n",
       "   'id': '074559e7-8c13-4b7a-899e-4012f06d6320'},\n",
       "  'cover': None,\n",
       "  'icon': None,\n",
       "  'parent': {'type': 'database_id',\n",
       "   'database_id': '1b71653e-3631-48e0-b2ba-399638473ced'},\n",
       "  'archived': False,\n",
       "  'in_trash': False,\n",
       "  'properties': {'Summary': {'id': '?\\\\25',\n",
       "    'type': 'rich_text',\n",
       "    'rich_text': []},\n",
       "   'cover': {'id': 'Urz>',\n",
       "    'type': 'url',\n",
       "    'url': 'http://books.google.com/books/content?id=B6MfSQAACAAJ&printsec=frontcover&img=1&zoom=1&source=gbs_api'},\n",
       "   'Total pages': {'id': '\\\\?}w', 'type': 'number', 'number': 672},\n",
       "   'Date started': {'id': 'evL[',\n",
       "    'type': 'date',\n",
       "    'date': {'start': '2023-12-18', 'end': None, 'time_zone': None}},\n",
       "   'Date finished': {'id': 'flfJ',\n",
       "    'type': 'date',\n",
       "    'date': {'start': '2024-03-10', 'end': None, 'time_zone': None}},\n",
       "   'Progress': {'id': 'nviz',\n",
       "    'type': 'formula',\n",
       "    'formula': {'type': 'number', 'number': 0}},\n",
       "   'Author': {'id': 'qNw_',\n",
       "    'type': 'rich_text',\n",
       "    'rich_text': [{'type': 'text',\n",
       "      'text': {'content': 'Kai Bird, Martin J. Sherwin', 'link': None},\n",
       "      'annotations': {'bold': False,\n",
       "       'italic': False,\n",
       "       'strikethrough': False,\n",
       "       'underline': False,\n",
       "       'code': False,\n",
       "       'color': 'default'},\n",
       "      'plain_text': 'Kai Bird, Martin J. Sherwin',\n",
       "      'href': None}]},\n",
       "   'Status': {'id': 'qRc\\\\',\n",
       "    'type': 'status',\n",
       "    'status': {'id': '50d821ad-f638-4b79-970f-11b2ae9f8c78',\n",
       "     'name': 'done',\n",
       "     'color': 'green'}},\n",
       "   'Title': {'id': 'title',\n",
       "    'type': 'title',\n",
       "    'title': [{'type': 'text',\n",
       "      'text': {'content': 'J. Robert Oppenheimer', 'link': None},\n",
       "      'annotations': {'bold': False,\n",
       "       'italic': False,\n",
       "       'strikethrough': False,\n",
       "       'underline': False,\n",
       "       'code': False,\n",
       "       'color': 'default'},\n",
       "      'plain_text': 'J. Robert Oppenheimer',\n",
       "      'href': None}]}},\n",
       "  'url': 'https://www.notion.so/J-Robert-Oppenheimer-7c105582e6ae43ddae3b842c2599461c',\n",
       "  'public_url': None},\n",
       " {'object': 'page',\n",
       "  'id': 'f623a0ee-01a7-40df-b87f-c8dc57c311e9',\n",
       "  'created_time': '2024-08-12T16:58:00.000Z',\n",
       "  'last_edited_time': '2024-08-12T16:59:00.000Z',\n",
       "  'created_by': {'object': 'user',\n",
       "   'id': '074559e7-8c13-4b7a-899e-4012f06d6320'},\n",
       "  'last_edited_by': {'object': 'user',\n",
       "   'id': '074559e7-8c13-4b7a-899e-4012f06d6320'},\n",
       "  'cover': None,\n",
       "  'icon': None,\n",
       "  'parent': {'type': 'database_id',\n",
       "   'database_id': '1b71653e-3631-48e0-b2ba-399638473ced'},\n",
       "  'archived': False,\n",
       "  'in_trash': False,\n",
       "  'properties': {'Summary': {'id': '?\\\\25',\n",
       "    'type': 'rich_text',\n",
       "    'rich_text': []},\n",
       "   'cover': {'id': 'Urz>',\n",
       "    'type': 'url',\n",
       "    'url': 'http://books.google.com/books/content?id=pHK0DwAAQBAJ&printsec=frontcover&img=1&zoom=1&edge=curl&source=gbs_api'},\n",
       "   'Total pages': {'id': '\\\\?}w', 'type': 'number', 'number': 201},\n",
       "   'Date started': {'id': 'evL[',\n",
       "    'type': 'date',\n",
       "    'date': {'start': '2021-10-01', 'end': None, 'time_zone': None}},\n",
       "   'Date finished': {'id': 'flfJ',\n",
       "    'type': 'date',\n",
       "    'date': {'start': '2021-10-03', 'end': None, 'time_zone': None}},\n",
       "   'Progress': {'id': 'nviz',\n",
       "    'type': 'formula',\n",
       "    'formula': {'type': 'number', 'number': 0}},\n",
       "   'Author': {'id': 'qNw_',\n",
       "    'type': 'rich_text',\n",
       "    'rich_text': [{'type': 'text',\n",
       "      'text': {'content': 'Bill Gates', 'link': None},\n",
       "      'annotations': {'bold': False,\n",
       "       'italic': False,\n",
       "       'strikethrough': False,\n",
       "       'underline': False,\n",
       "       'code': False,\n",
       "       'color': 'default'},\n",
       "      'plain_text': 'Bill Gates',\n",
       "      'href': None}]},\n",
       "   'Status': {'id': 'qRc\\\\',\n",
       "    'type': 'status',\n",
       "    'status': {'id': '50d821ad-f638-4b79-970f-11b2ae9f8c78',\n",
       "     'name': 'done',\n",
       "     'color': 'green'}},\n",
       "   'Title': {'id': 'title',\n",
       "    'type': 'title',\n",
       "    'title': [{'type': 'text',\n",
       "      'text': {'content': 'How to Avoid a Climate Disaster', 'link': None},\n",
       "      'annotations': {'bold': False,\n",
       "       'italic': False,\n",
       "       'strikethrough': False,\n",
       "       'underline': False,\n",
       "       'code': False,\n",
       "       'color': 'default'},\n",
       "      'plain_text': 'How to Avoid a Climate Disaster',\n",
       "      'href': None}]}},\n",
       "  'url': 'https://www.notion.so/How-to-Avoid-a-Climate-Disaster-f623a0ee01a740dfb87fc8dc57c311e9',\n",
       "  'public_url': None},\n",
       " {'object': 'page',\n",
       "  'id': '2ef6239d-364c-4e58-bdd9-d898412a8303',\n",
       "  'created_time': '2024-08-12T16:58:00.000Z',\n",
       "  'last_edited_time': '2024-08-12T16:59:00.000Z',\n",
       "  'created_by': {'object': 'user',\n",
       "   'id': '074559e7-8c13-4b7a-899e-4012f06d6320'},\n",
       "  'last_edited_by': {'object': 'user',\n",
       "   'id': '074559e7-8c13-4b7a-899e-4012f06d6320'},\n",
       "  'cover': None,\n",
       "  'icon': None,\n",
       "  'parent': {'type': 'database_id',\n",
       "   'database_id': '1b71653e-3631-48e0-b2ba-399638473ced'},\n",
       "  'archived': False,\n",
       "  'in_trash': False,\n",
       "  'properties': {'Summary': {'id': '?\\\\25',\n",
       "    'type': 'rich_text',\n",
       "    'rich_text': []},\n",
       "   'cover': {'id': 'Urz>',\n",
       "    'type': 'url',\n",
       "    'url': 'http://books.google.com/books/content?id=iF3ODgAAQBAJ&printsec=frontcover&img=1&zoom=1&edge=curl&source=gbs_api'},\n",
       "   'Total pages': {'id': '\\\\?}w', 'type': 'number', 'number': 322},\n",
       "   'Date started': {'id': 'evL[',\n",
       "    'type': 'date',\n",
       "    'date': {'start': '2020-12-25', 'end': None, 'time_zone': None}},\n",
       "   'Date finished': {'id': 'flfJ',\n",
       "    'type': 'date',\n",
       "    'date': {'start': '2021-02-27', 'end': None, 'time_zone': None}},\n",
       "   'Progress': {'id': 'nviz',\n",
       "    'type': 'formula',\n",
       "    'formula': {'type': 'number', 'number': 0}},\n",
       "   'Author': {'id': 'qNw_',\n",
       "    'type': 'rich_text',\n",
       "    'rich_text': [{'type': 'text',\n",
       "      'text': {'content': 'Steven Levitsky, Daniel Ziblatt', 'link': None},\n",
       "      'annotations': {'bold': False,\n",
       "       'italic': False,\n",
       "       'strikethrough': False,\n",
       "       'underline': False,\n",
       "       'code': False,\n",
       "       'color': 'default'},\n",
       "      'plain_text': 'Steven Levitsky, Daniel Ziblatt',\n",
       "      'href': None}]},\n",
       "   'Status': {'id': 'qRc\\\\',\n",
       "    'type': 'status',\n",
       "    'status': {'id': '50d821ad-f638-4b79-970f-11b2ae9f8c78',\n",
       "     'name': 'done',\n",
       "     'color': 'green'}},\n",
       "   'Title': {'id': 'title',\n",
       "    'type': 'title',\n",
       "    'title': [{'type': 'text',\n",
       "      'text': {'content': 'How Democracies Die', 'link': None},\n",
       "      'annotations': {'bold': False,\n",
       "       'italic': False,\n",
       "       'strikethrough': False,\n",
       "       'underline': False,\n",
       "       'code': False,\n",
       "       'color': 'default'},\n",
       "      'plain_text': 'How Democracies Die',\n",
       "      'href': None}]}},\n",
       "  'url': 'https://www.notion.so/How-Democracies-Die-2ef6239d364c4e58bdd9d898412a8303',\n",
       "  'public_url': None},\n",
       " {'object': 'page',\n",
       "  'id': '4d59b334-7a59-4d6b-807e-bd65bad128b3',\n",
       "  'created_time': '2024-08-12T16:58:00.000Z',\n",
       "  'last_edited_time': '2024-08-12T16:59:00.000Z',\n",
       "  'created_by': {'object': 'user',\n",
       "   'id': '074559e7-8c13-4b7a-899e-4012f06d6320'},\n",
       "  'last_edited_by': {'object': 'user',\n",
       "   'id': '074559e7-8c13-4b7a-899e-4012f06d6320'},\n",
       "  'cover': None,\n",
       "  'icon': None,\n",
       "  'parent': {'type': 'database_id',\n",
       "   'database_id': '1b71653e-3631-48e0-b2ba-399638473ced'},\n",
       "  'archived': False,\n",
       "  'in_trash': False,\n",
       "  'properties': {'Summary': {'id': '?\\\\25',\n",
       "    'type': 'rich_text',\n",
       "    'rich_text': []},\n",
       "   'cover': {'id': 'Urz>',\n",
       "    'type': 'url',\n",
       "    'url': 'http://books.google.com/books/content?id=sFpiAAAAMAAJ&printsec=frontcover&img=1&zoom=1&source=gbs_api'},\n",
       "   'Total pages': {'id': '\\\\?}w', 'type': 'number', 'number': 300},\n",
       "   'Date started': {'id': 'evL[',\n",
       "    'type': 'date',\n",
       "    'date': {'start': '2024-04-13', 'end': None, 'time_zone': None}},\n",
       "   'Progress': {'id': 'nviz',\n",
       "    'type': 'formula',\n",
       "    'formula': {'type': 'number', 'number': 0}},\n",
       "   'Author': {'id': 'qNw_',\n",
       "    'type': 'rich_text',\n",
       "    'rich_text': [{'type': 'text',\n",
       "      'text': {'content': 'Gustav Adolf Seeck', 'link': None},\n",
       "      'annotations': {'bold': False,\n",
       "       'italic': False,\n",
       "       'strikethrough': False,\n",
       "       'underline': False,\n",
       "       'code': False,\n",
       "       'color': 'default'},\n",
       "      'plain_text': 'Gustav Adolf Seeck',\n",
       "      'href': None}]},\n",
       "   'Status': {'id': 'qRc\\\\',\n",
       "    'type': 'status',\n",
       "    'status': {'id': '50d821ad-f638-4b79-970f-11b2ae9f8c78',\n",
       "     'name': 'done',\n",
       "     'color': 'green'}},\n",
       "   'Title': {'id': 'title',\n",
       "    'type': 'title',\n",
       "    'title': [{'type': 'text',\n",
       "      'text': {'content': 'Homer', 'link': None},\n",
       "      'annotations': {'bold': False,\n",
       "       'italic': False,\n",
       "       'strikethrough': False,\n",
       "       'underline': False,\n",
       "       'code': False,\n",
       "       'color': 'default'},\n",
       "      'plain_text': 'Homer',\n",
       "      'href': None}]}},\n",
       "  'url': 'https://www.notion.so/Homer-4d59b3347a594d6b807ebd65bad128b3',\n",
       "  'public_url': None},\n",
       " {'object': 'page',\n",
       "  'id': '007833c6-26d1-4e05-abc5-2673b4055e15',\n",
       "  'created_time': '2024-08-12T16:58:00.000Z',\n",
       "  'last_edited_time': '2024-08-12T16:59:00.000Z',\n",
       "  'created_by': {'object': 'user',\n",
       "   'id': '074559e7-8c13-4b7a-899e-4012f06d6320'},\n",
       "  'last_edited_by': {'object': 'user',\n",
       "   'id': '074559e7-8c13-4b7a-899e-4012f06d6320'},\n",
       "  'cover': None,\n",
       "  'icon': None,\n",
       "  'parent': {'type': 'database_id',\n",
       "   'database_id': '1b71653e-3631-48e0-b2ba-399638473ced'},\n",
       "  'archived': False,\n",
       "  'in_trash': False,\n",
       "  'properties': {'Category': {'id': '/7eo',\n",
       "    'type': 'select',\n",
       "    'select': {'id': 'r\\\\pO', 'name': 'Fiction', 'color': 'default'}},\n",
       "   'Summary': {'id': '?\\\\25', 'type': 'rich_text', 'rich_text': []},\n",
       "   'cover': {'id': 'Urz>',\n",
       "    'type': 'url',\n",
       "    'url': 'http://books.google.com/books/content?id=cB_iDwAAQBAJ&printsec=frontcover&img=1&zoom=1&edge=curl&source=gbs_api'},\n",
       "   'Total pages': {'id': '\\\\?}w', 'type': 'number', 'number': 295},\n",
       "   'Date started': {'id': 'evL[',\n",
       "    'type': 'date',\n",
       "    'date': {'start': '2021-09-04', 'end': None, 'time_zone': None}},\n",
       "   'Date finished': {'id': 'flfJ',\n",
       "    'type': 'date',\n",
       "    'date': {'start': '2021-11-01', 'end': None, 'time_zone': None}},\n",
       "   'Progress': {'id': 'nviz',\n",
       "    'type': 'formula',\n",
       "    'formula': {'type': 'number', 'number': 0}},\n",
       "   'Author': {'id': 'qNw_',\n",
       "    'type': 'rich_text',\n",
       "    'rich_text': [{'type': 'text',\n",
       "      'text': {'content': 'Joachim Meyerhoff', 'link': None},\n",
       "      'annotations': {'bold': False,\n",
       "       'italic': False,\n",
       "       'strikethrough': False,\n",
       "       'underline': False,\n",
       "       'code': False,\n",
       "       'color': 'default'},\n",
       "      'plain_text': 'Joachim Meyerhoff',\n",
       "      'href': None}]},\n",
       "   'Status': {'id': 'qRc\\\\',\n",
       "    'type': 'status',\n",
       "    'status': {'id': '50d821ad-f638-4b79-970f-11b2ae9f8c78',\n",
       "     'name': 'done',\n",
       "     'color': 'green'}},\n",
       "   'Title': {'id': 'title',\n",
       "    'type': 'title',\n",
       "    'title': [{'type': 'text',\n",
       "      'text': {'content': 'Hamster im hinteren Stromgebiet', 'link': None},\n",
       "      'annotations': {'bold': False,\n",
       "       'italic': False,\n",
       "       'strikethrough': False,\n",
       "       'underline': False,\n",
       "       'code': False,\n",
       "       'color': 'default'},\n",
       "      'plain_text': 'Hamster im hinteren Stromgebiet',\n",
       "      'href': None}]}},\n",
       "  'url': 'https://www.notion.so/Hamster-im-hinteren-Stromgebiet-007833c626d14e05abc52673b4055e15',\n",
       "  'public_url': None},\n",
       " {'object': 'page',\n",
       "  'id': '31d196a9-ae75-45c1-a28a-78a8100c5990',\n",
       "  'created_time': '2024-08-12T16:58:00.000Z',\n",
       "  'last_edited_time': '2024-08-12T16:59:00.000Z',\n",
       "  'created_by': {'object': 'user',\n",
       "   'id': '074559e7-8c13-4b7a-899e-4012f06d6320'},\n",
       "  'last_edited_by': {'object': 'user',\n",
       "   'id': '074559e7-8c13-4b7a-899e-4012f06d6320'},\n",
       "  'cover': None,\n",
       "  'icon': None,\n",
       "  'parent': {'type': 'database_id',\n",
       "   'database_id': '1b71653e-3631-48e0-b2ba-399638473ced'},\n",
       "  'archived': False,\n",
       "  'in_trash': False,\n",
       "  'properties': {'Summary': {'id': '?\\\\25',\n",
       "    'type': 'rich_text',\n",
       "    'rich_text': []},\n",
       "   'cover': {'id': 'Urz>',\n",
       "    'type': 'url',\n",
       "    'url': 'http://books.google.com/books/content?id=RsDcDwAAQBAJ&printsec=frontcover&img=1&zoom=1&edge=curl&source=gbs_api'},\n",
       "   'Total pages': {'id': '\\\\?}w', 'type': 'number', 'number': 449},\n",
       "   'Date started': {'id': 'evL[',\n",
       "    'type': 'date',\n",
       "    'date': {'start': '2024-04-07', 'end': None, 'time_zone': None}},\n",
       "   'Date finished': {'id': 'flfJ',\n",
       "    'type': 'date',\n",
       "    'date': {'start': '2024-05-07', 'end': None, 'time_zone': None}},\n",
       "   'Progress': {'id': 'nviz',\n",
       "    'type': 'formula',\n",
       "    'formula': {'type': 'number', 'number': 0}},\n",
       "   'Author': {'id': 'qNw_',\n",
       "    'type': 'rich_text',\n",
       "    'rich_text': [{'type': 'text',\n",
       "      'text': {'content': 'Stephen Fry', 'link': None},\n",
       "      'annotations': {'bold': False,\n",
       "       'italic': False,\n",
       "       'strikethrough': False,\n",
       "       'underline': False,\n",
       "       'code': False,\n",
       "       'color': 'default'},\n",
       "      'plain_text': 'Stephen Fry',\n",
       "      'href': None}]},\n",
       "   'Status': {'id': 'qRc\\\\',\n",
       "    'type': 'status',\n",
       "    'status': {'id': '50d821ad-f638-4b79-970f-11b2ae9f8c78',\n",
       "     'name': 'done',\n",
       "     'color': 'green'}},\n",
       "   'Title': {'id': 'title',\n",
       "    'type': 'title',\n",
       "    'title': [{'type': 'text',\n",
       "      'text': {'content': 'Helden', 'link': None},\n",
       "      'annotations': {'bold': False,\n",
       "       'italic': False,\n",
       "       'strikethrough': False,\n",
       "       'underline': False,\n",
       "       'code': False,\n",
       "       'color': 'default'},\n",
       "      'plain_text': 'Helden',\n",
       "      'href': None}]}},\n",
       "  'url': 'https://www.notion.so/Helden-31d196a9ae7545c1a28a78a8100c5990',\n",
       "  'public_url': None},\n",
       " {'object': 'page',\n",
       "  'id': '9362e2db-5eda-46dd-b255-ec3608ac8494',\n",
       "  'created_time': '2024-08-12T16:58:00.000Z',\n",
       "  'last_edited_time': '2024-08-12T16:59:00.000Z',\n",
       "  'created_by': {'object': 'user',\n",
       "   'id': '074559e7-8c13-4b7a-899e-4012f06d6320'},\n",
       "  'last_edited_by': {'object': 'user',\n",
       "   'id': '074559e7-8c13-4b7a-899e-4012f06d6320'},\n",
       "  'cover': None,\n",
       "  'icon': None,\n",
       "  'parent': {'type': 'database_id',\n",
       "   'database_id': '1b71653e-3631-48e0-b2ba-399638473ced'},\n",
       "  'archived': False,\n",
       "  'in_trash': False,\n",
       "  'properties': {'Category': {'id': '/7eo',\n",
       "    'type': 'select',\n",
       "    'select': {'id': 'r\\\\pO', 'name': 'Fiction', 'color': 'default'}},\n",
       "   'Summary': {'id': '?\\\\25', 'type': 'rich_text', 'rich_text': []},\n",
       "   'cover': {'id': 'Urz>',\n",
       "    'type': 'url',\n",
       "    'url': 'http://books.google.com/books/content?id=-5grEAAAQBAJ&printsec=frontcover&img=1&zoom=1&edge=curl&source=gbs_api'},\n",
       "   'Total pages': {'id': '\\\\?}w', 'type': 'number', 'number': 329},\n",
       "   'Date started': {'id': 'evL[',\n",
       "    'type': 'date',\n",
       "    'date': {'start': '2023-01-16', 'end': None, 'time_zone': None}},\n",
       "   'Date finished': {'id': 'flfJ',\n",
       "    'type': 'date',\n",
       "    'date': {'start': '2023-02-23', 'end': None, 'time_zone': None}},\n",
       "   'Progress': {'id': 'nviz',\n",
       "    'type': 'formula',\n",
       "    'formula': {'type': 'number', 'number': 0}},\n",
       "   'Author': {'id': 'qNw_',\n",
       "    'type': 'rich_text',\n",
       "    'rich_text': [{'type': 'text',\n",
       "      'text': {'content': 'Edgar Selge', 'link': None},\n",
       "      'annotations': {'bold': False,\n",
       "       'italic': False,\n",
       "       'strikethrough': False,\n",
       "       'underline': False,\n",
       "       'code': False,\n",
       "       'color': 'default'},\n",
       "      'plain_text': 'Edgar Selge',\n",
       "      'href': None}]},\n",
       "   'Status': {'id': 'qRc\\\\',\n",
       "    'type': 'status',\n",
       "    'status': {'id': '50d821ad-f638-4b79-970f-11b2ae9f8c78',\n",
       "     'name': 'done',\n",
       "     'color': 'green'}},\n",
       "   'Title': {'id': 'title',\n",
       "    'type': 'title',\n",
       "    'title': [{'type': 'text',\n",
       "      'text': {'content': 'Hast du uns endlich gefunden', 'link': None},\n",
       "      'annotations': {'bold': False,\n",
       "       'italic': False,\n",
       "       'strikethrough': False,\n",
       "       'underline': False,\n",
       "       'code': False,\n",
       "       'color': 'default'},\n",
       "      'plain_text': 'Hast du uns endlich gefunden',\n",
       "      'href': None}]}},\n",
       "  'url': 'https://www.notion.so/Hast-du-uns-endlich-gefunden-9362e2db5eda46ddb255ec3608ac8494',\n",
       "  'public_url': None},\n",
       " {'object': 'page',\n",
       "  'id': 'c6160371-995d-4988-9f7c-54bb73d90030',\n",
       "  'created_time': '2024-08-12T16:58:00.000Z',\n",
       "  'last_edited_time': '2024-08-12T16:59:00.000Z',\n",
       "  'created_by': {'object': 'user',\n",
       "   'id': '074559e7-8c13-4b7a-899e-4012f06d6320'},\n",
       "  'last_edited_by': {'object': 'user',\n",
       "   'id': '074559e7-8c13-4b7a-899e-4012f06d6320'},\n",
       "  'cover': None,\n",
       "  'icon': None,\n",
       "  'parent': {'type': 'database_id',\n",
       "   'database_id': '1b71653e-3631-48e0-b2ba-399638473ced'},\n",
       "  'archived': False,\n",
       "  'in_trash': False,\n",
       "  'properties': {'Summary': {'id': '?\\\\25',\n",
       "    'type': 'rich_text',\n",
       "    'rich_text': []},\n",
       "   'cover': {'id': 'Urz>',\n",
       "    'type': 'url',\n",
       "    'url': 'http://books.google.com/books/content?id=HLB3DwAAQBAJ&printsec=frontcover&img=1&zoom=1&edge=curl&source=gbs_api'},\n",
       "   'Total pages': {'id': '\\\\?}w', 'type': 'number', 'number': 181},\n",
       "   'Date started': {'id': 'evL[',\n",
       "    'type': 'date',\n",
       "    'date': {'start': '2022-07-16', 'end': None, 'time_zone': None}},\n",
       "   'Date finished': {'id': 'flfJ',\n",
       "    'type': 'date',\n",
       "    'date': {'start': '2022-08-18', 'end': None, 'time_zone': None}},\n",
       "   'Progress': {'id': 'nviz',\n",
       "    'type': 'formula',\n",
       "    'formula': {'type': 'number', 'number': 0}},\n",
       "   'Author': {'id': 'qNw_',\n",
       "    'type': 'rich_text',\n",
       "    'rich_text': [{'type': 'text',\n",
       "      'text': {'content': 'William Shakespeare', 'link': None},\n",
       "      'annotations': {'bold': False,\n",
       "       'italic': False,\n",
       "       'strikethrough': False,\n",
       "       'underline': False,\n",
       "       'code': False,\n",
       "       'color': 'default'},\n",
       "      'plain_text': 'William Shakespeare',\n",
       "      'href': None}]},\n",
       "   'Status': {'id': 'qRc\\\\',\n",
       "    'type': 'status',\n",
       "    'status': {'id': '50d821ad-f638-4b79-970f-11b2ae9f8c78',\n",
       "     'name': 'done',\n",
       "     'color': 'green'}},\n",
       "   'Title': {'id': 'title',\n",
       "    'type': 'title',\n",
       "    'title': [{'type': 'text',\n",
       "      'text': {'content': 'Hamlet', 'link': None},\n",
       "      'annotations': {'bold': False,\n",
       "       'italic': False,\n",
       "       'strikethrough': False,\n",
       "       'underline': False,\n",
       "       'code': False,\n",
       "       'color': 'default'},\n",
       "      'plain_text': 'Hamlet',\n",
       "      'href': None}]}},\n",
       "  'url': 'https://www.notion.so/Hamlet-c6160371995d49889f7c54bb73d90030',\n",
       "  'public_url': None},\n",
       " {'object': 'page',\n",
       "  'id': 'dbd9dce1-5ec2-4d21-bf62-a8ea5584e96b',\n",
       "  'created_time': '2024-08-12T16:58:00.000Z',\n",
       "  'last_edited_time': '2024-08-12T16:59:00.000Z',\n",
       "  'created_by': {'object': 'user',\n",
       "   'id': '074559e7-8c13-4b7a-899e-4012f06d6320'},\n",
       "  'last_edited_by': {'object': 'user',\n",
       "   'id': '074559e7-8c13-4b7a-899e-4012f06d6320'},\n",
       "  'cover': None,\n",
       "  'icon': None,\n",
       "  'parent': {'type': 'database_id',\n",
       "   'database_id': '1b71653e-3631-48e0-b2ba-399638473ced'},\n",
       "  'archived': False,\n",
       "  'in_trash': False,\n",
       "  'properties': {'Summary': {'id': '?\\\\25',\n",
       "    'type': 'rich_text',\n",
       "    'rich_text': []},\n",
       "   'cover': {'id': 'Urz>',\n",
       "    'type': 'url',\n",
       "    'url': 'http://books.google.com/books/content?id=mzcqEAAAQBAJ&printsec=frontcover&img=1&zoom=1&edge=curl&source=gbs_api'},\n",
       "   'Total pages': {'id': '\\\\?}w', 'type': 'number', 'number': 371},\n",
       "   'Date started': {'id': 'evL[',\n",
       "    'type': 'date',\n",
       "    'date': {'start': '2022-10-24', 'end': None, 'time_zone': None}},\n",
       "   'Date finished': {'id': 'flfJ',\n",
       "    'type': 'date',\n",
       "    'date': {'start': '2022-12-07', 'end': None, 'time_zone': None}},\n",
       "   'Progress': {'id': 'nviz',\n",
       "    'type': 'formula',\n",
       "    'formula': {'type': 'number', 'number': 0}},\n",
       "   'Author': {'id': 'qNw_',\n",
       "    'type': 'rich_text',\n",
       "    'rich_text': [{'type': 'text',\n",
       "      'text': {'content': 'Pia Lamberty, Katharina Nocun', 'link': None},\n",
       "      'annotations': {'bold': False,\n",
       "       'italic': False,\n",
       "       'strikethrough': False,\n",
       "       'underline': False,\n",
       "       'code': False,\n",
       "       'color': 'default'},\n",
       "      'plain_text': 'Pia Lamberty, Katharina Nocun',\n",
       "      'href': None}]},\n",
       "   'Status': {'id': 'qRc\\\\',\n",
       "    'type': 'status',\n",
       "    'status': {'id': '50d821ad-f638-4b79-970f-11b2ae9f8c78',\n",
       "     'name': 'done',\n",
       "     'color': 'green'}},\n",
       "   'Title': {'id': 'title',\n",
       "    'type': 'title',\n",
       "    'title': [{'type': 'text',\n",
       "      'text': {'content': 'Gefährlicher Glaube', 'link': None},\n",
       "      'annotations': {'bold': False,\n",
       "       'italic': False,\n",
       "       'strikethrough': False,\n",
       "       'underline': False,\n",
       "       'code': False,\n",
       "       'color': 'default'},\n",
       "      'plain_text': 'Gefährlicher Glaube',\n",
       "      'href': None}]}},\n",
       "  'url': 'https://www.notion.so/Gef-hrlicher-Glaube-dbd9dce15ec24d21bf62a8ea5584e96b',\n",
       "  'public_url': None},\n",
       " {'object': 'page',\n",
       "  'id': 'a25fe9db-818c-42f0-8032-0445a04eb1c0',\n",
       "  'created_time': '2024-08-12T16:58:00.000Z',\n",
       "  'last_edited_time': '2024-08-12T16:59:00.000Z',\n",
       "  'created_by': {'object': 'user',\n",
       "   'id': '074559e7-8c13-4b7a-899e-4012f06d6320'},\n",
       "  'last_edited_by': {'object': 'user',\n",
       "   'id': '074559e7-8c13-4b7a-899e-4012f06d6320'},\n",
       "  'cover': None,\n",
       "  'icon': None,\n",
       "  'parent': {'type': 'database_id',\n",
       "   'database_id': '1b71653e-3631-48e0-b2ba-399638473ced'},\n",
       "  'archived': False,\n",
       "  'in_trash': False,\n",
       "  'properties': {'Category': {'id': '/7eo',\n",
       "    'type': 'select',\n",
       "    'select': {'id': 'r\\\\pO', 'name': 'Fiction', 'color': 'default'}},\n",
       "   'Summary': {'id': '?\\\\25', 'type': 'rich_text', 'rich_text': []},\n",
       "   'cover': {'id': 'Urz>',\n",
       "    'type': 'url',\n",
       "    'url': 'http://books.google.com/books/content?id=1FoqDwAAQBAJ&printsec=frontcover&img=1&zoom=1&edge=curl&source=gbs_api'},\n",
       "   'Total pages': {'id': '\\\\?}w', 'type': 'number', 'number': 235},\n",
       "   'Date started': {'id': 'evL[',\n",
       "    'type': 'date',\n",
       "    'date': {'start': '2022-03-20', 'end': None, 'time_zone': None}},\n",
       "   'Date finished': {'id': 'flfJ',\n",
       "    'type': 'date',\n",
       "    'date': {'start': '2022-07-15', 'end': None, 'time_zone': None}},\n",
       "   'Progress': {'id': 'nviz',\n",
       "    'type': 'formula',\n",
       "    'formula': {'type': 'number', 'number': 0}},\n",
       "   'Author': {'id': 'qNw_',\n",
       "    'type': 'rich_text',\n",
       "    'rich_text': [{'type': 'text',\n",
       "      'text': {'content': 'Walter Moers', 'link': None},\n",
       "      'annotations': {'bold': False,\n",
       "       'italic': False,\n",
       "       'strikethrough': False,\n",
       "       'underline': False,\n",
       "       'code': False,\n",
       "       'color': 'default'},\n",
       "      'plain_text': 'Walter Moers',\n",
       "      'href': None}]},\n",
       "   'Status': {'id': 'qRc\\\\',\n",
       "    'type': 'status',\n",
       "    'status': {'id': '50d821ad-f638-4b79-970f-11b2ae9f8c78',\n",
       "     'name': 'done',\n",
       "     'color': 'green'}},\n",
       "   'Title': {'id': 'title',\n",
       "    'type': 'title',\n",
       "    'title': [{'type': 'text',\n",
       "      'text': {'content': 'Ensel und Krete', 'link': None},\n",
       "      'annotations': {'bold': False,\n",
       "       'italic': False,\n",
       "       'strikethrough': False,\n",
       "       'underline': False,\n",
       "       'code': False,\n",
       "       'color': 'default'},\n",
       "      'plain_text': 'Ensel und Krete',\n",
       "      'href': None}]}},\n",
       "  'url': 'https://www.notion.so/Ensel-und-Krete-a25fe9db818c42f080320445a04eb1c0',\n",
       "  'public_url': None},\n",
       " {'object': 'page',\n",
       "  'id': '01fcdd6f-0dc3-4a2e-8e9a-d64a0afbe64a',\n",
       "  'created_time': '2024-08-12T16:58:00.000Z',\n",
       "  'last_edited_time': '2024-08-12T16:59:00.000Z',\n",
       "  'created_by': {'object': 'user',\n",
       "   'id': '074559e7-8c13-4b7a-899e-4012f06d6320'},\n",
       "  'last_edited_by': {'object': 'user',\n",
       "   'id': '074559e7-8c13-4b7a-899e-4012f06d6320'},\n",
       "  'cover': None,\n",
       "  'icon': None,\n",
       "  'parent': {'type': 'database_id',\n",
       "   'database_id': '1b71653e-3631-48e0-b2ba-399638473ced'},\n",
       "  'archived': False,\n",
       "  'in_trash': False,\n",
       "  'properties': {'Summary': {'id': '?\\\\25',\n",
       "    'type': 'rich_text',\n",
       "    'rich_text': []},\n",
       "   'cover': {'id': 'Urz>',\n",
       "    'type': 'url',\n",
       "    'url': 'http://books.google.com/books/content?id=DtD9DwAAQBAJ&printsec=frontcover&img=1&zoom=1&edge=curl&source=gbs_api'},\n",
       "   'Total pages': {'id': '\\\\?}w', 'type': 'number', 'number': 681},\n",
       "   'Date started': {'id': 'evL[',\n",
       "    'type': 'date',\n",
       "    'date': {'start': '2021-08-28', 'end': None, 'time_zone': None}},\n",
       "   'Date finished': {'id': 'flfJ',\n",
       "    'type': 'date',\n",
       "    'date': {'start': '2021-09-30', 'end': None, 'time_zone': None}},\n",
       "   'Progress': {'id': 'nviz',\n",
       "    'type': 'formula',\n",
       "    'formula': {'type': 'number', 'number': 0}},\n",
       "   'Author': {'id': 'qNw_',\n",
       "    'type': 'rich_text',\n",
       "    'rich_text': [{'type': 'text',\n",
       "      'text': {'content': 'Barack Obama', 'link': None},\n",
       "      'annotations': {'bold': False,\n",
       "       'italic': False,\n",
       "       'strikethrough': False,\n",
       "       'underline': False,\n",
       "       'code': False,\n",
       "       'color': 'default'},\n",
       "      'plain_text': 'Barack Obama',\n",
       "      'href': None}]},\n",
       "   'Status': {'id': 'qRc\\\\',\n",
       "    'type': 'status',\n",
       "    'status': {'id': '50d821ad-f638-4b79-970f-11b2ae9f8c78',\n",
       "     'name': 'done',\n",
       "     'color': 'green'}},\n",
       "   'Title': {'id': 'title',\n",
       "    'type': 'title',\n",
       "    'title': [{'type': 'text',\n",
       "      'text': {'content': 'Ein verheißenes Land', 'link': None},\n",
       "      'annotations': {'bold': False,\n",
       "       'italic': False,\n",
       "       'strikethrough': False,\n",
       "       'underline': False,\n",
       "       'code': False,\n",
       "       'color': 'default'},\n",
       "      'plain_text': 'Ein verheißenes Land',\n",
       "      'href': None}]}},\n",
       "  'url': 'https://www.notion.so/Ein-verhei-enes-Land-01fcdd6f0dc34a2e8e9ad64a0afbe64a',\n",
       "  'public_url': None},\n",
       " {'object': 'page',\n",
       "  'id': 'd6679367-f13a-4ace-9b5f-057ca11a7365',\n",
       "  'created_time': '2024-08-12T16:58:00.000Z',\n",
       "  'last_edited_time': '2024-08-12T16:59:00.000Z',\n",
       "  'created_by': {'object': 'user',\n",
       "   'id': '074559e7-8c13-4b7a-899e-4012f06d6320'},\n",
       "  'last_edited_by': {'object': 'user',\n",
       "   'id': '074559e7-8c13-4b7a-899e-4012f06d6320'},\n",
       "  'cover': None,\n",
       "  'icon': None,\n",
       "  'parent': {'type': 'database_id',\n",
       "   'database_id': '1b71653e-3631-48e0-b2ba-399638473ced'},\n",
       "  'archived': False,\n",
       "  'in_trash': False,\n",
       "  'properties': {'Summary': {'id': '?\\\\25',\n",
       "    'type': 'rich_text',\n",
       "    'rich_text': []},\n",
       "   'cover': {'id': 'Urz>',\n",
       "    'type': 'url',\n",
       "    'url': 'http://books.google.com/books/content?id=uT_AEAAAQBAJ&printsec=frontcover&img=1&zoom=1&edge=curl&source=gbs_api'},\n",
       "   'Total pages': {'id': '\\\\?}w', 'type': 'number', 'number': 641},\n",
       "   'Date started': {'id': 'evL[',\n",
       "    'type': 'date',\n",
       "    'date': {'start': '2024-03-10', 'end': None, 'time_zone': None}},\n",
       "   'Date finished': {'id': 'flfJ',\n",
       "    'type': 'date',\n",
       "    'date': {'start': '2024-03-27', 'end': None, 'time_zone': None}},\n",
       "   'Progress': {'id': 'nviz',\n",
       "    'type': 'formula',\n",
       "    'formula': {'type': 'number', 'number': 0}},\n",
       "   'Author': {'id': 'qNw_',\n",
       "    'type': 'rich_text',\n",
       "    'rich_text': [{'type': 'text',\n",
       "      'text': {'content': 'Walter Isaacson', 'link': None},\n",
       "      'annotations': {'bold': False,\n",
       "       'italic': False,\n",
       "       'strikethrough': False,\n",
       "       'underline': False,\n",
       "       'code': False,\n",
       "       'color': 'default'},\n",
       "      'plain_text': 'Walter Isaacson',\n",
       "      'href': None}]},\n",
       "   'Status': {'id': 'qRc\\\\',\n",
       "    'type': 'status',\n",
       "    'status': {'id': '50d821ad-f638-4b79-970f-11b2ae9f8c78',\n",
       "     'name': 'done',\n",
       "     'color': 'green'}},\n",
       "   'Title': {'id': 'title',\n",
       "    'type': 'title',\n",
       "    'title': [{'type': 'text',\n",
       "      'text': {'content': 'Elon Musk', 'link': None},\n",
       "      'annotations': {'bold': False,\n",
       "       'italic': False,\n",
       "       'strikethrough': False,\n",
       "       'underline': False,\n",
       "       'code': False,\n",
       "       'color': 'default'},\n",
       "      'plain_text': 'Elon Musk',\n",
       "      'href': None}]}},\n",
       "  'url': 'https://www.notion.so/Elon-Musk-d6679367f13a4ace9b5f057ca11a7365',\n",
       "  'public_url': None},\n",
       " {'object': 'page',\n",
       "  'id': 'db984ad6-39ae-4817-b7bd-3561f35f8a48',\n",
       "  'created_time': '2024-08-12T16:58:00.000Z',\n",
       "  'last_edited_time': '2024-08-12T16:59:00.000Z',\n",
       "  'created_by': {'object': 'user',\n",
       "   'id': '074559e7-8c13-4b7a-899e-4012f06d6320'},\n",
       "  'last_edited_by': {'object': 'user',\n",
       "   'id': '074559e7-8c13-4b7a-899e-4012f06d6320'},\n",
       "  'cover': None,\n",
       "  'icon': None,\n",
       "  'parent': {'type': 'database_id',\n",
       "   'database_id': '1b71653e-3631-48e0-b2ba-399638473ced'},\n",
       "  'archived': False,\n",
       "  'in_trash': False,\n",
       "  'properties': {'Summary': {'id': '?\\\\25',\n",
       "    'type': 'rich_text',\n",
       "    'rich_text': []},\n",
       "   'cover': {'id': 'Urz>',\n",
       "    'type': 'url',\n",
       "    'url': 'http://books.google.com/books/content?id=d2WZDgAAQBAJ&printsec=frontcover&img=1&zoom=1&edge=curl&source=gbs_api'},\n",
       "   'Total pages': {'id': '\\\\?}w', 'type': 'number', 'number': 704},\n",
       "   'Date started': {'id': 'evL[',\n",
       "    'type': 'date',\n",
       "    'date': {'start': '2023-04-22', 'end': None, 'time_zone': None}},\n",
       "   'Date finished': {'id': 'flfJ',\n",
       "    'type': 'date',\n",
       "    'date': {'start': '2023-10-14', 'end': None, 'time_zone': None}},\n",
       "   'Progress': {'id': 'nviz',\n",
       "    'type': 'formula',\n",
       "    'formula': {'type': 'number', 'number': 0}},\n",
       "   'Author': {'id': 'qNw_',\n",
       "    'type': 'rich_text',\n",
       "    'rich_text': [{'type': 'text',\n",
       "      'text': {'content': 'Walter Isaacson', 'link': None},\n",
       "      'annotations': {'bold': False,\n",
       "       'italic': False,\n",
       "       'strikethrough': False,\n",
       "       'underline': False,\n",
       "       'code': False,\n",
       "       'color': 'default'},\n",
       "      'plain_text': 'Walter Isaacson',\n",
       "      'href': None}]},\n",
       "   'Status': {'id': 'qRc\\\\',\n",
       "    'type': 'status',\n",
       "    'status': {'id': '50d821ad-f638-4b79-970f-11b2ae9f8c78',\n",
       "     'name': 'done',\n",
       "     'color': 'green'}},\n",
       "   'Title': {'id': 'title',\n",
       "    'type': 'title',\n",
       "    'title': [{'type': 'text',\n",
       "      'text': {'content': 'Einstein', 'link': None},\n",
       "      'annotations': {'bold': False,\n",
       "       'italic': False,\n",
       "       'strikethrough': False,\n",
       "       'underline': False,\n",
       "       'code': False,\n",
       "       'color': 'default'},\n",
       "      'plain_text': 'Einstein',\n",
       "      'href': None}]}},\n",
       "  'url': 'https://www.notion.so/Einstein-db984ad639ae4817b7bd3561f35f8a48',\n",
       "  'public_url': None},\n",
       " {'object': 'page',\n",
       "  'id': 'e7a9fa52-e4f1-4ec6-a1c7-eab3b77d0957',\n",
       "  'created_time': '2024-08-12T16:58:00.000Z',\n",
       "  'last_edited_time': '2024-08-12T16:59:00.000Z',\n",
       "  'created_by': {'object': 'user',\n",
       "   'id': '074559e7-8c13-4b7a-899e-4012f06d6320'},\n",
       "  'last_edited_by': {'object': 'user',\n",
       "   'id': '074559e7-8c13-4b7a-899e-4012f06d6320'},\n",
       "  'cover': None,\n",
       "  'icon': None,\n",
       "  'parent': {'type': 'database_id',\n",
       "   'database_id': '1b71653e-3631-48e0-b2ba-399638473ced'},\n",
       "  'archived': False,\n",
       "  'in_trash': False,\n",
       "  'properties': {'Summary': {'id': '?\\\\25',\n",
       "    'type': 'rich_text',\n",
       "    'rich_text': []},\n",
       "   'cover': {'id': 'Urz>',\n",
       "    'type': 'url',\n",
       "    'url': 'http://books.google.com/books/content?id=e_9MDwAAQBAJ&printsec=frontcover&img=1&zoom=1&source=gbs_api'},\n",
       "   'Total pages': {'id': '\\\\?}w', 'type': 'number', 'number': 706},\n",
       "   'Date started': {'id': 'evL[',\n",
       "    'type': 'date',\n",
       "    'date': {'start': '2024-04-27', 'end': None, 'time_zone': None}},\n",
       "   'Progress': {'id': 'nviz',\n",
       "    'type': 'formula',\n",
       "    'formula': {'type': 'number', 'number': 0}},\n",
       "   'Author': {'id': 'qNw_',\n",
       "    'type': 'rich_text',\n",
       "    'rich_text': [{'type': 'text',\n",
       "      'text': {'content': 'Frank Herbert', 'link': None},\n",
       "      'annotations': {'bold': False,\n",
       "       'italic': False,\n",
       "       'strikethrough': False,\n",
       "       'underline': False,\n",
       "       'code': False,\n",
       "       'color': 'default'},\n",
       "      'plain_text': 'Frank Herbert',\n",
       "      'href': None}]},\n",
       "   'Status': {'id': 'qRc\\\\',\n",
       "    'type': 'status',\n",
       "    'status': {'id': '50d821ad-f638-4b79-970f-11b2ae9f8c78',\n",
       "     'name': 'done',\n",
       "     'color': 'green'}},\n",
       "   'Title': {'id': 'title',\n",
       "    'type': 'title',\n",
       "    'title': [{'type': 'text',\n",
       "      'text': {'content': 'Dune', 'link': None},\n",
       "      'annotations': {'bold': False,\n",
       "       'italic': False,\n",
       "       'strikethrough': False,\n",
       "       'underline': False,\n",
       "       'code': False,\n",
       "       'color': 'default'},\n",
       "      'plain_text': 'Dune',\n",
       "      'href': None}]}},\n",
       "  'url': 'https://www.notion.so/Dune-e7a9fa52e4f14ec6a1c7eab3b77d0957',\n",
       "  'public_url': None},\n",
       " {'object': 'page',\n",
       "  'id': '1ef79a14-2129-44ac-9db1-dc396af674a2',\n",
       "  'created_time': '2024-08-12T16:58:00.000Z',\n",
       "  'last_edited_time': '2024-08-12T16:59:00.000Z',\n",
       "  'created_by': {'object': 'user',\n",
       "   'id': '074559e7-8c13-4b7a-899e-4012f06d6320'},\n",
       "  'last_edited_by': {'object': 'user',\n",
       "   'id': '074559e7-8c13-4b7a-899e-4012f06d6320'},\n",
       "  'cover': None,\n",
       "  'icon': None,\n",
       "  'parent': {'type': 'database_id',\n",
       "   'database_id': '1b71653e-3631-48e0-b2ba-399638473ced'},\n",
       "  'archived': False,\n",
       "  'in_trash': False,\n",
       "  'properties': {'Summary': {'id': '?\\\\25',\n",
       "    'type': 'rich_text',\n",
       "    'rich_text': []},\n",
       "   'cover': {'id': 'Urz>',\n",
       "    'type': 'url',\n",
       "    'url': 'http://books.google.com/books/content?id=GFqvDwAAQBAJ&printsec=frontcover&img=1&zoom=1&edge=curl&source=gbs_api'},\n",
       "   'Total pages': {'id': '\\\\?}w', 'type': 'number', 'number': 1363},\n",
       "   'Date started': {'id': 'evL[',\n",
       "    'type': 'date',\n",
       "    'date': {'start': '2020-12-01', 'end': None, 'time_zone': None}},\n",
       "   'Date finished': {'id': 'flfJ',\n",
       "    'type': 'date',\n",
       "    'date': {'start': '2021-08-19', 'end': None, 'time_zone': None}},\n",
       "   'Progress': {'id': 'nviz',\n",
       "    'type': 'formula',\n",
       "    'formula': {'type': 'number', 'number': 0}},\n",
       "   'Author': {'id': 'qNw_',\n",
       "    'type': 'rich_text',\n",
       "    'rich_text': [{'type': 'text',\n",
       "      'text': {'content': 'Jill Lepore', 'link': None},\n",
       "      'annotations': {'bold': False,\n",
       "       'italic': False,\n",
       "       'strikethrough': False,\n",
       "       'underline': False,\n",
       "       'code': False,\n",
       "       'color': 'default'},\n",
       "      'plain_text': 'Jill Lepore',\n",
       "      'href': None}]},\n",
       "   'Status': {'id': 'qRc\\\\',\n",
       "    'type': 'status',\n",
       "    'status': {'id': '50d821ad-f638-4b79-970f-11b2ae9f8c78',\n",
       "     'name': 'done',\n",
       "     'color': 'green'}},\n",
       "   'Title': {'id': 'title',\n",
       "    'type': 'title',\n",
       "    'title': [{'type': 'text',\n",
       "      'text': {'content': 'Diese Wahrheiten', 'link': None},\n",
       "      'annotations': {'bold': False,\n",
       "       'italic': False,\n",
       "       'strikethrough': False,\n",
       "       'underline': False,\n",
       "       'code': False,\n",
       "       'color': 'default'},\n",
       "      'plain_text': 'Diese Wahrheiten',\n",
       "      'href': None}]}},\n",
       "  'url': 'https://www.notion.so/Diese-Wahrheiten-1ef79a14212944ac9db1dc396af674a2',\n",
       "  'public_url': None},\n",
       " {'object': 'page',\n",
       "  'id': '1b293c9b-4dca-48bb-bc54-6f676649455a',\n",
       "  'created_time': '2024-08-12T16:58:00.000Z',\n",
       "  'last_edited_time': '2024-08-12T16:59:00.000Z',\n",
       "  'created_by': {'object': 'user',\n",
       "   'id': '074559e7-8c13-4b7a-899e-4012f06d6320'},\n",
       "  'last_edited_by': {'object': 'user',\n",
       "   'id': '074559e7-8c13-4b7a-899e-4012f06d6320'},\n",
       "  'cover': None,\n",
       "  'icon': None,\n",
       "  'parent': {'type': 'database_id',\n",
       "   'database_id': '1b71653e-3631-48e0-b2ba-399638473ced'},\n",
       "  'archived': False,\n",
       "  'in_trash': False,\n",
       "  'properties': {'Category': {'id': '/7eo',\n",
       "    'type': 'select',\n",
       "    'select': {'id': 'r\\\\pO', 'name': 'Fiction', 'color': 'default'}},\n",
       "   'Summary': {'id': '?\\\\25', 'type': 'rich_text', 'rich_text': []},\n",
       "   'cover': {'id': 'Urz>',\n",
       "    'type': 'url',\n",
       "    'url': 'http://books.google.com/books/content?id=C7W3EAAAQBAJ&printsec=frontcover&img=1&zoom=1&edge=curl&source=gbs_api'},\n",
       "   'Total pages': {'id': '\\\\?}w', 'type': 'number', 'number': 260},\n",
       "   'Progress': {'id': 'nviz',\n",
       "    'type': 'formula',\n",
       "    'formula': {'type': 'number', 'number': 0}},\n",
       "   'Author': {'id': 'qNw_',\n",
       "    'type': 'rich_text',\n",
       "    'rich_text': [{'type': 'text',\n",
       "      'text': {'content': 'Lauren Groff', 'link': None},\n",
       "      'annotations': {'bold': False,\n",
       "       'italic': False,\n",
       "       'strikethrough': False,\n",
       "       'underline': False,\n",
       "       'code': False,\n",
       "       'color': 'default'},\n",
       "      'plain_text': 'Lauren Groff',\n",
       "      'href': None}]},\n",
       "   'Status': {'id': 'qRc\\\\',\n",
       "    'type': 'status',\n",
       "    'status': {'id': '50d821ad-f638-4b79-970f-11b2ae9f8c78',\n",
       "     'name': 'done',\n",
       "     'color': 'green'}},\n",
       "   'Title': {'id': 'title',\n",
       "    'type': 'title',\n",
       "    'title': [{'type': 'text',\n",
       "      'text': {'content': 'Die weite Wildnis', 'link': None},\n",
       "      'annotations': {'bold': False,\n",
       "       'italic': False,\n",
       "       'strikethrough': False,\n",
       "       'underline': False,\n",
       "       'code': False,\n",
       "       'color': 'default'},\n",
       "      'plain_text': 'Die weite Wildnis',\n",
       "      'href': None}]}},\n",
       "  'url': 'https://www.notion.so/Die-weite-Wildnis-1b293c9b4dca48bbbc546f676649455a',\n",
       "  'public_url': None},\n",
       " {'object': 'page',\n",
       "  'id': '8068445c-f33c-48ed-83d3-0b662bbdcc53',\n",
       "  'created_time': '2024-08-12T16:58:00.000Z',\n",
       "  'last_edited_time': '2024-08-12T16:59:00.000Z',\n",
       "  'created_by': {'object': 'user',\n",
       "   'id': '074559e7-8c13-4b7a-899e-4012f06d6320'},\n",
       "  'last_edited_by': {'object': 'user',\n",
       "   'id': '074559e7-8c13-4b7a-899e-4012f06d6320'},\n",
       "  'cover': None,\n",
       "  'icon': None,\n",
       "  'parent': {'type': 'database_id',\n",
       "   'database_id': '1b71653e-3631-48e0-b2ba-399638473ced'},\n",
       "  'archived': False,\n",
       "  'in_trash': False,\n",
       "  'properties': {'Summary': {'id': '?\\\\25',\n",
       "    'type': 'rich_text',\n",
       "    'rich_text': []},\n",
       "   'Total pages': {'id': '\\\\?}w', 'type': 'number', 'number': 708},\n",
       "   'Date started': {'id': 'evL[',\n",
       "    'type': 'date',\n",
       "    'date': {'start': '2022-03-20', 'end': None, 'time_zone': None}},\n",
       "   'Date finished': {'id': 'flfJ',\n",
       "    'type': 'date',\n",
       "    'date': {'start': '2022-07-17', 'end': None, 'time_zone': None}},\n",
       "   'Progress': {'id': 'nviz',\n",
       "    'type': 'formula',\n",
       "    'formula': {'type': 'number', 'number': 0}},\n",
       "   'Author': {'id': 'qNw_',\n",
       "    'type': 'rich_text',\n",
       "    'rich_text': [{'type': 'text',\n",
       "      'text': {'content': 'Christian Westphalen', 'link': None},\n",
       "      'annotations': {'bold': False,\n",
       "       'italic': False,\n",
       "       'strikethrough': False,\n",
       "       'underline': False,\n",
       "       'code': False,\n",
       "       'color': 'default'},\n",
       "      'plain_text': 'Christian Westphalen',\n",
       "      'href': None}]},\n",
       "   'Status': {'id': 'qRc\\\\',\n",
       "    'type': 'status',\n",
       "    'status': {'id': '50d821ad-f638-4b79-970f-11b2ae9f8c78',\n",
       "     'name': 'done',\n",
       "     'color': 'green'}},\n",
       "   'Title': {'id': 'title',\n",
       "    'type': 'title',\n",
       "    'title': [{'type': 'text',\n",
       "      'text': {'content': 'Die große Fotoschule', 'link': None},\n",
       "      'annotations': {'bold': False,\n",
       "       'italic': False,\n",
       "       'strikethrough': False,\n",
       "       'underline': False,\n",
       "       'code': False,\n",
       "       'color': 'default'},\n",
       "      'plain_text': 'Die große Fotoschule',\n",
       "      'href': None}]}},\n",
       "  'url': 'https://www.notion.so/Die-gro-e-Fotoschule-8068445cf33c48ed83d30b662bbdcc53',\n",
       "  'public_url': None},\n",
       " {'object': 'page',\n",
       "  'id': 'bbe5713b-240c-4b73-bd80-f5bd514738f0',\n",
       "  'created_time': '2024-08-12T16:58:00.000Z',\n",
       "  'last_edited_time': '2024-08-12T16:59:00.000Z',\n",
       "  'created_by': {'object': 'user',\n",
       "   'id': '074559e7-8c13-4b7a-899e-4012f06d6320'},\n",
       "  'last_edited_by': {'object': 'user',\n",
       "   'id': '074559e7-8c13-4b7a-899e-4012f06d6320'},\n",
       "  'cover': None,\n",
       "  'icon': None,\n",
       "  'parent': {'type': 'database_id',\n",
       "   'database_id': '1b71653e-3631-48e0-b2ba-399638473ced'},\n",
       "  'archived': False,\n",
       "  'in_trash': False,\n",
       "  'properties': {'Category': {'id': '/7eo',\n",
       "    'type': 'select',\n",
       "    'select': {'id': 'r\\\\pO', 'name': 'Fiction', 'color': 'default'}},\n",
       "   'Summary': {'id': '?\\\\25', 'type': 'rich_text', 'rich_text': []},\n",
       "   'cover': {'id': 'Urz>',\n",
       "    'type': 'url',\n",
       "    'url': 'http://books.google.com/books/content?id=REgpEAAAQBAJ&printsec=frontcover&img=1&zoom=1&edge=curl&source=gbs_api'},\n",
       "   'Total pages': {'id': '\\\\?}w', 'type': 'number', 'number': 244},\n",
       "   'Date started': {'id': 'evL[',\n",
       "    'type': 'date',\n",
       "    'date': {'start': '2021-12-24', 'end': None, 'time_zone': None}},\n",
       "   'Date finished': {'id': 'flfJ',\n",
       "    'type': 'date',\n",
       "    'date': {'start': '2022-02-17', 'end': None, 'time_zone': None}},\n",
       "   'Progress': {'id': 'nviz',\n",
       "    'type': 'formula',\n",
       "    'formula': {'type': 'number', 'number': 0}},\n",
       "   'Author': {'id': 'qNw_',\n",
       "    'type': 'rich_text',\n",
       "    'rich_text': [{'type': 'text',\n",
       "      'text': {'content': 'Fridolin Schley', 'link': None},\n",
       "      'annotations': {'bold': False,\n",
       "       'italic': False,\n",
       "       'strikethrough': False,\n",
       "       'underline': False,\n",
       "       'code': False,\n",
       "       'color': 'default'},\n",
       "      'plain_text': 'Fridolin Schley',\n",
       "      'href': None}]},\n",
       "   'Status': {'id': 'qRc\\\\',\n",
       "    'type': 'status',\n",
       "    'status': {'id': '50d821ad-f638-4b79-970f-11b2ae9f8c78',\n",
       "     'name': 'done',\n",
       "     'color': 'green'}},\n",
       "   'Title': {'id': 'title',\n",
       "    'type': 'title',\n",
       "    'title': [{'type': 'text',\n",
       "      'text': {'content': 'Die Verteidigung', 'link': None},\n",
       "      'annotations': {'bold': False,\n",
       "       'italic': False,\n",
       "       'strikethrough': False,\n",
       "       'underline': False,\n",
       "       'code': False,\n",
       "       'color': 'default'},\n",
       "      'plain_text': 'Die Verteidigung',\n",
       "      'href': None}]}},\n",
       "  'url': 'https://www.notion.so/Die-Verteidigung-bbe5713b240c4b73bd80f5bd514738f0',\n",
       "  'public_url': None},\n",
       " {'object': 'page',\n",
       "  'id': 'f9286a9a-5f99-4e34-bf7e-3bdad00c63be',\n",
       "  'created_time': '2024-08-12T16:58:00.000Z',\n",
       "  'last_edited_time': '2024-08-12T16:59:00.000Z',\n",
       "  'created_by': {'object': 'user',\n",
       "   'id': '074559e7-8c13-4b7a-899e-4012f06d6320'},\n",
       "  'last_edited_by': {'object': 'user',\n",
       "   'id': '074559e7-8c13-4b7a-899e-4012f06d6320'},\n",
       "  'cover': None,\n",
       "  'icon': None,\n",
       "  'parent': {'type': 'database_id',\n",
       "   'database_id': '1b71653e-3631-48e0-b2ba-399638473ced'},\n",
       "  'archived': False,\n",
       "  'in_trash': False,\n",
       "  'properties': {'Category': {'id': '/7eo',\n",
       "    'type': 'select',\n",
       "    'select': {'id': 'r\\\\pO', 'name': 'Fiction', 'color': 'default'}},\n",
       "   'Summary': {'id': '?\\\\25', 'type': 'rich_text', 'rich_text': []},\n",
       "   'cover': {'id': 'Urz>',\n",
       "    'type': 'url',\n",
       "    'url': 'http://books.google.com/books/content?id=32luDwAAQBAJ&printsec=frontcover&img=1&zoom=1&edge=curl&source=gbs_api'},\n",
       "   'Total pages': {'id': '\\\\?}w', 'type': 'number', 'number': 336},\n",
       "   'Progress': {'id': 'nviz',\n",
       "    'type': 'formula',\n",
       "    'formula': {'type': 'number', 'number': 0}},\n",
       "   'Author': {'id': 'qNw_',\n",
       "    'type': 'rich_text',\n",
       "    'rich_text': [{'type': 'text',\n",
       "      'text': {'content': 'James McBride', 'link': None},\n",
       "      'annotations': {'bold': False,\n",
       "       'italic': False,\n",
       "       'strikethrough': False,\n",
       "       'underline': False,\n",
       "       'code': False,\n",
       "       'color': 'default'},\n",
       "      'plain_text': 'James McBride',\n",
       "      'href': None}]},\n",
       "   'Status': {'id': 'qRc\\\\',\n",
       "    'type': 'status',\n",
       "    'status': {'id': '50d821ad-f638-4b79-970f-11b2ae9f8c78',\n",
       "     'name': 'done',\n",
       "     'color': 'green'}},\n",
       "   'Title': {'id': 'title',\n",
       "    'type': 'title',\n",
       "    'title': [{'type': 'text',\n",
       "      'text': {'content': 'Die Farbe von Wasser', 'link': None},\n",
       "      'annotations': {'bold': False,\n",
       "       'italic': False,\n",
       "       'strikethrough': False,\n",
       "       'underline': False,\n",
       "       'code': False,\n",
       "       'color': 'default'},\n",
       "      'plain_text': 'Die Farbe von Wasser',\n",
       "      'href': None}]}},\n",
       "  'url': 'https://www.notion.so/Die-Farbe-von-Wasser-f9286a9a5f994e34bf7e3bdad00c63be',\n",
       "  'public_url': None},\n",
       " {'object': 'page',\n",
       "  'id': '4870bb41-e58a-49b9-bac7-a4cff23c106c',\n",
       "  'created_time': '2024-08-12T16:58:00.000Z',\n",
       "  'last_edited_time': '2024-08-12T16:59:00.000Z',\n",
       "  'created_by': {'object': 'user',\n",
       "   'id': '074559e7-8c13-4b7a-899e-4012f06d6320'},\n",
       "  'last_edited_by': {'object': 'user',\n",
       "   'id': '074559e7-8c13-4b7a-899e-4012f06d6320'},\n",
       "  'cover': None,\n",
       "  'icon': None,\n",
       "  'parent': {'type': 'database_id',\n",
       "   'database_id': '1b71653e-3631-48e0-b2ba-399638473ced'},\n",
       "  'archived': False,\n",
       "  'in_trash': False,\n",
       "  'properties': {'Summary': {'id': '?\\\\25',\n",
       "    'type': 'rich_text',\n",
       "    'rich_text': []},\n",
       "   'cover': {'id': 'Urz>',\n",
       "    'type': 'url',\n",
       "    'url': 'http://books.google.com/books/content?id=nHPZBQAAQBAJ&printsec=frontcover&img=1&zoom=1&edge=curl&source=gbs_api'},\n",
       "   'Total pages': {'id': '\\\\?}w', 'type': 'number', 'number': 1400},\n",
       "   'Date started': {'id': 'evL[',\n",
       "    'type': 'date',\n",
       "    'date': {'start': '2024-06-20', 'end': None, 'time_zone': None}},\n",
       "   'Progress': {'id': 'nviz',\n",
       "    'type': 'formula',\n",
       "    'formula': {'type': 'number', 'number': 0}},\n",
       "   'Author': {'id': 'qNw_',\n",
       "    'type': 'rich_text',\n",
       "    'rich_text': [{'type': 'text',\n",
       "      'text': {'content': 'Gernot Marx, Elke Muhl, Kai Zacharowski, Stefan Zeuzem',\n",
       "       'link': None},\n",
       "      'annotations': {'bold': False,\n",
       "       'italic': False,\n",
       "       'strikethrough': False,\n",
       "       'underline': False,\n",
       "       'code': False,\n",
       "       'color': 'default'},\n",
       "      'plain_text': 'Gernot Marx, Elke Muhl, Kai Zacharowski, Stefan Zeuzem',\n",
       "      'href': None}]},\n",
       "   'Status': {'id': 'qRc\\\\',\n",
       "    'type': 'status',\n",
       "    'status': {'id': '50d821ad-f638-4b79-970f-11b2ae9f8c78',\n",
       "     'name': 'done',\n",
       "     'color': 'green'}},\n",
       "   'Title': {'id': 'title',\n",
       "    'type': 'title',\n",
       "    'title': [{'type': 'text',\n",
       "      'text': {'content': 'Die Intensivmedizin', 'link': None},\n",
       "      'annotations': {'bold': False,\n",
       "       'italic': False,\n",
       "       'strikethrough': False,\n",
       "       'underline': False,\n",
       "       'code': False,\n",
       "       'color': 'default'},\n",
       "      'plain_text': 'Die Intensivmedizin',\n",
       "      'href': None}]}},\n",
       "  'url': 'https://www.notion.so/Die-Intensivmedizin-4870bb41e58a49b9bac7a4cff23c106c',\n",
       "  'public_url': None},\n",
       " {'object': 'page',\n",
       "  'id': '8a8f393d-cdc8-4de9-978e-ffdad01b143f',\n",
       "  'created_time': '2024-08-12T16:58:00.000Z',\n",
       "  'last_edited_time': '2024-08-12T16:59:00.000Z',\n",
       "  'created_by': {'object': 'user',\n",
       "   'id': '074559e7-8c13-4b7a-899e-4012f06d6320'},\n",
       "  'last_edited_by': {'object': 'user',\n",
       "   'id': '074559e7-8c13-4b7a-899e-4012f06d6320'},\n",
       "  'cover': None,\n",
       "  'icon': None,\n",
       "  'parent': {'type': 'database_id',\n",
       "   'database_id': '1b71653e-3631-48e0-b2ba-399638473ced'},\n",
       "  'archived': False,\n",
       "  'in_trash': False,\n",
       "  'properties': {'Category': {'id': '/7eo',\n",
       "    'type': 'select',\n",
       "    'select': {'id': 'r\\\\pO', 'name': 'Fiction', 'color': 'default'}},\n",
       "   'Summary': {'id': '?\\\\25', 'type': 'rich_text', 'rich_text': []},\n",
       "   'cover': {'id': 'Urz>',\n",
       "    'type': 'url',\n",
       "    'url': 'http://books.google.com/books/content?id=1GAGEAAAQBAJ&printsec=frontcover&img=1&zoom=1&edge=curl&source=gbs_api'},\n",
       "   'Total pages': {'id': '\\\\?}w', 'type': 'number', 'number': 448},\n",
       "   'Progress': {'id': 'nviz',\n",
       "    'type': 'formula',\n",
       "    'formula': {'type': 'number', 'number': 0}},\n",
       "   'Author': {'id': 'qNw_',\n",
       "    'type': 'rich_text',\n",
       "    'rich_text': [{'type': 'text',\n",
       "      'text': {'content': 'James McBride', 'link': None},\n",
       "      'annotations': {'bold': False,\n",
       "       'italic': False,\n",
       "       'strikethrough': False,\n",
       "       'underline': False,\n",
       "       'code': False,\n",
       "       'color': 'default'},\n",
       "      'plain_text': 'James McBride',\n",
       "      'href': None}]},\n",
       "   'Status': {'id': 'qRc\\\\',\n",
       "    'type': 'status',\n",
       "    'status': {'id': '50d821ad-f638-4b79-970f-11b2ae9f8c78',\n",
       "     'name': 'done',\n",
       "     'color': 'green'}},\n",
       "   'Title': {'id': 'title',\n",
       "    'type': 'title',\n",
       "    'title': [{'type': 'text',\n",
       "      'text': {'content': 'Der heilige King Kong', 'link': None},\n",
       "      'annotations': {'bold': False,\n",
       "       'italic': False,\n",
       "       'strikethrough': False,\n",
       "       'underline': False,\n",
       "       'code': False,\n",
       "       'color': 'default'},\n",
       "      'plain_text': 'Der heilige King Kong',\n",
       "      'href': None}]}},\n",
       "  'url': 'https://www.notion.so/Der-heilige-King-Kong-8a8f393dcdc84de9978effdad01b143f',\n",
       "  'public_url': None},\n",
       " {'object': 'page',\n",
       "  'id': '7311a8f0-8e74-46ce-a373-d540f8177edf',\n",
       "  'created_time': '2024-08-12T16:58:00.000Z',\n",
       "  'last_edited_time': '2024-08-12T16:59:00.000Z',\n",
       "  'created_by': {'object': 'user',\n",
       "   'id': '074559e7-8c13-4b7a-899e-4012f06d6320'},\n",
       "  'last_edited_by': {'object': 'user',\n",
       "   'id': '074559e7-8c13-4b7a-899e-4012f06d6320'},\n",
       "  'cover': None,\n",
       "  'icon': None,\n",
       "  'parent': {'type': 'database_id',\n",
       "   'database_id': '1b71653e-3631-48e0-b2ba-399638473ced'},\n",
       "  'archived': False,\n",
       "  'in_trash': False,\n",
       "  'properties': {'Category': {'id': '/7eo',\n",
       "    'type': 'select',\n",
       "    'select': {'id': 'r\\\\pO', 'name': 'Fiction', 'color': 'default'}},\n",
       "   'Summary': {'id': '?\\\\25', 'type': 'rich_text', 'rich_text': []},\n",
       "   'cover': {'id': 'Urz>',\n",
       "    'type': 'url',\n",
       "    'url': 'http://books.google.com/books/content?id=CQGSDwAAQBAJ&printsec=frontcover&img=1&zoom=1&edge=curl&source=gbs_api'},\n",
       "   'Total pages': {'id': '\\\\?}w', 'type': 'number', 'number': 636},\n",
       "   'Date started': {'id': 'evL[',\n",
       "    'type': 'date',\n",
       "    'date': {'start': '2021-12-24', 'end': None, 'time_zone': None}},\n",
       "   'Date finished': {'id': 'flfJ',\n",
       "    'type': 'date',\n",
       "    'date': {'start': '2022-03-20', 'end': None, 'time_zone': None}},\n",
       "   'Progress': {'id': 'nviz',\n",
       "    'type': 'formula',\n",
       "    'formula': {'type': 'number', 'number': 0}},\n",
       "   'Author': {'id': 'qNw_',\n",
       "    'type': 'rich_text',\n",
       "    'rich_text': [{'type': 'text',\n",
       "      'text': {'content': 'Walter Moers', 'link': None},\n",
       "      'annotations': {'bold': False,\n",
       "       'italic': False,\n",
       "       'strikethrough': False,\n",
       "       'underline': False,\n",
       "       'code': False,\n",
       "       'color': 'default'},\n",
       "      'plain_text': 'Walter Moers',\n",
       "      'href': None}]},\n",
       "   'Status': {'id': 'qRc\\\\',\n",
       "    'type': 'status',\n",
       "    'status': {'id': '50d821ad-f638-4b79-970f-11b2ae9f8c78',\n",
       "     'name': 'done',\n",
       "     'color': 'green'}},\n",
       "   'Title': {'id': 'title',\n",
       "    'type': 'title',\n",
       "    'title': [{'type': 'text',\n",
       "      'text': {'content': \"Die 13 1/2 Leben des Käpt'n Blaubär\", 'link': None},\n",
       "      'annotations': {'bold': False,\n",
       "       'italic': False,\n",
       "       'strikethrough': False,\n",
       "       'underline': False,\n",
       "       'code': False,\n",
       "       'color': 'default'},\n",
       "      'plain_text': \"Die 13 1/2 Leben des Käpt'n Blaubär\",\n",
       "      'href': None}]}},\n",
       "  'url': 'https://www.notion.so/Die-13-1-2-Leben-des-K-pt-n-Blaub-r-7311a8f08e7446cea373d540f8177edf',\n",
       "  'public_url': None},\n",
       " {'object': 'page',\n",
       "  'id': 'db078682-5f75-4dd7-a49a-a3e908a68bbf',\n",
       "  'created_time': '2024-08-12T16:58:00.000Z',\n",
       "  'last_edited_time': '2024-08-12T16:59:00.000Z',\n",
       "  'created_by': {'object': 'user',\n",
       "   'id': '074559e7-8c13-4b7a-899e-4012f06d6320'},\n",
       "  'last_edited_by': {'object': 'user',\n",
       "   'id': '074559e7-8c13-4b7a-899e-4012f06d6320'},\n",
       "  'cover': None,\n",
       "  'icon': None,\n",
       "  'parent': {'type': 'database_id',\n",
       "   'database_id': '1b71653e-3631-48e0-b2ba-399638473ced'},\n",
       "  'archived': False,\n",
       "  'in_trash': False,\n",
       "  'properties': {'Category': {'id': '/7eo',\n",
       "    'type': 'select',\n",
       "    'select': {'id': 'r\\\\pO', 'name': 'Fiction', 'color': 'default'}},\n",
       "   'Summary': {'id': '?\\\\25', 'type': 'rich_text', 'rich_text': []},\n",
       "   'cover': {'id': 'Urz>',\n",
       "    'type': 'url',\n",
       "    'url': 'http://books.google.com/books/content?id=37N-DwAAQBAJ&printsec=frontcover&img=1&zoom=1&edge=curl&source=gbs_api'},\n",
       "   'Total pages': {'id': '\\\\?}w', 'type': 'number', 'number': 473},\n",
       "   'Date started': {'id': 'evL[',\n",
       "    'type': 'date',\n",
       "    'date': {'start': '2022-03-20', 'end': None, 'time_zone': None}},\n",
       "   'Date finished': {'id': 'flfJ',\n",
       "    'type': 'date',\n",
       "    'date': {'start': '2022-07-12', 'end': None, 'time_zone': None}},\n",
       "   'Progress': {'id': 'nviz',\n",
       "    'type': 'formula',\n",
       "    'formula': {'type': 'number', 'number': 0}},\n",
       "   'Author': {'id': 'qNw_',\n",
       "    'type': 'rich_text',\n",
       "    'rich_text': [{'type': 'text',\n",
       "      'text': {'content': 'Philippe Lançon', 'link': None},\n",
       "      'annotations': {'bold': False,\n",
       "       'italic': False,\n",
       "       'strikethrough': False,\n",
       "       'underline': False,\n",
       "       'code': False,\n",
       "       'color': 'default'},\n",
       "      'plain_text': 'Philippe Lançon',\n",
       "      'href': None}]},\n",
       "   'Status': {'id': 'qRc\\\\',\n",
       "    'type': 'status',\n",
       "    'status': {'id': '50d821ad-f638-4b79-970f-11b2ae9f8c78',\n",
       "     'name': 'done',\n",
       "     'color': 'green'}},\n",
       "   'Title': {'id': 'title',\n",
       "    'type': 'title',\n",
       "    'title': [{'type': 'text',\n",
       "      'text': {'content': 'Der Fetzen', 'link': None},\n",
       "      'annotations': {'bold': False,\n",
       "       'italic': False,\n",
       "       'strikethrough': False,\n",
       "       'underline': False,\n",
       "       'code': False,\n",
       "       'color': 'default'},\n",
       "      'plain_text': 'Der Fetzen',\n",
       "      'href': None}]}},\n",
       "  'url': 'https://www.notion.so/Der-Fetzen-db0786825f754dd7a49aa3e908a68bbf',\n",
       "  'public_url': None},\n",
       " {'object': 'page',\n",
       "  'id': '63a9c352-68c1-4283-9725-486094ebc0d9',\n",
       "  'created_time': '2024-08-12T16:58:00.000Z',\n",
       "  'last_edited_time': '2024-08-12T16:59:00.000Z',\n",
       "  'created_by': {'object': 'user',\n",
       "   'id': '074559e7-8c13-4b7a-899e-4012f06d6320'},\n",
       "  'last_edited_by': {'object': 'user',\n",
       "   'id': '074559e7-8c13-4b7a-899e-4012f06d6320'},\n",
       "  'cover': None,\n",
       "  'icon': None,\n",
       "  'parent': {'type': 'database_id',\n",
       "   'database_id': '1b71653e-3631-48e0-b2ba-399638473ced'},\n",
       "  'archived': False,\n",
       "  'in_trash': False,\n",
       "  'properties': {'Summary': {'id': '?\\\\25',\n",
       "    'type': 'rich_text',\n",
       "    'rich_text': []},\n",
       "   'Total pages': {'id': '\\\\?}w', 'type': 'number', 'number': 352},\n",
       "   'Date started': {'id': 'evL[',\n",
       "    'type': 'date',\n",
       "    'date': {'start': '2021-09-04', 'end': None, 'time_zone': None}},\n",
       "   'Date finished': {'id': 'flfJ',\n",
       "    'type': 'date',\n",
       "    'date': {'start': '2021-12-22', 'end': None, 'time_zone': None}},\n",
       "   'Progress': {'id': 'nviz',\n",
       "    'type': 'formula',\n",
       "    'formula': {'type': 'number', 'number': 0}},\n",
       "   'Author': {'id': 'qNw_',\n",
       "    'type': 'rich_text',\n",
       "    'rich_text': [{'type': 'text',\n",
       "      'text': {'content': 'J. R. R. Tolkien', 'link': None},\n",
       "      'annotations': {'bold': False,\n",
       "       'italic': False,\n",
       "       'strikethrough': False,\n",
       "       'underline': False,\n",
       "       'code': False,\n",
       "       'color': 'default'},\n",
       "      'plain_text': 'J. R. R. Tolkien',\n",
       "      'href': None}]},\n",
       "   'Status': {'id': 'qRc\\\\',\n",
       "    'type': 'status',\n",
       "    'status': {'id': '50d821ad-f638-4b79-970f-11b2ae9f8c78',\n",
       "     'name': 'done',\n",
       "     'color': 'green'}},\n",
       "   'Title': {'id': 'title',\n",
       "    'type': 'title',\n",
       "    'title': [{'type': 'text',\n",
       "      'text': {'content': 'Der Fall von Gondolin', 'link': None},\n",
       "      'annotations': {'bold': False,\n",
       "       'italic': False,\n",
       "       'strikethrough': False,\n",
       "       'underline': False,\n",
       "       'code': False,\n",
       "       'color': 'default'},\n",
       "      'plain_text': 'Der Fall von Gondolin',\n",
       "      'href': None}]}},\n",
       "  'url': 'https://www.notion.so/Der-Fall-von-Gondolin-63a9c35268c142839725486094ebc0d9',\n",
       "  'public_url': None},\n",
       " {'object': 'page',\n",
       "  'id': 'b1b609b5-c3a1-4d99-97da-5c18a44b1062',\n",
       "  'created_time': '2024-08-12T16:58:00.000Z',\n",
       "  'last_edited_time': '2024-08-12T16:59:00.000Z',\n",
       "  'created_by': {'object': 'user',\n",
       "   'id': '074559e7-8c13-4b7a-899e-4012f06d6320'},\n",
       "  'last_edited_by': {'object': 'user',\n",
       "   'id': '074559e7-8c13-4b7a-899e-4012f06d6320'},\n",
       "  'cover': None,\n",
       "  'icon': None,\n",
       "  'parent': {'type': 'database_id',\n",
       "   'database_id': '1b71653e-3631-48e0-b2ba-399638473ced'},\n",
       "  'archived': False,\n",
       "  'in_trash': False,\n",
       "  'properties': {'Summary': {'id': '?\\\\25',\n",
       "    'type': 'rich_text',\n",
       "    'rich_text': []},\n",
       "   'cover': {'id': 'Urz>',\n",
       "    'type': 'url',\n",
       "    'url': 'http://books.google.com/books/content?id=mpW2DwAAQBAJ&printsec=frontcover&img=1&zoom=1&edge=curl&source=gbs_api'},\n",
       "   'Total pages': {'id': '\\\\?}w', 'type': 'number', 'number': 201},\n",
       "   'Date started': {'id': 'evL[',\n",
       "    'type': 'date',\n",
       "    'date': {'start': '2024-03-16', 'end': None, 'time_zone': None}},\n",
       "   'Date finished': {'id': 'flfJ',\n",
       "    'type': 'date',\n",
       "    'date': {'start': '2024-03-23', 'end': None, 'time_zone': None}},\n",
       "   'Progress': {'id': 'nviz',\n",
       "    'type': 'formula',\n",
       "    'formula': {'type': 'number', 'number': 0}},\n",
       "   'Author': {'id': 'qNw_',\n",
       "    'type': 'rich_text',\n",
       "    'rich_text': [{'type': 'text',\n",
       "      'text': {'content': 'Benjamín Labatut', 'link': None},\n",
       "      'annotations': {'bold': False,\n",
       "       'italic': False,\n",
       "       'strikethrough': False,\n",
       "       'underline': False,\n",
       "       'code': False,\n",
       "       'color': 'default'},\n",
       "      'plain_text': 'Benjamín Labatut',\n",
       "      'href': None}]},\n",
       "   'Status': {'id': 'qRc\\\\',\n",
       "    'type': 'status',\n",
       "    'status': {'id': '50d821ad-f638-4b79-970f-11b2ae9f8c78',\n",
       "     'name': 'done',\n",
       "     'color': 'green'}},\n",
       "   'Title': {'id': 'title',\n",
       "    'type': 'title',\n",
       "    'title': [{'type': 'text',\n",
       "      'text': {'content': 'Das blinde Licht', 'link': None},\n",
       "      'annotations': {'bold': False,\n",
       "       'italic': False,\n",
       "       'strikethrough': False,\n",
       "       'underline': False,\n",
       "       'code': False,\n",
       "       'color': 'default'},\n",
       "      'plain_text': 'Das blinde Licht',\n",
       "      'href': None}]}},\n",
       "  'url': 'https://www.notion.so/Das-blinde-Licht-b1b609b5c3a14d9997da5c18a44b1062',\n",
       "  'public_url': None},\n",
       " {'object': 'page',\n",
       "  'id': 'be275d35-4b97-4808-b6bc-692026b0580f',\n",
       "  'created_time': '2024-08-12T16:58:00.000Z',\n",
       "  'last_edited_time': '2024-08-12T16:59:00.000Z',\n",
       "  'created_by': {'object': 'user',\n",
       "   'id': '074559e7-8c13-4b7a-899e-4012f06d6320'},\n",
       "  'last_edited_by': {'object': 'user',\n",
       "   'id': '074559e7-8c13-4b7a-899e-4012f06d6320'},\n",
       "  'cover': None,\n",
       "  'icon': None,\n",
       "  'parent': {'type': 'database_id',\n",
       "   'database_id': '1b71653e-3631-48e0-b2ba-399638473ced'},\n",
       "  'archived': False,\n",
       "  'in_trash': False,\n",
       "  'properties': {'Summary': {'id': '?\\\\25',\n",
       "    'type': 'rich_text',\n",
       "    'rich_text': []},\n",
       "   'cover': {'id': 'Urz>',\n",
       "    'type': 'url',\n",
       "    'url': 'http://books.google.com/books/content?id=JOIrEAAAQBAJ&printsec=frontcover&img=1&zoom=1&edge=curl&source=gbs_api'},\n",
       "   'Total pages': {'id': '\\\\?}w', 'type': 'number', 'number': 252},\n",
       "   'Date started': {'id': 'evL[',\n",
       "    'type': 'date',\n",
       "    'date': {'start': '2024-03-27', 'end': None, 'time_zone': None}},\n",
       "   'Date finished': {'id': 'flfJ',\n",
       "    'type': 'date',\n",
       "    'date': {'start': '2024-04-07', 'end': None, 'time_zone': None}},\n",
       "   'Progress': {'id': 'nviz',\n",
       "    'type': 'formula',\n",
       "    'formula': {'type': 'number', 'number': 0}},\n",
       "   'Author': {'id': 'qNw_',\n",
       "    'type': 'rich_text',\n",
       "    'rich_text': [{'type': 'text',\n",
       "      'text': {'content': 'Tobias Hürter', 'link': None},\n",
       "      'annotations': {'bold': False,\n",
       "       'italic': False,\n",
       "       'strikethrough': False,\n",
       "       'underline': False,\n",
       "       'code': False,\n",
       "       'color': 'default'},\n",
       "      'plain_text': 'Tobias Hürter',\n",
       "      'href': None}]},\n",
       "   'Status': {'id': 'qRc\\\\',\n",
       "    'type': 'status',\n",
       "    'status': {'id': '50d821ad-f638-4b79-970f-11b2ae9f8c78',\n",
       "     'name': 'done',\n",
       "     'color': 'green'}},\n",
       "   'Title': {'id': 'title',\n",
       "    'type': 'title',\n",
       "    'title': [{'type': 'text',\n",
       "      'text': {'content': 'Das Zeitalter der Unschärfe', 'link': None},\n",
       "      'annotations': {'bold': False,\n",
       "       'italic': False,\n",
       "       'strikethrough': False,\n",
       "       'underline': False,\n",
       "       'code': False,\n",
       "       'color': 'default'},\n",
       "      'plain_text': 'Das Zeitalter der Unschärfe',\n",
       "      'href': None}]}},\n",
       "  'url': 'https://www.notion.so/Das-Zeitalter-der-Unsch-rfe-be275d354b974808b6bc692026b0580f',\n",
       "  'public_url': None},\n",
       " {'object': 'page',\n",
       "  'id': '51cc5bc0-c3e4-4c9b-91ba-dde5a917d4e6',\n",
       "  'created_time': '2024-08-12T16:58:00.000Z',\n",
       "  'last_edited_time': '2024-08-12T16:59:00.000Z',\n",
       "  'created_by': {'object': 'user',\n",
       "   'id': '074559e7-8c13-4b7a-899e-4012f06d6320'},\n",
       "  'last_edited_by': {'object': 'user',\n",
       "   'id': '074559e7-8c13-4b7a-899e-4012f06d6320'},\n",
       "  'cover': None,\n",
       "  'icon': None,\n",
       "  'parent': {'type': 'database_id',\n",
       "   'database_id': '1b71653e-3631-48e0-b2ba-399638473ced'},\n",
       "  'archived': False,\n",
       "  'in_trash': False,\n",
       "  'properties': {'Summary': {'id': '?\\\\25',\n",
       "    'type': 'rich_text',\n",
       "    'rich_text': []},\n",
       "   'cover': {'id': 'Urz>',\n",
       "    'type': 'url',\n",
       "    'url': 'http://books.google.com/books/content?id=OcvWPQAACAAJ&printsec=frontcover&img=1&zoom=1&source=gbs_api'},\n",
       "   'Total pages': {'id': '\\\\?}w', 'type': 'number', 'number': 262},\n",
       "   'Date started': {'id': 'evL[',\n",
       "    'type': 'date',\n",
       "    'date': {'start': '2024-01-18', 'end': None, 'time_zone': None}},\n",
       "   'Date finished': {'id': 'flfJ',\n",
       "    'type': 'date',\n",
       "    'date': {'start': '2024-03-15', 'end': None, 'time_zone': None}},\n",
       "   'Progress': {'id': 'nviz',\n",
       "    'type': 'formula',\n",
       "    'formula': {'type': 'number', 'number': 0}},\n",
       "   'Author': {'id': 'qNw_',\n",
       "    'type': 'rich_text',\n",
       "    'rich_text': [{'type': 'text',\n",
       "      'text': {'content': 'Stephen W. Hawking', 'link': None},\n",
       "      'annotations': {'bold': False,\n",
       "       'italic': False,\n",
       "       'strikethrough': False,\n",
       "       'underline': False,\n",
       "       'code': False,\n",
       "       'color': 'default'},\n",
       "      'plain_text': 'Stephen W. Hawking',\n",
       "      'href': None}]},\n",
       "   'Status': {'id': 'qRc\\\\',\n",
       "    'type': 'status',\n",
       "    'status': {'id': '50d821ad-f638-4b79-970f-11b2ae9f8c78',\n",
       "     'name': 'done',\n",
       "     'color': 'green'}},\n",
       "   'Title': {'id': 'title',\n",
       "    'type': 'title',\n",
       "    'title': [{'type': 'text',\n",
       "      'text': {'content': 'Das Universum in der Nussschale', 'link': None},\n",
       "      'annotations': {'bold': False,\n",
       "       'italic': False,\n",
       "       'strikethrough': False,\n",
       "       'underline': False,\n",
       "       'code': False,\n",
       "       'color': 'default'},\n",
       "      'plain_text': 'Das Universum in der Nussschale',\n",
       "      'href': None}]}},\n",
       "  'url': 'https://www.notion.so/Das-Universum-in-der-Nussschale-51cc5bc0c3e44c9b91badde5a917d4e6',\n",
       "  'public_url': None},\n",
       " {'object': 'page',\n",
       "  'id': '2cbae51e-d985-4b0e-a7ce-cd732c5af652',\n",
       "  'created_time': '2024-08-12T16:58:00.000Z',\n",
       "  'last_edited_time': '2024-08-12T16:59:00.000Z',\n",
       "  'created_by': {'object': 'user',\n",
       "   'id': '074559e7-8c13-4b7a-899e-4012f06d6320'},\n",
       "  'last_edited_by': {'object': 'user',\n",
       "   'id': '074559e7-8c13-4b7a-899e-4012f06d6320'},\n",
       "  'cover': None,\n",
       "  'icon': None,\n",
       "  'parent': {'type': 'database_id',\n",
       "   'database_id': '1b71653e-3631-48e0-b2ba-399638473ced'},\n",
       "  'archived': False,\n",
       "  'in_trash': False,\n",
       "  'properties': {'Category': {'id': '/7eo',\n",
       "    'type': 'select',\n",
       "    'select': {'id': 'r\\\\pO', 'name': 'Fiction', 'color': 'default'}},\n",
       "   'Summary': {'id': '?\\\\25', 'type': 'rich_text', 'rich_text': []},\n",
       "   'cover': {'id': 'Urz>',\n",
       "    'type': 'url',\n",
       "    'url': 'http://books.google.com/books/content?id=KpLpyx_lFqkC&printsec=frontcover&img=1&zoom=1&edge=curl&source=gbs_api'},\n",
       "   'Total pages': {'id': '\\\\?}w', 'type': 'number', 'number': 566},\n",
       "   'Date started': {'id': 'evL[',\n",
       "    'type': 'date',\n",
       "    'date': {'start': '2020-08-01', 'end': None, 'time_zone': None}},\n",
       "   'Date finished': {'id': 'flfJ',\n",
       "    'type': 'date',\n",
       "    'date': {'start': '2020-12-25', 'end': None, 'time_zone': None}},\n",
       "   'Progress': {'id': 'nviz',\n",
       "    'type': 'formula',\n",
       "    'formula': {'type': 'number', 'number': 0}},\n",
       "   'Author': {'id': 'qNw_',\n",
       "    'type': 'rich_text',\n",
       "    'rich_text': [{'type': 'text',\n",
       "      'text': {'content': 'J.R.R. Tolkien', 'link': None},\n",
       "      'annotations': {'bold': False,\n",
       "       'italic': False,\n",
       "       'strikethrough': False,\n",
       "       'underline': False,\n",
       "       'code': False,\n",
       "       'color': 'default'},\n",
       "      'plain_text': 'J.R.R. Tolkien',\n",
       "      'href': None}]},\n",
       "   'Status': {'id': 'qRc\\\\',\n",
       "    'type': 'status',\n",
       "    'status': {'id': '50d821ad-f638-4b79-970f-11b2ae9f8c78',\n",
       "     'name': 'done',\n",
       "     'color': 'green'}},\n",
       "   'Title': {'id': 'title',\n",
       "    'type': 'title',\n",
       "    'title': [{'type': 'text',\n",
       "      'text': {'content': 'Das Silmarillion', 'link': None},\n",
       "      'annotations': {'bold': False,\n",
       "       'italic': False,\n",
       "       'strikethrough': False,\n",
       "       'underline': False,\n",
       "       'code': False,\n",
       "       'color': 'default'},\n",
       "      'plain_text': 'Das Silmarillion',\n",
       "      'href': None}]}},\n",
       "  'url': 'https://www.notion.so/Das-Silmarillion-2cbae51ed9854b0ea7cecd732c5af652',\n",
       "  'public_url': None},\n",
       " {'object': 'page',\n",
       "  'id': 'c0477872-6e23-4eee-b244-482e5c326ae7',\n",
       "  'created_time': '2024-08-12T16:58:00.000Z',\n",
       "  'last_edited_time': '2024-08-12T16:59:00.000Z',\n",
       "  'created_by': {'object': 'user',\n",
       "   'id': '074559e7-8c13-4b7a-899e-4012f06d6320'},\n",
       "  'last_edited_by': {'object': 'user',\n",
       "   'id': '074559e7-8c13-4b7a-899e-4012f06d6320'},\n",
       "  'cover': None,\n",
       "  'icon': None,\n",
       "  'parent': {'type': 'database_id',\n",
       "   'database_id': '1b71653e-3631-48e0-b2ba-399638473ced'},\n",
       "  'archived': False,\n",
       "  'in_trash': False,\n",
       "  'properties': {'Category': {'id': '/7eo',\n",
       "    'type': 'select',\n",
       "    'select': {'id': 'r\\\\pO', 'name': 'Fiction', 'color': 'default'}},\n",
       "   'Summary': {'id': '?\\\\25', 'type': 'rich_text', 'rich_text': []},\n",
       "   'cover': {'id': 'Urz>',\n",
       "    'type': 'url',\n",
       "    'url': 'http://books.google.com/books/content?id=eBC7DwAAQBAJ&printsec=frontcover&img=1&zoom=1&edge=curl&source=gbs_api'},\n",
       "   'Total pages': {'id': '\\\\?}w', 'type': 'number', 'number': 393},\n",
       "   'Date started': {'id': 'evL[',\n",
       "    'type': 'date',\n",
       "    'date': {'start': '2022-08-18', 'end': None, 'time_zone': None}},\n",
       "   'Date finished': {'id': 'flfJ',\n",
       "    'type': 'date',\n",
       "    'date': {'start': '2022-09-09', 'end': None, 'time_zone': None}},\n",
       "   'Progress': {'id': 'nviz',\n",
       "    'type': 'formula',\n",
       "    'formula': {'type': 'number', 'number': 0}},\n",
       "   'Author': {'id': 'qNw_',\n",
       "    'type': 'rich_text',\n",
       "    'rich_text': [{'type': 'text',\n",
       "      'text': {'content': 'Madeline Miller', 'link': None},\n",
       "      'annotations': {'bold': False,\n",
       "       'italic': False,\n",
       "       'strikethrough': False,\n",
       "       'underline': False,\n",
       "       'code': False,\n",
       "       'color': 'default'},\n",
       "      'plain_text': 'Madeline Miller',\n",
       "      'href': None}]},\n",
       "   'Status': {'id': 'qRc\\\\',\n",
       "    'type': 'status',\n",
       "    'status': {'id': '50d821ad-f638-4b79-970f-11b2ae9f8c78',\n",
       "     'name': 'done',\n",
       "     'color': 'green'}},\n",
       "   'Title': {'id': 'title',\n",
       "    'type': 'title',\n",
       "    'title': [{'type': 'text',\n",
       "      'text': {'content': 'Das Lied des Achill', 'link': None},\n",
       "      'annotations': {'bold': False,\n",
       "       'italic': False,\n",
       "       'strikethrough': False,\n",
       "       'underline': False,\n",
       "       'code': False,\n",
       "       'color': 'default'},\n",
       "      'plain_text': 'Das Lied des Achill',\n",
       "      'href': None}]}},\n",
       "  'url': 'https://www.notion.so/Das-Lied-des-Achill-c04778726e234eeeb244482e5c326ae7',\n",
       "  'public_url': None},\n",
       " {'object': 'page',\n",
       "  'id': '3fe28c43-58dc-4186-903a-f8feda334b4d',\n",
       "  'created_time': '2024-08-12T16:58:00.000Z',\n",
       "  'last_edited_time': '2024-08-12T16:59:00.000Z',\n",
       "  'created_by': {'object': 'user',\n",
       "   'id': '074559e7-8c13-4b7a-899e-4012f06d6320'},\n",
       "  'last_edited_by': {'object': 'user',\n",
       "   'id': '074559e7-8c13-4b7a-899e-4012f06d6320'},\n",
       "  'cover': None,\n",
       "  'icon': None,\n",
       "  'parent': {'type': 'database_id',\n",
       "   'database_id': '1b71653e-3631-48e0-b2ba-399638473ced'},\n",
       "  'archived': False,\n",
       "  'in_trash': False,\n",
       "  'properties': {'Summary': {'id': '?\\\\25',\n",
       "    'type': 'rich_text',\n",
       "    'rich_text': []},\n",
       "   'cover': {'id': 'Urz>',\n",
       "    'type': 'url',\n",
       "    'url': 'http://books.google.com/books/content?id=MMsfjgEACAAJ&printsec=frontcover&img=1&zoom=1&source=gbs_api'},\n",
       "   'Total pages': {'id': '\\\\?}w', 'type': 'number', 'number': 1856},\n",
       "   'Date started': {'id': 'evL[',\n",
       "    'type': 'date',\n",
       "    'date': {'start': '2021-04-01', 'end': None, 'time_zone': None}},\n",
       "   'Progress': {'id': 'nviz',\n",
       "    'type': 'formula',\n",
       "    'formula': {'type': 'number', 'number': 0}},\n",
       "   'Author': {'id': 'qNw_',\n",
       "    'type': 'rich_text',\n",
       "    'rich_text': [{'type': 'text',\n",
       "      'text': {'content': 'Neil A. Campbell, Jane B. Reece, Lisa A. Urry, Michael L. Cain, Steven A. Wasserman, Peter V. Minorsky, Robert B. Jackson',\n",
       "       'link': None},\n",
       "      'annotations': {'bold': False,\n",
       "       'italic': False,\n",
       "       'strikethrough': False,\n",
       "       'underline': False,\n",
       "       'code': False,\n",
       "       'color': 'default'},\n",
       "      'plain_text': 'Neil A. Campbell, Jane B. Reece, Lisa A. Urry, Michael L. Cain, Steven A. Wasserman, Peter V. Minorsky, Robert B. Jackson',\n",
       "      'href': None}]},\n",
       "   'Status': {'id': 'qRc\\\\',\n",
       "    'type': 'status',\n",
       "    'status': {'id': '50d821ad-f638-4b79-970f-11b2ae9f8c78',\n",
       "     'name': 'done',\n",
       "     'color': 'green'}},\n",
       "   'Title': {'id': 'title',\n",
       "    'type': 'title',\n",
       "    'title': [{'type': 'text',\n",
       "      'text': {'content': 'Campbell Biologie', 'link': None},\n",
       "      'annotations': {'bold': False,\n",
       "       'italic': False,\n",
       "       'strikethrough': False,\n",
       "       'underline': False,\n",
       "       'code': False,\n",
       "       'color': 'default'},\n",
       "      'plain_text': 'Campbell Biologie',\n",
       "      'href': None}]}},\n",
       "  'url': 'https://www.notion.so/Campbell-Biologie-3fe28c4358dc4186903af8feda334b4d',\n",
       "  'public_url': None},\n",
       " {'object': 'page',\n",
       "  'id': '5914c658-97ec-4ea8-bdff-8168ff77c55f',\n",
       "  'created_time': '2024-08-12T16:58:00.000Z',\n",
       "  'last_edited_time': '2024-08-12T16:59:00.000Z',\n",
       "  'created_by': {'object': 'user',\n",
       "   'id': '074559e7-8c13-4b7a-899e-4012f06d6320'},\n",
       "  'last_edited_by': {'object': 'user',\n",
       "   'id': '074559e7-8c13-4b7a-899e-4012f06d6320'},\n",
       "  'cover': None,\n",
       "  'icon': None,\n",
       "  'parent': {'type': 'database_id',\n",
       "   'database_id': '1b71653e-3631-48e0-b2ba-399638473ced'},\n",
       "  'archived': False,\n",
       "  'in_trash': False,\n",
       "  'properties': {'Summary': {'id': '?\\\\25',\n",
       "    'type': 'rich_text',\n",
       "    'rich_text': []},\n",
       "   'cover': {'id': 'Urz>',\n",
       "    'type': 'url',\n",
       "    'url': 'http://books.google.com/books/content?id=B3VZDwAAQBAJ&printsec=frontcover&img=1&zoom=1&edge=curl&source=gbs_api'},\n",
       "   'Total pages': {'id': '\\\\?}w', 'type': 'number', 'number': 381},\n",
       "   'Date started': {'id': 'evL[',\n",
       "    'type': 'date',\n",
       "    'date': {'start': '2023-10-31', 'end': None, 'time_zone': None}},\n",
       "   'Date finished': {'id': 'flfJ',\n",
       "    'type': 'date',\n",
       "    'date': {'start': '2023-11-14', 'end': None, 'time_zone': None}},\n",
       "   'Progress': {'id': 'nviz',\n",
       "    'type': 'formula',\n",
       "    'formula': {'type': 'number', 'number': 0}},\n",
       "   'Author': {'id': 'qNw_',\n",
       "    'type': 'rich_text',\n",
       "    'rich_text': [{'type': 'text',\n",
       "      'text': {'content': 'David Graeber', 'link': None},\n",
       "      'annotations': {'bold': False,\n",
       "       'italic': False,\n",
       "       'strikethrough': False,\n",
       "       'underline': False,\n",
       "       'code': False,\n",
       "       'color': 'default'},\n",
       "      'plain_text': 'David Graeber',\n",
       "      'href': None}]},\n",
       "   'Status': {'id': 'qRc\\\\',\n",
       "    'type': 'status',\n",
       "    'status': {'id': '50d821ad-f638-4b79-970f-11b2ae9f8c78',\n",
       "     'name': 'done',\n",
       "     'color': 'green'}},\n",
       "   'Title': {'id': 'title',\n",
       "    'type': 'title',\n",
       "    'title': [{'type': 'text',\n",
       "      'text': {'content': 'Bullshit Jobs', 'link': None},\n",
       "      'annotations': {'bold': False,\n",
       "       'italic': False,\n",
       "       'strikethrough': False,\n",
       "       'underline': False,\n",
       "       'code': False,\n",
       "       'color': 'default'},\n",
       "      'plain_text': 'Bullshit Jobs',\n",
       "      'href': None}]}},\n",
       "  'url': 'https://www.notion.so/Bullshit-Jobs-5914c65897ec4ea8bdff8168ff77c55f',\n",
       "  'public_url': None},\n",
       " {'object': 'page',\n",
       "  'id': 'cdd56001-9119-4659-8f5a-95b48140ba8c',\n",
       "  'created_time': '2024-08-12T16:58:00.000Z',\n",
       "  'last_edited_time': '2024-08-12T16:59:00.000Z',\n",
       "  'created_by': {'object': 'user',\n",
       "   'id': '074559e7-8c13-4b7a-899e-4012f06d6320'},\n",
       "  'last_edited_by': {'object': 'user',\n",
       "   'id': '074559e7-8c13-4b7a-899e-4012f06d6320'},\n",
       "  'cover': None,\n",
       "  'icon': None,\n",
       "  'parent': {'type': 'database_id',\n",
       "   'database_id': '1b71653e-3631-48e0-b2ba-399638473ced'},\n",
       "  'archived': False,\n",
       "  'in_trash': False,\n",
       "  'properties': {'Category': {'id': '/7eo',\n",
       "    'type': 'select',\n",
       "    'select': {'id': 'r\\\\pO', 'name': 'Fiction', 'color': 'default'}},\n",
       "   'Summary': {'id': '?\\\\25', 'type': 'rich_text', 'rich_text': []},\n",
       "   'cover': {'id': 'Urz>',\n",
       "    'type': 'url',\n",
       "    'url': 'http://books.google.com/books/content?id=1E-WEAAAQBAJ&printsec=frontcover&img=1&zoom=1&edge=curl&source=gbs_api'},\n",
       "   'Total pages': {'id': '\\\\?}w', 'type': 'number', 'number': 212},\n",
       "   'Date started': {'id': 'evL[',\n",
       "    'type': 'date',\n",
       "    'date': {'start': '2023-05-02', 'end': None, 'time_zone': None}},\n",
       "   'Date finished': {'id': 'flfJ',\n",
       "    'type': 'date',\n",
       "    'date': {'start': '2023-06-11', 'end': None, 'time_zone': None}},\n",
       "   'Progress': {'id': 'nviz',\n",
       "    'type': 'formula',\n",
       "    'formula': {'type': 'number', 'number': 0}},\n",
       "   'Author': {'id': 'qNw_',\n",
       "    'type': 'rich_text',\n",
       "    'rich_text': [{'type': 'text',\n",
       "      'text': {'content': 'Robert Seethaler', 'link': None},\n",
       "      'annotations': {'bold': False,\n",
       "       'italic': False,\n",
       "       'strikethrough': False,\n",
       "       'underline': False,\n",
       "       'code': False,\n",
       "       'color': 'default'},\n",
       "      'plain_text': 'Robert Seethaler',\n",
       "      'href': None}]},\n",
       "   'Status': {'id': 'qRc\\\\',\n",
       "    'type': 'status',\n",
       "    'status': {'id': '50d821ad-f638-4b79-970f-11b2ae9f8c78',\n",
       "     'name': 'done',\n",
       "     'color': 'green'}},\n",
       "   'Title': {'id': 'title',\n",
       "    'type': 'title',\n",
       "    'title': [{'type': 'text',\n",
       "      'text': {'content': 'Das Café ohne Namen', 'link': None},\n",
       "      'annotations': {'bold': False,\n",
       "       'italic': False,\n",
       "       'strikethrough': False,\n",
       "       'underline': False,\n",
       "       'code': False,\n",
       "       'color': 'default'},\n",
       "      'plain_text': 'Das Café ohne Namen',\n",
       "      'href': None}]}},\n",
       "  'url': 'https://www.notion.so/Das-Caf-ohne-Namen-cdd56001911946598f5a95b48140ba8c',\n",
       "  'public_url': None},\n",
       " {'object': 'page',\n",
       "  'id': '509309c4-9918-42c6-9cb9-6a18650ec7f8',\n",
       "  'created_time': '2024-08-12T16:58:00.000Z',\n",
       "  'last_edited_time': '2024-08-12T16:59:00.000Z',\n",
       "  'created_by': {'object': 'user',\n",
       "   'id': '074559e7-8c13-4b7a-899e-4012f06d6320'},\n",
       "  'last_edited_by': {'object': 'user',\n",
       "   'id': '074559e7-8c13-4b7a-899e-4012f06d6320'},\n",
       "  'cover': None,\n",
       "  'icon': None,\n",
       "  'parent': {'type': 'database_id',\n",
       "   'database_id': '1b71653e-3631-48e0-b2ba-399638473ced'},\n",
       "  'archived': False,\n",
       "  'in_trash': False,\n",
       "  'properties': {'Category': {'id': '/7eo',\n",
       "    'type': 'select',\n",
       "    'select': {'id': 'r\\\\pO', 'name': 'Fiction', 'color': 'default'}},\n",
       "   'Summary': {'id': '?\\\\25', 'type': 'rich_text', 'rich_text': []},\n",
       "   'cover': {'id': 'Urz>',\n",
       "    'type': 'url',\n",
       "    'url': 'http://books.google.com/books/content?id=gmlIDQAAQBAJ&printsec=frontcover&img=1&zoom=1&edge=curl&source=gbs_api'},\n",
       "   'Total pages': {'id': '\\\\?}w', 'type': 'number', 'number': 242},\n",
       "   'Date started': {'id': 'evL[',\n",
       "    'type': 'date',\n",
       "    'date': {'start': '2021-03-13', 'end': None, 'time_zone': None}},\n",
       "   'Date finished': {'id': 'flfJ',\n",
       "    'type': 'date',\n",
       "    'date': {'start': '2021-08-25', 'end': None, 'time_zone': None}},\n",
       "   'Progress': {'id': 'nviz',\n",
       "    'type': 'formula',\n",
       "    'formula': {'type': 'number', 'number': 0}},\n",
       "   'Author': {'id': 'qNw_',\n",
       "    'type': 'rich_text',\n",
       "    'rich_text': [{'type': 'text',\n",
       "      'text': {'content': 'J. R. R. Tolkien', 'link': None},\n",
       "      'annotations': {'bold': False,\n",
       "       'italic': False,\n",
       "       'strikethrough': False,\n",
       "       'underline': False,\n",
       "       'code': False,\n",
       "       'color': 'default'},\n",
       "      'plain_text': 'J. R. R. Tolkien',\n",
       "      'href': None}]},\n",
       "   'Status': {'id': 'qRc\\\\',\n",
       "    'type': 'status',\n",
       "    'status': {'id': '50d821ad-f638-4b79-970f-11b2ae9f8c78',\n",
       "     'name': 'done',\n",
       "     'color': 'green'}},\n",
       "   'Title': {'id': 'title',\n",
       "    'type': 'title',\n",
       "    'title': [{'type': 'text',\n",
       "      'text': {'content': 'Beren and Lúthien', 'link': None},\n",
       "      'annotations': {'bold': False,\n",
       "       'italic': False,\n",
       "       'strikethrough': False,\n",
       "       'underline': False,\n",
       "       'code': False,\n",
       "       'color': 'default'},\n",
       "      'plain_text': 'Beren and Lúthien',\n",
       "      'href': None}]}},\n",
       "  'url': 'https://www.notion.so/Beren-and-L-thien-509309c4991842c69cb96a18650ec7f8',\n",
       "  'public_url': None},\n",
       " {'object': 'page',\n",
       "  'id': '71133a10-3fb5-4a8d-8f51-684672d29495',\n",
       "  'created_time': '2024-08-12T16:58:00.000Z',\n",
       "  'last_edited_time': '2024-08-12T16:59:00.000Z',\n",
       "  'created_by': {'object': 'user',\n",
       "   'id': '074559e7-8c13-4b7a-899e-4012f06d6320'},\n",
       "  'last_edited_by': {'object': 'user',\n",
       "   'id': '074559e7-8c13-4b7a-899e-4012f06d6320'},\n",
       "  'cover': None,\n",
       "  'icon': None,\n",
       "  'parent': {'type': 'database_id',\n",
       "   'database_id': '1b71653e-3631-48e0-b2ba-399638473ced'},\n",
       "  'archived': False,\n",
       "  'in_trash': False,\n",
       "  'properties': {'Summary': {'id': '?\\\\25',\n",
       "    'type': 'rich_text',\n",
       "    'rich_text': []},\n",
       "   'cover': {'id': 'Urz>',\n",
       "    'type': 'url',\n",
       "    'url': 'http://books.google.com/books/content?id=bV9ODwAAQBAJ&printsec=frontcover&img=1&zoom=1&edge=curl&source=gbs_api'},\n",
       "   'Total pages': {'id': '\\\\?}w', 'type': 'number', 'number': 560},\n",
       "   'Date started': {'id': 'evL[',\n",
       "    'type': 'date',\n",
       "    'date': {'start': '2023-01-11', 'end': None, 'time_zone': None}},\n",
       "   'Date finished': {'id': 'flfJ',\n",
       "    'type': 'date',\n",
       "    'date': {'start': '2023-02-10', 'end': None, 'time_zone': None}},\n",
       "   'Progress': {'id': 'nviz',\n",
       "    'type': 'formula',\n",
       "    'formula': {'type': 'number', 'number': 0}},\n",
       "   'Author': {'id': 'qNw_',\n",
       "    'type': 'rich_text',\n",
       "    'rich_text': [{'type': 'text',\n",
       "      'text': {'content': 'Michelle Obama', 'link': None},\n",
       "      'annotations': {'bold': False,\n",
       "       'italic': False,\n",
       "       'strikethrough': False,\n",
       "       'underline': False,\n",
       "       'code': False,\n",
       "       'color': 'default'},\n",
       "      'plain_text': 'Michelle Obama',\n",
       "      'href': None}]},\n",
       "   'Status': {'id': 'qRc\\\\',\n",
       "    'type': 'status',\n",
       "    'status': {'id': '50d821ad-f638-4b79-970f-11b2ae9f8c78',\n",
       "     'name': 'done',\n",
       "     'color': 'green'}},\n",
       "   'Title': {'id': 'title',\n",
       "    'type': 'title',\n",
       "    'title': [{'type': 'text',\n",
       "      'text': {'content': 'BECOMING', 'link': None},\n",
       "      'annotations': {'bold': False,\n",
       "       'italic': False,\n",
       "       'strikethrough': False,\n",
       "       'underline': False,\n",
       "       'code': False,\n",
       "       'color': 'default'},\n",
       "      'plain_text': 'BECOMING',\n",
       "      'href': None}]}},\n",
       "  'url': 'https://www.notion.so/BECOMING-71133a103fb54a8d8f51684672d29495',\n",
       "  'public_url': None},\n",
       " {'object': 'page',\n",
       "  'id': '3c31b37d-bcf3-4cd6-b42d-3c9405afd8fd',\n",
       "  'created_time': '2024-08-12T16:58:00.000Z',\n",
       "  'last_edited_time': '2024-08-12T16:59:00.000Z',\n",
       "  'created_by': {'object': 'user',\n",
       "   'id': '074559e7-8c13-4b7a-899e-4012f06d6320'},\n",
       "  'last_edited_by': {'object': 'user',\n",
       "   'id': '074559e7-8c13-4b7a-899e-4012f06d6320'},\n",
       "  'cover': None,\n",
       "  'icon': None,\n",
       "  'parent': {'type': 'database_id',\n",
       "   'database_id': '1b71653e-3631-48e0-b2ba-399638473ced'},\n",
       "  'archived': False,\n",
       "  'in_trash': False,\n",
       "  'properties': {'Category': {'id': '/7eo',\n",
       "    'type': 'select',\n",
       "    'select': {'id': 'kSWq', 'name': 'Self-help', 'color': 'default'}},\n",
       "   'Summary': {'id': '?\\\\25', 'type': 'rich_text', 'rich_text': []},\n",
       "   'cover': {'id': 'Urz>',\n",
       "    'type': 'url',\n",
       "    'url': 'http://books.google.com/books/content?id=fFCjDQAAQBAJ&printsec=frontcover&img=1&zoom=1&edge=curl&source=gbs_api'},\n",
       "   'Total pages': {'id': '\\\\?}w', 'type': 'number', 'number': 234},\n",
       "   'Date started': {'id': 'evL[',\n",
       "    'type': 'date',\n",
       "    'date': {'start': '2022-02-15', 'end': None, 'time_zone': None}},\n",
       "   'Date finished': {'id': 'flfJ',\n",
       "    'type': 'date',\n",
       "    'date': {'start': '2022-03-01', 'end': None, 'time_zone': None}},\n",
       "   'Progress': {'id': 'nviz',\n",
       "    'type': 'formula',\n",
       "    'formula': {'type': 'number', 'number': 0}},\n",
       "   'Author': {'id': 'qNw_',\n",
       "    'type': 'rich_text',\n",
       "    'rich_text': [{'type': 'text',\n",
       "      'text': {'content': 'James Clear', 'link': None},\n",
       "      'annotations': {'bold': False,\n",
       "       'italic': False,\n",
       "       'strikethrough': False,\n",
       "       'underline': False,\n",
       "       'code': False,\n",
       "       'color': 'default'},\n",
       "      'plain_text': 'James Clear',\n",
       "      'href': None}]},\n",
       "   'Status': {'id': 'qRc\\\\',\n",
       "    'type': 'status',\n",
       "    'status': {'id': '50d821ad-f638-4b79-970f-11b2ae9f8c78',\n",
       "     'name': 'done',\n",
       "     'color': 'green'}},\n",
       "   'Title': {'id': 'title',\n",
       "    'type': 'title',\n",
       "    'title': [{'type': 'text',\n",
       "      'text': {'content': 'Atomic Habits', 'link': None},\n",
       "      'annotations': {'bold': False,\n",
       "       'italic': False,\n",
       "       'strikethrough': False,\n",
       "       'underline': False,\n",
       "       'code': False,\n",
       "       'color': 'default'},\n",
       "      'plain_text': 'Atomic Habits',\n",
       "      'href': None}]}},\n",
       "  'url': 'https://www.notion.so/Atomic-Habits-3c31b37dbcf34cd6b42d3c9405afd8fd',\n",
       "  'public_url': None},\n",
       " {'object': 'page',\n",
       "  'id': '8a838eaa-595d-45d8-bb18-99b2246324c6',\n",
       "  'created_time': '2024-08-12T16:58:00.000Z',\n",
       "  'last_edited_time': '2024-08-12T16:59:00.000Z',\n",
       "  'created_by': {'object': 'user',\n",
       "   'id': '074559e7-8c13-4b7a-899e-4012f06d6320'},\n",
       "  'last_edited_by': {'object': 'user',\n",
       "   'id': '074559e7-8c13-4b7a-899e-4012f06d6320'},\n",
       "  'cover': None,\n",
       "  'icon': None,\n",
       "  'parent': {'type': 'database_id',\n",
       "   'database_id': '1b71653e-3631-48e0-b2ba-399638473ced'},\n",
       "  'archived': False,\n",
       "  'in_trash': False,\n",
       "  'properties': {'Summary': {'id': '?\\\\25',\n",
       "    'type': 'rich_text',\n",
       "    'rich_text': []},\n",
       "   'cover': {'id': 'Urz>',\n",
       "    'type': 'url',\n",
       "    'url': 'http://books.google.com/books/content?id=im_SYWy5pjMC&printsec=frontcover&img=1&zoom=1&edge=curl&source=gbs_api'},\n",
       "   'Total pages': {'id': '\\\\?}w', 'type': 'number', 'number': 1228},\n",
       "   'Date started': {'id': 'evL[',\n",
       "    'type': 'date',\n",
       "    'date': {'start': '2024-03-22', 'end': None, 'time_zone': None}},\n",
       "   'Progress': {'id': 'nviz',\n",
       "    'type': 'formula',\n",
       "    'formula': {'type': 'number', 'number': 0}},\n",
       "   'Author': {'id': 'qNw_',\n",
       "    'type': 'rich_text',\n",
       "    'rich_text': [{'type': 'text',\n",
       "      'text': {'content': 'Jeffrey O. Bennett', 'link': None},\n",
       "      'annotations': {'bold': False,\n",
       "       'italic': False,\n",
       "       'strikethrough': False,\n",
       "       'underline': False,\n",
       "       'code': False,\n",
       "       'color': 'default'},\n",
       "      'plain_text': 'Jeffrey O. Bennett',\n",
       "      'href': None}]},\n",
       "   'Status': {'id': 'qRc\\\\',\n",
       "    'type': 'status',\n",
       "    'status': {'id': '50d821ad-f638-4b79-970f-11b2ae9f8c78',\n",
       "     'name': 'done',\n",
       "     'color': 'green'}},\n",
       "   'Title': {'id': 'title',\n",
       "    'type': 'title',\n",
       "    'title': [{'type': 'text',\n",
       "      'text': {'content': 'Astronomie', 'link': None},\n",
       "      'annotations': {'bold': False,\n",
       "       'italic': False,\n",
       "       'strikethrough': False,\n",
       "       'underline': False,\n",
       "       'code': False,\n",
       "       'color': 'default'},\n",
       "      'plain_text': 'Astronomie',\n",
       "      'href': None}]}},\n",
       "  'url': 'https://www.notion.so/Astronomie-8a838eaa595d45d8bb1899b2246324c6',\n",
       "  'public_url': None},\n",
       " {'object': 'page',\n",
       "  'id': 'f9338061-df79-4fd3-b908-6bad63615b78',\n",
       "  'created_time': '2024-08-12T16:58:00.000Z',\n",
       "  'last_edited_time': '2024-08-12T16:59:00.000Z',\n",
       "  'created_by': {'object': 'user',\n",
       "   'id': '074559e7-8c13-4b7a-899e-4012f06d6320'},\n",
       "  'last_edited_by': {'object': 'user',\n",
       "   'id': '074559e7-8c13-4b7a-899e-4012f06d6320'},\n",
       "  'cover': None,\n",
       "  'icon': None,\n",
       "  'parent': {'type': 'database_id',\n",
       "   'database_id': '1b71653e-3631-48e0-b2ba-399638473ced'},\n",
       "  'archived': False,\n",
       "  'in_trash': False,\n",
       "  'properties': {'Summary': {'id': '?\\\\25',\n",
       "    'type': 'rich_text',\n",
       "    'rich_text': []},\n",
       "   'cover': {'id': 'Urz>',\n",
       "    'type': 'url',\n",
       "    'url': 'http://books.google.com/books/content?id=MgNLDwAAQBAJ&printsec=frontcover&img=1&zoom=1&edge=curl&source=gbs_api'},\n",
       "   'Total pages': {'id': '\\\\?}w', 'type': 'number', 'number': 661},\n",
       "   'Progress': {'id': 'nviz',\n",
       "    'type': 'formula',\n",
       "    'formula': {'type': 'number', 'number': 0}},\n",
       "   'Author': {'id': 'qNw_',\n",
       "    'type': 'rich_text',\n",
       "    'rich_text': [{'type': 'text',\n",
       "      'text': {'content': 'Jonathan Eig', 'link': None},\n",
       "      'annotations': {'bold': False,\n",
       "       'italic': False,\n",
       "       'strikethrough': False,\n",
       "       'underline': False,\n",
       "       'code': False,\n",
       "       'color': 'default'},\n",
       "      'plain_text': 'Jonathan Eig',\n",
       "      'href': None}]},\n",
       "   'Status': {'id': 'qRc\\\\',\n",
       "    'type': 'status',\n",
       "    'status': {'id': '50d821ad-f638-4b79-970f-11b2ae9f8c78',\n",
       "     'name': 'done',\n",
       "     'color': 'green'}},\n",
       "   'Title': {'id': 'title',\n",
       "    'type': 'title',\n",
       "    'title': [{'type': 'text',\n",
       "      'text': {'content': 'Ali', 'link': None},\n",
       "      'annotations': {'bold': False,\n",
       "       'italic': False,\n",
       "       'strikethrough': False,\n",
       "       'underline': False,\n",
       "       'code': False,\n",
       "       'color': 'default'},\n",
       "      'plain_text': 'Ali',\n",
       "      'href': None}]}},\n",
       "  'url': 'https://www.notion.so/Ali-f9338061df794fd3b9086bad63615b78',\n",
       "  'public_url': None},\n",
       " {'object': 'page',\n",
       "  'id': '3f8a812a-9b9a-40af-ac54-d856189e7d7c',\n",
       "  'created_time': '2024-08-12T16:58:00.000Z',\n",
       "  'last_edited_time': '2024-08-12T16:59:00.000Z',\n",
       "  'created_by': {'object': 'user',\n",
       "   'id': '074559e7-8c13-4b7a-899e-4012f06d6320'},\n",
       "  'last_edited_by': {'object': 'user',\n",
       "   'id': '074559e7-8c13-4b7a-899e-4012f06d6320'},\n",
       "  'cover': None,\n",
       "  'icon': None,\n",
       "  'parent': {'type': 'database_id',\n",
       "   'database_id': '1b71653e-3631-48e0-b2ba-399638473ced'},\n",
       "  'archived': False,\n",
       "  'in_trash': False,\n",
       "  'properties': {'Summary': {'id': '?\\\\25',\n",
       "    'type': 'rich_text',\n",
       "    'rich_text': []},\n",
       "   'cover': {'id': 'Urz>',\n",
       "    'type': 'url',\n",
       "    'url': 'http://books.google.com/books/content?id=kTpwEAAAQBAJ&printsec=frontcover&img=1&zoom=1&edge=curl&source=gbs_api'},\n",
       "   'Total pages': {'id': '\\\\?}w', 'type': 'number', 'number': 195},\n",
       "   'Date started': {'id': 'evL[',\n",
       "    'type': 'date',\n",
       "    'date': {'start': '2023-02-24', 'end': None, 'time_zone': None}},\n",
       "   'Date finished': {'id': 'flfJ',\n",
       "    'type': 'date',\n",
       "    'date': {'start': '2023-04-09', 'end': None, 'time_zone': None}},\n",
       "   'Progress': {'id': 'nviz',\n",
       "    'type': 'formula',\n",
       "    'formula': {'type': 'number', 'number': 0}},\n",
       "   'Author': {'id': 'qNw_',\n",
       "    'type': 'rich_text',\n",
       "    'rich_text': [{'type': 'text',\n",
       "      'text': {'content': 'Carlo Rovelli', 'link': None},\n",
       "      'annotations': {'bold': False,\n",
       "       'italic': False,\n",
       "       'strikethrough': False,\n",
       "       'underline': False,\n",
       "       'code': False,\n",
       "       'color': 'default'},\n",
       "      'plain_text': 'Carlo Rovelli',\n",
       "      'href': None}]},\n",
       "   'Status': {'id': 'qRc\\\\',\n",
       "    'type': 'status',\n",
       "    'status': {'id': '50d821ad-f638-4b79-970f-11b2ae9f8c78',\n",
       "     'name': 'done',\n",
       "     'color': 'green'}},\n",
       "   'Title': {'id': 'title',\n",
       "    'type': 'title',\n",
       "    'title': [{'type': 'text',\n",
       "      'text': {'content': 'Anaximander', 'link': None},\n",
       "      'annotations': {'bold': False,\n",
       "       'italic': False,\n",
       "       'strikethrough': False,\n",
       "       'underline': False,\n",
       "       'code': False,\n",
       "       'color': 'default'},\n",
       "      'plain_text': 'Anaximander',\n",
       "      'href': None}]}},\n",
       "  'url': 'https://www.notion.so/Anaximander-3f8a812a9b9a40afac54d856189e7d7c',\n",
       "  'public_url': None},\n",
       " {'object': 'page',\n",
       "  'id': 'fcfb16d9-e44e-4876-8fc0-4d1f995ffd3a',\n",
       "  'created_time': '2024-08-12T16:58:00.000Z',\n",
       "  'last_edited_time': '2024-08-12T16:59:00.000Z',\n",
       "  'created_by': {'object': 'user',\n",
       "   'id': '074559e7-8c13-4b7a-899e-4012f06d6320'},\n",
       "  'last_edited_by': {'object': 'user',\n",
       "   'id': '074559e7-8c13-4b7a-899e-4012f06d6320'},\n",
       "  'cover': None,\n",
       "  'icon': None,\n",
       "  'parent': {'type': 'database_id',\n",
       "   'database_id': '1b71653e-3631-48e0-b2ba-399638473ced'},\n",
       "  'archived': False,\n",
       "  'in_trash': False,\n",
       "  'properties': {'Category': {'id': '/7eo',\n",
       "    'type': 'select',\n",
       "    'select': {'id': 'r\\\\pO', 'name': 'Fiction', 'color': 'default'}},\n",
       "   'Summary': {'id': '?\\\\25', 'type': 'rich_text', 'rich_text': []},\n",
       "   'Total pages': {'id': '\\\\?}w', 'type': 'number', 'number': 201},\n",
       "   'Date started': {'id': 'evL[',\n",
       "    'type': 'date',\n",
       "    'date': {'start': '2023-06-11', 'end': None, 'time_zone': None}},\n",
       "   'Date finished': {'id': 'flfJ',\n",
       "    'type': 'date',\n",
       "    'date': {'start': '2023-06-16', 'end': None, 'time_zone': None}},\n",
       "   'Progress': {'id': 'nviz',\n",
       "    'type': 'formula',\n",
       "    'formula': {'type': 'number', 'number': 0}},\n",
       "   'Author': {'id': 'qNw_',\n",
       "    'type': 'rich_text',\n",
       "    'rich_text': [{'type': 'text',\n",
       "      'text': {'content': 'Annette Weber', 'link': None},\n",
       "      'annotations': {'bold': False,\n",
       "       'italic': False,\n",
       "       'strikethrough': False,\n",
       "       'underline': False,\n",
       "       'code': False,\n",
       "       'color': 'default'},\n",
       "      'plain_text': 'Annette Weber',\n",
       "      'href': None}]},\n",
       "   'Status': {'id': 'qRc\\\\',\n",
       "    'type': 'status',\n",
       "    'status': {'id': '50d821ad-f638-4b79-970f-11b2ae9f8c78',\n",
       "     'name': 'done',\n",
       "     'color': 'green'}},\n",
       "   'Title': {'id': 'title',\n",
       "    'type': 'title',\n",
       "    'title': [{'type': 'text',\n",
       "      'text': {'content': 'Annette, ein Heldinnenepos', 'link': None},\n",
       "      'annotations': {'bold': False,\n",
       "       'italic': False,\n",
       "       'strikethrough': False,\n",
       "       'underline': False,\n",
       "       'code': False,\n",
       "       'color': 'default'},\n",
       "      'plain_text': 'Annette, ein Heldinnenepos',\n",
       "      'href': None}]}},\n",
       "  'url': 'https://www.notion.so/Annette-ein-Heldinnenepos-fcfb16d9e44e48768fc04d1f995ffd3a',\n",
       "  'public_url': None},\n",
       " {'object': 'page',\n",
       "  'id': '7a403c57-5b4c-4191-b47d-775e554c489e',\n",
       "  'created_time': '2024-08-12T16:58:00.000Z',\n",
       "  'last_edited_time': '2024-08-12T16:59:00.000Z',\n",
       "  'created_by': {'object': 'user',\n",
       "   'id': '074559e7-8c13-4b7a-899e-4012f06d6320'},\n",
       "  'last_edited_by': {'object': 'user',\n",
       "   'id': '074559e7-8c13-4b7a-899e-4012f06d6320'},\n",
       "  'cover': None,\n",
       "  'icon': None,\n",
       "  'parent': {'type': 'database_id',\n",
       "   'database_id': '1b71653e-3631-48e0-b2ba-399638473ced'},\n",
       "  'archived': False,\n",
       "  'in_trash': False,\n",
       "  'properties': {'Summary': {'id': '?\\\\25',\n",
       "    'type': 'rich_text',\n",
       "    'rich_text': []},\n",
       "   'Total pages': {'id': '\\\\?}w', 'type': 'number', 'number': 0},\n",
       "   'Progress': {'id': 'nviz',\n",
       "    'type': 'formula',\n",
       "    'formula': {'type': 'string', 'string': 'Invalid Total Pages'}},\n",
       "   'Author': {'id': 'qNw_', 'type': 'rich_text', 'rich_text': []},\n",
       "   'Status': {'id': 'qRc\\\\',\n",
       "    'type': 'status',\n",
       "    'status': {'id': '50d821ad-f638-4b79-970f-11b2ae9f8c78',\n",
       "     'name': 'done',\n",
       "     'color': 'green'}},\n",
       "   'Title': {'id': 'title', 'type': 'title', 'title': []}},\n",
       "  'url': 'https://www.notion.so/7a403c575b4c4191b47d775e554c489e',\n",
       "  'public_url': None},\n",
       " {'object': 'page',\n",
       "  'id': '7cf9cf20-2260-4b6a-96e4-294a83faf7d7',\n",
       "  'created_time': '2024-08-12T16:58:00.000Z',\n",
       "  'last_edited_time': '2024-08-12T16:59:00.000Z',\n",
       "  'created_by': {'object': 'user',\n",
       "   'id': '074559e7-8c13-4b7a-899e-4012f06d6320'},\n",
       "  'last_edited_by': {'object': 'user',\n",
       "   'id': '074559e7-8c13-4b7a-899e-4012f06d6320'},\n",
       "  'cover': None,\n",
       "  'icon': None,\n",
       "  'parent': {'type': 'database_id',\n",
       "   'database_id': '1b71653e-3631-48e0-b2ba-399638473ced'},\n",
       "  'archived': False,\n",
       "  'in_trash': False,\n",
       "  'properties': {'Summary': {'id': '?\\\\25',\n",
       "    'type': 'rich_text',\n",
       "    'rich_text': []},\n",
       "   'cover': {'id': 'Urz>',\n",
       "    'type': 'url',\n",
       "    'url': 'http://books.google.com/books/content?id=dN2aEAAAQBAJ&printsec=frontcover&img=1&zoom=1&edge=curl&source=gbs_api'},\n",
       "   'Total pages': {'id': '\\\\?}w', 'type': 'number', 'number': 203},\n",
       "   'Date started': {'id': 'evL[',\n",
       "    'type': 'date',\n",
       "    'date': {'start': '2024-03-23', 'end': None, 'time_zone': None}},\n",
       "   'Date finished': {'id': 'flfJ',\n",
       "    'type': 'date',\n",
       "    'date': {'start': '2024-04-02', 'end': None, 'time_zone': None}},\n",
       "   'Progress': {'id': 'nviz',\n",
       "    'type': 'formula',\n",
       "    'formula': {'type': 'number', 'number': 0}},\n",
       "   'Author': {'id': 'qNw_',\n",
       "    'type': 'rich_text',\n",
       "    'rich_text': [{'type': 'text',\n",
       "      'text': {'content': 'Caroline Wahl', 'link': None},\n",
       "      'annotations': {'bold': False,\n",
       "       'italic': False,\n",
       "       'strikethrough': False,\n",
       "       'underline': False,\n",
       "       'code': False,\n",
       "       'color': 'default'},\n",
       "      'plain_text': 'Caroline Wahl',\n",
       "      'href': None}]},\n",
       "   'Status': {'id': 'qRc\\\\',\n",
       "    'type': 'status',\n",
       "    'status': {'id': '50d821ad-f638-4b79-970f-11b2ae9f8c78',\n",
       "     'name': 'done',\n",
       "     'color': 'green'}},\n",
       "   'Title': {'id': 'title',\n",
       "    'type': 'title',\n",
       "    'title': [{'type': 'text',\n",
       "      'text': {'content': '22 Bahnen', 'link': None},\n",
       "      'annotations': {'bold': False,\n",
       "       'italic': False,\n",
       "       'strikethrough': False,\n",
       "       'underline': False,\n",
       "       'code': False,\n",
       "       'color': 'default'},\n",
       "      'plain_text': '22 Bahnen',\n",
       "      'href': None}]}},\n",
       "  'url': 'https://www.notion.so/22-Bahnen-7cf9cf2022604b6a96e4294a83faf7d7',\n",
       "  'public_url': None}]"
      ]
     },
     "execution_count": 13,
     "metadata": {},
     "output_type": "execute_result"
    }
   ],
   "source": [
    "# dict_keys(['object', 'results', 'next_cursor', 'has_more'])\n",
    "res.get('results')"
   ]
  },
  {
   "cell_type": "markdown",
   "id": "5a622cd9",
   "metadata": {},
   "source": [
    "### Get property data"
   ]
  },
  {
   "cell_type": "code",
   "execution_count": 14,
   "id": "58458f1a",
   "metadata": {},
   "outputs": [
    {
     "name": "stdout",
     "output_type": "stream",
     "text": [
      "<class 'pandas.core.frame.DataFrame'>\n",
      "75\n"
     ]
    }
   ],
   "source": [
    "# results are in list format, this has all the items from the database, validate the number of items to make sure all items were read successfully\n",
    "results = res.get('results')\n",
    "df = pd.DataFrame([])\n",
    "print(type(df))\n",
    "print(len(list(results)))"
   ]
  },
  {
   "cell_type": "markdown",
   "id": "e2fc5da1",
   "metadata": {},
   "source": [
    "### Put data into data frame across all items in database"
   ]
  },
  {
   "cell_type": "code",
   "execution_count": 16,
   "id": "b990650b",
   "metadata": {},
   "outputs": [
    {
     "data": {
      "text/html": [
       "<div>\n",
       "<style scoped>\n",
       "    .dataframe tbody tr th:only-of-type {\n",
       "        vertical-align: middle;\n",
       "    }\n",
       "\n",
       "    .dataframe tbody tr th {\n",
       "        vertical-align: top;\n",
       "    }\n",
       "\n",
       "    .dataframe thead th {\n",
       "        text-align: right;\n",
       "    }\n",
       "</style>\n",
       "<table border=\"1\" class=\"dataframe\">\n",
       "  <thead>\n",
       "    <tr style=\"text-align: right;\">\n",
       "      <th></th>\n",
       "      <th>index</th>\n",
       "      <th>Category</th>\n",
       "      <th>Summary</th>\n",
       "      <th>Current page</th>\n",
       "      <th>Total pages</th>\n",
       "      <th>Date started</th>\n",
       "      <th>Progress</th>\n",
       "      <th>Author</th>\n",
       "      <th>Status</th>\n",
       "      <th>Title</th>\n",
       "      <th>page_url</th>\n",
       "      <th>cover</th>\n",
       "      <th>Date finished</th>\n",
       "    </tr>\n",
       "  </thead>\n",
       "  <tbody>\n",
       "    <tr>\n",
       "      <th>0</th>\n",
       "      <td>0</td>\n",
       "      <td>{'id': '/7eo', 'type': 'select', 'select': {'i...</td>\n",
       "      <td>{'id': '?\\25', 'type': 'rich_text', 'rich_text...</td>\n",
       "      <td>{'id': 'QK`M', 'type': 'number', 'number': 20}</td>\n",
       "      <td>{'id': '\\?}w', 'type': 'number', 'number': 920}</td>\n",
       "      <td>{'id': 'evL[', 'type': 'date', 'date': {'start...</td>\n",
       "      <td>{'id': 'nviz', 'type': 'formula', 'formula': {...</td>\n",
       "      <td>{'id': 'qNw_', 'type': 'rich_text', 'rich_text...</td>\n",
       "      <td>{'id': 'qRc\\', 'type': 'status', 'status': {'i...</td>\n",
       "      <td>{'id': 'title', 'type': 'title', 'title': [{'t...</td>\n",
       "      <td>https://www.notion.so/Moby-Dick-8ae970fcc5034b...</td>\n",
       "      <td>NaN</td>\n",
       "      <td>NaN</td>\n",
       "    </tr>\n",
       "    <tr>\n",
       "      <th>1</th>\n",
       "      <td>0</td>\n",
       "      <td>{'id': '/7eo', 'type': 'select', 'select': {'i...</td>\n",
       "      <td>{'id': '?\\25', 'type': 'rich_text', 'rich_text...</td>\n",
       "      <td>NaN</td>\n",
       "      <td>{'id': '\\?}w', 'type': 'number', 'number': 250}</td>\n",
       "      <td>{'id': 'evL[', 'type': 'date', 'date': {'start...</td>\n",
       "      <td>{'id': 'nviz', 'type': 'formula', 'formula': {...</td>\n",
       "      <td>{'id': 'qNw_', 'type': 'rich_text', 'rich_text...</td>\n",
       "      <td>{'id': 'qRc\\', 'type': 'status', 'status': {'i...</td>\n",
       "      <td>{'id': 'title', 'type': 'title', 'title': [{'t...</td>\n",
       "      <td>https://www.notion.so/Winterbienen-36a8bcd366d...</td>\n",
       "      <td>{'id': 'Urz&gt;', 'type': 'url', 'url': 'http://b...</td>\n",
       "      <td>{'id': 'flfJ', 'type': 'date', 'date': {'start...</td>\n",
       "    </tr>\n",
       "    <tr>\n",
       "      <th>2</th>\n",
       "      <td>0</td>\n",
       "      <td>NaN</td>\n",
       "      <td>{'id': '?\\25', 'type': 'rich_text', 'rich_text...</td>\n",
       "      <td>NaN</td>\n",
       "      <td>{'id': '\\?}w', 'type': 'number', 'number': 468}</td>\n",
       "      <td>{'id': 'evL[', 'type': 'date', 'date': {'start...</td>\n",
       "      <td>{'id': 'nviz', 'type': 'formula', 'formula': {...</td>\n",
       "      <td>{'id': 'qNw_', 'type': 'rich_text', 'rich_text...</td>\n",
       "      <td>{'id': 'qRc\\', 'type': 'status', 'status': {'i...</td>\n",
       "      <td>{'id': 'title', 'type': 'title', 'title': [{'t...</td>\n",
       "      <td>https://www.notion.so/Mythos-eb60075d9db74e36b...</td>\n",
       "      <td>{'id': 'Urz&gt;', 'type': 'url', 'url': 'http://b...</td>\n",
       "      <td>{'id': 'flfJ', 'type': 'date', 'date': {'start...</td>\n",
       "    </tr>\n",
       "    <tr>\n",
       "      <th>3</th>\n",
       "      <td>0</td>\n",
       "      <td>NaN</td>\n",
       "      <td>{'id': '?\\25', 'type': 'rich_text', 'rich_text...</td>\n",
       "      <td>NaN</td>\n",
       "      <td>{'id': '\\?}w', 'type': 'number', 'number': 320}</td>\n",
       "      <td>{'id': 'evL[', 'type': 'date', 'date': {'start...</td>\n",
       "      <td>{'id': 'nviz', 'type': 'formula', 'formula': {...</td>\n",
       "      <td>{'id': 'qNw_', 'type': 'rich_text', 'rich_text...</td>\n",
       "      <td>{'id': 'qRc\\', 'type': 'status', 'status': {'i...</td>\n",
       "      <td>{'id': 'title', 'type': 'title', 'title': [{'t...</td>\n",
       "      <td>https://www.notion.so/ber-Menschen-a044186a860...</td>\n",
       "      <td>NaN</td>\n",
       "      <td>{'id': 'flfJ', 'type': 'date', 'date': {'start...</td>\n",
       "    </tr>\n",
       "    <tr>\n",
       "      <th>4</th>\n",
       "      <td>0</td>\n",
       "      <td>NaN</td>\n",
       "      <td>{'id': '?\\25', 'type': 'rich_text', 'rich_text...</td>\n",
       "      <td>NaN</td>\n",
       "      <td>{'id': '\\?}w', 'type': 'number', 'number': 208}</td>\n",
       "      <td>{'id': 'evL[', 'type': 'date', 'date': {'start...</td>\n",
       "      <td>{'id': 'nviz', 'type': 'formula', 'formula': {...</td>\n",
       "      <td>{'id': 'qNw_', 'type': 'rich_text', 'rich_text...</td>\n",
       "      <td>{'id': 'qRc\\', 'type': 'status', 'status': {'i...</td>\n",
       "      <td>{'id': 'title', 'type': 'title', 'title': [{'t...</td>\n",
       "      <td>https://www.notion.so/Zur-See-b30e1dd1d3c64ce4...</td>\n",
       "      <td>NaN</td>\n",
       "      <td>{'id': 'flfJ', 'type': 'date', 'date': {'start...</td>\n",
       "    </tr>\n",
       "    <tr>\n",
       "      <th>...</th>\n",
       "      <td>...</td>\n",
       "      <td>...</td>\n",
       "      <td>...</td>\n",
       "      <td>...</td>\n",
       "      <td>...</td>\n",
       "      <td>...</td>\n",
       "      <td>...</td>\n",
       "      <td>...</td>\n",
       "      <td>...</td>\n",
       "      <td>...</td>\n",
       "      <td>...</td>\n",
       "      <td>...</td>\n",
       "      <td>...</td>\n",
       "    </tr>\n",
       "    <tr>\n",
       "      <th>70</th>\n",
       "      <td>0</td>\n",
       "      <td>NaN</td>\n",
       "      <td>{'id': '?\\25', 'type': 'rich_text', 'rich_text...</td>\n",
       "      <td>NaN</td>\n",
       "      <td>{'id': '\\?}w', 'type': 'number', 'number': 661}</td>\n",
       "      <td>NaN</td>\n",
       "      <td>{'id': 'nviz', 'type': 'formula', 'formula': {...</td>\n",
       "      <td>{'id': 'qNw_', 'type': 'rich_text', 'rich_text...</td>\n",
       "      <td>{'id': 'qRc\\', 'type': 'status', 'status': {'i...</td>\n",
       "      <td>{'id': 'title', 'type': 'title', 'title': [{'t...</td>\n",
       "      <td>https://www.notion.so/Ali-f9338061df794fd3b908...</td>\n",
       "      <td>{'id': 'Urz&gt;', 'type': 'url', 'url': 'http://b...</td>\n",
       "      <td>NaN</td>\n",
       "    </tr>\n",
       "    <tr>\n",
       "      <th>71</th>\n",
       "      <td>0</td>\n",
       "      <td>NaN</td>\n",
       "      <td>{'id': '?\\25', 'type': 'rich_text', 'rich_text...</td>\n",
       "      <td>NaN</td>\n",
       "      <td>{'id': '\\?}w', 'type': 'number', 'number': 195}</td>\n",
       "      <td>{'id': 'evL[', 'type': 'date', 'date': {'start...</td>\n",
       "      <td>{'id': 'nviz', 'type': 'formula', 'formula': {...</td>\n",
       "      <td>{'id': 'qNw_', 'type': 'rich_text', 'rich_text...</td>\n",
       "      <td>{'id': 'qRc\\', 'type': 'status', 'status': {'i...</td>\n",
       "      <td>{'id': 'title', 'type': 'title', 'title': [{'t...</td>\n",
       "      <td>https://www.notion.so/Anaximander-3f8a812a9b9a...</td>\n",
       "      <td>{'id': 'Urz&gt;', 'type': 'url', 'url': 'http://b...</td>\n",
       "      <td>{'id': 'flfJ', 'type': 'date', 'date': {'start...</td>\n",
       "    </tr>\n",
       "    <tr>\n",
       "      <th>72</th>\n",
       "      <td>0</td>\n",
       "      <td>{'id': '/7eo', 'type': 'select', 'select': {'i...</td>\n",
       "      <td>{'id': '?\\25', 'type': 'rich_text', 'rich_text...</td>\n",
       "      <td>NaN</td>\n",
       "      <td>{'id': '\\?}w', 'type': 'number', 'number': 201}</td>\n",
       "      <td>{'id': 'evL[', 'type': 'date', 'date': {'start...</td>\n",
       "      <td>{'id': 'nviz', 'type': 'formula', 'formula': {...</td>\n",
       "      <td>{'id': 'qNw_', 'type': 'rich_text', 'rich_text...</td>\n",
       "      <td>{'id': 'qRc\\', 'type': 'status', 'status': {'i...</td>\n",
       "      <td>{'id': 'title', 'type': 'title', 'title': [{'t...</td>\n",
       "      <td>https://www.notion.so/Annette-ein-Heldinnenepo...</td>\n",
       "      <td>NaN</td>\n",
       "      <td>{'id': 'flfJ', 'type': 'date', 'date': {'start...</td>\n",
       "    </tr>\n",
       "    <tr>\n",
       "      <th>73</th>\n",
       "      <td>0</td>\n",
       "      <td>NaN</td>\n",
       "      <td>{'id': '?\\25', 'type': 'rich_text', 'rich_text...</td>\n",
       "      <td>NaN</td>\n",
       "      <td>{'id': '\\?}w', 'type': 'number', 'number': 0}</td>\n",
       "      <td>NaN</td>\n",
       "      <td>{'id': 'nviz', 'type': 'formula', 'formula': {...</td>\n",
       "      <td>{'id': 'qNw_', 'type': 'rich_text', 'rich_text...</td>\n",
       "      <td>{'id': 'qRc\\', 'type': 'status', 'status': {'i...</td>\n",
       "      <td>{'id': 'title', 'type': 'title', 'title': []}</td>\n",
       "      <td>https://www.notion.so/7a403c575b4c4191b47d775e...</td>\n",
       "      <td>NaN</td>\n",
       "      <td>NaN</td>\n",
       "    </tr>\n",
       "    <tr>\n",
       "      <th>74</th>\n",
       "      <td>0</td>\n",
       "      <td>NaN</td>\n",
       "      <td>{'id': '?\\25', 'type': 'rich_text', 'rich_text...</td>\n",
       "      <td>NaN</td>\n",
       "      <td>{'id': '\\?}w', 'type': 'number', 'number': 203}</td>\n",
       "      <td>{'id': 'evL[', 'type': 'date', 'date': {'start...</td>\n",
       "      <td>{'id': 'nviz', 'type': 'formula', 'formula': {...</td>\n",
       "      <td>{'id': 'qNw_', 'type': 'rich_text', 'rich_text...</td>\n",
       "      <td>{'id': 'qRc\\', 'type': 'status', 'status': {'i...</td>\n",
       "      <td>{'id': 'title', 'type': 'title', 'title': [{'t...</td>\n",
       "      <td>https://www.notion.so/22-Bahnen-7cf9cf2022604b...</td>\n",
       "      <td>{'id': 'Urz&gt;', 'type': 'url', 'url': 'http://b...</td>\n",
       "      <td>{'id': 'flfJ', 'type': 'date', 'date': {'start...</td>\n",
       "    </tr>\n",
       "  </tbody>\n",
       "</table>\n",
       "<p>75 rows × 13 columns</p>\n",
       "</div>"
      ],
      "text/plain": [
       "    index                                           Category  \\\n",
       "0       0  {'id': '/7eo', 'type': 'select', 'select': {'i...   \n",
       "1       0  {'id': '/7eo', 'type': 'select', 'select': {'i...   \n",
       "2       0                                                NaN   \n",
       "3       0                                                NaN   \n",
       "4       0                                                NaN   \n",
       "..    ...                                                ...   \n",
       "70      0                                                NaN   \n",
       "71      0                                                NaN   \n",
       "72      0  {'id': '/7eo', 'type': 'select', 'select': {'i...   \n",
       "73      0                                                NaN   \n",
       "74      0                                                NaN   \n",
       "\n",
       "                                              Summary  \\\n",
       "0   {'id': '?\\25', 'type': 'rich_text', 'rich_text...   \n",
       "1   {'id': '?\\25', 'type': 'rich_text', 'rich_text...   \n",
       "2   {'id': '?\\25', 'type': 'rich_text', 'rich_text...   \n",
       "3   {'id': '?\\25', 'type': 'rich_text', 'rich_text...   \n",
       "4   {'id': '?\\25', 'type': 'rich_text', 'rich_text...   \n",
       "..                                                ...   \n",
       "70  {'id': '?\\25', 'type': 'rich_text', 'rich_text...   \n",
       "71  {'id': '?\\25', 'type': 'rich_text', 'rich_text...   \n",
       "72  {'id': '?\\25', 'type': 'rich_text', 'rich_text...   \n",
       "73  {'id': '?\\25', 'type': 'rich_text', 'rich_text...   \n",
       "74  {'id': '?\\25', 'type': 'rich_text', 'rich_text...   \n",
       "\n",
       "                                      Current page  \\\n",
       "0   {'id': 'QK`M', 'type': 'number', 'number': 20}   \n",
       "1                                              NaN   \n",
       "2                                              NaN   \n",
       "3                                              NaN   \n",
       "4                                              NaN   \n",
       "..                                             ...   \n",
       "70                                             NaN   \n",
       "71                                             NaN   \n",
       "72                                             NaN   \n",
       "73                                             NaN   \n",
       "74                                             NaN   \n",
       "\n",
       "                                        Total pages  \\\n",
       "0   {'id': '\\?}w', 'type': 'number', 'number': 920}   \n",
       "1   {'id': '\\?}w', 'type': 'number', 'number': 250}   \n",
       "2   {'id': '\\?}w', 'type': 'number', 'number': 468}   \n",
       "3   {'id': '\\?}w', 'type': 'number', 'number': 320}   \n",
       "4   {'id': '\\?}w', 'type': 'number', 'number': 208}   \n",
       "..                                              ...   \n",
       "70  {'id': '\\?}w', 'type': 'number', 'number': 661}   \n",
       "71  {'id': '\\?}w', 'type': 'number', 'number': 195}   \n",
       "72  {'id': '\\?}w', 'type': 'number', 'number': 201}   \n",
       "73    {'id': '\\?}w', 'type': 'number', 'number': 0}   \n",
       "74  {'id': '\\?}w', 'type': 'number', 'number': 203}   \n",
       "\n",
       "                                         Date started  \\\n",
       "0   {'id': 'evL[', 'type': 'date', 'date': {'start...   \n",
       "1   {'id': 'evL[', 'type': 'date', 'date': {'start...   \n",
       "2   {'id': 'evL[', 'type': 'date', 'date': {'start...   \n",
       "3   {'id': 'evL[', 'type': 'date', 'date': {'start...   \n",
       "4   {'id': 'evL[', 'type': 'date', 'date': {'start...   \n",
       "..                                                ...   \n",
       "70                                                NaN   \n",
       "71  {'id': 'evL[', 'type': 'date', 'date': {'start...   \n",
       "72  {'id': 'evL[', 'type': 'date', 'date': {'start...   \n",
       "73                                                NaN   \n",
       "74  {'id': 'evL[', 'type': 'date', 'date': {'start...   \n",
       "\n",
       "                                             Progress  \\\n",
       "0   {'id': 'nviz', 'type': 'formula', 'formula': {...   \n",
       "1   {'id': 'nviz', 'type': 'formula', 'formula': {...   \n",
       "2   {'id': 'nviz', 'type': 'formula', 'formula': {...   \n",
       "3   {'id': 'nviz', 'type': 'formula', 'formula': {...   \n",
       "4   {'id': 'nviz', 'type': 'formula', 'formula': {...   \n",
       "..                                                ...   \n",
       "70  {'id': 'nviz', 'type': 'formula', 'formula': {...   \n",
       "71  {'id': 'nviz', 'type': 'formula', 'formula': {...   \n",
       "72  {'id': 'nviz', 'type': 'formula', 'formula': {...   \n",
       "73  {'id': 'nviz', 'type': 'formula', 'formula': {...   \n",
       "74  {'id': 'nviz', 'type': 'formula', 'formula': {...   \n",
       "\n",
       "                                               Author  \\\n",
       "0   {'id': 'qNw_', 'type': 'rich_text', 'rich_text...   \n",
       "1   {'id': 'qNw_', 'type': 'rich_text', 'rich_text...   \n",
       "2   {'id': 'qNw_', 'type': 'rich_text', 'rich_text...   \n",
       "3   {'id': 'qNw_', 'type': 'rich_text', 'rich_text...   \n",
       "4   {'id': 'qNw_', 'type': 'rich_text', 'rich_text...   \n",
       "..                                                ...   \n",
       "70  {'id': 'qNw_', 'type': 'rich_text', 'rich_text...   \n",
       "71  {'id': 'qNw_', 'type': 'rich_text', 'rich_text...   \n",
       "72  {'id': 'qNw_', 'type': 'rich_text', 'rich_text...   \n",
       "73  {'id': 'qNw_', 'type': 'rich_text', 'rich_text...   \n",
       "74  {'id': 'qNw_', 'type': 'rich_text', 'rich_text...   \n",
       "\n",
       "                                               Status  \\\n",
       "0   {'id': 'qRc\\', 'type': 'status', 'status': {'i...   \n",
       "1   {'id': 'qRc\\', 'type': 'status', 'status': {'i...   \n",
       "2   {'id': 'qRc\\', 'type': 'status', 'status': {'i...   \n",
       "3   {'id': 'qRc\\', 'type': 'status', 'status': {'i...   \n",
       "4   {'id': 'qRc\\', 'type': 'status', 'status': {'i...   \n",
       "..                                                ...   \n",
       "70  {'id': 'qRc\\', 'type': 'status', 'status': {'i...   \n",
       "71  {'id': 'qRc\\', 'type': 'status', 'status': {'i...   \n",
       "72  {'id': 'qRc\\', 'type': 'status', 'status': {'i...   \n",
       "73  {'id': 'qRc\\', 'type': 'status', 'status': {'i...   \n",
       "74  {'id': 'qRc\\', 'type': 'status', 'status': {'i...   \n",
       "\n",
       "                                                Title  \\\n",
       "0   {'id': 'title', 'type': 'title', 'title': [{'t...   \n",
       "1   {'id': 'title', 'type': 'title', 'title': [{'t...   \n",
       "2   {'id': 'title', 'type': 'title', 'title': [{'t...   \n",
       "3   {'id': 'title', 'type': 'title', 'title': [{'t...   \n",
       "4   {'id': 'title', 'type': 'title', 'title': [{'t...   \n",
       "..                                                ...   \n",
       "70  {'id': 'title', 'type': 'title', 'title': [{'t...   \n",
       "71  {'id': 'title', 'type': 'title', 'title': [{'t...   \n",
       "72  {'id': 'title', 'type': 'title', 'title': [{'t...   \n",
       "73      {'id': 'title', 'type': 'title', 'title': []}   \n",
       "74  {'id': 'title', 'type': 'title', 'title': [{'t...   \n",
       "\n",
       "                                             page_url  \\\n",
       "0   https://www.notion.so/Moby-Dick-8ae970fcc5034b...   \n",
       "1   https://www.notion.so/Winterbienen-36a8bcd366d...   \n",
       "2   https://www.notion.so/Mythos-eb60075d9db74e36b...   \n",
       "3   https://www.notion.so/ber-Menschen-a044186a860...   \n",
       "4   https://www.notion.so/Zur-See-b30e1dd1d3c64ce4...   \n",
       "..                                                ...   \n",
       "70  https://www.notion.so/Ali-f9338061df794fd3b908...   \n",
       "71  https://www.notion.so/Anaximander-3f8a812a9b9a...   \n",
       "72  https://www.notion.so/Annette-ein-Heldinnenepo...   \n",
       "73  https://www.notion.so/7a403c575b4c4191b47d775e...   \n",
       "74  https://www.notion.so/22-Bahnen-7cf9cf2022604b...   \n",
       "\n",
       "                                                cover  \\\n",
       "0                                                 NaN   \n",
       "1   {'id': 'Urz>', 'type': 'url', 'url': 'http://b...   \n",
       "2   {'id': 'Urz>', 'type': 'url', 'url': 'http://b...   \n",
       "3                                                 NaN   \n",
       "4                                                 NaN   \n",
       "..                                                ...   \n",
       "70  {'id': 'Urz>', 'type': 'url', 'url': 'http://b...   \n",
       "71  {'id': 'Urz>', 'type': 'url', 'url': 'http://b...   \n",
       "72                                                NaN   \n",
       "73                                                NaN   \n",
       "74  {'id': 'Urz>', 'type': 'url', 'url': 'http://b...   \n",
       "\n",
       "                                        Date finished  \n",
       "0                                                 NaN  \n",
       "1   {'id': 'flfJ', 'type': 'date', 'date': {'start...  \n",
       "2   {'id': 'flfJ', 'type': 'date', 'date': {'start...  \n",
       "3   {'id': 'flfJ', 'type': 'date', 'date': {'start...  \n",
       "4   {'id': 'flfJ', 'type': 'date', 'date': {'start...  \n",
       "..                                                ...  \n",
       "70                                                NaN  \n",
       "71  {'id': 'flfJ', 'type': 'date', 'date': {'start...  \n",
       "72  {'id': 'flfJ', 'type': 'date', 'date': {'start...  \n",
       "73                                                NaN  \n",
       "74  {'id': 'flfJ', 'type': 'date', 'date': {'start...  \n",
       "\n",
       "[75 rows x 13 columns]"
      ]
     },
     "execution_count": 16,
     "metadata": {},
     "output_type": "execute_result"
    }
   ],
   "source": [
    "i = 0\n",
    "while i < len(results):\n",
    "    # each items in results to iterate and convert into dataframe\n",
    "    page_properties = results[i].get('properties')\n",
    "    page_keys = page_properties.keys()\n",
    "    page_values = page_properties.values()\n",
    "\n",
    "    # get page URL\n",
    "    page_properties['page_url'] = results[i].get('url')\n",
    "\n",
    "    # create dataframe\n",
    "    df_line = pd.DataFrame(list([page_values]), columns=list(page_keys))\n",
    "    df = df._append(df_line)\n",
    "    i += 1\n",
    "df = df.reset_index()\n",
    "df.shape\n",
    "df"
   ]
  },
  {
   "cell_type": "markdown",
   "id": "0d90f810",
   "metadata": {},
   "source": [
    "## Cleaning data column by column"
   ]
  },
  {
   "cell_type": "code",
   "execution_count": 17,
   "id": "a019752f",
   "metadata": {},
   "outputs": [
    {
     "name": "stdout",
     "output_type": "stream",
     "text": [
      "Shape of dataframe:(75, 13)\n",
      "Index(['index', 'Category', 'Summary', 'Current page', 'Total pages',\n",
      "       'Date started', 'Progress', 'Author', 'Status', 'Title', 'page_url',\n",
      "       'cover', 'Date finished'],\n",
      "      dtype='object')\n"
     ]
    }
   ],
   "source": [
    "# make copy of our dataframe\n",
    "Notion_data = df\n",
    "print(f'Shape of dataframe:{Notion_data.shape}')\n",
    "print(Notion_data.columns)"
   ]
  },
  {
   "cell_type": "markdown",
   "id": "22eaf484",
   "metadata": {},
   "source": [
    "#### Link data"
   ]
  },
  {
   "cell_type": "code",
   "execution_count": 18,
   "id": "ade738f4",
   "metadata": {},
   "outputs": [],
   "source": [
    "def clean_link(value):\n",
    "    try:\n",
    "        if type(value) is dict:\n",
    "            value = (value.get('url'))\n",
    "    except:\n",
    "        value = 'error'\n",
    "    return value"
   ]
  },
  {
   "cell_type": "markdown",
   "id": "68f998a1",
   "metadata": {},
   "source": [
    "#### Name Data"
   ]
  },
  {
   "cell_type": "code",
   "execution_count": 19,
   "id": "c4af84a3",
   "metadata": {},
   "outputs": [],
   "source": [
    "# df['Name'].iloc[1].get('title')[0].get('plain_text')\n",
    "def clean_name(value):\n",
    "    try:\n",
    "        if len(value.get('title')) != 0:\n",
    "            ret_ = value.get('title')[0].get('plain_text')\n",
    "        else:\n",
    "            ret_ = None  # value.get('title')\n",
    "    except:\n",
    "        ret_ = 'error'\n",
    "    return ret_"
   ]
  },
  {
   "cell_type": "markdown",
   "id": "f1fb6f01",
   "metadata": {},
   "source": [
    "#### Author data"
   ]
  },
  {
   "cell_type": "code",
   "execution_count": 82,
   "id": "e594ab2d",
   "metadata": {},
   "outputs": [],
   "source": [
    "def clean_author(row):\n",
    "    try:\n",
    "        ret_ = row[\"rich_text\"][0][\"plain_text\"]\n",
    "    except IndexError:\n",
    "        ret_ = None\n",
    "    return ret_"
   ]
  },
  {
   "cell_type": "markdown",
   "id": "78eb1340",
   "metadata": {},
   "source": [
    "#### Status data"
   ]
  },
  {
   "cell_type": "code",
   "execution_count": 58,
   "id": "413f5ebf",
   "metadata": {},
   "outputs": [],
   "source": [
    "# not being used\n",
    "def clean_status(value):\n",
    "    if type(value) is dict:\n",
    "        ret_ = value.get('select').get('name')\n",
    "    else:\n",
    "        ret_ = value\n",
    "    return ret_"
   ]
  },
  {
   "cell_type": "markdown",
   "id": "23da66ec",
   "metadata": {},
   "source": [
    "#### Update dataframe using Lambda Functions"
   ]
  },
  {
   "cell_type": "code",
   "execution_count": 83,
   "id": "8d650aa7",
   "metadata": {},
   "outputs": [],
   "source": [
    "Notion_data['_Name'] = Notion_data['Title'].apply(lambda x: clean_name(x))\n",
    "# apply on axis 1\n",
    "Notion_data['_Author'] = Notion_data['Author'].apply(lambda x: clean_author(x))\n",
    "Notion_data['page_id'] = Notion_data['page_url'].apply(lambda x: x[-32:])"
   ]
  },
  {
   "cell_type": "markdown",
   "id": "4bd914e4",
   "metadata": {},
   "source": [
    "### Final dataframe with Notion Data"
   ]
  },
  {
   "cell_type": "code",
   "execution_count": 84,
   "id": "a6716f6b",
   "metadata": {},
   "outputs": [
    {
     "data": {
      "text/html": [
       "<div>\n",
       "<style scoped>\n",
       "    .dataframe tbody tr th:only-of-type {\n",
       "        vertical-align: middle;\n",
       "    }\n",
       "\n",
       "    .dataframe tbody tr th {\n",
       "        vertical-align: top;\n",
       "    }\n",
       "\n",
       "    .dataframe thead th {\n",
       "        text-align: right;\n",
       "    }\n",
       "</style>\n",
       "<table border=\"1\" class=\"dataframe\">\n",
       "  <thead>\n",
       "    <tr style=\"text-align: right;\">\n",
       "      <th></th>\n",
       "      <th>index</th>\n",
       "      <th>Category</th>\n",
       "      <th>Summary</th>\n",
       "      <th>Current page</th>\n",
       "      <th>Total pages</th>\n",
       "      <th>Date started</th>\n",
       "      <th>Progress</th>\n",
       "      <th>Author</th>\n",
       "      <th>Status</th>\n",
       "      <th>Title</th>\n",
       "      <th>page_url</th>\n",
       "      <th>cover</th>\n",
       "      <th>Date finished</th>\n",
       "      <th>_Name</th>\n",
       "      <th>_Author</th>\n",
       "      <th>page_id</th>\n",
       "    </tr>\n",
       "  </thead>\n",
       "  <tbody>\n",
       "    <tr>\n",
       "      <th>0</th>\n",
       "      <td>0</td>\n",
       "      <td>{'id': '/7eo', 'type': 'select', 'select': {'i...</td>\n",
       "      <td>{'id': '?\\25', 'type': 'rich_text', 'rich_text...</td>\n",
       "      <td>{'id': 'QK`M', 'type': 'number', 'number': 20}</td>\n",
       "      <td>{'id': '\\?}w', 'type': 'number', 'number': 920}</td>\n",
       "      <td>{'id': 'evL[', 'type': 'date', 'date': {'start...</td>\n",
       "      <td>{'id': 'nviz', 'type': 'formula', 'formula': {...</td>\n",
       "      <td>{'id': 'qNw_', 'type': 'rich_text', 'rich_text...</td>\n",
       "      <td>{'id': 'qRc\\', 'type': 'status', 'status': {'i...</td>\n",
       "      <td>{'id': 'title', 'type': 'title', 'title': [{'t...</td>\n",
       "      <td>https://www.notion.so/Moby-Dick-8ae970fcc5034b...</td>\n",
       "      <td>NaN</td>\n",
       "      <td>NaN</td>\n",
       "      <td>Moby Dick</td>\n",
       "      <td>Herman Melville</td>\n",
       "      <td>8ae970fcc5034b6ca551eee7e434b2b4</td>\n",
       "    </tr>\n",
       "    <tr>\n",
       "      <th>1</th>\n",
       "      <td>0</td>\n",
       "      <td>{'id': '/7eo', 'type': 'select', 'select': {'i...</td>\n",
       "      <td>{'id': '?\\25', 'type': 'rich_text', 'rich_text...</td>\n",
       "      <td>NaN</td>\n",
       "      <td>{'id': '\\?}w', 'type': 'number', 'number': 250}</td>\n",
       "      <td>{'id': 'evL[', 'type': 'date', 'date': {'start...</td>\n",
       "      <td>{'id': 'nviz', 'type': 'formula', 'formula': {...</td>\n",
       "      <td>{'id': 'qNw_', 'type': 'rich_text', 'rich_text...</td>\n",
       "      <td>{'id': 'qRc\\', 'type': 'status', 'status': {'i...</td>\n",
       "      <td>{'id': 'title', 'type': 'title', 'title': [{'t...</td>\n",
       "      <td>https://www.notion.so/Winterbienen-36a8bcd366d...</td>\n",
       "      <td>{'id': 'Urz&gt;', 'type': 'url', 'url': 'http://b...</td>\n",
       "      <td>{'id': 'flfJ', 'type': 'date', 'date': {'start...</td>\n",
       "      <td>Winterbienen</td>\n",
       "      <td>Norbert Scheuer</td>\n",
       "      <td>36a8bcd366d64786b768eb2509ff3e6f</td>\n",
       "    </tr>\n",
       "    <tr>\n",
       "      <th>2</th>\n",
       "      <td>0</td>\n",
       "      <td>NaN</td>\n",
       "      <td>{'id': '?\\25', 'type': 'rich_text', 'rich_text...</td>\n",
       "      <td>NaN</td>\n",
       "      <td>{'id': '\\?}w', 'type': 'number', 'number': 468}</td>\n",
       "      <td>{'id': 'evL[', 'type': 'date', 'date': {'start...</td>\n",
       "      <td>{'id': 'nviz', 'type': 'formula', 'formula': {...</td>\n",
       "      <td>{'id': 'qNw_', 'type': 'rich_text', 'rich_text...</td>\n",
       "      <td>{'id': 'qRc\\', 'type': 'status', 'status': {'i...</td>\n",
       "      <td>{'id': 'title', 'type': 'title', 'title': [{'t...</td>\n",
       "      <td>https://www.notion.so/Mythos-eb60075d9db74e36b...</td>\n",
       "      <td>{'id': 'Urz&gt;', 'type': 'url', 'url': 'http://b...</td>\n",
       "      <td>{'id': 'flfJ', 'type': 'date', 'date': {'start...</td>\n",
       "      <td>Mythos</td>\n",
       "      <td>Stephen Fry</td>\n",
       "      <td>eb60075d9db74e36ba530479bb452c36</td>\n",
       "    </tr>\n",
       "    <tr>\n",
       "      <th>3</th>\n",
       "      <td>0</td>\n",
       "      <td>NaN</td>\n",
       "      <td>{'id': '?\\25', 'type': 'rich_text', 'rich_text...</td>\n",
       "      <td>NaN</td>\n",
       "      <td>{'id': '\\?}w', 'type': 'number', 'number': 320}</td>\n",
       "      <td>{'id': 'evL[', 'type': 'date', 'date': {'start...</td>\n",
       "      <td>{'id': 'nviz', 'type': 'formula', 'formula': {...</td>\n",
       "      <td>{'id': 'qNw_', 'type': 'rich_text', 'rich_text...</td>\n",
       "      <td>{'id': 'qRc\\', 'type': 'status', 'status': {'i...</td>\n",
       "      <td>{'id': 'title', 'type': 'title', 'title': [{'t...</td>\n",
       "      <td>https://www.notion.so/ber-Menschen-a044186a860...</td>\n",
       "      <td>NaN</td>\n",
       "      <td>{'id': 'flfJ', 'type': 'date', 'date': {'start...</td>\n",
       "      <td>Über Menschen</td>\n",
       "      <td>Juli Zeh</td>\n",
       "      <td>a044186a86014c3b89fb198155814ada</td>\n",
       "    </tr>\n",
       "    <tr>\n",
       "      <th>4</th>\n",
       "      <td>0</td>\n",
       "      <td>NaN</td>\n",
       "      <td>{'id': '?\\25', 'type': 'rich_text', 'rich_text...</td>\n",
       "      <td>NaN</td>\n",
       "      <td>{'id': '\\?}w', 'type': 'number', 'number': 208}</td>\n",
       "      <td>{'id': 'evL[', 'type': 'date', 'date': {'start...</td>\n",
       "      <td>{'id': 'nviz', 'type': 'formula', 'formula': {...</td>\n",
       "      <td>{'id': 'qNw_', 'type': 'rich_text', 'rich_text...</td>\n",
       "      <td>{'id': 'qRc\\', 'type': 'status', 'status': {'i...</td>\n",
       "      <td>{'id': 'title', 'type': 'title', 'title': [{'t...</td>\n",
       "      <td>https://www.notion.so/Zur-See-b30e1dd1d3c64ce4...</td>\n",
       "      <td>NaN</td>\n",
       "      <td>{'id': 'flfJ', 'type': 'date', 'date': {'start...</td>\n",
       "      <td>Zur See</td>\n",
       "      <td>Dörte Hansen</td>\n",
       "      <td>b30e1dd1d3c64ce48d768bde69d3c2a8</td>\n",
       "    </tr>\n",
       "    <tr>\n",
       "      <th>...</th>\n",
       "      <td>...</td>\n",
       "      <td>...</td>\n",
       "      <td>...</td>\n",
       "      <td>...</td>\n",
       "      <td>...</td>\n",
       "      <td>...</td>\n",
       "      <td>...</td>\n",
       "      <td>...</td>\n",
       "      <td>...</td>\n",
       "      <td>...</td>\n",
       "      <td>...</td>\n",
       "      <td>...</td>\n",
       "      <td>...</td>\n",
       "      <td>...</td>\n",
       "      <td>...</td>\n",
       "      <td>...</td>\n",
       "    </tr>\n",
       "    <tr>\n",
       "      <th>70</th>\n",
       "      <td>0</td>\n",
       "      <td>NaN</td>\n",
       "      <td>{'id': '?\\25', 'type': 'rich_text', 'rich_text...</td>\n",
       "      <td>NaN</td>\n",
       "      <td>{'id': '\\?}w', 'type': 'number', 'number': 661}</td>\n",
       "      <td>NaN</td>\n",
       "      <td>{'id': 'nviz', 'type': 'formula', 'formula': {...</td>\n",
       "      <td>{'id': 'qNw_', 'type': 'rich_text', 'rich_text...</td>\n",
       "      <td>{'id': 'qRc\\', 'type': 'status', 'status': {'i...</td>\n",
       "      <td>{'id': 'title', 'type': 'title', 'title': [{'t...</td>\n",
       "      <td>https://www.notion.so/Ali-f9338061df794fd3b908...</td>\n",
       "      <td>{'id': 'Urz&gt;', 'type': 'url', 'url': 'http://b...</td>\n",
       "      <td>NaN</td>\n",
       "      <td>Ali</td>\n",
       "      <td>Jonathan Eig</td>\n",
       "      <td>f9338061df794fd3b9086bad63615b78</td>\n",
       "    </tr>\n",
       "    <tr>\n",
       "      <th>71</th>\n",
       "      <td>0</td>\n",
       "      <td>NaN</td>\n",
       "      <td>{'id': '?\\25', 'type': 'rich_text', 'rich_text...</td>\n",
       "      <td>NaN</td>\n",
       "      <td>{'id': '\\?}w', 'type': 'number', 'number': 195}</td>\n",
       "      <td>{'id': 'evL[', 'type': 'date', 'date': {'start...</td>\n",
       "      <td>{'id': 'nviz', 'type': 'formula', 'formula': {...</td>\n",
       "      <td>{'id': 'qNw_', 'type': 'rich_text', 'rich_text...</td>\n",
       "      <td>{'id': 'qRc\\', 'type': 'status', 'status': {'i...</td>\n",
       "      <td>{'id': 'title', 'type': 'title', 'title': [{'t...</td>\n",
       "      <td>https://www.notion.so/Anaximander-3f8a812a9b9a...</td>\n",
       "      <td>{'id': 'Urz&gt;', 'type': 'url', 'url': 'http://b...</td>\n",
       "      <td>{'id': 'flfJ', 'type': 'date', 'date': {'start...</td>\n",
       "      <td>Anaximander</td>\n",
       "      <td>Carlo Rovelli</td>\n",
       "      <td>3f8a812a9b9a40afac54d856189e7d7c</td>\n",
       "    </tr>\n",
       "    <tr>\n",
       "      <th>72</th>\n",
       "      <td>0</td>\n",
       "      <td>{'id': '/7eo', 'type': 'select', 'select': {'i...</td>\n",
       "      <td>{'id': '?\\25', 'type': 'rich_text', 'rich_text...</td>\n",
       "      <td>NaN</td>\n",
       "      <td>{'id': '\\?}w', 'type': 'number', 'number': 201}</td>\n",
       "      <td>{'id': 'evL[', 'type': 'date', 'date': {'start...</td>\n",
       "      <td>{'id': 'nviz', 'type': 'formula', 'formula': {...</td>\n",
       "      <td>{'id': 'qNw_', 'type': 'rich_text', 'rich_text...</td>\n",
       "      <td>{'id': 'qRc\\', 'type': 'status', 'status': {'i...</td>\n",
       "      <td>{'id': 'title', 'type': 'title', 'title': [{'t...</td>\n",
       "      <td>https://www.notion.so/Annette-ein-Heldinnenepo...</td>\n",
       "      <td>NaN</td>\n",
       "      <td>{'id': 'flfJ', 'type': 'date', 'date': {'start...</td>\n",
       "      <td>Annette, ein Heldinnenepos</td>\n",
       "      <td>Annette Weber</td>\n",
       "      <td>fcfb16d9e44e48768fc04d1f995ffd3a</td>\n",
       "    </tr>\n",
       "    <tr>\n",
       "      <th>73</th>\n",
       "      <td>0</td>\n",
       "      <td>NaN</td>\n",
       "      <td>{'id': '?\\25', 'type': 'rich_text', 'rich_text...</td>\n",
       "      <td>NaN</td>\n",
       "      <td>{'id': '\\?}w', 'type': 'number', 'number': 0}</td>\n",
       "      <td>NaN</td>\n",
       "      <td>{'id': 'nviz', 'type': 'formula', 'formula': {...</td>\n",
       "      <td>{'id': 'qNw_', 'type': 'rich_text', 'rich_text...</td>\n",
       "      <td>{'id': 'qRc\\', 'type': 'status', 'status': {'i...</td>\n",
       "      <td>{'id': 'title', 'type': 'title', 'title': []}</td>\n",
       "      <td>https://www.notion.so/7a403c575b4c4191b47d775e...</td>\n",
       "      <td>NaN</td>\n",
       "      <td>NaN</td>\n",
       "      <td>None</td>\n",
       "      <td>None</td>\n",
       "      <td>7a403c575b4c4191b47d775e554c489e</td>\n",
       "    </tr>\n",
       "    <tr>\n",
       "      <th>74</th>\n",
       "      <td>0</td>\n",
       "      <td>NaN</td>\n",
       "      <td>{'id': '?\\25', 'type': 'rich_text', 'rich_text...</td>\n",
       "      <td>NaN</td>\n",
       "      <td>{'id': '\\?}w', 'type': 'number', 'number': 203}</td>\n",
       "      <td>{'id': 'evL[', 'type': 'date', 'date': {'start...</td>\n",
       "      <td>{'id': 'nviz', 'type': 'formula', 'formula': {...</td>\n",
       "      <td>{'id': 'qNw_', 'type': 'rich_text', 'rich_text...</td>\n",
       "      <td>{'id': 'qRc\\', 'type': 'status', 'status': {'i...</td>\n",
       "      <td>{'id': 'title', 'type': 'title', 'title': [{'t...</td>\n",
       "      <td>https://www.notion.so/22-Bahnen-7cf9cf2022604b...</td>\n",
       "      <td>{'id': 'Urz&gt;', 'type': 'url', 'url': 'http://b...</td>\n",
       "      <td>{'id': 'flfJ', 'type': 'date', 'date': {'start...</td>\n",
       "      <td>22 Bahnen</td>\n",
       "      <td>Caroline Wahl</td>\n",
       "      <td>7cf9cf2022604b6a96e4294a83faf7d7</td>\n",
       "    </tr>\n",
       "  </tbody>\n",
       "</table>\n",
       "<p>75 rows × 16 columns</p>\n",
       "</div>"
      ],
      "text/plain": [
       "    index                                           Category  \\\n",
       "0       0  {'id': '/7eo', 'type': 'select', 'select': {'i...   \n",
       "1       0  {'id': '/7eo', 'type': 'select', 'select': {'i...   \n",
       "2       0                                                NaN   \n",
       "3       0                                                NaN   \n",
       "4       0                                                NaN   \n",
       "..    ...                                                ...   \n",
       "70      0                                                NaN   \n",
       "71      0                                                NaN   \n",
       "72      0  {'id': '/7eo', 'type': 'select', 'select': {'i...   \n",
       "73      0                                                NaN   \n",
       "74      0                                                NaN   \n",
       "\n",
       "                                              Summary  \\\n",
       "0   {'id': '?\\25', 'type': 'rich_text', 'rich_text...   \n",
       "1   {'id': '?\\25', 'type': 'rich_text', 'rich_text...   \n",
       "2   {'id': '?\\25', 'type': 'rich_text', 'rich_text...   \n",
       "3   {'id': '?\\25', 'type': 'rich_text', 'rich_text...   \n",
       "4   {'id': '?\\25', 'type': 'rich_text', 'rich_text...   \n",
       "..                                                ...   \n",
       "70  {'id': '?\\25', 'type': 'rich_text', 'rich_text...   \n",
       "71  {'id': '?\\25', 'type': 'rich_text', 'rich_text...   \n",
       "72  {'id': '?\\25', 'type': 'rich_text', 'rich_text...   \n",
       "73  {'id': '?\\25', 'type': 'rich_text', 'rich_text...   \n",
       "74  {'id': '?\\25', 'type': 'rich_text', 'rich_text...   \n",
       "\n",
       "                                      Current page  \\\n",
       "0   {'id': 'QK`M', 'type': 'number', 'number': 20}   \n",
       "1                                              NaN   \n",
       "2                                              NaN   \n",
       "3                                              NaN   \n",
       "4                                              NaN   \n",
       "..                                             ...   \n",
       "70                                             NaN   \n",
       "71                                             NaN   \n",
       "72                                             NaN   \n",
       "73                                             NaN   \n",
       "74                                             NaN   \n",
       "\n",
       "                                        Total pages  \\\n",
       "0   {'id': '\\?}w', 'type': 'number', 'number': 920}   \n",
       "1   {'id': '\\?}w', 'type': 'number', 'number': 250}   \n",
       "2   {'id': '\\?}w', 'type': 'number', 'number': 468}   \n",
       "3   {'id': '\\?}w', 'type': 'number', 'number': 320}   \n",
       "4   {'id': '\\?}w', 'type': 'number', 'number': 208}   \n",
       "..                                              ...   \n",
       "70  {'id': '\\?}w', 'type': 'number', 'number': 661}   \n",
       "71  {'id': '\\?}w', 'type': 'number', 'number': 195}   \n",
       "72  {'id': '\\?}w', 'type': 'number', 'number': 201}   \n",
       "73    {'id': '\\?}w', 'type': 'number', 'number': 0}   \n",
       "74  {'id': '\\?}w', 'type': 'number', 'number': 203}   \n",
       "\n",
       "                                         Date started  \\\n",
       "0   {'id': 'evL[', 'type': 'date', 'date': {'start...   \n",
       "1   {'id': 'evL[', 'type': 'date', 'date': {'start...   \n",
       "2   {'id': 'evL[', 'type': 'date', 'date': {'start...   \n",
       "3   {'id': 'evL[', 'type': 'date', 'date': {'start...   \n",
       "4   {'id': 'evL[', 'type': 'date', 'date': {'start...   \n",
       "..                                                ...   \n",
       "70                                                NaN   \n",
       "71  {'id': 'evL[', 'type': 'date', 'date': {'start...   \n",
       "72  {'id': 'evL[', 'type': 'date', 'date': {'start...   \n",
       "73                                                NaN   \n",
       "74  {'id': 'evL[', 'type': 'date', 'date': {'start...   \n",
       "\n",
       "                                             Progress  \\\n",
       "0   {'id': 'nviz', 'type': 'formula', 'formula': {...   \n",
       "1   {'id': 'nviz', 'type': 'formula', 'formula': {...   \n",
       "2   {'id': 'nviz', 'type': 'formula', 'formula': {...   \n",
       "3   {'id': 'nviz', 'type': 'formula', 'formula': {...   \n",
       "4   {'id': 'nviz', 'type': 'formula', 'formula': {...   \n",
       "..                                                ...   \n",
       "70  {'id': 'nviz', 'type': 'formula', 'formula': {...   \n",
       "71  {'id': 'nviz', 'type': 'formula', 'formula': {...   \n",
       "72  {'id': 'nviz', 'type': 'formula', 'formula': {...   \n",
       "73  {'id': 'nviz', 'type': 'formula', 'formula': {...   \n",
       "74  {'id': 'nviz', 'type': 'formula', 'formula': {...   \n",
       "\n",
       "                                               Author  \\\n",
       "0   {'id': 'qNw_', 'type': 'rich_text', 'rich_text...   \n",
       "1   {'id': 'qNw_', 'type': 'rich_text', 'rich_text...   \n",
       "2   {'id': 'qNw_', 'type': 'rich_text', 'rich_text...   \n",
       "3   {'id': 'qNw_', 'type': 'rich_text', 'rich_text...   \n",
       "4   {'id': 'qNw_', 'type': 'rich_text', 'rich_text...   \n",
       "..                                                ...   \n",
       "70  {'id': 'qNw_', 'type': 'rich_text', 'rich_text...   \n",
       "71  {'id': 'qNw_', 'type': 'rich_text', 'rich_text...   \n",
       "72  {'id': 'qNw_', 'type': 'rich_text', 'rich_text...   \n",
       "73  {'id': 'qNw_', 'type': 'rich_text', 'rich_text...   \n",
       "74  {'id': 'qNw_', 'type': 'rich_text', 'rich_text...   \n",
       "\n",
       "                                               Status  \\\n",
       "0   {'id': 'qRc\\', 'type': 'status', 'status': {'i...   \n",
       "1   {'id': 'qRc\\', 'type': 'status', 'status': {'i...   \n",
       "2   {'id': 'qRc\\', 'type': 'status', 'status': {'i...   \n",
       "3   {'id': 'qRc\\', 'type': 'status', 'status': {'i...   \n",
       "4   {'id': 'qRc\\', 'type': 'status', 'status': {'i...   \n",
       "..                                                ...   \n",
       "70  {'id': 'qRc\\', 'type': 'status', 'status': {'i...   \n",
       "71  {'id': 'qRc\\', 'type': 'status', 'status': {'i...   \n",
       "72  {'id': 'qRc\\', 'type': 'status', 'status': {'i...   \n",
       "73  {'id': 'qRc\\', 'type': 'status', 'status': {'i...   \n",
       "74  {'id': 'qRc\\', 'type': 'status', 'status': {'i...   \n",
       "\n",
       "                                                Title  \\\n",
       "0   {'id': 'title', 'type': 'title', 'title': [{'t...   \n",
       "1   {'id': 'title', 'type': 'title', 'title': [{'t...   \n",
       "2   {'id': 'title', 'type': 'title', 'title': [{'t...   \n",
       "3   {'id': 'title', 'type': 'title', 'title': [{'t...   \n",
       "4   {'id': 'title', 'type': 'title', 'title': [{'t...   \n",
       "..                                                ...   \n",
       "70  {'id': 'title', 'type': 'title', 'title': [{'t...   \n",
       "71  {'id': 'title', 'type': 'title', 'title': [{'t...   \n",
       "72  {'id': 'title', 'type': 'title', 'title': [{'t...   \n",
       "73      {'id': 'title', 'type': 'title', 'title': []}   \n",
       "74  {'id': 'title', 'type': 'title', 'title': [{'t...   \n",
       "\n",
       "                                             page_url  \\\n",
       "0   https://www.notion.so/Moby-Dick-8ae970fcc5034b...   \n",
       "1   https://www.notion.so/Winterbienen-36a8bcd366d...   \n",
       "2   https://www.notion.so/Mythos-eb60075d9db74e36b...   \n",
       "3   https://www.notion.so/ber-Menschen-a044186a860...   \n",
       "4   https://www.notion.so/Zur-See-b30e1dd1d3c64ce4...   \n",
       "..                                                ...   \n",
       "70  https://www.notion.so/Ali-f9338061df794fd3b908...   \n",
       "71  https://www.notion.so/Anaximander-3f8a812a9b9a...   \n",
       "72  https://www.notion.so/Annette-ein-Heldinnenepo...   \n",
       "73  https://www.notion.so/7a403c575b4c4191b47d775e...   \n",
       "74  https://www.notion.so/22-Bahnen-7cf9cf2022604b...   \n",
       "\n",
       "                                                cover  \\\n",
       "0                                                 NaN   \n",
       "1   {'id': 'Urz>', 'type': 'url', 'url': 'http://b...   \n",
       "2   {'id': 'Urz>', 'type': 'url', 'url': 'http://b...   \n",
       "3                                                 NaN   \n",
       "4                                                 NaN   \n",
       "..                                                ...   \n",
       "70  {'id': 'Urz>', 'type': 'url', 'url': 'http://b...   \n",
       "71  {'id': 'Urz>', 'type': 'url', 'url': 'http://b...   \n",
       "72                                                NaN   \n",
       "73                                                NaN   \n",
       "74  {'id': 'Urz>', 'type': 'url', 'url': 'http://b...   \n",
       "\n",
       "                                        Date finished  \\\n",
       "0                                                 NaN   \n",
       "1   {'id': 'flfJ', 'type': 'date', 'date': {'start...   \n",
       "2   {'id': 'flfJ', 'type': 'date', 'date': {'start...   \n",
       "3   {'id': 'flfJ', 'type': 'date', 'date': {'start...   \n",
       "4   {'id': 'flfJ', 'type': 'date', 'date': {'start...   \n",
       "..                                                ...   \n",
       "70                                                NaN   \n",
       "71  {'id': 'flfJ', 'type': 'date', 'date': {'start...   \n",
       "72  {'id': 'flfJ', 'type': 'date', 'date': {'start...   \n",
       "73                                                NaN   \n",
       "74  {'id': 'flfJ', 'type': 'date', 'date': {'start...   \n",
       "\n",
       "                         _Name          _Author  \\\n",
       "0                    Moby Dick  Herman Melville   \n",
       "1                 Winterbienen  Norbert Scheuer   \n",
       "2                       Mythos      Stephen Fry   \n",
       "3                Über Menschen         Juli Zeh   \n",
       "4                      Zur See     Dörte Hansen   \n",
       "..                         ...              ...   \n",
       "70                         Ali     Jonathan Eig   \n",
       "71                 Anaximander    Carlo Rovelli   \n",
       "72  Annette, ein Heldinnenepos    Annette Weber   \n",
       "73                        None             None   \n",
       "74                   22 Bahnen    Caroline Wahl   \n",
       "\n",
       "                             page_id  \n",
       "0   8ae970fcc5034b6ca551eee7e434b2b4  \n",
       "1   36a8bcd366d64786b768eb2509ff3e6f  \n",
       "2   eb60075d9db74e36ba530479bb452c36  \n",
       "3   a044186a86014c3b89fb198155814ada  \n",
       "4   b30e1dd1d3c64ce48d768bde69d3c2a8  \n",
       "..                               ...  \n",
       "70  f9338061df794fd3b9086bad63615b78  \n",
       "71  3f8a812a9b9a40afac54d856189e7d7c  \n",
       "72  fcfb16d9e44e48768fc04d1f995ffd3a  \n",
       "73  7a403c575b4c4191b47d775e554c489e  \n",
       "74  7cf9cf2022604b6a96e4294a83faf7d7  \n",
       "\n",
       "[75 rows x 16 columns]"
      ]
     },
     "execution_count": 84,
     "metadata": {},
     "output_type": "execute_result"
    }
   ],
   "source": [
    "Notion_data"
   ]
  },
  {
   "cell_type": "markdown",
   "id": "6c39fb96",
   "metadata": {},
   "source": [
    "### List of page IDs for all items in database"
   ]
  },
  {
   "cell_type": "code",
   "execution_count": 85,
   "id": "a54207ba",
   "metadata": {},
   "outputs": [
    {
     "data": {
      "text/plain": [
       "0     8ae970fcc5034b6ca551eee7e434b2b4\n",
       "1     36a8bcd366d64786b768eb2509ff3e6f\n",
       "2     eb60075d9db74e36ba530479bb452c36\n",
       "3     a044186a86014c3b89fb198155814ada\n",
       "4     b30e1dd1d3c64ce48d768bde69d3c2a8\n",
       "                    ...               \n",
       "70    f9338061df794fd3b9086bad63615b78\n",
       "71    3f8a812a9b9a40afac54d856189e7d7c\n",
       "72    fcfb16d9e44e48768fc04d1f995ffd3a\n",
       "73    7a403c575b4c4191b47d775e554c489e\n",
       "74    7cf9cf2022604b6a96e4294a83faf7d7\n",
       "Name: page_id, Length: 75, dtype: object"
      ]
     },
     "execution_count": 85,
     "metadata": {},
     "output_type": "execute_result"
    }
   ],
   "source": [
    "Notion_data['page_id']"
   ]
  },
  {
   "cell_type": "markdown",
   "id": "e2607da2",
   "metadata": {},
   "source": [
    "## Get google books API data for the Books in my Reading List"
   ]
  },
  {
   "cell_type": "markdown",
   "id": "250b2c26",
   "metadata": {},
   "source": [
    "### Create a list of books for google api search"
   ]
  },
  {
   "cell_type": "code",
   "execution_count": 86,
   "id": "69d8fb57",
   "metadata": {},
   "outputs": [],
   "source": [
    "my_list = list(filter(None, Notion_data['_Name']))"
   ]
  },
  {
   "cell_type": "code",
   "execution_count": 87,
   "id": "43c813e1",
   "metadata": {},
   "outputs": [
    {
     "name": "stdout",
     "output_type": "stream",
     "text": [
      "74\n",
      "['Moby Dick', 'Winterbienen', 'Mythos', 'Über Menschen', 'Zur See', 'The Illustrated A Brief History of Time', 'To Kill a Mockingbird', 'The Innovators', 'The Code Breaker', 'Sportbootführerschein Binnen Segel/Motor', 'The Children of Hurin', 'Sei du selbst', 'Prima facie', 'SPQR', 'Praxisbuch Usability & UX', 'Offene See', 'Noch wach?', 'Physik', 'Nachrichten aus Mittelerde', 'Napoleon und seine Zeit', 'Montecristo', 'My Own Words', 'Mutabor', 'Monschau', 'MONEYMAKERS', 'Madame Bovary', 'Lichtspiel', 'MANIAC', 'Leonardo da Vinci', 'Krieg und Frieden', 'Klara und die Sonne', 'King: A Life', 'Ich bin Circe', 'Humankind', 'J. Robert Oppenheimer', 'How to Avoid a Climate Disaster', 'How Democracies Die', 'Homer', 'Hamster im hinteren Stromgebiet', 'Helden', 'Hast du uns endlich gefunden', 'Hamlet', 'Gefährlicher Glaube', 'Ensel und Krete', 'Ein verheißenes Land', 'Elon Musk', 'Einstein', 'Dune', 'Diese Wahrheiten', 'Die weite Wildnis', 'Die große Fotoschule', 'Die Verteidigung', 'Die Farbe von Wasser', 'Die Intensivmedizin', 'Der heilige King Kong', \"Die 13 1/2 Leben des Käpt'n Blaubär\", 'Der Fetzen', 'Der Fall von Gondolin', 'Das blinde Licht', 'Das Zeitalter der Unschärfe', 'Das Universum in der Nussschale', 'Das Silmarillion', 'Das Lied des Achill', 'Campbell Biologie', 'Bullshit Jobs', 'Das Café ohne Namen', 'Beren and Lúthien', 'BECOMING', 'Atomic Habits', 'Astronomie', 'Ali', 'Anaximander', 'Annette, ein Heldinnenepos', '22 Bahnen']\n"
     ]
    }
   ],
   "source": [
    "my_list_no_nan = []\n",
    "for i in my_list:\n",
    "    try:\n",
    "        if pd.isnull(i) != True:\n",
    "            # print('is null')\n",
    "            my_list_no_nan += [i]\n",
    "        # else:\n",
    "            # print('null')\n",
    "            # my_list_no_nan += [i]\n",
    "    except:\n",
    "        print('except')\n",
    "\n",
    "print(len(my_list_no_nan))\n",
    "print(my_list_no_nan)"
   ]
  },
  {
   "cell_type": "markdown",
   "id": "98193ca4",
   "metadata": {},
   "source": [
    "### Run list through goole api to get data about the books"
   ]
  },
  {
   "cell_type": "code",
   "execution_count": 89,
   "id": "b2adcffc",
   "metadata": {},
   "outputs": [
    {
     "name": "stdout",
     "output_type": "stream",
     "text": [
      "Moby Dick\n"
     ]
    },
    {
     "name": "stderr",
     "output_type": "stream",
     "text": [
      "/Users/christian/Projects/Notion-Bookshelf/.venv/lib/python3.10/site-packages/urllib3/connectionpool.py:1099: InsecureRequestWarning: Unverified HTTPS request is being made to host 'www.googleapis.com'. Adding certificate verification is strongly advised. See: https://urllib3.readthedocs.io/en/latest/advanced-usage.html#tls-warnings\n",
      "  warnings.warn(\n",
      "/var/folders/70/_kzl44wj5hv4tkqjfdkcmjdr0000gn/T/ipykernel_66453/3126177984.py:12: SettingWithCopyWarning: \n",
      "A value is trying to be set on a copy of a slice from a DataFrame.\n",
      "Try using .loc[row_indexer,col_indexer] = value instead\n",
      "\n",
      "See the caveats in the documentation: https://pandas.pydata.org/pandas-docs/stable/user_guide/indexing.html#returning-a-view-versus-a-copy\n",
      "  first_row_df['search_term']=search_terms\n",
      "/Users/christian/Projects/Notion-Bookshelf/.venv/lib/python3.10/site-packages/urllib3/connectionpool.py:1099: InsecureRequestWarning: Unverified HTTPS request is being made to host 'www.googleapis.com'. Adding certificate verification is strongly advised. See: https://urllib3.readthedocs.io/en/latest/advanced-usage.html#tls-warnings\n",
      "  warnings.warn(\n"
     ]
    },
    {
     "name": "stdout",
     "output_type": "stream",
     "text": [
      "Winterbienen\n"
     ]
    },
    {
     "name": "stderr",
     "output_type": "stream",
     "text": [
      "/var/folders/70/_kzl44wj5hv4tkqjfdkcmjdr0000gn/T/ipykernel_66453/3126177984.py:12: SettingWithCopyWarning: \n",
      "A value is trying to be set on a copy of a slice from a DataFrame.\n",
      "Try using .loc[row_indexer,col_indexer] = value instead\n",
      "\n",
      "See the caveats in the documentation: https://pandas.pydata.org/pandas-docs/stable/user_guide/indexing.html#returning-a-view-versus-a-copy\n",
      "  first_row_df['search_term']=search_terms\n",
      "/Users/christian/Projects/Notion-Bookshelf/.venv/lib/python3.10/site-packages/urllib3/connectionpool.py:1099: InsecureRequestWarning: Unverified HTTPS request is being made to host 'www.googleapis.com'. Adding certificate verification is strongly advised. See: https://urllib3.readthedocs.io/en/latest/advanced-usage.html#tls-warnings\n",
      "  warnings.warn(\n"
     ]
    },
    {
     "name": "stdout",
     "output_type": "stream",
     "text": [
      "Mythos\n"
     ]
    },
    {
     "name": "stderr",
     "output_type": "stream",
     "text": [
      "/var/folders/70/_kzl44wj5hv4tkqjfdkcmjdr0000gn/T/ipykernel_66453/3126177984.py:12: SettingWithCopyWarning: \n",
      "A value is trying to be set on a copy of a slice from a DataFrame.\n",
      "Try using .loc[row_indexer,col_indexer] = value instead\n",
      "\n",
      "See the caveats in the documentation: https://pandas.pydata.org/pandas-docs/stable/user_guide/indexing.html#returning-a-view-versus-a-copy\n",
      "  first_row_df['search_term']=search_terms\n",
      "/Users/christian/Projects/Notion-Bookshelf/.venv/lib/python3.10/site-packages/urllib3/connectionpool.py:1099: InsecureRequestWarning: Unverified HTTPS request is being made to host 'www.googleapis.com'. Adding certificate verification is strongly advised. See: https://urllib3.readthedocs.io/en/latest/advanced-usage.html#tls-warnings\n",
      "  warnings.warn(\n"
     ]
    },
    {
     "name": "stdout",
     "output_type": "stream",
     "text": [
      "Über Menschen\n"
     ]
    },
    {
     "name": "stderr",
     "output_type": "stream",
     "text": [
      "/var/folders/70/_kzl44wj5hv4tkqjfdkcmjdr0000gn/T/ipykernel_66453/3126177984.py:12: SettingWithCopyWarning: \n",
      "A value is trying to be set on a copy of a slice from a DataFrame.\n",
      "Try using .loc[row_indexer,col_indexer] = value instead\n",
      "\n",
      "See the caveats in the documentation: https://pandas.pydata.org/pandas-docs/stable/user_guide/indexing.html#returning-a-view-versus-a-copy\n",
      "  first_row_df['search_term']=search_terms\n",
      "/Users/christian/Projects/Notion-Bookshelf/.venv/lib/python3.10/site-packages/urllib3/connectionpool.py:1099: InsecureRequestWarning: Unverified HTTPS request is being made to host 'www.googleapis.com'. Adding certificate verification is strongly advised. See: https://urllib3.readthedocs.io/en/latest/advanced-usage.html#tls-warnings\n",
      "  warnings.warn(\n"
     ]
    },
    {
     "name": "stdout",
     "output_type": "stream",
     "text": [
      "Zur See\n"
     ]
    },
    {
     "name": "stderr",
     "output_type": "stream",
     "text": [
      "/var/folders/70/_kzl44wj5hv4tkqjfdkcmjdr0000gn/T/ipykernel_66453/3126177984.py:12: SettingWithCopyWarning: \n",
      "A value is trying to be set on a copy of a slice from a DataFrame.\n",
      "Try using .loc[row_indexer,col_indexer] = value instead\n",
      "\n",
      "See the caveats in the documentation: https://pandas.pydata.org/pandas-docs/stable/user_guide/indexing.html#returning-a-view-versus-a-copy\n",
      "  first_row_df['search_term']=search_terms\n",
      "/Users/christian/Projects/Notion-Bookshelf/.venv/lib/python3.10/site-packages/urllib3/connectionpool.py:1099: InsecureRequestWarning: Unverified HTTPS request is being made to host 'www.googleapis.com'. Adding certificate verification is strongly advised. See: https://urllib3.readthedocs.io/en/latest/advanced-usage.html#tls-warnings\n",
      "  warnings.warn(\n"
     ]
    },
    {
     "name": "stdout",
     "output_type": "stream",
     "text": [
      "The Illustrated A Brief History of Time\n"
     ]
    },
    {
     "name": "stderr",
     "output_type": "stream",
     "text": [
      "/var/folders/70/_kzl44wj5hv4tkqjfdkcmjdr0000gn/T/ipykernel_66453/3126177984.py:12: SettingWithCopyWarning: \n",
      "A value is trying to be set on a copy of a slice from a DataFrame.\n",
      "Try using .loc[row_indexer,col_indexer] = value instead\n",
      "\n",
      "See the caveats in the documentation: https://pandas.pydata.org/pandas-docs/stable/user_guide/indexing.html#returning-a-view-versus-a-copy\n",
      "  first_row_df['search_term']=search_terms\n",
      "/Users/christian/Projects/Notion-Bookshelf/.venv/lib/python3.10/site-packages/urllib3/connectionpool.py:1099: InsecureRequestWarning: Unverified HTTPS request is being made to host 'www.googleapis.com'. Adding certificate verification is strongly advised. See: https://urllib3.readthedocs.io/en/latest/advanced-usage.html#tls-warnings\n",
      "  warnings.warn(\n"
     ]
    },
    {
     "name": "stdout",
     "output_type": "stream",
     "text": [
      "To Kill a Mockingbird\n"
     ]
    },
    {
     "name": "stderr",
     "output_type": "stream",
     "text": [
      "/var/folders/70/_kzl44wj5hv4tkqjfdkcmjdr0000gn/T/ipykernel_66453/3126177984.py:12: SettingWithCopyWarning: \n",
      "A value is trying to be set on a copy of a slice from a DataFrame.\n",
      "Try using .loc[row_indexer,col_indexer] = value instead\n",
      "\n",
      "See the caveats in the documentation: https://pandas.pydata.org/pandas-docs/stable/user_guide/indexing.html#returning-a-view-versus-a-copy\n",
      "  first_row_df['search_term']=search_terms\n",
      "/Users/christian/Projects/Notion-Bookshelf/.venv/lib/python3.10/site-packages/urllib3/connectionpool.py:1099: InsecureRequestWarning: Unverified HTTPS request is being made to host 'www.googleapis.com'. Adding certificate verification is strongly advised. See: https://urllib3.readthedocs.io/en/latest/advanced-usage.html#tls-warnings\n",
      "  warnings.warn(\n"
     ]
    },
    {
     "name": "stdout",
     "output_type": "stream",
     "text": [
      "The Innovators\n"
     ]
    },
    {
     "name": "stderr",
     "output_type": "stream",
     "text": [
      "/var/folders/70/_kzl44wj5hv4tkqjfdkcmjdr0000gn/T/ipykernel_66453/3126177984.py:12: SettingWithCopyWarning: \n",
      "A value is trying to be set on a copy of a slice from a DataFrame.\n",
      "Try using .loc[row_indexer,col_indexer] = value instead\n",
      "\n",
      "See the caveats in the documentation: https://pandas.pydata.org/pandas-docs/stable/user_guide/indexing.html#returning-a-view-versus-a-copy\n",
      "  first_row_df['search_term']=search_terms\n",
      "/Users/christian/Projects/Notion-Bookshelf/.venv/lib/python3.10/site-packages/urllib3/connectionpool.py:1099: InsecureRequestWarning: Unverified HTTPS request is being made to host 'www.googleapis.com'. Adding certificate verification is strongly advised. See: https://urllib3.readthedocs.io/en/latest/advanced-usage.html#tls-warnings\n",
      "  warnings.warn(\n"
     ]
    },
    {
     "name": "stdout",
     "output_type": "stream",
     "text": [
      "The Code Breaker\n"
     ]
    },
    {
     "name": "stderr",
     "output_type": "stream",
     "text": [
      "/var/folders/70/_kzl44wj5hv4tkqjfdkcmjdr0000gn/T/ipykernel_66453/3126177984.py:12: SettingWithCopyWarning: \n",
      "A value is trying to be set on a copy of a slice from a DataFrame.\n",
      "Try using .loc[row_indexer,col_indexer] = value instead\n",
      "\n",
      "See the caveats in the documentation: https://pandas.pydata.org/pandas-docs/stable/user_guide/indexing.html#returning-a-view-versus-a-copy\n",
      "  first_row_df['search_term']=search_terms\n",
      "/Users/christian/Projects/Notion-Bookshelf/.venv/lib/python3.10/site-packages/urllib3/connectionpool.py:1099: InsecureRequestWarning: Unverified HTTPS request is being made to host 'www.googleapis.com'. Adding certificate verification is strongly advised. See: https://urllib3.readthedocs.io/en/latest/advanced-usage.html#tls-warnings\n",
      "  warnings.warn(\n"
     ]
    },
    {
     "name": "stdout",
     "output_type": "stream",
     "text": [
      "Sportbootführerschein Binnen Segel/Motor\n"
     ]
    },
    {
     "name": "stderr",
     "output_type": "stream",
     "text": [
      "/var/folders/70/_kzl44wj5hv4tkqjfdkcmjdr0000gn/T/ipykernel_66453/3126177984.py:12: SettingWithCopyWarning: \n",
      "A value is trying to be set on a copy of a slice from a DataFrame.\n",
      "Try using .loc[row_indexer,col_indexer] = value instead\n",
      "\n",
      "See the caveats in the documentation: https://pandas.pydata.org/pandas-docs/stable/user_guide/indexing.html#returning-a-view-versus-a-copy\n",
      "  first_row_df['search_term']=search_terms\n",
      "/Users/christian/Projects/Notion-Bookshelf/.venv/lib/python3.10/site-packages/urllib3/connectionpool.py:1099: InsecureRequestWarning: Unverified HTTPS request is being made to host 'www.googleapis.com'. Adding certificate verification is strongly advised. See: https://urllib3.readthedocs.io/en/latest/advanced-usage.html#tls-warnings\n",
      "  warnings.warn(\n"
     ]
    },
    {
     "name": "stdout",
     "output_type": "stream",
     "text": [
      "The Children of Hurin\n"
     ]
    },
    {
     "name": "stderr",
     "output_type": "stream",
     "text": [
      "/var/folders/70/_kzl44wj5hv4tkqjfdkcmjdr0000gn/T/ipykernel_66453/3126177984.py:12: SettingWithCopyWarning: \n",
      "A value is trying to be set on a copy of a slice from a DataFrame.\n",
      "Try using .loc[row_indexer,col_indexer] = value instead\n",
      "\n",
      "See the caveats in the documentation: https://pandas.pydata.org/pandas-docs/stable/user_guide/indexing.html#returning-a-view-versus-a-copy\n",
      "  first_row_df['search_term']=search_terms\n",
      "/Users/christian/Projects/Notion-Bookshelf/.venv/lib/python3.10/site-packages/urllib3/connectionpool.py:1099: InsecureRequestWarning: Unverified HTTPS request is being made to host 'www.googleapis.com'. Adding certificate verification is strongly advised. See: https://urllib3.readthedocs.io/en/latest/advanced-usage.html#tls-warnings\n",
      "  warnings.warn(\n"
     ]
    },
    {
     "name": "stdout",
     "output_type": "stream",
     "text": [
      "Sei du selbst\n"
     ]
    },
    {
     "name": "stderr",
     "output_type": "stream",
     "text": [
      "/var/folders/70/_kzl44wj5hv4tkqjfdkcmjdr0000gn/T/ipykernel_66453/3126177984.py:12: SettingWithCopyWarning: \n",
      "A value is trying to be set on a copy of a slice from a DataFrame.\n",
      "Try using .loc[row_indexer,col_indexer] = value instead\n",
      "\n",
      "See the caveats in the documentation: https://pandas.pydata.org/pandas-docs/stable/user_guide/indexing.html#returning-a-view-versus-a-copy\n",
      "  first_row_df['search_term']=search_terms\n",
      "/Users/christian/Projects/Notion-Bookshelf/.venv/lib/python3.10/site-packages/urllib3/connectionpool.py:1099: InsecureRequestWarning: Unverified HTTPS request is being made to host 'www.googleapis.com'. Adding certificate verification is strongly advised. See: https://urllib3.readthedocs.io/en/latest/advanced-usage.html#tls-warnings\n",
      "  warnings.warn(\n"
     ]
    },
    {
     "name": "stdout",
     "output_type": "stream",
     "text": [
      "Prima facie\n"
     ]
    },
    {
     "name": "stderr",
     "output_type": "stream",
     "text": [
      "/var/folders/70/_kzl44wj5hv4tkqjfdkcmjdr0000gn/T/ipykernel_66453/3126177984.py:12: SettingWithCopyWarning: \n",
      "A value is trying to be set on a copy of a slice from a DataFrame.\n",
      "Try using .loc[row_indexer,col_indexer] = value instead\n",
      "\n",
      "See the caveats in the documentation: https://pandas.pydata.org/pandas-docs/stable/user_guide/indexing.html#returning-a-view-versus-a-copy\n",
      "  first_row_df['search_term']=search_terms\n",
      "/Users/christian/Projects/Notion-Bookshelf/.venv/lib/python3.10/site-packages/urllib3/connectionpool.py:1099: InsecureRequestWarning: Unverified HTTPS request is being made to host 'www.googleapis.com'. Adding certificate verification is strongly advised. See: https://urllib3.readthedocs.io/en/latest/advanced-usage.html#tls-warnings\n",
      "  warnings.warn(\n"
     ]
    },
    {
     "name": "stdout",
     "output_type": "stream",
     "text": [
      "SPQR\n"
     ]
    },
    {
     "name": "stderr",
     "output_type": "stream",
     "text": [
      "/var/folders/70/_kzl44wj5hv4tkqjfdkcmjdr0000gn/T/ipykernel_66453/3126177984.py:12: SettingWithCopyWarning: \n",
      "A value is trying to be set on a copy of a slice from a DataFrame.\n",
      "Try using .loc[row_indexer,col_indexer] = value instead\n",
      "\n",
      "See the caveats in the documentation: https://pandas.pydata.org/pandas-docs/stable/user_guide/indexing.html#returning-a-view-versus-a-copy\n",
      "  first_row_df['search_term']=search_terms\n",
      "/Users/christian/Projects/Notion-Bookshelf/.venv/lib/python3.10/site-packages/urllib3/connectionpool.py:1099: InsecureRequestWarning: Unverified HTTPS request is being made to host 'www.googleapis.com'. Adding certificate verification is strongly advised. See: https://urllib3.readthedocs.io/en/latest/advanced-usage.html#tls-warnings\n",
      "  warnings.warn(\n"
     ]
    },
    {
     "name": "stdout",
     "output_type": "stream",
     "text": [
      "Praxisbuch Usability & UX\n"
     ]
    },
    {
     "name": "stderr",
     "output_type": "stream",
     "text": [
      "/var/folders/70/_kzl44wj5hv4tkqjfdkcmjdr0000gn/T/ipykernel_66453/3126177984.py:12: SettingWithCopyWarning: \n",
      "A value is trying to be set on a copy of a slice from a DataFrame.\n",
      "Try using .loc[row_indexer,col_indexer] = value instead\n",
      "\n",
      "See the caveats in the documentation: https://pandas.pydata.org/pandas-docs/stable/user_guide/indexing.html#returning-a-view-versus-a-copy\n",
      "  first_row_df['search_term']=search_terms\n",
      "/Users/christian/Projects/Notion-Bookshelf/.venv/lib/python3.10/site-packages/urllib3/connectionpool.py:1099: InsecureRequestWarning: Unverified HTTPS request is being made to host 'www.googleapis.com'. Adding certificate verification is strongly advised. See: https://urllib3.readthedocs.io/en/latest/advanced-usage.html#tls-warnings\n",
      "  warnings.warn(\n"
     ]
    },
    {
     "name": "stdout",
     "output_type": "stream",
     "text": [
      "Offene See\n"
     ]
    },
    {
     "name": "stderr",
     "output_type": "stream",
     "text": [
      "/var/folders/70/_kzl44wj5hv4tkqjfdkcmjdr0000gn/T/ipykernel_66453/3126177984.py:12: SettingWithCopyWarning: \n",
      "A value is trying to be set on a copy of a slice from a DataFrame.\n",
      "Try using .loc[row_indexer,col_indexer] = value instead\n",
      "\n",
      "See the caveats in the documentation: https://pandas.pydata.org/pandas-docs/stable/user_guide/indexing.html#returning-a-view-versus-a-copy\n",
      "  first_row_df['search_term']=search_terms\n",
      "/Users/christian/Projects/Notion-Bookshelf/.venv/lib/python3.10/site-packages/urllib3/connectionpool.py:1099: InsecureRequestWarning: Unverified HTTPS request is being made to host 'www.googleapis.com'. Adding certificate verification is strongly advised. See: https://urllib3.readthedocs.io/en/latest/advanced-usage.html#tls-warnings\n",
      "  warnings.warn(\n"
     ]
    },
    {
     "name": "stdout",
     "output_type": "stream",
     "text": [
      "Noch wach?\n"
     ]
    },
    {
     "name": "stderr",
     "output_type": "stream",
     "text": [
      "/var/folders/70/_kzl44wj5hv4tkqjfdkcmjdr0000gn/T/ipykernel_66453/3126177984.py:12: SettingWithCopyWarning: \n",
      "A value is trying to be set on a copy of a slice from a DataFrame.\n",
      "Try using .loc[row_indexer,col_indexer] = value instead\n",
      "\n",
      "See the caveats in the documentation: https://pandas.pydata.org/pandas-docs/stable/user_guide/indexing.html#returning-a-view-versus-a-copy\n",
      "  first_row_df['search_term']=search_terms\n",
      "/Users/christian/Projects/Notion-Bookshelf/.venv/lib/python3.10/site-packages/urllib3/connectionpool.py:1099: InsecureRequestWarning: Unverified HTTPS request is being made to host 'www.googleapis.com'. Adding certificate verification is strongly advised. See: https://urllib3.readthedocs.io/en/latest/advanced-usage.html#tls-warnings\n",
      "  warnings.warn(\n"
     ]
    },
    {
     "name": "stdout",
     "output_type": "stream",
     "text": [
      "Physik\n"
     ]
    },
    {
     "name": "stderr",
     "output_type": "stream",
     "text": [
      "/var/folders/70/_kzl44wj5hv4tkqjfdkcmjdr0000gn/T/ipykernel_66453/3126177984.py:12: SettingWithCopyWarning: \n",
      "A value is trying to be set on a copy of a slice from a DataFrame.\n",
      "Try using .loc[row_indexer,col_indexer] = value instead\n",
      "\n",
      "See the caveats in the documentation: https://pandas.pydata.org/pandas-docs/stable/user_guide/indexing.html#returning-a-view-versus-a-copy\n",
      "  first_row_df['search_term']=search_terms\n",
      "/Users/christian/Projects/Notion-Bookshelf/.venv/lib/python3.10/site-packages/urllib3/connectionpool.py:1099: InsecureRequestWarning: Unverified HTTPS request is being made to host 'www.googleapis.com'. Adding certificate verification is strongly advised. See: https://urllib3.readthedocs.io/en/latest/advanced-usage.html#tls-warnings\n",
      "  warnings.warn(\n"
     ]
    },
    {
     "name": "stdout",
     "output_type": "stream",
     "text": [
      "Nachrichten aus Mittelerde\n"
     ]
    },
    {
     "name": "stderr",
     "output_type": "stream",
     "text": [
      "/var/folders/70/_kzl44wj5hv4tkqjfdkcmjdr0000gn/T/ipykernel_66453/3126177984.py:12: SettingWithCopyWarning: \n",
      "A value is trying to be set on a copy of a slice from a DataFrame.\n",
      "Try using .loc[row_indexer,col_indexer] = value instead\n",
      "\n",
      "See the caveats in the documentation: https://pandas.pydata.org/pandas-docs/stable/user_guide/indexing.html#returning-a-view-versus-a-copy\n",
      "  first_row_df['search_term']=search_terms\n",
      "/Users/christian/Projects/Notion-Bookshelf/.venv/lib/python3.10/site-packages/urllib3/connectionpool.py:1099: InsecureRequestWarning: Unverified HTTPS request is being made to host 'www.googleapis.com'. Adding certificate verification is strongly advised. See: https://urllib3.readthedocs.io/en/latest/advanced-usage.html#tls-warnings\n",
      "  warnings.warn(\n"
     ]
    },
    {
     "name": "stdout",
     "output_type": "stream",
     "text": [
      "Napoleon und seine Zeit\n"
     ]
    },
    {
     "name": "stderr",
     "output_type": "stream",
     "text": [
      "/var/folders/70/_kzl44wj5hv4tkqjfdkcmjdr0000gn/T/ipykernel_66453/3126177984.py:12: SettingWithCopyWarning: \n",
      "A value is trying to be set on a copy of a slice from a DataFrame.\n",
      "Try using .loc[row_indexer,col_indexer] = value instead\n",
      "\n",
      "See the caveats in the documentation: https://pandas.pydata.org/pandas-docs/stable/user_guide/indexing.html#returning-a-view-versus-a-copy\n",
      "  first_row_df['search_term']=search_terms\n",
      "/Users/christian/Projects/Notion-Bookshelf/.venv/lib/python3.10/site-packages/urllib3/connectionpool.py:1099: InsecureRequestWarning: Unverified HTTPS request is being made to host 'www.googleapis.com'. Adding certificate verification is strongly advised. See: https://urllib3.readthedocs.io/en/latest/advanced-usage.html#tls-warnings\n",
      "  warnings.warn(\n"
     ]
    },
    {
     "name": "stdout",
     "output_type": "stream",
     "text": [
      "Montecristo\n"
     ]
    },
    {
     "name": "stderr",
     "output_type": "stream",
     "text": [
      "/var/folders/70/_kzl44wj5hv4tkqjfdkcmjdr0000gn/T/ipykernel_66453/3126177984.py:12: SettingWithCopyWarning: \n",
      "A value is trying to be set on a copy of a slice from a DataFrame.\n",
      "Try using .loc[row_indexer,col_indexer] = value instead\n",
      "\n",
      "See the caveats in the documentation: https://pandas.pydata.org/pandas-docs/stable/user_guide/indexing.html#returning-a-view-versus-a-copy\n",
      "  first_row_df['search_term']=search_terms\n",
      "/Users/christian/Projects/Notion-Bookshelf/.venv/lib/python3.10/site-packages/urllib3/connectionpool.py:1099: InsecureRequestWarning: Unverified HTTPS request is being made to host 'www.googleapis.com'. Adding certificate verification is strongly advised. See: https://urllib3.readthedocs.io/en/latest/advanced-usage.html#tls-warnings\n",
      "  warnings.warn(\n"
     ]
    },
    {
     "name": "stdout",
     "output_type": "stream",
     "text": [
      "My Own Words\n"
     ]
    },
    {
     "name": "stderr",
     "output_type": "stream",
     "text": [
      "/var/folders/70/_kzl44wj5hv4tkqjfdkcmjdr0000gn/T/ipykernel_66453/3126177984.py:12: SettingWithCopyWarning: \n",
      "A value is trying to be set on a copy of a slice from a DataFrame.\n",
      "Try using .loc[row_indexer,col_indexer] = value instead\n",
      "\n",
      "See the caveats in the documentation: https://pandas.pydata.org/pandas-docs/stable/user_guide/indexing.html#returning-a-view-versus-a-copy\n",
      "  first_row_df['search_term']=search_terms\n",
      "/Users/christian/Projects/Notion-Bookshelf/.venv/lib/python3.10/site-packages/urllib3/connectionpool.py:1099: InsecureRequestWarning: Unverified HTTPS request is being made to host 'www.googleapis.com'. Adding certificate verification is strongly advised. See: https://urllib3.readthedocs.io/en/latest/advanced-usage.html#tls-warnings\n",
      "  warnings.warn(\n"
     ]
    },
    {
     "name": "stdout",
     "output_type": "stream",
     "text": [
      "Mutabor\n"
     ]
    },
    {
     "name": "stderr",
     "output_type": "stream",
     "text": [
      "/var/folders/70/_kzl44wj5hv4tkqjfdkcmjdr0000gn/T/ipykernel_66453/3126177984.py:12: SettingWithCopyWarning: \n",
      "A value is trying to be set on a copy of a slice from a DataFrame.\n",
      "Try using .loc[row_indexer,col_indexer] = value instead\n",
      "\n",
      "See the caveats in the documentation: https://pandas.pydata.org/pandas-docs/stable/user_guide/indexing.html#returning-a-view-versus-a-copy\n",
      "  first_row_df['search_term']=search_terms\n",
      "/Users/christian/Projects/Notion-Bookshelf/.venv/lib/python3.10/site-packages/urllib3/connectionpool.py:1099: InsecureRequestWarning: Unverified HTTPS request is being made to host 'www.googleapis.com'. Adding certificate verification is strongly advised. See: https://urllib3.readthedocs.io/en/latest/advanced-usage.html#tls-warnings\n",
      "  warnings.warn(\n"
     ]
    },
    {
     "name": "stdout",
     "output_type": "stream",
     "text": [
      "Monschau\n"
     ]
    },
    {
     "name": "stderr",
     "output_type": "stream",
     "text": [
      "/var/folders/70/_kzl44wj5hv4tkqjfdkcmjdr0000gn/T/ipykernel_66453/3126177984.py:12: SettingWithCopyWarning: \n",
      "A value is trying to be set on a copy of a slice from a DataFrame.\n",
      "Try using .loc[row_indexer,col_indexer] = value instead\n",
      "\n",
      "See the caveats in the documentation: https://pandas.pydata.org/pandas-docs/stable/user_guide/indexing.html#returning-a-view-versus-a-copy\n",
      "  first_row_df['search_term']=search_terms\n",
      "/Users/christian/Projects/Notion-Bookshelf/.venv/lib/python3.10/site-packages/urllib3/connectionpool.py:1099: InsecureRequestWarning: Unverified HTTPS request is being made to host 'www.googleapis.com'. Adding certificate verification is strongly advised. See: https://urllib3.readthedocs.io/en/latest/advanced-usage.html#tls-warnings\n",
      "  warnings.warn(\n"
     ]
    },
    {
     "name": "stdout",
     "output_type": "stream",
     "text": [
      "MONEYMAKERS\n"
     ]
    },
    {
     "name": "stderr",
     "output_type": "stream",
     "text": [
      "/var/folders/70/_kzl44wj5hv4tkqjfdkcmjdr0000gn/T/ipykernel_66453/3126177984.py:12: SettingWithCopyWarning: \n",
      "A value is trying to be set on a copy of a slice from a DataFrame.\n",
      "Try using .loc[row_indexer,col_indexer] = value instead\n",
      "\n",
      "See the caveats in the documentation: https://pandas.pydata.org/pandas-docs/stable/user_guide/indexing.html#returning-a-view-versus-a-copy\n",
      "  first_row_df['search_term']=search_terms\n",
      "/Users/christian/Projects/Notion-Bookshelf/.venv/lib/python3.10/site-packages/urllib3/connectionpool.py:1099: InsecureRequestWarning: Unverified HTTPS request is being made to host 'www.googleapis.com'. Adding certificate verification is strongly advised. See: https://urllib3.readthedocs.io/en/latest/advanced-usage.html#tls-warnings\n",
      "  warnings.warn(\n"
     ]
    },
    {
     "name": "stdout",
     "output_type": "stream",
     "text": [
      "Madame Bovary\n"
     ]
    },
    {
     "name": "stderr",
     "output_type": "stream",
     "text": [
      "/var/folders/70/_kzl44wj5hv4tkqjfdkcmjdr0000gn/T/ipykernel_66453/3126177984.py:12: SettingWithCopyWarning: \n",
      "A value is trying to be set on a copy of a slice from a DataFrame.\n",
      "Try using .loc[row_indexer,col_indexer] = value instead\n",
      "\n",
      "See the caveats in the documentation: https://pandas.pydata.org/pandas-docs/stable/user_guide/indexing.html#returning-a-view-versus-a-copy\n",
      "  first_row_df['search_term']=search_terms\n",
      "/Users/christian/Projects/Notion-Bookshelf/.venv/lib/python3.10/site-packages/urllib3/connectionpool.py:1099: InsecureRequestWarning: Unverified HTTPS request is being made to host 'www.googleapis.com'. Adding certificate verification is strongly advised. See: https://urllib3.readthedocs.io/en/latest/advanced-usage.html#tls-warnings\n",
      "  warnings.warn(\n"
     ]
    },
    {
     "name": "stdout",
     "output_type": "stream",
     "text": [
      "Lichtspiel\n"
     ]
    },
    {
     "name": "stderr",
     "output_type": "stream",
     "text": [
      "/var/folders/70/_kzl44wj5hv4tkqjfdkcmjdr0000gn/T/ipykernel_66453/3126177984.py:12: SettingWithCopyWarning: \n",
      "A value is trying to be set on a copy of a slice from a DataFrame.\n",
      "Try using .loc[row_indexer,col_indexer] = value instead\n",
      "\n",
      "See the caveats in the documentation: https://pandas.pydata.org/pandas-docs/stable/user_guide/indexing.html#returning-a-view-versus-a-copy\n",
      "  first_row_df['search_term']=search_terms\n",
      "/Users/christian/Projects/Notion-Bookshelf/.venv/lib/python3.10/site-packages/urllib3/connectionpool.py:1099: InsecureRequestWarning: Unverified HTTPS request is being made to host 'www.googleapis.com'. Adding certificate verification is strongly advised. See: https://urllib3.readthedocs.io/en/latest/advanced-usage.html#tls-warnings\n",
      "  warnings.warn(\n"
     ]
    },
    {
     "name": "stdout",
     "output_type": "stream",
     "text": [
      "MANIAC\n"
     ]
    },
    {
     "name": "stderr",
     "output_type": "stream",
     "text": [
      "/var/folders/70/_kzl44wj5hv4tkqjfdkcmjdr0000gn/T/ipykernel_66453/3126177984.py:12: SettingWithCopyWarning: \n",
      "A value is trying to be set on a copy of a slice from a DataFrame.\n",
      "Try using .loc[row_indexer,col_indexer] = value instead\n",
      "\n",
      "See the caveats in the documentation: https://pandas.pydata.org/pandas-docs/stable/user_guide/indexing.html#returning-a-view-versus-a-copy\n",
      "  first_row_df['search_term']=search_terms\n",
      "/Users/christian/Projects/Notion-Bookshelf/.venv/lib/python3.10/site-packages/urllib3/connectionpool.py:1099: InsecureRequestWarning: Unverified HTTPS request is being made to host 'www.googleapis.com'. Adding certificate verification is strongly advised. See: https://urllib3.readthedocs.io/en/latest/advanced-usage.html#tls-warnings\n",
      "  warnings.warn(\n"
     ]
    },
    {
     "name": "stdout",
     "output_type": "stream",
     "text": [
      "Leonardo da Vinci\n"
     ]
    },
    {
     "name": "stderr",
     "output_type": "stream",
     "text": [
      "/var/folders/70/_kzl44wj5hv4tkqjfdkcmjdr0000gn/T/ipykernel_66453/3126177984.py:12: SettingWithCopyWarning: \n",
      "A value is trying to be set on a copy of a slice from a DataFrame.\n",
      "Try using .loc[row_indexer,col_indexer] = value instead\n",
      "\n",
      "See the caveats in the documentation: https://pandas.pydata.org/pandas-docs/stable/user_guide/indexing.html#returning-a-view-versus-a-copy\n",
      "  first_row_df['search_term']=search_terms\n",
      "/Users/christian/Projects/Notion-Bookshelf/.venv/lib/python3.10/site-packages/urllib3/connectionpool.py:1099: InsecureRequestWarning: Unverified HTTPS request is being made to host 'www.googleapis.com'. Adding certificate verification is strongly advised. See: https://urllib3.readthedocs.io/en/latest/advanced-usage.html#tls-warnings\n",
      "  warnings.warn(\n"
     ]
    },
    {
     "name": "stdout",
     "output_type": "stream",
     "text": [
      "Krieg und Frieden\n"
     ]
    },
    {
     "name": "stderr",
     "output_type": "stream",
     "text": [
      "/var/folders/70/_kzl44wj5hv4tkqjfdkcmjdr0000gn/T/ipykernel_66453/3126177984.py:12: SettingWithCopyWarning: \n",
      "A value is trying to be set on a copy of a slice from a DataFrame.\n",
      "Try using .loc[row_indexer,col_indexer] = value instead\n",
      "\n",
      "See the caveats in the documentation: https://pandas.pydata.org/pandas-docs/stable/user_guide/indexing.html#returning-a-view-versus-a-copy\n",
      "  first_row_df['search_term']=search_terms\n",
      "/Users/christian/Projects/Notion-Bookshelf/.venv/lib/python3.10/site-packages/urllib3/connectionpool.py:1099: InsecureRequestWarning: Unverified HTTPS request is being made to host 'www.googleapis.com'. Adding certificate verification is strongly advised. See: https://urllib3.readthedocs.io/en/latest/advanced-usage.html#tls-warnings\n",
      "  warnings.warn(\n"
     ]
    },
    {
     "name": "stdout",
     "output_type": "stream",
     "text": [
      "Klara und die Sonne\n"
     ]
    },
    {
     "name": "stderr",
     "output_type": "stream",
     "text": [
      "/var/folders/70/_kzl44wj5hv4tkqjfdkcmjdr0000gn/T/ipykernel_66453/3126177984.py:12: SettingWithCopyWarning: \n",
      "A value is trying to be set on a copy of a slice from a DataFrame.\n",
      "Try using .loc[row_indexer,col_indexer] = value instead\n",
      "\n",
      "See the caveats in the documentation: https://pandas.pydata.org/pandas-docs/stable/user_guide/indexing.html#returning-a-view-versus-a-copy\n",
      "  first_row_df['search_term']=search_terms\n",
      "/Users/christian/Projects/Notion-Bookshelf/.venv/lib/python3.10/site-packages/urllib3/connectionpool.py:1099: InsecureRequestWarning: Unverified HTTPS request is being made to host 'www.googleapis.com'. Adding certificate verification is strongly advised. See: https://urllib3.readthedocs.io/en/latest/advanced-usage.html#tls-warnings\n",
      "  warnings.warn(\n"
     ]
    },
    {
     "name": "stdout",
     "output_type": "stream",
     "text": [
      "King: A Life\n"
     ]
    },
    {
     "name": "stderr",
     "output_type": "stream",
     "text": [
      "/var/folders/70/_kzl44wj5hv4tkqjfdkcmjdr0000gn/T/ipykernel_66453/3126177984.py:12: SettingWithCopyWarning: \n",
      "A value is trying to be set on a copy of a slice from a DataFrame.\n",
      "Try using .loc[row_indexer,col_indexer] = value instead\n",
      "\n",
      "See the caveats in the documentation: https://pandas.pydata.org/pandas-docs/stable/user_guide/indexing.html#returning-a-view-versus-a-copy\n",
      "  first_row_df['search_term']=search_terms\n",
      "/Users/christian/Projects/Notion-Bookshelf/.venv/lib/python3.10/site-packages/urllib3/connectionpool.py:1099: InsecureRequestWarning: Unverified HTTPS request is being made to host 'www.googleapis.com'. Adding certificate verification is strongly advised. See: https://urllib3.readthedocs.io/en/latest/advanced-usage.html#tls-warnings\n",
      "  warnings.warn(\n"
     ]
    },
    {
     "name": "stdout",
     "output_type": "stream",
     "text": [
      "Ich bin Circe\n"
     ]
    },
    {
     "name": "stderr",
     "output_type": "stream",
     "text": [
      "/var/folders/70/_kzl44wj5hv4tkqjfdkcmjdr0000gn/T/ipykernel_66453/3126177984.py:12: SettingWithCopyWarning: \n",
      "A value is trying to be set on a copy of a slice from a DataFrame.\n",
      "Try using .loc[row_indexer,col_indexer] = value instead\n",
      "\n",
      "See the caveats in the documentation: https://pandas.pydata.org/pandas-docs/stable/user_guide/indexing.html#returning-a-view-versus-a-copy\n",
      "  first_row_df['search_term']=search_terms\n",
      "/Users/christian/Projects/Notion-Bookshelf/.venv/lib/python3.10/site-packages/urllib3/connectionpool.py:1099: InsecureRequestWarning: Unverified HTTPS request is being made to host 'www.googleapis.com'. Adding certificate verification is strongly advised. See: https://urllib3.readthedocs.io/en/latest/advanced-usage.html#tls-warnings\n",
      "  warnings.warn(\n"
     ]
    },
    {
     "name": "stdout",
     "output_type": "stream",
     "text": [
      "Humankind\n"
     ]
    },
    {
     "name": "stderr",
     "output_type": "stream",
     "text": [
      "/var/folders/70/_kzl44wj5hv4tkqjfdkcmjdr0000gn/T/ipykernel_66453/3126177984.py:12: SettingWithCopyWarning: \n",
      "A value is trying to be set on a copy of a slice from a DataFrame.\n",
      "Try using .loc[row_indexer,col_indexer] = value instead\n",
      "\n",
      "See the caveats in the documentation: https://pandas.pydata.org/pandas-docs/stable/user_guide/indexing.html#returning-a-view-versus-a-copy\n",
      "  first_row_df['search_term']=search_terms\n",
      "/Users/christian/Projects/Notion-Bookshelf/.venv/lib/python3.10/site-packages/urllib3/connectionpool.py:1099: InsecureRequestWarning: Unverified HTTPS request is being made to host 'www.googleapis.com'. Adding certificate verification is strongly advised. See: https://urllib3.readthedocs.io/en/latest/advanced-usage.html#tls-warnings\n",
      "  warnings.warn(\n"
     ]
    },
    {
     "name": "stdout",
     "output_type": "stream",
     "text": [
      "J. Robert Oppenheimer\n"
     ]
    },
    {
     "name": "stderr",
     "output_type": "stream",
     "text": [
      "/var/folders/70/_kzl44wj5hv4tkqjfdkcmjdr0000gn/T/ipykernel_66453/3126177984.py:12: SettingWithCopyWarning: \n",
      "A value is trying to be set on a copy of a slice from a DataFrame.\n",
      "Try using .loc[row_indexer,col_indexer] = value instead\n",
      "\n",
      "See the caveats in the documentation: https://pandas.pydata.org/pandas-docs/stable/user_guide/indexing.html#returning-a-view-versus-a-copy\n",
      "  first_row_df['search_term']=search_terms\n",
      "/Users/christian/Projects/Notion-Bookshelf/.venv/lib/python3.10/site-packages/urllib3/connectionpool.py:1099: InsecureRequestWarning: Unverified HTTPS request is being made to host 'www.googleapis.com'. Adding certificate verification is strongly advised. See: https://urllib3.readthedocs.io/en/latest/advanced-usage.html#tls-warnings\n",
      "  warnings.warn(\n"
     ]
    },
    {
     "name": "stdout",
     "output_type": "stream",
     "text": [
      "How to Avoid a Climate Disaster\n"
     ]
    },
    {
     "name": "stderr",
     "output_type": "stream",
     "text": [
      "/var/folders/70/_kzl44wj5hv4tkqjfdkcmjdr0000gn/T/ipykernel_66453/3126177984.py:12: SettingWithCopyWarning: \n",
      "A value is trying to be set on a copy of a slice from a DataFrame.\n",
      "Try using .loc[row_indexer,col_indexer] = value instead\n",
      "\n",
      "See the caveats in the documentation: https://pandas.pydata.org/pandas-docs/stable/user_guide/indexing.html#returning-a-view-versus-a-copy\n",
      "  first_row_df['search_term']=search_terms\n",
      "/Users/christian/Projects/Notion-Bookshelf/.venv/lib/python3.10/site-packages/urllib3/connectionpool.py:1099: InsecureRequestWarning: Unverified HTTPS request is being made to host 'www.googleapis.com'. Adding certificate verification is strongly advised. See: https://urllib3.readthedocs.io/en/latest/advanced-usage.html#tls-warnings\n",
      "  warnings.warn(\n"
     ]
    },
    {
     "name": "stdout",
     "output_type": "stream",
     "text": [
      "How Democracies Die\n"
     ]
    },
    {
     "name": "stderr",
     "output_type": "stream",
     "text": [
      "/var/folders/70/_kzl44wj5hv4tkqjfdkcmjdr0000gn/T/ipykernel_66453/3126177984.py:12: SettingWithCopyWarning: \n",
      "A value is trying to be set on a copy of a slice from a DataFrame.\n",
      "Try using .loc[row_indexer,col_indexer] = value instead\n",
      "\n",
      "See the caveats in the documentation: https://pandas.pydata.org/pandas-docs/stable/user_guide/indexing.html#returning-a-view-versus-a-copy\n",
      "  first_row_df['search_term']=search_terms\n",
      "/Users/christian/Projects/Notion-Bookshelf/.venv/lib/python3.10/site-packages/urllib3/connectionpool.py:1099: InsecureRequestWarning: Unverified HTTPS request is being made to host 'www.googleapis.com'. Adding certificate verification is strongly advised. See: https://urllib3.readthedocs.io/en/latest/advanced-usage.html#tls-warnings\n",
      "  warnings.warn(\n"
     ]
    },
    {
     "name": "stdout",
     "output_type": "stream",
     "text": [
      "Homer\n"
     ]
    },
    {
     "name": "stderr",
     "output_type": "stream",
     "text": [
      "/var/folders/70/_kzl44wj5hv4tkqjfdkcmjdr0000gn/T/ipykernel_66453/3126177984.py:12: SettingWithCopyWarning: \n",
      "A value is trying to be set on a copy of a slice from a DataFrame.\n",
      "Try using .loc[row_indexer,col_indexer] = value instead\n",
      "\n",
      "See the caveats in the documentation: https://pandas.pydata.org/pandas-docs/stable/user_guide/indexing.html#returning-a-view-versus-a-copy\n",
      "  first_row_df['search_term']=search_terms\n",
      "/Users/christian/Projects/Notion-Bookshelf/.venv/lib/python3.10/site-packages/urllib3/connectionpool.py:1099: InsecureRequestWarning: Unverified HTTPS request is being made to host 'www.googleapis.com'. Adding certificate verification is strongly advised. See: https://urllib3.readthedocs.io/en/latest/advanced-usage.html#tls-warnings\n",
      "  warnings.warn(\n"
     ]
    },
    {
     "name": "stdout",
     "output_type": "stream",
     "text": [
      "Hamster im hinteren Stromgebiet\n"
     ]
    },
    {
     "name": "stderr",
     "output_type": "stream",
     "text": [
      "/var/folders/70/_kzl44wj5hv4tkqjfdkcmjdr0000gn/T/ipykernel_66453/3126177984.py:12: SettingWithCopyWarning: \n",
      "A value is trying to be set on a copy of a slice from a DataFrame.\n",
      "Try using .loc[row_indexer,col_indexer] = value instead\n",
      "\n",
      "See the caveats in the documentation: https://pandas.pydata.org/pandas-docs/stable/user_guide/indexing.html#returning-a-view-versus-a-copy\n",
      "  first_row_df['search_term']=search_terms\n",
      "/Users/christian/Projects/Notion-Bookshelf/.venv/lib/python3.10/site-packages/urllib3/connectionpool.py:1099: InsecureRequestWarning: Unverified HTTPS request is being made to host 'www.googleapis.com'. Adding certificate verification is strongly advised. See: https://urllib3.readthedocs.io/en/latest/advanced-usage.html#tls-warnings\n",
      "  warnings.warn(\n"
     ]
    },
    {
     "name": "stdout",
     "output_type": "stream",
     "text": [
      "Helden\n"
     ]
    },
    {
     "name": "stderr",
     "output_type": "stream",
     "text": [
      "/var/folders/70/_kzl44wj5hv4tkqjfdkcmjdr0000gn/T/ipykernel_66453/3126177984.py:12: SettingWithCopyWarning: \n",
      "A value is trying to be set on a copy of a slice from a DataFrame.\n",
      "Try using .loc[row_indexer,col_indexer] = value instead\n",
      "\n",
      "See the caveats in the documentation: https://pandas.pydata.org/pandas-docs/stable/user_guide/indexing.html#returning-a-view-versus-a-copy\n",
      "  first_row_df['search_term']=search_terms\n",
      "/Users/christian/Projects/Notion-Bookshelf/.venv/lib/python3.10/site-packages/urllib3/connectionpool.py:1099: InsecureRequestWarning: Unverified HTTPS request is being made to host 'www.googleapis.com'. Adding certificate verification is strongly advised. See: https://urllib3.readthedocs.io/en/latest/advanced-usage.html#tls-warnings\n",
      "  warnings.warn(\n"
     ]
    },
    {
     "name": "stdout",
     "output_type": "stream",
     "text": [
      "Hast du uns endlich gefunden\n"
     ]
    },
    {
     "name": "stderr",
     "output_type": "stream",
     "text": [
      "/var/folders/70/_kzl44wj5hv4tkqjfdkcmjdr0000gn/T/ipykernel_66453/3126177984.py:12: SettingWithCopyWarning: \n",
      "A value is trying to be set on a copy of a slice from a DataFrame.\n",
      "Try using .loc[row_indexer,col_indexer] = value instead\n",
      "\n",
      "See the caveats in the documentation: https://pandas.pydata.org/pandas-docs/stable/user_guide/indexing.html#returning-a-view-versus-a-copy\n",
      "  first_row_df['search_term']=search_terms\n",
      "/Users/christian/Projects/Notion-Bookshelf/.venv/lib/python3.10/site-packages/urllib3/connectionpool.py:1099: InsecureRequestWarning: Unverified HTTPS request is being made to host 'www.googleapis.com'. Adding certificate verification is strongly advised. See: https://urllib3.readthedocs.io/en/latest/advanced-usage.html#tls-warnings\n",
      "  warnings.warn(\n"
     ]
    },
    {
     "name": "stdout",
     "output_type": "stream",
     "text": [
      "Hamlet\n"
     ]
    },
    {
     "name": "stderr",
     "output_type": "stream",
     "text": [
      "/var/folders/70/_kzl44wj5hv4tkqjfdkcmjdr0000gn/T/ipykernel_66453/3126177984.py:12: SettingWithCopyWarning: \n",
      "A value is trying to be set on a copy of a slice from a DataFrame.\n",
      "Try using .loc[row_indexer,col_indexer] = value instead\n",
      "\n",
      "See the caveats in the documentation: https://pandas.pydata.org/pandas-docs/stable/user_guide/indexing.html#returning-a-view-versus-a-copy\n",
      "  first_row_df['search_term']=search_terms\n",
      "/Users/christian/Projects/Notion-Bookshelf/.venv/lib/python3.10/site-packages/urllib3/connectionpool.py:1099: InsecureRequestWarning: Unverified HTTPS request is being made to host 'www.googleapis.com'. Adding certificate verification is strongly advised. See: https://urllib3.readthedocs.io/en/latest/advanced-usage.html#tls-warnings\n",
      "  warnings.warn(\n"
     ]
    },
    {
     "name": "stdout",
     "output_type": "stream",
     "text": [
      "Gefährlicher Glaube\n"
     ]
    },
    {
     "name": "stderr",
     "output_type": "stream",
     "text": [
      "/var/folders/70/_kzl44wj5hv4tkqjfdkcmjdr0000gn/T/ipykernel_66453/3126177984.py:12: SettingWithCopyWarning: \n",
      "A value is trying to be set on a copy of a slice from a DataFrame.\n",
      "Try using .loc[row_indexer,col_indexer] = value instead\n",
      "\n",
      "See the caveats in the documentation: https://pandas.pydata.org/pandas-docs/stable/user_guide/indexing.html#returning-a-view-versus-a-copy\n",
      "  first_row_df['search_term']=search_terms\n",
      "/Users/christian/Projects/Notion-Bookshelf/.venv/lib/python3.10/site-packages/urllib3/connectionpool.py:1099: InsecureRequestWarning: Unverified HTTPS request is being made to host 'www.googleapis.com'. Adding certificate verification is strongly advised. See: https://urllib3.readthedocs.io/en/latest/advanced-usage.html#tls-warnings\n",
      "  warnings.warn(\n"
     ]
    },
    {
     "name": "stdout",
     "output_type": "stream",
     "text": [
      "Ensel und Krete\n"
     ]
    },
    {
     "name": "stderr",
     "output_type": "stream",
     "text": [
      "/var/folders/70/_kzl44wj5hv4tkqjfdkcmjdr0000gn/T/ipykernel_66453/3126177984.py:12: SettingWithCopyWarning: \n",
      "A value is trying to be set on a copy of a slice from a DataFrame.\n",
      "Try using .loc[row_indexer,col_indexer] = value instead\n",
      "\n",
      "See the caveats in the documentation: https://pandas.pydata.org/pandas-docs/stable/user_guide/indexing.html#returning-a-view-versus-a-copy\n",
      "  first_row_df['search_term']=search_terms\n",
      "/Users/christian/Projects/Notion-Bookshelf/.venv/lib/python3.10/site-packages/urllib3/connectionpool.py:1099: InsecureRequestWarning: Unverified HTTPS request is being made to host 'www.googleapis.com'. Adding certificate verification is strongly advised. See: https://urllib3.readthedocs.io/en/latest/advanced-usage.html#tls-warnings\n",
      "  warnings.warn(\n"
     ]
    },
    {
     "name": "stdout",
     "output_type": "stream",
     "text": [
      "Ein verheißenes Land\n"
     ]
    },
    {
     "name": "stderr",
     "output_type": "stream",
     "text": [
      "/var/folders/70/_kzl44wj5hv4tkqjfdkcmjdr0000gn/T/ipykernel_66453/3126177984.py:12: SettingWithCopyWarning: \n",
      "A value is trying to be set on a copy of a slice from a DataFrame.\n",
      "Try using .loc[row_indexer,col_indexer] = value instead\n",
      "\n",
      "See the caveats in the documentation: https://pandas.pydata.org/pandas-docs/stable/user_guide/indexing.html#returning-a-view-versus-a-copy\n",
      "  first_row_df['search_term']=search_terms\n",
      "/Users/christian/Projects/Notion-Bookshelf/.venv/lib/python3.10/site-packages/urllib3/connectionpool.py:1099: InsecureRequestWarning: Unverified HTTPS request is being made to host 'www.googleapis.com'. Adding certificate verification is strongly advised. See: https://urllib3.readthedocs.io/en/latest/advanced-usage.html#tls-warnings\n",
      "  warnings.warn(\n"
     ]
    },
    {
     "name": "stdout",
     "output_type": "stream",
     "text": [
      "Elon Musk\n"
     ]
    },
    {
     "name": "stderr",
     "output_type": "stream",
     "text": [
      "/var/folders/70/_kzl44wj5hv4tkqjfdkcmjdr0000gn/T/ipykernel_66453/3126177984.py:12: SettingWithCopyWarning: \n",
      "A value is trying to be set on a copy of a slice from a DataFrame.\n",
      "Try using .loc[row_indexer,col_indexer] = value instead\n",
      "\n",
      "See the caveats in the documentation: https://pandas.pydata.org/pandas-docs/stable/user_guide/indexing.html#returning-a-view-versus-a-copy\n",
      "  first_row_df['search_term']=search_terms\n",
      "/Users/christian/Projects/Notion-Bookshelf/.venv/lib/python3.10/site-packages/urllib3/connectionpool.py:1099: InsecureRequestWarning: Unverified HTTPS request is being made to host 'www.googleapis.com'. Adding certificate verification is strongly advised. See: https://urllib3.readthedocs.io/en/latest/advanced-usage.html#tls-warnings\n",
      "  warnings.warn(\n"
     ]
    },
    {
     "name": "stdout",
     "output_type": "stream",
     "text": [
      "Einstein\n"
     ]
    },
    {
     "name": "stderr",
     "output_type": "stream",
     "text": [
      "/var/folders/70/_kzl44wj5hv4tkqjfdkcmjdr0000gn/T/ipykernel_66453/3126177984.py:12: SettingWithCopyWarning: \n",
      "A value is trying to be set on a copy of a slice from a DataFrame.\n",
      "Try using .loc[row_indexer,col_indexer] = value instead\n",
      "\n",
      "See the caveats in the documentation: https://pandas.pydata.org/pandas-docs/stable/user_guide/indexing.html#returning-a-view-versus-a-copy\n",
      "  first_row_df['search_term']=search_terms\n",
      "/Users/christian/Projects/Notion-Bookshelf/.venv/lib/python3.10/site-packages/urllib3/connectionpool.py:1099: InsecureRequestWarning: Unverified HTTPS request is being made to host 'www.googleapis.com'. Adding certificate verification is strongly advised. See: https://urllib3.readthedocs.io/en/latest/advanced-usage.html#tls-warnings\n",
      "  warnings.warn(\n"
     ]
    },
    {
     "name": "stdout",
     "output_type": "stream",
     "text": [
      "Dune\n"
     ]
    },
    {
     "name": "stderr",
     "output_type": "stream",
     "text": [
      "/var/folders/70/_kzl44wj5hv4tkqjfdkcmjdr0000gn/T/ipykernel_66453/3126177984.py:12: SettingWithCopyWarning: \n",
      "A value is trying to be set on a copy of a slice from a DataFrame.\n",
      "Try using .loc[row_indexer,col_indexer] = value instead\n",
      "\n",
      "See the caveats in the documentation: https://pandas.pydata.org/pandas-docs/stable/user_guide/indexing.html#returning-a-view-versus-a-copy\n",
      "  first_row_df['search_term']=search_terms\n",
      "/Users/christian/Projects/Notion-Bookshelf/.venv/lib/python3.10/site-packages/urllib3/connectionpool.py:1099: InsecureRequestWarning: Unverified HTTPS request is being made to host 'www.googleapis.com'. Adding certificate verification is strongly advised. See: https://urllib3.readthedocs.io/en/latest/advanced-usage.html#tls-warnings\n",
      "  warnings.warn(\n"
     ]
    },
    {
     "name": "stdout",
     "output_type": "stream",
     "text": [
      "Diese Wahrheiten\n"
     ]
    },
    {
     "name": "stderr",
     "output_type": "stream",
     "text": [
      "/var/folders/70/_kzl44wj5hv4tkqjfdkcmjdr0000gn/T/ipykernel_66453/3126177984.py:12: SettingWithCopyWarning: \n",
      "A value is trying to be set on a copy of a slice from a DataFrame.\n",
      "Try using .loc[row_indexer,col_indexer] = value instead\n",
      "\n",
      "See the caveats in the documentation: https://pandas.pydata.org/pandas-docs/stable/user_guide/indexing.html#returning-a-view-versus-a-copy\n",
      "  first_row_df['search_term']=search_terms\n",
      "/Users/christian/Projects/Notion-Bookshelf/.venv/lib/python3.10/site-packages/urllib3/connectionpool.py:1099: InsecureRequestWarning: Unverified HTTPS request is being made to host 'www.googleapis.com'. Adding certificate verification is strongly advised. See: https://urllib3.readthedocs.io/en/latest/advanced-usage.html#tls-warnings\n",
      "  warnings.warn(\n"
     ]
    },
    {
     "name": "stdout",
     "output_type": "stream",
     "text": [
      "Die weite Wildnis\n"
     ]
    },
    {
     "name": "stderr",
     "output_type": "stream",
     "text": [
      "/var/folders/70/_kzl44wj5hv4tkqjfdkcmjdr0000gn/T/ipykernel_66453/3126177984.py:12: SettingWithCopyWarning: \n",
      "A value is trying to be set on a copy of a slice from a DataFrame.\n",
      "Try using .loc[row_indexer,col_indexer] = value instead\n",
      "\n",
      "See the caveats in the documentation: https://pandas.pydata.org/pandas-docs/stable/user_guide/indexing.html#returning-a-view-versus-a-copy\n",
      "  first_row_df['search_term']=search_terms\n",
      "/Users/christian/Projects/Notion-Bookshelf/.venv/lib/python3.10/site-packages/urllib3/connectionpool.py:1099: InsecureRequestWarning: Unverified HTTPS request is being made to host 'www.googleapis.com'. Adding certificate verification is strongly advised. See: https://urllib3.readthedocs.io/en/latest/advanced-usage.html#tls-warnings\n",
      "  warnings.warn(\n"
     ]
    },
    {
     "name": "stdout",
     "output_type": "stream",
     "text": [
      "Die große Fotoschule\n"
     ]
    },
    {
     "name": "stderr",
     "output_type": "stream",
     "text": [
      "/var/folders/70/_kzl44wj5hv4tkqjfdkcmjdr0000gn/T/ipykernel_66453/3126177984.py:12: SettingWithCopyWarning: \n",
      "A value is trying to be set on a copy of a slice from a DataFrame.\n",
      "Try using .loc[row_indexer,col_indexer] = value instead\n",
      "\n",
      "See the caveats in the documentation: https://pandas.pydata.org/pandas-docs/stable/user_guide/indexing.html#returning-a-view-versus-a-copy\n",
      "  first_row_df['search_term']=search_terms\n",
      "/Users/christian/Projects/Notion-Bookshelf/.venv/lib/python3.10/site-packages/urllib3/connectionpool.py:1099: InsecureRequestWarning: Unverified HTTPS request is being made to host 'www.googleapis.com'. Adding certificate verification is strongly advised. See: https://urllib3.readthedocs.io/en/latest/advanced-usage.html#tls-warnings\n",
      "  warnings.warn(\n"
     ]
    },
    {
     "name": "stdout",
     "output_type": "stream",
     "text": [
      "Die Verteidigung\n"
     ]
    },
    {
     "name": "stderr",
     "output_type": "stream",
     "text": [
      "/var/folders/70/_kzl44wj5hv4tkqjfdkcmjdr0000gn/T/ipykernel_66453/3126177984.py:12: SettingWithCopyWarning: \n",
      "A value is trying to be set on a copy of a slice from a DataFrame.\n",
      "Try using .loc[row_indexer,col_indexer] = value instead\n",
      "\n",
      "See the caveats in the documentation: https://pandas.pydata.org/pandas-docs/stable/user_guide/indexing.html#returning-a-view-versus-a-copy\n",
      "  first_row_df['search_term']=search_terms\n",
      "/Users/christian/Projects/Notion-Bookshelf/.venv/lib/python3.10/site-packages/urllib3/connectionpool.py:1099: InsecureRequestWarning: Unverified HTTPS request is being made to host 'www.googleapis.com'. Adding certificate verification is strongly advised. See: https://urllib3.readthedocs.io/en/latest/advanced-usage.html#tls-warnings\n",
      "  warnings.warn(\n"
     ]
    },
    {
     "name": "stdout",
     "output_type": "stream",
     "text": [
      "Die Farbe von Wasser\n"
     ]
    },
    {
     "name": "stderr",
     "output_type": "stream",
     "text": [
      "/var/folders/70/_kzl44wj5hv4tkqjfdkcmjdr0000gn/T/ipykernel_66453/3126177984.py:12: SettingWithCopyWarning: \n",
      "A value is trying to be set on a copy of a slice from a DataFrame.\n",
      "Try using .loc[row_indexer,col_indexer] = value instead\n",
      "\n",
      "See the caveats in the documentation: https://pandas.pydata.org/pandas-docs/stable/user_guide/indexing.html#returning-a-view-versus-a-copy\n",
      "  first_row_df['search_term']=search_terms\n",
      "/Users/christian/Projects/Notion-Bookshelf/.venv/lib/python3.10/site-packages/urllib3/connectionpool.py:1099: InsecureRequestWarning: Unverified HTTPS request is being made to host 'www.googleapis.com'. Adding certificate verification is strongly advised. See: https://urllib3.readthedocs.io/en/latest/advanced-usage.html#tls-warnings\n",
      "  warnings.warn(\n"
     ]
    },
    {
     "name": "stdout",
     "output_type": "stream",
     "text": [
      "Die Intensivmedizin\n"
     ]
    },
    {
     "name": "stderr",
     "output_type": "stream",
     "text": [
      "/var/folders/70/_kzl44wj5hv4tkqjfdkcmjdr0000gn/T/ipykernel_66453/3126177984.py:12: SettingWithCopyWarning: \n",
      "A value is trying to be set on a copy of a slice from a DataFrame.\n",
      "Try using .loc[row_indexer,col_indexer] = value instead\n",
      "\n",
      "See the caveats in the documentation: https://pandas.pydata.org/pandas-docs/stable/user_guide/indexing.html#returning-a-view-versus-a-copy\n",
      "  first_row_df['search_term']=search_terms\n",
      "/Users/christian/Projects/Notion-Bookshelf/.venv/lib/python3.10/site-packages/urllib3/connectionpool.py:1099: InsecureRequestWarning: Unverified HTTPS request is being made to host 'www.googleapis.com'. Adding certificate verification is strongly advised. See: https://urllib3.readthedocs.io/en/latest/advanced-usage.html#tls-warnings\n",
      "  warnings.warn(\n"
     ]
    },
    {
     "name": "stdout",
     "output_type": "stream",
     "text": [
      "Der heilige King Kong\n"
     ]
    },
    {
     "name": "stderr",
     "output_type": "stream",
     "text": [
      "/var/folders/70/_kzl44wj5hv4tkqjfdkcmjdr0000gn/T/ipykernel_66453/3126177984.py:12: SettingWithCopyWarning: \n",
      "A value is trying to be set on a copy of a slice from a DataFrame.\n",
      "Try using .loc[row_indexer,col_indexer] = value instead\n",
      "\n",
      "See the caveats in the documentation: https://pandas.pydata.org/pandas-docs/stable/user_guide/indexing.html#returning-a-view-versus-a-copy\n",
      "  first_row_df['search_term']=search_terms\n",
      "/Users/christian/Projects/Notion-Bookshelf/.venv/lib/python3.10/site-packages/urllib3/connectionpool.py:1099: InsecureRequestWarning: Unverified HTTPS request is being made to host 'www.googleapis.com'. Adding certificate verification is strongly advised. See: https://urllib3.readthedocs.io/en/latest/advanced-usage.html#tls-warnings\n",
      "  warnings.warn(\n"
     ]
    },
    {
     "name": "stdout",
     "output_type": "stream",
     "text": [
      "Die 13 1/2 Leben des Käpt'n Blaubär\n"
     ]
    },
    {
     "name": "stderr",
     "output_type": "stream",
     "text": [
      "/var/folders/70/_kzl44wj5hv4tkqjfdkcmjdr0000gn/T/ipykernel_66453/3126177984.py:12: SettingWithCopyWarning: \n",
      "A value is trying to be set on a copy of a slice from a DataFrame.\n",
      "Try using .loc[row_indexer,col_indexer] = value instead\n",
      "\n",
      "See the caveats in the documentation: https://pandas.pydata.org/pandas-docs/stable/user_guide/indexing.html#returning-a-view-versus-a-copy\n",
      "  first_row_df['search_term']=search_terms\n",
      "/Users/christian/Projects/Notion-Bookshelf/.venv/lib/python3.10/site-packages/urllib3/connectionpool.py:1099: InsecureRequestWarning: Unverified HTTPS request is being made to host 'www.googleapis.com'. Adding certificate verification is strongly advised. See: https://urllib3.readthedocs.io/en/latest/advanced-usage.html#tls-warnings\n",
      "  warnings.warn(\n"
     ]
    },
    {
     "name": "stdout",
     "output_type": "stream",
     "text": [
      "Der Fetzen\n"
     ]
    },
    {
     "name": "stderr",
     "output_type": "stream",
     "text": [
      "/var/folders/70/_kzl44wj5hv4tkqjfdkcmjdr0000gn/T/ipykernel_66453/3126177984.py:12: SettingWithCopyWarning: \n",
      "A value is trying to be set on a copy of a slice from a DataFrame.\n",
      "Try using .loc[row_indexer,col_indexer] = value instead\n",
      "\n",
      "See the caveats in the documentation: https://pandas.pydata.org/pandas-docs/stable/user_guide/indexing.html#returning-a-view-versus-a-copy\n",
      "  first_row_df['search_term']=search_terms\n",
      "/Users/christian/Projects/Notion-Bookshelf/.venv/lib/python3.10/site-packages/urllib3/connectionpool.py:1099: InsecureRequestWarning: Unverified HTTPS request is being made to host 'www.googleapis.com'. Adding certificate verification is strongly advised. See: https://urllib3.readthedocs.io/en/latest/advanced-usage.html#tls-warnings\n",
      "  warnings.warn(\n"
     ]
    },
    {
     "name": "stdout",
     "output_type": "stream",
     "text": [
      "Der Fall von Gondolin\n"
     ]
    },
    {
     "name": "stderr",
     "output_type": "stream",
     "text": [
      "/var/folders/70/_kzl44wj5hv4tkqjfdkcmjdr0000gn/T/ipykernel_66453/3126177984.py:12: SettingWithCopyWarning: \n",
      "A value is trying to be set on a copy of a slice from a DataFrame.\n",
      "Try using .loc[row_indexer,col_indexer] = value instead\n",
      "\n",
      "See the caveats in the documentation: https://pandas.pydata.org/pandas-docs/stable/user_guide/indexing.html#returning-a-view-versus-a-copy\n",
      "  first_row_df['search_term']=search_terms\n",
      "/Users/christian/Projects/Notion-Bookshelf/.venv/lib/python3.10/site-packages/urllib3/connectionpool.py:1099: InsecureRequestWarning: Unverified HTTPS request is being made to host 'www.googleapis.com'. Adding certificate verification is strongly advised. See: https://urllib3.readthedocs.io/en/latest/advanced-usage.html#tls-warnings\n",
      "  warnings.warn(\n"
     ]
    },
    {
     "name": "stdout",
     "output_type": "stream",
     "text": [
      "Das blinde Licht\n"
     ]
    },
    {
     "name": "stderr",
     "output_type": "stream",
     "text": [
      "/var/folders/70/_kzl44wj5hv4tkqjfdkcmjdr0000gn/T/ipykernel_66453/3126177984.py:12: SettingWithCopyWarning: \n",
      "A value is trying to be set on a copy of a slice from a DataFrame.\n",
      "Try using .loc[row_indexer,col_indexer] = value instead\n",
      "\n",
      "See the caveats in the documentation: https://pandas.pydata.org/pandas-docs/stable/user_guide/indexing.html#returning-a-view-versus-a-copy\n",
      "  first_row_df['search_term']=search_terms\n",
      "/Users/christian/Projects/Notion-Bookshelf/.venv/lib/python3.10/site-packages/urllib3/connectionpool.py:1099: InsecureRequestWarning: Unverified HTTPS request is being made to host 'www.googleapis.com'. Adding certificate verification is strongly advised. See: https://urllib3.readthedocs.io/en/latest/advanced-usage.html#tls-warnings\n",
      "  warnings.warn(\n"
     ]
    },
    {
     "name": "stdout",
     "output_type": "stream",
     "text": [
      "Das Zeitalter der Unschärfe\n"
     ]
    },
    {
     "name": "stderr",
     "output_type": "stream",
     "text": [
      "/var/folders/70/_kzl44wj5hv4tkqjfdkcmjdr0000gn/T/ipykernel_66453/3126177984.py:12: SettingWithCopyWarning: \n",
      "A value is trying to be set on a copy of a slice from a DataFrame.\n",
      "Try using .loc[row_indexer,col_indexer] = value instead\n",
      "\n",
      "See the caveats in the documentation: https://pandas.pydata.org/pandas-docs/stable/user_guide/indexing.html#returning-a-view-versus-a-copy\n",
      "  first_row_df['search_term']=search_terms\n",
      "/Users/christian/Projects/Notion-Bookshelf/.venv/lib/python3.10/site-packages/urllib3/connectionpool.py:1099: InsecureRequestWarning: Unverified HTTPS request is being made to host 'www.googleapis.com'. Adding certificate verification is strongly advised. See: https://urllib3.readthedocs.io/en/latest/advanced-usage.html#tls-warnings\n",
      "  warnings.warn(\n"
     ]
    },
    {
     "name": "stdout",
     "output_type": "stream",
     "text": [
      "Das Universum in der Nussschale\n"
     ]
    },
    {
     "name": "stderr",
     "output_type": "stream",
     "text": [
      "/var/folders/70/_kzl44wj5hv4tkqjfdkcmjdr0000gn/T/ipykernel_66453/3126177984.py:12: SettingWithCopyWarning: \n",
      "A value is trying to be set on a copy of a slice from a DataFrame.\n",
      "Try using .loc[row_indexer,col_indexer] = value instead\n",
      "\n",
      "See the caveats in the documentation: https://pandas.pydata.org/pandas-docs/stable/user_guide/indexing.html#returning-a-view-versus-a-copy\n",
      "  first_row_df['search_term']=search_terms\n",
      "/Users/christian/Projects/Notion-Bookshelf/.venv/lib/python3.10/site-packages/urllib3/connectionpool.py:1099: InsecureRequestWarning: Unverified HTTPS request is being made to host 'www.googleapis.com'. Adding certificate verification is strongly advised. See: https://urllib3.readthedocs.io/en/latest/advanced-usage.html#tls-warnings\n",
      "  warnings.warn(\n"
     ]
    },
    {
     "name": "stdout",
     "output_type": "stream",
     "text": [
      "Das Silmarillion\n"
     ]
    },
    {
     "name": "stderr",
     "output_type": "stream",
     "text": [
      "/var/folders/70/_kzl44wj5hv4tkqjfdkcmjdr0000gn/T/ipykernel_66453/3126177984.py:12: SettingWithCopyWarning: \n",
      "A value is trying to be set on a copy of a slice from a DataFrame.\n",
      "Try using .loc[row_indexer,col_indexer] = value instead\n",
      "\n",
      "See the caveats in the documentation: https://pandas.pydata.org/pandas-docs/stable/user_guide/indexing.html#returning-a-view-versus-a-copy\n",
      "  first_row_df['search_term']=search_terms\n",
      "/Users/christian/Projects/Notion-Bookshelf/.venv/lib/python3.10/site-packages/urllib3/connectionpool.py:1099: InsecureRequestWarning: Unverified HTTPS request is being made to host 'www.googleapis.com'. Adding certificate verification is strongly advised. See: https://urllib3.readthedocs.io/en/latest/advanced-usage.html#tls-warnings\n",
      "  warnings.warn(\n"
     ]
    },
    {
     "name": "stdout",
     "output_type": "stream",
     "text": [
      "Das Lied des Achill\n"
     ]
    },
    {
     "name": "stderr",
     "output_type": "stream",
     "text": [
      "/var/folders/70/_kzl44wj5hv4tkqjfdkcmjdr0000gn/T/ipykernel_66453/3126177984.py:12: SettingWithCopyWarning: \n",
      "A value is trying to be set on a copy of a slice from a DataFrame.\n",
      "Try using .loc[row_indexer,col_indexer] = value instead\n",
      "\n",
      "See the caveats in the documentation: https://pandas.pydata.org/pandas-docs/stable/user_guide/indexing.html#returning-a-view-versus-a-copy\n",
      "  first_row_df['search_term']=search_terms\n",
      "/Users/christian/Projects/Notion-Bookshelf/.venv/lib/python3.10/site-packages/urllib3/connectionpool.py:1099: InsecureRequestWarning: Unverified HTTPS request is being made to host 'www.googleapis.com'. Adding certificate verification is strongly advised. See: https://urllib3.readthedocs.io/en/latest/advanced-usage.html#tls-warnings\n",
      "  warnings.warn(\n"
     ]
    },
    {
     "name": "stdout",
     "output_type": "stream",
     "text": [
      "Campbell Biologie\n"
     ]
    },
    {
     "name": "stderr",
     "output_type": "stream",
     "text": [
      "/var/folders/70/_kzl44wj5hv4tkqjfdkcmjdr0000gn/T/ipykernel_66453/3126177984.py:12: SettingWithCopyWarning: \n",
      "A value is trying to be set on a copy of a slice from a DataFrame.\n",
      "Try using .loc[row_indexer,col_indexer] = value instead\n",
      "\n",
      "See the caveats in the documentation: https://pandas.pydata.org/pandas-docs/stable/user_guide/indexing.html#returning-a-view-versus-a-copy\n",
      "  first_row_df['search_term']=search_terms\n",
      "/Users/christian/Projects/Notion-Bookshelf/.venv/lib/python3.10/site-packages/urllib3/connectionpool.py:1099: InsecureRequestWarning: Unverified HTTPS request is being made to host 'www.googleapis.com'. Adding certificate verification is strongly advised. See: https://urllib3.readthedocs.io/en/latest/advanced-usage.html#tls-warnings\n",
      "  warnings.warn(\n"
     ]
    },
    {
     "name": "stdout",
     "output_type": "stream",
     "text": [
      "Bullshit Jobs\n"
     ]
    },
    {
     "name": "stderr",
     "output_type": "stream",
     "text": [
      "/var/folders/70/_kzl44wj5hv4tkqjfdkcmjdr0000gn/T/ipykernel_66453/3126177984.py:12: SettingWithCopyWarning: \n",
      "A value is trying to be set on a copy of a slice from a DataFrame.\n",
      "Try using .loc[row_indexer,col_indexer] = value instead\n",
      "\n",
      "See the caveats in the documentation: https://pandas.pydata.org/pandas-docs/stable/user_guide/indexing.html#returning-a-view-versus-a-copy\n",
      "  first_row_df['search_term']=search_terms\n",
      "/Users/christian/Projects/Notion-Bookshelf/.venv/lib/python3.10/site-packages/urllib3/connectionpool.py:1099: InsecureRequestWarning: Unverified HTTPS request is being made to host 'www.googleapis.com'. Adding certificate verification is strongly advised. See: https://urllib3.readthedocs.io/en/latest/advanced-usage.html#tls-warnings\n",
      "  warnings.warn(\n"
     ]
    },
    {
     "name": "stdout",
     "output_type": "stream",
     "text": [
      "Das Café ohne Namen\n"
     ]
    },
    {
     "name": "stderr",
     "output_type": "stream",
     "text": [
      "/var/folders/70/_kzl44wj5hv4tkqjfdkcmjdr0000gn/T/ipykernel_66453/3126177984.py:12: SettingWithCopyWarning: \n",
      "A value is trying to be set on a copy of a slice from a DataFrame.\n",
      "Try using .loc[row_indexer,col_indexer] = value instead\n",
      "\n",
      "See the caveats in the documentation: https://pandas.pydata.org/pandas-docs/stable/user_guide/indexing.html#returning-a-view-versus-a-copy\n",
      "  first_row_df['search_term']=search_terms\n"
     ]
    },
    {
     "name": "stdout",
     "output_type": "stream",
     "text": [
      "Beren and Lúthien\n"
     ]
    },
    {
     "name": "stderr",
     "output_type": "stream",
     "text": [
      "/Users/christian/Projects/Notion-Bookshelf/.venv/lib/python3.10/site-packages/urllib3/connectionpool.py:1099: InsecureRequestWarning: Unverified HTTPS request is being made to host 'www.googleapis.com'. Adding certificate verification is strongly advised. See: https://urllib3.readthedocs.io/en/latest/advanced-usage.html#tls-warnings\n",
      "  warnings.warn(\n",
      "/var/folders/70/_kzl44wj5hv4tkqjfdkcmjdr0000gn/T/ipykernel_66453/3126177984.py:12: SettingWithCopyWarning: \n",
      "A value is trying to be set on a copy of a slice from a DataFrame.\n",
      "Try using .loc[row_indexer,col_indexer] = value instead\n",
      "\n",
      "See the caveats in the documentation: https://pandas.pydata.org/pandas-docs/stable/user_guide/indexing.html#returning-a-view-versus-a-copy\n",
      "  first_row_df['search_term']=search_terms\n",
      "/Users/christian/Projects/Notion-Bookshelf/.venv/lib/python3.10/site-packages/urllib3/connectionpool.py:1099: InsecureRequestWarning: Unverified HTTPS request is being made to host 'www.googleapis.com'. Adding certificate verification is strongly advised. See: https://urllib3.readthedocs.io/en/latest/advanced-usage.html#tls-warnings\n",
      "  warnings.warn(\n"
     ]
    },
    {
     "name": "stdout",
     "output_type": "stream",
     "text": [
      "BECOMING\n"
     ]
    },
    {
     "name": "stderr",
     "output_type": "stream",
     "text": [
      "/var/folders/70/_kzl44wj5hv4tkqjfdkcmjdr0000gn/T/ipykernel_66453/3126177984.py:12: SettingWithCopyWarning: \n",
      "A value is trying to be set on a copy of a slice from a DataFrame.\n",
      "Try using .loc[row_indexer,col_indexer] = value instead\n",
      "\n",
      "See the caveats in the documentation: https://pandas.pydata.org/pandas-docs/stable/user_guide/indexing.html#returning-a-view-versus-a-copy\n",
      "  first_row_df['search_term']=search_terms\n",
      "/Users/christian/Projects/Notion-Bookshelf/.venv/lib/python3.10/site-packages/urllib3/connectionpool.py:1099: InsecureRequestWarning: Unverified HTTPS request is being made to host 'www.googleapis.com'. Adding certificate verification is strongly advised. See: https://urllib3.readthedocs.io/en/latest/advanced-usage.html#tls-warnings\n",
      "  warnings.warn(\n"
     ]
    },
    {
     "name": "stdout",
     "output_type": "stream",
     "text": [
      "Atomic Habits\n"
     ]
    },
    {
     "name": "stderr",
     "output_type": "stream",
     "text": [
      "/var/folders/70/_kzl44wj5hv4tkqjfdkcmjdr0000gn/T/ipykernel_66453/3126177984.py:12: SettingWithCopyWarning: \n",
      "A value is trying to be set on a copy of a slice from a DataFrame.\n",
      "Try using .loc[row_indexer,col_indexer] = value instead\n",
      "\n",
      "See the caveats in the documentation: https://pandas.pydata.org/pandas-docs/stable/user_guide/indexing.html#returning-a-view-versus-a-copy\n",
      "  first_row_df['search_term']=search_terms\n",
      "/Users/christian/Projects/Notion-Bookshelf/.venv/lib/python3.10/site-packages/urllib3/connectionpool.py:1099: InsecureRequestWarning: Unverified HTTPS request is being made to host 'www.googleapis.com'. Adding certificate verification is strongly advised. See: https://urllib3.readthedocs.io/en/latest/advanced-usage.html#tls-warnings\n",
      "  warnings.warn(\n"
     ]
    },
    {
     "name": "stdout",
     "output_type": "stream",
     "text": [
      "Astronomie\n"
     ]
    },
    {
     "name": "stderr",
     "output_type": "stream",
     "text": [
      "/var/folders/70/_kzl44wj5hv4tkqjfdkcmjdr0000gn/T/ipykernel_66453/3126177984.py:12: SettingWithCopyWarning: \n",
      "A value is trying to be set on a copy of a slice from a DataFrame.\n",
      "Try using .loc[row_indexer,col_indexer] = value instead\n",
      "\n",
      "See the caveats in the documentation: https://pandas.pydata.org/pandas-docs/stable/user_guide/indexing.html#returning-a-view-versus-a-copy\n",
      "  first_row_df['search_term']=search_terms\n"
     ]
    },
    {
     "name": "stdout",
     "output_type": "stream",
     "text": [
      "Ali\n"
     ]
    },
    {
     "name": "stderr",
     "output_type": "stream",
     "text": [
      "/Users/christian/Projects/Notion-Bookshelf/.venv/lib/python3.10/site-packages/urllib3/connectionpool.py:1099: InsecureRequestWarning: Unverified HTTPS request is being made to host 'www.googleapis.com'. Adding certificate verification is strongly advised. See: https://urllib3.readthedocs.io/en/latest/advanced-usage.html#tls-warnings\n",
      "  warnings.warn(\n",
      "/var/folders/70/_kzl44wj5hv4tkqjfdkcmjdr0000gn/T/ipykernel_66453/3126177984.py:12: SettingWithCopyWarning: \n",
      "A value is trying to be set on a copy of a slice from a DataFrame.\n",
      "Try using .loc[row_indexer,col_indexer] = value instead\n",
      "\n",
      "See the caveats in the documentation: https://pandas.pydata.org/pandas-docs/stable/user_guide/indexing.html#returning-a-view-versus-a-copy\n",
      "  first_row_df['search_term']=search_terms\n",
      "/Users/christian/Projects/Notion-Bookshelf/.venv/lib/python3.10/site-packages/urllib3/connectionpool.py:1099: InsecureRequestWarning: Unverified HTTPS request is being made to host 'www.googleapis.com'. Adding certificate verification is strongly advised. See: https://urllib3.readthedocs.io/en/latest/advanced-usage.html#tls-warnings\n",
      "  warnings.warn(\n"
     ]
    },
    {
     "name": "stdout",
     "output_type": "stream",
     "text": [
      "Anaximander\n"
     ]
    },
    {
     "name": "stderr",
     "output_type": "stream",
     "text": [
      "/var/folders/70/_kzl44wj5hv4tkqjfdkcmjdr0000gn/T/ipykernel_66453/3126177984.py:12: SettingWithCopyWarning: \n",
      "A value is trying to be set on a copy of a slice from a DataFrame.\n",
      "Try using .loc[row_indexer,col_indexer] = value instead\n",
      "\n",
      "See the caveats in the documentation: https://pandas.pydata.org/pandas-docs/stable/user_guide/indexing.html#returning-a-view-versus-a-copy\n",
      "  first_row_df['search_term']=search_terms\n",
      "/Users/christian/Projects/Notion-Bookshelf/.venv/lib/python3.10/site-packages/urllib3/connectionpool.py:1099: InsecureRequestWarning: Unverified HTTPS request is being made to host 'www.googleapis.com'. Adding certificate verification is strongly advised. See: https://urllib3.readthedocs.io/en/latest/advanced-usage.html#tls-warnings\n",
      "  warnings.warn(\n"
     ]
    },
    {
     "name": "stdout",
     "output_type": "stream",
     "text": [
      "Annette, ein Heldinnenepos\n"
     ]
    },
    {
     "name": "stderr",
     "output_type": "stream",
     "text": [
      "/var/folders/70/_kzl44wj5hv4tkqjfdkcmjdr0000gn/T/ipykernel_66453/3126177984.py:12: SettingWithCopyWarning: \n",
      "A value is trying to be set on a copy of a slice from a DataFrame.\n",
      "Try using .loc[row_indexer,col_indexer] = value instead\n",
      "\n",
      "See the caveats in the documentation: https://pandas.pydata.org/pandas-docs/stable/user_guide/indexing.html#returning-a-view-versus-a-copy\n",
      "  first_row_df['search_term']=search_terms\n",
      "/Users/christian/Projects/Notion-Bookshelf/.venv/lib/python3.10/site-packages/urllib3/connectionpool.py:1099: InsecureRequestWarning: Unverified HTTPS request is being made to host 'www.googleapis.com'. Adding certificate verification is strongly advised. See: https://urllib3.readthedocs.io/en/latest/advanced-usage.html#tls-warnings\n",
      "  warnings.warn(\n"
     ]
    },
    {
     "name": "stdout",
     "output_type": "stream",
     "text": [
      "22 Bahnen\n"
     ]
    },
    {
     "name": "stderr",
     "output_type": "stream",
     "text": [
      "/var/folders/70/_kzl44wj5hv4tkqjfdkcmjdr0000gn/T/ipykernel_66453/3126177984.py:12: SettingWithCopyWarning: \n",
      "A value is trying to be set on a copy of a slice from a DataFrame.\n",
      "Try using .loc[row_indexer,col_indexer] = value instead\n",
      "\n",
      "See the caveats in the documentation: https://pandas.pydata.org/pandas-docs/stable/user_guide/indexing.html#returning-a-view-versus-a-copy\n",
      "  first_row_df['search_term']=search_terms\n"
     ]
    }
   ],
   "source": [
    "# my_reading_list = ['Never Split The Difference', \"Seeing what others don't\", '48 Laws of Power']\n",
    "# search_terms = 'Never Split The Difference'\n",
    "\n",
    "info = pd.DataFrame()\n",
    "for books in my_list_no_nan:\n",
    "    print(books)\n",
    "    info = info._append(google_book_search(books))"
   ]
  },
  {
   "cell_type": "markdown",
   "id": "c1e53c0c",
   "metadata": {},
   "source": [
    "### Data we received from Google Books API"
   ]
  },
  {
   "cell_type": "code",
   "execution_count": 90,
   "id": "054f8e69",
   "metadata": {},
   "outputs": [
    {
     "data": {
      "text/plain": [
       "Index(['kind', 'id', 'etag', 'selfLink', 'volumeInfo.title',\n",
       "       'volumeInfo.subtitle', 'volumeInfo.authors', 'volumeInfo.publisher',\n",
       "       'volumeInfo.publishedDate', 'volumeInfo.description',\n",
       "       'volumeInfo.industryIdentifiers', 'volumeInfo.readingModes.text',\n",
       "       'volumeInfo.readingModes.image', 'volumeInfo.pageCount',\n",
       "       'volumeInfo.printType', 'volumeInfo.categories',\n",
       "       'volumeInfo.maturityRating', 'volumeInfo.allowAnonLogging',\n",
       "       'volumeInfo.contentVersion',\n",
       "       'volumeInfo.panelizationSummary.containsEpubBubbles',\n",
       "       'volumeInfo.panelizationSummary.containsImageBubbles',\n",
       "       'volumeInfo.imageLinks.smallThumbnail',\n",
       "       'volumeInfo.imageLinks.thumbnail', 'volumeInfo.language',\n",
       "       'volumeInfo.previewLink', 'volumeInfo.infoLink',\n",
       "       'volumeInfo.canonicalVolumeLink', 'saleInfo.country',\n",
       "       'saleInfo.saleability', 'saleInfo.isEbook', 'saleInfo.listPrice.amount',\n",
       "       'saleInfo.listPrice.currencyCode', 'saleInfo.retailPrice.amount',\n",
       "       'saleInfo.retailPrice.currencyCode', 'saleInfo.buyLink',\n",
       "       'saleInfo.offers', 'accessInfo.country', 'accessInfo.viewability',\n",
       "       'accessInfo.embeddable', 'accessInfo.publicDomain',\n",
       "       'accessInfo.textToSpeechPermission', 'accessInfo.epub.isAvailable',\n",
       "       'accessInfo.pdf.isAvailable', 'accessInfo.webReaderLink',\n",
       "       'accessInfo.accessViewStatus', 'accessInfo.quoteSharingAllowed',\n",
       "       'searchInfo.textSnippet', 'accessInfo.epub.acsTokenLink',\n",
       "       'accessInfo.pdf.acsTokenLink', 'volumeInfo.averageRating',\n",
       "       'volumeInfo.ratingsCount', 'accessInfo.epub.downloadLink',\n",
       "       'accessInfo.pdf.downloadLink', 'search_term',\n",
       "       'volumeInfo.seriesInfo.kind', 'volumeInfo.seriesInfo.bookDisplayNumber',\n",
       "       'volumeInfo.seriesInfo.volumeSeries',\n",
       "       'volumeInfo.seriesInfo.shortSeriesBookTitle',\n",
       "       'volumeInfo.comicsContent',\n",
       "       'volumeInfo.panelizationSummary.epubBubbleVersion',\n",
       "       'volumeInfo.panelizationSummary.imageBubbleVersion'],\n",
       "      dtype='object')"
      ]
     },
     "execution_count": 90,
     "metadata": {},
     "output_type": "execute_result"
    }
   ],
   "source": [
    "info.columns"
   ]
  },
  {
   "cell_type": "code",
   "execution_count": 91,
   "id": "9a76fd77",
   "metadata": {},
   "outputs": [
    {
     "name": "stdout",
     "output_type": "stream",
     "text": [
      "(74, 61)\n"
     ]
    }
   ],
   "source": [
    "print(info.shape)\n",
    "google_data = info[['selfLink', 'volumeInfo.title',\n",
    "                    'volumeInfo.subtitle', 'volumeInfo.authors', 'volumeInfo.publisher',\n",
    "                    'volumeInfo.publishedDate', 'volumeInfo.description', 'volumeInfo.pageCount', 'volumeInfo.categories',\n",
    "                    'volumeInfo.imageLinks.smallThumbnail', 'volumeInfo.imageLinks.thumbnail', 'saleInfo.country', 'saleInfo.retailPrice.amount',\n",
    "                    'saleInfo.retailPrice.currencyCode', 'search_term'\n",
    "                    ]]"
   ]
  },
  {
   "cell_type": "markdown",
   "id": "da179206",
   "metadata": {},
   "source": [
    "### Reset index on google_data dataframe"
   ]
  },
  {
   "cell_type": "code",
   "execution_count": 92,
   "id": "610b0cbd",
   "metadata": {},
   "outputs": [],
   "source": [
    "google_data = (google_data).reset_index()"
   ]
  },
  {
   "cell_type": "code",
   "execution_count": 93,
   "id": "8ab6a4b7",
   "metadata": {},
   "outputs": [
    {
     "data": {
      "text/plain": [
       "0                      Moby Dick\n",
       "1                   Winterbienen\n",
       "2                         Mythos\n",
       "3                  Über Menschen\n",
       "4                        Zur See\n",
       "                 ...            \n",
       "69         Abriss der Astronomie\n",
       "70                      アリ (Ali)\n",
       "71    Anaximander und Anaximenes\n",
       "72    Annette, ein Heldinnenepos\n",
       "73                     22 Bahnen\n",
       "Name: volumeInfo.title, Length: 74, dtype: object"
      ]
     },
     "execution_count": 93,
     "metadata": {},
     "output_type": "execute_result"
    }
   ],
   "source": [
    "google_data['volumeInfo.title']"
   ]
  },
  {
   "cell_type": "markdown",
   "id": "d94000f4",
   "metadata": {},
   "source": [
    "## Dataset from Notion"
   ]
  },
  {
   "cell_type": "code",
   "execution_count": 94,
   "id": "8db1d6f0",
   "metadata": {},
   "outputs": [
    {
     "data": {
      "text/html": [
       "<div>\n",
       "<style scoped>\n",
       "    .dataframe tbody tr th:only-of-type {\n",
       "        vertical-align: middle;\n",
       "    }\n",
       "\n",
       "    .dataframe tbody tr th {\n",
       "        vertical-align: top;\n",
       "    }\n",
       "\n",
       "    .dataframe thead th {\n",
       "        text-align: right;\n",
       "    }\n",
       "</style>\n",
       "<table border=\"1\" class=\"dataframe\">\n",
       "  <thead>\n",
       "    <tr style=\"text-align: right;\">\n",
       "      <th></th>\n",
       "      <th>index</th>\n",
       "      <th>Category</th>\n",
       "      <th>Summary</th>\n",
       "      <th>Current page</th>\n",
       "      <th>Total pages</th>\n",
       "      <th>Date started</th>\n",
       "      <th>Progress</th>\n",
       "      <th>Author</th>\n",
       "      <th>Status</th>\n",
       "      <th>Title</th>\n",
       "      <th>page_url</th>\n",
       "      <th>cover</th>\n",
       "      <th>Date finished</th>\n",
       "      <th>_Name</th>\n",
       "      <th>_Author</th>\n",
       "      <th>page_id</th>\n",
       "    </tr>\n",
       "  </thead>\n",
       "  <tbody>\n",
       "    <tr>\n",
       "      <th>0</th>\n",
       "      <td>0</td>\n",
       "      <td>{'id': '/7eo', 'type': 'select', 'select': {'i...</td>\n",
       "      <td>{'id': '?\\25', 'type': 'rich_text', 'rich_text...</td>\n",
       "      <td>{'id': 'QK`M', 'type': 'number', 'number': 20}</td>\n",
       "      <td>{'id': '\\?}w', 'type': 'number', 'number': 920}</td>\n",
       "      <td>{'id': 'evL[', 'type': 'date', 'date': {'start...</td>\n",
       "      <td>{'id': 'nviz', 'type': 'formula', 'formula': {...</td>\n",
       "      <td>{'id': 'qNw_', 'type': 'rich_text', 'rich_text...</td>\n",
       "      <td>{'id': 'qRc\\', 'type': 'status', 'status': {'i...</td>\n",
       "      <td>{'id': 'title', 'type': 'title', 'title': [{'t...</td>\n",
       "      <td>https://www.notion.so/Moby-Dick-8ae970fcc5034b...</td>\n",
       "      <td>NaN</td>\n",
       "      <td>NaN</td>\n",
       "      <td>Moby Dick</td>\n",
       "      <td>Herman Melville</td>\n",
       "      <td>8ae970fcc5034b6ca551eee7e434b2b4</td>\n",
       "    </tr>\n",
       "    <tr>\n",
       "      <th>1</th>\n",
       "      <td>0</td>\n",
       "      <td>{'id': '/7eo', 'type': 'select', 'select': {'i...</td>\n",
       "      <td>{'id': '?\\25', 'type': 'rich_text', 'rich_text...</td>\n",
       "      <td>NaN</td>\n",
       "      <td>{'id': '\\?}w', 'type': 'number', 'number': 250}</td>\n",
       "      <td>{'id': 'evL[', 'type': 'date', 'date': {'start...</td>\n",
       "      <td>{'id': 'nviz', 'type': 'formula', 'formula': {...</td>\n",
       "      <td>{'id': 'qNw_', 'type': 'rich_text', 'rich_text...</td>\n",
       "      <td>{'id': 'qRc\\', 'type': 'status', 'status': {'i...</td>\n",
       "      <td>{'id': 'title', 'type': 'title', 'title': [{'t...</td>\n",
       "      <td>https://www.notion.so/Winterbienen-36a8bcd366d...</td>\n",
       "      <td>{'id': 'Urz&gt;', 'type': 'url', 'url': 'http://b...</td>\n",
       "      <td>{'id': 'flfJ', 'type': 'date', 'date': {'start...</td>\n",
       "      <td>Winterbienen</td>\n",
       "      <td>Norbert Scheuer</td>\n",
       "      <td>36a8bcd366d64786b768eb2509ff3e6f</td>\n",
       "    </tr>\n",
       "    <tr>\n",
       "      <th>2</th>\n",
       "      <td>0</td>\n",
       "      <td>NaN</td>\n",
       "      <td>{'id': '?\\25', 'type': 'rich_text', 'rich_text...</td>\n",
       "      <td>NaN</td>\n",
       "      <td>{'id': '\\?}w', 'type': 'number', 'number': 468}</td>\n",
       "      <td>{'id': 'evL[', 'type': 'date', 'date': {'start...</td>\n",
       "      <td>{'id': 'nviz', 'type': 'formula', 'formula': {...</td>\n",
       "      <td>{'id': 'qNw_', 'type': 'rich_text', 'rich_text...</td>\n",
       "      <td>{'id': 'qRc\\', 'type': 'status', 'status': {'i...</td>\n",
       "      <td>{'id': 'title', 'type': 'title', 'title': [{'t...</td>\n",
       "      <td>https://www.notion.so/Mythos-eb60075d9db74e36b...</td>\n",
       "      <td>{'id': 'Urz&gt;', 'type': 'url', 'url': 'http://b...</td>\n",
       "      <td>{'id': 'flfJ', 'type': 'date', 'date': {'start...</td>\n",
       "      <td>Mythos</td>\n",
       "      <td>Stephen Fry</td>\n",
       "      <td>eb60075d9db74e36ba530479bb452c36</td>\n",
       "    </tr>\n",
       "    <tr>\n",
       "      <th>3</th>\n",
       "      <td>0</td>\n",
       "      <td>NaN</td>\n",
       "      <td>{'id': '?\\25', 'type': 'rich_text', 'rich_text...</td>\n",
       "      <td>NaN</td>\n",
       "      <td>{'id': '\\?}w', 'type': 'number', 'number': 320}</td>\n",
       "      <td>{'id': 'evL[', 'type': 'date', 'date': {'start...</td>\n",
       "      <td>{'id': 'nviz', 'type': 'formula', 'formula': {...</td>\n",
       "      <td>{'id': 'qNw_', 'type': 'rich_text', 'rich_text...</td>\n",
       "      <td>{'id': 'qRc\\', 'type': 'status', 'status': {'i...</td>\n",
       "      <td>{'id': 'title', 'type': 'title', 'title': [{'t...</td>\n",
       "      <td>https://www.notion.so/ber-Menschen-a044186a860...</td>\n",
       "      <td>NaN</td>\n",
       "      <td>{'id': 'flfJ', 'type': 'date', 'date': {'start...</td>\n",
       "      <td>Über Menschen</td>\n",
       "      <td>Juli Zeh</td>\n",
       "      <td>a044186a86014c3b89fb198155814ada</td>\n",
       "    </tr>\n",
       "    <tr>\n",
       "      <th>4</th>\n",
       "      <td>0</td>\n",
       "      <td>NaN</td>\n",
       "      <td>{'id': '?\\25', 'type': 'rich_text', 'rich_text...</td>\n",
       "      <td>NaN</td>\n",
       "      <td>{'id': '\\?}w', 'type': 'number', 'number': 208}</td>\n",
       "      <td>{'id': 'evL[', 'type': 'date', 'date': {'start...</td>\n",
       "      <td>{'id': 'nviz', 'type': 'formula', 'formula': {...</td>\n",
       "      <td>{'id': 'qNw_', 'type': 'rich_text', 'rich_text...</td>\n",
       "      <td>{'id': 'qRc\\', 'type': 'status', 'status': {'i...</td>\n",
       "      <td>{'id': 'title', 'type': 'title', 'title': [{'t...</td>\n",
       "      <td>https://www.notion.so/Zur-See-b30e1dd1d3c64ce4...</td>\n",
       "      <td>NaN</td>\n",
       "      <td>{'id': 'flfJ', 'type': 'date', 'date': {'start...</td>\n",
       "      <td>Zur See</td>\n",
       "      <td>Dörte Hansen</td>\n",
       "      <td>b30e1dd1d3c64ce48d768bde69d3c2a8</td>\n",
       "    </tr>\n",
       "    <tr>\n",
       "      <th>...</th>\n",
       "      <td>...</td>\n",
       "      <td>...</td>\n",
       "      <td>...</td>\n",
       "      <td>...</td>\n",
       "      <td>...</td>\n",
       "      <td>...</td>\n",
       "      <td>...</td>\n",
       "      <td>...</td>\n",
       "      <td>...</td>\n",
       "      <td>...</td>\n",
       "      <td>...</td>\n",
       "      <td>...</td>\n",
       "      <td>...</td>\n",
       "      <td>...</td>\n",
       "      <td>...</td>\n",
       "      <td>...</td>\n",
       "    </tr>\n",
       "    <tr>\n",
       "      <th>70</th>\n",
       "      <td>0</td>\n",
       "      <td>NaN</td>\n",
       "      <td>{'id': '?\\25', 'type': 'rich_text', 'rich_text...</td>\n",
       "      <td>NaN</td>\n",
       "      <td>{'id': '\\?}w', 'type': 'number', 'number': 661}</td>\n",
       "      <td>NaN</td>\n",
       "      <td>{'id': 'nviz', 'type': 'formula', 'formula': {...</td>\n",
       "      <td>{'id': 'qNw_', 'type': 'rich_text', 'rich_text...</td>\n",
       "      <td>{'id': 'qRc\\', 'type': 'status', 'status': {'i...</td>\n",
       "      <td>{'id': 'title', 'type': 'title', 'title': [{'t...</td>\n",
       "      <td>https://www.notion.so/Ali-f9338061df794fd3b908...</td>\n",
       "      <td>{'id': 'Urz&gt;', 'type': 'url', 'url': 'http://b...</td>\n",
       "      <td>NaN</td>\n",
       "      <td>Ali</td>\n",
       "      <td>Jonathan Eig</td>\n",
       "      <td>f9338061df794fd3b9086bad63615b78</td>\n",
       "    </tr>\n",
       "    <tr>\n",
       "      <th>71</th>\n",
       "      <td>0</td>\n",
       "      <td>NaN</td>\n",
       "      <td>{'id': '?\\25', 'type': 'rich_text', 'rich_text...</td>\n",
       "      <td>NaN</td>\n",
       "      <td>{'id': '\\?}w', 'type': 'number', 'number': 195}</td>\n",
       "      <td>{'id': 'evL[', 'type': 'date', 'date': {'start...</td>\n",
       "      <td>{'id': 'nviz', 'type': 'formula', 'formula': {...</td>\n",
       "      <td>{'id': 'qNw_', 'type': 'rich_text', 'rich_text...</td>\n",
       "      <td>{'id': 'qRc\\', 'type': 'status', 'status': {'i...</td>\n",
       "      <td>{'id': 'title', 'type': 'title', 'title': [{'t...</td>\n",
       "      <td>https://www.notion.so/Anaximander-3f8a812a9b9a...</td>\n",
       "      <td>{'id': 'Urz&gt;', 'type': 'url', 'url': 'http://b...</td>\n",
       "      <td>{'id': 'flfJ', 'type': 'date', 'date': {'start...</td>\n",
       "      <td>Anaximander</td>\n",
       "      <td>Carlo Rovelli</td>\n",
       "      <td>3f8a812a9b9a40afac54d856189e7d7c</td>\n",
       "    </tr>\n",
       "    <tr>\n",
       "      <th>72</th>\n",
       "      <td>0</td>\n",
       "      <td>{'id': '/7eo', 'type': 'select', 'select': {'i...</td>\n",
       "      <td>{'id': '?\\25', 'type': 'rich_text', 'rich_text...</td>\n",
       "      <td>NaN</td>\n",
       "      <td>{'id': '\\?}w', 'type': 'number', 'number': 201}</td>\n",
       "      <td>{'id': 'evL[', 'type': 'date', 'date': {'start...</td>\n",
       "      <td>{'id': 'nviz', 'type': 'formula', 'formula': {...</td>\n",
       "      <td>{'id': 'qNw_', 'type': 'rich_text', 'rich_text...</td>\n",
       "      <td>{'id': 'qRc\\', 'type': 'status', 'status': {'i...</td>\n",
       "      <td>{'id': 'title', 'type': 'title', 'title': [{'t...</td>\n",
       "      <td>https://www.notion.so/Annette-ein-Heldinnenepo...</td>\n",
       "      <td>NaN</td>\n",
       "      <td>{'id': 'flfJ', 'type': 'date', 'date': {'start...</td>\n",
       "      <td>Annette, ein Heldinnenepos</td>\n",
       "      <td>Annette Weber</td>\n",
       "      <td>fcfb16d9e44e48768fc04d1f995ffd3a</td>\n",
       "    </tr>\n",
       "    <tr>\n",
       "      <th>73</th>\n",
       "      <td>0</td>\n",
       "      <td>NaN</td>\n",
       "      <td>{'id': '?\\25', 'type': 'rich_text', 'rich_text...</td>\n",
       "      <td>NaN</td>\n",
       "      <td>{'id': '\\?}w', 'type': 'number', 'number': 0}</td>\n",
       "      <td>NaN</td>\n",
       "      <td>{'id': 'nviz', 'type': 'formula', 'formula': {...</td>\n",
       "      <td>{'id': 'qNw_', 'type': 'rich_text', 'rich_text...</td>\n",
       "      <td>{'id': 'qRc\\', 'type': 'status', 'status': {'i...</td>\n",
       "      <td>{'id': 'title', 'type': 'title', 'title': []}</td>\n",
       "      <td>https://www.notion.so/7a403c575b4c4191b47d775e...</td>\n",
       "      <td>NaN</td>\n",
       "      <td>NaN</td>\n",
       "      <td>None</td>\n",
       "      <td>None</td>\n",
       "      <td>7a403c575b4c4191b47d775e554c489e</td>\n",
       "    </tr>\n",
       "    <tr>\n",
       "      <th>74</th>\n",
       "      <td>0</td>\n",
       "      <td>NaN</td>\n",
       "      <td>{'id': '?\\25', 'type': 'rich_text', 'rich_text...</td>\n",
       "      <td>NaN</td>\n",
       "      <td>{'id': '\\?}w', 'type': 'number', 'number': 203}</td>\n",
       "      <td>{'id': 'evL[', 'type': 'date', 'date': {'start...</td>\n",
       "      <td>{'id': 'nviz', 'type': 'formula', 'formula': {...</td>\n",
       "      <td>{'id': 'qNw_', 'type': 'rich_text', 'rich_text...</td>\n",
       "      <td>{'id': 'qRc\\', 'type': 'status', 'status': {'i...</td>\n",
       "      <td>{'id': 'title', 'type': 'title', 'title': [{'t...</td>\n",
       "      <td>https://www.notion.so/22-Bahnen-7cf9cf2022604b...</td>\n",
       "      <td>{'id': 'Urz&gt;', 'type': 'url', 'url': 'http://b...</td>\n",
       "      <td>{'id': 'flfJ', 'type': 'date', 'date': {'start...</td>\n",
       "      <td>22 Bahnen</td>\n",
       "      <td>Caroline Wahl</td>\n",
       "      <td>7cf9cf2022604b6a96e4294a83faf7d7</td>\n",
       "    </tr>\n",
       "  </tbody>\n",
       "</table>\n",
       "<p>75 rows × 16 columns</p>\n",
       "</div>"
      ],
      "text/plain": [
       "    index                                           Category  \\\n",
       "0       0  {'id': '/7eo', 'type': 'select', 'select': {'i...   \n",
       "1       0  {'id': '/7eo', 'type': 'select', 'select': {'i...   \n",
       "2       0                                                NaN   \n",
       "3       0                                                NaN   \n",
       "4       0                                                NaN   \n",
       "..    ...                                                ...   \n",
       "70      0                                                NaN   \n",
       "71      0                                                NaN   \n",
       "72      0  {'id': '/7eo', 'type': 'select', 'select': {'i...   \n",
       "73      0                                                NaN   \n",
       "74      0                                                NaN   \n",
       "\n",
       "                                              Summary  \\\n",
       "0   {'id': '?\\25', 'type': 'rich_text', 'rich_text...   \n",
       "1   {'id': '?\\25', 'type': 'rich_text', 'rich_text...   \n",
       "2   {'id': '?\\25', 'type': 'rich_text', 'rich_text...   \n",
       "3   {'id': '?\\25', 'type': 'rich_text', 'rich_text...   \n",
       "4   {'id': '?\\25', 'type': 'rich_text', 'rich_text...   \n",
       "..                                                ...   \n",
       "70  {'id': '?\\25', 'type': 'rich_text', 'rich_text...   \n",
       "71  {'id': '?\\25', 'type': 'rich_text', 'rich_text...   \n",
       "72  {'id': '?\\25', 'type': 'rich_text', 'rich_text...   \n",
       "73  {'id': '?\\25', 'type': 'rich_text', 'rich_text...   \n",
       "74  {'id': '?\\25', 'type': 'rich_text', 'rich_text...   \n",
       "\n",
       "                                      Current page  \\\n",
       "0   {'id': 'QK`M', 'type': 'number', 'number': 20}   \n",
       "1                                              NaN   \n",
       "2                                              NaN   \n",
       "3                                              NaN   \n",
       "4                                              NaN   \n",
       "..                                             ...   \n",
       "70                                             NaN   \n",
       "71                                             NaN   \n",
       "72                                             NaN   \n",
       "73                                             NaN   \n",
       "74                                             NaN   \n",
       "\n",
       "                                        Total pages  \\\n",
       "0   {'id': '\\?}w', 'type': 'number', 'number': 920}   \n",
       "1   {'id': '\\?}w', 'type': 'number', 'number': 250}   \n",
       "2   {'id': '\\?}w', 'type': 'number', 'number': 468}   \n",
       "3   {'id': '\\?}w', 'type': 'number', 'number': 320}   \n",
       "4   {'id': '\\?}w', 'type': 'number', 'number': 208}   \n",
       "..                                              ...   \n",
       "70  {'id': '\\?}w', 'type': 'number', 'number': 661}   \n",
       "71  {'id': '\\?}w', 'type': 'number', 'number': 195}   \n",
       "72  {'id': '\\?}w', 'type': 'number', 'number': 201}   \n",
       "73    {'id': '\\?}w', 'type': 'number', 'number': 0}   \n",
       "74  {'id': '\\?}w', 'type': 'number', 'number': 203}   \n",
       "\n",
       "                                         Date started  \\\n",
       "0   {'id': 'evL[', 'type': 'date', 'date': {'start...   \n",
       "1   {'id': 'evL[', 'type': 'date', 'date': {'start...   \n",
       "2   {'id': 'evL[', 'type': 'date', 'date': {'start...   \n",
       "3   {'id': 'evL[', 'type': 'date', 'date': {'start...   \n",
       "4   {'id': 'evL[', 'type': 'date', 'date': {'start...   \n",
       "..                                                ...   \n",
       "70                                                NaN   \n",
       "71  {'id': 'evL[', 'type': 'date', 'date': {'start...   \n",
       "72  {'id': 'evL[', 'type': 'date', 'date': {'start...   \n",
       "73                                                NaN   \n",
       "74  {'id': 'evL[', 'type': 'date', 'date': {'start...   \n",
       "\n",
       "                                             Progress  \\\n",
       "0   {'id': 'nviz', 'type': 'formula', 'formula': {...   \n",
       "1   {'id': 'nviz', 'type': 'formula', 'formula': {...   \n",
       "2   {'id': 'nviz', 'type': 'formula', 'formula': {...   \n",
       "3   {'id': 'nviz', 'type': 'formula', 'formula': {...   \n",
       "4   {'id': 'nviz', 'type': 'formula', 'formula': {...   \n",
       "..                                                ...   \n",
       "70  {'id': 'nviz', 'type': 'formula', 'formula': {...   \n",
       "71  {'id': 'nviz', 'type': 'formula', 'formula': {...   \n",
       "72  {'id': 'nviz', 'type': 'formula', 'formula': {...   \n",
       "73  {'id': 'nviz', 'type': 'formula', 'formula': {...   \n",
       "74  {'id': 'nviz', 'type': 'formula', 'formula': {...   \n",
       "\n",
       "                                               Author  \\\n",
       "0   {'id': 'qNw_', 'type': 'rich_text', 'rich_text...   \n",
       "1   {'id': 'qNw_', 'type': 'rich_text', 'rich_text...   \n",
       "2   {'id': 'qNw_', 'type': 'rich_text', 'rich_text...   \n",
       "3   {'id': 'qNw_', 'type': 'rich_text', 'rich_text...   \n",
       "4   {'id': 'qNw_', 'type': 'rich_text', 'rich_text...   \n",
       "..                                                ...   \n",
       "70  {'id': 'qNw_', 'type': 'rich_text', 'rich_text...   \n",
       "71  {'id': 'qNw_', 'type': 'rich_text', 'rich_text...   \n",
       "72  {'id': 'qNw_', 'type': 'rich_text', 'rich_text...   \n",
       "73  {'id': 'qNw_', 'type': 'rich_text', 'rich_text...   \n",
       "74  {'id': 'qNw_', 'type': 'rich_text', 'rich_text...   \n",
       "\n",
       "                                               Status  \\\n",
       "0   {'id': 'qRc\\', 'type': 'status', 'status': {'i...   \n",
       "1   {'id': 'qRc\\', 'type': 'status', 'status': {'i...   \n",
       "2   {'id': 'qRc\\', 'type': 'status', 'status': {'i...   \n",
       "3   {'id': 'qRc\\', 'type': 'status', 'status': {'i...   \n",
       "4   {'id': 'qRc\\', 'type': 'status', 'status': {'i...   \n",
       "..                                                ...   \n",
       "70  {'id': 'qRc\\', 'type': 'status', 'status': {'i...   \n",
       "71  {'id': 'qRc\\', 'type': 'status', 'status': {'i...   \n",
       "72  {'id': 'qRc\\', 'type': 'status', 'status': {'i...   \n",
       "73  {'id': 'qRc\\', 'type': 'status', 'status': {'i...   \n",
       "74  {'id': 'qRc\\', 'type': 'status', 'status': {'i...   \n",
       "\n",
       "                                                Title  \\\n",
       "0   {'id': 'title', 'type': 'title', 'title': [{'t...   \n",
       "1   {'id': 'title', 'type': 'title', 'title': [{'t...   \n",
       "2   {'id': 'title', 'type': 'title', 'title': [{'t...   \n",
       "3   {'id': 'title', 'type': 'title', 'title': [{'t...   \n",
       "4   {'id': 'title', 'type': 'title', 'title': [{'t...   \n",
       "..                                                ...   \n",
       "70  {'id': 'title', 'type': 'title', 'title': [{'t...   \n",
       "71  {'id': 'title', 'type': 'title', 'title': [{'t...   \n",
       "72  {'id': 'title', 'type': 'title', 'title': [{'t...   \n",
       "73      {'id': 'title', 'type': 'title', 'title': []}   \n",
       "74  {'id': 'title', 'type': 'title', 'title': [{'t...   \n",
       "\n",
       "                                             page_url  \\\n",
       "0   https://www.notion.so/Moby-Dick-8ae970fcc5034b...   \n",
       "1   https://www.notion.so/Winterbienen-36a8bcd366d...   \n",
       "2   https://www.notion.so/Mythos-eb60075d9db74e36b...   \n",
       "3   https://www.notion.so/ber-Menschen-a044186a860...   \n",
       "4   https://www.notion.so/Zur-See-b30e1dd1d3c64ce4...   \n",
       "..                                                ...   \n",
       "70  https://www.notion.so/Ali-f9338061df794fd3b908...   \n",
       "71  https://www.notion.so/Anaximander-3f8a812a9b9a...   \n",
       "72  https://www.notion.so/Annette-ein-Heldinnenepo...   \n",
       "73  https://www.notion.so/7a403c575b4c4191b47d775e...   \n",
       "74  https://www.notion.so/22-Bahnen-7cf9cf2022604b...   \n",
       "\n",
       "                                                cover  \\\n",
       "0                                                 NaN   \n",
       "1   {'id': 'Urz>', 'type': 'url', 'url': 'http://b...   \n",
       "2   {'id': 'Urz>', 'type': 'url', 'url': 'http://b...   \n",
       "3                                                 NaN   \n",
       "4                                                 NaN   \n",
       "..                                                ...   \n",
       "70  {'id': 'Urz>', 'type': 'url', 'url': 'http://b...   \n",
       "71  {'id': 'Urz>', 'type': 'url', 'url': 'http://b...   \n",
       "72                                                NaN   \n",
       "73                                                NaN   \n",
       "74  {'id': 'Urz>', 'type': 'url', 'url': 'http://b...   \n",
       "\n",
       "                                        Date finished  \\\n",
       "0                                                 NaN   \n",
       "1   {'id': 'flfJ', 'type': 'date', 'date': {'start...   \n",
       "2   {'id': 'flfJ', 'type': 'date', 'date': {'start...   \n",
       "3   {'id': 'flfJ', 'type': 'date', 'date': {'start...   \n",
       "4   {'id': 'flfJ', 'type': 'date', 'date': {'start...   \n",
       "..                                                ...   \n",
       "70                                                NaN   \n",
       "71  {'id': 'flfJ', 'type': 'date', 'date': {'start...   \n",
       "72  {'id': 'flfJ', 'type': 'date', 'date': {'start...   \n",
       "73                                                NaN   \n",
       "74  {'id': 'flfJ', 'type': 'date', 'date': {'start...   \n",
       "\n",
       "                         _Name          _Author  \\\n",
       "0                    Moby Dick  Herman Melville   \n",
       "1                 Winterbienen  Norbert Scheuer   \n",
       "2                       Mythos      Stephen Fry   \n",
       "3                Über Menschen         Juli Zeh   \n",
       "4                      Zur See     Dörte Hansen   \n",
       "..                         ...              ...   \n",
       "70                         Ali     Jonathan Eig   \n",
       "71                 Anaximander    Carlo Rovelli   \n",
       "72  Annette, ein Heldinnenepos    Annette Weber   \n",
       "73                        None             None   \n",
       "74                   22 Bahnen    Caroline Wahl   \n",
       "\n",
       "                             page_id  \n",
       "0   8ae970fcc5034b6ca551eee7e434b2b4  \n",
       "1   36a8bcd366d64786b768eb2509ff3e6f  \n",
       "2   eb60075d9db74e36ba530479bb452c36  \n",
       "3   a044186a86014c3b89fb198155814ada  \n",
       "4   b30e1dd1d3c64ce48d768bde69d3c2a8  \n",
       "..                               ...  \n",
       "70  f9338061df794fd3b9086bad63615b78  \n",
       "71  3f8a812a9b9a40afac54d856189e7d7c  \n",
       "72  fcfb16d9e44e48768fc04d1f995ffd3a  \n",
       "73  7a403c575b4c4191b47d775e554c489e  \n",
       "74  7cf9cf2022604b6a96e4294a83faf7d7  \n",
       "\n",
       "[75 rows x 16 columns]"
      ]
     },
     "execution_count": 94,
     "metadata": {},
     "output_type": "execute_result"
    }
   ],
   "source": [
    "Notion_data"
   ]
  },
  {
   "cell_type": "markdown",
   "id": "e27490e3",
   "metadata": {},
   "source": [
    "## Dataset from Google API"
   ]
  },
  {
   "cell_type": "code",
   "execution_count": 95,
   "id": "e10e0ebf",
   "metadata": {},
   "outputs": [
    {
     "data": {
      "text/html": [
       "<div>\n",
       "<style scoped>\n",
       "    .dataframe tbody tr th:only-of-type {\n",
       "        vertical-align: middle;\n",
       "    }\n",
       "\n",
       "    .dataframe tbody tr th {\n",
       "        vertical-align: top;\n",
       "    }\n",
       "\n",
       "    .dataframe thead th {\n",
       "        text-align: right;\n",
       "    }\n",
       "</style>\n",
       "<table border=\"1\" class=\"dataframe\">\n",
       "  <thead>\n",
       "    <tr style=\"text-align: right;\">\n",
       "      <th></th>\n",
       "      <th>index</th>\n",
       "      <th>selfLink</th>\n",
       "      <th>volumeInfo.title</th>\n",
       "      <th>volumeInfo.subtitle</th>\n",
       "      <th>volumeInfo.authors</th>\n",
       "      <th>volumeInfo.publisher</th>\n",
       "      <th>volumeInfo.publishedDate</th>\n",
       "      <th>volumeInfo.description</th>\n",
       "      <th>volumeInfo.pageCount</th>\n",
       "      <th>volumeInfo.categories</th>\n",
       "      <th>volumeInfo.imageLinks.smallThumbnail</th>\n",
       "      <th>volumeInfo.imageLinks.thumbnail</th>\n",
       "      <th>saleInfo.country</th>\n",
       "      <th>saleInfo.retailPrice.amount</th>\n",
       "      <th>saleInfo.retailPrice.currencyCode</th>\n",
       "      <th>search_term</th>\n",
       "    </tr>\n",
       "  </thead>\n",
       "  <tbody>\n",
       "    <tr>\n",
       "      <th>0</th>\n",
       "      <td>0</td>\n",
       "      <td>https://www.googleapis.com/books/v1/volumes/Vq...</td>\n",
       "      <td>Moby Dick</td>\n",
       "      <td>Der weiße Wal</td>\n",
       "      <td>[Herman Melville]</td>\n",
       "      <td>e-artnow</td>\n",
       "      <td>2016-07-31</td>\n",
       "      <td>Dieses eBook: \"Moby Dick\" ist mit einem detail...</td>\n",
       "      <td>187.0</td>\n",
       "      <td>[Fiction]</td>\n",
       "      <td>http://books.google.com/books/content?id=Vqw2D...</td>\n",
       "      <td>http://books.google.com/books/content?id=Vqw2D...</td>\n",
       "      <td>DE</td>\n",
       "      <td>1.99</td>\n",
       "      <td>EUR</td>\n",
       "      <td>Moby Dick</td>\n",
       "    </tr>\n",
       "    <tr>\n",
       "      <th>1</th>\n",
       "      <td>0</td>\n",
       "      <td>https://www.googleapis.com/books/v1/volumes/ui...</td>\n",
       "      <td>Winterbienen</td>\n",
       "      <td>Roman</td>\n",
       "      <td>[Norbert Scheuer]</td>\n",
       "      <td>C.H.Beck</td>\n",
       "      <td>2019-07-18</td>\n",
       "      <td>Januar 1944: Während über der Eifel britische ...</td>\n",
       "      <td>250.0</td>\n",
       "      <td>[Fiction]</td>\n",
       "      <td>http://books.google.com/books/content?id=uiiVD...</td>\n",
       "      <td>http://books.google.com/books/content?id=uiiVD...</td>\n",
       "      <td>DE</td>\n",
       "      <td>9.49</td>\n",
       "      <td>EUR</td>\n",
       "      <td>Winterbienen</td>\n",
       "    </tr>\n",
       "    <tr>\n",
       "      <th>2</th>\n",
       "      <td>0</td>\n",
       "      <td>https://www.googleapis.com/books/v1/volumes/BY...</td>\n",
       "      <td>Mythos</td>\n",
       "      <td>Zur Geschichte einer Denkgewohnheit</td>\n",
       "      <td>[Gerhart von Graevenitz]</td>\n",
       "      <td>Springer-Verlag</td>\n",
       "      <td>2016-12-17</td>\n",
       "      <td>Was ist Mythos? Der Autor charakterisiert den ...</td>\n",
       "      <td>368.0</td>\n",
       "      <td>[Literary Criticism]</td>\n",
       "      <td>http://books.google.com/books/content?id=BYy8D...</td>\n",
       "      <td>http://books.google.com/books/content?id=BYy8D...</td>\n",
       "      <td>DE</td>\n",
       "      <td>29.99</td>\n",
       "      <td>EUR</td>\n",
       "      <td>Mythos</td>\n",
       "    </tr>\n",
       "    <tr>\n",
       "      <th>3</th>\n",
       "      <td>0</td>\n",
       "      <td>https://www.googleapis.com/books/v1/volumes/nG...</td>\n",
       "      <td>Über Menschen</td>\n",
       "      <td>Roman</td>\n",
       "      <td>[Juli Zeh]</td>\n",
       "      <td>Luchterhand Literaturverlag</td>\n",
       "      <td>2021-03-22</td>\n",
       "      <td>Dora ist mit ihrer kleinen Hündin aufs Land ge...</td>\n",
       "      <td>351.0</td>\n",
       "      <td>[Fiction]</td>\n",
       "      <td>http://books.google.com/books/content?id=nGIGE...</td>\n",
       "      <td>http://books.google.com/books/content?id=nGIGE...</td>\n",
       "      <td>DE</td>\n",
       "      <td>10.99</td>\n",
       "      <td>EUR</td>\n",
       "      <td>Über Menschen</td>\n",
       "    </tr>\n",
       "    <tr>\n",
       "      <th>4</th>\n",
       "      <td>0</td>\n",
       "      <td>https://www.googleapis.com/books/v1/volumes/PK...</td>\n",
       "      <td>Zur See</td>\n",
       "      <td>NaN</td>\n",
       "      <td>[D. Von Henk]</td>\n",
       "      <td>BoD – Books on Demand</td>\n",
       "      <td>2011-08</td>\n",
       "      <td>NaN</td>\n",
       "      <td>458.0</td>\n",
       "      <td>[Transportation]</td>\n",
       "      <td>http://books.google.com/books/content?id=PKbla...</td>\n",
       "      <td>http://books.google.com/books/content?id=PKbla...</td>\n",
       "      <td>DE</td>\n",
       "      <td>NaN</td>\n",
       "      <td>NaN</td>\n",
       "      <td>Zur See</td>\n",
       "    </tr>\n",
       "    <tr>\n",
       "      <th>...</th>\n",
       "      <td>...</td>\n",
       "      <td>...</td>\n",
       "      <td>...</td>\n",
       "      <td>...</td>\n",
       "      <td>...</td>\n",
       "      <td>...</td>\n",
       "      <td>...</td>\n",
       "      <td>...</td>\n",
       "      <td>...</td>\n",
       "      <td>...</td>\n",
       "      <td>...</td>\n",
       "      <td>...</td>\n",
       "      <td>...</td>\n",
       "      <td>...</td>\n",
       "      <td>...</td>\n",
       "      <td>...</td>\n",
       "    </tr>\n",
       "    <tr>\n",
       "      <th>69</th>\n",
       "      <td>0</td>\n",
       "      <td>https://www.googleapis.com/books/v1/volumes/lq...</td>\n",
       "      <td>Abriss der Astronomie</td>\n",
       "      <td>NaN</td>\n",
       "      <td>[Hans-Heinrich Voigt]</td>\n",
       "      <td>John Wiley &amp; Sons</td>\n",
       "      <td>2012-05-07</td>\n",
       "      <td>Die Astronomie untersucht die Eigenschaften de...</td>\n",
       "      <td>1170.0</td>\n",
       "      <td>[Science]</td>\n",
       "      <td>http://books.google.com/books/content?id=lqEtB...</td>\n",
       "      <td>http://books.google.com/books/content?id=lqEtB...</td>\n",
       "      <td>DE</td>\n",
       "      <td>NaN</td>\n",
       "      <td>NaN</td>\n",
       "      <td>Astronomie</td>\n",
       "    </tr>\n",
       "    <tr>\n",
       "      <th>70</th>\n",
       "      <td>0</td>\n",
       "      <td>https://www.googleapis.com/books/v1/volumes/tO...</td>\n",
       "      <td>アリ (Ali)</td>\n",
       "      <td>Ali Auf Japanisch 6 X 9 (15,24 Cm X 22,86 Cm) ...</td>\n",
       "      <td>[Ali Geschenkidee]</td>\n",
       "      <td>NaN</td>\n",
       "      <td>2020-08-28</td>\n",
       "      <td>Ein liniertes Notizbuch in Standartgröße. Auf ...</td>\n",
       "      <td>100.0</td>\n",
       "      <td>NaN</td>\n",
       "      <td>NaN</td>\n",
       "      <td>NaN</td>\n",
       "      <td>DE</td>\n",
       "      <td>NaN</td>\n",
       "      <td>NaN</td>\n",
       "      <td>Ali</td>\n",
       "    </tr>\n",
       "    <tr>\n",
       "      <th>71</th>\n",
       "      <td>0</td>\n",
       "      <td>https://www.googleapis.com/books/v1/volumes/rR...</td>\n",
       "      <td>Anaximander und Anaximenes</td>\n",
       "      <td>NaN</td>\n",
       "      <td>NaN</td>\n",
       "      <td>Walter de Gruyter</td>\n",
       "      <td>2011-12-23</td>\n",
       "      <td>The edition of the works of the three sixth-ce...</td>\n",
       "      <td>540.0</td>\n",
       "      <td>[History]</td>\n",
       "      <td>http://books.google.com/books/content?id=rR3bI...</td>\n",
       "      <td>http://books.google.com/books/content?id=rR3bI...</td>\n",
       "      <td>DE</td>\n",
       "      <td>144.95</td>\n",
       "      <td>EUR</td>\n",
       "      <td>Anaximander</td>\n",
       "    </tr>\n",
       "    <tr>\n",
       "      <th>72</th>\n",
       "      <td>0</td>\n",
       "      <td>https://www.googleapis.com/books/v1/volumes/1n...</td>\n",
       "      <td>Annette, ein Heldinnenepos</td>\n",
       "      <td>NaN</td>\n",
       "      <td>[Anne Weber]</td>\n",
       "      <td>Matthes &amp; Seitz Berlin Verlag</td>\n",
       "      <td>2020-09-02</td>\n",
       "      <td>Mit dem Deutschen Buchpreis 2020 ausgezeichnet...</td>\n",
       "      <td>161.0</td>\n",
       "      <td>[Poetry]</td>\n",
       "      <td>http://books.google.com/books/content?id=1nf4D...</td>\n",
       "      <td>http://books.google.com/books/content?id=1nf4D...</td>\n",
       "      <td>DE</td>\n",
       "      <td>8.99</td>\n",
       "      <td>EUR</td>\n",
       "      <td>Annette, ein Heldinnenepos</td>\n",
       "    </tr>\n",
       "    <tr>\n",
       "      <th>73</th>\n",
       "      <td>0</td>\n",
       "      <td>https://www.googleapis.com/books/v1/volumes/dN...</td>\n",
       "      <td>22 Bahnen</td>\n",
       "      <td>Roman | Lieblingsbuch des unabhängigen Buchhan...</td>\n",
       "      <td>[Caroline Wahl]</td>\n",
       "      <td>Dumont Buchverlag</td>\n",
       "      <td>2023-04-18</td>\n",
       "      <td>Tildas Tage sind strikt durchgetaktet: studier...</td>\n",
       "      <td>185.0</td>\n",
       "      <td>[Fiction]</td>\n",
       "      <td>http://books.google.com/books/content?id=dN2aE...</td>\n",
       "      <td>http://books.google.com/books/content?id=dN2aE...</td>\n",
       "      <td>DE</td>\n",
       "      <td>10.99</td>\n",
       "      <td>EUR</td>\n",
       "      <td>22 Bahnen</td>\n",
       "    </tr>\n",
       "  </tbody>\n",
       "</table>\n",
       "<p>74 rows × 16 columns</p>\n",
       "</div>"
      ],
      "text/plain": [
       "    index                                           selfLink  \\\n",
       "0       0  https://www.googleapis.com/books/v1/volumes/Vq...   \n",
       "1       0  https://www.googleapis.com/books/v1/volumes/ui...   \n",
       "2       0  https://www.googleapis.com/books/v1/volumes/BY...   \n",
       "3       0  https://www.googleapis.com/books/v1/volumes/nG...   \n",
       "4       0  https://www.googleapis.com/books/v1/volumes/PK...   \n",
       "..    ...                                                ...   \n",
       "69      0  https://www.googleapis.com/books/v1/volumes/lq...   \n",
       "70      0  https://www.googleapis.com/books/v1/volumes/tO...   \n",
       "71      0  https://www.googleapis.com/books/v1/volumes/rR...   \n",
       "72      0  https://www.googleapis.com/books/v1/volumes/1n...   \n",
       "73      0  https://www.googleapis.com/books/v1/volumes/dN...   \n",
       "\n",
       "              volumeInfo.title  \\\n",
       "0                    Moby Dick   \n",
       "1                 Winterbienen   \n",
       "2                       Mythos   \n",
       "3                Über Menschen   \n",
       "4                      Zur See   \n",
       "..                         ...   \n",
       "69       Abriss der Astronomie   \n",
       "70                    アリ (Ali)   \n",
       "71  Anaximander und Anaximenes   \n",
       "72  Annette, ein Heldinnenepos   \n",
       "73                   22 Bahnen   \n",
       "\n",
       "                                  volumeInfo.subtitle  \\\n",
       "0                                       Der weiße Wal   \n",
       "1                                               Roman   \n",
       "2                 Zur Geschichte einer Denkgewohnheit   \n",
       "3                                               Roman   \n",
       "4                                                 NaN   \n",
       "..                                                ...   \n",
       "69                                                NaN   \n",
       "70  Ali Auf Japanisch 6 X 9 (15,24 Cm X 22,86 Cm) ...   \n",
       "71                                                NaN   \n",
       "72                                                NaN   \n",
       "73  Roman | Lieblingsbuch des unabhängigen Buchhan...   \n",
       "\n",
       "          volumeInfo.authors           volumeInfo.publisher  \\\n",
       "0          [Herman Melville]                       e-artnow   \n",
       "1          [Norbert Scheuer]                       C.H.Beck   \n",
       "2   [Gerhart von Graevenitz]                Springer-Verlag   \n",
       "3                 [Juli Zeh]    Luchterhand Literaturverlag   \n",
       "4              [D. Von Henk]          BoD – Books on Demand   \n",
       "..                       ...                            ...   \n",
       "69     [Hans-Heinrich Voigt]              John Wiley & Sons   \n",
       "70        [Ali Geschenkidee]                            NaN   \n",
       "71                       NaN              Walter de Gruyter   \n",
       "72              [Anne Weber]  Matthes & Seitz Berlin Verlag   \n",
       "73           [Caroline Wahl]              Dumont Buchverlag   \n",
       "\n",
       "   volumeInfo.publishedDate  \\\n",
       "0                2016-07-31   \n",
       "1                2019-07-18   \n",
       "2                2016-12-17   \n",
       "3                2021-03-22   \n",
       "4                   2011-08   \n",
       "..                      ...   \n",
       "69               2012-05-07   \n",
       "70               2020-08-28   \n",
       "71               2011-12-23   \n",
       "72               2020-09-02   \n",
       "73               2023-04-18   \n",
       "\n",
       "                               volumeInfo.description  volumeInfo.pageCount  \\\n",
       "0   Dieses eBook: \"Moby Dick\" ist mit einem detail...                 187.0   \n",
       "1   Januar 1944: Während über der Eifel britische ...                 250.0   \n",
       "2   Was ist Mythos? Der Autor charakterisiert den ...                 368.0   \n",
       "3   Dora ist mit ihrer kleinen Hündin aufs Land ge...                 351.0   \n",
       "4                                                 NaN                 458.0   \n",
       "..                                                ...                   ...   \n",
       "69  Die Astronomie untersucht die Eigenschaften de...                1170.0   \n",
       "70  Ein liniertes Notizbuch in Standartgröße. Auf ...                 100.0   \n",
       "71  The edition of the works of the three sixth-ce...                 540.0   \n",
       "72  Mit dem Deutschen Buchpreis 2020 ausgezeichnet...                 161.0   \n",
       "73  Tildas Tage sind strikt durchgetaktet: studier...                 185.0   \n",
       "\n",
       "   volumeInfo.categories               volumeInfo.imageLinks.smallThumbnail  \\\n",
       "0              [Fiction]  http://books.google.com/books/content?id=Vqw2D...   \n",
       "1              [Fiction]  http://books.google.com/books/content?id=uiiVD...   \n",
       "2   [Literary Criticism]  http://books.google.com/books/content?id=BYy8D...   \n",
       "3              [Fiction]  http://books.google.com/books/content?id=nGIGE...   \n",
       "4       [Transportation]  http://books.google.com/books/content?id=PKbla...   \n",
       "..                   ...                                                ...   \n",
       "69             [Science]  http://books.google.com/books/content?id=lqEtB...   \n",
       "70                   NaN                                                NaN   \n",
       "71             [History]  http://books.google.com/books/content?id=rR3bI...   \n",
       "72              [Poetry]  http://books.google.com/books/content?id=1nf4D...   \n",
       "73             [Fiction]  http://books.google.com/books/content?id=dN2aE...   \n",
       "\n",
       "                      volumeInfo.imageLinks.thumbnail saleInfo.country  \\\n",
       "0   http://books.google.com/books/content?id=Vqw2D...               DE   \n",
       "1   http://books.google.com/books/content?id=uiiVD...               DE   \n",
       "2   http://books.google.com/books/content?id=BYy8D...               DE   \n",
       "3   http://books.google.com/books/content?id=nGIGE...               DE   \n",
       "4   http://books.google.com/books/content?id=PKbla...               DE   \n",
       "..                                                ...              ...   \n",
       "69  http://books.google.com/books/content?id=lqEtB...               DE   \n",
       "70                                                NaN               DE   \n",
       "71  http://books.google.com/books/content?id=rR3bI...               DE   \n",
       "72  http://books.google.com/books/content?id=1nf4D...               DE   \n",
       "73  http://books.google.com/books/content?id=dN2aE...               DE   \n",
       "\n",
       "    saleInfo.retailPrice.amount saleInfo.retailPrice.currencyCode  \\\n",
       "0                          1.99                               EUR   \n",
       "1                          9.49                               EUR   \n",
       "2                         29.99                               EUR   \n",
       "3                         10.99                               EUR   \n",
       "4                           NaN                               NaN   \n",
       "..                          ...                               ...   \n",
       "69                          NaN                               NaN   \n",
       "70                          NaN                               NaN   \n",
       "71                       144.95                               EUR   \n",
       "72                         8.99                               EUR   \n",
       "73                        10.99                               EUR   \n",
       "\n",
       "                   search_term  \n",
       "0                    Moby Dick  \n",
       "1                 Winterbienen  \n",
       "2                       Mythos  \n",
       "3                Über Menschen  \n",
       "4                      Zur See  \n",
       "..                         ...  \n",
       "69                  Astronomie  \n",
       "70                         Ali  \n",
       "71                 Anaximander  \n",
       "72  Annette, ein Heldinnenepos  \n",
       "73                   22 Bahnen  \n",
       "\n",
       "[74 rows x 16 columns]"
      ]
     },
     "execution_count": 95,
     "metadata": {},
     "output_type": "execute_result"
    }
   ],
   "source": [
    "google_data"
   ]
  },
  {
   "cell_type": "code",
   "execution_count": 96,
   "id": "071d5623",
   "metadata": {},
   "outputs": [],
   "source": [
    "look_up = pd.merge(Notion_data, google_data, left_on=[\n",
    "                   '_Name'], right_on=['search_term'], how='left')"
   ]
  },
  {
   "cell_type": "markdown",
   "id": "bb37c91c",
   "metadata": {},
   "source": [
    "# Update notion with google data\n",
    "https://developers.notion.com/reference/page#property-value-object lists the properties and how to format them"
   ]
  },
  {
   "cell_type": "code",
   "execution_count": 97,
   "id": "925c417e",
   "metadata": {},
   "outputs": [],
   "source": [
    "# Update a property on a page based on property type\n",
    "def update_page(page_id, property_name, property_type, property_value):\n",
    "    url = f\"https://api.notion.com/v1/pages/{page_id}\"\n",
    "\n",
    "    if property_type == 'date':\n",
    "        property_payload = {\n",
    "            \"start\": property_value\n",
    "        }\n",
    "    elif property_type == 'url':\n",
    "        property_payload = property_value\n",
    "    elif property_type == 'number':\n",
    "        property_payload = property_value\n",
    "    elif property_type == 'rich_text':\n",
    "        property_payload = [{\n",
    "            \"type\": \"text\",\n",
    "            \"text\": {\n",
    "                \"content\": property_value\n",
    "            }\n",
    "        }]\n",
    "    elif property_type == 'select':\n",
    "        property_payload = {\n",
    "            \"name\": property_value\n",
    "        }\n",
    "\n",
    "    payload = json.dumps({\n",
    "        \"properties\": {\n",
    "            property_name: {\n",
    "                property_type: property_payload\n",
    "            }\n",
    "        }\n",
    "    })\n",
    "    # print(payload)\n",
    "    headers = {\n",
    "        'Content-Type': 'application/json',\n",
    "        'Notion-Version': '2021-05-13',\n",
    "        'Authorization': f'Bearer {secret_key}'\n",
    "    }\n",
    "\n",
    "    response = requests.request(\n",
    "        \"PATCH\", url, headers=headers, data=payload, verify=False)\n",
    "    print(response.status_code)\n",
    "    # print(response.json)\n",
    "    return response.json"
   ]
  },
  {
   "cell_type": "code",
   "execution_count": 98,
   "id": "b178e0be",
   "metadata": {},
   "outputs": [],
   "source": [
    "def update_properties(property_name, property_type, data_column):\n",
    "    page_id = look_up['page_id'][i]\n",
    "    property_value = look_up[data_column][i]\n",
    "    update_page(page_id, property_name, property_type, property_value)"
   ]
  },
  {
   "cell_type": "markdown",
   "id": "c3024895",
   "metadata": {},
   "source": [
    "### Update Publishing Dates using Google data"
   ]
  },
  {
   "cell_type": "code",
   "execution_count": 99,
   "id": "f51b599e",
   "metadata": {},
   "outputs": [
    {
     "name": "stderr",
     "output_type": "stream",
     "text": [
      "/Users/christian/Projects/Notion-Bookshelf/.venv/lib/python3.10/site-packages/urllib3/connectionpool.py:1099: InsecureRequestWarning: Unverified HTTPS request is being made to host 'api.notion.com'. Adding certificate verification is strongly advised. See: https://urllib3.readthedocs.io/en/latest/advanced-usage.html#tls-warnings\n",
      "  warnings.warn(\n"
     ]
    },
    {
     "name": "stdout",
     "output_type": "stream",
     "text": [
      "400\n"
     ]
    },
    {
     "name": "stderr",
     "output_type": "stream",
     "text": [
      "/Users/christian/Projects/Notion-Bookshelf/.venv/lib/python3.10/site-packages/urllib3/connectionpool.py:1099: InsecureRequestWarning: Unverified HTTPS request is being made to host 'api.notion.com'. Adding certificate verification is strongly advised. See: https://urllib3.readthedocs.io/en/latest/advanced-usage.html#tls-warnings\n",
      "  warnings.warn(\n"
     ]
    },
    {
     "name": "stdout",
     "output_type": "stream",
     "text": [
      "400\n"
     ]
    },
    {
     "name": "stderr",
     "output_type": "stream",
     "text": [
      "/Users/christian/Projects/Notion-Bookshelf/.venv/lib/python3.10/site-packages/urllib3/connectionpool.py:1099: InsecureRequestWarning: Unverified HTTPS request is being made to host 'api.notion.com'. Adding certificate verification is strongly advised. See: https://urllib3.readthedocs.io/en/latest/advanced-usage.html#tls-warnings\n",
      "  warnings.warn(\n"
     ]
    },
    {
     "name": "stdout",
     "output_type": "stream",
     "text": [
      "400\n"
     ]
    },
    {
     "name": "stderr",
     "output_type": "stream",
     "text": [
      "/Users/christian/Projects/Notion-Bookshelf/.venv/lib/python3.10/site-packages/urllib3/connectionpool.py:1099: InsecureRequestWarning: Unverified HTTPS request is being made to host 'api.notion.com'. Adding certificate verification is strongly advised. See: https://urllib3.readthedocs.io/en/latest/advanced-usage.html#tls-warnings\n",
      "  warnings.warn(\n"
     ]
    },
    {
     "name": "stdout",
     "output_type": "stream",
     "text": [
      "400\n"
     ]
    },
    {
     "name": "stderr",
     "output_type": "stream",
     "text": [
      "/Users/christian/Projects/Notion-Bookshelf/.venv/lib/python3.10/site-packages/urllib3/connectionpool.py:1099: InsecureRequestWarning: Unverified HTTPS request is being made to host 'api.notion.com'. Adding certificate verification is strongly advised. See: https://urllib3.readthedocs.io/en/latest/advanced-usage.html#tls-warnings\n",
      "  warnings.warn(\n"
     ]
    },
    {
     "name": "stdout",
     "output_type": "stream",
     "text": [
      "400\n"
     ]
    },
    {
     "name": "stderr",
     "output_type": "stream",
     "text": [
      "/Users/christian/Projects/Notion-Bookshelf/.venv/lib/python3.10/site-packages/urllib3/connectionpool.py:1099: InsecureRequestWarning: Unverified HTTPS request is being made to host 'api.notion.com'. Adding certificate verification is strongly advised. See: https://urllib3.readthedocs.io/en/latest/advanced-usage.html#tls-warnings\n",
      "  warnings.warn(\n"
     ]
    },
    {
     "name": "stdout",
     "output_type": "stream",
     "text": [
      "400\n"
     ]
    },
    {
     "name": "stderr",
     "output_type": "stream",
     "text": [
      "/Users/christian/Projects/Notion-Bookshelf/.venv/lib/python3.10/site-packages/urllib3/connectionpool.py:1099: InsecureRequestWarning: Unverified HTTPS request is being made to host 'api.notion.com'. Adding certificate verification is strongly advised. See: https://urllib3.readthedocs.io/en/latest/advanced-usage.html#tls-warnings\n",
      "  warnings.warn(\n"
     ]
    },
    {
     "name": "stdout",
     "output_type": "stream",
     "text": [
      "400\n"
     ]
    },
    {
     "name": "stderr",
     "output_type": "stream",
     "text": [
      "/Users/christian/Projects/Notion-Bookshelf/.venv/lib/python3.10/site-packages/urllib3/connectionpool.py:1099: InsecureRequestWarning: Unverified HTTPS request is being made to host 'api.notion.com'. Adding certificate verification is strongly advised. See: https://urllib3.readthedocs.io/en/latest/advanced-usage.html#tls-warnings\n",
      "  warnings.warn(\n"
     ]
    },
    {
     "name": "stdout",
     "output_type": "stream",
     "text": [
      "400\n"
     ]
    },
    {
     "name": "stderr",
     "output_type": "stream",
     "text": [
      "/Users/christian/Projects/Notion-Bookshelf/.venv/lib/python3.10/site-packages/urllib3/connectionpool.py:1099: InsecureRequestWarning: Unverified HTTPS request is being made to host 'api.notion.com'. Adding certificate verification is strongly advised. See: https://urllib3.readthedocs.io/en/latest/advanced-usage.html#tls-warnings\n",
      "  warnings.warn(\n"
     ]
    },
    {
     "name": "stdout",
     "output_type": "stream",
     "text": [
      "400\n"
     ]
    },
    {
     "name": "stderr",
     "output_type": "stream",
     "text": [
      "/Users/christian/Projects/Notion-Bookshelf/.venv/lib/python3.10/site-packages/urllib3/connectionpool.py:1099: InsecureRequestWarning: Unverified HTTPS request is being made to host 'api.notion.com'. Adding certificate verification is strongly advised. See: https://urllib3.readthedocs.io/en/latest/advanced-usage.html#tls-warnings\n",
      "  warnings.warn(\n"
     ]
    },
    {
     "name": "stdout",
     "output_type": "stream",
     "text": [
      "400\n"
     ]
    },
    {
     "name": "stderr",
     "output_type": "stream",
     "text": [
      "/Users/christian/Projects/Notion-Bookshelf/.venv/lib/python3.10/site-packages/urllib3/connectionpool.py:1099: InsecureRequestWarning: Unverified HTTPS request is being made to host 'api.notion.com'. Adding certificate verification is strongly advised. See: https://urllib3.readthedocs.io/en/latest/advanced-usage.html#tls-warnings\n",
      "  warnings.warn(\n"
     ]
    },
    {
     "name": "stdout",
     "output_type": "stream",
     "text": [
      "400\n"
     ]
    },
    {
     "name": "stderr",
     "output_type": "stream",
     "text": [
      "/Users/christian/Projects/Notion-Bookshelf/.venv/lib/python3.10/site-packages/urllib3/connectionpool.py:1099: InsecureRequestWarning: Unverified HTTPS request is being made to host 'api.notion.com'. Adding certificate verification is strongly advised. See: https://urllib3.readthedocs.io/en/latest/advanced-usage.html#tls-warnings\n",
      "  warnings.warn(\n"
     ]
    },
    {
     "name": "stdout",
     "output_type": "stream",
     "text": [
      "400\n"
     ]
    },
    {
     "name": "stderr",
     "output_type": "stream",
     "text": [
      "/Users/christian/Projects/Notion-Bookshelf/.venv/lib/python3.10/site-packages/urllib3/connectionpool.py:1099: InsecureRequestWarning: Unverified HTTPS request is being made to host 'api.notion.com'. Adding certificate verification is strongly advised. See: https://urllib3.readthedocs.io/en/latest/advanced-usage.html#tls-warnings\n",
      "  warnings.warn(\n"
     ]
    },
    {
     "name": "stdout",
     "output_type": "stream",
     "text": [
      "400\n"
     ]
    },
    {
     "name": "stderr",
     "output_type": "stream",
     "text": [
      "/Users/christian/Projects/Notion-Bookshelf/.venv/lib/python3.10/site-packages/urllib3/connectionpool.py:1099: InsecureRequestWarning: Unverified HTTPS request is being made to host 'api.notion.com'. Adding certificate verification is strongly advised. See: https://urllib3.readthedocs.io/en/latest/advanced-usage.html#tls-warnings\n",
      "  warnings.warn(\n"
     ]
    },
    {
     "name": "stdout",
     "output_type": "stream",
     "text": [
      "400\n"
     ]
    },
    {
     "name": "stderr",
     "output_type": "stream",
     "text": [
      "/Users/christian/Projects/Notion-Bookshelf/.venv/lib/python3.10/site-packages/urllib3/connectionpool.py:1099: InsecureRequestWarning: Unverified HTTPS request is being made to host 'api.notion.com'. Adding certificate verification is strongly advised. See: https://urllib3.readthedocs.io/en/latest/advanced-usage.html#tls-warnings\n",
      "  warnings.warn(\n"
     ]
    },
    {
     "name": "stdout",
     "output_type": "stream",
     "text": [
      "400\n"
     ]
    },
    {
     "name": "stderr",
     "output_type": "stream",
     "text": [
      "/Users/christian/Projects/Notion-Bookshelf/.venv/lib/python3.10/site-packages/urllib3/connectionpool.py:1099: InsecureRequestWarning: Unverified HTTPS request is being made to host 'api.notion.com'. Adding certificate verification is strongly advised. See: https://urllib3.readthedocs.io/en/latest/advanced-usage.html#tls-warnings\n",
      "  warnings.warn(\n"
     ]
    },
    {
     "name": "stdout",
     "output_type": "stream",
     "text": [
      "400\n"
     ]
    },
    {
     "name": "stderr",
     "output_type": "stream",
     "text": [
      "/Users/christian/Projects/Notion-Bookshelf/.venv/lib/python3.10/site-packages/urllib3/connectionpool.py:1099: InsecureRequestWarning: Unverified HTTPS request is being made to host 'api.notion.com'. Adding certificate verification is strongly advised. See: https://urllib3.readthedocs.io/en/latest/advanced-usage.html#tls-warnings\n",
      "  warnings.warn(\n"
     ]
    },
    {
     "name": "stdout",
     "output_type": "stream",
     "text": [
      "400\n"
     ]
    },
    {
     "name": "stderr",
     "output_type": "stream",
     "text": [
      "/Users/christian/Projects/Notion-Bookshelf/.venv/lib/python3.10/site-packages/urllib3/connectionpool.py:1099: InsecureRequestWarning: Unverified HTTPS request is being made to host 'api.notion.com'. Adding certificate verification is strongly advised. See: https://urllib3.readthedocs.io/en/latest/advanced-usage.html#tls-warnings\n",
      "  warnings.warn(\n"
     ]
    },
    {
     "name": "stdout",
     "output_type": "stream",
     "text": [
      "400\n"
     ]
    },
    {
     "name": "stderr",
     "output_type": "stream",
     "text": [
      "/Users/christian/Projects/Notion-Bookshelf/.venv/lib/python3.10/site-packages/urllib3/connectionpool.py:1099: InsecureRequestWarning: Unverified HTTPS request is being made to host 'api.notion.com'. Adding certificate verification is strongly advised. See: https://urllib3.readthedocs.io/en/latest/advanced-usage.html#tls-warnings\n",
      "  warnings.warn(\n"
     ]
    },
    {
     "name": "stdout",
     "output_type": "stream",
     "text": [
      "400\n"
     ]
    },
    {
     "name": "stderr",
     "output_type": "stream",
     "text": [
      "/Users/christian/Projects/Notion-Bookshelf/.venv/lib/python3.10/site-packages/urllib3/connectionpool.py:1099: InsecureRequestWarning: Unverified HTTPS request is being made to host 'api.notion.com'. Adding certificate verification is strongly advised. See: https://urllib3.readthedocs.io/en/latest/advanced-usage.html#tls-warnings\n",
      "  warnings.warn(\n"
     ]
    },
    {
     "name": "stdout",
     "output_type": "stream",
     "text": [
      "400\n"
     ]
    },
    {
     "name": "stderr",
     "output_type": "stream",
     "text": [
      "/Users/christian/Projects/Notion-Bookshelf/.venv/lib/python3.10/site-packages/urllib3/connectionpool.py:1099: InsecureRequestWarning: Unverified HTTPS request is being made to host 'api.notion.com'. Adding certificate verification is strongly advised. See: https://urllib3.readthedocs.io/en/latest/advanced-usage.html#tls-warnings\n",
      "  warnings.warn(\n"
     ]
    },
    {
     "name": "stdout",
     "output_type": "stream",
     "text": [
      "400\n"
     ]
    },
    {
     "name": "stderr",
     "output_type": "stream",
     "text": [
      "/Users/christian/Projects/Notion-Bookshelf/.venv/lib/python3.10/site-packages/urllib3/connectionpool.py:1099: InsecureRequestWarning: Unverified HTTPS request is being made to host 'api.notion.com'. Adding certificate verification is strongly advised. See: https://urllib3.readthedocs.io/en/latest/advanced-usage.html#tls-warnings\n",
      "  warnings.warn(\n"
     ]
    },
    {
     "name": "stdout",
     "output_type": "stream",
     "text": [
      "400\n"
     ]
    },
    {
     "name": "stderr",
     "output_type": "stream",
     "text": [
      "/Users/christian/Projects/Notion-Bookshelf/.venv/lib/python3.10/site-packages/urllib3/connectionpool.py:1099: InsecureRequestWarning: Unverified HTTPS request is being made to host 'api.notion.com'. Adding certificate verification is strongly advised. See: https://urllib3.readthedocs.io/en/latest/advanced-usage.html#tls-warnings\n",
      "  warnings.warn(\n"
     ]
    },
    {
     "name": "stdout",
     "output_type": "stream",
     "text": [
      "400\n"
     ]
    },
    {
     "name": "stderr",
     "output_type": "stream",
     "text": [
      "/Users/christian/Projects/Notion-Bookshelf/.venv/lib/python3.10/site-packages/urllib3/connectionpool.py:1099: InsecureRequestWarning: Unverified HTTPS request is being made to host 'api.notion.com'. Adding certificate verification is strongly advised. See: https://urllib3.readthedocs.io/en/latest/advanced-usage.html#tls-warnings\n",
      "  warnings.warn(\n"
     ]
    },
    {
     "name": "stdout",
     "output_type": "stream",
     "text": [
      "400\n"
     ]
    },
    {
     "name": "stderr",
     "output_type": "stream",
     "text": [
      "/Users/christian/Projects/Notion-Bookshelf/.venv/lib/python3.10/site-packages/urllib3/connectionpool.py:1099: InsecureRequestWarning: Unverified HTTPS request is being made to host 'api.notion.com'. Adding certificate verification is strongly advised. See: https://urllib3.readthedocs.io/en/latest/advanced-usage.html#tls-warnings\n",
      "  warnings.warn(\n"
     ]
    },
    {
     "name": "stdout",
     "output_type": "stream",
     "text": [
      "400\n"
     ]
    },
    {
     "name": "stderr",
     "output_type": "stream",
     "text": [
      "/Users/christian/Projects/Notion-Bookshelf/.venv/lib/python3.10/site-packages/urllib3/connectionpool.py:1099: InsecureRequestWarning: Unverified HTTPS request is being made to host 'api.notion.com'. Adding certificate verification is strongly advised. See: https://urllib3.readthedocs.io/en/latest/advanced-usage.html#tls-warnings\n",
      "  warnings.warn(\n"
     ]
    },
    {
     "name": "stdout",
     "output_type": "stream",
     "text": [
      "400\n"
     ]
    },
    {
     "name": "stderr",
     "output_type": "stream",
     "text": [
      "/Users/christian/Projects/Notion-Bookshelf/.venv/lib/python3.10/site-packages/urllib3/connectionpool.py:1099: InsecureRequestWarning: Unverified HTTPS request is being made to host 'api.notion.com'. Adding certificate verification is strongly advised. See: https://urllib3.readthedocs.io/en/latest/advanced-usage.html#tls-warnings\n",
      "  warnings.warn(\n"
     ]
    },
    {
     "name": "stdout",
     "output_type": "stream",
     "text": [
      "400\n"
     ]
    },
    {
     "name": "stderr",
     "output_type": "stream",
     "text": [
      "/Users/christian/Projects/Notion-Bookshelf/.venv/lib/python3.10/site-packages/urllib3/connectionpool.py:1099: InsecureRequestWarning: Unverified HTTPS request is being made to host 'api.notion.com'. Adding certificate verification is strongly advised. See: https://urllib3.readthedocs.io/en/latest/advanced-usage.html#tls-warnings\n",
      "  warnings.warn(\n"
     ]
    },
    {
     "name": "stdout",
     "output_type": "stream",
     "text": [
      "400\n"
     ]
    },
    {
     "name": "stderr",
     "output_type": "stream",
     "text": [
      "/Users/christian/Projects/Notion-Bookshelf/.venv/lib/python3.10/site-packages/urllib3/connectionpool.py:1099: InsecureRequestWarning: Unverified HTTPS request is being made to host 'api.notion.com'. Adding certificate verification is strongly advised. See: https://urllib3.readthedocs.io/en/latest/advanced-usage.html#tls-warnings\n",
      "  warnings.warn(\n"
     ]
    },
    {
     "name": "stdout",
     "output_type": "stream",
     "text": [
      "400\n"
     ]
    },
    {
     "name": "stderr",
     "output_type": "stream",
     "text": [
      "/Users/christian/Projects/Notion-Bookshelf/.venv/lib/python3.10/site-packages/urllib3/connectionpool.py:1099: InsecureRequestWarning: Unverified HTTPS request is being made to host 'api.notion.com'. Adding certificate verification is strongly advised. See: https://urllib3.readthedocs.io/en/latest/advanced-usage.html#tls-warnings\n",
      "  warnings.warn(\n"
     ]
    },
    {
     "name": "stdout",
     "output_type": "stream",
     "text": [
      "400\n"
     ]
    },
    {
     "name": "stderr",
     "output_type": "stream",
     "text": [
      "/Users/christian/Projects/Notion-Bookshelf/.venv/lib/python3.10/site-packages/urllib3/connectionpool.py:1099: InsecureRequestWarning: Unverified HTTPS request is being made to host 'api.notion.com'. Adding certificate verification is strongly advised. See: https://urllib3.readthedocs.io/en/latest/advanced-usage.html#tls-warnings\n",
      "  warnings.warn(\n"
     ]
    },
    {
     "name": "stdout",
     "output_type": "stream",
     "text": [
      "400\n"
     ]
    },
    {
     "name": "stderr",
     "output_type": "stream",
     "text": [
      "/Users/christian/Projects/Notion-Bookshelf/.venv/lib/python3.10/site-packages/urllib3/connectionpool.py:1099: InsecureRequestWarning: Unverified HTTPS request is being made to host 'api.notion.com'. Adding certificate verification is strongly advised. See: https://urllib3.readthedocs.io/en/latest/advanced-usage.html#tls-warnings\n",
      "  warnings.warn(\n"
     ]
    },
    {
     "name": "stdout",
     "output_type": "stream",
     "text": [
      "400\n"
     ]
    },
    {
     "name": "stderr",
     "output_type": "stream",
     "text": [
      "/Users/christian/Projects/Notion-Bookshelf/.venv/lib/python3.10/site-packages/urllib3/connectionpool.py:1099: InsecureRequestWarning: Unverified HTTPS request is being made to host 'api.notion.com'. Adding certificate verification is strongly advised. See: https://urllib3.readthedocs.io/en/latest/advanced-usage.html#tls-warnings\n",
      "  warnings.warn(\n"
     ]
    },
    {
     "name": "stdout",
     "output_type": "stream",
     "text": [
      "400\n"
     ]
    },
    {
     "name": "stderr",
     "output_type": "stream",
     "text": [
      "/Users/christian/Projects/Notion-Bookshelf/.venv/lib/python3.10/site-packages/urllib3/connectionpool.py:1099: InsecureRequestWarning: Unverified HTTPS request is being made to host 'api.notion.com'. Adding certificate verification is strongly advised. See: https://urllib3.readthedocs.io/en/latest/advanced-usage.html#tls-warnings\n",
      "  warnings.warn(\n"
     ]
    },
    {
     "name": "stdout",
     "output_type": "stream",
     "text": [
      "400\n"
     ]
    },
    {
     "name": "stderr",
     "output_type": "stream",
     "text": [
      "/Users/christian/Projects/Notion-Bookshelf/.venv/lib/python3.10/site-packages/urllib3/connectionpool.py:1099: InsecureRequestWarning: Unverified HTTPS request is being made to host 'api.notion.com'. Adding certificate verification is strongly advised. See: https://urllib3.readthedocs.io/en/latest/advanced-usage.html#tls-warnings\n",
      "  warnings.warn(\n"
     ]
    },
    {
     "name": "stdout",
     "output_type": "stream",
     "text": [
      "400\n"
     ]
    },
    {
     "name": "stderr",
     "output_type": "stream",
     "text": [
      "/Users/christian/Projects/Notion-Bookshelf/.venv/lib/python3.10/site-packages/urllib3/connectionpool.py:1099: InsecureRequestWarning: Unverified HTTPS request is being made to host 'api.notion.com'. Adding certificate verification is strongly advised. See: https://urllib3.readthedocs.io/en/latest/advanced-usage.html#tls-warnings\n",
      "  warnings.warn(\n"
     ]
    },
    {
     "name": "stdout",
     "output_type": "stream",
     "text": [
      "400\n"
     ]
    },
    {
     "name": "stderr",
     "output_type": "stream",
     "text": [
      "/Users/christian/Projects/Notion-Bookshelf/.venv/lib/python3.10/site-packages/urllib3/connectionpool.py:1099: InsecureRequestWarning: Unverified HTTPS request is being made to host 'api.notion.com'. Adding certificate verification is strongly advised. See: https://urllib3.readthedocs.io/en/latest/advanced-usage.html#tls-warnings\n",
      "  warnings.warn(\n"
     ]
    },
    {
     "name": "stdout",
     "output_type": "stream",
     "text": [
      "400\n"
     ]
    },
    {
     "name": "stderr",
     "output_type": "stream",
     "text": [
      "/Users/christian/Projects/Notion-Bookshelf/.venv/lib/python3.10/site-packages/urllib3/connectionpool.py:1099: InsecureRequestWarning: Unverified HTTPS request is being made to host 'api.notion.com'. Adding certificate verification is strongly advised. See: https://urllib3.readthedocs.io/en/latest/advanced-usage.html#tls-warnings\n",
      "  warnings.warn(\n"
     ]
    },
    {
     "name": "stdout",
     "output_type": "stream",
     "text": [
      "400\n"
     ]
    },
    {
     "name": "stderr",
     "output_type": "stream",
     "text": [
      "/Users/christian/Projects/Notion-Bookshelf/.venv/lib/python3.10/site-packages/urllib3/connectionpool.py:1099: InsecureRequestWarning: Unverified HTTPS request is being made to host 'api.notion.com'. Adding certificate verification is strongly advised. See: https://urllib3.readthedocs.io/en/latest/advanced-usage.html#tls-warnings\n",
      "  warnings.warn(\n"
     ]
    },
    {
     "name": "stdout",
     "output_type": "stream",
     "text": [
      "400\n"
     ]
    },
    {
     "name": "stderr",
     "output_type": "stream",
     "text": [
      "/Users/christian/Projects/Notion-Bookshelf/.venv/lib/python3.10/site-packages/urllib3/connectionpool.py:1099: InsecureRequestWarning: Unverified HTTPS request is being made to host 'api.notion.com'. Adding certificate verification is strongly advised. See: https://urllib3.readthedocs.io/en/latest/advanced-usage.html#tls-warnings\n",
      "  warnings.warn(\n"
     ]
    },
    {
     "name": "stdout",
     "output_type": "stream",
     "text": [
      "400\n"
     ]
    },
    {
     "name": "stderr",
     "output_type": "stream",
     "text": [
      "/Users/christian/Projects/Notion-Bookshelf/.venv/lib/python3.10/site-packages/urllib3/connectionpool.py:1099: InsecureRequestWarning: Unverified HTTPS request is being made to host 'api.notion.com'. Adding certificate verification is strongly advised. See: https://urllib3.readthedocs.io/en/latest/advanced-usage.html#tls-warnings\n",
      "  warnings.warn(\n"
     ]
    },
    {
     "name": "stdout",
     "output_type": "stream",
     "text": [
      "400\n"
     ]
    },
    {
     "name": "stderr",
     "output_type": "stream",
     "text": [
      "/Users/christian/Projects/Notion-Bookshelf/.venv/lib/python3.10/site-packages/urllib3/connectionpool.py:1099: InsecureRequestWarning: Unverified HTTPS request is being made to host 'api.notion.com'. Adding certificate verification is strongly advised. See: https://urllib3.readthedocs.io/en/latest/advanced-usage.html#tls-warnings\n",
      "  warnings.warn(\n"
     ]
    },
    {
     "name": "stdout",
     "output_type": "stream",
     "text": [
      "400\n"
     ]
    },
    {
     "name": "stderr",
     "output_type": "stream",
     "text": [
      "/Users/christian/Projects/Notion-Bookshelf/.venv/lib/python3.10/site-packages/urllib3/connectionpool.py:1099: InsecureRequestWarning: Unverified HTTPS request is being made to host 'api.notion.com'. Adding certificate verification is strongly advised. See: https://urllib3.readthedocs.io/en/latest/advanced-usage.html#tls-warnings\n",
      "  warnings.warn(\n"
     ]
    },
    {
     "name": "stdout",
     "output_type": "stream",
     "text": [
      "400\n"
     ]
    },
    {
     "name": "stderr",
     "output_type": "stream",
     "text": [
      "/Users/christian/Projects/Notion-Bookshelf/.venv/lib/python3.10/site-packages/urllib3/connectionpool.py:1099: InsecureRequestWarning: Unverified HTTPS request is being made to host 'api.notion.com'. Adding certificate verification is strongly advised. See: https://urllib3.readthedocs.io/en/latest/advanced-usage.html#tls-warnings\n",
      "  warnings.warn(\n"
     ]
    },
    {
     "name": "stdout",
     "output_type": "stream",
     "text": [
      "400\n"
     ]
    },
    {
     "name": "stderr",
     "output_type": "stream",
     "text": [
      "/Users/christian/Projects/Notion-Bookshelf/.venv/lib/python3.10/site-packages/urllib3/connectionpool.py:1099: InsecureRequestWarning: Unverified HTTPS request is being made to host 'api.notion.com'. Adding certificate verification is strongly advised. See: https://urllib3.readthedocs.io/en/latest/advanced-usage.html#tls-warnings\n",
      "  warnings.warn(\n"
     ]
    },
    {
     "name": "stdout",
     "output_type": "stream",
     "text": [
      "400\n"
     ]
    },
    {
     "name": "stderr",
     "output_type": "stream",
     "text": [
      "/Users/christian/Projects/Notion-Bookshelf/.venv/lib/python3.10/site-packages/urllib3/connectionpool.py:1099: InsecureRequestWarning: Unverified HTTPS request is being made to host 'api.notion.com'. Adding certificate verification is strongly advised. See: https://urllib3.readthedocs.io/en/latest/advanced-usage.html#tls-warnings\n",
      "  warnings.warn(\n"
     ]
    },
    {
     "name": "stdout",
     "output_type": "stream",
     "text": [
      "400\n"
     ]
    },
    {
     "name": "stderr",
     "output_type": "stream",
     "text": [
      "/Users/christian/Projects/Notion-Bookshelf/.venv/lib/python3.10/site-packages/urllib3/connectionpool.py:1099: InsecureRequestWarning: Unverified HTTPS request is being made to host 'api.notion.com'. Adding certificate verification is strongly advised. See: https://urllib3.readthedocs.io/en/latest/advanced-usage.html#tls-warnings\n",
      "  warnings.warn(\n"
     ]
    },
    {
     "name": "stdout",
     "output_type": "stream",
     "text": [
      "400\n"
     ]
    },
    {
     "name": "stderr",
     "output_type": "stream",
     "text": [
      "/Users/christian/Projects/Notion-Bookshelf/.venv/lib/python3.10/site-packages/urllib3/connectionpool.py:1099: InsecureRequestWarning: Unverified HTTPS request is being made to host 'api.notion.com'. Adding certificate verification is strongly advised. See: https://urllib3.readthedocs.io/en/latest/advanced-usage.html#tls-warnings\n",
      "  warnings.warn(\n"
     ]
    },
    {
     "name": "stdout",
     "output_type": "stream",
     "text": [
      "400\n"
     ]
    },
    {
     "name": "stderr",
     "output_type": "stream",
     "text": [
      "/Users/christian/Projects/Notion-Bookshelf/.venv/lib/python3.10/site-packages/urllib3/connectionpool.py:1099: InsecureRequestWarning: Unverified HTTPS request is being made to host 'api.notion.com'. Adding certificate verification is strongly advised. See: https://urllib3.readthedocs.io/en/latest/advanced-usage.html#tls-warnings\n",
      "  warnings.warn(\n"
     ]
    },
    {
     "name": "stdout",
     "output_type": "stream",
     "text": [
      "400\n"
     ]
    },
    {
     "name": "stderr",
     "output_type": "stream",
     "text": [
      "/Users/christian/Projects/Notion-Bookshelf/.venv/lib/python3.10/site-packages/urllib3/connectionpool.py:1099: InsecureRequestWarning: Unverified HTTPS request is being made to host 'api.notion.com'. Adding certificate verification is strongly advised. See: https://urllib3.readthedocs.io/en/latest/advanced-usage.html#tls-warnings\n",
      "  warnings.warn(\n"
     ]
    },
    {
     "name": "stdout",
     "output_type": "stream",
     "text": [
      "400\n"
     ]
    },
    {
     "name": "stderr",
     "output_type": "stream",
     "text": [
      "/Users/christian/Projects/Notion-Bookshelf/.venv/lib/python3.10/site-packages/urllib3/connectionpool.py:1099: InsecureRequestWarning: Unverified HTTPS request is being made to host 'api.notion.com'. Adding certificate verification is strongly advised. See: https://urllib3.readthedocs.io/en/latest/advanced-usage.html#tls-warnings\n",
      "  warnings.warn(\n"
     ]
    },
    {
     "name": "stdout",
     "output_type": "stream",
     "text": [
      "400\n"
     ]
    },
    {
     "name": "stderr",
     "output_type": "stream",
     "text": [
      "/Users/christian/Projects/Notion-Bookshelf/.venv/lib/python3.10/site-packages/urllib3/connectionpool.py:1099: InsecureRequestWarning: Unverified HTTPS request is being made to host 'api.notion.com'. Adding certificate verification is strongly advised. See: https://urllib3.readthedocs.io/en/latest/advanced-usage.html#tls-warnings\n",
      "  warnings.warn(\n"
     ]
    },
    {
     "name": "stdout",
     "output_type": "stream",
     "text": [
      "400\n"
     ]
    },
    {
     "name": "stderr",
     "output_type": "stream",
     "text": [
      "/Users/christian/Projects/Notion-Bookshelf/.venv/lib/python3.10/site-packages/urllib3/connectionpool.py:1099: InsecureRequestWarning: Unverified HTTPS request is being made to host 'api.notion.com'. Adding certificate verification is strongly advised. See: https://urllib3.readthedocs.io/en/latest/advanced-usage.html#tls-warnings\n",
      "  warnings.warn(\n"
     ]
    },
    {
     "name": "stdout",
     "output_type": "stream",
     "text": [
      "400\n"
     ]
    },
    {
     "name": "stderr",
     "output_type": "stream",
     "text": [
      "/Users/christian/Projects/Notion-Bookshelf/.venv/lib/python3.10/site-packages/urllib3/connectionpool.py:1099: InsecureRequestWarning: Unverified HTTPS request is being made to host 'api.notion.com'. Adding certificate verification is strongly advised. See: https://urllib3.readthedocs.io/en/latest/advanced-usage.html#tls-warnings\n",
      "  warnings.warn(\n"
     ]
    },
    {
     "name": "stdout",
     "output_type": "stream",
     "text": [
      "400\n"
     ]
    },
    {
     "name": "stderr",
     "output_type": "stream",
     "text": [
      "/Users/christian/Projects/Notion-Bookshelf/.venv/lib/python3.10/site-packages/urllib3/connectionpool.py:1099: InsecureRequestWarning: Unverified HTTPS request is being made to host 'api.notion.com'. Adding certificate verification is strongly advised. See: https://urllib3.readthedocs.io/en/latest/advanced-usage.html#tls-warnings\n",
      "  warnings.warn(\n"
     ]
    },
    {
     "name": "stdout",
     "output_type": "stream",
     "text": [
      "400\n"
     ]
    },
    {
     "name": "stderr",
     "output_type": "stream",
     "text": [
      "/Users/christian/Projects/Notion-Bookshelf/.venv/lib/python3.10/site-packages/urllib3/connectionpool.py:1099: InsecureRequestWarning: Unverified HTTPS request is being made to host 'api.notion.com'. Adding certificate verification is strongly advised. See: https://urllib3.readthedocs.io/en/latest/advanced-usage.html#tls-warnings\n",
      "  warnings.warn(\n"
     ]
    },
    {
     "name": "stdout",
     "output_type": "stream",
     "text": [
      "400\n"
     ]
    },
    {
     "name": "stderr",
     "output_type": "stream",
     "text": [
      "/Users/christian/Projects/Notion-Bookshelf/.venv/lib/python3.10/site-packages/urllib3/connectionpool.py:1099: InsecureRequestWarning: Unverified HTTPS request is being made to host 'api.notion.com'. Adding certificate verification is strongly advised. See: https://urllib3.readthedocs.io/en/latest/advanced-usage.html#tls-warnings\n",
      "  warnings.warn(\n"
     ]
    },
    {
     "name": "stdout",
     "output_type": "stream",
     "text": [
      "400\n"
     ]
    },
    {
     "name": "stderr",
     "output_type": "stream",
     "text": [
      "/Users/christian/Projects/Notion-Bookshelf/.venv/lib/python3.10/site-packages/urllib3/connectionpool.py:1099: InsecureRequestWarning: Unverified HTTPS request is being made to host 'api.notion.com'. Adding certificate verification is strongly advised. See: https://urllib3.readthedocs.io/en/latest/advanced-usage.html#tls-warnings\n",
      "  warnings.warn(\n"
     ]
    },
    {
     "name": "stdout",
     "output_type": "stream",
     "text": [
      "400\n"
     ]
    },
    {
     "name": "stderr",
     "output_type": "stream",
     "text": [
      "/Users/christian/Projects/Notion-Bookshelf/.venv/lib/python3.10/site-packages/urllib3/connectionpool.py:1099: InsecureRequestWarning: Unverified HTTPS request is being made to host 'api.notion.com'. Adding certificate verification is strongly advised. See: https://urllib3.readthedocs.io/en/latest/advanced-usage.html#tls-warnings\n",
      "  warnings.warn(\n"
     ]
    },
    {
     "name": "stdout",
     "output_type": "stream",
     "text": [
      "400\n"
     ]
    },
    {
     "name": "stderr",
     "output_type": "stream",
     "text": [
      "/Users/christian/Projects/Notion-Bookshelf/.venv/lib/python3.10/site-packages/urllib3/connectionpool.py:1099: InsecureRequestWarning: Unverified HTTPS request is being made to host 'api.notion.com'. Adding certificate verification is strongly advised. See: https://urllib3.readthedocs.io/en/latest/advanced-usage.html#tls-warnings\n",
      "  warnings.warn(\n"
     ]
    },
    {
     "name": "stdout",
     "output_type": "stream",
     "text": [
      "400\n"
     ]
    },
    {
     "name": "stderr",
     "output_type": "stream",
     "text": [
      "/Users/christian/Projects/Notion-Bookshelf/.venv/lib/python3.10/site-packages/urllib3/connectionpool.py:1099: InsecureRequestWarning: Unverified HTTPS request is being made to host 'api.notion.com'. Adding certificate verification is strongly advised. See: https://urllib3.readthedocs.io/en/latest/advanced-usage.html#tls-warnings\n",
      "  warnings.warn(\n"
     ]
    },
    {
     "name": "stdout",
     "output_type": "stream",
     "text": [
      "400\n"
     ]
    },
    {
     "name": "stderr",
     "output_type": "stream",
     "text": [
      "/Users/christian/Projects/Notion-Bookshelf/.venv/lib/python3.10/site-packages/urllib3/connectionpool.py:1099: InsecureRequestWarning: Unverified HTTPS request is being made to host 'api.notion.com'. Adding certificate verification is strongly advised. See: https://urllib3.readthedocs.io/en/latest/advanced-usage.html#tls-warnings\n",
      "  warnings.warn(\n"
     ]
    },
    {
     "name": "stdout",
     "output_type": "stream",
     "text": [
      "400\n"
     ]
    },
    {
     "name": "stderr",
     "output_type": "stream",
     "text": [
      "/Users/christian/Projects/Notion-Bookshelf/.venv/lib/python3.10/site-packages/urllib3/connectionpool.py:1099: InsecureRequestWarning: Unverified HTTPS request is being made to host 'api.notion.com'. Adding certificate verification is strongly advised. See: https://urllib3.readthedocs.io/en/latest/advanced-usage.html#tls-warnings\n",
      "  warnings.warn(\n"
     ]
    },
    {
     "name": "stdout",
     "output_type": "stream",
     "text": [
      "400\n"
     ]
    },
    {
     "name": "stderr",
     "output_type": "stream",
     "text": [
      "/Users/christian/Projects/Notion-Bookshelf/.venv/lib/python3.10/site-packages/urllib3/connectionpool.py:1099: InsecureRequestWarning: Unverified HTTPS request is being made to host 'api.notion.com'. Adding certificate verification is strongly advised. See: https://urllib3.readthedocs.io/en/latest/advanced-usage.html#tls-warnings\n",
      "  warnings.warn(\n"
     ]
    },
    {
     "name": "stdout",
     "output_type": "stream",
     "text": [
      "400\n"
     ]
    },
    {
     "name": "stderr",
     "output_type": "stream",
     "text": [
      "/Users/christian/Projects/Notion-Bookshelf/.venv/lib/python3.10/site-packages/urllib3/connectionpool.py:1099: InsecureRequestWarning: Unverified HTTPS request is being made to host 'api.notion.com'. Adding certificate verification is strongly advised. See: https://urllib3.readthedocs.io/en/latest/advanced-usage.html#tls-warnings\n",
      "  warnings.warn(\n"
     ]
    },
    {
     "name": "stdout",
     "output_type": "stream",
     "text": [
      "400\n"
     ]
    },
    {
     "name": "stderr",
     "output_type": "stream",
     "text": [
      "/Users/christian/Projects/Notion-Bookshelf/.venv/lib/python3.10/site-packages/urllib3/connectionpool.py:1099: InsecureRequestWarning: Unverified HTTPS request is being made to host 'api.notion.com'. Adding certificate verification is strongly advised. See: https://urllib3.readthedocs.io/en/latest/advanced-usage.html#tls-warnings\n",
      "  warnings.warn(\n"
     ]
    },
    {
     "name": "stdout",
     "output_type": "stream",
     "text": [
      "400\n"
     ]
    },
    {
     "name": "stderr",
     "output_type": "stream",
     "text": [
      "/Users/christian/Projects/Notion-Bookshelf/.venv/lib/python3.10/site-packages/urllib3/connectionpool.py:1099: InsecureRequestWarning: Unverified HTTPS request is being made to host 'api.notion.com'. Adding certificate verification is strongly advised. See: https://urllib3.readthedocs.io/en/latest/advanced-usage.html#tls-warnings\n",
      "  warnings.warn(\n"
     ]
    },
    {
     "name": "stdout",
     "output_type": "stream",
     "text": [
      "400\n"
     ]
    },
    {
     "name": "stderr",
     "output_type": "stream",
     "text": [
      "/Users/christian/Projects/Notion-Bookshelf/.venv/lib/python3.10/site-packages/urllib3/connectionpool.py:1099: InsecureRequestWarning: Unverified HTTPS request is being made to host 'api.notion.com'. Adding certificate verification is strongly advised. See: https://urllib3.readthedocs.io/en/latest/advanced-usage.html#tls-warnings\n",
      "  warnings.warn(\n"
     ]
    },
    {
     "name": "stdout",
     "output_type": "stream",
     "text": [
      "400\n"
     ]
    },
    {
     "name": "stderr",
     "output_type": "stream",
     "text": [
      "/Users/christian/Projects/Notion-Bookshelf/.venv/lib/python3.10/site-packages/urllib3/connectionpool.py:1099: InsecureRequestWarning: Unverified HTTPS request is being made to host 'api.notion.com'. Adding certificate verification is strongly advised. See: https://urllib3.readthedocs.io/en/latest/advanced-usage.html#tls-warnings\n",
      "  warnings.warn(\n"
     ]
    },
    {
     "name": "stdout",
     "output_type": "stream",
     "text": [
      "400\n"
     ]
    },
    {
     "name": "stderr",
     "output_type": "stream",
     "text": [
      "/Users/christian/Projects/Notion-Bookshelf/.venv/lib/python3.10/site-packages/urllib3/connectionpool.py:1099: InsecureRequestWarning: Unverified HTTPS request is being made to host 'api.notion.com'. Adding certificate verification is strongly advised. See: https://urllib3.readthedocs.io/en/latest/advanced-usage.html#tls-warnings\n",
      "  warnings.warn(\n"
     ]
    },
    {
     "name": "stdout",
     "output_type": "stream",
     "text": [
      "400\n"
     ]
    },
    {
     "name": "stderr",
     "output_type": "stream",
     "text": [
      "/Users/christian/Projects/Notion-Bookshelf/.venv/lib/python3.10/site-packages/urllib3/connectionpool.py:1099: InsecureRequestWarning: Unverified HTTPS request is being made to host 'api.notion.com'. Adding certificate verification is strongly advised. See: https://urllib3.readthedocs.io/en/latest/advanced-usage.html#tls-warnings\n",
      "  warnings.warn(\n"
     ]
    },
    {
     "name": "stdout",
     "output_type": "stream",
     "text": [
      "400\n"
     ]
    },
    {
     "name": "stderr",
     "output_type": "stream",
     "text": [
      "/Users/christian/Projects/Notion-Bookshelf/.venv/lib/python3.10/site-packages/urllib3/connectionpool.py:1099: InsecureRequestWarning: Unverified HTTPS request is being made to host 'api.notion.com'. Adding certificate verification is strongly advised. See: https://urllib3.readthedocs.io/en/latest/advanced-usage.html#tls-warnings\n",
      "  warnings.warn(\n"
     ]
    },
    {
     "name": "stdout",
     "output_type": "stream",
     "text": [
      "400\n"
     ]
    },
    {
     "name": "stderr",
     "output_type": "stream",
     "text": [
      "/Users/christian/Projects/Notion-Bookshelf/.venv/lib/python3.10/site-packages/urllib3/connectionpool.py:1099: InsecureRequestWarning: Unverified HTTPS request is being made to host 'api.notion.com'. Adding certificate verification is strongly advised. See: https://urllib3.readthedocs.io/en/latest/advanced-usage.html#tls-warnings\n",
      "  warnings.warn(\n"
     ]
    },
    {
     "name": "stdout",
     "output_type": "stream",
     "text": [
      "400\n"
     ]
    },
    {
     "name": "stderr",
     "output_type": "stream",
     "text": [
      "/Users/christian/Projects/Notion-Bookshelf/.venv/lib/python3.10/site-packages/urllib3/connectionpool.py:1099: InsecureRequestWarning: Unverified HTTPS request is being made to host 'api.notion.com'. Adding certificate verification is strongly advised. See: https://urllib3.readthedocs.io/en/latest/advanced-usage.html#tls-warnings\n",
      "  warnings.warn(\n"
     ]
    },
    {
     "name": "stdout",
     "output_type": "stream",
     "text": [
      "400\n"
     ]
    },
    {
     "name": "stderr",
     "output_type": "stream",
     "text": [
      "/Users/christian/Projects/Notion-Bookshelf/.venv/lib/python3.10/site-packages/urllib3/connectionpool.py:1099: InsecureRequestWarning: Unverified HTTPS request is being made to host 'api.notion.com'. Adding certificate verification is strongly advised. See: https://urllib3.readthedocs.io/en/latest/advanced-usage.html#tls-warnings\n",
      "  warnings.warn(\n"
     ]
    },
    {
     "name": "stdout",
     "output_type": "stream",
     "text": [
      "400\n"
     ]
    }
   ],
   "source": [
    "# Update publishing dates\n",
    "property_name = 'Publishing/Release Date'\n",
    "property_type = \"date\"\n",
    "data_column = 'volumeInfo.publishedDate'\n",
    "\n",
    "for i in look_up['page_id'].index:\n",
    "    # if math.isnan(look_up['Publishing/Release Date'][i]):\n",
    "    update_properties(property_name, property_type, data_column)"
   ]
  },
  {
   "cell_type": "markdown",
   "id": "0a3348a7",
   "metadata": {},
   "source": [
    "### Update Links to Google Books Links"
   ]
  },
  {
   "cell_type": "code",
   "execution_count": 101,
   "id": "e27af8d0",
   "metadata": {},
   "outputs": [
    {
     "name": "stderr",
     "output_type": "stream",
     "text": [
      "/Users/christian/Projects/Notion-Bookshelf/.venv/lib/python3.10/site-packages/urllib3/connectionpool.py:1099: InsecureRequestWarning: Unverified HTTPS request is being made to host 'api.notion.com'. Adding certificate verification is strongly advised. See: https://urllib3.readthedocs.io/en/latest/advanced-usage.html#tls-warnings\n",
      "  warnings.warn(\n"
     ]
    },
    {
     "name": "stdout",
     "output_type": "stream",
     "text": [
      "200\n"
     ]
    },
    {
     "name": "stderr",
     "output_type": "stream",
     "text": [
      "/Users/christian/Projects/Notion-Bookshelf/.venv/lib/python3.10/site-packages/urllib3/connectionpool.py:1099: InsecureRequestWarning: Unverified HTTPS request is being made to host 'api.notion.com'. Adding certificate verification is strongly advised. See: https://urllib3.readthedocs.io/en/latest/advanced-usage.html#tls-warnings\n",
      "  warnings.warn(\n"
     ]
    },
    {
     "name": "stdout",
     "output_type": "stream",
     "text": [
      "200\n"
     ]
    },
    {
     "name": "stderr",
     "output_type": "stream",
     "text": [
      "/Users/christian/Projects/Notion-Bookshelf/.venv/lib/python3.10/site-packages/urllib3/connectionpool.py:1099: InsecureRequestWarning: Unverified HTTPS request is being made to host 'api.notion.com'. Adding certificate verification is strongly advised. See: https://urllib3.readthedocs.io/en/latest/advanced-usage.html#tls-warnings\n",
      "  warnings.warn(\n"
     ]
    },
    {
     "name": "stdout",
     "output_type": "stream",
     "text": [
      "200\n"
     ]
    },
    {
     "name": "stderr",
     "output_type": "stream",
     "text": [
      "/Users/christian/Projects/Notion-Bookshelf/.venv/lib/python3.10/site-packages/urllib3/connectionpool.py:1099: InsecureRequestWarning: Unverified HTTPS request is being made to host 'api.notion.com'. Adding certificate verification is strongly advised. See: https://urllib3.readthedocs.io/en/latest/advanced-usage.html#tls-warnings\n",
      "  warnings.warn(\n"
     ]
    },
    {
     "name": "stdout",
     "output_type": "stream",
     "text": [
      "200\n"
     ]
    },
    {
     "name": "stderr",
     "output_type": "stream",
     "text": [
      "/Users/christian/Projects/Notion-Bookshelf/.venv/lib/python3.10/site-packages/urllib3/connectionpool.py:1099: InsecureRequestWarning: Unverified HTTPS request is being made to host 'api.notion.com'. Adding certificate verification is strongly advised. See: https://urllib3.readthedocs.io/en/latest/advanced-usage.html#tls-warnings\n",
      "  warnings.warn(\n"
     ]
    },
    {
     "name": "stdout",
     "output_type": "stream",
     "text": [
      "200\n"
     ]
    },
    {
     "name": "stderr",
     "output_type": "stream",
     "text": [
      "/Users/christian/Projects/Notion-Bookshelf/.venv/lib/python3.10/site-packages/urllib3/connectionpool.py:1099: InsecureRequestWarning: Unverified HTTPS request is being made to host 'api.notion.com'. Adding certificate verification is strongly advised. See: https://urllib3.readthedocs.io/en/latest/advanced-usage.html#tls-warnings\n",
      "  warnings.warn(\n"
     ]
    },
    {
     "name": "stdout",
     "output_type": "stream",
     "text": [
      "200\n"
     ]
    },
    {
     "name": "stderr",
     "output_type": "stream",
     "text": [
      "/Users/christian/Projects/Notion-Bookshelf/.venv/lib/python3.10/site-packages/urllib3/connectionpool.py:1099: InsecureRequestWarning: Unverified HTTPS request is being made to host 'api.notion.com'. Adding certificate verification is strongly advised. See: https://urllib3.readthedocs.io/en/latest/advanced-usage.html#tls-warnings\n",
      "  warnings.warn(\n"
     ]
    },
    {
     "name": "stdout",
     "output_type": "stream",
     "text": [
      "200\n"
     ]
    },
    {
     "name": "stderr",
     "output_type": "stream",
     "text": [
      "/Users/christian/Projects/Notion-Bookshelf/.venv/lib/python3.10/site-packages/urllib3/connectionpool.py:1099: InsecureRequestWarning: Unverified HTTPS request is being made to host 'api.notion.com'. Adding certificate verification is strongly advised. See: https://urllib3.readthedocs.io/en/latest/advanced-usage.html#tls-warnings\n",
      "  warnings.warn(\n"
     ]
    },
    {
     "name": "stdout",
     "output_type": "stream",
     "text": [
      "200\n"
     ]
    },
    {
     "name": "stderr",
     "output_type": "stream",
     "text": [
      "/Users/christian/Projects/Notion-Bookshelf/.venv/lib/python3.10/site-packages/urllib3/connectionpool.py:1099: InsecureRequestWarning: Unverified HTTPS request is being made to host 'api.notion.com'. Adding certificate verification is strongly advised. See: https://urllib3.readthedocs.io/en/latest/advanced-usage.html#tls-warnings\n",
      "  warnings.warn(\n"
     ]
    },
    {
     "name": "stdout",
     "output_type": "stream",
     "text": [
      "200\n"
     ]
    },
    {
     "name": "stderr",
     "output_type": "stream",
     "text": [
      "/Users/christian/Projects/Notion-Bookshelf/.venv/lib/python3.10/site-packages/urllib3/connectionpool.py:1099: InsecureRequestWarning: Unverified HTTPS request is being made to host 'api.notion.com'. Adding certificate verification is strongly advised. See: https://urllib3.readthedocs.io/en/latest/advanced-usage.html#tls-warnings\n",
      "  warnings.warn(\n"
     ]
    },
    {
     "name": "stdout",
     "output_type": "stream",
     "text": [
      "200\n"
     ]
    },
    {
     "name": "stderr",
     "output_type": "stream",
     "text": [
      "/Users/christian/Projects/Notion-Bookshelf/.venv/lib/python3.10/site-packages/urllib3/connectionpool.py:1099: InsecureRequestWarning: Unverified HTTPS request is being made to host 'api.notion.com'. Adding certificate verification is strongly advised. See: https://urllib3.readthedocs.io/en/latest/advanced-usage.html#tls-warnings\n",
      "  warnings.warn(\n"
     ]
    },
    {
     "name": "stdout",
     "output_type": "stream",
     "text": [
      "200\n"
     ]
    },
    {
     "name": "stderr",
     "output_type": "stream",
     "text": [
      "/Users/christian/Projects/Notion-Bookshelf/.venv/lib/python3.10/site-packages/urllib3/connectionpool.py:1099: InsecureRequestWarning: Unverified HTTPS request is being made to host 'api.notion.com'. Adding certificate verification is strongly advised. See: https://urllib3.readthedocs.io/en/latest/advanced-usage.html#tls-warnings\n",
      "  warnings.warn(\n"
     ]
    },
    {
     "name": "stdout",
     "output_type": "stream",
     "text": [
      "200\n"
     ]
    },
    {
     "name": "stderr",
     "output_type": "stream",
     "text": [
      "/Users/christian/Projects/Notion-Bookshelf/.venv/lib/python3.10/site-packages/urllib3/connectionpool.py:1099: InsecureRequestWarning: Unverified HTTPS request is being made to host 'api.notion.com'. Adding certificate verification is strongly advised. See: https://urllib3.readthedocs.io/en/latest/advanced-usage.html#tls-warnings\n",
      "  warnings.warn(\n"
     ]
    },
    {
     "name": "stdout",
     "output_type": "stream",
     "text": [
      "200\n"
     ]
    },
    {
     "name": "stderr",
     "output_type": "stream",
     "text": [
      "/Users/christian/Projects/Notion-Bookshelf/.venv/lib/python3.10/site-packages/urllib3/connectionpool.py:1099: InsecureRequestWarning: Unverified HTTPS request is being made to host 'api.notion.com'. Adding certificate verification is strongly advised. See: https://urllib3.readthedocs.io/en/latest/advanced-usage.html#tls-warnings\n",
      "  warnings.warn(\n"
     ]
    },
    {
     "name": "stdout",
     "output_type": "stream",
     "text": [
      "200\n"
     ]
    },
    {
     "name": "stderr",
     "output_type": "stream",
     "text": [
      "/Users/christian/Projects/Notion-Bookshelf/.venv/lib/python3.10/site-packages/urllib3/connectionpool.py:1099: InsecureRequestWarning: Unverified HTTPS request is being made to host 'api.notion.com'. Adding certificate verification is strongly advised. See: https://urllib3.readthedocs.io/en/latest/advanced-usage.html#tls-warnings\n",
      "  warnings.warn(\n"
     ]
    },
    {
     "name": "stdout",
     "output_type": "stream",
     "text": [
      "200\n"
     ]
    },
    {
     "name": "stderr",
     "output_type": "stream",
     "text": [
      "/Users/christian/Projects/Notion-Bookshelf/.venv/lib/python3.10/site-packages/urllib3/connectionpool.py:1099: InsecureRequestWarning: Unverified HTTPS request is being made to host 'api.notion.com'. Adding certificate verification is strongly advised. See: https://urllib3.readthedocs.io/en/latest/advanced-usage.html#tls-warnings\n",
      "  warnings.warn(\n"
     ]
    },
    {
     "name": "stdout",
     "output_type": "stream",
     "text": [
      "200\n"
     ]
    },
    {
     "name": "stderr",
     "output_type": "stream",
     "text": [
      "/Users/christian/Projects/Notion-Bookshelf/.venv/lib/python3.10/site-packages/urllib3/connectionpool.py:1099: InsecureRequestWarning: Unverified HTTPS request is being made to host 'api.notion.com'. Adding certificate verification is strongly advised. See: https://urllib3.readthedocs.io/en/latest/advanced-usage.html#tls-warnings\n",
      "  warnings.warn(\n"
     ]
    },
    {
     "name": "stdout",
     "output_type": "stream",
     "text": [
      "200\n"
     ]
    },
    {
     "name": "stderr",
     "output_type": "stream",
     "text": [
      "/Users/christian/Projects/Notion-Bookshelf/.venv/lib/python3.10/site-packages/urllib3/connectionpool.py:1099: InsecureRequestWarning: Unverified HTTPS request is being made to host 'api.notion.com'. Adding certificate verification is strongly advised. See: https://urllib3.readthedocs.io/en/latest/advanced-usage.html#tls-warnings\n",
      "  warnings.warn(\n"
     ]
    },
    {
     "name": "stdout",
     "output_type": "stream",
     "text": [
      "200\n"
     ]
    },
    {
     "name": "stderr",
     "output_type": "stream",
     "text": [
      "/Users/christian/Projects/Notion-Bookshelf/.venv/lib/python3.10/site-packages/urllib3/connectionpool.py:1099: InsecureRequestWarning: Unverified HTTPS request is being made to host 'api.notion.com'. Adding certificate verification is strongly advised. See: https://urllib3.readthedocs.io/en/latest/advanced-usage.html#tls-warnings\n",
      "  warnings.warn(\n"
     ]
    },
    {
     "name": "stdout",
     "output_type": "stream",
     "text": [
      "200\n"
     ]
    },
    {
     "name": "stderr",
     "output_type": "stream",
     "text": [
      "/Users/christian/Projects/Notion-Bookshelf/.venv/lib/python3.10/site-packages/urllib3/connectionpool.py:1099: InsecureRequestWarning: Unverified HTTPS request is being made to host 'api.notion.com'. Adding certificate verification is strongly advised. See: https://urllib3.readthedocs.io/en/latest/advanced-usage.html#tls-warnings\n",
      "  warnings.warn(\n"
     ]
    },
    {
     "name": "stdout",
     "output_type": "stream",
     "text": [
      "200\n"
     ]
    },
    {
     "name": "stderr",
     "output_type": "stream",
     "text": [
      "/Users/christian/Projects/Notion-Bookshelf/.venv/lib/python3.10/site-packages/urllib3/connectionpool.py:1099: InsecureRequestWarning: Unverified HTTPS request is being made to host 'api.notion.com'. Adding certificate verification is strongly advised. See: https://urllib3.readthedocs.io/en/latest/advanced-usage.html#tls-warnings\n",
      "  warnings.warn(\n"
     ]
    },
    {
     "name": "stdout",
     "output_type": "stream",
     "text": [
      "200\n"
     ]
    },
    {
     "name": "stderr",
     "output_type": "stream",
     "text": [
      "/Users/christian/Projects/Notion-Bookshelf/.venv/lib/python3.10/site-packages/urllib3/connectionpool.py:1099: InsecureRequestWarning: Unverified HTTPS request is being made to host 'api.notion.com'. Adding certificate verification is strongly advised. See: https://urllib3.readthedocs.io/en/latest/advanced-usage.html#tls-warnings\n",
      "  warnings.warn(\n"
     ]
    },
    {
     "name": "stdout",
     "output_type": "stream",
     "text": [
      "200\n"
     ]
    },
    {
     "name": "stderr",
     "output_type": "stream",
     "text": [
      "/Users/christian/Projects/Notion-Bookshelf/.venv/lib/python3.10/site-packages/urllib3/connectionpool.py:1099: InsecureRequestWarning: Unverified HTTPS request is being made to host 'api.notion.com'. Adding certificate verification is strongly advised. See: https://urllib3.readthedocs.io/en/latest/advanced-usage.html#tls-warnings\n",
      "  warnings.warn(\n"
     ]
    },
    {
     "name": "stdout",
     "output_type": "stream",
     "text": [
      "200\n"
     ]
    },
    {
     "name": "stderr",
     "output_type": "stream",
     "text": [
      "/Users/christian/Projects/Notion-Bookshelf/.venv/lib/python3.10/site-packages/urllib3/connectionpool.py:1099: InsecureRequestWarning: Unverified HTTPS request is being made to host 'api.notion.com'. Adding certificate verification is strongly advised. See: https://urllib3.readthedocs.io/en/latest/advanced-usage.html#tls-warnings\n",
      "  warnings.warn(\n"
     ]
    },
    {
     "name": "stdout",
     "output_type": "stream",
     "text": [
      "200\n"
     ]
    },
    {
     "name": "stderr",
     "output_type": "stream",
     "text": [
      "/Users/christian/Projects/Notion-Bookshelf/.venv/lib/python3.10/site-packages/urllib3/connectionpool.py:1099: InsecureRequestWarning: Unverified HTTPS request is being made to host 'api.notion.com'. Adding certificate verification is strongly advised. See: https://urllib3.readthedocs.io/en/latest/advanced-usage.html#tls-warnings\n",
      "  warnings.warn(\n"
     ]
    },
    {
     "name": "stdout",
     "output_type": "stream",
     "text": [
      "200\n"
     ]
    },
    {
     "name": "stderr",
     "output_type": "stream",
     "text": [
      "/Users/christian/Projects/Notion-Bookshelf/.venv/lib/python3.10/site-packages/urllib3/connectionpool.py:1099: InsecureRequestWarning: Unverified HTTPS request is being made to host 'api.notion.com'. Adding certificate verification is strongly advised. See: https://urllib3.readthedocs.io/en/latest/advanced-usage.html#tls-warnings\n",
      "  warnings.warn(\n"
     ]
    },
    {
     "name": "stdout",
     "output_type": "stream",
     "text": [
      "200\n"
     ]
    },
    {
     "name": "stderr",
     "output_type": "stream",
     "text": [
      "/Users/christian/Projects/Notion-Bookshelf/.venv/lib/python3.10/site-packages/urllib3/connectionpool.py:1099: InsecureRequestWarning: Unverified HTTPS request is being made to host 'api.notion.com'. Adding certificate verification is strongly advised. See: https://urllib3.readthedocs.io/en/latest/advanced-usage.html#tls-warnings\n",
      "  warnings.warn(\n"
     ]
    },
    {
     "name": "stdout",
     "output_type": "stream",
     "text": [
      "200\n"
     ]
    },
    {
     "name": "stderr",
     "output_type": "stream",
     "text": [
      "/Users/christian/Projects/Notion-Bookshelf/.venv/lib/python3.10/site-packages/urllib3/connectionpool.py:1099: InsecureRequestWarning: Unverified HTTPS request is being made to host 'api.notion.com'. Adding certificate verification is strongly advised. See: https://urllib3.readthedocs.io/en/latest/advanced-usage.html#tls-warnings\n",
      "  warnings.warn(\n"
     ]
    },
    {
     "name": "stdout",
     "output_type": "stream",
     "text": [
      "200\n"
     ]
    },
    {
     "name": "stderr",
     "output_type": "stream",
     "text": [
      "/Users/christian/Projects/Notion-Bookshelf/.venv/lib/python3.10/site-packages/urllib3/connectionpool.py:1099: InsecureRequestWarning: Unverified HTTPS request is being made to host 'api.notion.com'. Adding certificate verification is strongly advised. See: https://urllib3.readthedocs.io/en/latest/advanced-usage.html#tls-warnings\n",
      "  warnings.warn(\n"
     ]
    },
    {
     "name": "stdout",
     "output_type": "stream",
     "text": [
      "200\n"
     ]
    },
    {
     "name": "stderr",
     "output_type": "stream",
     "text": [
      "/Users/christian/Projects/Notion-Bookshelf/.venv/lib/python3.10/site-packages/urllib3/connectionpool.py:1099: InsecureRequestWarning: Unverified HTTPS request is being made to host 'api.notion.com'. Adding certificate verification is strongly advised. See: https://urllib3.readthedocs.io/en/latest/advanced-usage.html#tls-warnings\n",
      "  warnings.warn(\n"
     ]
    },
    {
     "name": "stdout",
     "output_type": "stream",
     "text": [
      "200\n"
     ]
    },
    {
     "name": "stderr",
     "output_type": "stream",
     "text": [
      "/Users/christian/Projects/Notion-Bookshelf/.venv/lib/python3.10/site-packages/urllib3/connectionpool.py:1099: InsecureRequestWarning: Unverified HTTPS request is being made to host 'api.notion.com'. Adding certificate verification is strongly advised. See: https://urllib3.readthedocs.io/en/latest/advanced-usage.html#tls-warnings\n",
      "  warnings.warn(\n"
     ]
    },
    {
     "name": "stdout",
     "output_type": "stream",
     "text": [
      "200\n"
     ]
    },
    {
     "name": "stderr",
     "output_type": "stream",
     "text": [
      "/Users/christian/Projects/Notion-Bookshelf/.venv/lib/python3.10/site-packages/urllib3/connectionpool.py:1099: InsecureRequestWarning: Unverified HTTPS request is being made to host 'api.notion.com'. Adding certificate verification is strongly advised. See: https://urllib3.readthedocs.io/en/latest/advanced-usage.html#tls-warnings\n",
      "  warnings.warn(\n"
     ]
    },
    {
     "name": "stdout",
     "output_type": "stream",
     "text": [
      "200\n"
     ]
    },
    {
     "name": "stderr",
     "output_type": "stream",
     "text": [
      "/Users/christian/Projects/Notion-Bookshelf/.venv/lib/python3.10/site-packages/urllib3/connectionpool.py:1099: InsecureRequestWarning: Unverified HTTPS request is being made to host 'api.notion.com'. Adding certificate verification is strongly advised. See: https://urllib3.readthedocs.io/en/latest/advanced-usage.html#tls-warnings\n",
      "  warnings.warn(\n"
     ]
    },
    {
     "name": "stdout",
     "output_type": "stream",
     "text": [
      "200\n"
     ]
    },
    {
     "name": "stderr",
     "output_type": "stream",
     "text": [
      "/Users/christian/Projects/Notion-Bookshelf/.venv/lib/python3.10/site-packages/urllib3/connectionpool.py:1099: InsecureRequestWarning: Unverified HTTPS request is being made to host 'api.notion.com'. Adding certificate verification is strongly advised. See: https://urllib3.readthedocs.io/en/latest/advanced-usage.html#tls-warnings\n",
      "  warnings.warn(\n"
     ]
    },
    {
     "name": "stdout",
     "output_type": "stream",
     "text": [
      "200\n"
     ]
    },
    {
     "name": "stderr",
     "output_type": "stream",
     "text": [
      "/Users/christian/Projects/Notion-Bookshelf/.venv/lib/python3.10/site-packages/urllib3/connectionpool.py:1099: InsecureRequestWarning: Unverified HTTPS request is being made to host 'api.notion.com'. Adding certificate verification is strongly advised. See: https://urllib3.readthedocs.io/en/latest/advanced-usage.html#tls-warnings\n",
      "  warnings.warn(\n"
     ]
    },
    {
     "name": "stdout",
     "output_type": "stream",
     "text": [
      "200\n"
     ]
    },
    {
     "name": "stderr",
     "output_type": "stream",
     "text": [
      "/Users/christian/Projects/Notion-Bookshelf/.venv/lib/python3.10/site-packages/urllib3/connectionpool.py:1099: InsecureRequestWarning: Unverified HTTPS request is being made to host 'api.notion.com'. Adding certificate verification is strongly advised. See: https://urllib3.readthedocs.io/en/latest/advanced-usage.html#tls-warnings\n",
      "  warnings.warn(\n"
     ]
    },
    {
     "name": "stdout",
     "output_type": "stream",
     "text": [
      "200\n"
     ]
    },
    {
     "name": "stderr",
     "output_type": "stream",
     "text": [
      "/Users/christian/Projects/Notion-Bookshelf/.venv/lib/python3.10/site-packages/urllib3/connectionpool.py:1099: InsecureRequestWarning: Unverified HTTPS request is being made to host 'api.notion.com'. Adding certificate verification is strongly advised. See: https://urllib3.readthedocs.io/en/latest/advanced-usage.html#tls-warnings\n",
      "  warnings.warn(\n"
     ]
    },
    {
     "name": "stdout",
     "output_type": "stream",
     "text": [
      "200\n"
     ]
    },
    {
     "name": "stderr",
     "output_type": "stream",
     "text": [
      "/Users/christian/Projects/Notion-Bookshelf/.venv/lib/python3.10/site-packages/urllib3/connectionpool.py:1099: InsecureRequestWarning: Unverified HTTPS request is being made to host 'api.notion.com'. Adding certificate verification is strongly advised. See: https://urllib3.readthedocs.io/en/latest/advanced-usage.html#tls-warnings\n",
      "  warnings.warn(\n"
     ]
    },
    {
     "name": "stdout",
     "output_type": "stream",
     "text": [
      "200\n"
     ]
    },
    {
     "name": "stderr",
     "output_type": "stream",
     "text": [
      "/Users/christian/Projects/Notion-Bookshelf/.venv/lib/python3.10/site-packages/urllib3/connectionpool.py:1099: InsecureRequestWarning: Unverified HTTPS request is being made to host 'api.notion.com'. Adding certificate verification is strongly advised. See: https://urllib3.readthedocs.io/en/latest/advanced-usage.html#tls-warnings\n",
      "  warnings.warn(\n"
     ]
    },
    {
     "name": "stdout",
     "output_type": "stream",
     "text": [
      "200\n"
     ]
    },
    {
     "name": "stderr",
     "output_type": "stream",
     "text": [
      "/Users/christian/Projects/Notion-Bookshelf/.venv/lib/python3.10/site-packages/urllib3/connectionpool.py:1099: InsecureRequestWarning: Unverified HTTPS request is being made to host 'api.notion.com'. Adding certificate verification is strongly advised. See: https://urllib3.readthedocs.io/en/latest/advanced-usage.html#tls-warnings\n",
      "  warnings.warn(\n"
     ]
    },
    {
     "name": "stdout",
     "output_type": "stream",
     "text": [
      "200\n"
     ]
    },
    {
     "name": "stderr",
     "output_type": "stream",
     "text": [
      "/Users/christian/Projects/Notion-Bookshelf/.venv/lib/python3.10/site-packages/urllib3/connectionpool.py:1099: InsecureRequestWarning: Unverified HTTPS request is being made to host 'api.notion.com'. Adding certificate verification is strongly advised. See: https://urllib3.readthedocs.io/en/latest/advanced-usage.html#tls-warnings\n",
      "  warnings.warn(\n"
     ]
    },
    {
     "name": "stdout",
     "output_type": "stream",
     "text": [
      "200\n"
     ]
    },
    {
     "name": "stderr",
     "output_type": "stream",
     "text": [
      "/Users/christian/Projects/Notion-Bookshelf/.venv/lib/python3.10/site-packages/urllib3/connectionpool.py:1099: InsecureRequestWarning: Unverified HTTPS request is being made to host 'api.notion.com'. Adding certificate verification is strongly advised. See: https://urllib3.readthedocs.io/en/latest/advanced-usage.html#tls-warnings\n",
      "  warnings.warn(\n"
     ]
    },
    {
     "name": "stdout",
     "output_type": "stream",
     "text": [
      "200\n"
     ]
    },
    {
     "name": "stderr",
     "output_type": "stream",
     "text": [
      "/Users/christian/Projects/Notion-Bookshelf/.venv/lib/python3.10/site-packages/urllib3/connectionpool.py:1099: InsecureRequestWarning: Unverified HTTPS request is being made to host 'api.notion.com'. Adding certificate verification is strongly advised. See: https://urllib3.readthedocs.io/en/latest/advanced-usage.html#tls-warnings\n",
      "  warnings.warn(\n"
     ]
    },
    {
     "name": "stdout",
     "output_type": "stream",
     "text": [
      "200\n"
     ]
    },
    {
     "name": "stderr",
     "output_type": "stream",
     "text": [
      "/Users/christian/Projects/Notion-Bookshelf/.venv/lib/python3.10/site-packages/urllib3/connectionpool.py:1099: InsecureRequestWarning: Unverified HTTPS request is being made to host 'api.notion.com'. Adding certificate verification is strongly advised. See: https://urllib3.readthedocs.io/en/latest/advanced-usage.html#tls-warnings\n",
      "  warnings.warn(\n"
     ]
    },
    {
     "name": "stdout",
     "output_type": "stream",
     "text": [
      "200\n"
     ]
    },
    {
     "name": "stderr",
     "output_type": "stream",
     "text": [
      "/Users/christian/Projects/Notion-Bookshelf/.venv/lib/python3.10/site-packages/urllib3/connectionpool.py:1099: InsecureRequestWarning: Unverified HTTPS request is being made to host 'api.notion.com'. Adding certificate verification is strongly advised. See: https://urllib3.readthedocs.io/en/latest/advanced-usage.html#tls-warnings\n",
      "  warnings.warn(\n"
     ]
    },
    {
     "name": "stdout",
     "output_type": "stream",
     "text": [
      "200\n"
     ]
    },
    {
     "name": "stderr",
     "output_type": "stream",
     "text": [
      "/Users/christian/Projects/Notion-Bookshelf/.venv/lib/python3.10/site-packages/urllib3/connectionpool.py:1099: InsecureRequestWarning: Unverified HTTPS request is being made to host 'api.notion.com'. Adding certificate verification is strongly advised. See: https://urllib3.readthedocs.io/en/latest/advanced-usage.html#tls-warnings\n",
      "  warnings.warn(\n"
     ]
    },
    {
     "name": "stdout",
     "output_type": "stream",
     "text": [
      "200\n"
     ]
    },
    {
     "name": "stderr",
     "output_type": "stream",
     "text": [
      "/Users/christian/Projects/Notion-Bookshelf/.venv/lib/python3.10/site-packages/urllib3/connectionpool.py:1099: InsecureRequestWarning: Unverified HTTPS request is being made to host 'api.notion.com'. Adding certificate verification is strongly advised. See: https://urllib3.readthedocs.io/en/latest/advanced-usage.html#tls-warnings\n",
      "  warnings.warn(\n"
     ]
    },
    {
     "name": "stdout",
     "output_type": "stream",
     "text": [
      "200\n"
     ]
    },
    {
     "name": "stderr",
     "output_type": "stream",
     "text": [
      "/Users/christian/Projects/Notion-Bookshelf/.venv/lib/python3.10/site-packages/urllib3/connectionpool.py:1099: InsecureRequestWarning: Unverified HTTPS request is being made to host 'api.notion.com'. Adding certificate verification is strongly advised. See: https://urllib3.readthedocs.io/en/latest/advanced-usage.html#tls-warnings\n",
      "  warnings.warn(\n"
     ]
    },
    {
     "name": "stdout",
     "output_type": "stream",
     "text": [
      "200\n"
     ]
    },
    {
     "name": "stderr",
     "output_type": "stream",
     "text": [
      "/Users/christian/Projects/Notion-Bookshelf/.venv/lib/python3.10/site-packages/urllib3/connectionpool.py:1099: InsecureRequestWarning: Unverified HTTPS request is being made to host 'api.notion.com'. Adding certificate verification is strongly advised. See: https://urllib3.readthedocs.io/en/latest/advanced-usage.html#tls-warnings\n",
      "  warnings.warn(\n"
     ]
    },
    {
     "name": "stdout",
     "output_type": "stream",
     "text": [
      "200\n"
     ]
    },
    {
     "name": "stderr",
     "output_type": "stream",
     "text": [
      "/Users/christian/Projects/Notion-Bookshelf/.venv/lib/python3.10/site-packages/urllib3/connectionpool.py:1099: InsecureRequestWarning: Unverified HTTPS request is being made to host 'api.notion.com'. Adding certificate verification is strongly advised. See: https://urllib3.readthedocs.io/en/latest/advanced-usage.html#tls-warnings\n",
      "  warnings.warn(\n"
     ]
    },
    {
     "name": "stdout",
     "output_type": "stream",
     "text": [
      "200\n"
     ]
    },
    {
     "name": "stderr",
     "output_type": "stream",
     "text": [
      "/Users/christian/Projects/Notion-Bookshelf/.venv/lib/python3.10/site-packages/urllib3/connectionpool.py:1099: InsecureRequestWarning: Unverified HTTPS request is being made to host 'api.notion.com'. Adding certificate verification is strongly advised. See: https://urllib3.readthedocs.io/en/latest/advanced-usage.html#tls-warnings\n",
      "  warnings.warn(\n"
     ]
    },
    {
     "name": "stdout",
     "output_type": "stream",
     "text": [
      "200\n"
     ]
    },
    {
     "name": "stderr",
     "output_type": "stream",
     "text": [
      "/Users/christian/Projects/Notion-Bookshelf/.venv/lib/python3.10/site-packages/urllib3/connectionpool.py:1099: InsecureRequestWarning: Unverified HTTPS request is being made to host 'api.notion.com'. Adding certificate verification is strongly advised. See: https://urllib3.readthedocs.io/en/latest/advanced-usage.html#tls-warnings\n",
      "  warnings.warn(\n"
     ]
    },
    {
     "name": "stdout",
     "output_type": "stream",
     "text": [
      "200\n"
     ]
    },
    {
     "name": "stderr",
     "output_type": "stream",
     "text": [
      "/Users/christian/Projects/Notion-Bookshelf/.venv/lib/python3.10/site-packages/urllib3/connectionpool.py:1099: InsecureRequestWarning: Unverified HTTPS request is being made to host 'api.notion.com'. Adding certificate verification is strongly advised. See: https://urllib3.readthedocs.io/en/latest/advanced-usage.html#tls-warnings\n",
      "  warnings.warn(\n"
     ]
    },
    {
     "name": "stdout",
     "output_type": "stream",
     "text": [
      "200\n"
     ]
    },
    {
     "name": "stderr",
     "output_type": "stream",
     "text": [
      "/Users/christian/Projects/Notion-Bookshelf/.venv/lib/python3.10/site-packages/urllib3/connectionpool.py:1099: InsecureRequestWarning: Unverified HTTPS request is being made to host 'api.notion.com'. Adding certificate verification is strongly advised. See: https://urllib3.readthedocs.io/en/latest/advanced-usage.html#tls-warnings\n",
      "  warnings.warn(\n"
     ]
    },
    {
     "name": "stdout",
     "output_type": "stream",
     "text": [
      "200\n"
     ]
    },
    {
     "name": "stderr",
     "output_type": "stream",
     "text": [
      "/Users/christian/Projects/Notion-Bookshelf/.venv/lib/python3.10/site-packages/urllib3/connectionpool.py:1099: InsecureRequestWarning: Unverified HTTPS request is being made to host 'api.notion.com'. Adding certificate verification is strongly advised. See: https://urllib3.readthedocs.io/en/latest/advanced-usage.html#tls-warnings\n",
      "  warnings.warn(\n"
     ]
    },
    {
     "name": "stdout",
     "output_type": "stream",
     "text": [
      "200\n"
     ]
    },
    {
     "name": "stderr",
     "output_type": "stream",
     "text": [
      "/Users/christian/Projects/Notion-Bookshelf/.venv/lib/python3.10/site-packages/urllib3/connectionpool.py:1099: InsecureRequestWarning: Unverified HTTPS request is being made to host 'api.notion.com'. Adding certificate verification is strongly advised. See: https://urllib3.readthedocs.io/en/latest/advanced-usage.html#tls-warnings\n",
      "  warnings.warn(\n"
     ]
    },
    {
     "name": "stdout",
     "output_type": "stream",
     "text": [
      "200\n"
     ]
    },
    {
     "name": "stderr",
     "output_type": "stream",
     "text": [
      "/Users/christian/Projects/Notion-Bookshelf/.venv/lib/python3.10/site-packages/urllib3/connectionpool.py:1099: InsecureRequestWarning: Unverified HTTPS request is being made to host 'api.notion.com'. Adding certificate verification is strongly advised. See: https://urllib3.readthedocs.io/en/latest/advanced-usage.html#tls-warnings\n",
      "  warnings.warn(\n"
     ]
    },
    {
     "name": "stdout",
     "output_type": "stream",
     "text": [
      "200\n"
     ]
    },
    {
     "name": "stderr",
     "output_type": "stream",
     "text": [
      "/Users/christian/Projects/Notion-Bookshelf/.venv/lib/python3.10/site-packages/urllib3/connectionpool.py:1099: InsecureRequestWarning: Unverified HTTPS request is being made to host 'api.notion.com'. Adding certificate verification is strongly advised. See: https://urllib3.readthedocs.io/en/latest/advanced-usage.html#tls-warnings\n",
      "  warnings.warn(\n"
     ]
    },
    {
     "name": "stdout",
     "output_type": "stream",
     "text": [
      "200\n"
     ]
    },
    {
     "name": "stderr",
     "output_type": "stream",
     "text": [
      "/Users/christian/Projects/Notion-Bookshelf/.venv/lib/python3.10/site-packages/urllib3/connectionpool.py:1099: InsecureRequestWarning: Unverified HTTPS request is being made to host 'api.notion.com'. Adding certificate verification is strongly advised. See: https://urllib3.readthedocs.io/en/latest/advanced-usage.html#tls-warnings\n",
      "  warnings.warn(\n"
     ]
    },
    {
     "name": "stdout",
     "output_type": "stream",
     "text": [
      "200\n"
     ]
    },
    {
     "name": "stderr",
     "output_type": "stream",
     "text": [
      "/Users/christian/Projects/Notion-Bookshelf/.venv/lib/python3.10/site-packages/urllib3/connectionpool.py:1099: InsecureRequestWarning: Unverified HTTPS request is being made to host 'api.notion.com'. Adding certificate verification is strongly advised. See: https://urllib3.readthedocs.io/en/latest/advanced-usage.html#tls-warnings\n",
      "  warnings.warn(\n"
     ]
    },
    {
     "name": "stdout",
     "output_type": "stream",
     "text": [
      "200\n"
     ]
    },
    {
     "name": "stderr",
     "output_type": "stream",
     "text": [
      "/Users/christian/Projects/Notion-Bookshelf/.venv/lib/python3.10/site-packages/urllib3/connectionpool.py:1099: InsecureRequestWarning: Unverified HTTPS request is being made to host 'api.notion.com'. Adding certificate verification is strongly advised. See: https://urllib3.readthedocs.io/en/latest/advanced-usage.html#tls-warnings\n",
      "  warnings.warn(\n"
     ]
    },
    {
     "name": "stdout",
     "output_type": "stream",
     "text": [
      "200\n"
     ]
    },
    {
     "name": "stderr",
     "output_type": "stream",
     "text": [
      "/Users/christian/Projects/Notion-Bookshelf/.venv/lib/python3.10/site-packages/urllib3/connectionpool.py:1099: InsecureRequestWarning: Unverified HTTPS request is being made to host 'api.notion.com'. Adding certificate verification is strongly advised. See: https://urllib3.readthedocs.io/en/latest/advanced-usage.html#tls-warnings\n",
      "  warnings.warn(\n"
     ]
    },
    {
     "name": "stdout",
     "output_type": "stream",
     "text": [
      "200\n"
     ]
    },
    {
     "name": "stderr",
     "output_type": "stream",
     "text": [
      "/Users/christian/Projects/Notion-Bookshelf/.venv/lib/python3.10/site-packages/urllib3/connectionpool.py:1099: InsecureRequestWarning: Unverified HTTPS request is being made to host 'api.notion.com'. Adding certificate verification is strongly advised. See: https://urllib3.readthedocs.io/en/latest/advanced-usage.html#tls-warnings\n",
      "  warnings.warn(\n"
     ]
    },
    {
     "name": "stdout",
     "output_type": "stream",
     "text": [
      "200\n"
     ]
    },
    {
     "name": "stderr",
     "output_type": "stream",
     "text": [
      "/Users/christian/Projects/Notion-Bookshelf/.venv/lib/python3.10/site-packages/urllib3/connectionpool.py:1099: InsecureRequestWarning: Unverified HTTPS request is being made to host 'api.notion.com'. Adding certificate verification is strongly advised. See: https://urllib3.readthedocs.io/en/latest/advanced-usage.html#tls-warnings\n",
      "  warnings.warn(\n"
     ]
    },
    {
     "name": "stdout",
     "output_type": "stream",
     "text": [
      "200\n"
     ]
    },
    {
     "name": "stderr",
     "output_type": "stream",
     "text": [
      "/Users/christian/Projects/Notion-Bookshelf/.venv/lib/python3.10/site-packages/urllib3/connectionpool.py:1099: InsecureRequestWarning: Unverified HTTPS request is being made to host 'api.notion.com'. Adding certificate verification is strongly advised. See: https://urllib3.readthedocs.io/en/latest/advanced-usage.html#tls-warnings\n",
      "  warnings.warn(\n"
     ]
    },
    {
     "name": "stdout",
     "output_type": "stream",
     "text": [
      "200\n"
     ]
    },
    {
     "name": "stderr",
     "output_type": "stream",
     "text": [
      "/Users/christian/Projects/Notion-Bookshelf/.venv/lib/python3.10/site-packages/urllib3/connectionpool.py:1099: InsecureRequestWarning: Unverified HTTPS request is being made to host 'api.notion.com'. Adding certificate verification is strongly advised. See: https://urllib3.readthedocs.io/en/latest/advanced-usage.html#tls-warnings\n",
      "  warnings.warn(\n"
     ]
    },
    {
     "name": "stdout",
     "output_type": "stream",
     "text": [
      "200\n"
     ]
    },
    {
     "name": "stderr",
     "output_type": "stream",
     "text": [
      "/Users/christian/Projects/Notion-Bookshelf/.venv/lib/python3.10/site-packages/urllib3/connectionpool.py:1099: InsecureRequestWarning: Unverified HTTPS request is being made to host 'api.notion.com'. Adding certificate verification is strongly advised. See: https://urllib3.readthedocs.io/en/latest/advanced-usage.html#tls-warnings\n",
      "  warnings.warn(\n"
     ]
    },
    {
     "name": "stdout",
     "output_type": "stream",
     "text": [
      "200\n"
     ]
    },
    {
     "name": "stderr",
     "output_type": "stream",
     "text": [
      "/Users/christian/Projects/Notion-Bookshelf/.venv/lib/python3.10/site-packages/urllib3/connectionpool.py:1099: InsecureRequestWarning: Unverified HTTPS request is being made to host 'api.notion.com'. Adding certificate verification is strongly advised. See: https://urllib3.readthedocs.io/en/latest/advanced-usage.html#tls-warnings\n",
      "  warnings.warn(\n"
     ]
    },
    {
     "name": "stdout",
     "output_type": "stream",
     "text": [
      "200\n"
     ]
    },
    {
     "name": "stderr",
     "output_type": "stream",
     "text": [
      "/Users/christian/Projects/Notion-Bookshelf/.venv/lib/python3.10/site-packages/urllib3/connectionpool.py:1099: InsecureRequestWarning: Unverified HTTPS request is being made to host 'api.notion.com'. Adding certificate verification is strongly advised. See: https://urllib3.readthedocs.io/en/latest/advanced-usage.html#tls-warnings\n",
      "  warnings.warn(\n"
     ]
    },
    {
     "name": "stdout",
     "output_type": "stream",
     "text": [
      "200\n"
     ]
    },
    {
     "name": "stderr",
     "output_type": "stream",
     "text": [
      "/Users/christian/Projects/Notion-Bookshelf/.venv/lib/python3.10/site-packages/urllib3/connectionpool.py:1099: InsecureRequestWarning: Unverified HTTPS request is being made to host 'api.notion.com'. Adding certificate verification is strongly advised. See: https://urllib3.readthedocs.io/en/latest/advanced-usage.html#tls-warnings\n",
      "  warnings.warn(\n"
     ]
    },
    {
     "name": "stdout",
     "output_type": "stream",
     "text": [
      "200\n"
     ]
    },
    {
     "name": "stderr",
     "output_type": "stream",
     "text": [
      "/Users/christian/Projects/Notion-Bookshelf/.venv/lib/python3.10/site-packages/urllib3/connectionpool.py:1099: InsecureRequestWarning: Unverified HTTPS request is being made to host 'api.notion.com'. Adding certificate verification is strongly advised. See: https://urllib3.readthedocs.io/en/latest/advanced-usage.html#tls-warnings\n",
      "  warnings.warn(\n"
     ]
    },
    {
     "name": "stdout",
     "output_type": "stream",
     "text": [
      "200\n"
     ]
    },
    {
     "name": "stderr",
     "output_type": "stream",
     "text": [
      "/Users/christian/Projects/Notion-Bookshelf/.venv/lib/python3.10/site-packages/urllib3/connectionpool.py:1099: InsecureRequestWarning: Unverified HTTPS request is being made to host 'api.notion.com'. Adding certificate verification is strongly advised. See: https://urllib3.readthedocs.io/en/latest/advanced-usage.html#tls-warnings\n",
      "  warnings.warn(\n"
     ]
    },
    {
     "name": "stdout",
     "output_type": "stream",
     "text": [
      "200\n"
     ]
    },
    {
     "name": "stderr",
     "output_type": "stream",
     "text": [
      "/Users/christian/Projects/Notion-Bookshelf/.venv/lib/python3.10/site-packages/urllib3/connectionpool.py:1099: InsecureRequestWarning: Unverified HTTPS request is being made to host 'api.notion.com'. Adding certificate verification is strongly advised. See: https://urllib3.readthedocs.io/en/latest/advanced-usage.html#tls-warnings\n",
      "  warnings.warn(\n"
     ]
    },
    {
     "name": "stdout",
     "output_type": "stream",
     "text": [
      "200\n"
     ]
    },
    {
     "name": "stderr",
     "output_type": "stream",
     "text": [
      "/Users/christian/Projects/Notion-Bookshelf/.venv/lib/python3.10/site-packages/urllib3/connectionpool.py:1099: InsecureRequestWarning: Unverified HTTPS request is being made to host 'api.notion.com'. Adding certificate verification is strongly advised. See: https://urllib3.readthedocs.io/en/latest/advanced-usage.html#tls-warnings\n",
      "  warnings.warn(\n"
     ]
    },
    {
     "name": "stdout",
     "output_type": "stream",
     "text": [
      "400\n"
     ]
    },
    {
     "name": "stderr",
     "output_type": "stream",
     "text": [
      "/Users/christian/Projects/Notion-Bookshelf/.venv/lib/python3.10/site-packages/urllib3/connectionpool.py:1099: InsecureRequestWarning: Unverified HTTPS request is being made to host 'api.notion.com'. Adding certificate verification is strongly advised. See: https://urllib3.readthedocs.io/en/latest/advanced-usage.html#tls-warnings\n",
      "  warnings.warn(\n"
     ]
    },
    {
     "name": "stdout",
     "output_type": "stream",
     "text": [
      "200\n"
     ]
    }
   ],
   "source": [
    "# Update Links\n",
    "property_name = 'Link'\n",
    "property_type = \"url\"\n",
    "data_column = 'selfLink'\n",
    "\n",
    "for i in look_up['page_id'].index:\n",
    "   # if math.isnan(look_up['Link'][i]):\n",
    "    update_properties(property_name, property_type, data_column)"
   ]
  },
  {
   "cell_type": "markdown",
   "id": "894a75a3",
   "metadata": {},
   "source": [
    "### Update Publisher Names"
   ]
  },
  {
   "cell_type": "code",
   "execution_count": 100,
   "id": "6384ed89",
   "metadata": {},
   "outputs": [
    {
     "name": "stderr",
     "output_type": "stream",
     "text": [
      "/Users/christian/Projects/Notion-Bookshelf/.venv/lib/python3.10/site-packages/urllib3/connectionpool.py:1099: InsecureRequestWarning: Unverified HTTPS request is being made to host 'api.notion.com'. Adding certificate verification is strongly advised. See: https://urllib3.readthedocs.io/en/latest/advanced-usage.html#tls-warnings\n",
      "  warnings.warn(\n"
     ]
    },
    {
     "name": "stdout",
     "output_type": "stream",
     "text": [
      "400\n"
     ]
    },
    {
     "name": "stderr",
     "output_type": "stream",
     "text": [
      "/Users/christian/Projects/Notion-Bookshelf/.venv/lib/python3.10/site-packages/urllib3/connectionpool.py:1099: InsecureRequestWarning: Unverified HTTPS request is being made to host 'api.notion.com'. Adding certificate verification is strongly advised. See: https://urllib3.readthedocs.io/en/latest/advanced-usage.html#tls-warnings\n",
      "  warnings.warn(\n"
     ]
    },
    {
     "name": "stdout",
     "output_type": "stream",
     "text": [
      "400\n"
     ]
    },
    {
     "name": "stderr",
     "output_type": "stream",
     "text": [
      "/Users/christian/Projects/Notion-Bookshelf/.venv/lib/python3.10/site-packages/urllib3/connectionpool.py:1099: InsecureRequestWarning: Unverified HTTPS request is being made to host 'api.notion.com'. Adding certificate verification is strongly advised. See: https://urllib3.readthedocs.io/en/latest/advanced-usage.html#tls-warnings\n",
      "  warnings.warn(\n"
     ]
    },
    {
     "name": "stdout",
     "output_type": "stream",
     "text": [
      "400\n"
     ]
    },
    {
     "name": "stderr",
     "output_type": "stream",
     "text": [
      "/Users/christian/Projects/Notion-Bookshelf/.venv/lib/python3.10/site-packages/urllib3/connectionpool.py:1099: InsecureRequestWarning: Unverified HTTPS request is being made to host 'api.notion.com'. Adding certificate verification is strongly advised. See: https://urllib3.readthedocs.io/en/latest/advanced-usage.html#tls-warnings\n",
      "  warnings.warn(\n"
     ]
    },
    {
     "name": "stdout",
     "output_type": "stream",
     "text": [
      "400\n"
     ]
    },
    {
     "name": "stderr",
     "output_type": "stream",
     "text": [
      "/Users/christian/Projects/Notion-Bookshelf/.venv/lib/python3.10/site-packages/urllib3/connectionpool.py:1099: InsecureRequestWarning: Unverified HTTPS request is being made to host 'api.notion.com'. Adding certificate verification is strongly advised. See: https://urllib3.readthedocs.io/en/latest/advanced-usage.html#tls-warnings\n",
      "  warnings.warn(\n"
     ]
    },
    {
     "name": "stdout",
     "output_type": "stream",
     "text": [
      "400\n"
     ]
    },
    {
     "name": "stderr",
     "output_type": "stream",
     "text": [
      "/Users/christian/Projects/Notion-Bookshelf/.venv/lib/python3.10/site-packages/urllib3/connectionpool.py:1099: InsecureRequestWarning: Unverified HTTPS request is being made to host 'api.notion.com'. Adding certificate verification is strongly advised. See: https://urllib3.readthedocs.io/en/latest/advanced-usage.html#tls-warnings\n",
      "  warnings.warn(\n"
     ]
    },
    {
     "name": "stdout",
     "output_type": "stream",
     "text": [
      "400\n"
     ]
    },
    {
     "name": "stderr",
     "output_type": "stream",
     "text": [
      "/Users/christian/Projects/Notion-Bookshelf/.venv/lib/python3.10/site-packages/urllib3/connectionpool.py:1099: InsecureRequestWarning: Unverified HTTPS request is being made to host 'api.notion.com'. Adding certificate verification is strongly advised. See: https://urllib3.readthedocs.io/en/latest/advanced-usage.html#tls-warnings\n",
      "  warnings.warn(\n"
     ]
    },
    {
     "name": "stdout",
     "output_type": "stream",
     "text": [
      "400\n"
     ]
    },
    {
     "name": "stderr",
     "output_type": "stream",
     "text": [
      "/Users/christian/Projects/Notion-Bookshelf/.venv/lib/python3.10/site-packages/urllib3/connectionpool.py:1099: InsecureRequestWarning: Unverified HTTPS request is being made to host 'api.notion.com'. Adding certificate verification is strongly advised. See: https://urllib3.readthedocs.io/en/latest/advanced-usage.html#tls-warnings\n",
      "  warnings.warn(\n"
     ]
    },
    {
     "name": "stdout",
     "output_type": "stream",
     "text": [
      "400\n"
     ]
    },
    {
     "name": "stderr",
     "output_type": "stream",
     "text": [
      "/Users/christian/Projects/Notion-Bookshelf/.venv/lib/python3.10/site-packages/urllib3/connectionpool.py:1099: InsecureRequestWarning: Unverified HTTPS request is being made to host 'api.notion.com'. Adding certificate verification is strongly advised. See: https://urllib3.readthedocs.io/en/latest/advanced-usage.html#tls-warnings\n",
      "  warnings.warn(\n"
     ]
    },
    {
     "name": "stdout",
     "output_type": "stream",
     "text": [
      "400\n"
     ]
    },
    {
     "name": "stderr",
     "output_type": "stream",
     "text": [
      "/Users/christian/Projects/Notion-Bookshelf/.venv/lib/python3.10/site-packages/urllib3/connectionpool.py:1099: InsecureRequestWarning: Unverified HTTPS request is being made to host 'api.notion.com'. Adding certificate verification is strongly advised. See: https://urllib3.readthedocs.io/en/latest/advanced-usage.html#tls-warnings\n",
      "  warnings.warn(\n"
     ]
    },
    {
     "name": "stdout",
     "output_type": "stream",
     "text": [
      "400\n"
     ]
    },
    {
     "name": "stderr",
     "output_type": "stream",
     "text": [
      "/Users/christian/Projects/Notion-Bookshelf/.venv/lib/python3.10/site-packages/urllib3/connectionpool.py:1099: InsecureRequestWarning: Unverified HTTPS request is being made to host 'api.notion.com'. Adding certificate verification is strongly advised. See: https://urllib3.readthedocs.io/en/latest/advanced-usage.html#tls-warnings\n",
      "  warnings.warn(\n"
     ]
    },
    {
     "name": "stdout",
     "output_type": "stream",
     "text": [
      "400\n"
     ]
    },
    {
     "name": "stderr",
     "output_type": "stream",
     "text": [
      "/Users/christian/Projects/Notion-Bookshelf/.venv/lib/python3.10/site-packages/urllib3/connectionpool.py:1099: InsecureRequestWarning: Unverified HTTPS request is being made to host 'api.notion.com'. Adding certificate verification is strongly advised. See: https://urllib3.readthedocs.io/en/latest/advanced-usage.html#tls-warnings\n",
      "  warnings.warn(\n"
     ]
    },
    {
     "name": "stdout",
     "output_type": "stream",
     "text": [
      "400\n"
     ]
    },
    {
     "name": "stderr",
     "output_type": "stream",
     "text": [
      "/Users/christian/Projects/Notion-Bookshelf/.venv/lib/python3.10/site-packages/urllib3/connectionpool.py:1099: InsecureRequestWarning: Unverified HTTPS request is being made to host 'api.notion.com'. Adding certificate verification is strongly advised. See: https://urllib3.readthedocs.io/en/latest/advanced-usage.html#tls-warnings\n",
      "  warnings.warn(\n"
     ]
    },
    {
     "name": "stdout",
     "output_type": "stream",
     "text": [
      "400\n"
     ]
    },
    {
     "name": "stderr",
     "output_type": "stream",
     "text": [
      "/Users/christian/Projects/Notion-Bookshelf/.venv/lib/python3.10/site-packages/urllib3/connectionpool.py:1099: InsecureRequestWarning: Unverified HTTPS request is being made to host 'api.notion.com'. Adding certificate verification is strongly advised. See: https://urllib3.readthedocs.io/en/latest/advanced-usage.html#tls-warnings\n",
      "  warnings.warn(\n"
     ]
    },
    {
     "name": "stdout",
     "output_type": "stream",
     "text": [
      "400\n"
     ]
    },
    {
     "name": "stderr",
     "output_type": "stream",
     "text": [
      "/Users/christian/Projects/Notion-Bookshelf/.venv/lib/python3.10/site-packages/urllib3/connectionpool.py:1099: InsecureRequestWarning: Unverified HTTPS request is being made to host 'api.notion.com'. Adding certificate verification is strongly advised. See: https://urllib3.readthedocs.io/en/latest/advanced-usage.html#tls-warnings\n",
      "  warnings.warn(\n"
     ]
    },
    {
     "name": "stdout",
     "output_type": "stream",
     "text": [
      "400\n"
     ]
    },
    {
     "name": "stderr",
     "output_type": "stream",
     "text": [
      "/Users/christian/Projects/Notion-Bookshelf/.venv/lib/python3.10/site-packages/urllib3/connectionpool.py:1099: InsecureRequestWarning: Unverified HTTPS request is being made to host 'api.notion.com'. Adding certificate verification is strongly advised. See: https://urllib3.readthedocs.io/en/latest/advanced-usage.html#tls-warnings\n",
      "  warnings.warn(\n"
     ]
    },
    {
     "name": "stdout",
     "output_type": "stream",
     "text": [
      "400\n"
     ]
    },
    {
     "name": "stderr",
     "output_type": "stream",
     "text": [
      "/Users/christian/Projects/Notion-Bookshelf/.venv/lib/python3.10/site-packages/urllib3/connectionpool.py:1099: InsecureRequestWarning: Unverified HTTPS request is being made to host 'api.notion.com'. Adding certificate verification is strongly advised. See: https://urllib3.readthedocs.io/en/latest/advanced-usage.html#tls-warnings\n",
      "  warnings.warn(\n"
     ]
    },
    {
     "name": "stdout",
     "output_type": "stream",
     "text": [
      "400\n"
     ]
    },
    {
     "name": "stderr",
     "output_type": "stream",
     "text": [
      "/Users/christian/Projects/Notion-Bookshelf/.venv/lib/python3.10/site-packages/urllib3/connectionpool.py:1099: InsecureRequestWarning: Unverified HTTPS request is being made to host 'api.notion.com'. Adding certificate verification is strongly advised. See: https://urllib3.readthedocs.io/en/latest/advanced-usage.html#tls-warnings\n",
      "  warnings.warn(\n"
     ]
    },
    {
     "name": "stdout",
     "output_type": "stream",
     "text": [
      "400\n"
     ]
    },
    {
     "name": "stderr",
     "output_type": "stream",
     "text": [
      "/Users/christian/Projects/Notion-Bookshelf/.venv/lib/python3.10/site-packages/urllib3/connectionpool.py:1099: InsecureRequestWarning: Unverified HTTPS request is being made to host 'api.notion.com'. Adding certificate verification is strongly advised. See: https://urllib3.readthedocs.io/en/latest/advanced-usage.html#tls-warnings\n",
      "  warnings.warn(\n"
     ]
    },
    {
     "name": "stdout",
     "output_type": "stream",
     "text": [
      "400\n"
     ]
    },
    {
     "name": "stderr",
     "output_type": "stream",
     "text": [
      "/Users/christian/Projects/Notion-Bookshelf/.venv/lib/python3.10/site-packages/urllib3/connectionpool.py:1099: InsecureRequestWarning: Unverified HTTPS request is being made to host 'api.notion.com'. Adding certificate verification is strongly advised. See: https://urllib3.readthedocs.io/en/latest/advanced-usage.html#tls-warnings\n",
      "  warnings.warn(\n"
     ]
    },
    {
     "name": "stdout",
     "output_type": "stream",
     "text": [
      "400\n"
     ]
    },
    {
     "name": "stderr",
     "output_type": "stream",
     "text": [
      "/Users/christian/Projects/Notion-Bookshelf/.venv/lib/python3.10/site-packages/urllib3/connectionpool.py:1099: InsecureRequestWarning: Unverified HTTPS request is being made to host 'api.notion.com'. Adding certificate verification is strongly advised. See: https://urllib3.readthedocs.io/en/latest/advanced-usage.html#tls-warnings\n",
      "  warnings.warn(\n"
     ]
    },
    {
     "name": "stdout",
     "output_type": "stream",
     "text": [
      "400\n"
     ]
    },
    {
     "name": "stderr",
     "output_type": "stream",
     "text": [
      "/Users/christian/Projects/Notion-Bookshelf/.venv/lib/python3.10/site-packages/urllib3/connectionpool.py:1099: InsecureRequestWarning: Unverified HTTPS request is being made to host 'api.notion.com'. Adding certificate verification is strongly advised. See: https://urllib3.readthedocs.io/en/latest/advanced-usage.html#tls-warnings\n",
      "  warnings.warn(\n"
     ]
    },
    {
     "name": "stdout",
     "output_type": "stream",
     "text": [
      "400\n"
     ]
    },
    {
     "name": "stderr",
     "output_type": "stream",
     "text": [
      "/Users/christian/Projects/Notion-Bookshelf/.venv/lib/python3.10/site-packages/urllib3/connectionpool.py:1099: InsecureRequestWarning: Unverified HTTPS request is being made to host 'api.notion.com'. Adding certificate verification is strongly advised. See: https://urllib3.readthedocs.io/en/latest/advanced-usage.html#tls-warnings\n",
      "  warnings.warn(\n"
     ]
    },
    {
     "name": "stdout",
     "output_type": "stream",
     "text": [
      "400\n"
     ]
    },
    {
     "name": "stderr",
     "output_type": "stream",
     "text": [
      "/Users/christian/Projects/Notion-Bookshelf/.venv/lib/python3.10/site-packages/urllib3/connectionpool.py:1099: InsecureRequestWarning: Unverified HTTPS request is being made to host 'api.notion.com'. Adding certificate verification is strongly advised. See: https://urllib3.readthedocs.io/en/latest/advanced-usage.html#tls-warnings\n",
      "  warnings.warn(\n"
     ]
    },
    {
     "name": "stdout",
     "output_type": "stream",
     "text": [
      "400\n"
     ]
    },
    {
     "name": "stderr",
     "output_type": "stream",
     "text": [
      "/Users/christian/Projects/Notion-Bookshelf/.venv/lib/python3.10/site-packages/urllib3/connectionpool.py:1099: InsecureRequestWarning: Unverified HTTPS request is being made to host 'api.notion.com'. Adding certificate verification is strongly advised. See: https://urllib3.readthedocs.io/en/latest/advanced-usage.html#tls-warnings\n",
      "  warnings.warn(\n"
     ]
    },
    {
     "name": "stdout",
     "output_type": "stream",
     "text": [
      "400\n"
     ]
    },
    {
     "name": "stderr",
     "output_type": "stream",
     "text": [
      "/Users/christian/Projects/Notion-Bookshelf/.venv/lib/python3.10/site-packages/urllib3/connectionpool.py:1099: InsecureRequestWarning: Unverified HTTPS request is being made to host 'api.notion.com'. Adding certificate verification is strongly advised. See: https://urllib3.readthedocs.io/en/latest/advanced-usage.html#tls-warnings\n",
      "  warnings.warn(\n"
     ]
    },
    {
     "name": "stdout",
     "output_type": "stream",
     "text": [
      "400\n"
     ]
    },
    {
     "name": "stderr",
     "output_type": "stream",
     "text": [
      "/Users/christian/Projects/Notion-Bookshelf/.venv/lib/python3.10/site-packages/urllib3/connectionpool.py:1099: InsecureRequestWarning: Unverified HTTPS request is being made to host 'api.notion.com'. Adding certificate verification is strongly advised. See: https://urllib3.readthedocs.io/en/latest/advanced-usage.html#tls-warnings\n",
      "  warnings.warn(\n"
     ]
    },
    {
     "name": "stdout",
     "output_type": "stream",
     "text": [
      "400\n"
     ]
    },
    {
     "name": "stderr",
     "output_type": "stream",
     "text": [
      "/Users/christian/Projects/Notion-Bookshelf/.venv/lib/python3.10/site-packages/urllib3/connectionpool.py:1099: InsecureRequestWarning: Unverified HTTPS request is being made to host 'api.notion.com'. Adding certificate verification is strongly advised. See: https://urllib3.readthedocs.io/en/latest/advanced-usage.html#tls-warnings\n",
      "  warnings.warn(\n"
     ]
    },
    {
     "name": "stdout",
     "output_type": "stream",
     "text": [
      "400\n"
     ]
    },
    {
     "name": "stderr",
     "output_type": "stream",
     "text": [
      "/Users/christian/Projects/Notion-Bookshelf/.venv/lib/python3.10/site-packages/urllib3/connectionpool.py:1099: InsecureRequestWarning: Unverified HTTPS request is being made to host 'api.notion.com'. Adding certificate verification is strongly advised. See: https://urllib3.readthedocs.io/en/latest/advanced-usage.html#tls-warnings\n",
      "  warnings.warn(\n"
     ]
    },
    {
     "name": "stdout",
     "output_type": "stream",
     "text": [
      "400\n"
     ]
    },
    {
     "name": "stderr",
     "output_type": "stream",
     "text": [
      "/Users/christian/Projects/Notion-Bookshelf/.venv/lib/python3.10/site-packages/urllib3/connectionpool.py:1099: InsecureRequestWarning: Unverified HTTPS request is being made to host 'api.notion.com'. Adding certificate verification is strongly advised. See: https://urllib3.readthedocs.io/en/latest/advanced-usage.html#tls-warnings\n",
      "  warnings.warn(\n"
     ]
    },
    {
     "name": "stdout",
     "output_type": "stream",
     "text": [
      "400\n"
     ]
    },
    {
     "name": "stderr",
     "output_type": "stream",
     "text": [
      "/Users/christian/Projects/Notion-Bookshelf/.venv/lib/python3.10/site-packages/urllib3/connectionpool.py:1099: InsecureRequestWarning: Unverified HTTPS request is being made to host 'api.notion.com'. Adding certificate verification is strongly advised. See: https://urllib3.readthedocs.io/en/latest/advanced-usage.html#tls-warnings\n",
      "  warnings.warn(\n"
     ]
    },
    {
     "name": "stdout",
     "output_type": "stream",
     "text": [
      "400\n"
     ]
    },
    {
     "name": "stderr",
     "output_type": "stream",
     "text": [
      "/Users/christian/Projects/Notion-Bookshelf/.venv/lib/python3.10/site-packages/urllib3/connectionpool.py:1099: InsecureRequestWarning: Unverified HTTPS request is being made to host 'api.notion.com'. Adding certificate verification is strongly advised. See: https://urllib3.readthedocs.io/en/latest/advanced-usage.html#tls-warnings\n",
      "  warnings.warn(\n"
     ]
    },
    {
     "name": "stdout",
     "output_type": "stream",
     "text": [
      "400\n"
     ]
    },
    {
     "name": "stderr",
     "output_type": "stream",
     "text": [
      "/Users/christian/Projects/Notion-Bookshelf/.venv/lib/python3.10/site-packages/urllib3/connectionpool.py:1099: InsecureRequestWarning: Unverified HTTPS request is being made to host 'api.notion.com'. Adding certificate verification is strongly advised. See: https://urllib3.readthedocs.io/en/latest/advanced-usage.html#tls-warnings\n",
      "  warnings.warn(\n"
     ]
    },
    {
     "name": "stdout",
     "output_type": "stream",
     "text": [
      "400\n"
     ]
    },
    {
     "name": "stderr",
     "output_type": "stream",
     "text": [
      "/Users/christian/Projects/Notion-Bookshelf/.venv/lib/python3.10/site-packages/urllib3/connectionpool.py:1099: InsecureRequestWarning: Unverified HTTPS request is being made to host 'api.notion.com'. Adding certificate verification is strongly advised. See: https://urllib3.readthedocs.io/en/latest/advanced-usage.html#tls-warnings\n",
      "  warnings.warn(\n"
     ]
    },
    {
     "name": "stdout",
     "output_type": "stream",
     "text": [
      "400\n"
     ]
    },
    {
     "name": "stderr",
     "output_type": "stream",
     "text": [
      "/Users/christian/Projects/Notion-Bookshelf/.venv/lib/python3.10/site-packages/urllib3/connectionpool.py:1099: InsecureRequestWarning: Unverified HTTPS request is being made to host 'api.notion.com'. Adding certificate verification is strongly advised. See: https://urllib3.readthedocs.io/en/latest/advanced-usage.html#tls-warnings\n",
      "  warnings.warn(\n"
     ]
    },
    {
     "name": "stdout",
     "output_type": "stream",
     "text": [
      "400\n"
     ]
    },
    {
     "name": "stderr",
     "output_type": "stream",
     "text": [
      "/Users/christian/Projects/Notion-Bookshelf/.venv/lib/python3.10/site-packages/urllib3/connectionpool.py:1099: InsecureRequestWarning: Unverified HTTPS request is being made to host 'api.notion.com'. Adding certificate verification is strongly advised. See: https://urllib3.readthedocs.io/en/latest/advanced-usage.html#tls-warnings\n",
      "  warnings.warn(\n"
     ]
    },
    {
     "name": "stdout",
     "output_type": "stream",
     "text": [
      "400\n"
     ]
    },
    {
     "name": "stderr",
     "output_type": "stream",
     "text": [
      "/Users/christian/Projects/Notion-Bookshelf/.venv/lib/python3.10/site-packages/urllib3/connectionpool.py:1099: InsecureRequestWarning: Unverified HTTPS request is being made to host 'api.notion.com'. Adding certificate verification is strongly advised. See: https://urllib3.readthedocs.io/en/latest/advanced-usage.html#tls-warnings\n",
      "  warnings.warn(\n"
     ]
    },
    {
     "name": "stdout",
     "output_type": "stream",
     "text": [
      "400\n"
     ]
    },
    {
     "name": "stderr",
     "output_type": "stream",
     "text": [
      "/Users/christian/Projects/Notion-Bookshelf/.venv/lib/python3.10/site-packages/urllib3/connectionpool.py:1099: InsecureRequestWarning: Unverified HTTPS request is being made to host 'api.notion.com'. Adding certificate verification is strongly advised. See: https://urllib3.readthedocs.io/en/latest/advanced-usage.html#tls-warnings\n",
      "  warnings.warn(\n"
     ]
    },
    {
     "name": "stdout",
     "output_type": "stream",
     "text": [
      "400\n"
     ]
    },
    {
     "name": "stderr",
     "output_type": "stream",
     "text": [
      "/Users/christian/Projects/Notion-Bookshelf/.venv/lib/python3.10/site-packages/urllib3/connectionpool.py:1099: InsecureRequestWarning: Unverified HTTPS request is being made to host 'api.notion.com'. Adding certificate verification is strongly advised. See: https://urllib3.readthedocs.io/en/latest/advanced-usage.html#tls-warnings\n",
      "  warnings.warn(\n"
     ]
    },
    {
     "name": "stdout",
     "output_type": "stream",
     "text": [
      "400\n"
     ]
    },
    {
     "name": "stderr",
     "output_type": "stream",
     "text": [
      "/Users/christian/Projects/Notion-Bookshelf/.venv/lib/python3.10/site-packages/urllib3/connectionpool.py:1099: InsecureRequestWarning: Unverified HTTPS request is being made to host 'api.notion.com'. Adding certificate verification is strongly advised. See: https://urllib3.readthedocs.io/en/latest/advanced-usage.html#tls-warnings\n",
      "  warnings.warn(\n"
     ]
    },
    {
     "name": "stdout",
     "output_type": "stream",
     "text": [
      "400\n"
     ]
    },
    {
     "name": "stderr",
     "output_type": "stream",
     "text": [
      "/Users/christian/Projects/Notion-Bookshelf/.venv/lib/python3.10/site-packages/urllib3/connectionpool.py:1099: InsecureRequestWarning: Unverified HTTPS request is being made to host 'api.notion.com'. Adding certificate verification is strongly advised. See: https://urllib3.readthedocs.io/en/latest/advanced-usage.html#tls-warnings\n",
      "  warnings.warn(\n"
     ]
    },
    {
     "name": "stdout",
     "output_type": "stream",
     "text": [
      "400\n"
     ]
    },
    {
     "name": "stderr",
     "output_type": "stream",
     "text": [
      "/Users/christian/Projects/Notion-Bookshelf/.venv/lib/python3.10/site-packages/urllib3/connectionpool.py:1099: InsecureRequestWarning: Unverified HTTPS request is being made to host 'api.notion.com'. Adding certificate verification is strongly advised. See: https://urllib3.readthedocs.io/en/latest/advanced-usage.html#tls-warnings\n",
      "  warnings.warn(\n"
     ]
    },
    {
     "name": "stdout",
     "output_type": "stream",
     "text": [
      "400\n"
     ]
    },
    {
     "name": "stderr",
     "output_type": "stream",
     "text": [
      "/Users/christian/Projects/Notion-Bookshelf/.venv/lib/python3.10/site-packages/urllib3/connectionpool.py:1099: InsecureRequestWarning: Unverified HTTPS request is being made to host 'api.notion.com'. Adding certificate verification is strongly advised. See: https://urllib3.readthedocs.io/en/latest/advanced-usage.html#tls-warnings\n",
      "  warnings.warn(\n"
     ]
    },
    {
     "name": "stdout",
     "output_type": "stream",
     "text": [
      "400\n"
     ]
    },
    {
     "name": "stderr",
     "output_type": "stream",
     "text": [
      "/Users/christian/Projects/Notion-Bookshelf/.venv/lib/python3.10/site-packages/urllib3/connectionpool.py:1099: InsecureRequestWarning: Unverified HTTPS request is being made to host 'api.notion.com'. Adding certificate verification is strongly advised. See: https://urllib3.readthedocs.io/en/latest/advanced-usage.html#tls-warnings\n",
      "  warnings.warn(\n"
     ]
    },
    {
     "name": "stdout",
     "output_type": "stream",
     "text": [
      "400\n"
     ]
    },
    {
     "name": "stderr",
     "output_type": "stream",
     "text": [
      "/Users/christian/Projects/Notion-Bookshelf/.venv/lib/python3.10/site-packages/urllib3/connectionpool.py:1099: InsecureRequestWarning: Unverified HTTPS request is being made to host 'api.notion.com'. Adding certificate verification is strongly advised. See: https://urllib3.readthedocs.io/en/latest/advanced-usage.html#tls-warnings\n",
      "  warnings.warn(\n"
     ]
    },
    {
     "name": "stdout",
     "output_type": "stream",
     "text": [
      "400\n"
     ]
    },
    {
     "name": "stderr",
     "output_type": "stream",
     "text": [
      "/Users/christian/Projects/Notion-Bookshelf/.venv/lib/python3.10/site-packages/urllib3/connectionpool.py:1099: InsecureRequestWarning: Unverified HTTPS request is being made to host 'api.notion.com'. Adding certificate verification is strongly advised. See: https://urllib3.readthedocs.io/en/latest/advanced-usage.html#tls-warnings\n",
      "  warnings.warn(\n"
     ]
    },
    {
     "name": "stdout",
     "output_type": "stream",
     "text": [
      "400\n"
     ]
    },
    {
     "name": "stderr",
     "output_type": "stream",
     "text": [
      "/Users/christian/Projects/Notion-Bookshelf/.venv/lib/python3.10/site-packages/urllib3/connectionpool.py:1099: InsecureRequestWarning: Unverified HTTPS request is being made to host 'api.notion.com'. Adding certificate verification is strongly advised. See: https://urllib3.readthedocs.io/en/latest/advanced-usage.html#tls-warnings\n",
      "  warnings.warn(\n"
     ]
    },
    {
     "name": "stdout",
     "output_type": "stream",
     "text": [
      "400\n"
     ]
    },
    {
     "name": "stderr",
     "output_type": "stream",
     "text": [
      "/Users/christian/Projects/Notion-Bookshelf/.venv/lib/python3.10/site-packages/urllib3/connectionpool.py:1099: InsecureRequestWarning: Unverified HTTPS request is being made to host 'api.notion.com'. Adding certificate verification is strongly advised. See: https://urllib3.readthedocs.io/en/latest/advanced-usage.html#tls-warnings\n",
      "  warnings.warn(\n"
     ]
    },
    {
     "name": "stdout",
     "output_type": "stream",
     "text": [
      "400\n"
     ]
    },
    {
     "name": "stderr",
     "output_type": "stream",
     "text": [
      "/Users/christian/Projects/Notion-Bookshelf/.venv/lib/python3.10/site-packages/urllib3/connectionpool.py:1099: InsecureRequestWarning: Unverified HTTPS request is being made to host 'api.notion.com'. Adding certificate verification is strongly advised. See: https://urllib3.readthedocs.io/en/latest/advanced-usage.html#tls-warnings\n",
      "  warnings.warn(\n"
     ]
    },
    {
     "name": "stdout",
     "output_type": "stream",
     "text": [
      "400\n"
     ]
    },
    {
     "name": "stderr",
     "output_type": "stream",
     "text": [
      "/Users/christian/Projects/Notion-Bookshelf/.venv/lib/python3.10/site-packages/urllib3/connectionpool.py:1099: InsecureRequestWarning: Unverified HTTPS request is being made to host 'api.notion.com'. Adding certificate verification is strongly advised. See: https://urllib3.readthedocs.io/en/latest/advanced-usage.html#tls-warnings\n",
      "  warnings.warn(\n"
     ]
    },
    {
     "name": "stdout",
     "output_type": "stream",
     "text": [
      "400\n"
     ]
    },
    {
     "name": "stderr",
     "output_type": "stream",
     "text": [
      "/Users/christian/Projects/Notion-Bookshelf/.venv/lib/python3.10/site-packages/urllib3/connectionpool.py:1099: InsecureRequestWarning: Unverified HTTPS request is being made to host 'api.notion.com'. Adding certificate verification is strongly advised. See: https://urllib3.readthedocs.io/en/latest/advanced-usage.html#tls-warnings\n",
      "  warnings.warn(\n"
     ]
    },
    {
     "name": "stdout",
     "output_type": "stream",
     "text": [
      "400\n"
     ]
    },
    {
     "name": "stderr",
     "output_type": "stream",
     "text": [
      "/Users/christian/Projects/Notion-Bookshelf/.venv/lib/python3.10/site-packages/urllib3/connectionpool.py:1099: InsecureRequestWarning: Unverified HTTPS request is being made to host 'api.notion.com'. Adding certificate verification is strongly advised. See: https://urllib3.readthedocs.io/en/latest/advanced-usage.html#tls-warnings\n",
      "  warnings.warn(\n"
     ]
    },
    {
     "name": "stdout",
     "output_type": "stream",
     "text": [
      "400\n"
     ]
    },
    {
     "name": "stderr",
     "output_type": "stream",
     "text": [
      "/Users/christian/Projects/Notion-Bookshelf/.venv/lib/python3.10/site-packages/urllib3/connectionpool.py:1099: InsecureRequestWarning: Unverified HTTPS request is being made to host 'api.notion.com'. Adding certificate verification is strongly advised. See: https://urllib3.readthedocs.io/en/latest/advanced-usage.html#tls-warnings\n",
      "  warnings.warn(\n"
     ]
    },
    {
     "name": "stdout",
     "output_type": "stream",
     "text": [
      "400\n"
     ]
    },
    {
     "name": "stderr",
     "output_type": "stream",
     "text": [
      "/Users/christian/Projects/Notion-Bookshelf/.venv/lib/python3.10/site-packages/urllib3/connectionpool.py:1099: InsecureRequestWarning: Unverified HTTPS request is being made to host 'api.notion.com'. Adding certificate verification is strongly advised. See: https://urllib3.readthedocs.io/en/latest/advanced-usage.html#tls-warnings\n",
      "  warnings.warn(\n"
     ]
    },
    {
     "name": "stdout",
     "output_type": "stream",
     "text": [
      "400\n"
     ]
    },
    {
     "name": "stderr",
     "output_type": "stream",
     "text": [
      "/Users/christian/Projects/Notion-Bookshelf/.venv/lib/python3.10/site-packages/urllib3/connectionpool.py:1099: InsecureRequestWarning: Unverified HTTPS request is being made to host 'api.notion.com'. Adding certificate verification is strongly advised. See: https://urllib3.readthedocs.io/en/latest/advanced-usage.html#tls-warnings\n",
      "  warnings.warn(\n"
     ]
    },
    {
     "name": "stdout",
     "output_type": "stream",
     "text": [
      "400\n"
     ]
    },
    {
     "name": "stderr",
     "output_type": "stream",
     "text": [
      "/Users/christian/Projects/Notion-Bookshelf/.venv/lib/python3.10/site-packages/urllib3/connectionpool.py:1099: InsecureRequestWarning: Unverified HTTPS request is being made to host 'api.notion.com'. Adding certificate verification is strongly advised. See: https://urllib3.readthedocs.io/en/latest/advanced-usage.html#tls-warnings\n",
      "  warnings.warn(\n"
     ]
    },
    {
     "name": "stdout",
     "output_type": "stream",
     "text": [
      "400\n"
     ]
    },
    {
     "name": "stderr",
     "output_type": "stream",
     "text": [
      "/Users/christian/Projects/Notion-Bookshelf/.venv/lib/python3.10/site-packages/urllib3/connectionpool.py:1099: InsecureRequestWarning: Unverified HTTPS request is being made to host 'api.notion.com'. Adding certificate verification is strongly advised. See: https://urllib3.readthedocs.io/en/latest/advanced-usage.html#tls-warnings\n",
      "  warnings.warn(\n"
     ]
    },
    {
     "name": "stdout",
     "output_type": "stream",
     "text": [
      "400\n"
     ]
    },
    {
     "name": "stderr",
     "output_type": "stream",
     "text": [
      "/Users/christian/Projects/Notion-Bookshelf/.venv/lib/python3.10/site-packages/urllib3/connectionpool.py:1099: InsecureRequestWarning: Unverified HTTPS request is being made to host 'api.notion.com'. Adding certificate verification is strongly advised. See: https://urllib3.readthedocs.io/en/latest/advanced-usage.html#tls-warnings\n",
      "  warnings.warn(\n"
     ]
    },
    {
     "name": "stdout",
     "output_type": "stream",
     "text": [
      "400\n"
     ]
    },
    {
     "name": "stderr",
     "output_type": "stream",
     "text": [
      "/Users/christian/Projects/Notion-Bookshelf/.venv/lib/python3.10/site-packages/urllib3/connectionpool.py:1099: InsecureRequestWarning: Unverified HTTPS request is being made to host 'api.notion.com'. Adding certificate verification is strongly advised. See: https://urllib3.readthedocs.io/en/latest/advanced-usage.html#tls-warnings\n",
      "  warnings.warn(\n"
     ]
    },
    {
     "name": "stdout",
     "output_type": "stream",
     "text": [
      "400\n"
     ]
    },
    {
     "name": "stderr",
     "output_type": "stream",
     "text": [
      "/Users/christian/Projects/Notion-Bookshelf/.venv/lib/python3.10/site-packages/urllib3/connectionpool.py:1099: InsecureRequestWarning: Unverified HTTPS request is being made to host 'api.notion.com'. Adding certificate verification is strongly advised. See: https://urllib3.readthedocs.io/en/latest/advanced-usage.html#tls-warnings\n",
      "  warnings.warn(\n"
     ]
    },
    {
     "name": "stdout",
     "output_type": "stream",
     "text": [
      "400\n"
     ]
    },
    {
     "name": "stderr",
     "output_type": "stream",
     "text": [
      "/Users/christian/Projects/Notion-Bookshelf/.venv/lib/python3.10/site-packages/urllib3/connectionpool.py:1099: InsecureRequestWarning: Unverified HTTPS request is being made to host 'api.notion.com'. Adding certificate verification is strongly advised. See: https://urllib3.readthedocs.io/en/latest/advanced-usage.html#tls-warnings\n",
      "  warnings.warn(\n"
     ]
    },
    {
     "name": "stdout",
     "output_type": "stream",
     "text": [
      "400\n"
     ]
    },
    {
     "name": "stderr",
     "output_type": "stream",
     "text": [
      "/Users/christian/Projects/Notion-Bookshelf/.venv/lib/python3.10/site-packages/urllib3/connectionpool.py:1099: InsecureRequestWarning: Unverified HTTPS request is being made to host 'api.notion.com'. Adding certificate verification is strongly advised. See: https://urllib3.readthedocs.io/en/latest/advanced-usage.html#tls-warnings\n",
      "  warnings.warn(\n"
     ]
    },
    {
     "name": "stdout",
     "output_type": "stream",
     "text": [
      "400\n"
     ]
    },
    {
     "name": "stderr",
     "output_type": "stream",
     "text": [
      "/Users/christian/Projects/Notion-Bookshelf/.venv/lib/python3.10/site-packages/urllib3/connectionpool.py:1099: InsecureRequestWarning: Unverified HTTPS request is being made to host 'api.notion.com'. Adding certificate verification is strongly advised. See: https://urllib3.readthedocs.io/en/latest/advanced-usage.html#tls-warnings\n",
      "  warnings.warn(\n"
     ]
    },
    {
     "name": "stdout",
     "output_type": "stream",
     "text": [
      "400\n"
     ]
    },
    {
     "name": "stderr",
     "output_type": "stream",
     "text": [
      "/Users/christian/Projects/Notion-Bookshelf/.venv/lib/python3.10/site-packages/urllib3/connectionpool.py:1099: InsecureRequestWarning: Unverified HTTPS request is being made to host 'api.notion.com'. Adding certificate verification is strongly advised. See: https://urllib3.readthedocs.io/en/latest/advanced-usage.html#tls-warnings\n",
      "  warnings.warn(\n"
     ]
    },
    {
     "name": "stdout",
     "output_type": "stream",
     "text": [
      "400\n"
     ]
    },
    {
     "name": "stderr",
     "output_type": "stream",
     "text": [
      "/Users/christian/Projects/Notion-Bookshelf/.venv/lib/python3.10/site-packages/urllib3/connectionpool.py:1099: InsecureRequestWarning: Unverified HTTPS request is being made to host 'api.notion.com'. Adding certificate verification is strongly advised. See: https://urllib3.readthedocs.io/en/latest/advanced-usage.html#tls-warnings\n",
      "  warnings.warn(\n"
     ]
    },
    {
     "name": "stdout",
     "output_type": "stream",
     "text": [
      "400\n"
     ]
    },
    {
     "name": "stderr",
     "output_type": "stream",
     "text": [
      "/Users/christian/Projects/Notion-Bookshelf/.venv/lib/python3.10/site-packages/urllib3/connectionpool.py:1099: InsecureRequestWarning: Unverified HTTPS request is being made to host 'api.notion.com'. Adding certificate verification is strongly advised. See: https://urllib3.readthedocs.io/en/latest/advanced-usage.html#tls-warnings\n",
      "  warnings.warn(\n"
     ]
    },
    {
     "name": "stdout",
     "output_type": "stream",
     "text": [
      "400\n"
     ]
    },
    {
     "name": "stderr",
     "output_type": "stream",
     "text": [
      "/Users/christian/Projects/Notion-Bookshelf/.venv/lib/python3.10/site-packages/urllib3/connectionpool.py:1099: InsecureRequestWarning: Unverified HTTPS request is being made to host 'api.notion.com'. Adding certificate verification is strongly advised. See: https://urllib3.readthedocs.io/en/latest/advanced-usage.html#tls-warnings\n",
      "  warnings.warn(\n"
     ]
    },
    {
     "name": "stdout",
     "output_type": "stream",
     "text": [
      "400\n"
     ]
    },
    {
     "name": "stderr",
     "output_type": "stream",
     "text": [
      "/Users/christian/Projects/Notion-Bookshelf/.venv/lib/python3.10/site-packages/urllib3/connectionpool.py:1099: InsecureRequestWarning: Unverified HTTPS request is being made to host 'api.notion.com'. Adding certificate verification is strongly advised. See: https://urllib3.readthedocs.io/en/latest/advanced-usage.html#tls-warnings\n",
      "  warnings.warn(\n"
     ]
    },
    {
     "name": "stdout",
     "output_type": "stream",
     "text": [
      "400\n"
     ]
    },
    {
     "name": "stderr",
     "output_type": "stream",
     "text": [
      "/Users/christian/Projects/Notion-Bookshelf/.venv/lib/python3.10/site-packages/urllib3/connectionpool.py:1099: InsecureRequestWarning: Unverified HTTPS request is being made to host 'api.notion.com'. Adding certificate verification is strongly advised. See: https://urllib3.readthedocs.io/en/latest/advanced-usage.html#tls-warnings\n",
      "  warnings.warn(\n"
     ]
    },
    {
     "name": "stdout",
     "output_type": "stream",
     "text": [
      "400\n"
     ]
    },
    {
     "name": "stderr",
     "output_type": "stream",
     "text": [
      "/Users/christian/Projects/Notion-Bookshelf/.venv/lib/python3.10/site-packages/urllib3/connectionpool.py:1099: InsecureRequestWarning: Unverified HTTPS request is being made to host 'api.notion.com'. Adding certificate verification is strongly advised. See: https://urllib3.readthedocs.io/en/latest/advanced-usage.html#tls-warnings\n",
      "  warnings.warn(\n"
     ]
    },
    {
     "name": "stdout",
     "output_type": "stream",
     "text": [
      "400\n"
     ]
    },
    {
     "name": "stderr",
     "output_type": "stream",
     "text": [
      "/Users/christian/Projects/Notion-Bookshelf/.venv/lib/python3.10/site-packages/urllib3/connectionpool.py:1099: InsecureRequestWarning: Unverified HTTPS request is being made to host 'api.notion.com'. Adding certificate verification is strongly advised. See: https://urllib3.readthedocs.io/en/latest/advanced-usage.html#tls-warnings\n",
      "  warnings.warn(\n"
     ]
    },
    {
     "name": "stdout",
     "output_type": "stream",
     "text": [
      "400\n"
     ]
    },
    {
     "name": "stderr",
     "output_type": "stream",
     "text": [
      "/Users/christian/Projects/Notion-Bookshelf/.venv/lib/python3.10/site-packages/urllib3/connectionpool.py:1099: InsecureRequestWarning: Unverified HTTPS request is being made to host 'api.notion.com'. Adding certificate verification is strongly advised. See: https://urllib3.readthedocs.io/en/latest/advanced-usage.html#tls-warnings\n",
      "  warnings.warn(\n"
     ]
    },
    {
     "name": "stdout",
     "output_type": "stream",
     "text": [
      "400\n"
     ]
    },
    {
     "name": "stderr",
     "output_type": "stream",
     "text": [
      "/Users/christian/Projects/Notion-Bookshelf/.venv/lib/python3.10/site-packages/urllib3/connectionpool.py:1099: InsecureRequestWarning: Unverified HTTPS request is being made to host 'api.notion.com'. Adding certificate verification is strongly advised. See: https://urllib3.readthedocs.io/en/latest/advanced-usage.html#tls-warnings\n",
      "  warnings.warn(\n"
     ]
    },
    {
     "name": "stdout",
     "output_type": "stream",
     "text": [
      "400\n"
     ]
    },
    {
     "name": "stderr",
     "output_type": "stream",
     "text": [
      "/Users/christian/Projects/Notion-Bookshelf/.venv/lib/python3.10/site-packages/urllib3/connectionpool.py:1099: InsecureRequestWarning: Unverified HTTPS request is being made to host 'api.notion.com'. Adding certificate verification is strongly advised. See: https://urllib3.readthedocs.io/en/latest/advanced-usage.html#tls-warnings\n",
      "  warnings.warn(\n"
     ]
    },
    {
     "name": "stdout",
     "output_type": "stream",
     "text": [
      "400\n"
     ]
    },
    {
     "name": "stderr",
     "output_type": "stream",
     "text": [
      "/Users/christian/Projects/Notion-Bookshelf/.venv/lib/python3.10/site-packages/urllib3/connectionpool.py:1099: InsecureRequestWarning: Unverified HTTPS request is being made to host 'api.notion.com'. Adding certificate verification is strongly advised. See: https://urllib3.readthedocs.io/en/latest/advanced-usage.html#tls-warnings\n",
      "  warnings.warn(\n"
     ]
    },
    {
     "name": "stdout",
     "output_type": "stream",
     "text": [
      "400\n"
     ]
    }
   ],
   "source": [
    "# Update Publishers\n",
    "property_name = 'Publisher'\n",
    "property_type = \"select\"\n",
    "data_column = 'volumeInfo.publisher'\n",
    "\n",
    "for i in look_up['page_id'].index:\n",
    "   # if math.isnan(look_up['Link'][i]):\n",
    "    update_properties(property_name, property_type, data_column)"
   ]
  },
  {
   "cell_type": "markdown",
   "id": "1f881c7c",
   "metadata": {},
   "source": [
    "### Update number of pages"
   ]
  },
  {
   "cell_type": "code",
   "execution_count": 102,
   "id": "3561b6e2",
   "metadata": {},
   "outputs": [
    {
     "name": "stderr",
     "output_type": "stream",
     "text": [
      "/Users/christian/Projects/Notion-Bookshelf/.venv/lib/python3.10/site-packages/urllib3/connectionpool.py:1099: InsecureRequestWarning: Unverified HTTPS request is being made to host 'api.notion.com'. Adding certificate verification is strongly advised. See: https://urllib3.readthedocs.io/en/latest/advanced-usage.html#tls-warnings\n",
      "  warnings.warn(\n"
     ]
    },
    {
     "name": "stdout",
     "output_type": "stream",
     "text": [
      "400\n"
     ]
    },
    {
     "name": "stderr",
     "output_type": "stream",
     "text": [
      "/Users/christian/Projects/Notion-Bookshelf/.venv/lib/python3.10/site-packages/urllib3/connectionpool.py:1099: InsecureRequestWarning: Unverified HTTPS request is being made to host 'api.notion.com'. Adding certificate verification is strongly advised. See: https://urllib3.readthedocs.io/en/latest/advanced-usage.html#tls-warnings\n",
      "  warnings.warn(\n"
     ]
    },
    {
     "name": "stdout",
     "output_type": "stream",
     "text": [
      "400\n"
     ]
    },
    {
     "name": "stderr",
     "output_type": "stream",
     "text": [
      "/Users/christian/Projects/Notion-Bookshelf/.venv/lib/python3.10/site-packages/urllib3/connectionpool.py:1099: InsecureRequestWarning: Unverified HTTPS request is being made to host 'api.notion.com'. Adding certificate verification is strongly advised. See: https://urllib3.readthedocs.io/en/latest/advanced-usage.html#tls-warnings\n",
      "  warnings.warn(\n"
     ]
    },
    {
     "name": "stdout",
     "output_type": "stream",
     "text": [
      "400\n"
     ]
    },
    {
     "name": "stderr",
     "output_type": "stream",
     "text": [
      "/Users/christian/Projects/Notion-Bookshelf/.venv/lib/python3.10/site-packages/urllib3/connectionpool.py:1099: InsecureRequestWarning: Unverified HTTPS request is being made to host 'api.notion.com'. Adding certificate verification is strongly advised. See: https://urllib3.readthedocs.io/en/latest/advanced-usage.html#tls-warnings\n",
      "  warnings.warn(\n"
     ]
    },
    {
     "name": "stdout",
     "output_type": "stream",
     "text": [
      "400\n"
     ]
    },
    {
     "name": "stderr",
     "output_type": "stream",
     "text": [
      "/Users/christian/Projects/Notion-Bookshelf/.venv/lib/python3.10/site-packages/urllib3/connectionpool.py:1099: InsecureRequestWarning: Unverified HTTPS request is being made to host 'api.notion.com'. Adding certificate verification is strongly advised. See: https://urllib3.readthedocs.io/en/latest/advanced-usage.html#tls-warnings\n",
      "  warnings.warn(\n"
     ]
    },
    {
     "name": "stdout",
     "output_type": "stream",
     "text": [
      "400\n"
     ]
    },
    {
     "name": "stderr",
     "output_type": "stream",
     "text": [
      "/Users/christian/Projects/Notion-Bookshelf/.venv/lib/python3.10/site-packages/urllib3/connectionpool.py:1099: InsecureRequestWarning: Unverified HTTPS request is being made to host 'api.notion.com'. Adding certificate verification is strongly advised. See: https://urllib3.readthedocs.io/en/latest/advanced-usage.html#tls-warnings\n",
      "  warnings.warn(\n"
     ]
    },
    {
     "name": "stdout",
     "output_type": "stream",
     "text": [
      "400\n"
     ]
    },
    {
     "name": "stderr",
     "output_type": "stream",
     "text": [
      "/Users/christian/Projects/Notion-Bookshelf/.venv/lib/python3.10/site-packages/urllib3/connectionpool.py:1099: InsecureRequestWarning: Unverified HTTPS request is being made to host 'api.notion.com'. Adding certificate verification is strongly advised. See: https://urllib3.readthedocs.io/en/latest/advanced-usage.html#tls-warnings\n",
      "  warnings.warn(\n"
     ]
    },
    {
     "name": "stdout",
     "output_type": "stream",
     "text": [
      "400\n"
     ]
    },
    {
     "name": "stderr",
     "output_type": "stream",
     "text": [
      "/Users/christian/Projects/Notion-Bookshelf/.venv/lib/python3.10/site-packages/urllib3/connectionpool.py:1099: InsecureRequestWarning: Unverified HTTPS request is being made to host 'api.notion.com'. Adding certificate verification is strongly advised. See: https://urllib3.readthedocs.io/en/latest/advanced-usage.html#tls-warnings\n",
      "  warnings.warn(\n"
     ]
    },
    {
     "name": "stdout",
     "output_type": "stream",
     "text": [
      "400\n"
     ]
    },
    {
     "name": "stderr",
     "output_type": "stream",
     "text": [
      "/Users/christian/Projects/Notion-Bookshelf/.venv/lib/python3.10/site-packages/urllib3/connectionpool.py:1099: InsecureRequestWarning: Unverified HTTPS request is being made to host 'api.notion.com'. Adding certificate verification is strongly advised. See: https://urllib3.readthedocs.io/en/latest/advanced-usage.html#tls-warnings\n",
      "  warnings.warn(\n"
     ]
    },
    {
     "name": "stdout",
     "output_type": "stream",
     "text": [
      "400\n"
     ]
    },
    {
     "name": "stderr",
     "output_type": "stream",
     "text": [
      "/Users/christian/Projects/Notion-Bookshelf/.venv/lib/python3.10/site-packages/urllib3/connectionpool.py:1099: InsecureRequestWarning: Unverified HTTPS request is being made to host 'api.notion.com'. Adding certificate verification is strongly advised. See: https://urllib3.readthedocs.io/en/latest/advanced-usage.html#tls-warnings\n",
      "  warnings.warn(\n"
     ]
    },
    {
     "name": "stdout",
     "output_type": "stream",
     "text": [
      "400\n"
     ]
    },
    {
     "name": "stderr",
     "output_type": "stream",
     "text": [
      "/Users/christian/Projects/Notion-Bookshelf/.venv/lib/python3.10/site-packages/urllib3/connectionpool.py:1099: InsecureRequestWarning: Unverified HTTPS request is being made to host 'api.notion.com'. Adding certificate verification is strongly advised. See: https://urllib3.readthedocs.io/en/latest/advanced-usage.html#tls-warnings\n",
      "  warnings.warn(\n"
     ]
    },
    {
     "name": "stdout",
     "output_type": "stream",
     "text": [
      "400\n"
     ]
    },
    {
     "name": "stderr",
     "output_type": "stream",
     "text": [
      "/Users/christian/Projects/Notion-Bookshelf/.venv/lib/python3.10/site-packages/urllib3/connectionpool.py:1099: InsecureRequestWarning: Unverified HTTPS request is being made to host 'api.notion.com'. Adding certificate verification is strongly advised. See: https://urllib3.readthedocs.io/en/latest/advanced-usage.html#tls-warnings\n",
      "  warnings.warn(\n"
     ]
    },
    {
     "name": "stdout",
     "output_type": "stream",
     "text": [
      "400\n"
     ]
    },
    {
     "name": "stderr",
     "output_type": "stream",
     "text": [
      "/Users/christian/Projects/Notion-Bookshelf/.venv/lib/python3.10/site-packages/urllib3/connectionpool.py:1099: InsecureRequestWarning: Unverified HTTPS request is being made to host 'api.notion.com'. Adding certificate verification is strongly advised. See: https://urllib3.readthedocs.io/en/latest/advanced-usage.html#tls-warnings\n",
      "  warnings.warn(\n"
     ]
    },
    {
     "name": "stdout",
     "output_type": "stream",
     "text": [
      "400\n"
     ]
    },
    {
     "name": "stderr",
     "output_type": "stream",
     "text": [
      "/Users/christian/Projects/Notion-Bookshelf/.venv/lib/python3.10/site-packages/urllib3/connectionpool.py:1099: InsecureRequestWarning: Unverified HTTPS request is being made to host 'api.notion.com'. Adding certificate verification is strongly advised. See: https://urllib3.readthedocs.io/en/latest/advanced-usage.html#tls-warnings\n",
      "  warnings.warn(\n"
     ]
    },
    {
     "name": "stdout",
     "output_type": "stream",
     "text": [
      "400\n"
     ]
    },
    {
     "name": "stderr",
     "output_type": "stream",
     "text": [
      "/Users/christian/Projects/Notion-Bookshelf/.venv/lib/python3.10/site-packages/urllib3/connectionpool.py:1099: InsecureRequestWarning: Unverified HTTPS request is being made to host 'api.notion.com'. Adding certificate verification is strongly advised. See: https://urllib3.readthedocs.io/en/latest/advanced-usage.html#tls-warnings\n",
      "  warnings.warn(\n"
     ]
    },
    {
     "name": "stdout",
     "output_type": "stream",
     "text": [
      "400\n"
     ]
    },
    {
     "name": "stderr",
     "output_type": "stream",
     "text": [
      "/Users/christian/Projects/Notion-Bookshelf/.venv/lib/python3.10/site-packages/urllib3/connectionpool.py:1099: InsecureRequestWarning: Unverified HTTPS request is being made to host 'api.notion.com'. Adding certificate verification is strongly advised. See: https://urllib3.readthedocs.io/en/latest/advanced-usage.html#tls-warnings\n",
      "  warnings.warn(\n"
     ]
    },
    {
     "name": "stdout",
     "output_type": "stream",
     "text": [
      "400\n"
     ]
    },
    {
     "name": "stderr",
     "output_type": "stream",
     "text": [
      "/Users/christian/Projects/Notion-Bookshelf/.venv/lib/python3.10/site-packages/urllib3/connectionpool.py:1099: InsecureRequestWarning: Unverified HTTPS request is being made to host 'api.notion.com'. Adding certificate verification is strongly advised. See: https://urllib3.readthedocs.io/en/latest/advanced-usage.html#tls-warnings\n",
      "  warnings.warn(\n"
     ]
    },
    {
     "name": "stdout",
     "output_type": "stream",
     "text": [
      "400\n"
     ]
    },
    {
     "name": "stderr",
     "output_type": "stream",
     "text": [
      "/Users/christian/Projects/Notion-Bookshelf/.venv/lib/python3.10/site-packages/urllib3/connectionpool.py:1099: InsecureRequestWarning: Unverified HTTPS request is being made to host 'api.notion.com'. Adding certificate verification is strongly advised. See: https://urllib3.readthedocs.io/en/latest/advanced-usage.html#tls-warnings\n",
      "  warnings.warn(\n"
     ]
    },
    {
     "name": "stdout",
     "output_type": "stream",
     "text": [
      "400\n"
     ]
    },
    {
     "name": "stderr",
     "output_type": "stream",
     "text": [
      "/Users/christian/Projects/Notion-Bookshelf/.venv/lib/python3.10/site-packages/urllib3/connectionpool.py:1099: InsecureRequestWarning: Unverified HTTPS request is being made to host 'api.notion.com'. Adding certificate verification is strongly advised. See: https://urllib3.readthedocs.io/en/latest/advanced-usage.html#tls-warnings\n",
      "  warnings.warn(\n"
     ]
    },
    {
     "name": "stdout",
     "output_type": "stream",
     "text": [
      "400\n"
     ]
    },
    {
     "name": "stderr",
     "output_type": "stream",
     "text": [
      "/Users/christian/Projects/Notion-Bookshelf/.venv/lib/python3.10/site-packages/urllib3/connectionpool.py:1099: InsecureRequestWarning: Unverified HTTPS request is being made to host 'api.notion.com'. Adding certificate verification is strongly advised. See: https://urllib3.readthedocs.io/en/latest/advanced-usage.html#tls-warnings\n",
      "  warnings.warn(\n"
     ]
    },
    {
     "name": "stdout",
     "output_type": "stream",
     "text": [
      "400\n"
     ]
    },
    {
     "name": "stderr",
     "output_type": "stream",
     "text": [
      "/Users/christian/Projects/Notion-Bookshelf/.venv/lib/python3.10/site-packages/urllib3/connectionpool.py:1099: InsecureRequestWarning: Unverified HTTPS request is being made to host 'api.notion.com'. Adding certificate verification is strongly advised. See: https://urllib3.readthedocs.io/en/latest/advanced-usage.html#tls-warnings\n",
      "  warnings.warn(\n"
     ]
    },
    {
     "name": "stdout",
     "output_type": "stream",
     "text": [
      "400\n"
     ]
    },
    {
     "name": "stderr",
     "output_type": "stream",
     "text": [
      "/Users/christian/Projects/Notion-Bookshelf/.venv/lib/python3.10/site-packages/urllib3/connectionpool.py:1099: InsecureRequestWarning: Unverified HTTPS request is being made to host 'api.notion.com'. Adding certificate verification is strongly advised. See: https://urllib3.readthedocs.io/en/latest/advanced-usage.html#tls-warnings\n",
      "  warnings.warn(\n"
     ]
    },
    {
     "name": "stdout",
     "output_type": "stream",
     "text": [
      "400\n"
     ]
    },
    {
     "name": "stderr",
     "output_type": "stream",
     "text": [
      "/Users/christian/Projects/Notion-Bookshelf/.venv/lib/python3.10/site-packages/urllib3/connectionpool.py:1099: InsecureRequestWarning: Unverified HTTPS request is being made to host 'api.notion.com'. Adding certificate verification is strongly advised. See: https://urllib3.readthedocs.io/en/latest/advanced-usage.html#tls-warnings\n",
      "  warnings.warn(\n"
     ]
    },
    {
     "name": "stdout",
     "output_type": "stream",
     "text": [
      "400\n"
     ]
    },
    {
     "name": "stderr",
     "output_type": "stream",
     "text": [
      "/Users/christian/Projects/Notion-Bookshelf/.venv/lib/python3.10/site-packages/urllib3/connectionpool.py:1099: InsecureRequestWarning: Unverified HTTPS request is being made to host 'api.notion.com'. Adding certificate verification is strongly advised. See: https://urllib3.readthedocs.io/en/latest/advanced-usage.html#tls-warnings\n",
      "  warnings.warn(\n"
     ]
    },
    {
     "name": "stdout",
     "output_type": "stream",
     "text": [
      "400\n"
     ]
    },
    {
     "name": "stderr",
     "output_type": "stream",
     "text": [
      "/Users/christian/Projects/Notion-Bookshelf/.venv/lib/python3.10/site-packages/urllib3/connectionpool.py:1099: InsecureRequestWarning: Unverified HTTPS request is being made to host 'api.notion.com'. Adding certificate verification is strongly advised. See: https://urllib3.readthedocs.io/en/latest/advanced-usage.html#tls-warnings\n",
      "  warnings.warn(\n"
     ]
    },
    {
     "name": "stdout",
     "output_type": "stream",
     "text": [
      "400\n"
     ]
    },
    {
     "name": "stderr",
     "output_type": "stream",
     "text": [
      "/Users/christian/Projects/Notion-Bookshelf/.venv/lib/python3.10/site-packages/urllib3/connectionpool.py:1099: InsecureRequestWarning: Unverified HTTPS request is being made to host 'api.notion.com'. Adding certificate verification is strongly advised. See: https://urllib3.readthedocs.io/en/latest/advanced-usage.html#tls-warnings\n",
      "  warnings.warn(\n"
     ]
    },
    {
     "name": "stdout",
     "output_type": "stream",
     "text": [
      "400\n"
     ]
    },
    {
     "name": "stderr",
     "output_type": "stream",
     "text": [
      "/Users/christian/Projects/Notion-Bookshelf/.venv/lib/python3.10/site-packages/urllib3/connectionpool.py:1099: InsecureRequestWarning: Unverified HTTPS request is being made to host 'api.notion.com'. Adding certificate verification is strongly advised. See: https://urllib3.readthedocs.io/en/latest/advanced-usage.html#tls-warnings\n",
      "  warnings.warn(\n"
     ]
    },
    {
     "name": "stdout",
     "output_type": "stream",
     "text": [
      "400\n"
     ]
    },
    {
     "name": "stderr",
     "output_type": "stream",
     "text": [
      "/Users/christian/Projects/Notion-Bookshelf/.venv/lib/python3.10/site-packages/urllib3/connectionpool.py:1099: InsecureRequestWarning: Unverified HTTPS request is being made to host 'api.notion.com'. Adding certificate verification is strongly advised. See: https://urllib3.readthedocs.io/en/latest/advanced-usage.html#tls-warnings\n",
      "  warnings.warn(\n"
     ]
    },
    {
     "name": "stdout",
     "output_type": "stream",
     "text": [
      "400\n"
     ]
    },
    {
     "name": "stderr",
     "output_type": "stream",
     "text": [
      "/Users/christian/Projects/Notion-Bookshelf/.venv/lib/python3.10/site-packages/urllib3/connectionpool.py:1099: InsecureRequestWarning: Unverified HTTPS request is being made to host 'api.notion.com'. Adding certificate verification is strongly advised. See: https://urllib3.readthedocs.io/en/latest/advanced-usage.html#tls-warnings\n",
      "  warnings.warn(\n"
     ]
    },
    {
     "name": "stdout",
     "output_type": "stream",
     "text": [
      "400\n"
     ]
    },
    {
     "name": "stderr",
     "output_type": "stream",
     "text": [
      "/Users/christian/Projects/Notion-Bookshelf/.venv/lib/python3.10/site-packages/urllib3/connectionpool.py:1099: InsecureRequestWarning: Unverified HTTPS request is being made to host 'api.notion.com'. Adding certificate verification is strongly advised. See: https://urllib3.readthedocs.io/en/latest/advanced-usage.html#tls-warnings\n",
      "  warnings.warn(\n"
     ]
    },
    {
     "name": "stdout",
     "output_type": "stream",
     "text": [
      "400\n"
     ]
    },
    {
     "name": "stderr",
     "output_type": "stream",
     "text": [
      "/Users/christian/Projects/Notion-Bookshelf/.venv/lib/python3.10/site-packages/urllib3/connectionpool.py:1099: InsecureRequestWarning: Unverified HTTPS request is being made to host 'api.notion.com'. Adding certificate verification is strongly advised. See: https://urllib3.readthedocs.io/en/latest/advanced-usage.html#tls-warnings\n",
      "  warnings.warn(\n"
     ]
    },
    {
     "name": "stdout",
     "output_type": "stream",
     "text": [
      "400\n"
     ]
    },
    {
     "name": "stderr",
     "output_type": "stream",
     "text": [
      "/Users/christian/Projects/Notion-Bookshelf/.venv/lib/python3.10/site-packages/urllib3/connectionpool.py:1099: InsecureRequestWarning: Unverified HTTPS request is being made to host 'api.notion.com'. Adding certificate verification is strongly advised. See: https://urllib3.readthedocs.io/en/latest/advanced-usage.html#tls-warnings\n",
      "  warnings.warn(\n"
     ]
    },
    {
     "name": "stdout",
     "output_type": "stream",
     "text": [
      "400\n"
     ]
    },
    {
     "name": "stderr",
     "output_type": "stream",
     "text": [
      "/Users/christian/Projects/Notion-Bookshelf/.venv/lib/python3.10/site-packages/urllib3/connectionpool.py:1099: InsecureRequestWarning: Unverified HTTPS request is being made to host 'api.notion.com'. Adding certificate verification is strongly advised. See: https://urllib3.readthedocs.io/en/latest/advanced-usage.html#tls-warnings\n",
      "  warnings.warn(\n"
     ]
    },
    {
     "name": "stdout",
     "output_type": "stream",
     "text": [
      "400\n"
     ]
    },
    {
     "name": "stderr",
     "output_type": "stream",
     "text": [
      "/Users/christian/Projects/Notion-Bookshelf/.venv/lib/python3.10/site-packages/urllib3/connectionpool.py:1099: InsecureRequestWarning: Unverified HTTPS request is being made to host 'api.notion.com'. Adding certificate verification is strongly advised. See: https://urllib3.readthedocs.io/en/latest/advanced-usage.html#tls-warnings\n",
      "  warnings.warn(\n"
     ]
    },
    {
     "name": "stdout",
     "output_type": "stream",
     "text": [
      "400\n"
     ]
    },
    {
     "name": "stderr",
     "output_type": "stream",
     "text": [
      "/Users/christian/Projects/Notion-Bookshelf/.venv/lib/python3.10/site-packages/urllib3/connectionpool.py:1099: InsecureRequestWarning: Unverified HTTPS request is being made to host 'api.notion.com'. Adding certificate verification is strongly advised. See: https://urllib3.readthedocs.io/en/latest/advanced-usage.html#tls-warnings\n",
      "  warnings.warn(\n"
     ]
    },
    {
     "name": "stdout",
     "output_type": "stream",
     "text": [
      "400\n"
     ]
    },
    {
     "name": "stderr",
     "output_type": "stream",
     "text": [
      "/Users/christian/Projects/Notion-Bookshelf/.venv/lib/python3.10/site-packages/urllib3/connectionpool.py:1099: InsecureRequestWarning: Unverified HTTPS request is being made to host 'api.notion.com'. Adding certificate verification is strongly advised. See: https://urllib3.readthedocs.io/en/latest/advanced-usage.html#tls-warnings\n",
      "  warnings.warn(\n"
     ]
    },
    {
     "name": "stdout",
     "output_type": "stream",
     "text": [
      "400\n"
     ]
    },
    {
     "name": "stderr",
     "output_type": "stream",
     "text": [
      "/Users/christian/Projects/Notion-Bookshelf/.venv/lib/python3.10/site-packages/urllib3/connectionpool.py:1099: InsecureRequestWarning: Unverified HTTPS request is being made to host 'api.notion.com'. Adding certificate verification is strongly advised. See: https://urllib3.readthedocs.io/en/latest/advanced-usage.html#tls-warnings\n",
      "  warnings.warn(\n"
     ]
    },
    {
     "name": "stdout",
     "output_type": "stream",
     "text": [
      "400\n"
     ]
    },
    {
     "name": "stderr",
     "output_type": "stream",
     "text": [
      "/Users/christian/Projects/Notion-Bookshelf/.venv/lib/python3.10/site-packages/urllib3/connectionpool.py:1099: InsecureRequestWarning: Unverified HTTPS request is being made to host 'api.notion.com'. Adding certificate verification is strongly advised. See: https://urllib3.readthedocs.io/en/latest/advanced-usage.html#tls-warnings\n",
      "  warnings.warn(\n"
     ]
    },
    {
     "name": "stdout",
     "output_type": "stream",
     "text": [
      "400\n"
     ]
    },
    {
     "name": "stderr",
     "output_type": "stream",
     "text": [
      "/Users/christian/Projects/Notion-Bookshelf/.venv/lib/python3.10/site-packages/urllib3/connectionpool.py:1099: InsecureRequestWarning: Unverified HTTPS request is being made to host 'api.notion.com'. Adding certificate verification is strongly advised. See: https://urllib3.readthedocs.io/en/latest/advanced-usage.html#tls-warnings\n",
      "  warnings.warn(\n"
     ]
    },
    {
     "name": "stdout",
     "output_type": "stream",
     "text": [
      "400\n"
     ]
    },
    {
     "name": "stderr",
     "output_type": "stream",
     "text": [
      "/Users/christian/Projects/Notion-Bookshelf/.venv/lib/python3.10/site-packages/urllib3/connectionpool.py:1099: InsecureRequestWarning: Unverified HTTPS request is being made to host 'api.notion.com'. Adding certificate verification is strongly advised. See: https://urllib3.readthedocs.io/en/latest/advanced-usage.html#tls-warnings\n",
      "  warnings.warn(\n"
     ]
    },
    {
     "name": "stdout",
     "output_type": "stream",
     "text": [
      "400\n"
     ]
    },
    {
     "name": "stderr",
     "output_type": "stream",
     "text": [
      "/Users/christian/Projects/Notion-Bookshelf/.venv/lib/python3.10/site-packages/urllib3/connectionpool.py:1099: InsecureRequestWarning: Unverified HTTPS request is being made to host 'api.notion.com'. Adding certificate verification is strongly advised. See: https://urllib3.readthedocs.io/en/latest/advanced-usage.html#tls-warnings\n",
      "  warnings.warn(\n"
     ]
    },
    {
     "name": "stdout",
     "output_type": "stream",
     "text": [
      "400\n"
     ]
    },
    {
     "name": "stderr",
     "output_type": "stream",
     "text": [
      "/Users/christian/Projects/Notion-Bookshelf/.venv/lib/python3.10/site-packages/urllib3/connectionpool.py:1099: InsecureRequestWarning: Unverified HTTPS request is being made to host 'api.notion.com'. Adding certificate verification is strongly advised. See: https://urllib3.readthedocs.io/en/latest/advanced-usage.html#tls-warnings\n",
      "  warnings.warn(\n"
     ]
    },
    {
     "name": "stdout",
     "output_type": "stream",
     "text": [
      "400\n"
     ]
    },
    {
     "name": "stderr",
     "output_type": "stream",
     "text": [
      "/Users/christian/Projects/Notion-Bookshelf/.venv/lib/python3.10/site-packages/urllib3/connectionpool.py:1099: InsecureRequestWarning: Unverified HTTPS request is being made to host 'api.notion.com'. Adding certificate verification is strongly advised. See: https://urllib3.readthedocs.io/en/latest/advanced-usage.html#tls-warnings\n",
      "  warnings.warn(\n"
     ]
    },
    {
     "name": "stdout",
     "output_type": "stream",
     "text": [
      "400\n"
     ]
    },
    {
     "name": "stderr",
     "output_type": "stream",
     "text": [
      "/Users/christian/Projects/Notion-Bookshelf/.venv/lib/python3.10/site-packages/urllib3/connectionpool.py:1099: InsecureRequestWarning: Unverified HTTPS request is being made to host 'api.notion.com'. Adding certificate verification is strongly advised. See: https://urllib3.readthedocs.io/en/latest/advanced-usage.html#tls-warnings\n",
      "  warnings.warn(\n"
     ]
    },
    {
     "name": "stdout",
     "output_type": "stream",
     "text": [
      "400\n"
     ]
    },
    {
     "name": "stderr",
     "output_type": "stream",
     "text": [
      "/Users/christian/Projects/Notion-Bookshelf/.venv/lib/python3.10/site-packages/urllib3/connectionpool.py:1099: InsecureRequestWarning: Unverified HTTPS request is being made to host 'api.notion.com'. Adding certificate verification is strongly advised. See: https://urllib3.readthedocs.io/en/latest/advanced-usage.html#tls-warnings\n",
      "  warnings.warn(\n"
     ]
    },
    {
     "name": "stdout",
     "output_type": "stream",
     "text": [
      "400\n"
     ]
    },
    {
     "name": "stderr",
     "output_type": "stream",
     "text": [
      "/Users/christian/Projects/Notion-Bookshelf/.venv/lib/python3.10/site-packages/urllib3/connectionpool.py:1099: InsecureRequestWarning: Unverified HTTPS request is being made to host 'api.notion.com'. Adding certificate verification is strongly advised. See: https://urllib3.readthedocs.io/en/latest/advanced-usage.html#tls-warnings\n",
      "  warnings.warn(\n"
     ]
    },
    {
     "name": "stdout",
     "output_type": "stream",
     "text": [
      "400\n"
     ]
    },
    {
     "name": "stderr",
     "output_type": "stream",
     "text": [
      "/Users/christian/Projects/Notion-Bookshelf/.venv/lib/python3.10/site-packages/urllib3/connectionpool.py:1099: InsecureRequestWarning: Unverified HTTPS request is being made to host 'api.notion.com'. Adding certificate verification is strongly advised. See: https://urllib3.readthedocs.io/en/latest/advanced-usage.html#tls-warnings\n",
      "  warnings.warn(\n"
     ]
    },
    {
     "name": "stdout",
     "output_type": "stream",
     "text": [
      "400\n"
     ]
    },
    {
     "name": "stderr",
     "output_type": "stream",
     "text": [
      "/Users/christian/Projects/Notion-Bookshelf/.venv/lib/python3.10/site-packages/urllib3/connectionpool.py:1099: InsecureRequestWarning: Unverified HTTPS request is being made to host 'api.notion.com'. Adding certificate verification is strongly advised. See: https://urllib3.readthedocs.io/en/latest/advanced-usage.html#tls-warnings\n",
      "  warnings.warn(\n"
     ]
    },
    {
     "name": "stdout",
     "output_type": "stream",
     "text": [
      "400\n"
     ]
    },
    {
     "name": "stderr",
     "output_type": "stream",
     "text": [
      "/Users/christian/Projects/Notion-Bookshelf/.venv/lib/python3.10/site-packages/urllib3/connectionpool.py:1099: InsecureRequestWarning: Unverified HTTPS request is being made to host 'api.notion.com'. Adding certificate verification is strongly advised. See: https://urllib3.readthedocs.io/en/latest/advanced-usage.html#tls-warnings\n",
      "  warnings.warn(\n"
     ]
    },
    {
     "name": "stdout",
     "output_type": "stream",
     "text": [
      "400\n"
     ]
    },
    {
     "name": "stderr",
     "output_type": "stream",
     "text": [
      "/Users/christian/Projects/Notion-Bookshelf/.venv/lib/python3.10/site-packages/urllib3/connectionpool.py:1099: InsecureRequestWarning: Unverified HTTPS request is being made to host 'api.notion.com'. Adding certificate verification is strongly advised. See: https://urllib3.readthedocs.io/en/latest/advanced-usage.html#tls-warnings\n",
      "  warnings.warn(\n"
     ]
    },
    {
     "name": "stdout",
     "output_type": "stream",
     "text": [
      "400\n"
     ]
    },
    {
     "name": "stderr",
     "output_type": "stream",
     "text": [
      "/Users/christian/Projects/Notion-Bookshelf/.venv/lib/python3.10/site-packages/urllib3/connectionpool.py:1099: InsecureRequestWarning: Unverified HTTPS request is being made to host 'api.notion.com'. Adding certificate verification is strongly advised. See: https://urllib3.readthedocs.io/en/latest/advanced-usage.html#tls-warnings\n",
      "  warnings.warn(\n"
     ]
    },
    {
     "name": "stdout",
     "output_type": "stream",
     "text": [
      "400\n"
     ]
    },
    {
     "name": "stderr",
     "output_type": "stream",
     "text": [
      "/Users/christian/Projects/Notion-Bookshelf/.venv/lib/python3.10/site-packages/urllib3/connectionpool.py:1099: InsecureRequestWarning: Unverified HTTPS request is being made to host 'api.notion.com'. Adding certificate verification is strongly advised. See: https://urllib3.readthedocs.io/en/latest/advanced-usage.html#tls-warnings\n",
      "  warnings.warn(\n"
     ]
    },
    {
     "name": "stdout",
     "output_type": "stream",
     "text": [
      "400\n"
     ]
    },
    {
     "name": "stderr",
     "output_type": "stream",
     "text": [
      "/Users/christian/Projects/Notion-Bookshelf/.venv/lib/python3.10/site-packages/urllib3/connectionpool.py:1099: InsecureRequestWarning: Unverified HTTPS request is being made to host 'api.notion.com'. Adding certificate verification is strongly advised. See: https://urllib3.readthedocs.io/en/latest/advanced-usage.html#tls-warnings\n",
      "  warnings.warn(\n"
     ]
    },
    {
     "name": "stdout",
     "output_type": "stream",
     "text": [
      "400\n"
     ]
    },
    {
     "name": "stderr",
     "output_type": "stream",
     "text": [
      "/Users/christian/Projects/Notion-Bookshelf/.venv/lib/python3.10/site-packages/urllib3/connectionpool.py:1099: InsecureRequestWarning: Unverified HTTPS request is being made to host 'api.notion.com'. Adding certificate verification is strongly advised. See: https://urllib3.readthedocs.io/en/latest/advanced-usage.html#tls-warnings\n",
      "  warnings.warn(\n"
     ]
    },
    {
     "name": "stdout",
     "output_type": "stream",
     "text": [
      "400\n"
     ]
    },
    {
     "name": "stderr",
     "output_type": "stream",
     "text": [
      "/Users/christian/Projects/Notion-Bookshelf/.venv/lib/python3.10/site-packages/urllib3/connectionpool.py:1099: InsecureRequestWarning: Unverified HTTPS request is being made to host 'api.notion.com'. Adding certificate verification is strongly advised. See: https://urllib3.readthedocs.io/en/latest/advanced-usage.html#tls-warnings\n",
      "  warnings.warn(\n"
     ]
    },
    {
     "name": "stdout",
     "output_type": "stream",
     "text": [
      "400\n"
     ]
    },
    {
     "name": "stderr",
     "output_type": "stream",
     "text": [
      "/Users/christian/Projects/Notion-Bookshelf/.venv/lib/python3.10/site-packages/urllib3/connectionpool.py:1099: InsecureRequestWarning: Unverified HTTPS request is being made to host 'api.notion.com'. Adding certificate verification is strongly advised. See: https://urllib3.readthedocs.io/en/latest/advanced-usage.html#tls-warnings\n",
      "  warnings.warn(\n"
     ]
    },
    {
     "name": "stdout",
     "output_type": "stream",
     "text": [
      "400\n"
     ]
    },
    {
     "name": "stderr",
     "output_type": "stream",
     "text": [
      "/Users/christian/Projects/Notion-Bookshelf/.venv/lib/python3.10/site-packages/urllib3/connectionpool.py:1099: InsecureRequestWarning: Unverified HTTPS request is being made to host 'api.notion.com'. Adding certificate verification is strongly advised. See: https://urllib3.readthedocs.io/en/latest/advanced-usage.html#tls-warnings\n",
      "  warnings.warn(\n"
     ]
    },
    {
     "name": "stdout",
     "output_type": "stream",
     "text": [
      "400\n"
     ]
    },
    {
     "name": "stderr",
     "output_type": "stream",
     "text": [
      "/Users/christian/Projects/Notion-Bookshelf/.venv/lib/python3.10/site-packages/urllib3/connectionpool.py:1099: InsecureRequestWarning: Unverified HTTPS request is being made to host 'api.notion.com'. Adding certificate verification is strongly advised. See: https://urllib3.readthedocs.io/en/latest/advanced-usage.html#tls-warnings\n",
      "  warnings.warn(\n"
     ]
    },
    {
     "name": "stdout",
     "output_type": "stream",
     "text": [
      "400\n"
     ]
    },
    {
     "name": "stderr",
     "output_type": "stream",
     "text": [
      "/Users/christian/Projects/Notion-Bookshelf/.venv/lib/python3.10/site-packages/urllib3/connectionpool.py:1099: InsecureRequestWarning: Unverified HTTPS request is being made to host 'api.notion.com'. Adding certificate verification is strongly advised. See: https://urllib3.readthedocs.io/en/latest/advanced-usage.html#tls-warnings\n",
      "  warnings.warn(\n"
     ]
    },
    {
     "name": "stdout",
     "output_type": "stream",
     "text": [
      "400\n"
     ]
    },
    {
     "name": "stderr",
     "output_type": "stream",
     "text": [
      "/Users/christian/Projects/Notion-Bookshelf/.venv/lib/python3.10/site-packages/urllib3/connectionpool.py:1099: InsecureRequestWarning: Unverified HTTPS request is being made to host 'api.notion.com'. Adding certificate verification is strongly advised. See: https://urllib3.readthedocs.io/en/latest/advanced-usage.html#tls-warnings\n",
      "  warnings.warn(\n"
     ]
    },
    {
     "name": "stdout",
     "output_type": "stream",
     "text": [
      "400\n"
     ]
    },
    {
     "name": "stderr",
     "output_type": "stream",
     "text": [
      "/Users/christian/Projects/Notion-Bookshelf/.venv/lib/python3.10/site-packages/urllib3/connectionpool.py:1099: InsecureRequestWarning: Unverified HTTPS request is being made to host 'api.notion.com'. Adding certificate verification is strongly advised. See: https://urllib3.readthedocs.io/en/latest/advanced-usage.html#tls-warnings\n",
      "  warnings.warn(\n"
     ]
    },
    {
     "name": "stdout",
     "output_type": "stream",
     "text": [
      "400\n"
     ]
    },
    {
     "name": "stderr",
     "output_type": "stream",
     "text": [
      "/Users/christian/Projects/Notion-Bookshelf/.venv/lib/python3.10/site-packages/urllib3/connectionpool.py:1099: InsecureRequestWarning: Unverified HTTPS request is being made to host 'api.notion.com'. Adding certificate verification is strongly advised. See: https://urllib3.readthedocs.io/en/latest/advanced-usage.html#tls-warnings\n",
      "  warnings.warn(\n"
     ]
    },
    {
     "name": "stdout",
     "output_type": "stream",
     "text": [
      "400\n"
     ]
    },
    {
     "name": "stderr",
     "output_type": "stream",
     "text": [
      "/Users/christian/Projects/Notion-Bookshelf/.venv/lib/python3.10/site-packages/urllib3/connectionpool.py:1099: InsecureRequestWarning: Unverified HTTPS request is being made to host 'api.notion.com'. Adding certificate verification is strongly advised. See: https://urllib3.readthedocs.io/en/latest/advanced-usage.html#tls-warnings\n",
      "  warnings.warn(\n"
     ]
    },
    {
     "name": "stdout",
     "output_type": "stream",
     "text": [
      "400\n"
     ]
    },
    {
     "name": "stderr",
     "output_type": "stream",
     "text": [
      "/Users/christian/Projects/Notion-Bookshelf/.venv/lib/python3.10/site-packages/urllib3/connectionpool.py:1099: InsecureRequestWarning: Unverified HTTPS request is being made to host 'api.notion.com'. Adding certificate verification is strongly advised. See: https://urllib3.readthedocs.io/en/latest/advanced-usage.html#tls-warnings\n",
      "  warnings.warn(\n"
     ]
    },
    {
     "name": "stdout",
     "output_type": "stream",
     "text": [
      "400\n"
     ]
    },
    {
     "name": "stderr",
     "output_type": "stream",
     "text": [
      "/Users/christian/Projects/Notion-Bookshelf/.venv/lib/python3.10/site-packages/urllib3/connectionpool.py:1099: InsecureRequestWarning: Unverified HTTPS request is being made to host 'api.notion.com'. Adding certificate verification is strongly advised. See: https://urllib3.readthedocs.io/en/latest/advanced-usage.html#tls-warnings\n",
      "  warnings.warn(\n"
     ]
    },
    {
     "name": "stdout",
     "output_type": "stream",
     "text": [
      "400\n"
     ]
    },
    {
     "name": "stderr",
     "output_type": "stream",
     "text": [
      "/Users/christian/Projects/Notion-Bookshelf/.venv/lib/python3.10/site-packages/urllib3/connectionpool.py:1099: InsecureRequestWarning: Unverified HTTPS request is being made to host 'api.notion.com'. Adding certificate verification is strongly advised. See: https://urllib3.readthedocs.io/en/latest/advanced-usage.html#tls-warnings\n",
      "  warnings.warn(\n"
     ]
    },
    {
     "name": "stdout",
     "output_type": "stream",
     "text": [
      "400\n"
     ]
    },
    {
     "name": "stderr",
     "output_type": "stream",
     "text": [
      "/Users/christian/Projects/Notion-Bookshelf/.venv/lib/python3.10/site-packages/urllib3/connectionpool.py:1099: InsecureRequestWarning: Unverified HTTPS request is being made to host 'api.notion.com'. Adding certificate verification is strongly advised. See: https://urllib3.readthedocs.io/en/latest/advanced-usage.html#tls-warnings\n",
      "  warnings.warn(\n"
     ]
    },
    {
     "name": "stdout",
     "output_type": "stream",
     "text": [
      "400\n"
     ]
    },
    {
     "name": "stderr",
     "output_type": "stream",
     "text": [
      "/Users/christian/Projects/Notion-Bookshelf/.venv/lib/python3.10/site-packages/urllib3/connectionpool.py:1099: InsecureRequestWarning: Unverified HTTPS request is being made to host 'api.notion.com'. Adding certificate verification is strongly advised. See: https://urllib3.readthedocs.io/en/latest/advanced-usage.html#tls-warnings\n",
      "  warnings.warn(\n"
     ]
    },
    {
     "name": "stdout",
     "output_type": "stream",
     "text": [
      "400\n"
     ]
    },
    {
     "name": "stderr",
     "output_type": "stream",
     "text": [
      "/Users/christian/Projects/Notion-Bookshelf/.venv/lib/python3.10/site-packages/urllib3/connectionpool.py:1099: InsecureRequestWarning: Unverified HTTPS request is being made to host 'api.notion.com'. Adding certificate verification is strongly advised. See: https://urllib3.readthedocs.io/en/latest/advanced-usage.html#tls-warnings\n",
      "  warnings.warn(\n"
     ]
    },
    {
     "name": "stdout",
     "output_type": "stream",
     "text": [
      "400\n"
     ]
    },
    {
     "name": "stderr",
     "output_type": "stream",
     "text": [
      "/Users/christian/Projects/Notion-Bookshelf/.venv/lib/python3.10/site-packages/urllib3/connectionpool.py:1099: InsecureRequestWarning: Unverified HTTPS request is being made to host 'api.notion.com'. Adding certificate verification is strongly advised. See: https://urllib3.readthedocs.io/en/latest/advanced-usage.html#tls-warnings\n",
      "  warnings.warn(\n"
     ]
    },
    {
     "name": "stdout",
     "output_type": "stream",
     "text": [
      "400\n"
     ]
    },
    {
     "name": "stderr",
     "output_type": "stream",
     "text": [
      "/Users/christian/Projects/Notion-Bookshelf/.venv/lib/python3.10/site-packages/urllib3/connectionpool.py:1099: InsecureRequestWarning: Unverified HTTPS request is being made to host 'api.notion.com'. Adding certificate verification is strongly advised. See: https://urllib3.readthedocs.io/en/latest/advanced-usage.html#tls-warnings\n",
      "  warnings.warn(\n"
     ]
    },
    {
     "name": "stdout",
     "output_type": "stream",
     "text": [
      "400\n"
     ]
    },
    {
     "name": "stderr",
     "output_type": "stream",
     "text": [
      "/Users/christian/Projects/Notion-Bookshelf/.venv/lib/python3.10/site-packages/urllib3/connectionpool.py:1099: InsecureRequestWarning: Unverified HTTPS request is being made to host 'api.notion.com'. Adding certificate verification is strongly advised. See: https://urllib3.readthedocs.io/en/latest/advanced-usage.html#tls-warnings\n",
      "  warnings.warn(\n"
     ]
    },
    {
     "name": "stdout",
     "output_type": "stream",
     "text": [
      "400\n"
     ]
    },
    {
     "name": "stderr",
     "output_type": "stream",
     "text": [
      "/Users/christian/Projects/Notion-Bookshelf/.venv/lib/python3.10/site-packages/urllib3/connectionpool.py:1099: InsecureRequestWarning: Unverified HTTPS request is being made to host 'api.notion.com'. Adding certificate verification is strongly advised. See: https://urllib3.readthedocs.io/en/latest/advanced-usage.html#tls-warnings\n",
      "  warnings.warn(\n"
     ]
    },
    {
     "name": "stdout",
     "output_type": "stream",
     "text": [
      "400\n"
     ]
    },
    {
     "name": "stderr",
     "output_type": "stream",
     "text": [
      "/Users/christian/Projects/Notion-Bookshelf/.venv/lib/python3.10/site-packages/urllib3/connectionpool.py:1099: InsecureRequestWarning: Unverified HTTPS request is being made to host 'api.notion.com'. Adding certificate verification is strongly advised. See: https://urllib3.readthedocs.io/en/latest/advanced-usage.html#tls-warnings\n",
      "  warnings.warn(\n"
     ]
    },
    {
     "name": "stdout",
     "output_type": "stream",
     "text": [
      "400\n"
     ]
    },
    {
     "name": "stderr",
     "output_type": "stream",
     "text": [
      "/Users/christian/Projects/Notion-Bookshelf/.venv/lib/python3.10/site-packages/urllib3/connectionpool.py:1099: InsecureRequestWarning: Unverified HTTPS request is being made to host 'api.notion.com'. Adding certificate verification is strongly advised. See: https://urllib3.readthedocs.io/en/latest/advanced-usage.html#tls-warnings\n",
      "  warnings.warn(\n"
     ]
    },
    {
     "name": "stdout",
     "output_type": "stream",
     "text": [
      "400\n"
     ]
    }
   ],
   "source": [
    "# Update Number of pages\n",
    "property_name = 'Pages'\n",
    "property_type = \"number\"\n",
    "data_column = 'volumeInfo.pageCount'\n",
    "\n",
    "for i in look_up['page_id'].index:\n",
    "   # if math.isnan(look_up['Link'][i]):\n",
    "    update_properties(property_name, property_type, data_column)"
   ]
  },
  {
   "cell_type": "markdown",
   "id": "a692a100",
   "metadata": {},
   "source": [
    "### Update Summaries"
   ]
  },
  {
   "cell_type": "code",
   "execution_count": 103,
   "id": "21d4b054",
   "metadata": {},
   "outputs": [
    {
     "name": "stderr",
     "output_type": "stream",
     "text": [
      "/Users/christian/Projects/Notion-Bookshelf/.venv/lib/python3.10/site-packages/urllib3/connectionpool.py:1099: InsecureRequestWarning: Unverified HTTPS request is being made to host 'api.notion.com'. Adding certificate verification is strongly advised. See: https://urllib3.readthedocs.io/en/latest/advanced-usage.html#tls-warnings\n",
      "  warnings.warn(\n"
     ]
    },
    {
     "name": "stdout",
     "output_type": "stream",
     "text": [
      "200\n"
     ]
    },
    {
     "name": "stderr",
     "output_type": "stream",
     "text": [
      "/Users/christian/Projects/Notion-Bookshelf/.venv/lib/python3.10/site-packages/urllib3/connectionpool.py:1099: InsecureRequestWarning: Unverified HTTPS request is being made to host 'api.notion.com'. Adding certificate verification is strongly advised. See: https://urllib3.readthedocs.io/en/latest/advanced-usage.html#tls-warnings\n",
      "  warnings.warn(\n"
     ]
    },
    {
     "name": "stdout",
     "output_type": "stream",
     "text": [
      "200\n"
     ]
    },
    {
     "name": "stderr",
     "output_type": "stream",
     "text": [
      "/Users/christian/Projects/Notion-Bookshelf/.venv/lib/python3.10/site-packages/urllib3/connectionpool.py:1099: InsecureRequestWarning: Unverified HTTPS request is being made to host 'api.notion.com'. Adding certificate verification is strongly advised. See: https://urllib3.readthedocs.io/en/latest/advanced-usage.html#tls-warnings\n",
      "  warnings.warn(\n"
     ]
    },
    {
     "name": "stdout",
     "output_type": "stream",
     "text": [
      "200\n"
     ]
    },
    {
     "name": "stderr",
     "output_type": "stream",
     "text": [
      "/Users/christian/Projects/Notion-Bookshelf/.venv/lib/python3.10/site-packages/urllib3/connectionpool.py:1099: InsecureRequestWarning: Unverified HTTPS request is being made to host 'api.notion.com'. Adding certificate verification is strongly advised. See: https://urllib3.readthedocs.io/en/latest/advanced-usage.html#tls-warnings\n",
      "  warnings.warn(\n"
     ]
    },
    {
     "name": "stdout",
     "output_type": "stream",
     "text": [
      "200\n"
     ]
    },
    {
     "name": "stderr",
     "output_type": "stream",
     "text": [
      "/Users/christian/Projects/Notion-Bookshelf/.venv/lib/python3.10/site-packages/urllib3/connectionpool.py:1099: InsecureRequestWarning: Unverified HTTPS request is being made to host 'api.notion.com'. Adding certificate verification is strongly advised. See: https://urllib3.readthedocs.io/en/latest/advanced-usage.html#tls-warnings\n",
      "  warnings.warn(\n"
     ]
    },
    {
     "name": "stdout",
     "output_type": "stream",
     "text": [
      "400\n"
     ]
    },
    {
     "name": "stderr",
     "output_type": "stream",
     "text": [
      "/Users/christian/Projects/Notion-Bookshelf/.venv/lib/python3.10/site-packages/urllib3/connectionpool.py:1099: InsecureRequestWarning: Unverified HTTPS request is being made to host 'api.notion.com'. Adding certificate verification is strongly advised. See: https://urllib3.readthedocs.io/en/latest/advanced-usage.html#tls-warnings\n",
      "  warnings.warn(\n"
     ]
    },
    {
     "name": "stdout",
     "output_type": "stream",
     "text": [
      "200\n"
     ]
    },
    {
     "name": "stderr",
     "output_type": "stream",
     "text": [
      "/Users/christian/Projects/Notion-Bookshelf/.venv/lib/python3.10/site-packages/urllib3/connectionpool.py:1099: InsecureRequestWarning: Unverified HTTPS request is being made to host 'api.notion.com'. Adding certificate verification is strongly advised. See: https://urllib3.readthedocs.io/en/latest/advanced-usage.html#tls-warnings\n",
      "  warnings.warn(\n"
     ]
    },
    {
     "name": "stdout",
     "output_type": "stream",
     "text": [
      "400\n"
     ]
    },
    {
     "name": "stderr",
     "output_type": "stream",
     "text": [
      "/Users/christian/Projects/Notion-Bookshelf/.venv/lib/python3.10/site-packages/urllib3/connectionpool.py:1099: InsecureRequestWarning: Unverified HTTPS request is being made to host 'api.notion.com'. Adding certificate verification is strongly advised. See: https://urllib3.readthedocs.io/en/latest/advanced-usage.html#tls-warnings\n",
      "  warnings.warn(\n"
     ]
    },
    {
     "name": "stdout",
     "output_type": "stream",
     "text": [
      "200\n"
     ]
    },
    {
     "name": "stderr",
     "output_type": "stream",
     "text": [
      "/Users/christian/Projects/Notion-Bookshelf/.venv/lib/python3.10/site-packages/urllib3/connectionpool.py:1099: InsecureRequestWarning: Unverified HTTPS request is being made to host 'api.notion.com'. Adding certificate verification is strongly advised. See: https://urllib3.readthedocs.io/en/latest/advanced-usage.html#tls-warnings\n",
      "  warnings.warn(\n"
     ]
    },
    {
     "name": "stdout",
     "output_type": "stream",
     "text": [
      "200\n"
     ]
    },
    {
     "name": "stderr",
     "output_type": "stream",
     "text": [
      "/Users/christian/Projects/Notion-Bookshelf/.venv/lib/python3.10/site-packages/urllib3/connectionpool.py:1099: InsecureRequestWarning: Unverified HTTPS request is being made to host 'api.notion.com'. Adding certificate verification is strongly advised. See: https://urllib3.readthedocs.io/en/latest/advanced-usage.html#tls-warnings\n",
      "  warnings.warn(\n"
     ]
    },
    {
     "name": "stdout",
     "output_type": "stream",
     "text": [
      "400\n"
     ]
    },
    {
     "name": "stderr",
     "output_type": "stream",
     "text": [
      "/Users/christian/Projects/Notion-Bookshelf/.venv/lib/python3.10/site-packages/urllib3/connectionpool.py:1099: InsecureRequestWarning: Unverified HTTPS request is being made to host 'api.notion.com'. Adding certificate verification is strongly advised. See: https://urllib3.readthedocs.io/en/latest/advanced-usage.html#tls-warnings\n",
      "  warnings.warn(\n"
     ]
    },
    {
     "name": "stdout",
     "output_type": "stream",
     "text": [
      "200\n"
     ]
    },
    {
     "name": "stderr",
     "output_type": "stream",
     "text": [
      "/Users/christian/Projects/Notion-Bookshelf/.venv/lib/python3.10/site-packages/urllib3/connectionpool.py:1099: InsecureRequestWarning: Unverified HTTPS request is being made to host 'api.notion.com'. Adding certificate verification is strongly advised. See: https://urllib3.readthedocs.io/en/latest/advanced-usage.html#tls-warnings\n",
      "  warnings.warn(\n"
     ]
    },
    {
     "name": "stdout",
     "output_type": "stream",
     "text": [
      "200\n"
     ]
    },
    {
     "name": "stderr",
     "output_type": "stream",
     "text": [
      "/Users/christian/Projects/Notion-Bookshelf/.venv/lib/python3.10/site-packages/urllib3/connectionpool.py:1099: InsecureRequestWarning: Unverified HTTPS request is being made to host 'api.notion.com'. Adding certificate verification is strongly advised. See: https://urllib3.readthedocs.io/en/latest/advanced-usage.html#tls-warnings\n",
      "  warnings.warn(\n"
     ]
    },
    {
     "name": "stdout",
     "output_type": "stream",
     "text": [
      "400\n"
     ]
    },
    {
     "name": "stderr",
     "output_type": "stream",
     "text": [
      "/Users/christian/Projects/Notion-Bookshelf/.venv/lib/python3.10/site-packages/urllib3/connectionpool.py:1099: InsecureRequestWarning: Unverified HTTPS request is being made to host 'api.notion.com'. Adding certificate verification is strongly advised. See: https://urllib3.readthedocs.io/en/latest/advanced-usage.html#tls-warnings\n",
      "  warnings.warn(\n"
     ]
    },
    {
     "name": "stdout",
     "output_type": "stream",
     "text": [
      "200\n"
     ]
    },
    {
     "name": "stderr",
     "output_type": "stream",
     "text": [
      "/Users/christian/Projects/Notion-Bookshelf/.venv/lib/python3.10/site-packages/urllib3/connectionpool.py:1099: InsecureRequestWarning: Unverified HTTPS request is being made to host 'api.notion.com'. Adding certificate verification is strongly advised. See: https://urllib3.readthedocs.io/en/latest/advanced-usage.html#tls-warnings\n",
      "  warnings.warn(\n"
     ]
    },
    {
     "name": "stdout",
     "output_type": "stream",
     "text": [
      "400\n"
     ]
    },
    {
     "name": "stderr",
     "output_type": "stream",
     "text": [
      "/Users/christian/Projects/Notion-Bookshelf/.venv/lib/python3.10/site-packages/urllib3/connectionpool.py:1099: InsecureRequestWarning: Unverified HTTPS request is being made to host 'api.notion.com'. Adding certificate verification is strongly advised. See: https://urllib3.readthedocs.io/en/latest/advanced-usage.html#tls-warnings\n",
      "  warnings.warn(\n"
     ]
    },
    {
     "name": "stdout",
     "output_type": "stream",
     "text": [
      "200\n"
     ]
    },
    {
     "name": "stderr",
     "output_type": "stream",
     "text": [
      "/Users/christian/Projects/Notion-Bookshelf/.venv/lib/python3.10/site-packages/urllib3/connectionpool.py:1099: InsecureRequestWarning: Unverified HTTPS request is being made to host 'api.notion.com'. Adding certificate verification is strongly advised. See: https://urllib3.readthedocs.io/en/latest/advanced-usage.html#tls-warnings\n",
      "  warnings.warn(\n"
     ]
    },
    {
     "name": "stdout",
     "output_type": "stream",
     "text": [
      "200\n"
     ]
    },
    {
     "name": "stderr",
     "output_type": "stream",
     "text": [
      "/Users/christian/Projects/Notion-Bookshelf/.venv/lib/python3.10/site-packages/urllib3/connectionpool.py:1099: InsecureRequestWarning: Unverified HTTPS request is being made to host 'api.notion.com'. Adding certificate verification is strongly advised. See: https://urllib3.readthedocs.io/en/latest/advanced-usage.html#tls-warnings\n",
      "  warnings.warn(\n"
     ]
    },
    {
     "name": "stdout",
     "output_type": "stream",
     "text": [
      "200\n"
     ]
    },
    {
     "name": "stderr",
     "output_type": "stream",
     "text": [
      "/Users/christian/Projects/Notion-Bookshelf/.venv/lib/python3.10/site-packages/urllib3/connectionpool.py:1099: InsecureRequestWarning: Unverified HTTPS request is being made to host 'api.notion.com'. Adding certificate verification is strongly advised. See: https://urllib3.readthedocs.io/en/latest/advanced-usage.html#tls-warnings\n",
      "  warnings.warn(\n"
     ]
    },
    {
     "name": "stdout",
     "output_type": "stream",
     "text": [
      "200\n"
     ]
    },
    {
     "name": "stderr",
     "output_type": "stream",
     "text": [
      "/Users/christian/Projects/Notion-Bookshelf/.venv/lib/python3.10/site-packages/urllib3/connectionpool.py:1099: InsecureRequestWarning: Unverified HTTPS request is being made to host 'api.notion.com'. Adding certificate verification is strongly advised. See: https://urllib3.readthedocs.io/en/latest/advanced-usage.html#tls-warnings\n",
      "  warnings.warn(\n"
     ]
    },
    {
     "name": "stdout",
     "output_type": "stream",
     "text": [
      "400\n"
     ]
    },
    {
     "name": "stderr",
     "output_type": "stream",
     "text": [
      "/Users/christian/Projects/Notion-Bookshelf/.venv/lib/python3.10/site-packages/urllib3/connectionpool.py:1099: InsecureRequestWarning: Unverified HTTPS request is being made to host 'api.notion.com'. Adding certificate verification is strongly advised. See: https://urllib3.readthedocs.io/en/latest/advanced-usage.html#tls-warnings\n",
      "  warnings.warn(\n"
     ]
    },
    {
     "name": "stdout",
     "output_type": "stream",
     "text": [
      "400\n"
     ]
    },
    {
     "name": "stderr",
     "output_type": "stream",
     "text": [
      "/Users/christian/Projects/Notion-Bookshelf/.venv/lib/python3.10/site-packages/urllib3/connectionpool.py:1099: InsecureRequestWarning: Unverified HTTPS request is being made to host 'api.notion.com'. Adding certificate verification is strongly advised. See: https://urllib3.readthedocs.io/en/latest/advanced-usage.html#tls-warnings\n",
      "  warnings.warn(\n"
     ]
    },
    {
     "name": "stdout",
     "output_type": "stream",
     "text": [
      "504\n"
     ]
    },
    {
     "name": "stderr",
     "output_type": "stream",
     "text": [
      "/Users/christian/Projects/Notion-Bookshelf/.venv/lib/python3.10/site-packages/urllib3/connectionpool.py:1099: InsecureRequestWarning: Unverified HTTPS request is being made to host 'api.notion.com'. Adding certificate verification is strongly advised. See: https://urllib3.readthedocs.io/en/latest/advanced-usage.html#tls-warnings\n",
      "  warnings.warn(\n"
     ]
    },
    {
     "name": "stdout",
     "output_type": "stream",
     "text": [
      "200\n"
     ]
    },
    {
     "name": "stderr",
     "output_type": "stream",
     "text": [
      "/Users/christian/Projects/Notion-Bookshelf/.venv/lib/python3.10/site-packages/urllib3/connectionpool.py:1099: InsecureRequestWarning: Unverified HTTPS request is being made to host 'api.notion.com'. Adding certificate verification is strongly advised. See: https://urllib3.readthedocs.io/en/latest/advanced-usage.html#tls-warnings\n",
      "  warnings.warn(\n"
     ]
    },
    {
     "name": "stdout",
     "output_type": "stream",
     "text": [
      "400\n"
     ]
    },
    {
     "name": "stderr",
     "output_type": "stream",
     "text": [
      "/Users/christian/Projects/Notion-Bookshelf/.venv/lib/python3.10/site-packages/urllib3/connectionpool.py:1099: InsecureRequestWarning: Unverified HTTPS request is being made to host 'api.notion.com'. Adding certificate verification is strongly advised. See: https://urllib3.readthedocs.io/en/latest/advanced-usage.html#tls-warnings\n",
      "  warnings.warn(\n"
     ]
    },
    {
     "name": "stdout",
     "output_type": "stream",
     "text": [
      "200\n"
     ]
    },
    {
     "name": "stderr",
     "output_type": "stream",
     "text": [
      "/Users/christian/Projects/Notion-Bookshelf/.venv/lib/python3.10/site-packages/urllib3/connectionpool.py:1099: InsecureRequestWarning: Unverified HTTPS request is being made to host 'api.notion.com'. Adding certificate verification is strongly advised. See: https://urllib3.readthedocs.io/en/latest/advanced-usage.html#tls-warnings\n",
      "  warnings.warn(\n"
     ]
    },
    {
     "name": "stdout",
     "output_type": "stream",
     "text": [
      "200\n"
     ]
    },
    {
     "name": "stderr",
     "output_type": "stream",
     "text": [
      "/Users/christian/Projects/Notion-Bookshelf/.venv/lib/python3.10/site-packages/urllib3/connectionpool.py:1099: InsecureRequestWarning: Unverified HTTPS request is being made to host 'api.notion.com'. Adding certificate verification is strongly advised. See: https://urllib3.readthedocs.io/en/latest/advanced-usage.html#tls-warnings\n",
      "  warnings.warn(\n"
     ]
    },
    {
     "name": "stdout",
     "output_type": "stream",
     "text": [
      "200\n"
     ]
    },
    {
     "name": "stderr",
     "output_type": "stream",
     "text": [
      "/Users/christian/Projects/Notion-Bookshelf/.venv/lib/python3.10/site-packages/urllib3/connectionpool.py:1099: InsecureRequestWarning: Unverified HTTPS request is being made to host 'api.notion.com'. Adding certificate verification is strongly advised. See: https://urllib3.readthedocs.io/en/latest/advanced-usage.html#tls-warnings\n",
      "  warnings.warn(\n"
     ]
    },
    {
     "name": "stdout",
     "output_type": "stream",
     "text": [
      "400\n"
     ]
    },
    {
     "name": "stderr",
     "output_type": "stream",
     "text": [
      "/Users/christian/Projects/Notion-Bookshelf/.venv/lib/python3.10/site-packages/urllib3/connectionpool.py:1099: InsecureRequestWarning: Unverified HTTPS request is being made to host 'api.notion.com'. Adding certificate verification is strongly advised. See: https://urllib3.readthedocs.io/en/latest/advanced-usage.html#tls-warnings\n",
      "  warnings.warn(\n"
     ]
    },
    {
     "name": "stdout",
     "output_type": "stream",
     "text": [
      "400\n"
     ]
    },
    {
     "name": "stderr",
     "output_type": "stream",
     "text": [
      "/Users/christian/Projects/Notion-Bookshelf/.venv/lib/python3.10/site-packages/urllib3/connectionpool.py:1099: InsecureRequestWarning: Unverified HTTPS request is being made to host 'api.notion.com'. Adding certificate verification is strongly advised. See: https://urllib3.readthedocs.io/en/latest/advanced-usage.html#tls-warnings\n",
      "  warnings.warn(\n"
     ]
    },
    {
     "name": "stdout",
     "output_type": "stream",
     "text": [
      "200\n"
     ]
    },
    {
     "name": "stderr",
     "output_type": "stream",
     "text": [
      "/Users/christian/Projects/Notion-Bookshelf/.venv/lib/python3.10/site-packages/urllib3/connectionpool.py:1099: InsecureRequestWarning: Unverified HTTPS request is being made to host 'api.notion.com'. Adding certificate verification is strongly advised. See: https://urllib3.readthedocs.io/en/latest/advanced-usage.html#tls-warnings\n",
      "  warnings.warn(\n"
     ]
    },
    {
     "name": "stdout",
     "output_type": "stream",
     "text": [
      "200\n"
     ]
    },
    {
     "name": "stderr",
     "output_type": "stream",
     "text": [
      "/Users/christian/Projects/Notion-Bookshelf/.venv/lib/python3.10/site-packages/urllib3/connectionpool.py:1099: InsecureRequestWarning: Unverified HTTPS request is being made to host 'api.notion.com'. Adding certificate verification is strongly advised. See: https://urllib3.readthedocs.io/en/latest/advanced-usage.html#tls-warnings\n",
      "  warnings.warn(\n"
     ]
    },
    {
     "name": "stdout",
     "output_type": "stream",
     "text": [
      "400\n"
     ]
    },
    {
     "name": "stderr",
     "output_type": "stream",
     "text": [
      "/Users/christian/Projects/Notion-Bookshelf/.venv/lib/python3.10/site-packages/urllib3/connectionpool.py:1099: InsecureRequestWarning: Unverified HTTPS request is being made to host 'api.notion.com'. Adding certificate verification is strongly advised. See: https://urllib3.readthedocs.io/en/latest/advanced-usage.html#tls-warnings\n",
      "  warnings.warn(\n"
     ]
    },
    {
     "name": "stdout",
     "output_type": "stream",
     "text": [
      "200\n"
     ]
    },
    {
     "name": "stderr",
     "output_type": "stream",
     "text": [
      "/Users/christian/Projects/Notion-Bookshelf/.venv/lib/python3.10/site-packages/urllib3/connectionpool.py:1099: InsecureRequestWarning: Unverified HTTPS request is being made to host 'api.notion.com'. Adding certificate verification is strongly advised. See: https://urllib3.readthedocs.io/en/latest/advanced-usage.html#tls-warnings\n",
      "  warnings.warn(\n"
     ]
    },
    {
     "name": "stdout",
     "output_type": "stream",
     "text": [
      "200\n"
     ]
    },
    {
     "name": "stderr",
     "output_type": "stream",
     "text": [
      "/Users/christian/Projects/Notion-Bookshelf/.venv/lib/python3.10/site-packages/urllib3/connectionpool.py:1099: InsecureRequestWarning: Unverified HTTPS request is being made to host 'api.notion.com'. Adding certificate verification is strongly advised. See: https://urllib3.readthedocs.io/en/latest/advanced-usage.html#tls-warnings\n",
      "  warnings.warn(\n"
     ]
    },
    {
     "name": "stdout",
     "output_type": "stream",
     "text": [
      "200\n"
     ]
    },
    {
     "name": "stderr",
     "output_type": "stream",
     "text": [
      "/Users/christian/Projects/Notion-Bookshelf/.venv/lib/python3.10/site-packages/urllib3/connectionpool.py:1099: InsecureRequestWarning: Unverified HTTPS request is being made to host 'api.notion.com'. Adding certificate verification is strongly advised. See: https://urllib3.readthedocs.io/en/latest/advanced-usage.html#tls-warnings\n",
      "  warnings.warn(\n"
     ]
    },
    {
     "name": "stdout",
     "output_type": "stream",
     "text": [
      "200\n"
     ]
    },
    {
     "name": "stderr",
     "output_type": "stream",
     "text": [
      "/Users/christian/Projects/Notion-Bookshelf/.venv/lib/python3.10/site-packages/urllib3/connectionpool.py:1099: InsecureRequestWarning: Unverified HTTPS request is being made to host 'api.notion.com'. Adding certificate verification is strongly advised. See: https://urllib3.readthedocs.io/en/latest/advanced-usage.html#tls-warnings\n",
      "  warnings.warn(\n"
     ]
    },
    {
     "name": "stdout",
     "output_type": "stream",
     "text": [
      "200\n"
     ]
    },
    {
     "name": "stderr",
     "output_type": "stream",
     "text": [
      "/Users/christian/Projects/Notion-Bookshelf/.venv/lib/python3.10/site-packages/urllib3/connectionpool.py:1099: InsecureRequestWarning: Unverified HTTPS request is being made to host 'api.notion.com'. Adding certificate verification is strongly advised. See: https://urllib3.readthedocs.io/en/latest/advanced-usage.html#tls-warnings\n",
      "  warnings.warn(\n"
     ]
    },
    {
     "name": "stdout",
     "output_type": "stream",
     "text": [
      "400\n"
     ]
    },
    {
     "name": "stderr",
     "output_type": "stream",
     "text": [
      "/Users/christian/Projects/Notion-Bookshelf/.venv/lib/python3.10/site-packages/urllib3/connectionpool.py:1099: InsecureRequestWarning: Unverified HTTPS request is being made to host 'api.notion.com'. Adding certificate verification is strongly advised. See: https://urllib3.readthedocs.io/en/latest/advanced-usage.html#tls-warnings\n",
      "  warnings.warn(\n"
     ]
    },
    {
     "name": "stdout",
     "output_type": "stream",
     "text": [
      "400\n"
     ]
    },
    {
     "name": "stderr",
     "output_type": "stream",
     "text": [
      "/Users/christian/Projects/Notion-Bookshelf/.venv/lib/python3.10/site-packages/urllib3/connectionpool.py:1099: InsecureRequestWarning: Unverified HTTPS request is being made to host 'api.notion.com'. Adding certificate verification is strongly advised. See: https://urllib3.readthedocs.io/en/latest/advanced-usage.html#tls-warnings\n",
      "  warnings.warn(\n"
     ]
    },
    {
     "name": "stdout",
     "output_type": "stream",
     "text": [
      "200\n"
     ]
    },
    {
     "name": "stderr",
     "output_type": "stream",
     "text": [
      "/Users/christian/Projects/Notion-Bookshelf/.venv/lib/python3.10/site-packages/urllib3/connectionpool.py:1099: InsecureRequestWarning: Unverified HTTPS request is being made to host 'api.notion.com'. Adding certificate verification is strongly advised. See: https://urllib3.readthedocs.io/en/latest/advanced-usage.html#tls-warnings\n",
      "  warnings.warn(\n"
     ]
    },
    {
     "name": "stdout",
     "output_type": "stream",
     "text": [
      "200\n"
     ]
    },
    {
     "name": "stderr",
     "output_type": "stream",
     "text": [
      "/Users/christian/Projects/Notion-Bookshelf/.venv/lib/python3.10/site-packages/urllib3/connectionpool.py:1099: InsecureRequestWarning: Unverified HTTPS request is being made to host 'api.notion.com'. Adding certificate verification is strongly advised. See: https://urllib3.readthedocs.io/en/latest/advanced-usage.html#tls-warnings\n",
      "  warnings.warn(\n"
     ]
    },
    {
     "name": "stdout",
     "output_type": "stream",
     "text": [
      "200\n"
     ]
    },
    {
     "name": "stderr",
     "output_type": "stream",
     "text": [
      "/Users/christian/Projects/Notion-Bookshelf/.venv/lib/python3.10/site-packages/urllib3/connectionpool.py:1099: InsecureRequestWarning: Unverified HTTPS request is being made to host 'api.notion.com'. Adding certificate verification is strongly advised. See: https://urllib3.readthedocs.io/en/latest/advanced-usage.html#tls-warnings\n",
      "  warnings.warn(\n"
     ]
    },
    {
     "name": "stdout",
     "output_type": "stream",
     "text": [
      "400\n"
     ]
    },
    {
     "name": "stderr",
     "output_type": "stream",
     "text": [
      "/Users/christian/Projects/Notion-Bookshelf/.venv/lib/python3.10/site-packages/urllib3/connectionpool.py:1099: InsecureRequestWarning: Unverified HTTPS request is being made to host 'api.notion.com'. Adding certificate verification is strongly advised. See: https://urllib3.readthedocs.io/en/latest/advanced-usage.html#tls-warnings\n",
      "  warnings.warn(\n"
     ]
    },
    {
     "name": "stdout",
     "output_type": "stream",
     "text": [
      "200\n"
     ]
    },
    {
     "name": "stderr",
     "output_type": "stream",
     "text": [
      "/Users/christian/Projects/Notion-Bookshelf/.venv/lib/python3.10/site-packages/urllib3/connectionpool.py:1099: InsecureRequestWarning: Unverified HTTPS request is being made to host 'api.notion.com'. Adding certificate verification is strongly advised. See: https://urllib3.readthedocs.io/en/latest/advanced-usage.html#tls-warnings\n",
      "  warnings.warn(\n"
     ]
    },
    {
     "name": "stdout",
     "output_type": "stream",
     "text": [
      "400\n"
     ]
    },
    {
     "name": "stderr",
     "output_type": "stream",
     "text": [
      "/Users/christian/Projects/Notion-Bookshelf/.venv/lib/python3.10/site-packages/urllib3/connectionpool.py:1099: InsecureRequestWarning: Unverified HTTPS request is being made to host 'api.notion.com'. Adding certificate verification is strongly advised. See: https://urllib3.readthedocs.io/en/latest/advanced-usage.html#tls-warnings\n",
      "  warnings.warn(\n"
     ]
    },
    {
     "name": "stdout",
     "output_type": "stream",
     "text": [
      "200\n"
     ]
    },
    {
     "name": "stderr",
     "output_type": "stream",
     "text": [
      "/Users/christian/Projects/Notion-Bookshelf/.venv/lib/python3.10/site-packages/urllib3/connectionpool.py:1099: InsecureRequestWarning: Unverified HTTPS request is being made to host 'api.notion.com'. Adding certificate verification is strongly advised. See: https://urllib3.readthedocs.io/en/latest/advanced-usage.html#tls-warnings\n",
      "  warnings.warn(\n"
     ]
    },
    {
     "name": "stdout",
     "output_type": "stream",
     "text": [
      "200\n"
     ]
    },
    {
     "name": "stderr",
     "output_type": "stream",
     "text": [
      "/Users/christian/Projects/Notion-Bookshelf/.venv/lib/python3.10/site-packages/urllib3/connectionpool.py:1099: InsecureRequestWarning: Unverified HTTPS request is being made to host 'api.notion.com'. Adding certificate verification is strongly advised. See: https://urllib3.readthedocs.io/en/latest/advanced-usage.html#tls-warnings\n",
      "  warnings.warn(\n"
     ]
    },
    {
     "name": "stdout",
     "output_type": "stream",
     "text": [
      "200\n"
     ]
    },
    {
     "name": "stderr",
     "output_type": "stream",
     "text": [
      "/Users/christian/Projects/Notion-Bookshelf/.venv/lib/python3.10/site-packages/urllib3/connectionpool.py:1099: InsecureRequestWarning: Unverified HTTPS request is being made to host 'api.notion.com'. Adding certificate verification is strongly advised. See: https://urllib3.readthedocs.io/en/latest/advanced-usage.html#tls-warnings\n",
      "  warnings.warn(\n"
     ]
    },
    {
     "name": "stdout",
     "output_type": "stream",
     "text": [
      "400\n"
     ]
    },
    {
     "name": "stderr",
     "output_type": "stream",
     "text": [
      "/Users/christian/Projects/Notion-Bookshelf/.venv/lib/python3.10/site-packages/urllib3/connectionpool.py:1099: InsecureRequestWarning: Unverified HTTPS request is being made to host 'api.notion.com'. Adding certificate verification is strongly advised. See: https://urllib3.readthedocs.io/en/latest/advanced-usage.html#tls-warnings\n",
      "  warnings.warn(\n"
     ]
    },
    {
     "name": "stdout",
     "output_type": "stream",
     "text": [
      "400\n"
     ]
    },
    {
     "name": "stderr",
     "output_type": "stream",
     "text": [
      "/Users/christian/Projects/Notion-Bookshelf/.venv/lib/python3.10/site-packages/urllib3/connectionpool.py:1099: InsecureRequestWarning: Unverified HTTPS request is being made to host 'api.notion.com'. Adding certificate verification is strongly advised. See: https://urllib3.readthedocs.io/en/latest/advanced-usage.html#tls-warnings\n",
      "  warnings.warn(\n"
     ]
    },
    {
     "name": "stdout",
     "output_type": "stream",
     "text": [
      "400\n"
     ]
    },
    {
     "name": "stderr",
     "output_type": "stream",
     "text": [
      "/Users/christian/Projects/Notion-Bookshelf/.venv/lib/python3.10/site-packages/urllib3/connectionpool.py:1099: InsecureRequestWarning: Unverified HTTPS request is being made to host 'api.notion.com'. Adding certificate verification is strongly advised. See: https://urllib3.readthedocs.io/en/latest/advanced-usage.html#tls-warnings\n",
      "  warnings.warn(\n"
     ]
    },
    {
     "name": "stdout",
     "output_type": "stream",
     "text": [
      "200\n"
     ]
    },
    {
     "name": "stderr",
     "output_type": "stream",
     "text": [
      "/Users/christian/Projects/Notion-Bookshelf/.venv/lib/python3.10/site-packages/urllib3/connectionpool.py:1099: InsecureRequestWarning: Unverified HTTPS request is being made to host 'api.notion.com'. Adding certificate verification is strongly advised. See: https://urllib3.readthedocs.io/en/latest/advanced-usage.html#tls-warnings\n",
      "  warnings.warn(\n"
     ]
    },
    {
     "name": "stdout",
     "output_type": "stream",
     "text": [
      "400\n"
     ]
    },
    {
     "name": "stderr",
     "output_type": "stream",
     "text": [
      "/Users/christian/Projects/Notion-Bookshelf/.venv/lib/python3.10/site-packages/urllib3/connectionpool.py:1099: InsecureRequestWarning: Unverified HTTPS request is being made to host 'api.notion.com'. Adding certificate verification is strongly advised. See: https://urllib3.readthedocs.io/en/latest/advanced-usage.html#tls-warnings\n",
      "  warnings.warn(\n"
     ]
    },
    {
     "name": "stdout",
     "output_type": "stream",
     "text": [
      "200\n"
     ]
    },
    {
     "name": "stderr",
     "output_type": "stream",
     "text": [
      "/Users/christian/Projects/Notion-Bookshelf/.venv/lib/python3.10/site-packages/urllib3/connectionpool.py:1099: InsecureRequestWarning: Unverified HTTPS request is being made to host 'api.notion.com'. Adding certificate verification is strongly advised. See: https://urllib3.readthedocs.io/en/latest/advanced-usage.html#tls-warnings\n",
      "  warnings.warn(\n"
     ]
    },
    {
     "name": "stdout",
     "output_type": "stream",
     "text": [
      "200\n"
     ]
    },
    {
     "name": "stderr",
     "output_type": "stream",
     "text": [
      "/Users/christian/Projects/Notion-Bookshelf/.venv/lib/python3.10/site-packages/urllib3/connectionpool.py:1099: InsecureRequestWarning: Unverified HTTPS request is being made to host 'api.notion.com'. Adding certificate verification is strongly advised. See: https://urllib3.readthedocs.io/en/latest/advanced-usage.html#tls-warnings\n",
      "  warnings.warn(\n"
     ]
    },
    {
     "name": "stdout",
     "output_type": "stream",
     "text": [
      "400\n"
     ]
    },
    {
     "name": "stderr",
     "output_type": "stream",
     "text": [
      "/Users/christian/Projects/Notion-Bookshelf/.venv/lib/python3.10/site-packages/urllib3/connectionpool.py:1099: InsecureRequestWarning: Unverified HTTPS request is being made to host 'api.notion.com'. Adding certificate verification is strongly advised. See: https://urllib3.readthedocs.io/en/latest/advanced-usage.html#tls-warnings\n",
      "  warnings.warn(\n"
     ]
    },
    {
     "name": "stdout",
     "output_type": "stream",
     "text": [
      "400\n"
     ]
    },
    {
     "name": "stderr",
     "output_type": "stream",
     "text": [
      "/Users/christian/Projects/Notion-Bookshelf/.venv/lib/python3.10/site-packages/urllib3/connectionpool.py:1099: InsecureRequestWarning: Unverified HTTPS request is being made to host 'api.notion.com'. Adding certificate verification is strongly advised. See: https://urllib3.readthedocs.io/en/latest/advanced-usage.html#tls-warnings\n",
      "  warnings.warn(\n"
     ]
    },
    {
     "name": "stdout",
     "output_type": "stream",
     "text": [
      "200\n"
     ]
    },
    {
     "name": "stderr",
     "output_type": "stream",
     "text": [
      "/Users/christian/Projects/Notion-Bookshelf/.venv/lib/python3.10/site-packages/urllib3/connectionpool.py:1099: InsecureRequestWarning: Unverified HTTPS request is being made to host 'api.notion.com'. Adding certificate verification is strongly advised. See: https://urllib3.readthedocs.io/en/latest/advanced-usage.html#tls-warnings\n",
      "  warnings.warn(\n"
     ]
    },
    {
     "name": "stdout",
     "output_type": "stream",
     "text": [
      "200\n"
     ]
    },
    {
     "name": "stderr",
     "output_type": "stream",
     "text": [
      "/Users/christian/Projects/Notion-Bookshelf/.venv/lib/python3.10/site-packages/urllib3/connectionpool.py:1099: InsecureRequestWarning: Unverified HTTPS request is being made to host 'api.notion.com'. Adding certificate verification is strongly advised. See: https://urllib3.readthedocs.io/en/latest/advanced-usage.html#tls-warnings\n",
      "  warnings.warn(\n"
     ]
    },
    {
     "name": "stdout",
     "output_type": "stream",
     "text": [
      "200\n"
     ]
    },
    {
     "name": "stderr",
     "output_type": "stream",
     "text": [
      "/Users/christian/Projects/Notion-Bookshelf/.venv/lib/python3.10/site-packages/urllib3/connectionpool.py:1099: InsecureRequestWarning: Unverified HTTPS request is being made to host 'api.notion.com'. Adding certificate verification is strongly advised. See: https://urllib3.readthedocs.io/en/latest/advanced-usage.html#tls-warnings\n",
      "  warnings.warn(\n"
     ]
    },
    {
     "name": "stdout",
     "output_type": "stream",
     "text": [
      "400\n"
     ]
    },
    {
     "name": "stderr",
     "output_type": "stream",
     "text": [
      "/Users/christian/Projects/Notion-Bookshelf/.venv/lib/python3.10/site-packages/urllib3/connectionpool.py:1099: InsecureRequestWarning: Unverified HTTPS request is being made to host 'api.notion.com'. Adding certificate verification is strongly advised. See: https://urllib3.readthedocs.io/en/latest/advanced-usage.html#tls-warnings\n",
      "  warnings.warn(\n"
     ]
    },
    {
     "name": "stdout",
     "output_type": "stream",
     "text": [
      "200\n"
     ]
    },
    {
     "name": "stderr",
     "output_type": "stream",
     "text": [
      "/Users/christian/Projects/Notion-Bookshelf/.venv/lib/python3.10/site-packages/urllib3/connectionpool.py:1099: InsecureRequestWarning: Unverified HTTPS request is being made to host 'api.notion.com'. Adding certificate verification is strongly advised. See: https://urllib3.readthedocs.io/en/latest/advanced-usage.html#tls-warnings\n",
      "  warnings.warn(\n"
     ]
    },
    {
     "name": "stdout",
     "output_type": "stream",
     "text": [
      "200\n"
     ]
    },
    {
     "name": "stderr",
     "output_type": "stream",
     "text": [
      "/Users/christian/Projects/Notion-Bookshelf/.venv/lib/python3.10/site-packages/urllib3/connectionpool.py:1099: InsecureRequestWarning: Unverified HTTPS request is being made to host 'api.notion.com'. Adding certificate verification is strongly advised. See: https://urllib3.readthedocs.io/en/latest/advanced-usage.html#tls-warnings\n",
      "  warnings.warn(\n"
     ]
    },
    {
     "name": "stdout",
     "output_type": "stream",
     "text": [
      "400\n"
     ]
    },
    {
     "name": "stderr",
     "output_type": "stream",
     "text": [
      "/Users/christian/Projects/Notion-Bookshelf/.venv/lib/python3.10/site-packages/urllib3/connectionpool.py:1099: InsecureRequestWarning: Unverified HTTPS request is being made to host 'api.notion.com'. Adding certificate verification is strongly advised. See: https://urllib3.readthedocs.io/en/latest/advanced-usage.html#tls-warnings\n",
      "  warnings.warn(\n"
     ]
    },
    {
     "name": "stdout",
     "output_type": "stream",
     "text": [
      "200\n"
     ]
    },
    {
     "name": "stderr",
     "output_type": "stream",
     "text": [
      "/Users/christian/Projects/Notion-Bookshelf/.venv/lib/python3.10/site-packages/urllib3/connectionpool.py:1099: InsecureRequestWarning: Unverified HTTPS request is being made to host 'api.notion.com'. Adding certificate verification is strongly advised. See: https://urllib3.readthedocs.io/en/latest/advanced-usage.html#tls-warnings\n",
      "  warnings.warn(\n"
     ]
    },
    {
     "name": "stdout",
     "output_type": "stream",
     "text": [
      "200\n"
     ]
    },
    {
     "name": "stderr",
     "output_type": "stream",
     "text": [
      "/Users/christian/Projects/Notion-Bookshelf/.venv/lib/python3.10/site-packages/urllib3/connectionpool.py:1099: InsecureRequestWarning: Unverified HTTPS request is being made to host 'api.notion.com'. Adding certificate verification is strongly advised. See: https://urllib3.readthedocs.io/en/latest/advanced-usage.html#tls-warnings\n",
      "  warnings.warn(\n"
     ]
    },
    {
     "name": "stdout",
     "output_type": "stream",
     "text": [
      "200\n"
     ]
    },
    {
     "name": "stderr",
     "output_type": "stream",
     "text": [
      "/Users/christian/Projects/Notion-Bookshelf/.venv/lib/python3.10/site-packages/urllib3/connectionpool.py:1099: InsecureRequestWarning: Unverified HTTPS request is being made to host 'api.notion.com'. Adding certificate verification is strongly advised. See: https://urllib3.readthedocs.io/en/latest/advanced-usage.html#tls-warnings\n",
      "  warnings.warn(\n"
     ]
    },
    {
     "name": "stdout",
     "output_type": "stream",
     "text": [
      "200\n"
     ]
    },
    {
     "name": "stderr",
     "output_type": "stream",
     "text": [
      "/Users/christian/Projects/Notion-Bookshelf/.venv/lib/python3.10/site-packages/urllib3/connectionpool.py:1099: InsecureRequestWarning: Unverified HTTPS request is being made to host 'api.notion.com'. Adding certificate verification is strongly advised. See: https://urllib3.readthedocs.io/en/latest/advanced-usage.html#tls-warnings\n",
      "  warnings.warn(\n"
     ]
    },
    {
     "name": "stdout",
     "output_type": "stream",
     "text": [
      "200\n"
     ]
    },
    {
     "name": "stderr",
     "output_type": "stream",
     "text": [
      "/Users/christian/Projects/Notion-Bookshelf/.venv/lib/python3.10/site-packages/urllib3/connectionpool.py:1099: InsecureRequestWarning: Unverified HTTPS request is being made to host 'api.notion.com'. Adding certificate verification is strongly advised. See: https://urllib3.readthedocs.io/en/latest/advanced-usage.html#tls-warnings\n",
      "  warnings.warn(\n"
     ]
    },
    {
     "name": "stdout",
     "output_type": "stream",
     "text": [
      "200\n"
     ]
    },
    {
     "name": "stderr",
     "output_type": "stream",
     "text": [
      "/Users/christian/Projects/Notion-Bookshelf/.venv/lib/python3.10/site-packages/urllib3/connectionpool.py:1099: InsecureRequestWarning: Unverified HTTPS request is being made to host 'api.notion.com'. Adding certificate verification is strongly advised. See: https://urllib3.readthedocs.io/en/latest/advanced-usage.html#tls-warnings\n",
      "  warnings.warn(\n"
     ]
    },
    {
     "name": "stdout",
     "output_type": "stream",
     "text": [
      "200\n"
     ]
    },
    {
     "name": "stderr",
     "output_type": "stream",
     "text": [
      "/Users/christian/Projects/Notion-Bookshelf/.venv/lib/python3.10/site-packages/urllib3/connectionpool.py:1099: InsecureRequestWarning: Unverified HTTPS request is being made to host 'api.notion.com'. Adding certificate verification is strongly advised. See: https://urllib3.readthedocs.io/en/latest/advanced-usage.html#tls-warnings\n",
      "  warnings.warn(\n"
     ]
    },
    {
     "name": "stdout",
     "output_type": "stream",
     "text": [
      "200\n"
     ]
    },
    {
     "name": "stderr",
     "output_type": "stream",
     "text": [
      "/Users/christian/Projects/Notion-Bookshelf/.venv/lib/python3.10/site-packages/urllib3/connectionpool.py:1099: InsecureRequestWarning: Unverified HTTPS request is being made to host 'api.notion.com'. Adding certificate verification is strongly advised. See: https://urllib3.readthedocs.io/en/latest/advanced-usage.html#tls-warnings\n",
      "  warnings.warn(\n"
     ]
    },
    {
     "name": "stdout",
     "output_type": "stream",
     "text": [
      "200\n"
     ]
    },
    {
     "name": "stderr",
     "output_type": "stream",
     "text": [
      "/Users/christian/Projects/Notion-Bookshelf/.venv/lib/python3.10/site-packages/urllib3/connectionpool.py:1099: InsecureRequestWarning: Unverified HTTPS request is being made to host 'api.notion.com'. Adding certificate verification is strongly advised. See: https://urllib3.readthedocs.io/en/latest/advanced-usage.html#tls-warnings\n",
      "  warnings.warn(\n"
     ]
    },
    {
     "name": "stdout",
     "output_type": "stream",
     "text": [
      "400\n"
     ]
    },
    {
     "name": "stderr",
     "output_type": "stream",
     "text": [
      "/Users/christian/Projects/Notion-Bookshelf/.venv/lib/python3.10/site-packages/urllib3/connectionpool.py:1099: InsecureRequestWarning: Unverified HTTPS request is being made to host 'api.notion.com'. Adding certificate verification is strongly advised. See: https://urllib3.readthedocs.io/en/latest/advanced-usage.html#tls-warnings\n",
      "  warnings.warn(\n"
     ]
    },
    {
     "name": "stdout",
     "output_type": "stream",
     "text": [
      "200\n"
     ]
    }
   ],
   "source": [
    "# Update Number of Summary\n",
    "property_name = 'Summary'\n",
    "property_type = \"rich_text\"\n",
    "data_column = 'volumeInfo.description'\n",
    "\n",
    "for i in look_up['page_id'].index:\n",
    "   # if math.isnan(look_up['Link'][i]):\n",
    "    update_properties(property_name, property_type, data_column)"
   ]
  },
  {
   "cell_type": "markdown",
   "id": "2c51d5bf",
   "metadata": {},
   "source": [
    "### Update Icons for pages to thumbnail images from Google Boooks"
   ]
  },
  {
   "cell_type": "code",
   "execution_count": 104,
   "id": "91f3bec3",
   "metadata": {},
   "outputs": [],
   "source": [
    "# Update icons for pages\n",
    "data_column = 'volumeInfo.imageLinks.smallThumbnail'\n",
    "\n",
    "\n",
    "def update_page_icon(i, data_column, icon_or_cover):\n",
    "\n",
    "    page_id = look_up['page_id'][i]\n",
    "    property_value = look_up[data_column][i]\n",
    "\n",
    "    url = f\"https://api.notion.com/v1/pages/{page_id}\"\n",
    "\n",
    "    payload = json.dumps({icon_or_cover: {\n",
    "        \"type\": \"external\",\n",
    "        \"external\": {\n",
    "                \"url\": property_value\n",
    "        }}})\n",
    "    print(payload)\n",
    "\n",
    "    headers = {\n",
    "        'Content-Type': 'application/json',\n",
    "        'Notion-Version': '2021-05-13',\n",
    "        'Authorization': f'Bearer {secret_key}'\n",
    "    }\n",
    "\n",
    "    response = requests.request(\n",
    "        \"PATCH\", url, headers=headers, data=payload, verify=False)\n",
    "    print(response.status_code)\n",
    "    print(response.json)"
   ]
  },
  {
   "cell_type": "code",
   "execution_count": 105,
   "id": "7b5abb34",
   "metadata": {},
   "outputs": [
    {
     "name": "stdout",
     "output_type": "stream",
     "text": [
      "{\"icon\": {\"type\": \"external\", \"external\": {\"url\": \"http://books.google.com/books/content?id=Vqw2DQAAQBAJ&printsec=frontcover&img=1&zoom=5&edge=curl&source=gbs_api\"}}}\n"
     ]
    },
    {
     "name": "stderr",
     "output_type": "stream",
     "text": [
      "/Users/christian/Projects/Notion-Bookshelf/.venv/lib/python3.10/site-packages/urllib3/connectionpool.py:1099: InsecureRequestWarning: Unverified HTTPS request is being made to host 'api.notion.com'. Adding certificate verification is strongly advised. See: https://urllib3.readthedocs.io/en/latest/advanced-usage.html#tls-warnings\n",
      "  warnings.warn(\n"
     ]
    },
    {
     "name": "stdout",
     "output_type": "stream",
     "text": [
      "200\n",
      "<bound method Response.json of <Response [200]>>\n",
      "{\"icon\": {\"type\": \"external\", \"external\": {\"url\": \"http://books.google.com/books/content?id=uiiVDwAAQBAJ&printsec=frontcover&img=1&zoom=5&edge=curl&source=gbs_api\"}}}\n"
     ]
    },
    {
     "name": "stderr",
     "output_type": "stream",
     "text": [
      "/Users/christian/Projects/Notion-Bookshelf/.venv/lib/python3.10/site-packages/urllib3/connectionpool.py:1099: InsecureRequestWarning: Unverified HTTPS request is being made to host 'api.notion.com'. Adding certificate verification is strongly advised. See: https://urllib3.readthedocs.io/en/latest/advanced-usage.html#tls-warnings\n",
      "  warnings.warn(\n"
     ]
    },
    {
     "name": "stdout",
     "output_type": "stream",
     "text": [
      "200\n",
      "<bound method Response.json of <Response [200]>>\n",
      "{\"icon\": {\"type\": \"external\", \"external\": {\"url\": \"http://books.google.com/books/content?id=BYy8DQAAQBAJ&printsec=frontcover&img=1&zoom=5&edge=curl&source=gbs_api\"}}}\n"
     ]
    },
    {
     "name": "stderr",
     "output_type": "stream",
     "text": [
      "/Users/christian/Projects/Notion-Bookshelf/.venv/lib/python3.10/site-packages/urllib3/connectionpool.py:1099: InsecureRequestWarning: Unverified HTTPS request is being made to host 'api.notion.com'. Adding certificate verification is strongly advised. See: https://urllib3.readthedocs.io/en/latest/advanced-usage.html#tls-warnings\n",
      "  warnings.warn(\n"
     ]
    },
    {
     "name": "stdout",
     "output_type": "stream",
     "text": [
      "200\n",
      "<bound method Response.json of <Response [200]>>\n",
      "{\"icon\": {\"type\": \"external\", \"external\": {\"url\": \"http://books.google.com/books/content?id=nGIGEAAAQBAJ&printsec=frontcover&img=1&zoom=5&edge=curl&source=gbs_api\"}}}\n"
     ]
    },
    {
     "name": "stderr",
     "output_type": "stream",
     "text": [
      "/Users/christian/Projects/Notion-Bookshelf/.venv/lib/python3.10/site-packages/urllib3/connectionpool.py:1099: InsecureRequestWarning: Unverified HTTPS request is being made to host 'api.notion.com'. Adding certificate verification is strongly advised. See: https://urllib3.readthedocs.io/en/latest/advanced-usage.html#tls-warnings\n",
      "  warnings.warn(\n"
     ]
    },
    {
     "name": "stdout",
     "output_type": "stream",
     "text": [
      "200\n",
      "<bound method Response.json of <Response [200]>>\n",
      "{\"icon\": {\"type\": \"external\", \"external\": {\"url\": \"http://books.google.com/books/content?id=PKblaoSFmPUC&printsec=frontcover&img=1&zoom=5&edge=curl&source=gbs_api\"}}}\n"
     ]
    },
    {
     "name": "stderr",
     "output_type": "stream",
     "text": [
      "/Users/christian/Projects/Notion-Bookshelf/.venv/lib/python3.10/site-packages/urllib3/connectionpool.py:1099: InsecureRequestWarning: Unverified HTTPS request is being made to host 'api.notion.com'. Adding certificate verification is strongly advised. See: https://urllib3.readthedocs.io/en/latest/advanced-usage.html#tls-warnings\n",
      "  warnings.warn(\n"
     ]
    },
    {
     "name": "stdout",
     "output_type": "stream",
     "text": [
      "200\n",
      "<bound method Response.json of <Response [200]>>\n",
      "{\"icon\": {\"type\": \"external\", \"external\": {\"url\": \"http://books.google.com/books/content?id=6nLiEAAAQBAJ&printsec=frontcover&img=1&zoom=5&edge=curl&source=gbs_api\"}}}\n"
     ]
    },
    {
     "name": "stderr",
     "output_type": "stream",
     "text": [
      "/Users/christian/Projects/Notion-Bookshelf/.venv/lib/python3.10/site-packages/urllib3/connectionpool.py:1099: InsecureRequestWarning: Unverified HTTPS request is being made to host 'api.notion.com'. Adding certificate verification is strongly advised. See: https://urllib3.readthedocs.io/en/latest/advanced-usage.html#tls-warnings\n",
      "  warnings.warn(\n"
     ]
    },
    {
     "name": "stdout",
     "output_type": "stream",
     "text": [
      "200\n",
      "<bound method Response.json of <Response [200]>>\n",
      "{\"icon\": {\"type\": \"external\", \"external\": {\"url\": NaN}}}\n"
     ]
    },
    {
     "name": "stderr",
     "output_type": "stream",
     "text": [
      "/Users/christian/Projects/Notion-Bookshelf/.venv/lib/python3.10/site-packages/urllib3/connectionpool.py:1099: InsecureRequestWarning: Unverified HTTPS request is being made to host 'api.notion.com'. Adding certificate verification is strongly advised. See: https://urllib3.readthedocs.io/en/latest/advanced-usage.html#tls-warnings\n",
      "  warnings.warn(\n"
     ]
    },
    {
     "name": "stdout",
     "output_type": "stream",
     "text": [
      "400\n",
      "<bound method Response.json of <Response [400]>>\n",
      "{\"icon\": {\"type\": \"external\", \"external\": {\"url\": \"http://books.google.com/books/content?id=trxEAwAAQBAJ&printsec=frontcover&img=1&zoom=5&edge=curl&source=gbs_api\"}}}\n"
     ]
    },
    {
     "name": "stderr",
     "output_type": "stream",
     "text": [
      "/Users/christian/Projects/Notion-Bookshelf/.venv/lib/python3.10/site-packages/urllib3/connectionpool.py:1099: InsecureRequestWarning: Unverified HTTPS request is being made to host 'api.notion.com'. Adding certificate verification is strongly advised. See: https://urllib3.readthedocs.io/en/latest/advanced-usage.html#tls-warnings\n",
      "  warnings.warn(\n"
     ]
    },
    {
     "name": "stdout",
     "output_type": "stream",
     "text": [
      "200\n",
      "<bound method Response.json of <Response [200]>>\n",
      "{\"icon\": {\"type\": \"external\", \"external\": {\"url\": \"http://books.google.com/books/content?id=-K5JEAAAQBAJ&printsec=frontcover&img=1&zoom=5&edge=curl&source=gbs_api\"}}}\n"
     ]
    },
    {
     "name": "stderr",
     "output_type": "stream",
     "text": [
      "/Users/christian/Projects/Notion-Bookshelf/.venv/lib/python3.10/site-packages/urllib3/connectionpool.py:1099: InsecureRequestWarning: Unverified HTTPS request is being made to host 'api.notion.com'. Adding certificate verification is strongly advised. See: https://urllib3.readthedocs.io/en/latest/advanced-usage.html#tls-warnings\n",
      "  warnings.warn(\n"
     ]
    },
    {
     "name": "stdout",
     "output_type": "stream",
     "text": [
      "200\n",
      "<bound method Response.json of <Response [200]>>\n",
      "{\"icon\": {\"type\": \"external\", \"external\": {\"url\": \"http://books.google.com/books/content?id=j-j4uQEACAAJ&printsec=frontcover&img=1&zoom=5&source=gbs_api\"}}}\n"
     ]
    },
    {
     "name": "stderr",
     "output_type": "stream",
     "text": [
      "/Users/christian/Projects/Notion-Bookshelf/.venv/lib/python3.10/site-packages/urllib3/connectionpool.py:1099: InsecureRequestWarning: Unverified HTTPS request is being made to host 'api.notion.com'. Adding certificate verification is strongly advised. See: https://urllib3.readthedocs.io/en/latest/advanced-usage.html#tls-warnings\n",
      "  warnings.warn(\n"
     ]
    },
    {
     "name": "stdout",
     "output_type": "stream",
     "text": [
      "200\n",
      "<bound method Response.json of <Response [200]>>\n",
      "{\"icon\": {\"type\": \"external\", \"external\": {\"url\": \"http://books.google.com/books/content?id=IsuqmVlFo30C&printsec=frontcover&img=1&zoom=5&edge=curl&source=gbs_api\"}}}\n"
     ]
    },
    {
     "name": "stderr",
     "output_type": "stream",
     "text": [
      "/Users/christian/Projects/Notion-Bookshelf/.venv/lib/python3.10/site-packages/urllib3/connectionpool.py:1099: InsecureRequestWarning: Unverified HTTPS request is being made to host 'api.notion.com'. Adding certificate verification is strongly advised. See: https://urllib3.readthedocs.io/en/latest/advanced-usage.html#tls-warnings\n",
      "  warnings.warn(\n"
     ]
    },
    {
     "name": "stdout",
     "output_type": "stream",
     "text": [
      "200\n",
      "<bound method Response.json of <Response [200]>>\n",
      "{\"icon\": {\"type\": \"external\", \"external\": {\"url\": \"http://books.google.com/books/content?id=CL2JDwAAQBAJ&printsec=frontcover&img=1&zoom=5&edge=curl&source=gbs_api\"}}}\n"
     ]
    },
    {
     "name": "stderr",
     "output_type": "stream",
     "text": [
      "/Users/christian/Projects/Notion-Bookshelf/.venv/lib/python3.10/site-packages/urllib3/connectionpool.py:1099: InsecureRequestWarning: Unverified HTTPS request is being made to host 'api.notion.com'. Adding certificate verification is strongly advised. See: https://urllib3.readthedocs.io/en/latest/advanced-usage.html#tls-warnings\n",
      "  warnings.warn(\n"
     ]
    },
    {
     "name": "stdout",
     "output_type": "stream",
     "text": [
      "200\n",
      "<bound method Response.json of <Response [200]>>\n",
      "{\"icon\": {\"type\": \"external\", \"external\": {\"url\": NaN}}}\n"
     ]
    },
    {
     "name": "stderr",
     "output_type": "stream",
     "text": [
      "/Users/christian/Projects/Notion-Bookshelf/.venv/lib/python3.10/site-packages/urllib3/connectionpool.py:1099: InsecureRequestWarning: Unverified HTTPS request is being made to host 'api.notion.com'. Adding certificate verification is strongly advised. See: https://urllib3.readthedocs.io/en/latest/advanced-usage.html#tls-warnings\n",
      "  warnings.warn(\n"
     ]
    },
    {
     "name": "stdout",
     "output_type": "stream",
     "text": [
      "400\n",
      "<bound method Response.json of <Response [400]>>\n",
      "{\"icon\": {\"type\": \"external\", \"external\": {\"url\": \"http://books.google.com/books/content?id=qw7jEAAAQBAJ&printsec=frontcover&img=1&zoom=5&edge=curl&source=gbs_api\"}}}\n"
     ]
    },
    {
     "name": "stderr",
     "output_type": "stream",
     "text": [
      "/Users/christian/Projects/Notion-Bookshelf/.venv/lib/python3.10/site-packages/urllib3/connectionpool.py:1099: InsecureRequestWarning: Unverified HTTPS request is being made to host 'api.notion.com'. Adding certificate verification is strongly advised. See: https://urllib3.readthedocs.io/en/latest/advanced-usage.html#tls-warnings\n",
      "  warnings.warn(\n"
     ]
    },
    {
     "name": "stdout",
     "output_type": "stream",
     "text": [
      "200\n",
      "<bound method Response.json of <Response [200]>>\n",
      "{\"icon\": {\"type\": \"external\", \"external\": {\"url\": \"http://books.google.com/books/content?id=wa9QMQAACAAJ&printsec=frontcover&img=1&zoom=5&source=gbs_api\"}}}\n"
     ]
    },
    {
     "name": "stderr",
     "output_type": "stream",
     "text": [
      "/Users/christian/Projects/Notion-Bookshelf/.venv/lib/python3.10/site-packages/urllib3/connectionpool.py:1099: InsecureRequestWarning: Unverified HTTPS request is being made to host 'api.notion.com'. Adding certificate verification is strongly advised. See: https://urllib3.readthedocs.io/en/latest/advanced-usage.html#tls-warnings\n",
      "  warnings.warn(\n"
     ]
    },
    {
     "name": "stdout",
     "output_type": "stream",
     "text": [
      "200\n",
      "<bound method Response.json of <Response [200]>>\n",
      "{\"icon\": {\"type\": \"external\", \"external\": {\"url\": \"http://books.google.com/books/content?id=p3nADwAAQBAJ&printsec=frontcover&img=1&zoom=5&edge=curl&source=gbs_api\"}}}\n"
     ]
    },
    {
     "name": "stderr",
     "output_type": "stream",
     "text": [
      "/Users/christian/Projects/Notion-Bookshelf/.venv/lib/python3.10/site-packages/urllib3/connectionpool.py:1099: InsecureRequestWarning: Unverified HTTPS request is being made to host 'api.notion.com'. Adding certificate verification is strongly advised. See: https://urllib3.readthedocs.io/en/latest/advanced-usage.html#tls-warnings\n",
      "  warnings.warn(\n"
     ]
    },
    {
     "name": "stdout",
     "output_type": "stream",
     "text": [
      "200\n",
      "<bound method Response.json of <Response [200]>>\n",
      "{\"icon\": {\"type\": \"external\", \"external\": {\"url\": \"http://books.google.com/books/content?id=T7y6EAAAQBAJ&printsec=frontcover&img=1&zoom=5&edge=curl&source=gbs_api\"}}}\n"
     ]
    },
    {
     "name": "stderr",
     "output_type": "stream",
     "text": [
      "/Users/christian/Projects/Notion-Bookshelf/.venv/lib/python3.10/site-packages/urllib3/connectionpool.py:1099: InsecureRequestWarning: Unverified HTTPS request is being made to host 'api.notion.com'. Adding certificate verification is strongly advised. See: https://urllib3.readthedocs.io/en/latest/advanced-usage.html#tls-warnings\n",
      "  warnings.warn(\n"
     ]
    },
    {
     "name": "stdout",
     "output_type": "stream",
     "text": [
      "200\n",
      "<bound method Response.json of <Response [200]>>\n",
      "{\"icon\": {\"type\": \"external\", \"external\": {\"url\": \"http://books.google.com/books/content?id=8wuvDwAAQBAJ&printsec=frontcover&img=1&zoom=5&edge=curl&source=gbs_api\"}}}\n"
     ]
    },
    {
     "name": "stderr",
     "output_type": "stream",
     "text": [
      "/Users/christian/Projects/Notion-Bookshelf/.venv/lib/python3.10/site-packages/urllib3/connectionpool.py:1099: InsecureRequestWarning: Unverified HTTPS request is being made to host 'api.notion.com'. Adding certificate verification is strongly advised. See: https://urllib3.readthedocs.io/en/latest/advanced-usage.html#tls-warnings\n",
      "  warnings.warn(\n"
     ]
    },
    {
     "name": "stdout",
     "output_type": "stream",
     "text": [
      "200\n",
      "<bound method Response.json of <Response [200]>>\n",
      "{\"icon\": {\"type\": \"external\", \"external\": {\"url\": \"http://books.google.com/books/content?id=U7W5wauRc_MC&printsec=frontcover&img=1&zoom=5&edge=curl&source=gbs_api\"}}}\n"
     ]
    },
    {
     "name": "stderr",
     "output_type": "stream",
     "text": [
      "/Users/christian/Projects/Notion-Bookshelf/.venv/lib/python3.10/site-packages/urllib3/connectionpool.py:1099: InsecureRequestWarning: Unverified HTTPS request is being made to host 'api.notion.com'. Adding certificate verification is strongly advised. See: https://urllib3.readthedocs.io/en/latest/advanced-usage.html#tls-warnings\n",
      "  warnings.warn(\n"
     ]
    },
    {
     "name": "stdout",
     "output_type": "stream",
     "text": [
      "200\n",
      "<bound method Response.json of <Response [200]>>\n",
      "{\"icon\": {\"type\": \"external\", \"external\": {\"url\": NaN}}}\n"
     ]
    },
    {
     "name": "stderr",
     "output_type": "stream",
     "text": [
      "/Users/christian/Projects/Notion-Bookshelf/.venv/lib/python3.10/site-packages/urllib3/connectionpool.py:1099: InsecureRequestWarning: Unverified HTTPS request is being made to host 'api.notion.com'. Adding certificate verification is strongly advised. See: https://urllib3.readthedocs.io/en/latest/advanced-usage.html#tls-warnings\n",
      "  warnings.warn(\n"
     ]
    },
    {
     "name": "stdout",
     "output_type": "stream",
     "text": [
      "400\n",
      "<bound method Response.json of <Response [400]>>\n",
      "{\"icon\": {\"type\": \"external\", \"external\": {\"url\": NaN}}}\n"
     ]
    },
    {
     "name": "stderr",
     "output_type": "stream",
     "text": [
      "/Users/christian/Projects/Notion-Bookshelf/.venv/lib/python3.10/site-packages/urllib3/connectionpool.py:1099: InsecureRequestWarning: Unverified HTTPS request is being made to host 'api.notion.com'. Adding certificate verification is strongly advised. See: https://urllib3.readthedocs.io/en/latest/advanced-usage.html#tls-warnings\n",
      "  warnings.warn(\n"
     ]
    },
    {
     "name": "stdout",
     "output_type": "stream",
     "text": [
      "400\n",
      "<bound method Response.json of <Response [400]>>\n",
      "{\"icon\": {\"type\": \"external\", \"external\": {\"url\": \"http://books.google.com/books/content?id=nXsmDQAAQBAJ&printsec=frontcover&img=1&zoom=5&edge=curl&source=gbs_api\"}}}\n"
     ]
    },
    {
     "name": "stderr",
     "output_type": "stream",
     "text": [
      "/Users/christian/Projects/Notion-Bookshelf/.venv/lib/python3.10/site-packages/urllib3/connectionpool.py:1099: InsecureRequestWarning: Unverified HTTPS request is being made to host 'api.notion.com'. Adding certificate verification is strongly advised. See: https://urllib3.readthedocs.io/en/latest/advanced-usage.html#tls-warnings\n",
      "  warnings.warn(\n"
     ]
    },
    {
     "name": "stdout",
     "output_type": "stream",
     "text": [
      "200\n",
      "<bound method Response.json of <Response [200]>>\n",
      "{\"icon\": {\"type\": \"external\", \"external\": {\"url\": \"http://books.google.com/books/content?id=KDd0EAAAQBAJ&printsec=frontcover&img=1&zoom=5&edge=curl&source=gbs_api\"}}}\n"
     ]
    },
    {
     "name": "stderr",
     "output_type": "stream",
     "text": [
      "/Users/christian/Projects/Notion-Bookshelf/.venv/lib/python3.10/site-packages/urllib3/connectionpool.py:1099: InsecureRequestWarning: Unverified HTTPS request is being made to host 'api.notion.com'. Adding certificate verification is strongly advised. See: https://urllib3.readthedocs.io/en/latest/advanced-usage.html#tls-warnings\n",
      "  warnings.warn(\n"
     ]
    },
    {
     "name": "stdout",
     "output_type": "stream",
     "text": [
      "200\n",
      "<bound method Response.json of <Response [200]>>\n",
      "{\"icon\": {\"type\": \"external\", \"external\": {\"url\": NaN}}}\n"
     ]
    },
    {
     "name": "stderr",
     "output_type": "stream",
     "text": [
      "/Users/christian/Projects/Notion-Bookshelf/.venv/lib/python3.10/site-packages/urllib3/connectionpool.py:1099: InsecureRequestWarning: Unverified HTTPS request is being made to host 'api.notion.com'. Adding certificate verification is strongly advised. See: https://urllib3.readthedocs.io/en/latest/advanced-usage.html#tls-warnings\n",
      "  warnings.warn(\n"
     ]
    },
    {
     "name": "stdout",
     "output_type": "stream",
     "text": [
      "400\n",
      "<bound method Response.json of <Response [400]>>\n",
      "{\"icon\": {\"type\": \"external\", \"external\": {\"url\": \"http://books.google.com/books/content?id=cijcDwAAQBAJ&printsec=frontcover&img=1&zoom=5&edge=curl&source=gbs_api\"}}}\n"
     ]
    },
    {
     "name": "stderr",
     "output_type": "stream",
     "text": [
      "/Users/christian/Projects/Notion-Bookshelf/.venv/lib/python3.10/site-packages/urllib3/connectionpool.py:1099: InsecureRequestWarning: Unverified HTTPS request is being made to host 'api.notion.com'. Adding certificate verification is strongly advised. See: https://urllib3.readthedocs.io/en/latest/advanced-usage.html#tls-warnings\n",
      "  warnings.warn(\n"
     ]
    },
    {
     "name": "stdout",
     "output_type": "stream",
     "text": [
      "200\n",
      "<bound method Response.json of <Response [200]>>\n",
      "{\"icon\": {\"type\": \"external\", \"external\": {\"url\": \"http://books.google.com/books/content?id=riFQAgAAQBAJ&printsec=frontcover&img=1&zoom=5&edge=curl&source=gbs_api\"}}}\n"
     ]
    },
    {
     "name": "stderr",
     "output_type": "stream",
     "text": [
      "/Users/christian/Projects/Notion-Bookshelf/.venv/lib/python3.10/site-packages/urllib3/connectionpool.py:1099: InsecureRequestWarning: Unverified HTTPS request is being made to host 'api.notion.com'. Adding certificate verification is strongly advised. See: https://urllib3.readthedocs.io/en/latest/advanced-usage.html#tls-warnings\n",
      "  warnings.warn(\n"
     ]
    },
    {
     "name": "stdout",
     "output_type": "stream",
     "text": [
      "200\n",
      "<bound method Response.json of <Response [200]>>\n",
      "{\"icon\": {\"type\": \"external\", \"external\": {\"url\": \"http://books.google.com/books/content?id=tIm2EAAAQBAJ&printsec=frontcover&img=1&zoom=5&edge=curl&source=gbs_api\"}}}\n"
     ]
    },
    {
     "name": "stderr",
     "output_type": "stream",
     "text": [
      "/Users/christian/Projects/Notion-Bookshelf/.venv/lib/python3.10/site-packages/urllib3/connectionpool.py:1099: InsecureRequestWarning: Unverified HTTPS request is being made to host 'api.notion.com'. Adding certificate verification is strongly advised. See: https://urllib3.readthedocs.io/en/latest/advanced-usage.html#tls-warnings\n",
      "  warnings.warn(\n"
     ]
    },
    {
     "name": "stdout",
     "output_type": "stream",
     "text": [
      "200\n",
      "<bound method Response.json of <Response [200]>>\n",
      "{\"icon\": {\"type\": \"external\", \"external\": {\"url\": NaN}}}\n"
     ]
    },
    {
     "name": "stderr",
     "output_type": "stream",
     "text": [
      "/Users/christian/Projects/Notion-Bookshelf/.venv/lib/python3.10/site-packages/urllib3/connectionpool.py:1099: InsecureRequestWarning: Unverified HTTPS request is being made to host 'api.notion.com'. Adding certificate verification is strongly advised. See: https://urllib3.readthedocs.io/en/latest/advanced-usage.html#tls-warnings\n",
      "  warnings.warn(\n"
     ]
    },
    {
     "name": "stdout",
     "output_type": "stream",
     "text": [
      "400\n",
      "<bound method Response.json of <Response [400]>>\n",
      "{\"icon\": {\"type\": \"external\", \"external\": {\"url\": \"http://books.google.com/books/content?id=y0M3AQAAIAAJ&printsec=frontcover&img=1&zoom=5&edge=curl&source=gbs_api\"}}}\n"
     ]
    },
    {
     "name": "stderr",
     "output_type": "stream",
     "text": [
      "/Users/christian/Projects/Notion-Bookshelf/.venv/lib/python3.10/site-packages/urllib3/connectionpool.py:1099: InsecureRequestWarning: Unverified HTTPS request is being made to host 'api.notion.com'. Adding certificate verification is strongly advised. See: https://urllib3.readthedocs.io/en/latest/advanced-usage.html#tls-warnings\n",
      "  warnings.warn(\n"
     ]
    },
    {
     "name": "stdout",
     "output_type": "stream",
     "text": [
      "200\n",
      "<bound method Response.json of <Response [200]>>\n",
      "{\"icon\": {\"type\": \"external\", \"external\": {\"url\": NaN}}}\n"
     ]
    },
    {
     "name": "stderr",
     "output_type": "stream",
     "text": [
      "/Users/christian/Projects/Notion-Bookshelf/.venv/lib/python3.10/site-packages/urllib3/connectionpool.py:1099: InsecureRequestWarning: Unverified HTTPS request is being made to host 'api.notion.com'. Adding certificate verification is strongly advised. See: https://urllib3.readthedocs.io/en/latest/advanced-usage.html#tls-warnings\n",
      "  warnings.warn(\n"
     ]
    },
    {
     "name": "stdout",
     "output_type": "stream",
     "text": [
      "400\n",
      "<bound method Response.json of <Response [400]>>\n",
      "{\"icon\": {\"type\": \"external\", \"external\": {\"url\": \"http://books.google.com/books/content?id=VZTwDwAAQBAJ&printsec=frontcover&img=1&zoom=5&edge=curl&source=gbs_api\"}}}\n"
     ]
    },
    {
     "name": "stderr",
     "output_type": "stream",
     "text": [
      "/Users/christian/Projects/Notion-Bookshelf/.venv/lib/python3.10/site-packages/urllib3/connectionpool.py:1099: InsecureRequestWarning: Unverified HTTPS request is being made to host 'api.notion.com'. Adding certificate verification is strongly advised. See: https://urllib3.readthedocs.io/en/latest/advanced-usage.html#tls-warnings\n",
      "  warnings.warn(\n"
     ]
    },
    {
     "name": "stdout",
     "output_type": "stream",
     "text": [
      "200\n",
      "<bound method Response.json of <Response [200]>>\n",
      "{\"icon\": {\"type\": \"external\", \"external\": {\"url\": NaN}}}\n"
     ]
    },
    {
     "name": "stderr",
     "output_type": "stream",
     "text": [
      "/Users/christian/Projects/Notion-Bookshelf/.venv/lib/python3.10/site-packages/urllib3/connectionpool.py:1099: InsecureRequestWarning: Unverified HTTPS request is being made to host 'api.notion.com'. Adding certificate verification is strongly advised. See: https://urllib3.readthedocs.io/en/latest/advanced-usage.html#tls-warnings\n",
      "  warnings.warn(\n"
     ]
    },
    {
     "name": "stdout",
     "output_type": "stream",
     "text": [
      "400\n",
      "<bound method Response.json of <Response [400]>>\n",
      "{\"icon\": {\"type\": \"external\", \"external\": {\"url\": \"http://books.google.com/books/content?id=pxKTDwAAQBAJ&printsec=frontcover&img=1&zoom=5&edge=curl&source=gbs_api\"}}}\n"
     ]
    },
    {
     "name": "stderr",
     "output_type": "stream",
     "text": [
      "/Users/christian/Projects/Notion-Bookshelf/.venv/lib/python3.10/site-packages/urllib3/connectionpool.py:1099: InsecureRequestWarning: Unverified HTTPS request is being made to host 'api.notion.com'. Adding certificate verification is strongly advised. See: https://urllib3.readthedocs.io/en/latest/advanced-usage.html#tls-warnings\n",
      "  warnings.warn(\n"
     ]
    },
    {
     "name": "stdout",
     "output_type": "stream",
     "text": [
      "200\n",
      "<bound method Response.json of <Response [200]>>\n",
      "{\"icon\": {\"type\": \"external\", \"external\": {\"url\": \"http://books.google.com/books/content?id=R7rEDwAAQBAJ&printsec=frontcover&img=1&zoom=5&edge=curl&source=gbs_api\"}}}\n"
     ]
    },
    {
     "name": "stderr",
     "output_type": "stream",
     "text": [
      "/Users/christian/Projects/Notion-Bookshelf/.venv/lib/python3.10/site-packages/urllib3/connectionpool.py:1099: InsecureRequestWarning: Unverified HTTPS request is being made to host 'api.notion.com'. Adding certificate verification is strongly advised. See: https://urllib3.readthedocs.io/en/latest/advanced-usage.html#tls-warnings\n",
      "  warnings.warn(\n"
     ]
    },
    {
     "name": "stdout",
     "output_type": "stream",
     "text": [
      "200\n",
      "<bound method Response.json of <Response [200]>>\n",
      "{\"icon\": {\"type\": \"external\", \"external\": {\"url\": \"http://books.google.com/books/content?id=nuz9BQAAQBAJ&printsec=frontcover&img=1&zoom=5&edge=curl&source=gbs_api\"}}}\n"
     ]
    },
    {
     "name": "stderr",
     "output_type": "stream",
     "text": [
      "/Users/christian/Projects/Notion-Bookshelf/.venv/lib/python3.10/site-packages/urllib3/connectionpool.py:1099: InsecureRequestWarning: Unverified HTTPS request is being made to host 'api.notion.com'. Adding certificate verification is strongly advised. See: https://urllib3.readthedocs.io/en/latest/advanced-usage.html#tls-warnings\n",
      "  warnings.warn(\n"
     ]
    },
    {
     "name": "stdout",
     "output_type": "stream",
     "text": [
      "200\n",
      "<bound method Response.json of <Response [200]>>\n",
      "{\"icon\": {\"type\": \"external\", \"external\": {\"url\": \"http://books.google.com/books/content?id=pHK0DwAAQBAJ&printsec=frontcover&img=1&zoom=5&edge=curl&source=gbs_api\"}}}\n"
     ]
    },
    {
     "name": "stderr",
     "output_type": "stream",
     "text": [
      "/Users/christian/Projects/Notion-Bookshelf/.venv/lib/python3.10/site-packages/urllib3/connectionpool.py:1099: InsecureRequestWarning: Unverified HTTPS request is being made to host 'api.notion.com'. Adding certificate verification is strongly advised. See: https://urllib3.readthedocs.io/en/latest/advanced-usage.html#tls-warnings\n",
      "  warnings.warn(\n"
     ]
    },
    {
     "name": "stdout",
     "output_type": "stream",
     "text": [
      "200\n",
      "<bound method Response.json of <Response [200]>>\n",
      "{\"icon\": {\"type\": \"external\", \"external\": {\"url\": \"http://books.google.com/books/content?id=GmkwDwAAQBAJ&printsec=frontcover&img=1&zoom=5&edge=curl&source=gbs_api\"}}}\n"
     ]
    },
    {
     "name": "stderr",
     "output_type": "stream",
     "text": [
      "/Users/christian/Projects/Notion-Bookshelf/.venv/lib/python3.10/site-packages/urllib3/connectionpool.py:1099: InsecureRequestWarning: Unverified HTTPS request is being made to host 'api.notion.com'. Adding certificate verification is strongly advised. See: https://urllib3.readthedocs.io/en/latest/advanced-usage.html#tls-warnings\n",
      "  warnings.warn(\n"
     ]
    },
    {
     "name": "stdout",
     "output_type": "stream",
     "text": [
      "200\n",
      "<bound method Response.json of <Response [200]>>\n",
      "{\"icon\": {\"type\": \"external\", \"external\": {\"url\": \"http://books.google.com/books/content?id=JJkntBDeEeQC&printsec=frontcover&img=1&zoom=5&edge=curl&source=gbs_api\"}}}\n"
     ]
    },
    {
     "name": "stderr",
     "output_type": "stream",
     "text": [
      "/Users/christian/Projects/Notion-Bookshelf/.venv/lib/python3.10/site-packages/urllib3/connectionpool.py:1099: InsecureRequestWarning: Unverified HTTPS request is being made to host 'api.notion.com'. Adding certificate verification is strongly advised. See: https://urllib3.readthedocs.io/en/latest/advanced-usage.html#tls-warnings\n",
      "  warnings.warn(\n"
     ]
    },
    {
     "name": "stdout",
     "output_type": "stream",
     "text": [
      "200\n",
      "<bound method Response.json of <Response [200]>>\n",
      "{\"icon\": {\"type\": \"external\", \"external\": {\"url\": NaN}}}\n"
     ]
    },
    {
     "name": "stderr",
     "output_type": "stream",
     "text": [
      "/Users/christian/Projects/Notion-Bookshelf/.venv/lib/python3.10/site-packages/urllib3/connectionpool.py:1099: InsecureRequestWarning: Unverified HTTPS request is being made to host 'api.notion.com'. Adding certificate verification is strongly advised. See: https://urllib3.readthedocs.io/en/latest/advanced-usage.html#tls-warnings\n",
      "  warnings.warn(\n"
     ]
    },
    {
     "name": "stdout",
     "output_type": "stream",
     "text": [
      "400\n",
      "<bound method Response.json of <Response [400]>>\n",
      "{\"icon\": {\"type\": \"external\", \"external\": {\"url\": \"http://books.google.com/books/content?id=zFOtCAAAQBAJ&printsec=frontcover&img=1&zoom=5&edge=curl&source=gbs_api\"}}}\n"
     ]
    },
    {
     "name": "stderr",
     "output_type": "stream",
     "text": [
      "/Users/christian/Projects/Notion-Bookshelf/.venv/lib/python3.10/site-packages/urllib3/connectionpool.py:1099: InsecureRequestWarning: Unverified HTTPS request is being made to host 'api.notion.com'. Adding certificate verification is strongly advised. See: https://urllib3.readthedocs.io/en/latest/advanced-usage.html#tls-warnings\n",
      "  warnings.warn(\n"
     ]
    },
    {
     "name": "stdout",
     "output_type": "stream",
     "text": [
      "200\n",
      "<bound method Response.json of <Response [200]>>\n",
      "{\"icon\": {\"type\": \"external\", \"external\": {\"url\": \"http://books.google.com/books/content?id=-5grEAAAQBAJ&printsec=frontcover&img=1&zoom=5&edge=curl&source=gbs_api\"}}}\n"
     ]
    },
    {
     "name": "stderr",
     "output_type": "stream",
     "text": [
      "/Users/christian/Projects/Notion-Bookshelf/.venv/lib/python3.10/site-packages/urllib3/connectionpool.py:1099: InsecureRequestWarning: Unverified HTTPS request is being made to host 'api.notion.com'. Adding certificate verification is strongly advised. See: https://urllib3.readthedocs.io/en/latest/advanced-usage.html#tls-warnings\n",
      "  warnings.warn(\n"
     ]
    },
    {
     "name": "stdout",
     "output_type": "stream",
     "text": [
      "200\n",
      "<bound method Response.json of <Response [200]>>\n",
      "{\"icon\": {\"type\": \"external\", \"external\": {\"url\": \"http://books.google.com/books/content?id=kSFZEAAAQBAJ&printsec=frontcover&img=1&zoom=5&edge=curl&source=gbs_api\"}}}\n"
     ]
    },
    {
     "name": "stderr",
     "output_type": "stream",
     "text": [
      "/Users/christian/Projects/Notion-Bookshelf/.venv/lib/python3.10/site-packages/urllib3/connectionpool.py:1099: InsecureRequestWarning: Unverified HTTPS request is being made to host 'api.notion.com'. Adding certificate verification is strongly advised. See: https://urllib3.readthedocs.io/en/latest/advanced-usage.html#tls-warnings\n",
      "  warnings.warn(\n"
     ]
    },
    {
     "name": "stdout",
     "output_type": "stream",
     "text": [
      "200\n",
      "<bound method Response.json of <Response [200]>>\n",
      "{\"icon\": {\"type\": \"external\", \"external\": {\"url\": NaN}}}\n"
     ]
    },
    {
     "name": "stderr",
     "output_type": "stream",
     "text": [
      "/Users/christian/Projects/Notion-Bookshelf/.venv/lib/python3.10/site-packages/urllib3/connectionpool.py:1099: InsecureRequestWarning: Unverified HTTPS request is being made to host 'api.notion.com'. Adding certificate verification is strongly advised. See: https://urllib3.readthedocs.io/en/latest/advanced-usage.html#tls-warnings\n",
      "  warnings.warn(\n"
     ]
    },
    {
     "name": "stdout",
     "output_type": "stream",
     "text": [
      "400\n",
      "<bound method Response.json of <Response [400]>>\n",
      "{\"icon\": {\"type\": \"external\", \"external\": {\"url\": \"http://books.google.com/books/content?id=1FoqDwAAQBAJ&printsec=frontcover&img=1&zoom=5&edge=curl&source=gbs_api\"}}}\n"
     ]
    },
    {
     "name": "stderr",
     "output_type": "stream",
     "text": [
      "/Users/christian/Projects/Notion-Bookshelf/.venv/lib/python3.10/site-packages/urllib3/connectionpool.py:1099: InsecureRequestWarning: Unverified HTTPS request is being made to host 'api.notion.com'. Adding certificate verification is strongly advised. See: https://urllib3.readthedocs.io/en/latest/advanced-usage.html#tls-warnings\n",
      "  warnings.warn(\n"
     ]
    },
    {
     "name": "stdout",
     "output_type": "stream",
     "text": [
      "200\n",
      "<bound method Response.json of <Response [200]>>\n",
      "{\"icon\": {\"type\": \"external\", \"external\": {\"url\": \"http://books.google.com/books/content?id=DtD9DwAAQBAJ&printsec=frontcover&img=1&zoom=5&edge=curl&source=gbs_api\"}}}\n"
     ]
    },
    {
     "name": "stderr",
     "output_type": "stream",
     "text": [
      "/Users/christian/Projects/Notion-Bookshelf/.venv/lib/python3.10/site-packages/urllib3/connectionpool.py:1099: InsecureRequestWarning: Unverified HTTPS request is being made to host 'api.notion.com'. Adding certificate verification is strongly advised. See: https://urllib3.readthedocs.io/en/latest/advanced-usage.html#tls-warnings\n",
      "  warnings.warn(\n"
     ]
    },
    {
     "name": "stdout",
     "output_type": "stream",
     "text": [
      "200\n",
      "<bound method Response.json of <Response [200]>>\n",
      "{\"icon\": {\"type\": \"external\", \"external\": {\"url\": \"http://books.google.com/books/content?id=lmWzBgAAQBAJ&printsec=frontcover&img=1&zoom=5&edge=curl&source=gbs_api\"}}}\n"
     ]
    },
    {
     "name": "stderr",
     "output_type": "stream",
     "text": [
      "/Users/christian/Projects/Notion-Bookshelf/.venv/lib/python3.10/site-packages/urllib3/connectionpool.py:1099: InsecureRequestWarning: Unverified HTTPS request is being made to host 'api.notion.com'. Adding certificate verification is strongly advised. See: https://urllib3.readthedocs.io/en/latest/advanced-usage.html#tls-warnings\n",
      "  warnings.warn(\n"
     ]
    },
    {
     "name": "stdout",
     "output_type": "stream",
     "text": [
      "200\n",
      "<bound method Response.json of <Response [200]>>\n",
      "{\"icon\": {\"type\": \"external\", \"external\": {\"url\": \"http://books.google.com/books/content?id=zLifEAAAQBAJ&printsec=frontcover&img=1&zoom=5&edge=curl&source=gbs_api\"}}}\n"
     ]
    },
    {
     "name": "stderr",
     "output_type": "stream",
     "text": [
      "/Users/christian/Projects/Notion-Bookshelf/.venv/lib/python3.10/site-packages/urllib3/connectionpool.py:1099: InsecureRequestWarning: Unverified HTTPS request is being made to host 'api.notion.com'. Adding certificate verification is strongly advised. See: https://urllib3.readthedocs.io/en/latest/advanced-usage.html#tls-warnings\n",
      "  warnings.warn(\n"
     ]
    },
    {
     "name": "stdout",
     "output_type": "stream",
     "text": [
      "200\n",
      "<bound method Response.json of <Response [200]>>\n",
      "{\"icon\": {\"type\": \"external\", \"external\": {\"url\": \"http://books.google.com/books/content?id=VbcKEQAAQBAJ&printsec=frontcover&img=1&zoom=5&edge=curl&source=gbs_api\"}}}\n"
     ]
    },
    {
     "name": "stderr",
     "output_type": "stream",
     "text": [
      "/Users/christian/Projects/Notion-Bookshelf/.venv/lib/python3.10/site-packages/urllib3/connectionpool.py:1099: InsecureRequestWarning: Unverified HTTPS request is being made to host 'api.notion.com'. Adding certificate verification is strongly advised. See: https://urllib3.readthedocs.io/en/latest/advanced-usage.html#tls-warnings\n",
      "  warnings.warn(\n"
     ]
    },
    {
     "name": "stdout",
     "output_type": "stream",
     "text": [
      "200\n",
      "<bound method Response.json of <Response [200]>>\n",
      "{\"icon\": {\"type\": \"external\", \"external\": {\"url\": \"http://books.google.com/books/content?id=GFqvDwAAQBAJ&printsec=frontcover&img=1&zoom=5&edge=curl&source=gbs_api\"}}}\n"
     ]
    },
    {
     "name": "stderr",
     "output_type": "stream",
     "text": [
      "/Users/christian/Projects/Notion-Bookshelf/.venv/lib/python3.10/site-packages/urllib3/connectionpool.py:1099: InsecureRequestWarning: Unverified HTTPS request is being made to host 'api.notion.com'. Adding certificate verification is strongly advised. See: https://urllib3.readthedocs.io/en/latest/advanced-usage.html#tls-warnings\n",
      "  warnings.warn(\n"
     ]
    },
    {
     "name": "stdout",
     "output_type": "stream",
     "text": [
      "200\n",
      "<bound method Response.json of <Response [200]>>\n",
      "{\"icon\": {\"type\": \"external\", \"external\": {\"url\": NaN}}}\n"
     ]
    },
    {
     "name": "stderr",
     "output_type": "stream",
     "text": [
      "/Users/christian/Projects/Notion-Bookshelf/.venv/lib/python3.10/site-packages/urllib3/connectionpool.py:1099: InsecureRequestWarning: Unverified HTTPS request is being made to host 'api.notion.com'. Adding certificate verification is strongly advised. See: https://urllib3.readthedocs.io/en/latest/advanced-usage.html#tls-warnings\n",
      "  warnings.warn(\n"
     ]
    },
    {
     "name": "stdout",
     "output_type": "stream",
     "text": [
      "400\n",
      "<bound method Response.json of <Response [400]>>\n",
      "{\"icon\": {\"type\": \"external\", \"external\": {\"url\": NaN}}}\n"
     ]
    },
    {
     "name": "stderr",
     "output_type": "stream",
     "text": [
      "/Users/christian/Projects/Notion-Bookshelf/.venv/lib/python3.10/site-packages/urllib3/connectionpool.py:1099: InsecureRequestWarning: Unverified HTTPS request is being made to host 'api.notion.com'. Adding certificate verification is strongly advised. See: https://urllib3.readthedocs.io/en/latest/advanced-usage.html#tls-warnings\n",
      "  warnings.warn(\n"
     ]
    },
    {
     "name": "stdout",
     "output_type": "stream",
     "text": [
      "400\n",
      "<bound method Response.json of <Response [400]>>\n",
      "{\"icon\": {\"type\": \"external\", \"external\": {\"url\": \"http://books.google.com/books/content?id=REgpEAAAQBAJ&printsec=frontcover&img=1&zoom=5&edge=curl&source=gbs_api\"}}}\n"
     ]
    },
    {
     "name": "stderr",
     "output_type": "stream",
     "text": [
      "/Users/christian/Projects/Notion-Bookshelf/.venv/lib/python3.10/site-packages/urllib3/connectionpool.py:1099: InsecureRequestWarning: Unverified HTTPS request is being made to host 'api.notion.com'. Adding certificate verification is strongly advised. See: https://urllib3.readthedocs.io/en/latest/advanced-usage.html#tls-warnings\n",
      "  warnings.warn(\n"
     ]
    },
    {
     "name": "stdout",
     "output_type": "stream",
     "text": [
      "200\n",
      "<bound method Response.json of <Response [200]>>\n",
      "{\"icon\": {\"type\": \"external\", \"external\": {\"url\": NaN}}}\n"
     ]
    },
    {
     "name": "stderr",
     "output_type": "stream",
     "text": [
      "/Users/christian/Projects/Notion-Bookshelf/.venv/lib/python3.10/site-packages/urllib3/connectionpool.py:1099: InsecureRequestWarning: Unverified HTTPS request is being made to host 'api.notion.com'. Adding certificate verification is strongly advised. See: https://urllib3.readthedocs.io/en/latest/advanced-usage.html#tls-warnings\n",
      "  warnings.warn(\n"
     ]
    },
    {
     "name": "stdout",
     "output_type": "stream",
     "text": [
      "400\n",
      "<bound method Response.json of <Response [400]>>\n",
      "{\"icon\": {\"type\": \"external\", \"external\": {\"url\": \"http://books.google.com/books/content?id=nHPZBQAAQBAJ&printsec=frontcover&img=1&zoom=5&edge=curl&source=gbs_api\"}}}\n"
     ]
    },
    {
     "name": "stderr",
     "output_type": "stream",
     "text": [
      "/Users/christian/Projects/Notion-Bookshelf/.venv/lib/python3.10/site-packages/urllib3/connectionpool.py:1099: InsecureRequestWarning: Unverified HTTPS request is being made to host 'api.notion.com'. Adding certificate verification is strongly advised. See: https://urllib3.readthedocs.io/en/latest/advanced-usage.html#tls-warnings\n",
      "  warnings.warn(\n"
     ]
    },
    {
     "name": "stdout",
     "output_type": "stream",
     "text": [
      "200\n",
      "<bound method Response.json of <Response [200]>>\n",
      "{\"icon\": {\"type\": \"external\", \"external\": {\"url\": \"http://books.google.com/books/content?id=1GAGEAAAQBAJ&printsec=frontcover&img=1&zoom=5&edge=curl&source=gbs_api\"}}}\n"
     ]
    },
    {
     "name": "stderr",
     "output_type": "stream",
     "text": [
      "/Users/christian/Projects/Notion-Bookshelf/.venv/lib/python3.10/site-packages/urllib3/connectionpool.py:1099: InsecureRequestWarning: Unverified HTTPS request is being made to host 'api.notion.com'. Adding certificate verification is strongly advised. See: https://urllib3.readthedocs.io/en/latest/advanced-usage.html#tls-warnings\n",
      "  warnings.warn(\n"
     ]
    },
    {
     "name": "stdout",
     "output_type": "stream",
     "text": [
      "200\n",
      "<bound method Response.json of <Response [200]>>\n",
      "{\"icon\": {\"type\": \"external\", \"external\": {\"url\": \"http://books.google.com/books/content?id=wcdvAAAACAAJ&printsec=frontcover&img=1&zoom=5&source=gbs_api\"}}}\n"
     ]
    },
    {
     "name": "stderr",
     "output_type": "stream",
     "text": [
      "/Users/christian/Projects/Notion-Bookshelf/.venv/lib/python3.10/site-packages/urllib3/connectionpool.py:1099: InsecureRequestWarning: Unverified HTTPS request is being made to host 'api.notion.com'. Adding certificate verification is strongly advised. See: https://urllib3.readthedocs.io/en/latest/advanced-usage.html#tls-warnings\n",
      "  warnings.warn(\n"
     ]
    },
    {
     "name": "stdout",
     "output_type": "stream",
     "text": [
      "200\n",
      "<bound method Response.json of <Response [200]>>\n",
      "{\"icon\": {\"type\": \"external\", \"external\": {\"url\": NaN}}}\n"
     ]
    },
    {
     "name": "stderr",
     "output_type": "stream",
     "text": [
      "/Users/christian/Projects/Notion-Bookshelf/.venv/lib/python3.10/site-packages/urllib3/connectionpool.py:1099: InsecureRequestWarning: Unverified HTTPS request is being made to host 'api.notion.com'. Adding certificate verification is strongly advised. See: https://urllib3.readthedocs.io/en/latest/advanced-usage.html#tls-warnings\n",
      "  warnings.warn(\n"
     ]
    },
    {
     "name": "stdout",
     "output_type": "stream",
     "text": [
      "400\n",
      "<bound method Response.json of <Response [400]>>\n",
      "{\"icon\": {\"type\": \"external\", \"external\": {\"url\": \"http://books.google.com/books/content?id=6yBdDwAAQBAJ&printsec=frontcover&img=1&zoom=5&edge=curl&source=gbs_api\"}}}\n"
     ]
    },
    {
     "name": "stderr",
     "output_type": "stream",
     "text": [
      "/Users/christian/Projects/Notion-Bookshelf/.venv/lib/python3.10/site-packages/urllib3/connectionpool.py:1099: InsecureRequestWarning: Unverified HTTPS request is being made to host 'api.notion.com'. Adding certificate verification is strongly advised. See: https://urllib3.readthedocs.io/en/latest/advanced-usage.html#tls-warnings\n",
      "  warnings.warn(\n"
     ]
    },
    {
     "name": "stdout",
     "output_type": "stream",
     "text": [
      "200\n",
      "<bound method Response.json of <Response [200]>>\n",
      "{\"icon\": {\"type\": \"external\", \"external\": {\"url\": \"http://books.google.com/books/content?id=mpW2DwAAQBAJ&printsec=frontcover&img=1&zoom=5&edge=curl&source=gbs_api\"}}}\n"
     ]
    },
    {
     "name": "stderr",
     "output_type": "stream",
     "text": [
      "/Users/christian/Projects/Notion-Bookshelf/.venv/lib/python3.10/site-packages/urllib3/connectionpool.py:1099: InsecureRequestWarning: Unverified HTTPS request is being made to host 'api.notion.com'. Adding certificate verification is strongly advised. See: https://urllib3.readthedocs.io/en/latest/advanced-usage.html#tls-warnings\n",
      "  warnings.warn(\n"
     ]
    },
    {
     "name": "stdout",
     "output_type": "stream",
     "text": [
      "200\n",
      "<bound method Response.json of <Response [200]>>\n",
      "{\"icon\": {\"type\": \"external\", \"external\": {\"url\": \"http://books.google.com/books/content?id=JOIrEAAAQBAJ&printsec=frontcover&img=1&zoom=5&edge=curl&source=gbs_api\"}}}\n"
     ]
    },
    {
     "name": "stderr",
     "output_type": "stream",
     "text": [
      "/Users/christian/Projects/Notion-Bookshelf/.venv/lib/python3.10/site-packages/urllib3/connectionpool.py:1099: InsecureRequestWarning: Unverified HTTPS request is being made to host 'api.notion.com'. Adding certificate verification is strongly advised. See: https://urllib3.readthedocs.io/en/latest/advanced-usage.html#tls-warnings\n",
      "  warnings.warn(\n"
     ]
    },
    {
     "name": "stdout",
     "output_type": "stream",
     "text": [
      "200\n",
      "<bound method Response.json of <Response [200]>>\n",
      "{\"icon\": {\"type\": \"external\", \"external\": {\"url\": \"http://books.google.com/books/content?id=W26nAAAACAAJ&printsec=frontcover&img=1&zoom=5&source=gbs_api\"}}}\n"
     ]
    },
    {
     "name": "stderr",
     "output_type": "stream",
     "text": [
      "/Users/christian/Projects/Notion-Bookshelf/.venv/lib/python3.10/site-packages/urllib3/connectionpool.py:1099: InsecureRequestWarning: Unverified HTTPS request is being made to host 'api.notion.com'. Adding certificate verification is strongly advised. See: https://urllib3.readthedocs.io/en/latest/advanced-usage.html#tls-warnings\n",
      "  warnings.warn(\n"
     ]
    },
    {
     "name": "stdout",
     "output_type": "stream",
     "text": [
      "200\n",
      "<bound method Response.json of <Response [200]>>\n",
      "{\"icon\": {\"type\": \"external\", \"external\": {\"url\": \"http://books.google.com/books/content?id=KpLpyx_lFqkC&printsec=frontcover&img=1&zoom=5&edge=curl&source=gbs_api\"}}}\n"
     ]
    },
    {
     "name": "stderr",
     "output_type": "stream",
     "text": [
      "/Users/christian/Projects/Notion-Bookshelf/.venv/lib/python3.10/site-packages/urllib3/connectionpool.py:1099: InsecureRequestWarning: Unverified HTTPS request is being made to host 'api.notion.com'. Adding certificate verification is strongly advised. See: https://urllib3.readthedocs.io/en/latest/advanced-usage.html#tls-warnings\n",
      "  warnings.warn(\n"
     ]
    },
    {
     "name": "stdout",
     "output_type": "stream",
     "text": [
      "200\n",
      "<bound method Response.json of <Response [200]>>\n",
      "{\"icon\": {\"type\": \"external\", \"external\": {\"url\": \"http://books.google.com/books/content?id=eBC7DwAAQBAJ&printsec=frontcover&img=1&zoom=5&edge=curl&source=gbs_api\"}}}\n"
     ]
    },
    {
     "name": "stderr",
     "output_type": "stream",
     "text": [
      "/Users/christian/Projects/Notion-Bookshelf/.venv/lib/python3.10/site-packages/urllib3/connectionpool.py:1099: InsecureRequestWarning: Unverified HTTPS request is being made to host 'api.notion.com'. Adding certificate verification is strongly advised. See: https://urllib3.readthedocs.io/en/latest/advanced-usage.html#tls-warnings\n",
      "  warnings.warn(\n"
     ]
    },
    {
     "name": "stdout",
     "output_type": "stream",
     "text": [
      "200\n",
      "<bound method Response.json of <Response [200]>>\n",
      "{\"icon\": {\"type\": \"external\", \"external\": {\"url\": \"http://books.google.com/books/content?id=MMsfjgEACAAJ&printsec=frontcover&img=1&zoom=5&source=gbs_api\"}}}\n"
     ]
    },
    {
     "name": "stderr",
     "output_type": "stream",
     "text": [
      "/Users/christian/Projects/Notion-Bookshelf/.venv/lib/python3.10/site-packages/urllib3/connectionpool.py:1099: InsecureRequestWarning: Unverified HTTPS request is being made to host 'api.notion.com'. Adding certificate verification is strongly advised. See: https://urllib3.readthedocs.io/en/latest/advanced-usage.html#tls-warnings\n",
      "  warnings.warn(\n"
     ]
    },
    {
     "name": "stdout",
     "output_type": "stream",
     "text": [
      "200\n",
      "<bound method Response.json of <Response [200]>>\n",
      "{\"icon\": {\"type\": \"external\", \"external\": {\"url\": \"http://books.google.com/books/content?id=co2RDwAAQBAJ&printsec=frontcover&img=1&zoom=5&edge=curl&source=gbs_api\"}}}\n"
     ]
    },
    {
     "name": "stderr",
     "output_type": "stream",
     "text": [
      "/Users/christian/Projects/Notion-Bookshelf/.venv/lib/python3.10/site-packages/urllib3/connectionpool.py:1099: InsecureRequestWarning: Unverified HTTPS request is being made to host 'api.notion.com'. Adding certificate verification is strongly advised. See: https://urllib3.readthedocs.io/en/latest/advanced-usage.html#tls-warnings\n",
      "  warnings.warn(\n"
     ]
    },
    {
     "name": "stdout",
     "output_type": "stream",
     "text": [
      "200\n",
      "<bound method Response.json of <Response [200]>>\n",
      "{\"icon\": {\"type\": \"external\", \"external\": {\"url\": \"http://books.google.com/books/content?id=1E-WEAAAQBAJ&printsec=frontcover&img=1&zoom=5&edge=curl&source=gbs_api\"}}}\n"
     ]
    },
    {
     "name": "stderr",
     "output_type": "stream",
     "text": [
      "/Users/christian/Projects/Notion-Bookshelf/.venv/lib/python3.10/site-packages/urllib3/connectionpool.py:1099: InsecureRequestWarning: Unverified HTTPS request is being made to host 'api.notion.com'. Adding certificate verification is strongly advised. See: https://urllib3.readthedocs.io/en/latest/advanced-usage.html#tls-warnings\n",
      "  warnings.warn(\n"
     ]
    },
    {
     "name": "stdout",
     "output_type": "stream",
     "text": [
      "200\n",
      "<bound method Response.json of <Response [200]>>\n",
      "{\"icon\": {\"type\": \"external\", \"external\": {\"url\": \"http://books.google.com/books/content?id=xnRlDQAAQBAJ&printsec=frontcover&img=1&zoom=5&source=gbs_api\"}}}\n"
     ]
    },
    {
     "name": "stderr",
     "output_type": "stream",
     "text": [
      "/Users/christian/Projects/Notion-Bookshelf/.venv/lib/python3.10/site-packages/urllib3/connectionpool.py:1099: InsecureRequestWarning: Unverified HTTPS request is being made to host 'api.notion.com'. Adding certificate verification is strongly advised. See: https://urllib3.readthedocs.io/en/latest/advanced-usage.html#tls-warnings\n",
      "  warnings.warn(\n"
     ]
    },
    {
     "name": "stdout",
     "output_type": "stream",
     "text": [
      "200\n",
      "<bound method Response.json of <Response [200]>>\n",
      "{\"icon\": {\"type\": \"external\", \"external\": {\"url\": \"http://books.google.com/books/content?id=bV9ODwAAQBAJ&printsec=frontcover&img=1&zoom=5&edge=curl&source=gbs_api\"}}}\n"
     ]
    },
    {
     "name": "stderr",
     "output_type": "stream",
     "text": [
      "/Users/christian/Projects/Notion-Bookshelf/.venv/lib/python3.10/site-packages/urllib3/connectionpool.py:1099: InsecureRequestWarning: Unverified HTTPS request is being made to host 'api.notion.com'. Adding certificate verification is strongly advised. See: https://urllib3.readthedocs.io/en/latest/advanced-usage.html#tls-warnings\n",
      "  warnings.warn(\n"
     ]
    },
    {
     "name": "stdout",
     "output_type": "stream",
     "text": [
      "200\n",
      "<bound method Response.json of <Response [200]>>\n",
      "{\"icon\": {\"type\": \"external\", \"external\": {\"url\": \"http://books.google.com/books/content?id=wdy6DwAAQBAJ&printsec=frontcover&img=1&zoom=5&edge=curl&source=gbs_api\"}}}\n"
     ]
    },
    {
     "name": "stderr",
     "output_type": "stream",
     "text": [
      "/Users/christian/Projects/Notion-Bookshelf/.venv/lib/python3.10/site-packages/urllib3/connectionpool.py:1099: InsecureRequestWarning: Unverified HTTPS request is being made to host 'api.notion.com'. Adding certificate verification is strongly advised. See: https://urllib3.readthedocs.io/en/latest/advanced-usage.html#tls-warnings\n",
      "  warnings.warn(\n"
     ]
    },
    {
     "name": "stdout",
     "output_type": "stream",
     "text": [
      "200\n",
      "<bound method Response.json of <Response [200]>>\n",
      "{\"icon\": {\"type\": \"external\", \"external\": {\"url\": \"http://books.google.com/books/content?id=lqEtBAAAQBAJ&printsec=frontcover&img=1&zoom=5&edge=curl&source=gbs_api\"}}}\n"
     ]
    },
    {
     "name": "stderr",
     "output_type": "stream",
     "text": [
      "/Users/christian/Projects/Notion-Bookshelf/.venv/lib/python3.10/site-packages/urllib3/connectionpool.py:1099: InsecureRequestWarning: Unverified HTTPS request is being made to host 'api.notion.com'. Adding certificate verification is strongly advised. See: https://urllib3.readthedocs.io/en/latest/advanced-usage.html#tls-warnings\n",
      "  warnings.warn(\n"
     ]
    },
    {
     "name": "stdout",
     "output_type": "stream",
     "text": [
      "200\n",
      "<bound method Response.json of <Response [200]>>\n",
      "{\"icon\": {\"type\": \"external\", \"external\": {\"url\": NaN}}}\n"
     ]
    },
    {
     "name": "stderr",
     "output_type": "stream",
     "text": [
      "/Users/christian/Projects/Notion-Bookshelf/.venv/lib/python3.10/site-packages/urllib3/connectionpool.py:1099: InsecureRequestWarning: Unverified HTTPS request is being made to host 'api.notion.com'. Adding certificate verification is strongly advised. See: https://urllib3.readthedocs.io/en/latest/advanced-usage.html#tls-warnings\n",
      "  warnings.warn(\n"
     ]
    },
    {
     "name": "stdout",
     "output_type": "stream",
     "text": [
      "400\n",
      "<bound method Response.json of <Response [400]>>\n",
      "{\"icon\": {\"type\": \"external\", \"external\": {\"url\": \"http://books.google.com/books/content?id=rR3bIFq3rC0C&printsec=frontcover&img=1&zoom=5&edge=curl&source=gbs_api\"}}}\n"
     ]
    },
    {
     "name": "stderr",
     "output_type": "stream",
     "text": [
      "/Users/christian/Projects/Notion-Bookshelf/.venv/lib/python3.10/site-packages/urllib3/connectionpool.py:1099: InsecureRequestWarning: Unverified HTTPS request is being made to host 'api.notion.com'. Adding certificate verification is strongly advised. See: https://urllib3.readthedocs.io/en/latest/advanced-usage.html#tls-warnings\n",
      "  warnings.warn(\n"
     ]
    },
    {
     "name": "stdout",
     "output_type": "stream",
     "text": [
      "200\n",
      "<bound method Response.json of <Response [200]>>\n",
      "{\"icon\": {\"type\": \"external\", \"external\": {\"url\": \"http://books.google.com/books/content?id=1nf4DwAAQBAJ&printsec=frontcover&img=1&zoom=5&edge=curl&source=gbs_api\"}}}\n"
     ]
    },
    {
     "name": "stderr",
     "output_type": "stream",
     "text": [
      "/Users/christian/Projects/Notion-Bookshelf/.venv/lib/python3.10/site-packages/urllib3/connectionpool.py:1099: InsecureRequestWarning: Unverified HTTPS request is being made to host 'api.notion.com'. Adding certificate verification is strongly advised. See: https://urllib3.readthedocs.io/en/latest/advanced-usage.html#tls-warnings\n",
      "  warnings.warn(\n"
     ]
    },
    {
     "name": "stdout",
     "output_type": "stream",
     "text": [
      "200\n",
      "<bound method Response.json of <Response [200]>>\n",
      "{\"icon\": {\"type\": \"external\", \"external\": {\"url\": NaN}}}\n"
     ]
    },
    {
     "name": "stderr",
     "output_type": "stream",
     "text": [
      "/Users/christian/Projects/Notion-Bookshelf/.venv/lib/python3.10/site-packages/urllib3/connectionpool.py:1099: InsecureRequestWarning: Unverified HTTPS request is being made to host 'api.notion.com'. Adding certificate verification is strongly advised. See: https://urllib3.readthedocs.io/en/latest/advanced-usage.html#tls-warnings\n",
      "  warnings.warn(\n"
     ]
    },
    {
     "name": "stdout",
     "output_type": "stream",
     "text": [
      "400\n",
      "<bound method Response.json of <Response [400]>>\n",
      "{\"icon\": {\"type\": \"external\", \"external\": {\"url\": \"http://books.google.com/books/content?id=dN2aEAAAQBAJ&printsec=frontcover&img=1&zoom=5&edge=curl&source=gbs_api\"}}}\n"
     ]
    },
    {
     "name": "stderr",
     "output_type": "stream",
     "text": [
      "/Users/christian/Projects/Notion-Bookshelf/.venv/lib/python3.10/site-packages/urllib3/connectionpool.py:1099: InsecureRequestWarning: Unverified HTTPS request is being made to host 'api.notion.com'. Adding certificate verification is strongly advised. See: https://urllib3.readthedocs.io/en/latest/advanced-usage.html#tls-warnings\n",
      "  warnings.warn(\n"
     ]
    },
    {
     "name": "stdout",
     "output_type": "stream",
     "text": [
      "200\n",
      "<bound method Response.json of <Response [200]>>\n"
     ]
    }
   ],
   "source": [
    "# Update icons for pages\n",
    "for i in look_up['page_id'].index:\n",
    "    update_page_icon(i, data_column, 'icon')"
   ]
  },
  {
   "cell_type": "code",
   "execution_count": 106,
   "id": "0293ac5d",
   "metadata": {},
   "outputs": [
    {
     "name": "stdout",
     "output_type": "stream",
     "text": [
      "{\"cover\": {\"type\": \"external\", \"external\": {\"url\": \"http://books.google.com/books/content?id=Vqw2DQAAQBAJ&printsec=frontcover&img=1&zoom=5&edge=curl&source=gbs_api\"}}}\n"
     ]
    },
    {
     "name": "stderr",
     "output_type": "stream",
     "text": [
      "/Users/christian/Projects/Notion-Bookshelf/.venv/lib/python3.10/site-packages/urllib3/connectionpool.py:1099: InsecureRequestWarning: Unverified HTTPS request is being made to host 'api.notion.com'. Adding certificate verification is strongly advised. See: https://urllib3.readthedocs.io/en/latest/advanced-usage.html#tls-warnings\n",
      "  warnings.warn(\n"
     ]
    },
    {
     "name": "stdout",
     "output_type": "stream",
     "text": [
      "200\n",
      "<bound method Response.json of <Response [200]>>\n",
      "{\"cover\": {\"type\": \"external\", \"external\": {\"url\": \"http://books.google.com/books/content?id=uiiVDwAAQBAJ&printsec=frontcover&img=1&zoom=5&edge=curl&source=gbs_api\"}}}\n"
     ]
    },
    {
     "name": "stderr",
     "output_type": "stream",
     "text": [
      "/Users/christian/Projects/Notion-Bookshelf/.venv/lib/python3.10/site-packages/urllib3/connectionpool.py:1099: InsecureRequestWarning: Unverified HTTPS request is being made to host 'api.notion.com'. Adding certificate verification is strongly advised. See: https://urllib3.readthedocs.io/en/latest/advanced-usage.html#tls-warnings\n",
      "  warnings.warn(\n"
     ]
    },
    {
     "name": "stdout",
     "output_type": "stream",
     "text": [
      "200\n",
      "<bound method Response.json of <Response [200]>>\n",
      "{\"cover\": {\"type\": \"external\", \"external\": {\"url\": \"http://books.google.com/books/content?id=BYy8DQAAQBAJ&printsec=frontcover&img=1&zoom=5&edge=curl&source=gbs_api\"}}}\n"
     ]
    },
    {
     "name": "stderr",
     "output_type": "stream",
     "text": [
      "/Users/christian/Projects/Notion-Bookshelf/.venv/lib/python3.10/site-packages/urllib3/connectionpool.py:1099: InsecureRequestWarning: Unverified HTTPS request is being made to host 'api.notion.com'. Adding certificate verification is strongly advised. See: https://urllib3.readthedocs.io/en/latest/advanced-usage.html#tls-warnings\n",
      "  warnings.warn(\n"
     ]
    },
    {
     "name": "stdout",
     "output_type": "stream",
     "text": [
      "200\n",
      "<bound method Response.json of <Response [200]>>\n",
      "{\"cover\": {\"type\": \"external\", \"external\": {\"url\": \"http://books.google.com/books/content?id=nGIGEAAAQBAJ&printsec=frontcover&img=1&zoom=5&edge=curl&source=gbs_api\"}}}\n"
     ]
    },
    {
     "name": "stderr",
     "output_type": "stream",
     "text": [
      "/Users/christian/Projects/Notion-Bookshelf/.venv/lib/python3.10/site-packages/urllib3/connectionpool.py:1099: InsecureRequestWarning: Unverified HTTPS request is being made to host 'api.notion.com'. Adding certificate verification is strongly advised. See: https://urllib3.readthedocs.io/en/latest/advanced-usage.html#tls-warnings\n",
      "  warnings.warn(\n"
     ]
    },
    {
     "name": "stdout",
     "output_type": "stream",
     "text": [
      "200\n",
      "<bound method Response.json of <Response [200]>>\n",
      "{\"cover\": {\"type\": \"external\", \"external\": {\"url\": \"http://books.google.com/books/content?id=PKblaoSFmPUC&printsec=frontcover&img=1&zoom=5&edge=curl&source=gbs_api\"}}}\n"
     ]
    },
    {
     "name": "stderr",
     "output_type": "stream",
     "text": [
      "/Users/christian/Projects/Notion-Bookshelf/.venv/lib/python3.10/site-packages/urllib3/connectionpool.py:1099: InsecureRequestWarning: Unverified HTTPS request is being made to host 'api.notion.com'. Adding certificate verification is strongly advised. See: https://urllib3.readthedocs.io/en/latest/advanced-usage.html#tls-warnings\n",
      "  warnings.warn(\n"
     ]
    },
    {
     "name": "stdout",
     "output_type": "stream",
     "text": [
      "200\n",
      "<bound method Response.json of <Response [200]>>\n",
      "{\"cover\": {\"type\": \"external\", \"external\": {\"url\": \"http://books.google.com/books/content?id=6nLiEAAAQBAJ&printsec=frontcover&img=1&zoom=5&edge=curl&source=gbs_api\"}}}\n"
     ]
    },
    {
     "name": "stderr",
     "output_type": "stream",
     "text": [
      "/Users/christian/Projects/Notion-Bookshelf/.venv/lib/python3.10/site-packages/urllib3/connectionpool.py:1099: InsecureRequestWarning: Unverified HTTPS request is being made to host 'api.notion.com'. Adding certificate verification is strongly advised. See: https://urllib3.readthedocs.io/en/latest/advanced-usage.html#tls-warnings\n",
      "  warnings.warn(\n"
     ]
    },
    {
     "name": "stdout",
     "output_type": "stream",
     "text": [
      "200\n",
      "<bound method Response.json of <Response [200]>>\n",
      "{\"cover\": {\"type\": \"external\", \"external\": {\"url\": NaN}}}\n"
     ]
    },
    {
     "name": "stderr",
     "output_type": "stream",
     "text": [
      "/Users/christian/Projects/Notion-Bookshelf/.venv/lib/python3.10/site-packages/urllib3/connectionpool.py:1099: InsecureRequestWarning: Unverified HTTPS request is being made to host 'api.notion.com'. Adding certificate verification is strongly advised. See: https://urllib3.readthedocs.io/en/latest/advanced-usage.html#tls-warnings\n",
      "  warnings.warn(\n"
     ]
    },
    {
     "name": "stdout",
     "output_type": "stream",
     "text": [
      "400\n",
      "<bound method Response.json of <Response [400]>>\n",
      "{\"cover\": {\"type\": \"external\", \"external\": {\"url\": \"http://books.google.com/books/content?id=trxEAwAAQBAJ&printsec=frontcover&img=1&zoom=5&edge=curl&source=gbs_api\"}}}\n"
     ]
    },
    {
     "name": "stderr",
     "output_type": "stream",
     "text": [
      "/Users/christian/Projects/Notion-Bookshelf/.venv/lib/python3.10/site-packages/urllib3/connectionpool.py:1099: InsecureRequestWarning: Unverified HTTPS request is being made to host 'api.notion.com'. Adding certificate verification is strongly advised. See: https://urllib3.readthedocs.io/en/latest/advanced-usage.html#tls-warnings\n",
      "  warnings.warn(\n"
     ]
    },
    {
     "name": "stdout",
     "output_type": "stream",
     "text": [
      "200\n",
      "<bound method Response.json of <Response [200]>>\n",
      "{\"cover\": {\"type\": \"external\", \"external\": {\"url\": \"http://books.google.com/books/content?id=-K5JEAAAQBAJ&printsec=frontcover&img=1&zoom=5&edge=curl&source=gbs_api\"}}}\n"
     ]
    },
    {
     "name": "stderr",
     "output_type": "stream",
     "text": [
      "/Users/christian/Projects/Notion-Bookshelf/.venv/lib/python3.10/site-packages/urllib3/connectionpool.py:1099: InsecureRequestWarning: Unverified HTTPS request is being made to host 'api.notion.com'. Adding certificate verification is strongly advised. See: https://urllib3.readthedocs.io/en/latest/advanced-usage.html#tls-warnings\n",
      "  warnings.warn(\n"
     ]
    },
    {
     "name": "stdout",
     "output_type": "stream",
     "text": [
      "200\n",
      "<bound method Response.json of <Response [200]>>\n",
      "{\"cover\": {\"type\": \"external\", \"external\": {\"url\": \"http://books.google.com/books/content?id=j-j4uQEACAAJ&printsec=frontcover&img=1&zoom=5&source=gbs_api\"}}}\n"
     ]
    },
    {
     "name": "stderr",
     "output_type": "stream",
     "text": [
      "/Users/christian/Projects/Notion-Bookshelf/.venv/lib/python3.10/site-packages/urllib3/connectionpool.py:1099: InsecureRequestWarning: Unverified HTTPS request is being made to host 'api.notion.com'. Adding certificate verification is strongly advised. See: https://urllib3.readthedocs.io/en/latest/advanced-usage.html#tls-warnings\n",
      "  warnings.warn(\n"
     ]
    },
    {
     "name": "stdout",
     "output_type": "stream",
     "text": [
      "200\n",
      "<bound method Response.json of <Response [200]>>\n",
      "{\"cover\": {\"type\": \"external\", \"external\": {\"url\": \"http://books.google.com/books/content?id=IsuqmVlFo30C&printsec=frontcover&img=1&zoom=5&edge=curl&source=gbs_api\"}}}\n"
     ]
    },
    {
     "name": "stderr",
     "output_type": "stream",
     "text": [
      "/Users/christian/Projects/Notion-Bookshelf/.venv/lib/python3.10/site-packages/urllib3/connectionpool.py:1099: InsecureRequestWarning: Unverified HTTPS request is being made to host 'api.notion.com'. Adding certificate verification is strongly advised. See: https://urllib3.readthedocs.io/en/latest/advanced-usage.html#tls-warnings\n",
      "  warnings.warn(\n"
     ]
    },
    {
     "name": "stdout",
     "output_type": "stream",
     "text": [
      "200\n",
      "<bound method Response.json of <Response [200]>>\n",
      "{\"cover\": {\"type\": \"external\", \"external\": {\"url\": \"http://books.google.com/books/content?id=CL2JDwAAQBAJ&printsec=frontcover&img=1&zoom=5&edge=curl&source=gbs_api\"}}}\n"
     ]
    },
    {
     "name": "stderr",
     "output_type": "stream",
     "text": [
      "/Users/christian/Projects/Notion-Bookshelf/.venv/lib/python3.10/site-packages/urllib3/connectionpool.py:1099: InsecureRequestWarning: Unverified HTTPS request is being made to host 'api.notion.com'. Adding certificate verification is strongly advised. See: https://urllib3.readthedocs.io/en/latest/advanced-usage.html#tls-warnings\n",
      "  warnings.warn(\n"
     ]
    },
    {
     "name": "stdout",
     "output_type": "stream",
     "text": [
      "200\n",
      "<bound method Response.json of <Response [200]>>\n",
      "{\"cover\": {\"type\": \"external\", \"external\": {\"url\": NaN}}}\n"
     ]
    },
    {
     "name": "stderr",
     "output_type": "stream",
     "text": [
      "/Users/christian/Projects/Notion-Bookshelf/.venv/lib/python3.10/site-packages/urllib3/connectionpool.py:1099: InsecureRequestWarning: Unverified HTTPS request is being made to host 'api.notion.com'. Adding certificate verification is strongly advised. See: https://urllib3.readthedocs.io/en/latest/advanced-usage.html#tls-warnings\n",
      "  warnings.warn(\n"
     ]
    },
    {
     "name": "stdout",
     "output_type": "stream",
     "text": [
      "400\n",
      "<bound method Response.json of <Response [400]>>\n",
      "{\"cover\": {\"type\": \"external\", \"external\": {\"url\": \"http://books.google.com/books/content?id=qw7jEAAAQBAJ&printsec=frontcover&img=1&zoom=5&edge=curl&source=gbs_api\"}}}\n"
     ]
    },
    {
     "name": "stderr",
     "output_type": "stream",
     "text": [
      "/Users/christian/Projects/Notion-Bookshelf/.venv/lib/python3.10/site-packages/urllib3/connectionpool.py:1099: InsecureRequestWarning: Unverified HTTPS request is being made to host 'api.notion.com'. Adding certificate verification is strongly advised. See: https://urllib3.readthedocs.io/en/latest/advanced-usage.html#tls-warnings\n",
      "  warnings.warn(\n"
     ]
    },
    {
     "name": "stdout",
     "output_type": "stream",
     "text": [
      "200\n",
      "<bound method Response.json of <Response [200]>>\n",
      "{\"cover\": {\"type\": \"external\", \"external\": {\"url\": \"http://books.google.com/books/content?id=wa9QMQAACAAJ&printsec=frontcover&img=1&zoom=5&source=gbs_api\"}}}\n"
     ]
    },
    {
     "name": "stderr",
     "output_type": "stream",
     "text": [
      "/Users/christian/Projects/Notion-Bookshelf/.venv/lib/python3.10/site-packages/urllib3/connectionpool.py:1099: InsecureRequestWarning: Unverified HTTPS request is being made to host 'api.notion.com'. Adding certificate verification is strongly advised. See: https://urllib3.readthedocs.io/en/latest/advanced-usage.html#tls-warnings\n",
      "  warnings.warn(\n"
     ]
    },
    {
     "name": "stdout",
     "output_type": "stream",
     "text": [
      "200\n",
      "<bound method Response.json of <Response [200]>>\n",
      "{\"cover\": {\"type\": \"external\", \"external\": {\"url\": \"http://books.google.com/books/content?id=p3nADwAAQBAJ&printsec=frontcover&img=1&zoom=5&edge=curl&source=gbs_api\"}}}\n"
     ]
    },
    {
     "name": "stderr",
     "output_type": "stream",
     "text": [
      "/Users/christian/Projects/Notion-Bookshelf/.venv/lib/python3.10/site-packages/urllib3/connectionpool.py:1099: InsecureRequestWarning: Unverified HTTPS request is being made to host 'api.notion.com'. Adding certificate verification is strongly advised. See: https://urllib3.readthedocs.io/en/latest/advanced-usage.html#tls-warnings\n",
      "  warnings.warn(\n"
     ]
    },
    {
     "name": "stdout",
     "output_type": "stream",
     "text": [
      "200\n",
      "<bound method Response.json of <Response [200]>>\n",
      "{\"cover\": {\"type\": \"external\", \"external\": {\"url\": \"http://books.google.com/books/content?id=T7y6EAAAQBAJ&printsec=frontcover&img=1&zoom=5&edge=curl&source=gbs_api\"}}}\n"
     ]
    },
    {
     "name": "stderr",
     "output_type": "stream",
     "text": [
      "/Users/christian/Projects/Notion-Bookshelf/.venv/lib/python3.10/site-packages/urllib3/connectionpool.py:1099: InsecureRequestWarning: Unverified HTTPS request is being made to host 'api.notion.com'. Adding certificate verification is strongly advised. See: https://urllib3.readthedocs.io/en/latest/advanced-usage.html#tls-warnings\n",
      "  warnings.warn(\n"
     ]
    },
    {
     "name": "stdout",
     "output_type": "stream",
     "text": [
      "200\n",
      "<bound method Response.json of <Response [200]>>\n",
      "{\"cover\": {\"type\": \"external\", \"external\": {\"url\": \"http://books.google.com/books/content?id=8wuvDwAAQBAJ&printsec=frontcover&img=1&zoom=5&edge=curl&source=gbs_api\"}}}\n"
     ]
    },
    {
     "name": "stderr",
     "output_type": "stream",
     "text": [
      "/Users/christian/Projects/Notion-Bookshelf/.venv/lib/python3.10/site-packages/urllib3/connectionpool.py:1099: InsecureRequestWarning: Unverified HTTPS request is being made to host 'api.notion.com'. Adding certificate verification is strongly advised. See: https://urllib3.readthedocs.io/en/latest/advanced-usage.html#tls-warnings\n",
      "  warnings.warn(\n"
     ]
    },
    {
     "name": "stdout",
     "output_type": "stream",
     "text": [
      "200\n",
      "<bound method Response.json of <Response [200]>>\n",
      "{\"cover\": {\"type\": \"external\", \"external\": {\"url\": \"http://books.google.com/books/content?id=U7W5wauRc_MC&printsec=frontcover&img=1&zoom=5&edge=curl&source=gbs_api\"}}}\n"
     ]
    },
    {
     "name": "stderr",
     "output_type": "stream",
     "text": [
      "/Users/christian/Projects/Notion-Bookshelf/.venv/lib/python3.10/site-packages/urllib3/connectionpool.py:1099: InsecureRequestWarning: Unverified HTTPS request is being made to host 'api.notion.com'. Adding certificate verification is strongly advised. See: https://urllib3.readthedocs.io/en/latest/advanced-usage.html#tls-warnings\n",
      "  warnings.warn(\n"
     ]
    },
    {
     "name": "stdout",
     "output_type": "stream",
     "text": [
      "200\n",
      "<bound method Response.json of <Response [200]>>\n",
      "{\"cover\": {\"type\": \"external\", \"external\": {\"url\": NaN}}}\n"
     ]
    },
    {
     "name": "stderr",
     "output_type": "stream",
     "text": [
      "/Users/christian/Projects/Notion-Bookshelf/.venv/lib/python3.10/site-packages/urllib3/connectionpool.py:1099: InsecureRequestWarning: Unverified HTTPS request is being made to host 'api.notion.com'. Adding certificate verification is strongly advised. See: https://urllib3.readthedocs.io/en/latest/advanced-usage.html#tls-warnings\n",
      "  warnings.warn(\n"
     ]
    },
    {
     "name": "stdout",
     "output_type": "stream",
     "text": [
      "400\n",
      "<bound method Response.json of <Response [400]>>\n",
      "{\"cover\": {\"type\": \"external\", \"external\": {\"url\": NaN}}}\n"
     ]
    },
    {
     "name": "stderr",
     "output_type": "stream",
     "text": [
      "/Users/christian/Projects/Notion-Bookshelf/.venv/lib/python3.10/site-packages/urllib3/connectionpool.py:1099: InsecureRequestWarning: Unverified HTTPS request is being made to host 'api.notion.com'. Adding certificate verification is strongly advised. See: https://urllib3.readthedocs.io/en/latest/advanced-usage.html#tls-warnings\n",
      "  warnings.warn(\n"
     ]
    },
    {
     "name": "stdout",
     "output_type": "stream",
     "text": [
      "400\n",
      "<bound method Response.json of <Response [400]>>\n",
      "{\"cover\": {\"type\": \"external\", \"external\": {\"url\": \"http://books.google.com/books/content?id=nXsmDQAAQBAJ&printsec=frontcover&img=1&zoom=5&edge=curl&source=gbs_api\"}}}\n"
     ]
    },
    {
     "name": "stderr",
     "output_type": "stream",
     "text": [
      "/Users/christian/Projects/Notion-Bookshelf/.venv/lib/python3.10/site-packages/urllib3/connectionpool.py:1099: InsecureRequestWarning: Unverified HTTPS request is being made to host 'api.notion.com'. Adding certificate verification is strongly advised. See: https://urllib3.readthedocs.io/en/latest/advanced-usage.html#tls-warnings\n",
      "  warnings.warn(\n"
     ]
    },
    {
     "name": "stdout",
     "output_type": "stream",
     "text": [
      "200\n",
      "<bound method Response.json of <Response [200]>>\n",
      "{\"cover\": {\"type\": \"external\", \"external\": {\"url\": \"http://books.google.com/books/content?id=KDd0EAAAQBAJ&printsec=frontcover&img=1&zoom=5&edge=curl&source=gbs_api\"}}}\n"
     ]
    },
    {
     "name": "stderr",
     "output_type": "stream",
     "text": [
      "/Users/christian/Projects/Notion-Bookshelf/.venv/lib/python3.10/site-packages/urllib3/connectionpool.py:1099: InsecureRequestWarning: Unverified HTTPS request is being made to host 'api.notion.com'. Adding certificate verification is strongly advised. See: https://urllib3.readthedocs.io/en/latest/advanced-usage.html#tls-warnings\n",
      "  warnings.warn(\n"
     ]
    },
    {
     "name": "stdout",
     "output_type": "stream",
     "text": [
      "200\n",
      "<bound method Response.json of <Response [200]>>\n",
      "{\"cover\": {\"type\": \"external\", \"external\": {\"url\": NaN}}}\n"
     ]
    },
    {
     "name": "stderr",
     "output_type": "stream",
     "text": [
      "/Users/christian/Projects/Notion-Bookshelf/.venv/lib/python3.10/site-packages/urllib3/connectionpool.py:1099: InsecureRequestWarning: Unverified HTTPS request is being made to host 'api.notion.com'. Adding certificate verification is strongly advised. See: https://urllib3.readthedocs.io/en/latest/advanced-usage.html#tls-warnings\n",
      "  warnings.warn(\n"
     ]
    },
    {
     "name": "stdout",
     "output_type": "stream",
     "text": [
      "400\n",
      "<bound method Response.json of <Response [400]>>\n",
      "{\"cover\": {\"type\": \"external\", \"external\": {\"url\": \"http://books.google.com/books/content?id=cijcDwAAQBAJ&printsec=frontcover&img=1&zoom=5&edge=curl&source=gbs_api\"}}}\n"
     ]
    },
    {
     "name": "stderr",
     "output_type": "stream",
     "text": [
      "/Users/christian/Projects/Notion-Bookshelf/.venv/lib/python3.10/site-packages/urllib3/connectionpool.py:1099: InsecureRequestWarning: Unverified HTTPS request is being made to host 'api.notion.com'. Adding certificate verification is strongly advised. See: https://urllib3.readthedocs.io/en/latest/advanced-usage.html#tls-warnings\n",
      "  warnings.warn(\n"
     ]
    },
    {
     "name": "stdout",
     "output_type": "stream",
     "text": [
      "200\n",
      "<bound method Response.json of <Response [200]>>\n",
      "{\"cover\": {\"type\": \"external\", \"external\": {\"url\": \"http://books.google.com/books/content?id=riFQAgAAQBAJ&printsec=frontcover&img=1&zoom=5&edge=curl&source=gbs_api\"}}}\n"
     ]
    },
    {
     "name": "stderr",
     "output_type": "stream",
     "text": [
      "/Users/christian/Projects/Notion-Bookshelf/.venv/lib/python3.10/site-packages/urllib3/connectionpool.py:1099: InsecureRequestWarning: Unverified HTTPS request is being made to host 'api.notion.com'. Adding certificate verification is strongly advised. See: https://urllib3.readthedocs.io/en/latest/advanced-usage.html#tls-warnings\n",
      "  warnings.warn(\n"
     ]
    },
    {
     "name": "stdout",
     "output_type": "stream",
     "text": [
      "200\n",
      "<bound method Response.json of <Response [200]>>\n",
      "{\"cover\": {\"type\": \"external\", \"external\": {\"url\": \"http://books.google.com/books/content?id=tIm2EAAAQBAJ&printsec=frontcover&img=1&zoom=5&edge=curl&source=gbs_api\"}}}\n"
     ]
    },
    {
     "name": "stderr",
     "output_type": "stream",
     "text": [
      "/Users/christian/Projects/Notion-Bookshelf/.venv/lib/python3.10/site-packages/urllib3/connectionpool.py:1099: InsecureRequestWarning: Unverified HTTPS request is being made to host 'api.notion.com'. Adding certificate verification is strongly advised. See: https://urllib3.readthedocs.io/en/latest/advanced-usage.html#tls-warnings\n",
      "  warnings.warn(\n"
     ]
    },
    {
     "name": "stdout",
     "output_type": "stream",
     "text": [
      "200\n",
      "<bound method Response.json of <Response [200]>>\n",
      "{\"cover\": {\"type\": \"external\", \"external\": {\"url\": NaN}}}\n"
     ]
    },
    {
     "name": "stderr",
     "output_type": "stream",
     "text": [
      "/Users/christian/Projects/Notion-Bookshelf/.venv/lib/python3.10/site-packages/urllib3/connectionpool.py:1099: InsecureRequestWarning: Unverified HTTPS request is being made to host 'api.notion.com'. Adding certificate verification is strongly advised. See: https://urllib3.readthedocs.io/en/latest/advanced-usage.html#tls-warnings\n",
      "  warnings.warn(\n"
     ]
    },
    {
     "name": "stdout",
     "output_type": "stream",
     "text": [
      "400\n",
      "<bound method Response.json of <Response [400]>>\n",
      "{\"cover\": {\"type\": \"external\", \"external\": {\"url\": \"http://books.google.com/books/content?id=y0M3AQAAIAAJ&printsec=frontcover&img=1&zoom=5&edge=curl&source=gbs_api\"}}}\n"
     ]
    },
    {
     "name": "stderr",
     "output_type": "stream",
     "text": [
      "/Users/christian/Projects/Notion-Bookshelf/.venv/lib/python3.10/site-packages/urllib3/connectionpool.py:1099: InsecureRequestWarning: Unverified HTTPS request is being made to host 'api.notion.com'. Adding certificate verification is strongly advised. See: https://urllib3.readthedocs.io/en/latest/advanced-usage.html#tls-warnings\n",
      "  warnings.warn(\n"
     ]
    },
    {
     "name": "stdout",
     "output_type": "stream",
     "text": [
      "200\n",
      "<bound method Response.json of <Response [200]>>\n",
      "{\"cover\": {\"type\": \"external\", \"external\": {\"url\": NaN}}}\n"
     ]
    },
    {
     "name": "stderr",
     "output_type": "stream",
     "text": [
      "/Users/christian/Projects/Notion-Bookshelf/.venv/lib/python3.10/site-packages/urllib3/connectionpool.py:1099: InsecureRequestWarning: Unverified HTTPS request is being made to host 'api.notion.com'. Adding certificate verification is strongly advised. See: https://urllib3.readthedocs.io/en/latest/advanced-usage.html#tls-warnings\n",
      "  warnings.warn(\n"
     ]
    },
    {
     "name": "stdout",
     "output_type": "stream",
     "text": [
      "400\n",
      "<bound method Response.json of <Response [400]>>\n",
      "{\"cover\": {\"type\": \"external\", \"external\": {\"url\": \"http://books.google.com/books/content?id=VZTwDwAAQBAJ&printsec=frontcover&img=1&zoom=5&edge=curl&source=gbs_api\"}}}\n"
     ]
    },
    {
     "name": "stderr",
     "output_type": "stream",
     "text": [
      "/Users/christian/Projects/Notion-Bookshelf/.venv/lib/python3.10/site-packages/urllib3/connectionpool.py:1099: InsecureRequestWarning: Unverified HTTPS request is being made to host 'api.notion.com'. Adding certificate verification is strongly advised. See: https://urllib3.readthedocs.io/en/latest/advanced-usage.html#tls-warnings\n",
      "  warnings.warn(\n"
     ]
    },
    {
     "name": "stdout",
     "output_type": "stream",
     "text": [
      "200\n",
      "<bound method Response.json of <Response [200]>>\n",
      "{\"cover\": {\"type\": \"external\", \"external\": {\"url\": NaN}}}\n"
     ]
    },
    {
     "name": "stderr",
     "output_type": "stream",
     "text": [
      "/Users/christian/Projects/Notion-Bookshelf/.venv/lib/python3.10/site-packages/urllib3/connectionpool.py:1099: InsecureRequestWarning: Unverified HTTPS request is being made to host 'api.notion.com'. Adding certificate verification is strongly advised. See: https://urllib3.readthedocs.io/en/latest/advanced-usage.html#tls-warnings\n",
      "  warnings.warn(\n"
     ]
    },
    {
     "name": "stdout",
     "output_type": "stream",
     "text": [
      "400\n",
      "<bound method Response.json of <Response [400]>>\n",
      "{\"cover\": {\"type\": \"external\", \"external\": {\"url\": \"http://books.google.com/books/content?id=pxKTDwAAQBAJ&printsec=frontcover&img=1&zoom=5&edge=curl&source=gbs_api\"}}}\n"
     ]
    },
    {
     "name": "stderr",
     "output_type": "stream",
     "text": [
      "/Users/christian/Projects/Notion-Bookshelf/.venv/lib/python3.10/site-packages/urllib3/connectionpool.py:1099: InsecureRequestWarning: Unverified HTTPS request is being made to host 'api.notion.com'. Adding certificate verification is strongly advised. See: https://urllib3.readthedocs.io/en/latest/advanced-usage.html#tls-warnings\n",
      "  warnings.warn(\n"
     ]
    },
    {
     "name": "stdout",
     "output_type": "stream",
     "text": [
      "200\n",
      "<bound method Response.json of <Response [200]>>\n",
      "{\"cover\": {\"type\": \"external\", \"external\": {\"url\": \"http://books.google.com/books/content?id=R7rEDwAAQBAJ&printsec=frontcover&img=1&zoom=5&edge=curl&source=gbs_api\"}}}\n"
     ]
    },
    {
     "name": "stderr",
     "output_type": "stream",
     "text": [
      "/Users/christian/Projects/Notion-Bookshelf/.venv/lib/python3.10/site-packages/urllib3/connectionpool.py:1099: InsecureRequestWarning: Unverified HTTPS request is being made to host 'api.notion.com'. Adding certificate verification is strongly advised. See: https://urllib3.readthedocs.io/en/latest/advanced-usage.html#tls-warnings\n",
      "  warnings.warn(\n"
     ]
    },
    {
     "name": "stdout",
     "output_type": "stream",
     "text": [
      "200\n",
      "<bound method Response.json of <Response [200]>>\n",
      "{\"cover\": {\"type\": \"external\", \"external\": {\"url\": \"http://books.google.com/books/content?id=nuz9BQAAQBAJ&printsec=frontcover&img=1&zoom=5&edge=curl&source=gbs_api\"}}}\n"
     ]
    },
    {
     "name": "stderr",
     "output_type": "stream",
     "text": [
      "/Users/christian/Projects/Notion-Bookshelf/.venv/lib/python3.10/site-packages/urllib3/connectionpool.py:1099: InsecureRequestWarning: Unverified HTTPS request is being made to host 'api.notion.com'. Adding certificate verification is strongly advised. See: https://urllib3.readthedocs.io/en/latest/advanced-usage.html#tls-warnings\n",
      "  warnings.warn(\n"
     ]
    },
    {
     "name": "stdout",
     "output_type": "stream",
     "text": [
      "200\n",
      "<bound method Response.json of <Response [200]>>\n",
      "{\"cover\": {\"type\": \"external\", \"external\": {\"url\": \"http://books.google.com/books/content?id=pHK0DwAAQBAJ&printsec=frontcover&img=1&zoom=5&edge=curl&source=gbs_api\"}}}\n"
     ]
    },
    {
     "name": "stderr",
     "output_type": "stream",
     "text": [
      "/Users/christian/Projects/Notion-Bookshelf/.venv/lib/python3.10/site-packages/urllib3/connectionpool.py:1099: InsecureRequestWarning: Unverified HTTPS request is being made to host 'api.notion.com'. Adding certificate verification is strongly advised. See: https://urllib3.readthedocs.io/en/latest/advanced-usage.html#tls-warnings\n",
      "  warnings.warn(\n"
     ]
    },
    {
     "name": "stdout",
     "output_type": "stream",
     "text": [
      "200\n",
      "<bound method Response.json of <Response [200]>>\n",
      "{\"cover\": {\"type\": \"external\", \"external\": {\"url\": \"http://books.google.com/books/content?id=GmkwDwAAQBAJ&printsec=frontcover&img=1&zoom=5&edge=curl&source=gbs_api\"}}}\n"
     ]
    },
    {
     "name": "stderr",
     "output_type": "stream",
     "text": [
      "/Users/christian/Projects/Notion-Bookshelf/.venv/lib/python3.10/site-packages/urllib3/connectionpool.py:1099: InsecureRequestWarning: Unverified HTTPS request is being made to host 'api.notion.com'. Adding certificate verification is strongly advised. See: https://urllib3.readthedocs.io/en/latest/advanced-usage.html#tls-warnings\n",
      "  warnings.warn(\n"
     ]
    },
    {
     "name": "stdout",
     "output_type": "stream",
     "text": [
      "200\n",
      "<bound method Response.json of <Response [200]>>\n",
      "{\"cover\": {\"type\": \"external\", \"external\": {\"url\": \"http://books.google.com/books/content?id=JJkntBDeEeQC&printsec=frontcover&img=1&zoom=5&edge=curl&source=gbs_api\"}}}\n"
     ]
    },
    {
     "name": "stderr",
     "output_type": "stream",
     "text": [
      "/Users/christian/Projects/Notion-Bookshelf/.venv/lib/python3.10/site-packages/urllib3/connectionpool.py:1099: InsecureRequestWarning: Unverified HTTPS request is being made to host 'api.notion.com'. Adding certificate verification is strongly advised. See: https://urllib3.readthedocs.io/en/latest/advanced-usage.html#tls-warnings\n",
      "  warnings.warn(\n"
     ]
    },
    {
     "name": "stdout",
     "output_type": "stream",
     "text": [
      "200\n",
      "<bound method Response.json of <Response [200]>>\n",
      "{\"cover\": {\"type\": \"external\", \"external\": {\"url\": NaN}}}\n"
     ]
    },
    {
     "name": "stderr",
     "output_type": "stream",
     "text": [
      "/Users/christian/Projects/Notion-Bookshelf/.venv/lib/python3.10/site-packages/urllib3/connectionpool.py:1099: InsecureRequestWarning: Unverified HTTPS request is being made to host 'api.notion.com'. Adding certificate verification is strongly advised. See: https://urllib3.readthedocs.io/en/latest/advanced-usage.html#tls-warnings\n",
      "  warnings.warn(\n"
     ]
    },
    {
     "name": "stdout",
     "output_type": "stream",
     "text": [
      "400\n",
      "<bound method Response.json of <Response [400]>>\n",
      "{\"cover\": {\"type\": \"external\", \"external\": {\"url\": \"http://books.google.com/books/content?id=zFOtCAAAQBAJ&printsec=frontcover&img=1&zoom=5&edge=curl&source=gbs_api\"}}}\n"
     ]
    },
    {
     "name": "stderr",
     "output_type": "stream",
     "text": [
      "/Users/christian/Projects/Notion-Bookshelf/.venv/lib/python3.10/site-packages/urllib3/connectionpool.py:1099: InsecureRequestWarning: Unverified HTTPS request is being made to host 'api.notion.com'. Adding certificate verification is strongly advised. See: https://urllib3.readthedocs.io/en/latest/advanced-usage.html#tls-warnings\n",
      "  warnings.warn(\n"
     ]
    },
    {
     "name": "stdout",
     "output_type": "stream",
     "text": [
      "200\n",
      "<bound method Response.json of <Response [200]>>\n",
      "{\"cover\": {\"type\": \"external\", \"external\": {\"url\": \"http://books.google.com/books/content?id=-5grEAAAQBAJ&printsec=frontcover&img=1&zoom=5&edge=curl&source=gbs_api\"}}}\n"
     ]
    },
    {
     "name": "stderr",
     "output_type": "stream",
     "text": [
      "/Users/christian/Projects/Notion-Bookshelf/.venv/lib/python3.10/site-packages/urllib3/connectionpool.py:1099: InsecureRequestWarning: Unverified HTTPS request is being made to host 'api.notion.com'. Adding certificate verification is strongly advised. See: https://urllib3.readthedocs.io/en/latest/advanced-usage.html#tls-warnings\n",
      "  warnings.warn(\n"
     ]
    },
    {
     "name": "stdout",
     "output_type": "stream",
     "text": [
      "200\n",
      "<bound method Response.json of <Response [200]>>\n",
      "{\"cover\": {\"type\": \"external\", \"external\": {\"url\": \"http://books.google.com/books/content?id=kSFZEAAAQBAJ&printsec=frontcover&img=1&zoom=5&edge=curl&source=gbs_api\"}}}\n"
     ]
    },
    {
     "name": "stderr",
     "output_type": "stream",
     "text": [
      "/Users/christian/Projects/Notion-Bookshelf/.venv/lib/python3.10/site-packages/urllib3/connectionpool.py:1099: InsecureRequestWarning: Unverified HTTPS request is being made to host 'api.notion.com'. Adding certificate verification is strongly advised. See: https://urllib3.readthedocs.io/en/latest/advanced-usage.html#tls-warnings\n",
      "  warnings.warn(\n"
     ]
    },
    {
     "name": "stdout",
     "output_type": "stream",
     "text": [
      "200\n",
      "<bound method Response.json of <Response [200]>>\n",
      "{\"cover\": {\"type\": \"external\", \"external\": {\"url\": NaN}}}\n"
     ]
    },
    {
     "name": "stderr",
     "output_type": "stream",
     "text": [
      "/Users/christian/Projects/Notion-Bookshelf/.venv/lib/python3.10/site-packages/urllib3/connectionpool.py:1099: InsecureRequestWarning: Unverified HTTPS request is being made to host 'api.notion.com'. Adding certificate verification is strongly advised. See: https://urllib3.readthedocs.io/en/latest/advanced-usage.html#tls-warnings\n",
      "  warnings.warn(\n"
     ]
    },
    {
     "name": "stdout",
     "output_type": "stream",
     "text": [
      "400\n",
      "<bound method Response.json of <Response [400]>>\n",
      "{\"cover\": {\"type\": \"external\", \"external\": {\"url\": \"http://books.google.com/books/content?id=1FoqDwAAQBAJ&printsec=frontcover&img=1&zoom=5&edge=curl&source=gbs_api\"}}}\n"
     ]
    },
    {
     "name": "stderr",
     "output_type": "stream",
     "text": [
      "/Users/christian/Projects/Notion-Bookshelf/.venv/lib/python3.10/site-packages/urllib3/connectionpool.py:1099: InsecureRequestWarning: Unverified HTTPS request is being made to host 'api.notion.com'. Adding certificate verification is strongly advised. See: https://urllib3.readthedocs.io/en/latest/advanced-usage.html#tls-warnings\n",
      "  warnings.warn(\n"
     ]
    },
    {
     "name": "stdout",
     "output_type": "stream",
     "text": [
      "200\n",
      "<bound method Response.json of <Response [200]>>\n",
      "{\"cover\": {\"type\": \"external\", \"external\": {\"url\": \"http://books.google.com/books/content?id=DtD9DwAAQBAJ&printsec=frontcover&img=1&zoom=5&edge=curl&source=gbs_api\"}}}\n"
     ]
    },
    {
     "name": "stderr",
     "output_type": "stream",
     "text": [
      "/Users/christian/Projects/Notion-Bookshelf/.venv/lib/python3.10/site-packages/urllib3/connectionpool.py:1099: InsecureRequestWarning: Unverified HTTPS request is being made to host 'api.notion.com'. Adding certificate verification is strongly advised. See: https://urllib3.readthedocs.io/en/latest/advanced-usage.html#tls-warnings\n",
      "  warnings.warn(\n"
     ]
    },
    {
     "name": "stdout",
     "output_type": "stream",
     "text": [
      "200\n",
      "<bound method Response.json of <Response [200]>>\n",
      "{\"cover\": {\"type\": \"external\", \"external\": {\"url\": \"http://books.google.com/books/content?id=lmWzBgAAQBAJ&printsec=frontcover&img=1&zoom=5&edge=curl&source=gbs_api\"}}}\n"
     ]
    },
    {
     "name": "stderr",
     "output_type": "stream",
     "text": [
      "/Users/christian/Projects/Notion-Bookshelf/.venv/lib/python3.10/site-packages/urllib3/connectionpool.py:1099: InsecureRequestWarning: Unverified HTTPS request is being made to host 'api.notion.com'. Adding certificate verification is strongly advised. See: https://urllib3.readthedocs.io/en/latest/advanced-usage.html#tls-warnings\n",
      "  warnings.warn(\n"
     ]
    },
    {
     "name": "stdout",
     "output_type": "stream",
     "text": [
      "200\n",
      "<bound method Response.json of <Response [200]>>\n",
      "{\"cover\": {\"type\": \"external\", \"external\": {\"url\": \"http://books.google.com/books/content?id=zLifEAAAQBAJ&printsec=frontcover&img=1&zoom=5&edge=curl&source=gbs_api\"}}}\n"
     ]
    },
    {
     "name": "stderr",
     "output_type": "stream",
     "text": [
      "/Users/christian/Projects/Notion-Bookshelf/.venv/lib/python3.10/site-packages/urllib3/connectionpool.py:1099: InsecureRequestWarning: Unverified HTTPS request is being made to host 'api.notion.com'. Adding certificate verification is strongly advised. See: https://urllib3.readthedocs.io/en/latest/advanced-usage.html#tls-warnings\n",
      "  warnings.warn(\n"
     ]
    },
    {
     "name": "stdout",
     "output_type": "stream",
     "text": [
      "200\n",
      "<bound method Response.json of <Response [200]>>\n",
      "{\"cover\": {\"type\": \"external\", \"external\": {\"url\": \"http://books.google.com/books/content?id=VbcKEQAAQBAJ&printsec=frontcover&img=1&zoom=5&edge=curl&source=gbs_api\"}}}\n"
     ]
    },
    {
     "name": "stderr",
     "output_type": "stream",
     "text": [
      "/Users/christian/Projects/Notion-Bookshelf/.venv/lib/python3.10/site-packages/urllib3/connectionpool.py:1099: InsecureRequestWarning: Unverified HTTPS request is being made to host 'api.notion.com'. Adding certificate verification is strongly advised. See: https://urllib3.readthedocs.io/en/latest/advanced-usage.html#tls-warnings\n",
      "  warnings.warn(\n"
     ]
    },
    {
     "name": "stdout",
     "output_type": "stream",
     "text": [
      "200\n",
      "<bound method Response.json of <Response [200]>>\n",
      "{\"cover\": {\"type\": \"external\", \"external\": {\"url\": \"http://books.google.com/books/content?id=GFqvDwAAQBAJ&printsec=frontcover&img=1&zoom=5&edge=curl&source=gbs_api\"}}}\n"
     ]
    },
    {
     "name": "stderr",
     "output_type": "stream",
     "text": [
      "/Users/christian/Projects/Notion-Bookshelf/.venv/lib/python3.10/site-packages/urllib3/connectionpool.py:1099: InsecureRequestWarning: Unverified HTTPS request is being made to host 'api.notion.com'. Adding certificate verification is strongly advised. See: https://urllib3.readthedocs.io/en/latest/advanced-usage.html#tls-warnings\n",
      "  warnings.warn(\n"
     ]
    },
    {
     "name": "stdout",
     "output_type": "stream",
     "text": [
      "200\n",
      "<bound method Response.json of <Response [200]>>\n",
      "{\"cover\": {\"type\": \"external\", \"external\": {\"url\": NaN}}}\n"
     ]
    },
    {
     "name": "stderr",
     "output_type": "stream",
     "text": [
      "/Users/christian/Projects/Notion-Bookshelf/.venv/lib/python3.10/site-packages/urllib3/connectionpool.py:1099: InsecureRequestWarning: Unverified HTTPS request is being made to host 'api.notion.com'. Adding certificate verification is strongly advised. See: https://urllib3.readthedocs.io/en/latest/advanced-usage.html#tls-warnings\n",
      "  warnings.warn(\n"
     ]
    },
    {
     "name": "stdout",
     "output_type": "stream",
     "text": [
      "400\n",
      "<bound method Response.json of <Response [400]>>\n",
      "{\"cover\": {\"type\": \"external\", \"external\": {\"url\": NaN}}}\n"
     ]
    },
    {
     "name": "stderr",
     "output_type": "stream",
     "text": [
      "/Users/christian/Projects/Notion-Bookshelf/.venv/lib/python3.10/site-packages/urllib3/connectionpool.py:1099: InsecureRequestWarning: Unverified HTTPS request is being made to host 'api.notion.com'. Adding certificate verification is strongly advised. See: https://urllib3.readthedocs.io/en/latest/advanced-usage.html#tls-warnings\n",
      "  warnings.warn(\n"
     ]
    },
    {
     "name": "stdout",
     "output_type": "stream",
     "text": [
      "400\n",
      "<bound method Response.json of <Response [400]>>\n",
      "{\"cover\": {\"type\": \"external\", \"external\": {\"url\": \"http://books.google.com/books/content?id=REgpEAAAQBAJ&printsec=frontcover&img=1&zoom=5&edge=curl&source=gbs_api\"}}}\n"
     ]
    },
    {
     "name": "stderr",
     "output_type": "stream",
     "text": [
      "/Users/christian/Projects/Notion-Bookshelf/.venv/lib/python3.10/site-packages/urllib3/connectionpool.py:1099: InsecureRequestWarning: Unverified HTTPS request is being made to host 'api.notion.com'. Adding certificate verification is strongly advised. See: https://urllib3.readthedocs.io/en/latest/advanced-usage.html#tls-warnings\n",
      "  warnings.warn(\n"
     ]
    },
    {
     "name": "stdout",
     "output_type": "stream",
     "text": [
      "200\n",
      "<bound method Response.json of <Response [200]>>\n",
      "{\"cover\": {\"type\": \"external\", \"external\": {\"url\": NaN}}}\n"
     ]
    },
    {
     "name": "stderr",
     "output_type": "stream",
     "text": [
      "/Users/christian/Projects/Notion-Bookshelf/.venv/lib/python3.10/site-packages/urllib3/connectionpool.py:1099: InsecureRequestWarning: Unverified HTTPS request is being made to host 'api.notion.com'. Adding certificate verification is strongly advised. See: https://urllib3.readthedocs.io/en/latest/advanced-usage.html#tls-warnings\n",
      "  warnings.warn(\n"
     ]
    },
    {
     "name": "stdout",
     "output_type": "stream",
     "text": [
      "400\n",
      "<bound method Response.json of <Response [400]>>\n",
      "{\"cover\": {\"type\": \"external\", \"external\": {\"url\": \"http://books.google.com/books/content?id=nHPZBQAAQBAJ&printsec=frontcover&img=1&zoom=5&edge=curl&source=gbs_api\"}}}\n"
     ]
    },
    {
     "name": "stderr",
     "output_type": "stream",
     "text": [
      "/Users/christian/Projects/Notion-Bookshelf/.venv/lib/python3.10/site-packages/urllib3/connectionpool.py:1099: InsecureRequestWarning: Unverified HTTPS request is being made to host 'api.notion.com'. Adding certificate verification is strongly advised. See: https://urllib3.readthedocs.io/en/latest/advanced-usage.html#tls-warnings\n",
      "  warnings.warn(\n"
     ]
    },
    {
     "name": "stdout",
     "output_type": "stream",
     "text": [
      "200\n",
      "<bound method Response.json of <Response [200]>>\n",
      "{\"cover\": {\"type\": \"external\", \"external\": {\"url\": \"http://books.google.com/books/content?id=1GAGEAAAQBAJ&printsec=frontcover&img=1&zoom=5&edge=curl&source=gbs_api\"}}}\n"
     ]
    },
    {
     "name": "stderr",
     "output_type": "stream",
     "text": [
      "/Users/christian/Projects/Notion-Bookshelf/.venv/lib/python3.10/site-packages/urllib3/connectionpool.py:1099: InsecureRequestWarning: Unverified HTTPS request is being made to host 'api.notion.com'. Adding certificate verification is strongly advised. See: https://urllib3.readthedocs.io/en/latest/advanced-usage.html#tls-warnings\n",
      "  warnings.warn(\n"
     ]
    },
    {
     "name": "stdout",
     "output_type": "stream",
     "text": [
      "200\n",
      "<bound method Response.json of <Response [200]>>\n",
      "{\"cover\": {\"type\": \"external\", \"external\": {\"url\": \"http://books.google.com/books/content?id=wcdvAAAACAAJ&printsec=frontcover&img=1&zoom=5&source=gbs_api\"}}}\n"
     ]
    },
    {
     "name": "stderr",
     "output_type": "stream",
     "text": [
      "/Users/christian/Projects/Notion-Bookshelf/.venv/lib/python3.10/site-packages/urllib3/connectionpool.py:1099: InsecureRequestWarning: Unverified HTTPS request is being made to host 'api.notion.com'. Adding certificate verification is strongly advised. See: https://urllib3.readthedocs.io/en/latest/advanced-usage.html#tls-warnings\n",
      "  warnings.warn(\n"
     ]
    },
    {
     "name": "stdout",
     "output_type": "stream",
     "text": [
      "200\n",
      "<bound method Response.json of <Response [200]>>\n",
      "{\"cover\": {\"type\": \"external\", \"external\": {\"url\": NaN}}}\n"
     ]
    },
    {
     "name": "stderr",
     "output_type": "stream",
     "text": [
      "/Users/christian/Projects/Notion-Bookshelf/.venv/lib/python3.10/site-packages/urllib3/connectionpool.py:1099: InsecureRequestWarning: Unverified HTTPS request is being made to host 'api.notion.com'. Adding certificate verification is strongly advised. See: https://urllib3.readthedocs.io/en/latest/advanced-usage.html#tls-warnings\n",
      "  warnings.warn(\n"
     ]
    },
    {
     "name": "stdout",
     "output_type": "stream",
     "text": [
      "400\n",
      "<bound method Response.json of <Response [400]>>\n",
      "{\"cover\": {\"type\": \"external\", \"external\": {\"url\": \"http://books.google.com/books/content?id=6yBdDwAAQBAJ&printsec=frontcover&img=1&zoom=5&edge=curl&source=gbs_api\"}}}\n"
     ]
    },
    {
     "name": "stderr",
     "output_type": "stream",
     "text": [
      "/Users/christian/Projects/Notion-Bookshelf/.venv/lib/python3.10/site-packages/urllib3/connectionpool.py:1099: InsecureRequestWarning: Unverified HTTPS request is being made to host 'api.notion.com'. Adding certificate verification is strongly advised. See: https://urllib3.readthedocs.io/en/latest/advanced-usage.html#tls-warnings\n",
      "  warnings.warn(\n"
     ]
    },
    {
     "name": "stdout",
     "output_type": "stream",
     "text": [
      "200\n",
      "<bound method Response.json of <Response [200]>>\n",
      "{\"cover\": {\"type\": \"external\", \"external\": {\"url\": \"http://books.google.com/books/content?id=mpW2DwAAQBAJ&printsec=frontcover&img=1&zoom=5&edge=curl&source=gbs_api\"}}}\n"
     ]
    },
    {
     "name": "stderr",
     "output_type": "stream",
     "text": [
      "/Users/christian/Projects/Notion-Bookshelf/.venv/lib/python3.10/site-packages/urllib3/connectionpool.py:1099: InsecureRequestWarning: Unverified HTTPS request is being made to host 'api.notion.com'. Adding certificate verification is strongly advised. See: https://urllib3.readthedocs.io/en/latest/advanced-usage.html#tls-warnings\n",
      "  warnings.warn(\n"
     ]
    },
    {
     "name": "stdout",
     "output_type": "stream",
     "text": [
      "200\n",
      "<bound method Response.json of <Response [200]>>\n",
      "{\"cover\": {\"type\": \"external\", \"external\": {\"url\": \"http://books.google.com/books/content?id=JOIrEAAAQBAJ&printsec=frontcover&img=1&zoom=5&edge=curl&source=gbs_api\"}}}\n"
     ]
    },
    {
     "name": "stderr",
     "output_type": "stream",
     "text": [
      "/Users/christian/Projects/Notion-Bookshelf/.venv/lib/python3.10/site-packages/urllib3/connectionpool.py:1099: InsecureRequestWarning: Unverified HTTPS request is being made to host 'api.notion.com'. Adding certificate verification is strongly advised. See: https://urllib3.readthedocs.io/en/latest/advanced-usage.html#tls-warnings\n",
      "  warnings.warn(\n"
     ]
    },
    {
     "name": "stdout",
     "output_type": "stream",
     "text": [
      "200\n",
      "<bound method Response.json of <Response [200]>>\n",
      "{\"cover\": {\"type\": \"external\", \"external\": {\"url\": \"http://books.google.com/books/content?id=W26nAAAACAAJ&printsec=frontcover&img=1&zoom=5&source=gbs_api\"}}}\n"
     ]
    },
    {
     "name": "stderr",
     "output_type": "stream",
     "text": [
      "/Users/christian/Projects/Notion-Bookshelf/.venv/lib/python3.10/site-packages/urllib3/connectionpool.py:1099: InsecureRequestWarning: Unverified HTTPS request is being made to host 'api.notion.com'. Adding certificate verification is strongly advised. See: https://urllib3.readthedocs.io/en/latest/advanced-usage.html#tls-warnings\n",
      "  warnings.warn(\n"
     ]
    },
    {
     "name": "stdout",
     "output_type": "stream",
     "text": [
      "200\n",
      "<bound method Response.json of <Response [200]>>\n",
      "{\"cover\": {\"type\": \"external\", \"external\": {\"url\": \"http://books.google.com/books/content?id=KpLpyx_lFqkC&printsec=frontcover&img=1&zoom=5&edge=curl&source=gbs_api\"}}}\n"
     ]
    },
    {
     "name": "stderr",
     "output_type": "stream",
     "text": [
      "/Users/christian/Projects/Notion-Bookshelf/.venv/lib/python3.10/site-packages/urllib3/connectionpool.py:1099: InsecureRequestWarning: Unverified HTTPS request is being made to host 'api.notion.com'. Adding certificate verification is strongly advised. See: https://urllib3.readthedocs.io/en/latest/advanced-usage.html#tls-warnings\n",
      "  warnings.warn(\n"
     ]
    },
    {
     "name": "stdout",
     "output_type": "stream",
     "text": [
      "200\n",
      "<bound method Response.json of <Response [200]>>\n",
      "{\"cover\": {\"type\": \"external\", \"external\": {\"url\": \"http://books.google.com/books/content?id=eBC7DwAAQBAJ&printsec=frontcover&img=1&zoom=5&edge=curl&source=gbs_api\"}}}\n"
     ]
    },
    {
     "name": "stderr",
     "output_type": "stream",
     "text": [
      "/Users/christian/Projects/Notion-Bookshelf/.venv/lib/python3.10/site-packages/urllib3/connectionpool.py:1099: InsecureRequestWarning: Unverified HTTPS request is being made to host 'api.notion.com'. Adding certificate verification is strongly advised. See: https://urllib3.readthedocs.io/en/latest/advanced-usage.html#tls-warnings\n",
      "  warnings.warn(\n"
     ]
    },
    {
     "name": "stdout",
     "output_type": "stream",
     "text": [
      "200\n",
      "<bound method Response.json of <Response [200]>>\n",
      "{\"cover\": {\"type\": \"external\", \"external\": {\"url\": \"http://books.google.com/books/content?id=MMsfjgEACAAJ&printsec=frontcover&img=1&zoom=5&source=gbs_api\"}}}\n"
     ]
    },
    {
     "name": "stderr",
     "output_type": "stream",
     "text": [
      "/Users/christian/Projects/Notion-Bookshelf/.venv/lib/python3.10/site-packages/urllib3/connectionpool.py:1099: InsecureRequestWarning: Unverified HTTPS request is being made to host 'api.notion.com'. Adding certificate verification is strongly advised. See: https://urllib3.readthedocs.io/en/latest/advanced-usage.html#tls-warnings\n",
      "  warnings.warn(\n"
     ]
    },
    {
     "name": "stdout",
     "output_type": "stream",
     "text": [
      "200\n",
      "<bound method Response.json of <Response [200]>>\n",
      "{\"cover\": {\"type\": \"external\", \"external\": {\"url\": \"http://books.google.com/books/content?id=co2RDwAAQBAJ&printsec=frontcover&img=1&zoom=5&edge=curl&source=gbs_api\"}}}\n"
     ]
    },
    {
     "name": "stderr",
     "output_type": "stream",
     "text": [
      "/Users/christian/Projects/Notion-Bookshelf/.venv/lib/python3.10/site-packages/urllib3/connectionpool.py:1099: InsecureRequestWarning: Unverified HTTPS request is being made to host 'api.notion.com'. Adding certificate verification is strongly advised. See: https://urllib3.readthedocs.io/en/latest/advanced-usage.html#tls-warnings\n",
      "  warnings.warn(\n"
     ]
    },
    {
     "name": "stdout",
     "output_type": "stream",
     "text": [
      "200\n",
      "<bound method Response.json of <Response [200]>>\n",
      "{\"cover\": {\"type\": \"external\", \"external\": {\"url\": \"http://books.google.com/books/content?id=1E-WEAAAQBAJ&printsec=frontcover&img=1&zoom=5&edge=curl&source=gbs_api\"}}}\n"
     ]
    },
    {
     "name": "stderr",
     "output_type": "stream",
     "text": [
      "/Users/christian/Projects/Notion-Bookshelf/.venv/lib/python3.10/site-packages/urllib3/connectionpool.py:1099: InsecureRequestWarning: Unverified HTTPS request is being made to host 'api.notion.com'. Adding certificate verification is strongly advised. See: https://urllib3.readthedocs.io/en/latest/advanced-usage.html#tls-warnings\n",
      "  warnings.warn(\n"
     ]
    },
    {
     "name": "stdout",
     "output_type": "stream",
     "text": [
      "200\n",
      "<bound method Response.json of <Response [200]>>\n",
      "{\"cover\": {\"type\": \"external\", \"external\": {\"url\": \"http://books.google.com/books/content?id=xnRlDQAAQBAJ&printsec=frontcover&img=1&zoom=5&source=gbs_api\"}}}\n"
     ]
    },
    {
     "name": "stderr",
     "output_type": "stream",
     "text": [
      "/Users/christian/Projects/Notion-Bookshelf/.venv/lib/python3.10/site-packages/urllib3/connectionpool.py:1099: InsecureRequestWarning: Unverified HTTPS request is being made to host 'api.notion.com'. Adding certificate verification is strongly advised. See: https://urllib3.readthedocs.io/en/latest/advanced-usage.html#tls-warnings\n",
      "  warnings.warn(\n"
     ]
    },
    {
     "name": "stdout",
     "output_type": "stream",
     "text": [
      "200\n",
      "<bound method Response.json of <Response [200]>>\n",
      "{\"cover\": {\"type\": \"external\", \"external\": {\"url\": \"http://books.google.com/books/content?id=bV9ODwAAQBAJ&printsec=frontcover&img=1&zoom=5&edge=curl&source=gbs_api\"}}}\n"
     ]
    },
    {
     "name": "stderr",
     "output_type": "stream",
     "text": [
      "/Users/christian/Projects/Notion-Bookshelf/.venv/lib/python3.10/site-packages/urllib3/connectionpool.py:1099: InsecureRequestWarning: Unverified HTTPS request is being made to host 'api.notion.com'. Adding certificate verification is strongly advised. See: https://urllib3.readthedocs.io/en/latest/advanced-usage.html#tls-warnings\n",
      "  warnings.warn(\n"
     ]
    },
    {
     "name": "stdout",
     "output_type": "stream",
     "text": [
      "200\n",
      "<bound method Response.json of <Response [200]>>\n",
      "{\"cover\": {\"type\": \"external\", \"external\": {\"url\": \"http://books.google.com/books/content?id=wdy6DwAAQBAJ&printsec=frontcover&img=1&zoom=5&edge=curl&source=gbs_api\"}}}\n"
     ]
    },
    {
     "name": "stderr",
     "output_type": "stream",
     "text": [
      "/Users/christian/Projects/Notion-Bookshelf/.venv/lib/python3.10/site-packages/urllib3/connectionpool.py:1099: InsecureRequestWarning: Unverified HTTPS request is being made to host 'api.notion.com'. Adding certificate verification is strongly advised. See: https://urllib3.readthedocs.io/en/latest/advanced-usage.html#tls-warnings\n",
      "  warnings.warn(\n"
     ]
    },
    {
     "name": "stdout",
     "output_type": "stream",
     "text": [
      "200\n",
      "<bound method Response.json of <Response [200]>>\n",
      "{\"cover\": {\"type\": \"external\", \"external\": {\"url\": \"http://books.google.com/books/content?id=lqEtBAAAQBAJ&printsec=frontcover&img=1&zoom=5&edge=curl&source=gbs_api\"}}}\n"
     ]
    },
    {
     "name": "stderr",
     "output_type": "stream",
     "text": [
      "/Users/christian/Projects/Notion-Bookshelf/.venv/lib/python3.10/site-packages/urllib3/connectionpool.py:1099: InsecureRequestWarning: Unverified HTTPS request is being made to host 'api.notion.com'. Adding certificate verification is strongly advised. See: https://urllib3.readthedocs.io/en/latest/advanced-usage.html#tls-warnings\n",
      "  warnings.warn(\n"
     ]
    },
    {
     "name": "stdout",
     "output_type": "stream",
     "text": [
      "200\n",
      "<bound method Response.json of <Response [200]>>\n",
      "{\"cover\": {\"type\": \"external\", \"external\": {\"url\": NaN}}}\n"
     ]
    },
    {
     "name": "stderr",
     "output_type": "stream",
     "text": [
      "/Users/christian/Projects/Notion-Bookshelf/.venv/lib/python3.10/site-packages/urllib3/connectionpool.py:1099: InsecureRequestWarning: Unverified HTTPS request is being made to host 'api.notion.com'. Adding certificate verification is strongly advised. See: https://urllib3.readthedocs.io/en/latest/advanced-usage.html#tls-warnings\n",
      "  warnings.warn(\n"
     ]
    },
    {
     "name": "stdout",
     "output_type": "stream",
     "text": [
      "400\n",
      "<bound method Response.json of <Response [400]>>\n",
      "{\"cover\": {\"type\": \"external\", \"external\": {\"url\": \"http://books.google.com/books/content?id=rR3bIFq3rC0C&printsec=frontcover&img=1&zoom=5&edge=curl&source=gbs_api\"}}}\n"
     ]
    },
    {
     "name": "stderr",
     "output_type": "stream",
     "text": [
      "/Users/christian/Projects/Notion-Bookshelf/.venv/lib/python3.10/site-packages/urllib3/connectionpool.py:1099: InsecureRequestWarning: Unverified HTTPS request is being made to host 'api.notion.com'. Adding certificate verification is strongly advised. See: https://urllib3.readthedocs.io/en/latest/advanced-usage.html#tls-warnings\n",
      "  warnings.warn(\n"
     ]
    },
    {
     "name": "stdout",
     "output_type": "stream",
     "text": [
      "200\n",
      "<bound method Response.json of <Response [200]>>\n",
      "{\"cover\": {\"type\": \"external\", \"external\": {\"url\": \"http://books.google.com/books/content?id=1nf4DwAAQBAJ&printsec=frontcover&img=1&zoom=5&edge=curl&source=gbs_api\"}}}\n"
     ]
    },
    {
     "name": "stderr",
     "output_type": "stream",
     "text": [
      "/Users/christian/Projects/Notion-Bookshelf/.venv/lib/python3.10/site-packages/urllib3/connectionpool.py:1099: InsecureRequestWarning: Unverified HTTPS request is being made to host 'api.notion.com'. Adding certificate verification is strongly advised. See: https://urllib3.readthedocs.io/en/latest/advanced-usage.html#tls-warnings\n",
      "  warnings.warn(\n"
     ]
    },
    {
     "name": "stdout",
     "output_type": "stream",
     "text": [
      "200\n",
      "<bound method Response.json of <Response [200]>>\n",
      "{\"cover\": {\"type\": \"external\", \"external\": {\"url\": NaN}}}\n"
     ]
    },
    {
     "name": "stderr",
     "output_type": "stream",
     "text": [
      "/Users/christian/Projects/Notion-Bookshelf/.venv/lib/python3.10/site-packages/urllib3/connectionpool.py:1099: InsecureRequestWarning: Unverified HTTPS request is being made to host 'api.notion.com'. Adding certificate verification is strongly advised. See: https://urllib3.readthedocs.io/en/latest/advanced-usage.html#tls-warnings\n",
      "  warnings.warn(\n"
     ]
    },
    {
     "name": "stdout",
     "output_type": "stream",
     "text": [
      "400\n",
      "<bound method Response.json of <Response [400]>>\n",
      "{\"cover\": {\"type\": \"external\", \"external\": {\"url\": \"http://books.google.com/books/content?id=dN2aEAAAQBAJ&printsec=frontcover&img=1&zoom=5&edge=curl&source=gbs_api\"}}}\n"
     ]
    },
    {
     "name": "stderr",
     "output_type": "stream",
     "text": [
      "/Users/christian/Projects/Notion-Bookshelf/.venv/lib/python3.10/site-packages/urllib3/connectionpool.py:1099: InsecureRequestWarning: Unverified HTTPS request is being made to host 'api.notion.com'. Adding certificate verification is strongly advised. See: https://urllib3.readthedocs.io/en/latest/advanced-usage.html#tls-warnings\n",
      "  warnings.warn(\n"
     ]
    },
    {
     "name": "stdout",
     "output_type": "stream",
     "text": [
      "200\n",
      "<bound method Response.json of <Response [200]>>\n"
     ]
    }
   ],
   "source": [
    "# Update cover for pages\n",
    "for i in look_up['page_id'].index:\n",
    "    update_page_icon(i, data_column, 'cover')"
   ]
  },
  {
   "cell_type": "markdown",
   "id": "564932c8",
   "metadata": {},
   "source": [
    "This should have your Reading list notion page updated with Icons, Covers along with Publisher names, published dates, page counts, etc. You can toggle to Gallery view and you have your very own gorgeous Notion books shelf.\n",
    "<img src=\"https://i.ibb.co/dkqj9Nk/Screen-Shot-2021-12-30-at-12-18-25-PM.png\" alt=\"Screen-Shot-2021-12-30-at-12-18-25-PM\" border=\"0\">\n",
    "## Useful Links\n",
    "\n",
    "- [https://developers.notion.com/](https://developers.notion.com/)\n",
    "- [https://towardsdatascience.com/productivity-tracking-with-the-notion-api-and-python-f5f866fe11d8](https://towardsdatascience.com/productivity-tracking-with-the-notion-api-and-python-f5f866fe11d8)"
   ]
  },
  {
   "cell_type": "markdown",
   "id": "4cd4b56e",
   "metadata": {},
   "source": [
    "## Sandbox"
   ]
  },
  {
   "cell_type": "code",
   "execution_count": 322,
   "id": "f3f3a606",
   "metadata": {},
   "outputs": [
    {
     "data": {
      "text/html": [
       "<div>\n",
       "<style scoped>\n",
       "    .dataframe tbody tr th:only-of-type {\n",
       "        vertical-align: middle;\n",
       "    }\n",
       "\n",
       "    .dataframe tbody tr th {\n",
       "        vertical-align: top;\n",
       "    }\n",
       "\n",
       "    .dataframe thead th {\n",
       "        text-align: right;\n",
       "    }\n",
       "</style>\n",
       "<table border=\"1\" class=\"dataframe\">\n",
       "  <thead>\n",
       "    <tr style=\"text-align: right;\">\n",
       "      <th></th>\n",
       "      <th>index_x</th>\n",
       "      <th>Type</th>\n",
       "      <th>Summary</th>\n",
       "      <th>Author</th>\n",
       "      <th>Created Time</th>\n",
       "      <th>Topic</th>\n",
       "      <th>Name</th>\n",
       "      <th>page_url</th>\n",
       "      <th>Score /5</th>\n",
       "      <th>Status</th>\n",
       "      <th>...</th>\n",
       "      <th>volumeInfo.publisher</th>\n",
       "      <th>volumeInfo.publishedDate</th>\n",
       "      <th>volumeInfo.description</th>\n",
       "      <th>volumeInfo.pageCount</th>\n",
       "      <th>volumeInfo.categories</th>\n",
       "      <th>volumeInfo.imageLinks.smallThumbnail</th>\n",
       "      <th>saleInfo.country</th>\n",
       "      <th>saleInfo.retailPrice.amount</th>\n",
       "      <th>saleInfo.retailPrice.currencyCode</th>\n",
       "      <th>search_term</th>\n",
       "    </tr>\n",
       "  </thead>\n",
       "  <tbody>\n",
       "    <tr>\n",
       "      <th>3</th>\n",
       "      <td>0</td>\n",
       "      <td>{'id': '/7eo', 'type': 'select', 'select': {'i...</td>\n",
       "      <td>{'id': '?\\25', 'type': 'rich_text', 'rich_text...</td>\n",
       "      <td>{'id': 'qNw_', 'type': 'multi_select', 'multi_...</td>\n",
       "      <td>{'id': 'voOf', 'type': 'created_time', 'create...</td>\n",
       "      <td>{'id': '}\\gE', 'type': 'multi_select', 'multi_...</td>\n",
       "      <td>{'id': 'title', 'type': 'title', 'title': [{'t...</td>\n",
       "      <td>https://www.notion.so/Ask-your-developer-ee339...</td>\n",
       "      <td>NaN</td>\n",
       "      <td>{'id': '`zz5', 'type': 'select', 'select': {'i...</td>\n",
       "      <td>...</td>\n",
       "      <td>HarperCollins</td>\n",
       "      <td>2021-01-12</td>\n",
       "      <td>Jeff Lawson, software developer turned CEO of ...</td>\n",
       "      <td>304.0</td>\n",
       "      <td>[Business &amp; Economics]</td>\n",
       "      <td>http://books.google.com/books/content?id=lT3LD...</td>\n",
       "      <td>US</td>\n",
       "      <td>1.99</td>\n",
       "      <td>USD</td>\n",
       "      <td>Ask your developer</td>\n",
       "    </tr>\n",
       "    <tr>\n",
       "      <th>4</th>\n",
       "      <td>0</td>\n",
       "      <td>{'id': '/7eo', 'type': 'select', 'select': {'i...</td>\n",
       "      <td>{'id': '?\\25', 'type': 'rich_text', 'rich_text...</td>\n",
       "      <td>{'id': 'qNw_', 'type': 'multi_select', 'multi_...</td>\n",
       "      <td>{'id': 'voOf', 'type': 'created_time', 'create...</td>\n",
       "      <td>{'id': '}\\gE', 'type': 'multi_select', 'multi_...</td>\n",
       "      <td>{'id': 'title', 'type': 'title', 'title': [{'t...</td>\n",
       "      <td>https://www.notion.so/48-laws-of-power-9ae1a83...</td>\n",
       "      <td>{'id': ')Y7\"', 'type': 'select', 'select': {'i...</td>\n",
       "      <td>{'id': '`zz5', 'type': 'select', 'select': {'i...</td>\n",
       "      <td>...</td>\n",
       "      <td>NaN</td>\n",
       "      <td>1998-07-01</td>\n",
       "      <td>Cunning, instructive, and amoral, this controv...</td>\n",
       "      <td>452.0</td>\n",
       "      <td>NaN</td>\n",
       "      <td>http://books.google.com/books/content?id=k2meP...</td>\n",
       "      <td>US</td>\n",
       "      <td>NaN</td>\n",
       "      <td>NaN</td>\n",
       "      <td>48 laws of power</td>\n",
       "    </tr>\n",
       "  </tbody>\n",
       "</table>\n",
       "<p>2 rows × 34 columns</p>\n",
       "</div>"
      ],
      "text/plain": [
       "   index_x                                               Type  \\\n",
       "3        0  {'id': '/7eo', 'type': 'select', 'select': {'i...   \n",
       "4        0  {'id': '/7eo', 'type': 'select', 'select': {'i...   \n",
       "\n",
       "                                             Summary  \\\n",
       "3  {'id': '?\\25', 'type': 'rich_text', 'rich_text...   \n",
       "4  {'id': '?\\25', 'type': 'rich_text', 'rich_text...   \n",
       "\n",
       "                                              Author  \\\n",
       "3  {'id': 'qNw_', 'type': 'multi_select', 'multi_...   \n",
       "4  {'id': 'qNw_', 'type': 'multi_select', 'multi_...   \n",
       "\n",
       "                                        Created Time  \\\n",
       "3  {'id': 'voOf', 'type': 'created_time', 'create...   \n",
       "4  {'id': 'voOf', 'type': 'created_time', 'create...   \n",
       "\n",
       "                                               Topic  \\\n",
       "3  {'id': '}\\gE', 'type': 'multi_select', 'multi_...   \n",
       "4  {'id': '}\\gE', 'type': 'multi_select', 'multi_...   \n",
       "\n",
       "                                                Name  \\\n",
       "3  {'id': 'title', 'type': 'title', 'title': [{'t...   \n",
       "4  {'id': 'title', 'type': 'title', 'title': [{'t...   \n",
       "\n",
       "                                            page_url  \\\n",
       "3  https://www.notion.so/Ask-your-developer-ee339...   \n",
       "4  https://www.notion.so/48-laws-of-power-9ae1a83...   \n",
       "\n",
       "                                            Score /5  \\\n",
       "3                                                NaN   \n",
       "4  {'id': ')Y7\"', 'type': 'select', 'select': {'i...   \n",
       "\n",
       "                                              Status  ...  \\\n",
       "3  {'id': '`zz5', 'type': 'select', 'select': {'i...  ...   \n",
       "4  {'id': '`zz5', 'type': 'select', 'select': {'i...  ...   \n",
       "\n",
       "  volumeInfo.publisher volumeInfo.publishedDate  \\\n",
       "3        HarperCollins               2021-01-12   \n",
       "4                  NaN               1998-07-01   \n",
       "\n",
       "                              volumeInfo.description volumeInfo.pageCount  \\\n",
       "3  Jeff Lawson, software developer turned CEO of ...                304.0   \n",
       "4  Cunning, instructive, and amoral, this controv...                452.0   \n",
       "\n",
       "    volumeInfo.categories               volumeInfo.imageLinks.smallThumbnail  \\\n",
       "3  [Business & Economics]  http://books.google.com/books/content?id=lT3LD...   \n",
       "4                     NaN  http://books.google.com/books/content?id=k2meP...   \n",
       "\n",
       "  saleInfo.country saleInfo.retailPrice.amount  \\\n",
       "3               US                        1.99   \n",
       "4               US                         NaN   \n",
       "\n",
       "  saleInfo.retailPrice.currencyCode         search_term  \n",
       "3                               USD  Ask your developer  \n",
       "4                               NaN    48 laws of power  \n",
       "\n",
       "[2 rows x 34 columns]"
      ]
     },
     "execution_count": 322,
     "metadata": {},
     "output_type": "execute_result"
    }
   ],
   "source": [
    "look_up[3:5]"
   ]
  },
  {
   "cell_type": "code",
   "execution_count": 292,
   "id": "9f9802b8",
   "metadata": {},
   "outputs": [
    {
     "data": {
      "text/plain": [
       "Index(['index_x', 'Type', 'Summary', 'Author', 'Created Time', 'Topic', 'Name',\n",
       "       'page_url', 'Score /5', 'Status', 'Completed date', 'Publisher',\n",
       "       'Publishing/Release Date', 'Pages', 'Link', '_Name', '_Link', '_Author',\n",
       "       'page_id', 'index_y', 'selfLink', 'volumeInfo.title',\n",
       "       'volumeInfo.subtitle', 'volumeInfo.authors', 'volumeInfo.publisher',\n",
       "       'volumeInfo.publishedDate', 'volumeInfo.description',\n",
       "       'volumeInfo.pageCount', 'volumeInfo.categories',\n",
       "       'volumeInfo.imageLinks.smallThumbnail', 'saleInfo.country',\n",
       "       'saleInfo.retailPrice.amount', 'saleInfo.retailPrice.currencyCode',\n",
       "       'search_term'],\n",
       "      dtype='object')"
      ]
     },
     "execution_count": 292,
     "metadata": {},
     "output_type": "execute_result"
    }
   ],
   "source": [
    "look_up.columns"
   ]
  },
  {
   "cell_type": "code",
   "execution_count": 305,
   "id": "30d1cd56",
   "metadata": {},
   "outputs": [
    {
     "name": "stdout",
     "output_type": "stream",
     "text": [
      "083af95563db484fbb7a26f7c5e76aaa\n",
      "[{'type': 'text', 'text': {'content': 'Testing summary update'}}]\n",
      "{\"properties\": {\"Summary\": {\"rich_text\": [{\"type\": \"text\", \"text\": {\"content\": \"Testing summary update\"}}]}}}\n"
     ]
    },
    {
     "name": "stderr",
     "output_type": "stream",
     "text": [
      "/Users/deepgoyal/opt/anaconda3/lib/python3.8/site-packages/urllib3/connectionpool.py:1013: InsecureRequestWarning: Unverified HTTPS request is being made to host 'api.notion.com'. Adding certificate verification is strongly advised. See: https://urllib3.readthedocs.io/en/latest/advanced-usage.html#ssl-warnings\n",
      "  warnings.warn(\n"
     ]
    },
    {
     "name": "stdout",
     "output_type": "stream",
     "text": [
      "200\n",
      "<bound method Response.json of <Response [200]>>\n"
     ]
    }
   ],
   "source": [
    "page_id = look_up['page_id'][5]\n",
    "print(page_id)\n",
    "property_name = 'Status'\n",
    "property_type = \"select\"\n",
    "data_source = 'volumeInfo.description'\n",
    "property_value = 'Testing summary update'\n",
    "url = f\"https://api.notion.com/v1/pages/{page_id}\"\n",
    "\n",
    "if property_type == 'date':\n",
    "    property_payload = {\n",
    "        \"start\": property_value\n",
    "    }\n",
    "elif property_type == 'url':\n",
    "    property_payload = property_value\n",
    "elif property_type == 'number':\n",
    "    property_payload = property_value\n",
    "elif property_type == 'rich_text':\n",
    "    property_payload = [{\n",
    "        \"type\": \"text\",\n",
    "        \"text\": {\n",
    "            \"content\": property_value\n",
    "        }\n",
    "    }]\n",
    "\n",
    "payload = json.dumps({\n",
    "    \"properties\": {\n",
    "        property_name: {\n",
    "            property_type: property_payload\n",
    "        }\n",
    "    }\n",
    "})\n",
    "print(payload)\n",
    "\n",
    "headers = {\n",
    "    'Content-Type': 'application/json',\n",
    "    'Notion-Version': '2021-05-13',\n",
    "    'Authorization': f'Bearer {secret_key}'\n",
    "}\n",
    "\n",
    "response = requests.request(\n",
    "    \"PATCH\", url, headers=headers, data=payload, verify=False)\n",
    "print(response.status_code)\n",
    "print(response.json)"
   ]
  },
  {
   "cell_type": "code",
   "execution_count": 331,
   "id": "b4e6ad32",
   "metadata": {},
   "outputs": [
    {
     "name": "stdout",
     "output_type": "stream",
     "text": [
      "083af95563db484fbb7a26f7c5e76aaa\n",
      "http://books.google.com/books/content?id=ya7qDwAAQBAJ&printsec=frontcover&img=1&zoom=5&edge=curl&source=gbs_api\n",
      "https://www.notion.so/Spark-How-to-lead-yourself-and-others-to-greatness-083af95563db484fbb7a26f7c5e76aaa\n"
     ]
    }
   ],
   "source": [
    "page_id = look_up['page_id'][5]\n",
    "print(page_id)\n",
    "print(look_up.iloc[5]['volumeInfo.imageLinks.smallThumbnail'])\n",
    "print(look_up.iloc[5]['page_url'])"
   ]
  },
  {
   "cell_type": "code",
   "execution_count": null,
   "id": "5a092a82",
   "metadata": {},
   "outputs": [],
   "source": []
  }
 ],
 "metadata": {
  "kernelspec": {
   "display_name": "Python 3",
   "language": "python",
   "name": "python3"
  },
  "language_info": {
   "codemirror_mode": {
    "name": "ipython",
    "version": 3
   },
   "file_extension": ".py",
   "mimetype": "text/x-python",
   "name": "python",
   "nbconvert_exporter": "python",
   "pygments_lexer": "ipython3",
   "version": "3.10.14"
  }
 },
 "nbformat": 4,
 "nbformat_minor": 5
}
